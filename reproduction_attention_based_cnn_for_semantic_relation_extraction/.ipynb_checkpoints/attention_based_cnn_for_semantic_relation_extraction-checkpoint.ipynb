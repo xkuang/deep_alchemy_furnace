{
 "cells": [
  {
   "cell_type": "markdown",
   "metadata": {},
   "source": [
    "# Data Preprocessing"
   ]
  },
  {
   "cell_type": "markdown",
   "metadata": {},
   "source": [
    "## Get the Data"
   ]
  },
  {
   "cell_type": "code",
   "execution_count": 1,
   "metadata": {
    "collapsed": true
   },
   "outputs": [],
   "source": [
    "import os"
   ]
  },
  {
   "cell_type": "code",
   "execution_count": 2,
   "metadata": {
    "collapsed": true
   },
   "outputs": [],
   "source": [
    "def load_data(path):\n",
    "    \"\"\"\n",
    "    Load date from file\n",
    "    \"\"\"\n",
    "    input_file = os.path.join(path)\n",
    "    with open(input_file, 'r', encoding='utf-8') as f:\n",
    "        return f.read()"
   ]
  },
  {
   "cell_type": "code",
   "execution_count": 3,
   "metadata": {
    "collapsed": true
   },
   "outputs": [],
   "source": [
    "raw_data_path = 'raw_data.txt'\n",
    "raw_data = load_data(raw_data_path)"
   ]
  },
  {
   "cell_type": "markdown",
   "metadata": {},
   "source": [
    "## Explore the Data"
   ]
  },
  {
   "cell_type": "code",
   "execution_count": 4,
   "metadata": {
    "collapsed": true
   },
   "outputs": [],
   "source": [
    "import re"
   ]
  },
  {
   "cell_type": "code",
   "execution_count": 5,
   "metadata": {
    "collapsed": true
   },
   "outputs": [],
   "source": [
    "def clean1(raw_list):\n",
    "    \"\"\"\n",
    "    Merge eneity\n",
    "    \"\"\"\n",
    "    for i in range(len(raw_list)):\n",
    "        if len(raw_list[i]) == 3:\n",
    "            for j in range(3):\n",
    "                if not re.search('<e1>.+</e1>', raw_list[i][j]) and not re.search('<e2>.+</e2>', raw_list[i][j]):\n",
    "                    raw_list[i][j] = raw_list[i][j] + '+' + raw_list[i][j+1]\n",
    "                    del raw_list[i][j+1]\n",
    "                    break\n",
    "        elif len(raw_list[i]) == 4:\n",
    "             raw_list[i][0] = raw_list[i][0] + '+' + raw_list[i][1]\n",
    "             raw_list[i][1] = raw_list[i][2] + '+' + raw_list[i][3]\n",
    "             raw_list[i].pop()\n",
    "             raw_list[i].pop()\n",
    "    return raw_list\n",
    "\n",
    "def clean2(raw_list):\n",
    "    \"\"\"\n",
    "    Remove \"'s\"'<e1>''</e1>''<e2>''</e2>'\n",
    "    \"\"\"\n",
    "    for i in range(len(raw_list)):\n",
    "        for j in range(2):\n",
    "            if raw_list[i][j].endswith('s'):\n",
    "                raw_list[i][j] = raw_list[i][j][:-2]\n",
    "    new_list = [[w[4:-5] for w in s] for s in raw_list]\n",
    "    return new_list\n",
    "\n",
    "def substitute(sentences, eneities):\n",
    "    \"\"\"\n",
    "    Substitute the raw eneities of sentences with eneities\n",
    "    \"\"\"\n",
    "    for i in range(len(sentences)):\n",
    "        sentences[i], _ = re.subn('<e1>.+\\s?.+</e1>', eneities[i][0], sentences[i])\n",
    "        sentences[i], _ = re.subn('<e2>.+\\s?.+</e2>', eneities[i][1], sentences[i])\n",
    "    return sentences     "
   ]
  },
  {
   "cell_type": "code",
   "execution_count": 6,
   "metadata": {
    "collapsed": true
   },
   "outputs": [],
   "source": [
    "raw_data = raw_data.strip().split('\\t')[1:]\n",
    "new_data = [line.split('\\n')[:2] for line in raw_data]\n",
    "raw_sentences = [line[0] for line in new_data]\n",
    "relations = [line[1] if line[1] == 'Other' else line[1][:-7] for line in new_data]\n",
    "sen_words = [[w.strip(\"\\\"':;.,?!\\)(\").lower() for w in s.split()] for s in raw_sentences]\n",
    "sen_words = [[w[:-2] if w.endswith(\"'s\") else w for w in s ] for s in sen_words]\n",
    "raw_eneities = [[w for w in s \n",
    "                 if re.search('<e1>', w) or re.search('</e1>', w) or re.search('<e2>', w) or re.search('</e2>', w)] \n",
    "                 for s in sen_words]\n",
    "eneities = clean2(clean1(raw_eneities))\n",
    "sentences = substitute([' '.join(s) for s in sen_words], eneities)"
   ]
  },
  {
   "cell_type": "markdown",
   "metadata": {},
   "source": [
    "### Sentence"
   ]
  },
  {
   "cell_type": "code",
   "execution_count": 7,
   "metadata": {},
   "outputs": [
    {
     "data": {
      "text/plain": [
       "'the lawsonite was contained in a platinum+crucible and the counter-weight was a plastic crucible with metal pieces'"
      ]
     },
     "execution_count": 7,
     "metadata": {},
     "output_type": "execute_result"
    }
   ],
   "source": [
    "sentences[8]"
   ]
  },
  {
   "cell_type": "code",
   "execution_count": 8,
   "metadata": {},
   "outputs": [
    {
     "name": "stdout",
     "output_type": "stream",
     "text": [
      "MAX_LEN = 85\n"
     ]
    }
   ],
   "source": [
    "MAX_LEN = max([len(s.split()) for s in sentences])\n",
    "print('MAX_LEN =', MAX_LEN)"
   ]
  },
  {
   "cell_type": "markdown",
   "metadata": {},
   "source": [
    "### Eneity"
   ]
  },
  {
   "cell_type": "code",
   "execution_count": 9,
   "metadata": {},
   "outputs": [
    {
     "data": {
      "text/plain": [
       "['lawsonite', 'platinum+crucible']"
      ]
     },
     "execution_count": 9,
     "metadata": {},
     "output_type": "execute_result"
    }
   ],
   "source": [
    "eneities[8]"
   ]
  },
  {
   "cell_type": "markdown",
   "metadata": {},
   "source": [
    "### Relation"
   ]
  },
  {
   "cell_type": "code",
   "execution_count": 10,
   "metadata": {},
   "outputs": [
    {
     "data": {
      "text/plain": [
       "'Content-Container'"
      ]
     },
     "execution_count": 10,
     "metadata": {},
     "output_type": "execute_result"
    }
   ],
   "source": [
    "relations[8]"
   ]
  },
  {
   "cell_type": "markdown",
   "metadata": {},
   "source": [
    "## Tokenize Text"
   ]
  },
  {
   "cell_type": "markdown",
   "metadata": {
    "heading_collapsed": true
   },
   "source": [
    "### Build Vocabulary"
   ]
  },
  {
   "cell_type": "code",
   "execution_count": 11,
   "metadata": {
    "collapsed": true,
    "hidden": true
   },
   "outputs": [],
   "source": [
    "from collections import Counter"
   ]
  },
  {
   "cell_type": "code",
   "execution_count": 12,
   "metadata": {
    "collapsed": true,
    "hidden": true
   },
   "outputs": [],
   "source": [
    "def get_vocab(text):\n",
    "    \"\"\"\n",
    "    Get vocabulary and word's counts\n",
    "    \"\"\"\n",
    "    vocab_counts = Counter(w for t in text for w in t.split())\n",
    "    vocab = sorted(vocab_counts, key=vocab_counts.get, reverse=True)\n",
    "    return vocab"
   ]
  },
  {
   "cell_type": "code",
   "execution_count": 13,
   "metadata": {
    "collapsed": true,
    "hidden": true
   },
   "outputs": [],
   "source": [
    "sen_vocab = get_vocab(sentences)\n",
    "rel_vocab = get_vocab(relations)"
   ]
  },
  {
   "cell_type": "code",
   "execution_count": 14,
   "metadata": {
    "hidden": true
   },
   "outputs": [
    {
     "name": "stdout",
     "output_type": "stream",
     "text": [
      "VOCAB_SIZE = 20469\n"
     ]
    }
   ],
   "source": [
    "VOCAB_SIZE = len(sen_vocab) + 1\n",
    "print('VOCAB_SIZE =', VOCAB_SIZE)"
   ]
  },
  {
   "cell_type": "code",
   "execution_count": 15,
   "metadata": {
    "hidden": true
   },
   "outputs": [
    {
     "name": "stdout",
     "output_type": "stream",
     "text": [
      "['Other', 'Cause-Effect', 'Component-Whole', 'Entity-Destination', 'Product-Producer', 'Entity-Origin', 'Member-Collection', 'Message-Topic', 'Content-Container', 'Instrument-Agency']\n"
     ]
    }
   ],
   "source": [
    "print(rel_vocab)"
   ]
  },
  {
   "cell_type": "code",
   "execution_count": 16,
   "metadata": {
    "hidden": true
   },
   "outputs": [
    {
     "name": "stdout",
     "output_type": "stream",
     "text": [
      "CATEGORY = 10\n"
     ]
    }
   ],
   "source": [
    "CATEGORY = len(rel_vocab)\n",
    "print('CATEGORY =', CATEGORY)"
   ]
  },
  {
   "cell_type": "markdown",
   "metadata": {},
   "source": [
    "### Index Words"
   ]
  },
  {
   "cell_type": "code",
   "execution_count": 17,
   "metadata": {
    "collapsed": true
   },
   "outputs": [],
   "source": [
    "PAD = 0"
   ]
  },
  {
   "cell_type": "code",
   "execution_count": 18,
   "metadata": {
    "collapsed": true
   },
   "outputs": [],
   "source": [
    "sen_word2idx = {w: i+1 for i, w in enumerate(sen_vocab)}\n",
    "sen_word2idx['<PAD>'] = PAD\n",
    "sen_idx2word = {i: w for w, i in sen_word2idx.items()}\n",
    "rel_word2idx = {w: i for i, w in enumerate(rel_vocab)}\n",
    "rel_idx2word = {i: w for w, i in rel_word2idx.items()}"
   ]
  },
  {
   "cell_type": "code",
   "execution_count": 19,
   "metadata": {
    "collapsed": true
   },
   "outputs": [],
   "source": [
    "sen_id = [[sen_word2idx[w] for w in s.split()] for s in sentences]\n",
    "rel_id = [[rel_word2idx[w] for w in s.split()] for s in relations]\n",
    "ent_id = [[sen_word2idx[w] for w in s] for s in eneities]"
   ]
  },
  {
   "cell_type": "markdown",
   "metadata": {},
   "source": [
    "## Creat Word Embeddings with Glove"
   ]
  },
  {
   "cell_type": "code",
   "execution_count": 20,
   "metadata": {
    "collapsed": true
   },
   "outputs": [],
   "source": [
    "EMBEDDING_DIM = 300\n",
    "SEED = 42"
   ]
  },
  {
   "cell_type": "markdown",
   "metadata": {
    "heading_collapsed": true
   },
   "source": [
    "### Read Glove"
   ]
  },
  {
   "cell_type": "code",
   "execution_count": 21,
   "metadata": {
    "hidden": true
   },
   "outputs": [
    {
     "data": {
      "text/plain": [
       "1917495"
      ]
     },
     "execution_count": 21,
     "metadata": {},
     "output_type": "execute_result"
    }
   ],
   "source": [
    "glove_n_symbols = !wc -l /Users/lizhn7/Downloads/DATA/Glove/glove.42B.300d.txt\n",
    "glove_n_symbols = int(glove_n_symbols[0].split()[0])\n",
    "glove_n_symbols"
   ]
  },
  {
   "cell_type": "code",
   "execution_count": 22,
   "metadata": {
    "collapsed": true,
    "hidden": true
   },
   "outputs": [],
   "source": [
    "import numpy as np"
   ]
  },
  {
   "cell_type": "code",
   "execution_count": 23,
   "metadata": {
    "collapsed": true,
    "hidden": true
   },
   "outputs": [],
   "source": [
    "glove_idx_dict = {}\n",
    "glove_embedding_weights = np.empty((glove_n_symbols, EMBEDDING_DIM))\n",
    "globale_scale = 0.1\n",
    "with open('/Users/lizhn7/Downloads/DATA/Glove/glove.42B.300d.txt', 'r') as fp:\n",
    "    idx = 0\n",
    "    for l in fp:\n",
    "        l = l.strip().split()\n",
    "        word = l[0]\n",
    "        glove_idx_dict[word] = idx\n",
    "        glove_embedding_weights[idx, :] = [float(n) for n in l[1:]]\n",
    "        idx += 1\n",
    "glove_embedding_weights *= globale_scale"
   ]
  },
  {
   "cell_type": "code",
   "execution_count": 24,
   "metadata": {
    "hidden": true
   },
   "outputs": [
    {
     "data": {
      "text/plain": [
       "0.029510716778162933"
      ]
     },
     "execution_count": 24,
     "metadata": {},
     "output_type": "execute_result"
    }
   ],
   "source": [
    "glove_embedding_weights.std()"
   ]
  },
  {
   "cell_type": "markdown",
   "metadata": {
    "heading_collapsed": true
   },
   "source": [
    "### Use Glove to Initialize Embedding Matrix"
   ]
  },
  {
   "cell_type": "code",
   "execution_count": 25,
   "metadata": {
    "collapsed": true,
    "hidden": true
   },
   "outputs": [],
   "source": [
    "# generate random embedding with same scale as glove\n",
    "np.random.seed(SEED)\n",
    "shape = (VOCAB_SIZE, EMBEDDING_DIM)\n",
    "scale = glove_embedding_weights.std()*np.sqrt(12)/2\n",
    "embedding = np.random.uniform(low=-scale, high=scale, size=shape)"
   ]
  },
  {
   "cell_type": "code",
   "execution_count": 26,
   "metadata": {
    "collapsed": true,
    "hidden": true
   },
   "outputs": [],
   "source": [
    "clean_dict = {\n",
    "    'semi-': 'semi', 'attack-': 'attack', 'squatter-': 'squatter', 'foam-': 'foam',\n",
    "    'vboost-': 'vboost', 'con-': 'con', 'crush-': 'crush', 'mag-': 'mag',\n",
    "    'four-year-': 'four+year', 'is-': 'is', 'guard-': 'guard', 'similar--': 'similar',\n",
    "    'low-': 'low', '10-': '10', \"he'd\": 'he+would', \"she'd\": 'she+would', \"wasn't\": 'was+not',\n",
    "    \"we've\": 'we+have', \"they've\": 'they+have', \"who've\": 'who+have', \"they're\": 'they+are',\n",
    "    'codario-ferrino': 'ferrino', 'high-definition+broadcast': 'highdefinition+broadcast',\n",
    "    'white-o-mornin': 'white-mornin', \"abu'l-qasim\": 'abu-qasim', 'outer-surface+a': 'surface',\n",
    "    'hai-hsi-pu': 'hai-hsi', '--40': '40', 'braich-y-pwll': 'braich-pwll',\n",
    "    'gold-plated+cylinder': 'goldplated+cylinder', 'the71-year-old': '71-year-old',\n",
    "    'not-too-acidic': 'not-acidic', 'e-mail+address': 'email+address', 'expressed(r-es': 'expressed',\n",
    "    'e-post+card': 'epost+card', 'spout-to-cup': 'spout-cup',\n",
    "    'on-going+events': 'ongoing+events', 're-hydration+tablets': 'rehydration+tablets',\n",
    "    'stock-index+futures': 'stock+futures', 'freeman-walter-abele': 'walter-abele',\n",
    "    'barrister-cum-writer': 'barrister+writer', 'mah-jongg+set': 'mahjongg+set', \n",
    "    'intricately-ptterned': 'intricately-patterned', 'eight-year-old+boy': 'boy', \n",
    "    'multi-user+dungeon': 'multiuser+dungeon', 'teacher-to-learner': 'teacher-learner'\n",
    "}"
   ]
  },
  {
   "cell_type": "code",
   "execution_count": 27,
   "metadata": {
    "hidden": true,
    "scrolled": true
   },
   "outputs": [
    {
     "name": "stdout",
     "output_type": "stream",
     "text": [
      "20045--97.93% tokens in vocabulary found in glove and copied to embedding.\n"
     ]
    }
   ],
   "source": [
    "# copy from glove weights of words that appear in sen_idx2word\n",
    "c = 0\n",
    "for i in range(VOCAB_SIZE):\n",
    "    w = sen_idx2word[i]\n",
    "    w = clean_dict.get(w, w)\n",
    "    g = glove_idx_dict.get(w)\n",
    "    if g is None and w.find('+') != -1:\n",
    "        w1 = w[:w.find('+')]\n",
    "        g1 = glove_idx_dict.get(w1)\n",
    "        w2 = w[w.find('+')+1:]\n",
    "        g2 = glove_idx_dict.get(w2)\n",
    "        if g1 is not None and g2 is not None:\n",
    "            embedding[i, :] = glove_embedding_weights[g1, :]+glove_embedding_weights[g2, :]\n",
    "            c += 1\n",
    "    if g is None and w.find('-') != -1:\n",
    "        w1 = w[:w.find('-')]\n",
    "        g1 = glove_idx_dict.get(w1)\n",
    "        w2 = w[w.find('-')+1:]\n",
    "        g2 = glove_idx_dict.get(w2)\n",
    "        if g1 is not None and g2 is not None:\n",
    "            embedding[i, :] = glove_embedding_weights[g1, :]+glove_embedding_weights[g2, :]\n",
    "            c += 1\n",
    "    if g is not None:\n",
    "        embedding[i, :] = glove_embedding_weights[g, :]\n",
    "        c += 1\n",
    "print('{num_tokens}--{percentage:4.2f}% tokens in vocabulary found in glove and copied to embedding.'.format(num_tokens=c, percentage=c/float(VOCAB_SIZE)*100))"
   ]
  },
  {
   "cell_type": "markdown",
   "metadata": {},
   "source": [
    "## Build Dateset"
   ]
  },
  {
   "cell_type": "code",
   "execution_count": 28,
   "metadata": {
    "scrolled": true
   },
   "outputs": [
    {
     "name": "stderr",
     "output_type": "stream",
     "text": [
      "Using TensorFlow backend.\n"
     ]
    }
   ],
   "source": [
    "from keras.preprocessing import sequence\n",
    "from keras.utils import np_utils"
   ]
  },
  {
   "cell_type": "code",
   "execution_count": 29,
   "metadata": {
    "collapsed": true
   },
   "outputs": [],
   "source": [
    "def convert_seq(sen_id, rel_id):\n",
    "    \"\"\"\n",
    "    Pad sen_id to MAX_LEN and encode rel_id to one-hot encoding\n",
    "    \"\"\"\n",
    "    new_sen_id = sequence.pad_sequences(sen_id, maxlen=MAX_LEN, value=PAD, padding='post')\n",
    "    new_rel_id = np_utils.to_categorical(np.asarray(rel_id))\n",
    "    return new_sen_id, new_rel_id\n",
    "\n",
    "def convert_ent(ent_id, sen_id):\n",
    "    \"\"\"\n",
    "    Convert data to entity-word vectors \n",
    "    \"\"\"\n",
    "    EW1 = []\n",
    "    EW2 = []\n",
    "    for i in range(len(ent_id)):\n",
    "        EW1.append([[ent_id[i][0], w] for w in sen_id[i]])\n",
    "        EW2.append([[ent_id[i][1], w] for w in sen_id[i]])\n",
    "    EW1 = sequence.pad_sequences(EW1, maxlen=MAX_LEN, value=PAD, padding='post')\n",
    "    EW2 = sequence.pad_sequences(EW2, maxlen=MAX_LEN, value=PAD, padding='post')\n",
    "    return EW1, EW2"
   ]
  },
  {
   "cell_type": "code",
   "execution_count": 30,
   "metadata": {
    "collapsed": true
   },
   "outputs": [],
   "source": [
    "sen_X1, Y = convert_seq(sen_id, rel_id)\n",
    "en_X1, en_X2 = convert_ent(ent_id, sen_id) "
   ]
  },
  {
   "cell_type": "code",
   "execution_count": 31,
   "metadata": {
    "collapsed": true
   },
   "outputs": [],
   "source": [
    "from sklearn.model_selection import train_test_split"
   ]
  },
  {
   "cell_type": "code",
   "execution_count": 32,
   "metadata": {
    "collapsed": true
   },
   "outputs": [],
   "source": [
    "sen_X1_train, sen_X1_val, Y_train, Y_val = train_test_split(sen_X1, Y, test_size=1000, random_state=SEED)\n",
    "en_X1_train, en_X1_val, en_X2_train, en_X2_val = train_test_split(en_X1, en_X2, test_size=1000, random_state=SEED)"
   ]
  },
  {
   "cell_type": "markdown",
   "metadata": {},
   "source": [
    "## Save Data"
   ]
  },
  {
   "cell_type": "code",
   "execution_count": 33,
   "metadata": {
    "collapsed": true
   },
   "outputs": [],
   "source": [
    "import h5py"
   ]
  },
  {
   "cell_type": "code",
   "execution_count": 34,
   "metadata": {
    "collapsed": true
   },
   "outputs": [],
   "source": [
    "fh = h5py.File('train.h5','w')\n",
    "fh.create_dataset('train_sen_X1', data = sen_X1_train)\n",
    "fh.create_dataset('train_Y', data = Y_train)\n",
    "fh.create_dataset('train_en_X1',data = en_X1_train[:, :, 0])\n",
    "fh.create_dataset('train_en_X2',data = en_X2_train[:, :, 0])\n",
    "fh.close()"
   ]
  },
  {
   "cell_type": "code",
   "execution_count": 35,
   "metadata": {
    "collapsed": true
   },
   "outputs": [],
   "source": [
    "fh = h5py.File('val.h5', 'w')\n",
    "fh['val_sen_X1'] = sen_X1_val\n",
    "fh['val_Y'] = Y_val\n",
    "fh['val_en_X1'] = en_X1_val[:, :, 0]\n",
    "fh['val_en_X2'] = en_X2_val[:, :, 0]\n",
    "fh.close()"
   ]
  },
  {
   "cell_type": "code",
   "execution_count": 36,
   "metadata": {
    "collapsed": true
   },
   "outputs": [],
   "source": [
    "with h5py.File('emb.h5','w') as fh:\n",
    "    fh['embedding'] = embedding"
   ]
  },
  {
   "cell_type": "code",
   "execution_count": 37,
   "metadata": {
    "collapsed": true
   },
   "outputs": [],
   "source": [
    "import pickle"
   ]
  },
  {
   "cell_type": "code",
   "execution_count": 38,
   "metadata": {
    "collapsed": true
   },
   "outputs": [],
   "source": [
    "with open('index.pkl', 'wb') as fp:\n",
    "    pickle.dump((sen_word2idx, sen_idx2word, rel_word2idx, rel_idx2word), fp, -1)"
   ]
  },
  {
   "cell_type": "markdown",
   "metadata": {
    "heading_collapsed": true
   },
   "source": [
    "# Checkpoint"
   ]
  },
  {
   "cell_type": "code",
   "execution_count": 39,
   "metadata": {
    "collapsed": true,
    "hidden": true
   },
   "outputs": [],
   "source": [
    "import h5py\n",
    "import pickle"
   ]
  },
  {
   "cell_type": "code",
   "execution_count": 40,
   "metadata": {
    "collapsed": true,
    "hidden": true
   },
   "outputs": [],
   "source": [
    "fh = h5py.File('train.h5', 'r')\n",
    "sen_X1_train = fh['train_sen_X1'][:]\n",
    "Y_train = fh['train_Y'][:]\n",
    "en_X1_train = fh['train_en_X1'][:]\n",
    "en_X2_train = fh['train_en_X2'][:]\n",
    "fh.close()"
   ]
  },
  {
   "cell_type": "code",
   "execution_count": 41,
   "metadata": {
    "hidden": true
   },
   "outputs": [
    {
     "data": {
      "text/plain": [
       "((7000, 85), (7000, 10), (7000, 85), (7000, 85))"
      ]
     },
     "execution_count": 41,
     "metadata": {},
     "output_type": "execute_result"
    }
   ],
   "source": [
    "sen_X1_train.shape, Y_train.shape, en_X1_train.shape, en_X2_train.shape"
   ]
  },
  {
   "cell_type": "code",
   "execution_count": 42,
   "metadata": {
    "collapsed": true,
    "hidden": true
   },
   "outputs": [],
   "source": [
    "with h5py.File('val.h5', 'r') as fh:\n",
    "    sen_X1_val = fh['val_sen_X1'][:]\n",
    "    Y_val = fh['val_Y'][:]\n",
    "    en_X1_val = fh['val_en_X1'][:]\n",
    "    en_X2_val = fh['val_en_X2'][:]"
   ]
  },
  {
   "cell_type": "code",
   "execution_count": 43,
   "metadata": {
    "hidden": true
   },
   "outputs": [
    {
     "data": {
      "text/plain": [
       "((1000, 85), (1000, 10), (1000, 85), (1000, 85))"
      ]
     },
     "execution_count": 43,
     "metadata": {},
     "output_type": "execute_result"
    }
   ],
   "source": [
    "sen_X1_val.shape, Y_val.shape, en_X1_val.shape, en_X2_val.shape"
   ]
  },
  {
   "cell_type": "code",
   "execution_count": 44,
   "metadata": {
    "collapsed": true,
    "hidden": true
   },
   "outputs": [],
   "source": [
    " with h5py.File('emb.h5','r') as fh:  \n",
    "        embedding = fh['embedding'][:] "
   ]
  },
  {
   "cell_type": "code",
   "execution_count": 45,
   "metadata": {
    "collapsed": true,
    "hidden": true
   },
   "outputs": [],
   "source": [
    "with open('index.pkl', 'rb') as fp:\n",
    "    sen_word2idx, sen_idx2word, rel_word2idx, rel_idx2word = pickle.load(fp)"
   ]
  },
  {
   "cell_type": "markdown",
   "metadata": {},
   "source": [
    "# Build Model"
   ]
  },
  {
   "cell_type": "markdown",
   "metadata": {},
   "source": [
    "## Set Hyperparameters"
   ]
  },
  {
   "cell_type": "code",
   "execution_count": 88,
   "metadata": {
    "collapsed": true
   },
   "outputs": [],
   "source": [
    "NUM_EPOCHS = 128\n",
    "BATCH_SIZE = 16\n",
    "MAX_LEN = 85\n",
    "VOCAB_SIZE = 20469\n",
    "CATEGORY = 10\n",
    "EMBEDDING_SIZE = 300\n",
    "CNN_SIZE = 512\n",
    "WINDOW_SIZE = 2\n",
    "ATT_HIDDEN_SIZE = 1024\n",
    "MLP_HIDDEN_SIZE = 2048\n",
    "LEARNING_RATE = 0.02\n",
    "PAD = 0\n",
    "SEED = 42"
   ]
  },
  {
   "cell_type": "markdown",
   "metadata": {},
   "source": [
    "## Build Graph"
   ]
  },
  {
   "cell_type": "code",
   "execution_count": 89,
   "metadata": {
    "collapsed": true
   },
   "outputs": [],
   "source": [
    "from keras.layers import Input, Embedding\n",
    "from keras.layers import Conv1D, GlobalMaxPooling1D \n",
    "from keras.layers import Dense, Flatten, Activation\n",
    "from keras.layers import concatenate, dot\n",
    "from keras.layers import TimeDistributed\n",
    "from keras.models import Model\n",
    "from keras import optimizers"
   ]
  },
  {
   "cell_type": "markdown",
   "metadata": {},
   "source": [
    "### Sentence Convolution"
   ]
  },
  {
   "cell_type": "code",
   "execution_count": 90,
   "metadata": {
    "collapsed": true,
    "scrolled": false
   },
   "outputs": [],
   "source": [
    "sen_input = Input(shape=(MAX_LEN,), dtype='int32', name='Sentence-Word')\n",
    "sen_emb = Embedding(input_dim=VOCAB_SIZE, output_dim=EMBEDDING_SIZE,\n",
    "                    weights=[embedding], input_length=MAX_LEN, name='Word-Embedding',\n",
    "                    trainable=False)(sen_input)\n",
    "sen_conv = Conv1D(CNN_SIZE, WINDOW_SIZE, padding='same', activation='elu', name='Convolution')(sen_emb)\n",
    "sen_vec = GlobalMaxPooling1D(name='Sentence-Convolution-Feature')(sen_conv)"
   ]
  },
  {
   "cell_type": "markdown",
   "metadata": {},
   "source": [
    "### Attention-based Context Selection w.r.t. Eneity 1"
   ]
  },
  {
   "cell_type": "code",
   "execution_count": 91,
   "metadata": {
    "collapsed": true
   },
   "outputs": [],
   "source": [
    "en1_input = Input(shape=(MAX_LEN,), dtype='int32', name='Eneity1')\n",
    "en1_emb = Embedding(input_dim=VOCAB_SIZE, output_dim=EMBEDDING_SIZE,\n",
    "                    weights=[embedding], input_length=MAX_LEN, name='Eneity1-Embedding',\n",
    "                   trainable=False)(en1_input)\n",
    "en1_word = concatenate([en1_emb, sen_emb], axis=-1, name='Eneity1-Word')\n",
    "en1_word_hidden = TimeDistributed(Dense(ATT_HIDDEN_SIZE, activation='elu', name='Attention1-Hidden'), name='Computation1-Unit')(en1_word)\n",
    "en1_word_score = TimeDistributed(Dense(1, activation='elu', name='Attention1-Weight'), name='Computation1-Score')(en1_word_hidden)\n",
    "en1_word_score = Activation('softmax', name='Softmax1')(en1_word_score)\n",
    "en1_vec = dot([en1_word_score, sen_emb], axes=(1, 1), name='Attention1_based-Context-Feature')\n",
    "en1_vec = Flatten(name='Flatten1')(en1_vec)"
   ]
  },
  {
   "cell_type": "markdown",
   "metadata": {},
   "source": [
    "### Attention-based Context Selection w.r.t. Eneity 2"
   ]
  },
  {
   "cell_type": "code",
   "execution_count": 92,
   "metadata": {
    "collapsed": true
   },
   "outputs": [],
   "source": [
    "en2_input = Input(shape=(MAX_LEN,), dtype='int32', name='Eneity2')\n",
    "en2_emb = Embedding(input_dim=VOCAB_SIZE, output_dim=EMBEDDING_SIZE,\n",
    "                    weights=[embedding], input_length=MAX_LEN, name='Eneity2-Embedding',\n",
    "                   trainable=False)(en2_input)\n",
    "en2_word = concatenate([en2_emb, sen_emb], axis=-1, name='Eneity2-Word')\n",
    "en2_word_hidden = TimeDistributed(Dense(ATT_HIDDEN_SIZE, activation='elu', name='Attention2-Hidden'), name='Computation2-Unit')(en2_word)\n",
    "en2_word_score = TimeDistributed(Dense(1, activation='elu', name='Attention2-Weight'), name='Computation2-Score')(en2_word_hidden)\n",
    "en2_word_score = Activation('softmax', name='Softmax2')(en2_word_score)\n",
    "en2_vec = dot([en2_word_score, sen_emb], axes=(1, 1), name='Attention2_based-Context-Feature')\n",
    "en2_vec = Flatten(name='Flatten2')(en2_vec)"
   ]
  },
  {
   "cell_type": "markdown",
   "metadata": {},
   "source": [
    "### MLP Layer"
   ]
  },
  {
   "cell_type": "code",
   "execution_count": 93,
   "metadata": {
    "collapsed": true
   },
   "outputs": [],
   "source": [
    "joint_vec = concatenate([sen_vec, en1_vec, en2_vec], axis=-1, name='Concatenated-Feature')\n",
    "joint_vec = Dense(MLP_HIDDEN_SIZE, activation='elu', name='MLP-Hidden')(joint_vec)\n",
    "output = Dense(CATEGORY, activation='softmax', name='Output')(joint_vec)"
   ]
  },
  {
   "cell_type": "markdown",
   "metadata": {},
   "source": [
    "### Compile"
   ]
  },
  {
   "cell_type": "code",
   "execution_count": 94,
   "metadata": {
    "collapsed": true
   },
   "outputs": [],
   "source": [
    "model = Model(inputs=[sen_input, en1_input, en2_input], outputs=output)\n",
    "SGD = optimizers.SGD(lr=LEARNING_RATE)\n",
    "model.compile(optimizer=SGD, loss='categorical_crossentropy', metrics=['acc', 'categorical_accuracy'])"
   ]
  },
  {
   "cell_type": "code",
   "execution_count": 95,
   "metadata": {
    "scrolled": false
   },
   "outputs": [
    {
     "name": "stdout",
     "output_type": "stream",
     "text": [
      "____________________________________________________________________________________________________\n",
      "Layer (type)                     Output Shape          Param #     Connected to                     \n",
      "====================================================================================================\n",
      "Sentence-Word (InputLayer)       (None, 85)            0                                            \n",
      "____________________________________________________________________________________________________\n",
      "Eneity1 (InputLayer)             (None, 85)            0                                            \n",
      "____________________________________________________________________________________________________\n",
      "Eneity2 (InputLayer)             (None, 85)            0                                            \n",
      "____________________________________________________________________________________________________\n",
      "Word-Embedding (Embedding)       (None, 85, 300)       6140700     Sentence-Word[0][0]              \n",
      "____________________________________________________________________________________________________\n",
      "Eneity1-Embedding (Embedding)    (None, 85, 300)       6140700     Eneity1[0][0]                    \n",
      "____________________________________________________________________________________________________\n",
      "Eneity2-Embedding (Embedding)    (None, 85, 300)       6140700     Eneity2[0][0]                    \n",
      "____________________________________________________________________________________________________\n",
      "Eneity1-Word (Concatenate)       (None, 85, 600)       0           Eneity1-Embedding[0][0]          \n",
      "                                                                   Word-Embedding[0][0]             \n",
      "____________________________________________________________________________________________________\n",
      "Eneity2-Word (Concatenate)       (None, 85, 600)       0           Eneity2-Embedding[0][0]          \n",
      "                                                                   Word-Embedding[0][0]             \n",
      "____________________________________________________________________________________________________\n",
      "Computation1-Unit (TimeDistribut (None, 85, 1024)      615424      Eneity1-Word[0][0]               \n",
      "____________________________________________________________________________________________________\n",
      "Computation2-Unit (TimeDistribut (None, 85, 1024)      615424      Eneity2-Word[0][0]               \n",
      "____________________________________________________________________________________________________\n",
      "Computation1-Score (TimeDistribu (None, 85, 1)         1025        Computation1-Unit[0][0]          \n",
      "____________________________________________________________________________________________________\n",
      "Computation2-Score (TimeDistribu (None, 85, 1)         1025        Computation2-Unit[0][0]          \n",
      "____________________________________________________________________________________________________\n",
      "Softmax1 (Activation)            (None, 85, 1)         0           Computation1-Score[0][0]         \n",
      "____________________________________________________________________________________________________\n",
      "Softmax2 (Activation)            (None, 85, 1)         0           Computation2-Score[0][0]         \n",
      "____________________________________________________________________________________________________\n",
      "Convolution (Conv1D)             (None, 85, 512)       307712      Word-Embedding[0][0]             \n",
      "____________________________________________________________________________________________________\n",
      "Attention1_based-Context-Feature (None, 1, 300)        0           Softmax1[0][0]                   \n",
      "                                                                   Word-Embedding[0][0]             \n",
      "____________________________________________________________________________________________________\n",
      "Attention2_based-Context-Feature (None, 1, 300)        0           Softmax2[0][0]                   \n",
      "                                                                   Word-Embedding[0][0]             \n",
      "____________________________________________________________________________________________________\n",
      "Sentence-Convolution-Feature (Gl (None, 512)           0           Convolution[0][0]                \n",
      "____________________________________________________________________________________________________\n",
      "Flatten1 (Flatten)               (None, 300)           0           Attention1_based-Context-Feature[\n",
      "____________________________________________________________________________________________________\n",
      "Flatten2 (Flatten)               (None, 300)           0           Attention2_based-Context-Feature[\n",
      "____________________________________________________________________________________________________\n",
      "Concatenated-Feature (Concatenat (None, 1112)          0           Sentence-Convolution-Feature[0][0\n",
      "                                                                   Flatten1[0][0]                   \n",
      "                                                                   Flatten2[0][0]                   \n",
      "____________________________________________________________________________________________________\n",
      "MLP-Hidden (Dense)               (None, 2048)          2279424     Concatenated-Feature[0][0]       \n",
      "____________________________________________________________________________________________________\n",
      "Output (Dense)                   (None, 10)            20490       MLP-Hidden[0][0]                 \n",
      "====================================================================================================\n",
      "Total params: 22,262,624\n",
      "Trainable params: 3,840,524\n",
      "Non-trainable params: 18,422,100\n",
      "____________________________________________________________________________________________________\n"
     ]
    }
   ],
   "source": [
    "model.summary()"
   ]
  },
  {
   "cell_type": "markdown",
   "metadata": {},
   "source": [
    "## Model Visualization"
   ]
  },
  {
   "cell_type": "code",
   "execution_count": 96,
   "metadata": {
    "collapsed": true
   },
   "outputs": [],
   "source": [
    "from IPython.display import SVG\n",
    "from keras.utils.vis_utils import model_to_dot"
   ]
  },
  {
   "cell_type": "code",
   "execution_count": 97,
   "metadata": {
    "scrolled": false
   },
   "outputs": [
    {
     "data": {
      "image/svg+xml": [
       "<svg height=\"775pt\" viewBox=\"0.00 0.00 1220.12 775.00\" width=\"1220pt\" xmlns=\"http://www.w3.org/2000/svg\" xmlns:xlink=\"http://www.w3.org/1999/xlink\">\n",
       "<g class=\"graph\" id=\"graph0\" transform=\"scale(1 1) rotate(0) translate(4 771)\">\n",
       "<title>G</title>\n",
       "<polygon fill=\"#ffffff\" points=\"-4,4 -4,-771 1216.1172,-771 1216.1172,4 -4,4\" stroke=\"transparent\"/>\n",
       "<!-- 9291419264 -->\n",
       "<g class=\"node\" id=\"node1\">\n",
       "<title>9291419264</title>\n",
       "<polygon fill=\"none\" points=\"520.2896,-730.5 520.2896,-766.5 691.8276,-766.5 691.8276,-730.5 520.2896,-730.5\" stroke=\"#000000\"/>\n",
       "<text fill=\"#000000\" font-family=\"Times,serif\" font-size=\"14.00\" text-anchor=\"middle\" x=\"606.0586\" y=\"-744.3\">Sentence-Word: InputLayer</text>\n",
       "</g>\n",
       "<!-- 9291419488 -->\n",
       "<g class=\"node\" id=\"node4\">\n",
       "<title>9291419488</title>\n",
       "<polygon fill=\"none\" points=\"512.1069,-657.5 512.1069,-693.5 700.0103,-693.5 700.0103,-657.5 512.1069,-657.5\" stroke=\"#000000\"/>\n",
       "<text fill=\"#000000\" font-family=\"Times,serif\" font-size=\"14.00\" text-anchor=\"middle\" x=\"606.0586\" y=\"-671.3\">Word-Embedding: Embedding</text>\n",
       "</g>\n",
       "<!-- 9291419264&#45;&gt;9291419488 -->\n",
       "<g class=\"edge\" id=\"edge1\">\n",
       "<title>9291419264-&gt;9291419488</title>\n",
       "<path d=\"M606.0586,-730.4551C606.0586,-722.3828 606.0586,-712.6764 606.0586,-703.6817\" fill=\"none\" stroke=\"#000000\"/>\n",
       "<polygon fill=\"#000000\" points=\"609.5587,-703.5903 606.0586,-693.5904 602.5587,-703.5904 609.5587,-703.5903\" stroke=\"#000000\"/>\n",
       "</g>\n",
       "<!-- 9289868624 -->\n",
       "<g class=\"node\" id=\"node2\">\n",
       "<title>9289868624</title>\n",
       "<polygon fill=\"none\" points=\"829.4946,-730.5 829.4946,-766.5 958.6226,-766.5 958.6226,-730.5 829.4946,-730.5\" stroke=\"#000000\"/>\n",
       "<text fill=\"#000000\" font-family=\"Times,serif\" font-size=\"14.00\" text-anchor=\"middle\" x=\"894.0586\" y=\"-744.3\">Eneity1: InputLayer</text>\n",
       "</g>\n",
       "<!-- 9289869016 -->\n",
       "<g class=\"node\" id=\"node5\">\n",
       "<title>9289869016</title>\n",
       "<polygon fill=\"none\" points=\"793.7153,-657.5 793.7153,-693.5 994.4019,-693.5 994.4019,-657.5 793.7153,-657.5\" stroke=\"#000000\"/>\n",
       "<text fill=\"#000000\" font-family=\"Times,serif\" font-size=\"14.00\" text-anchor=\"middle\" x=\"894.0586\" y=\"-671.3\">Eneity1-Embedding: Embedding</text>\n",
       "</g>\n",
       "<!-- 9289868624&#45;&gt;9289869016 -->\n",
       "<g class=\"edge\" id=\"edge2\">\n",
       "<title>9289868624-&gt;9289869016</title>\n",
       "<path d=\"M894.0586,-730.4551C894.0586,-722.3828 894.0586,-712.6764 894.0586,-703.6817\" fill=\"none\" stroke=\"#000000\"/>\n",
       "<polygon fill=\"#000000\" points=\"897.5587,-703.5903 894.0586,-693.5904 890.5587,-703.5904 897.5587,-703.5903\" stroke=\"#000000\"/>\n",
       "</g>\n",
       "<!-- 9289877880 -->\n",
       "<g class=\"node\" id=\"node3\">\n",
       "<title>9289877880</title>\n",
       "<polygon fill=\"none\" points=\"231.4946,-730.5 231.4946,-766.5 360.6226,-766.5 360.6226,-730.5 231.4946,-730.5\" stroke=\"#000000\"/>\n",
       "<text fill=\"#000000\" font-family=\"Times,serif\" font-size=\"14.00\" text-anchor=\"middle\" x=\"296.0586\" y=\"-744.3\">Eneity2: InputLayer</text>\n",
       "</g>\n",
       "<!-- 9286241808 -->\n",
       "<g class=\"node\" id=\"node6\">\n",
       "<title>9286241808</title>\n",
       "<polygon fill=\"none\" points=\"195.7153,-657.5 195.7153,-693.5 396.4019,-693.5 396.4019,-657.5 195.7153,-657.5\" stroke=\"#000000\"/>\n",
       "<text fill=\"#000000\" font-family=\"Times,serif\" font-size=\"14.00\" text-anchor=\"middle\" x=\"296.0586\" y=\"-671.3\">Eneity2-Embedding: Embedding</text>\n",
       "</g>\n",
       "<!-- 9289877880&#45;&gt;9286241808 -->\n",
       "<g class=\"edge\" id=\"edge3\">\n",
       "<title>9289877880-&gt;9286241808</title>\n",
       "<path d=\"M296.0586,-730.4551C296.0586,-722.3828 296.0586,-712.6764 296.0586,-703.6817\" fill=\"none\" stroke=\"#000000\"/>\n",
       "<polygon fill=\"#000000\" points=\"299.5587,-703.5903 296.0586,-693.5904 292.5587,-703.5904 299.5587,-703.5903\" stroke=\"#000000\"/>\n",
       "</g>\n",
       "<!-- 9290885496 -->\n",
       "<g class=\"node\" id=\"node7\">\n",
       "<title>9290885496</title>\n",
       "<polygon fill=\"none\" points=\"808.2861,-584.5 808.2861,-620.5 979.8311,-620.5 979.8311,-584.5 808.2861,-584.5\" stroke=\"#000000\"/>\n",
       "<text fill=\"#000000\" font-family=\"Times,serif\" font-size=\"14.00\" text-anchor=\"middle\" x=\"894.0586\" y=\"-598.3\">Eneity1-Word: Concatenate</text>\n",
       "</g>\n",
       "<!-- 9291419488&#45;&gt;9290885496 -->\n",
       "<g class=\"edge\" id=\"edge5\">\n",
       "<title>9291419488-&gt;9290885496</title>\n",
       "<path d=\"M677.2496,-657.4551C718.3559,-647.0358 770.204,-633.8937 812.8896,-623.0741\" fill=\"none\" stroke=\"#000000\"/>\n",
       "<polygon fill=\"#000000\" points=\"813.8549,-626.4402 822.6884,-620.5904 812.135,-619.6547 813.8549,-626.4402\" stroke=\"#000000\"/>\n",
       "</g>\n",
       "<!-- 9289829400 -->\n",
       "<g class=\"node\" id=\"node8\">\n",
       "<title>9289829400</title>\n",
       "<polygon fill=\"none\" points=\"210.2861,-584.5 210.2861,-620.5 381.8311,-620.5 381.8311,-584.5 210.2861,-584.5\" stroke=\"#000000\"/>\n",
       "<text fill=\"#000000\" font-family=\"Times,serif\" font-size=\"14.00\" text-anchor=\"middle\" x=\"296.0586\" y=\"-598.3\">Eneity2-Word: Concatenate</text>\n",
       "</g>\n",
       "<!-- 9291419488&#45;&gt;9289829400 -->\n",
       "<g class=\"edge\" id=\"edge7\">\n",
       "<title>9291419488-&gt;9289829400</title>\n",
       "<path d=\"M529.4294,-657.4551C484.9132,-646.9722 428.6932,-633.7333 382.5885,-622.8764\" fill=\"none\" stroke=\"#000000\"/>\n",
       "<polygon fill=\"#000000\" points=\"383.1477,-619.4124 372.6117,-620.527 381.5431,-626.226 383.1477,-619.4124\" stroke=\"#000000\"/>\n",
       "</g>\n",
       "<!-- 9291368208 -->\n",
       "<g class=\"node\" id=\"node15\">\n",
       "<title>9291368208</title>\n",
       "<polygon fill=\"none\" points=\"535.6362,-511.5 535.6362,-547.5 676.481,-547.5 676.481,-511.5 535.6362,-511.5\" stroke=\"#000000\"/>\n",
       "<text fill=\"#000000\" font-family=\"Times,serif\" font-size=\"14.00\" text-anchor=\"middle\" x=\"606.0586\" y=\"-525.3\">Convolution: Conv1D</text>\n",
       "</g>\n",
       "<!-- 9291419488&#45;&gt;9291368208 -->\n",
       "<g class=\"edge\" id=\"edge14\">\n",
       "<title>9291419488-&gt;9291368208</title>\n",
       "<path d=\"M606.0586,-602.5C604.5614,-587.7755 604.4302,-571.2939 604.7303,-557.7223\" fill=\"none\" stroke=\"#000000\"/>\n",
       "<polygon fill=\"#000000\" points=\"608.234,-557.655 605.0455,-547.5513 601.2373,-557.438 608.234,-557.655\" stroke=\"#000000\"/>\n",
       "</g>\n",
       "<!-- 9290894136 -->\n",
       "<g class=\"node\" id=\"node16\">\n",
       "<title>9290894136</title>\n",
       "<polygon fill=\"none\" points=\"674.667,-292.5 674.667,-328.5 913.4502,-328.5 913.4502,-292.5 674.667,-292.5\" stroke=\"#000000\"/>\n",
       "<text fill=\"#000000\" font-family=\"Times,serif\" font-size=\"14.00\" text-anchor=\"middle\" x=\"794.0586\" y=\"-306.3\">Attention1_based-Context-Feature: Dot</text>\n",
       "</g>\n",
       "<!-- 9291419488&#45;&gt;9290894136 -->\n",
       "<g class=\"edge\" id=\"edge16\">\n",
       "<title>9291419488-&gt;9290894136</title>\n",
       "<path d=\"M606.0586,-602.5C601.7437,-560.0631 650.9133,-573.5657 685.0586,-548 726.2867,-517.1312 750.269,-520.1455 775.0586,-475 798.6571,-432.0236 799.2459,-373.3023 797.0094,-338.8871\" fill=\"none\" stroke=\"#000000\"/>\n",
       "<polygon fill=\"#000000\" points=\"800.4756,-338.3162 796.2096,-328.6182 793.4968,-338.8598 800.4756,-338.3162\" stroke=\"#000000\"/>\n",
       "</g>\n",
       "<!-- 9496954080 -->\n",
       "<g class=\"node\" id=\"node17\">\n",
       "<title>9496954080</title>\n",
       "<polygon fill=\"none\" points=\"298.667,-292.5 298.667,-328.5 537.4502,-328.5 537.4502,-292.5 298.667,-292.5\" stroke=\"#000000\"/>\n",
       "<text fill=\"#000000\" font-family=\"Times,serif\" font-size=\"14.00\" text-anchor=\"middle\" x=\"418.0586\" y=\"-306.3\">Attention2_based-Context-Feature: Dot</text>\n",
       "</g>\n",
       "<!-- 9291419488&#45;&gt;9496954080 -->\n",
       "<g class=\"edge\" id=\"edge18\">\n",
       "<title>9291419488-&gt;9496954080</title>\n",
       "<path d=\"M606.8291,-657.4704C607.2762,-642.6779 607.5017,-621.2014 606.0586,-602.5\" fill=\"none\" stroke=\"#000000\"/>\n",
       "<path d=\"M606.0586,-602.5C602.7769,-559.9708 561.2039,-573.5657 527.0586,-548 485.8304,-517.1312 461.8482,-520.1455 437.0586,-475 413.4601,-432.0236 412.8712,-373.3023 415.1078,-338.8871\" fill=\"none\" stroke=\"#000000\"/>\n",
       "<polygon fill=\"#000000\" points=\"418.6204,-338.8598 415.9076,-328.6182 411.6416,-338.3162 418.6204,-338.8598\" stroke=\"#000000\"/>\n",
       "</g>\n",
       "<!-- 9289869016&#45;&gt;9290885496 -->\n",
       "<g class=\"edge\" id=\"edge4\">\n",
       "<title>9289869016-&gt;9290885496</title>\n",
       "<path d=\"M894.0586,-657.4551C894.0586,-649.3828 894.0586,-639.6764 894.0586,-630.6817\" fill=\"none\" stroke=\"#000000\"/>\n",
       "<polygon fill=\"#000000\" points=\"897.5587,-630.5903 894.0586,-620.5904 890.5587,-630.5904 897.5587,-630.5903\" stroke=\"#000000\"/>\n",
       "</g>\n",
       "<!-- 9286241808&#45;&gt;9289829400 -->\n",
       "<g class=\"edge\" id=\"edge6\">\n",
       "<title>9286241808-&gt;9289829400</title>\n",
       "<path d=\"M296.0586,-657.4551C296.0586,-649.3828 296.0586,-639.6764 296.0586,-630.6817\" fill=\"none\" stroke=\"#000000\"/>\n",
       "<polygon fill=\"#000000\" points=\"299.5587,-630.5903 296.0586,-620.5904 292.5587,-630.5904 299.5587,-630.5903\" stroke=\"#000000\"/>\n",
       "</g>\n",
       "<!-- 9290892288 -->\n",
       "<g class=\"node\" id=\"node9\">\n",
       "<title>9290892288</title>\n",
       "<polygon fill=\"none\" points=\"777.9326,-511.5 777.9326,-547.5 1162.1846,-547.5 1162.1846,-511.5 777.9326,-511.5\" stroke=\"#000000\"/>\n",
       "<text fill=\"#000000\" font-family=\"Times,serif\" font-size=\"14.00\" text-anchor=\"middle\" x=\"970.0586\" y=\"-525.3\">Computation1-Unit(Attention1-Hidden): TimeDistributed(Dense)</text>\n",
       "</g>\n",
       "<!-- 9290885496&#45;&gt;9290892288 -->\n",
       "<g class=\"edge\" id=\"edge8\">\n",
       "<title>9290885496-&gt;9290892288</title>\n",
       "<path d=\"M912.8451,-584.4551C922.1625,-575.5054 933.5713,-564.547 943.7429,-554.7769\" fill=\"none\" stroke=\"#000000\"/>\n",
       "<polygon fill=\"#000000\" points=\"946.4374,-557.0419 951.2248,-547.5904 941.5882,-551.9935 946.4374,-557.0419\" stroke=\"#000000\"/>\n",
       "</g>\n",
       "<!-- 9286322944 -->\n",
       "<g class=\"node\" id=\"node10\">\n",
       "<title>9286322944</title>\n",
       "<polygon fill=\"none\" points=\"49.9326,-511.5 49.9326,-547.5 434.1846,-547.5 434.1846,-511.5 49.9326,-511.5\" stroke=\"#000000\"/>\n",
       "<text fill=\"#000000\" font-family=\"Times,serif\" font-size=\"14.00\" text-anchor=\"middle\" x=\"242.0586\" y=\"-525.3\">Computation2-Unit(Attention2-Hidden): TimeDistributed(Dense)</text>\n",
       "</g>\n",
       "<!-- 9289829400&#45;&gt;9286322944 -->\n",
       "<g class=\"edge\" id=\"edge9\">\n",
       "<title>9289829400-&gt;9286322944</title>\n",
       "<path d=\"M282.7103,-584.4551C276.2847,-575.7686 268.4593,-565.1898 261.3965,-555.642\" fill=\"none\" stroke=\"#000000\"/>\n",
       "<polygon fill=\"#000000\" points=\"264.2014,-553.5484 255.4405,-547.5904 258.5737,-557.7113 264.2014,-553.5484\" stroke=\"#000000\"/>\n",
       "</g>\n",
       "<!-- 9290891504 -->\n",
       "<g class=\"node\" id=\"node11\">\n",
       "<title>9290891504</title>\n",
       "<polygon fill=\"none\" points=\"822,-438.5 822,-474.5 1212.1172,-474.5 1212.1172,-438.5 822,-438.5\" stroke=\"#000000\"/>\n",
       "<text fill=\"#000000\" font-family=\"Times,serif\" font-size=\"14.00\" text-anchor=\"middle\" x=\"1017.0586\" y=\"-452.3\">Computation1-Score(Attention1-Weight): TimeDistributed(Dense)</text>\n",
       "</g>\n",
       "<!-- 9290892288&#45;&gt;9290891504 -->\n",
       "<g class=\"edge\" id=\"edge10\">\n",
       "<title>9290892288-&gt;9290891504</title>\n",
       "<path d=\"M981.6766,-511.4551C987.1562,-502.9441 993.8055,-492.6165 999.8541,-483.2219\" fill=\"none\" stroke=\"#000000\"/>\n",
       "<polygon fill=\"#000000\" points=\"1002.9408,-484.8931 1005.4114,-474.5904 997.0551,-481.1037 1002.9408,-484.8931\" stroke=\"#000000\"/>\n",
       "</g>\n",
       "<!-- 9286323840 -->\n",
       "<g class=\"node\" id=\"node12\">\n",
       "<title>9286323840</title>\n",
       "<polygon fill=\"none\" points=\"0,-438.5 0,-474.5 390.1172,-474.5 390.1172,-438.5 0,-438.5\" stroke=\"#000000\"/>\n",
       "<text fill=\"#000000\" font-family=\"Times,serif\" font-size=\"14.00\" text-anchor=\"middle\" x=\"195.0586\" y=\"-452.3\">Computation2-Score(Attention2-Weight): TimeDistributed(Dense)</text>\n",
       "</g>\n",
       "<!-- 9286322944&#45;&gt;9286323840 -->\n",
       "<g class=\"edge\" id=\"edge11\">\n",
       "<title>9286322944-&gt;9286323840</title>\n",
       "<path d=\"M230.4406,-511.4551C224.961,-502.9441 218.3117,-492.6165 212.2631,-483.2219\" fill=\"none\" stroke=\"#000000\"/>\n",
       "<polygon fill=\"#000000\" points=\"215.0621,-481.1037 206.7058,-474.5904 209.1764,-484.8931 215.0621,-481.1037\" stroke=\"#000000\"/>\n",
       "</g>\n",
       "<!-- 9290514784 -->\n",
       "<g class=\"node\" id=\"node13\">\n",
       "<title>9290514784</title>\n",
       "<polygon fill=\"none\" points=\"884.9775,-365.5 884.9775,-401.5 1021.1396,-401.5 1021.1396,-365.5 884.9775,-365.5\" stroke=\"#000000\"/>\n",
       "<text fill=\"#000000\" font-family=\"Times,serif\" font-size=\"14.00\" text-anchor=\"middle\" x=\"953.0586\" y=\"-379.3\">Softmax1: Activation</text>\n",
       "</g>\n",
       "<!-- 9290891504&#45;&gt;9290514784 -->\n",
       "<g class=\"edge\" id=\"edge12\">\n",
       "<title>9290891504-&gt;9290514784</title>\n",
       "<path d=\"M1001.2384,-438.4551C993.546,-429.6809 984.1608,-418.9759 975.7242,-409.353\" fill=\"none\" stroke=\"#000000\"/>\n",
       "<polygon fill=\"#000000\" points=\"978.1428,-406.8024 968.9186,-401.5904 972.8792,-411.4171 978.1428,-406.8024\" stroke=\"#000000\"/>\n",
       "</g>\n",
       "<!-- 9282884664 -->\n",
       "<g class=\"node\" id=\"node14\">\n",
       "<title>9282884664</title>\n",
       "<polygon fill=\"none\" points=\"190.9775,-365.5 190.9775,-401.5 327.1396,-401.5 327.1396,-365.5 190.9775,-365.5\" stroke=\"#000000\"/>\n",
       "<text fill=\"#000000\" font-family=\"Times,serif\" font-size=\"14.00\" text-anchor=\"middle\" x=\"259.0586\" y=\"-379.3\">Softmax2: Activation</text>\n",
       "</g>\n",
       "<!-- 9286323840&#45;&gt;9282884664 -->\n",
       "<g class=\"edge\" id=\"edge13\">\n",
       "<title>9286323840-&gt;9282884664</title>\n",
       "<path d=\"M210.8788,-438.4551C218.5712,-429.6809 227.9564,-418.9759 236.393,-409.353\" fill=\"none\" stroke=\"#000000\"/>\n",
       "<polygon fill=\"#000000\" points=\"239.238,-411.4171 243.1986,-401.5904 233.9744,-406.8024 239.238,-411.4171\" stroke=\"#000000\"/>\n",
       "</g>\n",
       "<!-- 9290514784&#45;&gt;9290894136 -->\n",
       "<g class=\"edge\" id=\"edge15\">\n",
       "<title>9290514784-&gt;9290894136</title>\n",
       "<path d=\"M913.7552,-365.4551C892.2555,-355.5841 865.4333,-343.2695 842.632,-332.801\" fill=\"none\" stroke=\"#000000\"/>\n",
       "<polygon fill=\"#000000\" points=\"844.0092,-329.5821 833.4609,-328.5904 841.0885,-335.9437 844.0092,-329.5821\" stroke=\"#000000\"/>\n",
       "</g>\n",
       "<!-- 9282884664&#45;&gt;9496954080 -->\n",
       "<g class=\"edge\" id=\"edge17\">\n",
       "<title>9282884664-&gt;9496954080</title>\n",
       "<path d=\"M298.362,-365.4551C319.8616,-355.5841 346.6839,-343.2695 369.4852,-332.801\" fill=\"none\" stroke=\"#000000\"/>\n",
       "<polygon fill=\"#000000\" points=\"371.0287,-335.9437 378.6563,-328.5904 368.108,-329.5821 371.0287,-335.9437\" stroke=\"#000000\"/>\n",
       "</g>\n",
       "<!-- 9255898024 -->\n",
       "<g class=\"node\" id=\"node18\">\n",
       "<title>9255898024</title>\n",
       "<polygon fill=\"none\" points=\"446.2222,-438.5 446.2222,-474.5 765.895,-474.5 765.895,-438.5 446.2222,-438.5\" stroke=\"#000000\"/>\n",
       "<text fill=\"#000000\" font-family=\"Times,serif\" font-size=\"14.00\" text-anchor=\"middle\" x=\"606.0586\" y=\"-452.3\">Sentence-Convolution-Feature: GlobalMaxPooling1D</text>\n",
       "</g>\n",
       "<!-- 9291368208&#45;&gt;9255898024 -->\n",
       "<g class=\"edge\" id=\"edge19\">\n",
       "<title>9291368208-&gt;9255898024</title>\n",
       "<path d=\"M606.0586,-511.4551C606.0586,-503.3828 606.0586,-493.6764 606.0586,-484.6817\" fill=\"none\" stroke=\"#000000\"/>\n",
       "<polygon fill=\"#000000\" points=\"609.5587,-484.5903 606.0586,-474.5904 602.5587,-484.5904 609.5587,-484.5903\" stroke=\"#000000\"/>\n",
       "</g>\n",
       "<!-- 9290854472 -->\n",
       "<g class=\"node\" id=\"node19\">\n",
       "<title>9290854472</title>\n",
       "<polygon fill=\"none\" points=\"686.981,-219.5 686.981,-255.5 795.1362,-255.5 795.1362,-219.5 686.981,-219.5\" stroke=\"#000000\"/>\n",
       "<text fill=\"#000000\" font-family=\"Times,serif\" font-size=\"14.00\" text-anchor=\"middle\" x=\"741.0586\" y=\"-233.3\">Flatten1: Flatten</text>\n",
       "</g>\n",
       "<!-- 9290894136&#45;&gt;9290854472 -->\n",
       "<g class=\"edge\" id=\"edge20\">\n",
       "<title>9290894136-&gt;9290854472</title>\n",
       "<path d=\"M780.9575,-292.4551C774.7146,-283.8564 767.1254,-273.4034 760.2487,-263.9316\" fill=\"none\" stroke=\"#000000\"/>\n",
       "<polygon fill=\"#000000\" points=\"762.9001,-261.6262 754.1927,-255.5904 757.2356,-265.7388 762.9001,-261.6262\" stroke=\"#000000\"/>\n",
       "</g>\n",
       "<!-- 9286335288 -->\n",
       "<g class=\"node\" id=\"node20\">\n",
       "<title>9286335288</title>\n",
       "<polygon fill=\"none\" points=\"416.981,-219.5 416.981,-255.5 525.1362,-255.5 525.1362,-219.5 416.981,-219.5\" stroke=\"#000000\"/>\n",
       "<text fill=\"#000000\" font-family=\"Times,serif\" font-size=\"14.00\" text-anchor=\"middle\" x=\"471.0586\" y=\"-233.3\">Flatten2: Flatten</text>\n",
       "</g>\n",
       "<!-- 9496954080&#45;&gt;9286335288 -->\n",
       "<g class=\"edge\" id=\"edge21\">\n",
       "<title>9496954080-&gt;9286335288</title>\n",
       "<path d=\"M431.1597,-292.4551C437.4026,-283.8564 444.9918,-273.4034 451.8685,-263.9316\" fill=\"none\" stroke=\"#000000\"/>\n",
       "<polygon fill=\"#000000\" points=\"454.8816,-265.7388 457.9245,-255.5904 449.2171,-261.6262 454.8816,-265.7388\" stroke=\"#000000\"/>\n",
       "</g>\n",
       "<!-- 9291418984 -->\n",
       "<g class=\"node\" id=\"node21\">\n",
       "<title>9291418984</title>\n",
       "<polygon fill=\"none\" points=\"498.3564,-146.5 498.3564,-182.5 713.7607,-182.5 713.7607,-146.5 498.3564,-146.5\" stroke=\"#000000\"/>\n",
       "<text fill=\"#000000\" font-family=\"Times,serif\" font-size=\"14.00\" text-anchor=\"middle\" x=\"606.0586\" y=\"-160.3\">Concatenated-Feature: Concatenate</text>\n",
       "</g>\n",
       "<!-- 9255898024&#45;&gt;9291418984 -->\n",
       "<g class=\"edge\" id=\"edge22\">\n",
       "<title>9255898024-&gt;9291418984</title>\n",
       "<path d=\"M606.0586,-438.2341C606.0586,-388.8675 606.0586,-252.5016 606.0586,-192.947\" fill=\"none\" stroke=\"#000000\"/>\n",
       "<polygon fill=\"#000000\" points=\"609.5587,-192.759 606.0586,-182.759 602.5587,-192.759 609.5587,-192.759\" stroke=\"#000000\"/>\n",
       "</g>\n",
       "<!-- 9290854472&#45;&gt;9291418984 -->\n",
       "<g class=\"edge\" id=\"edge23\">\n",
       "<title>9290854472-&gt;9291418984</title>\n",
       "<path d=\"M707.6878,-219.4551C689.7579,-209.7596 667.4681,-197.7066 648.3359,-187.361\" fill=\"none\" stroke=\"#000000\"/>\n",
       "<polygon fill=\"#000000\" points=\"649.9745,-184.2682 639.5134,-182.5904 646.6449,-190.4257 649.9745,-184.2682\" stroke=\"#000000\"/>\n",
       "</g>\n",
       "<!-- 9286335288&#45;&gt;9291418984 -->\n",
       "<g class=\"edge\" id=\"edge24\">\n",
       "<title>9286335288-&gt;9291418984</title>\n",
       "<path d=\"M504.4294,-219.4551C522.3593,-209.7596 544.6491,-197.7066 563.7813,-187.361\" fill=\"none\" stroke=\"#000000\"/>\n",
       "<polygon fill=\"#000000\" points=\"565.4723,-190.4257 572.6038,-182.5904 562.1427,-184.2682 565.4723,-190.4257\" stroke=\"#000000\"/>\n",
       "</g>\n",
       "<!-- 9291418144 -->\n",
       "<g class=\"node\" id=\"node22\">\n",
       "<title>9291418144</title>\n",
       "<polygon fill=\"none\" points=\"539.5396,-73.5 539.5396,-109.5 672.5776,-109.5 672.5776,-73.5 539.5396,-73.5\" stroke=\"#000000\"/>\n",
       "<text fill=\"#000000\" font-family=\"Times,serif\" font-size=\"14.00\" text-anchor=\"middle\" x=\"606.0586\" y=\"-87.3\">MLP-Hidden: Dense</text>\n",
       "</g>\n",
       "<!-- 9291418984&#45;&gt;9291418144 -->\n",
       "<g class=\"edge\" id=\"edge25\">\n",
       "<title>9291418984-&gt;9291418144</title>\n",
       "<path d=\"M606.0586,-146.4551C606.0586,-138.3828 606.0586,-128.6764 606.0586,-119.6817\" fill=\"none\" stroke=\"#000000\"/>\n",
       "<polygon fill=\"#000000\" points=\"609.5587,-119.5903 606.0586,-109.5904 602.5587,-119.5904 609.5587,-119.5903\" stroke=\"#000000\"/>\n",
       "</g>\n",
       "<!-- 9291419320 -->\n",
       "<g class=\"node\" id=\"node23\">\n",
       "<title>9291419320</title>\n",
       "<polygon fill=\"none\" points=\"557.4258,-.5 557.4258,-36.5 654.6914,-36.5 654.6914,-.5 557.4258,-.5\" stroke=\"#000000\"/>\n",
       "<text fill=\"#000000\" font-family=\"Times,serif\" font-size=\"14.00\" text-anchor=\"middle\" x=\"606.0586\" y=\"-14.3\">Output: Dense</text>\n",
       "</g>\n",
       "<!-- 9291418144&#45;&gt;9291419320 -->\n",
       "<g class=\"edge\" id=\"edge26\">\n",
       "<title>9291418144-&gt;9291419320</title>\n",
       "<path d=\"M606.0586,-73.4551C606.0586,-65.3828 606.0586,-55.6764 606.0586,-46.6817\" fill=\"none\" stroke=\"#000000\"/>\n",
       "<polygon fill=\"#000000\" points=\"609.5587,-46.5903 606.0586,-36.5904 602.5587,-46.5904 609.5587,-46.5903\" stroke=\"#000000\"/>\n",
       "</g>\n",
       "</g>\n",
       "</svg>"
      ],
      "text/plain": [
       "<IPython.core.display.SVG object>"
      ]
     },
     "execution_count": 97,
     "metadata": {},
     "output_type": "execute_result"
    }
   ],
   "source": [
    "SVG(model_to_dot(model).create(prog='dot', format='svg'))"
   ]
  },
  {
   "cell_type": "markdown",
   "metadata": {},
   "source": [
    "# Train"
   ]
  },
  {
   "cell_type": "code",
   "execution_count": 98,
   "metadata": {
    "collapsed": true
   },
   "outputs": [],
   "source": [
    "from keras.callbacks import TensorBoard, ModelCheckpoint, EarlyStopping, ReduceLROnPlateau"
   ]
  },
  {
   "cell_type": "code",
   "execution_count": 99,
   "metadata": {
    "collapsed": true
   },
   "outputs": [],
   "source": [
    "#tensorboard = TensorBoard(log_dir='./tb_logs', histogram_freq=1, write_graph=True, write_images=True, embeddings_freq=1)\n",
    "filepath = 'cp_logs/weights.{epoch:03d}-{val_categorical_accuracy:.3f}.hdf5'\n",
    "checkpoint = ModelCheckpoint(filepath, monitor='val_categorical_accuracy', verbose=1, save_best_only=True)\n",
    "earlystopping = EarlyStopping(monitor='val_categorical_accuracy', verbose=1, patience=3)\n",
    "reducelr = ReduceLROnPlateau(monitor='val_categorical_accuracy', verbose=1, factor=0.5, patience=1)"
   ]
  },
  {
   "cell_type": "code",
   "execution_count": 100,
   "metadata": {
    "scrolled": false
   },
   "outputs": [
    {
     "name": "stdout",
     "output_type": "stream",
     "text": [
      "Train on 7000 samples, validate on 1000 samples\n",
      "Epoch 1/128\n",
      "6992/7000 [============================>.] - ETA: 0s - loss: 14.1142 - acc: 0.1217 - categorical_accuracy: 0.1217Epoch 00000: val_categorical_accuracy improved from -inf to 0.12900, saving model to cp_logs/weights.000-0.129.hdf5\n",
      "7000/7000 [==============================] - 110s - loss: 14.1165 - acc: 0.1216 - categorical_accuracy: 0.1216 - val_loss: 14.0389 - val_acc: 0.1290 - val_categorical_accuracy: 0.1290\n",
      "Epoch 2/128\n",
      "6992/7000 [============================>.] - ETA: 0s - loss: 14.1079 - acc: 0.1247 - categorical_accuracy: 0.1247Epoch 00001: val_categorical_accuracy did not improve\n",
      "7000/7000 [==============================] - 117s - loss: 14.1056 - acc: 0.1249 - categorical_accuracy: 0.1249 - val_loss: 14.0389 - val_acc: 0.1290 - val_categorical_accuracy: 0.1290\n",
      "Epoch 3/128\n",
      "6992/7000 [============================>.] - ETA: 0s - loss: 14.1079 - acc: 0.1247 - categorical_accuracy: 0.1247Epoch 00002: val_categorical_accuracy did not improve\n",
      "\n",
      "Epoch 00002: reducing learning rate to 0.009999999776482582.\n",
      "7000/7000 [==============================] - 111s - loss: 14.1056 - acc: 0.1249 - categorical_accuracy: 0.1249 - val_loss: 14.0389 - val_acc: 0.1290 - val_categorical_accuracy: 0.1290\n",
      "Epoch 4/128\n",
      "6992/7000 [============================>.] - ETA: 0s - loss: 14.1033 - acc: 0.1250 - categorical_accuracy: 0.1250Epoch 00003: val_categorical_accuracy did not improve\n",
      "\n",
      "Epoch 00003: reducing learning rate to 0.004999999888241291.\n",
      "7000/7000 [==============================] - 112s - loss: 14.1056 - acc: 0.1249 - categorical_accuracy: 0.1249 - val_loss: 14.0389 - val_acc: 0.1290 - val_categorical_accuracy: 0.1290\n",
      "Epoch 5/128\n",
      "6992/7000 [============================>.] - ETA: 0s - loss: 14.1056 - acc: 0.1249 - categorical_accuracy: 0.1249Epoch 00004: val_categorical_accuracy did not improve\n",
      "\n",
      "Epoch 00004: reducing learning rate to 0.0024999999441206455.\n",
      "7000/7000 [==============================] - 111s - loss: 14.1056 - acc: 0.1249 - categorical_accuracy: 0.1249 - val_loss: 14.0389 - val_acc: 0.1290 - val_categorical_accuracy: 0.1290\n",
      "Epoch 00004: early stopping\n"
     ]
    }
   ],
   "source": [
    "history = model.fit([sen_X1_train, en_X1_train, en_X2_train], [Y_train], batch_size=BATCH_SIZE, epochs=NUM_EPOCHS,\n",
    "                    validation_data=([sen_X1_val, en_X1_val, en_X2_val], [Y_val]), callbacks=[checkpoint, earlystopping, reducelr])"
   ]
  }
 ],
 "metadata": {
  "kernelspec": {
   "display_name": "Python 3",
   "language": "python",
   "name": "python3"
  },
  "language_info": {
   "codemirror_mode": {
    "name": "ipython",
    "version": 3
   },
   "file_extension": ".py",
   "mimetype": "text/x-python",
   "name": "python",
   "nbconvert_exporter": "python",
   "pygments_lexer": "ipython3",
   "version": "3.6.2"
  },
  "toc": {
   "colors": {
    "hover_highlight": "#DAA520",
    "navigate_num": "#000000",
    "navigate_text": "#333333",
    "running_highlight": "#FF0000",
    "selected_highlight": "#FFD700",
    "sidebar_border": "#EEEEEE",
    "wrapper_background": "#FFFFFF"
   },
   "moveMenuLeft": true,
   "nav_menu": {
    "height": "32px",
    "width": "252px"
   },
   "navigate_menu": true,
   "number_sections": true,
   "sideBar": true,
   "threshold": 4,
   "toc_cell": false,
   "toc_position": {
    "height": "883px",
    "left": "0px",
    "right": "auto",
    "top": "106px",
    "width": "169px"
   },
   "toc_section_display": "block",
   "toc_window_display": false,
   "widenNotebook": false
  }
 },
 "nbformat": 4,
 "nbformat_minor": 2
}
