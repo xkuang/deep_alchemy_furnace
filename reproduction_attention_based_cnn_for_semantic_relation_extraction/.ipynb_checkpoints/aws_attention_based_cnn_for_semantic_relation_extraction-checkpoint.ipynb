{
 "cells": [
  {
   "cell_type": "markdown",
   "metadata": {},
   "source": [
    "# Data Preprocessing"
   ]
  },
  {
   "cell_type": "markdown",
   "metadata": {
    "heading_collapsed": true
   },
   "source": [
    "## Get the Data"
   ]
  },
  {
   "cell_type": "code",
   "execution_count": 1,
   "metadata": {
    "collapsed": true,
    "hidden": true
   },
   "outputs": [],
   "source": [
    "import os"
   ]
  },
  {
   "cell_type": "code",
   "execution_count": 2,
   "metadata": {
    "collapsed": true,
    "hidden": true
   },
   "outputs": [],
   "source": [
    "def load_data(path):\n",
    "    \"\"\"\n",
    "    Load date from file\n",
    "    \"\"\"\n",
    "    input_file = os.path.join(path)\n",
    "    with open(input_file, 'r', encoding='utf-8') as f:\n",
    "        return f.read()"
   ]
  },
  {
   "cell_type": "code",
   "execution_count": 3,
   "metadata": {
    "collapsed": true,
    "hidden": true
   },
   "outputs": [],
   "source": [
    "raw_data_path = 'raw_data.txt'\n",
    "raw_data = load_data(raw_data_path)"
   ]
  },
  {
   "cell_type": "markdown",
   "metadata": {
    "heading_collapsed": true
   },
   "source": [
    "## Explore the Data"
   ]
  },
  {
   "cell_type": "code",
   "execution_count": 4,
   "metadata": {
    "collapsed": true,
    "hidden": true
   },
   "outputs": [],
   "source": [
    "import re"
   ]
  },
  {
   "cell_type": "code",
   "execution_count": 5,
   "metadata": {
    "collapsed": true,
    "hidden": true
   },
   "outputs": [],
   "source": [
    "def clean1(raw_list):\n",
    "    \"\"\"\n",
    "    Merge eneity\n",
    "    \"\"\"\n",
    "    for i in range(len(raw_list)):\n",
    "        if len(raw_list[i]) == 3:\n",
    "            for j in range(3):\n",
    "                if not re.search('<e1>.+</e1>', raw_list[i][j]) and not re.search('<e2>.+</e2>', raw_list[i][j]):\n",
    "                    raw_list[i][j] = raw_list[i][j] + '+' + raw_list[i][j+1]\n",
    "                    del raw_list[i][j+1]\n",
    "                    break\n",
    "        elif len(raw_list[i]) == 4:\n",
    "             raw_list[i][0] = raw_list[i][0] + '+' + raw_list[i][1]\n",
    "             raw_list[i][1] = raw_list[i][2] + '+' + raw_list[i][3]\n",
    "             raw_list[i].pop()\n",
    "             raw_list[i].pop()\n",
    "    return raw_list\n",
    "\n",
    "def clean2(raw_list):\n",
    "    \"\"\"\n",
    "    Remove \"'s\"'<e1>''</e1>''<e2>''</e2>'\n",
    "    \"\"\"\n",
    "    for i in range(len(raw_list)):\n",
    "        for j in range(2):\n",
    "            if raw_list[i][j].endswith('s'):\n",
    "                raw_list[i][j] = raw_list[i][j][:-2]\n",
    "    new_list = [[w[4:-5] for w in s] for s in raw_list]\n",
    "    return new_list\n",
    "\n",
    "def substitute(sentences, eneities):\n",
    "    \"\"\"\n",
    "    Substitute the raw eneities of sentences with eneities\n",
    "    \"\"\"\n",
    "    for i in range(len(sentences)):\n",
    "        sentences[i], _ = re.subn('<e1>.+\\s?.+</e1>', eneities[i][0], sentences[i])\n",
    "        sentences[i], _ = re.subn('<e2>.+\\s?.+</e2>', eneities[i][1], sentences[i])\n",
    "    return sentences     "
   ]
  },
  {
   "cell_type": "code",
   "execution_count": 6,
   "metadata": {
    "collapsed": true,
    "hidden": true
   },
   "outputs": [],
   "source": [
    "raw_data = raw_data.strip().split('\\t')[1:]\n",
    "new_data = [line.split('\\n')[:2] for line in raw_data]\n",
    "raw_sentences = [line[0] for line in new_data]\n",
    "relations = [line[1] if line[1] == 'Other' else line[1][:-7] for line in new_data]\n",
    "sen_words = [[w.strip(\"\\\"':;.,?!\\)(\").lower() for w in s.split()] for s in raw_sentences]\n",
    "sen_words = [[w[:-2] if w.endswith(\"'s\") else w for w in s ] for s in sen_words]\n",
    "raw_eneities = [[w for w in s \n",
    "                 if re.search('<e1>', w) or re.search('</e1>', w) or re.search('<e2>', w) or re.search('</e2>', w)] \n",
    "                 for s in sen_words]\n",
    "eneities = clean2(clean1(raw_eneities))\n",
    "sentences = substitute([' '.join(s) for s in sen_words], eneities)"
   ]
  },
  {
   "cell_type": "markdown",
   "metadata": {
    "heading_collapsed": true,
    "hidden": true
   },
   "source": [
    "### Sentence"
   ]
  },
  {
   "cell_type": "code",
   "execution_count": 7,
   "metadata": {
    "hidden": true
   },
   "outputs": [
    {
     "data": {
      "text/plain": [
       "'the lawsonite was contained in a platinum+crucible and the counter-weight was a plastic crucible with metal pieces'"
      ]
     },
     "execution_count": 7,
     "metadata": {},
     "output_type": "execute_result"
    }
   ],
   "source": [
    "sentences[8]"
   ]
  },
  {
   "cell_type": "code",
   "execution_count": 8,
   "metadata": {
    "hidden": true
   },
   "outputs": [
    {
     "name": "stdout",
     "output_type": "stream",
     "text": [
      "MAX_LEN = 85\n"
     ]
    }
   ],
   "source": [
    "MAX_LEN = max([len(s.split()) for s in sentences])\n",
    "print('MAX_LEN =', MAX_LEN)"
   ]
  },
  {
   "cell_type": "markdown",
   "metadata": {
    "heading_collapsed": true,
    "hidden": true
   },
   "source": [
    "### Eneity"
   ]
  },
  {
   "cell_type": "code",
   "execution_count": 9,
   "metadata": {
    "hidden": true
   },
   "outputs": [
    {
     "data": {
      "text/plain": [
       "['lawsonite', 'platinum+crucible']"
      ]
     },
     "execution_count": 9,
     "metadata": {},
     "output_type": "execute_result"
    }
   ],
   "source": [
    "eneities[8]"
   ]
  },
  {
   "cell_type": "markdown",
   "metadata": {
    "heading_collapsed": true,
    "hidden": true
   },
   "source": [
    "### Relation"
   ]
  },
  {
   "cell_type": "code",
   "execution_count": 10,
   "metadata": {
    "hidden": true
   },
   "outputs": [
    {
     "data": {
      "text/plain": [
       "'Content-Container'"
      ]
     },
     "execution_count": 10,
     "metadata": {},
     "output_type": "execute_result"
    }
   ],
   "source": [
    "relations[8]"
   ]
  },
  {
   "cell_type": "markdown",
   "metadata": {
    "heading_collapsed": true
   },
   "source": [
    "## Tokenize Text"
   ]
  },
  {
   "cell_type": "markdown",
   "metadata": {
    "heading_collapsed": true,
    "hidden": true
   },
   "source": [
    "### Build Vocabulary"
   ]
  },
  {
   "cell_type": "code",
   "execution_count": 11,
   "metadata": {
    "collapsed": true,
    "hidden": true
   },
   "outputs": [],
   "source": [
    "from collections import Counter"
   ]
  },
  {
   "cell_type": "code",
   "execution_count": 12,
   "metadata": {
    "collapsed": true,
    "hidden": true
   },
   "outputs": [],
   "source": [
    "def get_vocab(text):\n",
    "    \"\"\"\n",
    "    Get vocabulary and word's counts\n",
    "    \"\"\"\n",
    "    vocab_counts = Counter(w for t in text for w in t.split())\n",
    "    vocab = sorted(vocab_counts, key=vocab_counts.get, reverse=True)\n",
    "    return vocab"
   ]
  },
  {
   "cell_type": "code",
   "execution_count": 13,
   "metadata": {
    "collapsed": true,
    "hidden": true
   },
   "outputs": [],
   "source": [
    "sen_vocab = get_vocab(sentences)\n",
    "rel_vocab = get_vocab(relations)"
   ]
  },
  {
   "cell_type": "code",
   "execution_count": 14,
   "metadata": {
    "hidden": true
   },
   "outputs": [
    {
     "name": "stdout",
     "output_type": "stream",
     "text": [
      "VOCAB_SIZE = 20469\n"
     ]
    }
   ],
   "source": [
    "VOCAB_SIZE = len(sen_vocab) + 1\n",
    "print('VOCAB_SIZE =', VOCAB_SIZE)"
   ]
  },
  {
   "cell_type": "code",
   "execution_count": 15,
   "metadata": {
    "hidden": true
   },
   "outputs": [
    {
     "name": "stdout",
     "output_type": "stream",
     "text": [
      "['Other', 'Cause-Effect', 'Component-Whole', 'Entity-Destination', 'Product-Producer', 'Entity-Origin', 'Member-Collection', 'Message-Topic', 'Content-Container', 'Instrument-Agency']\n"
     ]
    }
   ],
   "source": [
    "print(rel_vocab)"
   ]
  },
  {
   "cell_type": "code",
   "execution_count": 16,
   "metadata": {
    "hidden": true
   },
   "outputs": [
    {
     "name": "stdout",
     "output_type": "stream",
     "text": [
      "CATEGORY = 10\n"
     ]
    }
   ],
   "source": [
    "CATEGORY = len(rel_vocab)\n",
    "print('CATEGORY =', CATEGORY)"
   ]
  },
  {
   "cell_type": "markdown",
   "metadata": {
    "heading_collapsed": true,
    "hidden": true
   },
   "source": [
    "### Index Words"
   ]
  },
  {
   "cell_type": "code",
   "execution_count": 17,
   "metadata": {
    "collapsed": true,
    "hidden": true
   },
   "outputs": [],
   "source": [
    "PAD = 0"
   ]
  },
  {
   "cell_type": "code",
   "execution_count": 18,
   "metadata": {
    "collapsed": true,
    "hidden": true
   },
   "outputs": [],
   "source": [
    "sen_word2idx = {w: i+1 for i, w in enumerate(sen_vocab)}\n",
    "sen_word2idx['<PAD>'] = PAD\n",
    "sen_idx2word = {i: w for w, i in sen_word2idx.items()}\n",
    "rel_word2idx = {w: i for i, w in enumerate(rel_vocab)}\n",
    "rel_idx2word = {i: w for w, i in rel_word2idx.items()}"
   ]
  },
  {
   "cell_type": "code",
   "execution_count": 19,
   "metadata": {
    "collapsed": true,
    "hidden": true
   },
   "outputs": [],
   "source": [
    "sen_id = [[sen_word2idx[w] for w in s.split()] for s in sentences]\n",
    "rel_id = [[rel_word2idx[w] for w in s.split()] for s in relations]\n",
    "ent_id = [[sen_word2idx[w] for w in s] for s in eneities]"
   ]
  },
  {
   "cell_type": "markdown",
   "metadata": {
    "heading_collapsed": true
   },
   "source": [
    "## Creat Word Embeddings with Glove"
   ]
  },
  {
   "cell_type": "code",
   "execution_count": 20,
   "metadata": {
    "collapsed": true,
    "hidden": true
   },
   "outputs": [],
   "source": [
    "EMBEDDING_DIM = 300\n",
    "SEED = 42"
   ]
  },
  {
   "cell_type": "markdown",
   "metadata": {
    "heading_collapsed": true,
    "hidden": true
   },
   "source": [
    "### Read Glove"
   ]
  },
  {
   "cell_type": "code",
   "execution_count": 21,
   "metadata": {
    "hidden": true
   },
   "outputs": [
    {
     "data": {
      "text/plain": [
       "1917495"
      ]
     },
     "execution_count": 21,
     "metadata": {},
     "output_type": "execute_result"
    }
   ],
   "source": [
    "glove_n_symbols = !wc -l /Users/lizhn7/Downloads/DATA/Glove/glove.42B.300d.txt\n",
    "glove_n_symbols = int(glove_n_symbols[0].split()[0])\n",
    "glove_n_symbols"
   ]
  },
  {
   "cell_type": "code",
   "execution_count": 22,
   "metadata": {
    "collapsed": true,
    "hidden": true
   },
   "outputs": [],
   "source": [
    "import numpy as np"
   ]
  },
  {
   "cell_type": "code",
   "execution_count": 23,
   "metadata": {
    "collapsed": true,
    "hidden": true
   },
   "outputs": [],
   "source": [
    "glove_idx_dict = {}\n",
    "glove_embedding_weights = np.empty((glove_n_symbols, EMBEDDING_DIM))\n",
    "globale_scale = 0.1\n",
    "with open('/Users/lizhn7/Downloads/DATA/Glove/glove.42B.300d.txt', 'r') as fp:\n",
    "    idx = 0\n",
    "    for l in fp:\n",
    "        l = l.strip().split()\n",
    "        word = l[0]\n",
    "        glove_idx_dict[word] = idx\n",
    "        glove_embedding_weights[idx, :] = [float(n) for n in l[1:]]\n",
    "        idx += 1\n",
    "glove_embedding_weights *= globale_scale"
   ]
  },
  {
   "cell_type": "code",
   "execution_count": 24,
   "metadata": {
    "hidden": true
   },
   "outputs": [
    {
     "data": {
      "text/plain": [
       "0.029510716778162933"
      ]
     },
     "execution_count": 24,
     "metadata": {},
     "output_type": "execute_result"
    }
   ],
   "source": [
    "glove_embedding_weights.std()"
   ]
  },
  {
   "cell_type": "markdown",
   "metadata": {
    "heading_collapsed": true,
    "hidden": true
   },
   "source": [
    "### Use Glove to Initialize Embedding Matrix"
   ]
  },
  {
   "cell_type": "code",
   "execution_count": 25,
   "metadata": {
    "collapsed": true,
    "hidden": true
   },
   "outputs": [],
   "source": [
    "# generate random embedding with same scale as glove\n",
    "np.random.seed(SEED)\n",
    "shape = (VOCAB_SIZE, EMBEDDING_DIM)\n",
    "scale = glove_embedding_weights.std()*np.sqrt(12)/2\n",
    "embedding = np.random.uniform(low=-scale, high=scale, size=shape)"
   ]
  },
  {
   "cell_type": "code",
   "execution_count": 26,
   "metadata": {
    "collapsed": true,
    "hidden": true
   },
   "outputs": [],
   "source": [
    "clean_dict = {\n",
    "    'semi-': 'semi', 'attack-': 'attack', 'squatter-': 'squatter', 'foam-': 'foam',\n",
    "    'vboost-': 'vboost', 'con-': 'con', 'crush-': 'crush', 'mag-': 'mag',\n",
    "    'four-year-': 'four+year', 'is-': 'is', 'guard-': 'guard', 'similar--': 'similar',\n",
    "    'low-': 'low', '10-': '10', \"he'd\": 'he+would', \"she'd\": 'she+would', \"wasn't\": 'was+not',\n",
    "    \"we've\": 'we+have', \"they've\": 'they+have', \"who've\": 'who+have', \"they're\": 'they+are',\n",
    "    'codario-ferrino': 'ferrino', 'high-definition+broadcast': 'highdefinition+broadcast',\n",
    "    'white-o-mornin': 'white-mornin', \"abu'l-qasim\": 'abu-qasim', 'outer-surface+a': 'surface',\n",
    "    'hai-hsi-pu': 'hai-hsi', '--40': '40', 'braich-y-pwll': 'braich-pwll',\n",
    "    'gold-plated+cylinder': 'goldplated+cylinder', 'the71-year-old': '71-year-old',\n",
    "    'not-too-acidic': 'not-acidic', 'e-mail+address': 'email+address', 'expressed(r-es': 'expressed',\n",
    "    'e-post+card': 'epost+card', 'spout-to-cup': 'spout-cup',\n",
    "    'on-going+events': 'ongoing+events', 're-hydration+tablets': 'rehydration+tablets',\n",
    "    'stock-index+futures': 'stock+futures', 'freeman-walter-abele': 'walter-abele',\n",
    "    'barrister-cum-writer': 'barrister+writer', 'mah-jongg+set': 'mahjongg+set', \n",
    "    'intricately-ptterned': 'intricately-patterned', 'eight-year-old+boy': 'boy', \n",
    "    'multi-user+dungeon': 'multiuser+dungeon', 'teacher-to-learner': 'teacher-learner'\n",
    "}"
   ]
  },
  {
   "cell_type": "code",
   "execution_count": 27,
   "metadata": {
    "hidden": true,
    "scrolled": true
   },
   "outputs": [
    {
     "name": "stdout",
     "output_type": "stream",
     "text": [
      "20045--97.93% tokens in vocabulary found in glove and copied to embedding.\n"
     ]
    }
   ],
   "source": [
    "# copy from glove weights of words that appear in sen_idx2word\n",
    "c = 0\n",
    "for i in range(VOCAB_SIZE):\n",
    "    w = sen_idx2word[i]\n",
    "    w = clean_dict.get(w, w)\n",
    "    g = glove_idx_dict.get(w)\n",
    "    if g is None and w.find('+') != -1:\n",
    "        w1 = w[:w.find('+')]\n",
    "        g1 = glove_idx_dict.get(w1)\n",
    "        w2 = w[w.find('+')+1:]\n",
    "        g2 = glove_idx_dict.get(w2)\n",
    "        if g1 is not None and g2 is not None:\n",
    "            embedding[i, :] = glove_embedding_weights[g1, :]+glove_embedding_weights[g2, :]\n",
    "            c += 1\n",
    "    if g is None and w.find('-') != -1:\n",
    "        w1 = w[:w.find('-')]\n",
    "        g1 = glove_idx_dict.get(w1)\n",
    "        w2 = w[w.find('-')+1:]\n",
    "        g2 = glove_idx_dict.get(w2)\n",
    "        if g1 is not None and g2 is not None:\n",
    "            embedding[i, :] = glove_embedding_weights[g1, :]+glove_embedding_weights[g2, :]\n",
    "            c += 1\n",
    "    if g is not None:\n",
    "        embedding[i, :] = glove_embedding_weights[g, :]\n",
    "        c += 1\n",
    "print('{num_tokens}--{percentage:4.2f}% tokens in vocabulary found in glove and copied to embedding.'.format(num_tokens=c, percentage=c/float(VOCAB_SIZE)*100))"
   ]
  },
  {
   "cell_type": "markdown",
   "metadata": {
    "heading_collapsed": true
   },
   "source": [
    "## Build Dateset"
   ]
  },
  {
   "cell_type": "code",
   "execution_count": 28,
   "metadata": {
    "hidden": true,
    "scrolled": true
   },
   "outputs": [
    {
     "name": "stderr",
     "output_type": "stream",
     "text": [
      "Using TensorFlow backend.\n"
     ]
    }
   ],
   "source": [
    "from keras.preprocessing import sequence\n",
    "from keras.utils import np_utils"
   ]
  },
  {
   "cell_type": "code",
   "execution_count": 29,
   "metadata": {
    "collapsed": true,
    "hidden": true
   },
   "outputs": [],
   "source": [
    "def convert_seq(sen_id, rel_id):\n",
    "    \"\"\"\n",
    "    Pad sen_id to MAX_LEN and encode rel_id to one-hot encoding\n",
    "    \"\"\"\n",
    "    new_sen_id = sequence.pad_sequences(sen_id, maxlen=MAX_LEN, value=PAD, padding='post')\n",
    "    new_rel_id = np_utils.to_categorical(np.asarray(rel_id))\n",
    "    return new_sen_id, new_rel_id\n",
    "\n",
    "def convert_ent(ent_id, sen_id):\n",
    "    \"\"\"\n",
    "    Convert data to entity-word vectors \n",
    "    \"\"\"\n",
    "    EW1 = []\n",
    "    EW2 = []\n",
    "    for i in range(len(ent_id)):\n",
    "        EW1.append([[ent_id[i][0], w] for w in sen_id[i]])\n",
    "        EW2.append([[ent_id[i][1], w] for w in sen_id[i]])\n",
    "    EW1 = sequence.pad_sequences(EW1, maxlen=MAX_LEN, value=PAD, padding='post')\n",
    "    EW2 = sequence.pad_sequences(EW2, maxlen=MAX_LEN, value=PAD, padding='post')\n",
    "    return EW1, EW2"
   ]
  },
  {
   "cell_type": "code",
   "execution_count": 30,
   "metadata": {
    "collapsed": true,
    "hidden": true
   },
   "outputs": [],
   "source": [
    "sen_X1, Y = convert_seq(sen_id, rel_id)\n",
    "en_X1, en_X2 = convert_ent(ent_id, sen_id) "
   ]
  },
  {
   "cell_type": "code",
   "execution_count": 31,
   "metadata": {
    "collapsed": true,
    "hidden": true
   },
   "outputs": [],
   "source": [
    "from sklearn.model_selection import train_test_split"
   ]
  },
  {
   "cell_type": "code",
   "execution_count": 32,
   "metadata": {
    "collapsed": true,
    "hidden": true
   },
   "outputs": [],
   "source": [
    "sen_X1_train, sen_X1_val, Y_train, Y_val = train_test_split(sen_X1, Y, test_size=1000, random_state=SEED)\n",
    "en_X1_train, en_X1_val, en_X2_train, en_X2_val = train_test_split(en_X1, en_X2, test_size=1000, random_state=SEED)"
   ]
  },
  {
   "cell_type": "markdown",
   "metadata": {
    "heading_collapsed": true
   },
   "source": [
    "## Save Data"
   ]
  },
  {
   "cell_type": "code",
   "execution_count": 33,
   "metadata": {
    "collapsed": true,
    "hidden": true
   },
   "outputs": [],
   "source": [
    "import h5py"
   ]
  },
  {
   "cell_type": "code",
   "execution_count": 34,
   "metadata": {
    "collapsed": true,
    "hidden": true
   },
   "outputs": [],
   "source": [
    "fh = h5py.File('train.h5','w')\n",
    "fh.create_dataset('train_sen_X1', data = sen_X1_train)\n",
    "fh.create_dataset('train_Y', data = Y_train)\n",
    "fh.create_dataset('train_en_X1',data = en_X1_train[:, :, 0])\n",
    "fh.create_dataset('train_en_X2',data = en_X2_train[:, :, 0])\n",
    "fh.close()"
   ]
  },
  {
   "cell_type": "code",
   "execution_count": 35,
   "metadata": {
    "collapsed": true,
    "hidden": true
   },
   "outputs": [],
   "source": [
    "fh = h5py.File('val.h5', 'w')\n",
    "fh['val_sen_X1'] = sen_X1_val\n",
    "fh['val_Y'] = Y_val\n",
    "fh['val_en_X1'] = en_X1_val[:, :, 0]\n",
    "fh['val_en_X2'] = en_X2_val[:, :, 0]\n",
    "fh.close()"
   ]
  },
  {
   "cell_type": "code",
   "execution_count": 36,
   "metadata": {
    "collapsed": true,
    "hidden": true
   },
   "outputs": [],
   "source": [
    "with h5py.File('emb.h5','w') as fh:\n",
    "    fh['embedding'] = embedding"
   ]
  },
  {
   "cell_type": "code",
   "execution_count": 37,
   "metadata": {
    "collapsed": true,
    "hidden": true
   },
   "outputs": [],
   "source": [
    "import pickle"
   ]
  },
  {
   "cell_type": "code",
   "execution_count": 38,
   "metadata": {
    "collapsed": true,
    "hidden": true
   },
   "outputs": [],
   "source": [
    "with open('index.pkl', 'wb') as fp:\n",
    "    pickle.dump((sen_word2idx, sen_idx2word, rel_word2idx, rel_idx2word), fp, -1)"
   ]
  },
  {
   "cell_type": "markdown",
   "metadata": {},
   "source": [
    "# Checkpoint"
   ]
  },
  {
   "cell_type": "code",
   "execution_count": 1,
   "metadata": {
    "collapsed": true
   },
   "outputs": [],
   "source": [
    "import h5py\n",
    "import pickle\n",
    "\n",
    "fh = h5py.File('train.h5', 'r')\n",
    "sen_X1_train = fh['train_sen_X1'][:]\n",
    "Y_train = fh['train_Y'][:]\n",
    "en_X1_train = fh['train_en_X1'][:]\n",
    "en_X2_train = fh['train_en_X2'][:]\n",
    "fh.close()\n",
    "\n",
    "sen_X1_train.shape, Y_train.shape, en_X1_train.shape, en_X2_train.shape\n",
    "\n",
    "with h5py.File('val.h5', 'r') as fh:\n",
    "    sen_X1_val = fh['val_sen_X1'][:]\n",
    "    Y_val = fh['val_Y'][:]\n",
    "    en_X1_val = fh['val_en_X1'][:]\n",
    "    en_X2_val = fh['val_en_X2'][:]\n",
    "\n",
    "sen_X1_val.shape, Y_val.shape, en_X1_val.shape, en_X2_val.shape\n",
    "\n",
    "with h5py.File('emb.h5','r') as fh:  \n",
    "    embedding = fh['embedding'][:] \n",
    "\n",
    "with open('index.pkl', 'rb') as fp:\n",
    "    sen_word2idx, sen_idx2word, rel_word2idx, rel_idx2word = pickle.load(fp)"
   ]
  },
  {
   "cell_type": "markdown",
   "metadata": {},
   "source": [
    "# Build Model"
   ]
  },
  {
   "cell_type": "markdown",
   "metadata": {},
   "source": [
    "## Set Hyperparameters"
   ]
  },
  {
   "cell_type": "code",
   "execution_count": 2,
   "metadata": {
    "collapsed": true
   },
   "outputs": [],
   "source": [
    "NUM_EPOCHS = 256\n",
    "BATCH_SIZE = 32\n",
    "MAX_LEN = 85\n",
    "VOCAB_SIZE = 20469\n",
    "CATEGORY = 10\n",
    "EMBEDDING_SIZE = 300\n",
    "CNN_SIZE = 128\n",
    "#CNN_HIDDEN_SIZE = 600\n",
    "WINDOW_SIZE = 3\n",
    "#POOL_SIZE = 2\n",
    "ATT_HIDDEN_SIZE = 120\n",
    "MLP_HIDDEN1_SIZE = 240\n",
    "MLP_HIDDEN2_SIZE = 120\n",
    "LEARNING_RATE = 0.001\n",
    "PAD = 0\n",
    "SEED = 42"
   ]
  },
  {
   "cell_type": "markdown",
   "metadata": {},
   "source": [
    "## Build Graph"
   ]
  },
  {
   "cell_type": "code",
   "execution_count": 3,
   "metadata": {},
   "outputs": [
    {
     "name": "stderr",
     "output_type": "stream",
     "text": [
      "Using TensorFlow backend.\n"
     ]
    }
   ],
   "source": [
    "from keras.layers import Input, Embedding\n",
    "from keras.layers import Conv1D, GlobalMaxPooling1D, MaxPooling1D\n",
    "from keras.layers import Dense, Flatten, Activation\n",
    "from keras.layers import concatenate, dot\n",
    "from keras.layers import TimeDistributed\n",
    "from keras.models import Model\n",
    "from keras import optimizers\n",
    "from keras.initializers import RandomUniform  "
   ]
  },
  {
   "cell_type": "markdown",
   "metadata": {},
   "source": [
    "### Sentence Convolution"
   ]
  },
  {
   "cell_type": "code",
   "execution_count": 4,
   "metadata": {
    "collapsed": true,
    "scrolled": false
   },
   "outputs": [],
   "source": [
    "sen_input = Input(shape=(MAX_LEN,), dtype='int32', name='Sentence-Word')\n",
    "sen_emb = Embedding(input_dim=VOCAB_SIZE, output_dim=EMBEDDING_SIZE,\n",
    "                    weights=[embedding], input_length=MAX_LEN, name='Word-Embedding',\n",
    "                    trainable=True)(sen_input)\n",
    "sen_conv = Conv1D(CNN_SIZE, WINDOW_SIZE, padding='same', activation='tanh', name='Convolution1', kernel_initializer=RandomUniform(-0.1, 0.1, SEED), bias_initializer=RandomUniform(-0.1, 0.1, SEED))(sen_emb)\n",
    "#sen_conv = MaxPooling1D(POOL_SIZE, name='Maxpooling1')(sen_conv)\n",
    "#sen_conv = Conv1D(1024, WINDOW_SIZE, padding='same', activation='elu', name='Convolution2')(sen_conv)\n",
    "#sen_conv = MaxPooling1D(POOL_SIZE, name='Maxpooling2')(sen_conv)\n",
    "#sen_conv = Conv1D(512, WINDOW_SIZE, padding='same', activation='elu', name='Convolution3')(sen_conv)\n",
    "#sen_vec = GlobalMaxPooling1D(name='Max-Pooling')(sen_conv)\n",
    "sen_vec = GlobalMaxPooling1D(name='Sentence-Convolution-Feature')(sen_conv)\n",
    "#sen_vec = Dense(CNN_HIDDEN_SIZE, activation='tanh', name='Sentence-Convolution-Feature', kernel_initializer=RandomUniform(-0.1, 0.1, SEED), bias_initializer=RandomUniform(-0.1, 0.1, SEED))(sen_vec)"
   ]
  },
  {
   "cell_type": "markdown",
   "metadata": {},
   "source": [
    "### Attention-based Context Selection w.r.t. Eneity 1"
   ]
  },
  {
   "cell_type": "code",
   "execution_count": 5,
   "metadata": {
    "collapsed": true
   },
   "outputs": [],
   "source": [
    "en1_input = Input(shape=(MAX_LEN,), dtype='int32', name='Eneity1')\n",
    "en1_emb = Embedding(input_dim=VOCAB_SIZE, output_dim=EMBEDDING_SIZE,\n",
    "                    weights=[embedding], input_length=MAX_LEN, name='Eneity1-Embedding',\n",
    "                   trainable=True)(en1_input)\n",
    "en1_word = concatenate([en1_emb, sen_emb], axis=-1, name='Eneity1-Word')\n",
    "en1_word_hidden = TimeDistributed(Dense(ATT_HIDDEN_SIZE, activation='tanh', name='Attention1-Hidden', kernel_initializer=RandomUniform(-0.1, 0.1, SEED), bias_initializer=RandomUniform(-0.1, 0.1, SEED)), name='Computation1-Unit')(en1_word)\n",
    "en1_word_score = TimeDistributed(Dense(1, activation=None, name='Attention1-Weight', kernel_initializer=RandomUniform(-0.1, 0.1, SEED), bias_initializer=RandomUniform(-0.1, 0.1, SEED)), name='Computation1-Score')(en1_word_hidden)\n",
    "en1_word_score = Activation('softmax', name='Softmax1')(en1_word_score)\n",
    "en1_vec = dot([en1_word_score, sen_emb], axes=(1, 1), name='Attention1_based-Context-Feature')\n",
    "en1_vec = Flatten(name='Flatten1')(en1_vec)"
   ]
  },
  {
   "cell_type": "markdown",
   "metadata": {},
   "source": [
    "### Attention-based Context Selection w.r.t. Eneity 2"
   ]
  },
  {
   "cell_type": "code",
   "execution_count": 6,
   "metadata": {
    "collapsed": true
   },
   "outputs": [],
   "source": [
    "en2_input = Input(shape=(MAX_LEN,), dtype='int32', name='Eneity2')\n",
    "en2_emb = Embedding(input_dim=VOCAB_SIZE, output_dim=EMBEDDING_SIZE,\n",
    "                    weights=[embedding], input_length=MAX_LEN, name='Eneity2-Embedding',\n",
    "                   trainable=True)(en2_input)\n",
    "en2_word = concatenate([en2_emb, sen_emb], axis=-1, name='Eneity2-Word')\n",
    "en2_word_hidden = TimeDistributed(Dense(ATT_HIDDEN_SIZE, activation='tanh', name='Attention2-Hidden', kernel_initializer=RandomUniform(-0.1, 0.1, SEED), bias_initializer=RandomUniform(-0.1, 0.1, SEED)), name='Computation2-Unit')(en2_word)\n",
    "en2_word_score = TimeDistributed(Dense(1, activation=None, name='Attention2-Weight', kernel_initializer=RandomUniform(-0.1, 0.1, SEED), bias_initializer=RandomUniform(-0.1, 0.1, SEED)), name='Computation2-Score')(en2_word_hidden)\n",
    "en2_word_score = Activation('softmax', name='Softmax2')(en2_word_score)\n",
    "en2_vec = dot([en2_word_score, sen_emb], axes=(1, 1), name='Attention2_based-Context-Feature')\n",
    "en2_vec = Flatten(name='Flatten2')(en2_vec)"
   ]
  },
  {
   "cell_type": "markdown",
   "metadata": {},
   "source": [
    "### MLP Layer"
   ]
  },
  {
   "cell_type": "code",
   "execution_count": 7,
   "metadata": {
    "collapsed": true
   },
   "outputs": [],
   "source": [
    "joint_vec = concatenate([sen_vec, en1_vec, en2_vec], axis=-1, name='Concatenated-Feature')\n",
    "joint_vec = Dense(MLP_HIDDEN1_SIZE, activation='tanh', name='MLP-Hidden1', kernel_initializer=RandomUniform(-0.1, 0.1, SEED), bias_initializer=RandomUniform(-0.1, 0.1, SEED))(joint_vec)\n",
    "#joint_vec = Dense(MLP_HIDDEN1_SIZE, activation='elu', name='MLP-Hidden1', kernel_initializer=RandomUniform(-0.1, 0.1, SEED), bias_initializer=RandomUniform(-0.1, 0.1, SEED))(sen_vec)\n",
    "joint_vec = Dense(MLP_HIDDEN2_SIZE, activation='tanh', name='MLP-Hidden2', kernel_initializer=RandomUniform(-0.1, 0.1, SEED), bias_initializer=RandomUniform(-0.1, 0.1, SEED))(joint_vec)\n",
    "output = Dense(CATEGORY, activation='softmax', name='Output', kernel_initializer=RandomUniform(-0.1, 0.1, SEED), bias_initializer=RandomUniform(-0.1, 0.1, SEED))(joint_vec)"
   ]
  },
  {
   "cell_type": "markdown",
   "metadata": {},
   "source": [
    "### Compile"
   ]
  },
  {
   "cell_type": "code",
   "execution_count": 8,
   "metadata": {
    "collapsed": true
   },
   "outputs": [],
   "source": [
    "model = Model(inputs=[sen_input, en1_input, en2_input], outputs=output)\n",
    "SGD = optimizers.SGD(lr=LEARNING_RATE, momentum=0.9, nesterov=True)\n",
    "model.compile(optimizer=SGD, loss='categorical_crossentropy', metrics=['acc'])"
   ]
  },
  {
   "cell_type": "code",
   "execution_count": 9,
   "metadata": {
    "scrolled": false
   },
   "outputs": [
    {
     "name": "stdout",
     "output_type": "stream",
     "text": [
      "____________________________________________________________________________________________________\n",
      "Layer (type)                     Output Shape          Param #     Connected to                     \n",
      "====================================================================================================\n",
      "Sentence-Word (InputLayer)       (None, 85)            0                                            \n",
      "____________________________________________________________________________________________________\n",
      "Eneity1 (InputLayer)             (None, 85)            0                                            \n",
      "____________________________________________________________________________________________________\n",
      "Eneity2 (InputLayer)             (None, 85)            0                                            \n",
      "____________________________________________________________________________________________________\n",
      "Word-Embedding (Embedding)       (None, 85, 300)       6140700     Sentence-Word[0][0]              \n",
      "____________________________________________________________________________________________________\n",
      "Eneity1-Embedding (Embedding)    (None, 85, 300)       6140700     Eneity1[0][0]                    \n",
      "____________________________________________________________________________________________________\n",
      "Eneity2-Embedding (Embedding)    (None, 85, 300)       6140700     Eneity2[0][0]                    \n",
      "____________________________________________________________________________________________________\n",
      "Eneity1-Word (Concatenate)       (None, 85, 600)       0           Eneity1-Embedding[0][0]          \n",
      "                                                                   Word-Embedding[0][0]             \n",
      "____________________________________________________________________________________________________\n",
      "Eneity2-Word (Concatenate)       (None, 85, 600)       0           Eneity2-Embedding[0][0]          \n",
      "                                                                   Word-Embedding[0][0]             \n",
      "____________________________________________________________________________________________________\n",
      "Computation1-Unit (TimeDistribut (None, 85, 120)       72120       Eneity1-Word[0][0]               \n",
      "____________________________________________________________________________________________________\n",
      "Computation2-Unit (TimeDistribut (None, 85, 120)       72120       Eneity2-Word[0][0]               \n",
      "____________________________________________________________________________________________________\n",
      "Computation1-Score (TimeDistribu (None, 85, 1)         121         Computation1-Unit[0][0]          \n",
      "____________________________________________________________________________________________________\n",
      "Computation2-Score (TimeDistribu (None, 85, 1)         121         Computation2-Unit[0][0]          \n",
      "____________________________________________________________________________________________________\n",
      "Softmax1 (Activation)            (None, 85, 1)         0           Computation1-Score[0][0]         \n",
      "____________________________________________________________________________________________________\n",
      "Softmax2 (Activation)            (None, 85, 1)         0           Computation2-Score[0][0]         \n",
      "____________________________________________________________________________________________________\n",
      "Convolution1 (Conv1D)            (None, 85, 128)       115328      Word-Embedding[0][0]             \n",
      "____________________________________________________________________________________________________\n",
      "Attention1_based-Context-Feature (None, 1, 300)        0           Softmax1[0][0]                   \n",
      "                                                                   Word-Embedding[0][0]             \n",
      "____________________________________________________________________________________________________\n",
      "Attention2_based-Context-Feature (None, 1, 300)        0           Softmax2[0][0]                   \n",
      "                                                                   Word-Embedding[0][0]             \n",
      "____________________________________________________________________________________________________\n",
      "Sentence-Convolution-Feature (Gl (None, 128)           0           Convolution1[0][0]               \n",
      "____________________________________________________________________________________________________\n",
      "Flatten1 (Flatten)               (None, 300)           0           Attention1_based-Context-Feature[\n",
      "____________________________________________________________________________________________________\n",
      "Flatten2 (Flatten)               (None, 300)           0           Attention2_based-Context-Feature[\n",
      "____________________________________________________________________________________________________\n",
      "Concatenated-Feature (Concatenat (None, 728)           0           Sentence-Convolution-Feature[0][0\n",
      "                                                                   Flatten1[0][0]                   \n",
      "                                                                   Flatten2[0][0]                   \n",
      "____________________________________________________________________________________________________\n",
      "MLP-Hidden1 (Dense)              (None, 240)           174960      Concatenated-Feature[0][0]       \n",
      "____________________________________________________________________________________________________\n",
      "MLP-Hidden2 (Dense)              (None, 120)           28920       MLP-Hidden1[0][0]                \n",
      "____________________________________________________________________________________________________\n",
      "Output (Dense)                   (None, 10)            1210        MLP-Hidden2[0][0]                \n",
      "====================================================================================================\n",
      "Total params: 18,887,000\n",
      "Trainable params: 18,887,000\n",
      "Non-trainable params: 0\n",
      "____________________________________________________________________________________________________\n"
     ]
    }
   ],
   "source": [
    "model.summary()"
   ]
  },
  {
   "cell_type": "markdown",
   "metadata": {},
   "source": [
    "## Model Evaluation"
   ]
  },
  {
   "cell_type": "code",
   "execution_count": 10,
   "metadata": {
    "collapsed": true
   },
   "outputs": [],
   "source": [
    "import numpy as np\n",
    "from sklearn.metrics import f1_score"
   ]
  },
  {
   "cell_type": "code",
   "execution_count": 11,
   "metadata": {
    "collapsed": true
   },
   "outputs": [],
   "source": [
    "def macro_f1_score(x, y_true):\n",
    "    \"\"\"\n",
    "    Calculate macro-averaged F1-score\n",
    "    \"\"\"\n",
    "    y_pred = model.predict(x)\n",
    "    y_true = [t for t in np.argmax(y_true, -1)]\n",
    "    y_pred = [t for t in np.argmax(y_pred, -1)]\n",
    "    return f1_score(y_true, y_pred, average='macro')"
   ]
  },
  {
   "cell_type": "markdown",
   "metadata": {
    "heading_collapsed": true
   },
   "source": [
    "## Model Visualization"
   ]
  },
  {
   "cell_type": "markdown",
   "metadata": {
    "collapsed": true,
    "hidden": true
   },
   "source": [
    "```python\n",
    "from IPython.display import SVG\n",
    "from keras.utils.vis_utils import model_to_dot\n",
    "\n",
    "SVG(model_to_dot(model).create(prog='dot', format='svg'))\n",
    "```"
   ]
  },
  {
   "cell_type": "markdown",
   "metadata": {},
   "source": [
    "# Train"
   ]
  },
  {
   "cell_type": "code",
   "execution_count": 12,
   "metadata": {},
   "outputs": [
    {
     "name": "stdout",
     "output_type": "stream",
     "text": [
      "Default GPU Device: \n"
     ]
    }
   ],
   "source": [
    "import tensorflow as tf \n",
    "print('Default GPU Device: {}'.format(tf.test.gpu_device_name()))"
   ]
  },
  {
   "cell_type": "code",
   "execution_count": 13,
   "metadata": {
    "collapsed": true
   },
   "outputs": [],
   "source": [
    "history = {}\n",
    "F1_score = []"
   ]
  },
  {
   "cell_type": "code",
   "execution_count": 14,
   "metadata": {
    "collapsed": true
   },
   "outputs": [],
   "source": [
    "from keras.callbacks import TensorBoard, ModelCheckpoint, EarlyStopping, ReduceLROnPlateau"
   ]
  },
  {
   "cell_type": "code",
   "execution_count": 15,
   "metadata": {
    "collapsed": true
   },
   "outputs": [],
   "source": [
    "#tensorboard = TensorBoard(log_dir='./tb_logs', histogram_freq=1, write_graph=True, write_images=True, embeddings_freq=1)\n",
    "#filepath = 'cp_logs/weights.{epoch:03d}-{val_categorical_accuracy:.3f}.hdf5'\n",
    "#checkpoint = ModelCheckpoint(filepath, monitor='val_categorical_accuracy', verbose=0, save_best_only=True)\n",
    "earlystopping = EarlyStopping(monitor='val_loss', verbose=1, patience=2)\n",
    "#reducelr = ReduceLROnPlateau(monitor='val_loss', verbose=1, factor=0.8, patience=3, min_lr=0.0001)"
   ]
  },
  {
   "cell_type": "code",
   "execution_count": 17,
   "metadata": {
    "scrolled": true
   },
   "outputs": [
    {
     "name": "stdout",
     "output_type": "stream",
     "text": [
      "EPOCHS 1\n",
      "Train on 7000 samples, validate on 1000 samples\n",
      "Epoch 1/1\n",
      "7000/7000 [==============================] - 53s - loss: 2.1665 - acc: 0.2061 - val_loss: 2.1696 - val_acc: 0.2180\n"
     ]
    },
    {
     "name": "stderr",
     "output_type": "stream",
     "text": [
      "/anaconda/lib/python3.6/site-packages/sklearn/metrics/classification.py:1113: UndefinedMetricWarning: F-score is ill-defined and being set to 0.0 in labels with no predicted samples.\n",
      "  'precision', 'predicted', average, warn_for)\n"
     ]
    },
    {
     "name": "stdout",
     "output_type": "stream",
     "text": [
      "macro-averaged F1-score = 13.732450, loss = 2.218833, acc = 0.180286, val_loss = 2.219793, val_acc = 0.163000\n",
      "EPOCHS 2\n",
      "Train on 7000 samples, validate on 1000 samples\n",
      "Epoch 1/1\n",
      "4864/7000 [===================>..........] - ETA: 15s - loss: 2.1428 - acc: 0.2251"
     ]
    },
    {
     "ename": "KeyboardInterrupt",
     "evalue": "",
     "output_type": "error",
     "traceback": [
      "\u001b[0;31m---------------------------------------------------------------------------\u001b[0m",
      "\u001b[0;31mKeyboardInterrupt\u001b[0m                         Traceback (most recent call last)",
      "\u001b[0;32m<ipython-input-17-90496bd267b5>\u001b[0m in \u001b[0;36m<module>\u001b[0;34m()\u001b[0m\n\u001b[1;32m      2\u001b[0m     \u001b[0mprint\u001b[0m\u001b[0;34m(\u001b[0m\u001b[0;34m'EPOCHS'\u001b[0m\u001b[0;34m,\u001b[0m \u001b[0me\u001b[0m\u001b[0;34m+\u001b[0m\u001b[0;36m1\u001b[0m\u001b[0;34m)\u001b[0m\u001b[0;34m\u001b[0m\u001b[0m\n\u001b[1;32m      3\u001b[0m     h = model.fit([sen_X1_train, en_X1_train, en_X2_train], [Y_train], batch_size=BATCH_SIZE, epochs=1,\n\u001b[0;32m----> 4\u001b[0;31m                     validation_data=([sen_X1_val, en_X1_val, en_X2_val], [Y_val]), callbacks=[earlystopping], verbose=1)\n\u001b[0m\u001b[1;32m      5\u001b[0m     \u001b[0;32mfor\u001b[0m \u001b[0mi\u001b[0m\u001b[0;34m,\u001b[0m \u001b[0mj\u001b[0m \u001b[0;32min\u001b[0m \u001b[0mh\u001b[0m\u001b[0;34m.\u001b[0m\u001b[0mhistory\u001b[0m\u001b[0;34m.\u001b[0m\u001b[0mitems\u001b[0m\u001b[0;34m(\u001b[0m\u001b[0;34m)\u001b[0m\u001b[0;34m:\u001b[0m\u001b[0;34m\u001b[0m\u001b[0m\n\u001b[1;32m      6\u001b[0m         \u001b[0mhistory\u001b[0m\u001b[0;34m[\u001b[0m\u001b[0mi\u001b[0m\u001b[0;34m]\u001b[0m \u001b[0;34m=\u001b[0m \u001b[0mhistory\u001b[0m\u001b[0;34m.\u001b[0m\u001b[0mget\u001b[0m\u001b[0;34m(\u001b[0m\u001b[0mi\u001b[0m\u001b[0;34m,\u001b[0m \u001b[0;34m[\u001b[0m\u001b[0;34m]\u001b[0m\u001b[0;34m)\u001b[0m \u001b[0;34m+\u001b[0m \u001b[0mj\u001b[0m\u001b[0;34m\u001b[0m\u001b[0m\n",
      "\u001b[0;32m/anaconda/lib/python3.6/site-packages/keras/engine/training.py\u001b[0m in \u001b[0;36mfit\u001b[0;34m(self, x, y, batch_size, epochs, verbose, callbacks, validation_split, validation_data, shuffle, class_weight, sample_weight, initial_epoch, **kwargs)\u001b[0m\n\u001b[1;32m   1505\u001b[0m                               \u001b[0mval_f\u001b[0m\u001b[0;34m=\u001b[0m\u001b[0mval_f\u001b[0m\u001b[0;34m,\u001b[0m \u001b[0mval_ins\u001b[0m\u001b[0;34m=\u001b[0m\u001b[0mval_ins\u001b[0m\u001b[0;34m,\u001b[0m \u001b[0mshuffle\u001b[0m\u001b[0;34m=\u001b[0m\u001b[0mshuffle\u001b[0m\u001b[0;34m,\u001b[0m\u001b[0;34m\u001b[0m\u001b[0m\n\u001b[1;32m   1506\u001b[0m                               \u001b[0mcallback_metrics\u001b[0m\u001b[0;34m=\u001b[0m\u001b[0mcallback_metrics\u001b[0m\u001b[0;34m,\u001b[0m\u001b[0;34m\u001b[0m\u001b[0m\n\u001b[0;32m-> 1507\u001b[0;31m                               initial_epoch=initial_epoch)\n\u001b[0m\u001b[1;32m   1508\u001b[0m \u001b[0;34m\u001b[0m\u001b[0m\n\u001b[1;32m   1509\u001b[0m     \u001b[0;32mdef\u001b[0m \u001b[0mevaluate\u001b[0m\u001b[0;34m(\u001b[0m\u001b[0mself\u001b[0m\u001b[0;34m,\u001b[0m \u001b[0mx\u001b[0m\u001b[0;34m,\u001b[0m \u001b[0my\u001b[0m\u001b[0;34m,\u001b[0m \u001b[0mbatch_size\u001b[0m\u001b[0;34m=\u001b[0m\u001b[0;36m32\u001b[0m\u001b[0;34m,\u001b[0m \u001b[0mverbose\u001b[0m\u001b[0;34m=\u001b[0m\u001b[0;36m1\u001b[0m\u001b[0;34m,\u001b[0m \u001b[0msample_weight\u001b[0m\u001b[0;34m=\u001b[0m\u001b[0;32mNone\u001b[0m\u001b[0;34m)\u001b[0m\u001b[0;34m:\u001b[0m\u001b[0;34m\u001b[0m\u001b[0m\n",
      "\u001b[0;32m/anaconda/lib/python3.6/site-packages/keras/engine/training.py\u001b[0m in \u001b[0;36m_fit_loop\u001b[0;34m(self, f, ins, out_labels, batch_size, epochs, verbose, callbacks, val_f, val_ins, shuffle, callback_metrics, initial_epoch)\u001b[0m\n\u001b[1;32m   1154\u001b[0m                 \u001b[0mbatch_logs\u001b[0m\u001b[0;34m[\u001b[0m\u001b[0;34m'size'\u001b[0m\u001b[0;34m]\u001b[0m \u001b[0;34m=\u001b[0m \u001b[0mlen\u001b[0m\u001b[0;34m(\u001b[0m\u001b[0mbatch_ids\u001b[0m\u001b[0;34m)\u001b[0m\u001b[0;34m\u001b[0m\u001b[0m\n\u001b[1;32m   1155\u001b[0m                 \u001b[0mcallbacks\u001b[0m\u001b[0;34m.\u001b[0m\u001b[0mon_batch_begin\u001b[0m\u001b[0;34m(\u001b[0m\u001b[0mbatch_index\u001b[0m\u001b[0;34m,\u001b[0m \u001b[0mbatch_logs\u001b[0m\u001b[0;34m)\u001b[0m\u001b[0;34m\u001b[0m\u001b[0m\n\u001b[0;32m-> 1156\u001b[0;31m                 \u001b[0mouts\u001b[0m \u001b[0;34m=\u001b[0m \u001b[0mf\u001b[0m\u001b[0;34m(\u001b[0m\u001b[0mins_batch\u001b[0m\u001b[0;34m)\u001b[0m\u001b[0;34m\u001b[0m\u001b[0m\n\u001b[0m\u001b[1;32m   1157\u001b[0m                 \u001b[0;32mif\u001b[0m \u001b[0;32mnot\u001b[0m \u001b[0misinstance\u001b[0m\u001b[0;34m(\u001b[0m\u001b[0mouts\u001b[0m\u001b[0;34m,\u001b[0m \u001b[0mlist\u001b[0m\u001b[0;34m)\u001b[0m\u001b[0;34m:\u001b[0m\u001b[0;34m\u001b[0m\u001b[0m\n\u001b[1;32m   1158\u001b[0m                     \u001b[0mouts\u001b[0m \u001b[0;34m=\u001b[0m \u001b[0;34m[\u001b[0m\u001b[0mouts\u001b[0m\u001b[0;34m]\u001b[0m\u001b[0;34m\u001b[0m\u001b[0m\n",
      "\u001b[0;32m/anaconda/lib/python3.6/site-packages/keras/backend/tensorflow_backend.py\u001b[0m in \u001b[0;36m__call__\u001b[0;34m(self, inputs)\u001b[0m\n\u001b[1;32m   2267\u001b[0m         updated = session.run(self.outputs + [self.updates_op],\n\u001b[1;32m   2268\u001b[0m                               \u001b[0mfeed_dict\u001b[0m\u001b[0;34m=\u001b[0m\u001b[0mfeed_dict\u001b[0m\u001b[0;34m,\u001b[0m\u001b[0;34m\u001b[0m\u001b[0m\n\u001b[0;32m-> 2269\u001b[0;31m                               **self.session_kwargs)\n\u001b[0m\u001b[1;32m   2270\u001b[0m         \u001b[0;32mreturn\u001b[0m \u001b[0mupdated\u001b[0m\u001b[0;34m[\u001b[0m\u001b[0;34m:\u001b[0m\u001b[0mlen\u001b[0m\u001b[0;34m(\u001b[0m\u001b[0mself\u001b[0m\u001b[0;34m.\u001b[0m\u001b[0moutputs\u001b[0m\u001b[0;34m)\u001b[0m\u001b[0;34m]\u001b[0m\u001b[0;34m\u001b[0m\u001b[0m\n\u001b[1;32m   2271\u001b[0m \u001b[0;34m\u001b[0m\u001b[0m\n",
      "\u001b[0;32m/anaconda/lib/python3.6/site-packages/tensorflow/python/client/session.py\u001b[0m in \u001b[0;36mrun\u001b[0;34m(self, fetches, feed_dict, options, run_metadata)\u001b[0m\n\u001b[1;32m    787\u001b[0m     \u001b[0;32mtry\u001b[0m\u001b[0;34m:\u001b[0m\u001b[0;34m\u001b[0m\u001b[0m\n\u001b[1;32m    788\u001b[0m       result = self._run(None, fetches, feed_dict, options_ptr,\n\u001b[0;32m--> 789\u001b[0;31m                          run_metadata_ptr)\n\u001b[0m\u001b[1;32m    790\u001b[0m       \u001b[0;32mif\u001b[0m \u001b[0mrun_metadata\u001b[0m\u001b[0;34m:\u001b[0m\u001b[0;34m\u001b[0m\u001b[0m\n\u001b[1;32m    791\u001b[0m         \u001b[0mproto_data\u001b[0m \u001b[0;34m=\u001b[0m \u001b[0mtf_session\u001b[0m\u001b[0;34m.\u001b[0m\u001b[0mTF_GetBuffer\u001b[0m\u001b[0;34m(\u001b[0m\u001b[0mrun_metadata_ptr\u001b[0m\u001b[0;34m)\u001b[0m\u001b[0;34m\u001b[0m\u001b[0m\n",
      "\u001b[0;32m/anaconda/lib/python3.6/site-packages/tensorflow/python/client/session.py\u001b[0m in \u001b[0;36m_run\u001b[0;34m(self, handle, fetches, feed_dict, options, run_metadata)\u001b[0m\n\u001b[1;32m    995\u001b[0m     \u001b[0;32mif\u001b[0m \u001b[0mfinal_fetches\u001b[0m \u001b[0;32mor\u001b[0m \u001b[0mfinal_targets\u001b[0m\u001b[0;34m:\u001b[0m\u001b[0;34m\u001b[0m\u001b[0m\n\u001b[1;32m    996\u001b[0m       results = self._do_run(handle, final_targets, final_fetches,\n\u001b[0;32m--> 997\u001b[0;31m                              feed_dict_string, options, run_metadata)\n\u001b[0m\u001b[1;32m    998\u001b[0m     \u001b[0;32melse\u001b[0m\u001b[0;34m:\u001b[0m\u001b[0;34m\u001b[0m\u001b[0m\n\u001b[1;32m    999\u001b[0m       \u001b[0mresults\u001b[0m \u001b[0;34m=\u001b[0m \u001b[0;34m[\u001b[0m\u001b[0;34m]\u001b[0m\u001b[0;34m\u001b[0m\u001b[0m\n",
      "\u001b[0;32m/anaconda/lib/python3.6/site-packages/tensorflow/python/client/session.py\u001b[0m in \u001b[0;36m_do_run\u001b[0;34m(self, handle, target_list, fetch_list, feed_dict, options, run_metadata)\u001b[0m\n\u001b[1;32m   1130\u001b[0m     \u001b[0;32mif\u001b[0m \u001b[0mhandle\u001b[0m \u001b[0;32mis\u001b[0m \u001b[0;32mNone\u001b[0m\u001b[0;34m:\u001b[0m\u001b[0;34m\u001b[0m\u001b[0m\n\u001b[1;32m   1131\u001b[0m       return self._do_call(_run_fn, self._session, feed_dict, fetch_list,\n\u001b[0;32m-> 1132\u001b[0;31m                            target_list, options, run_metadata)\n\u001b[0m\u001b[1;32m   1133\u001b[0m     \u001b[0;32melse\u001b[0m\u001b[0;34m:\u001b[0m\u001b[0;34m\u001b[0m\u001b[0m\n\u001b[1;32m   1134\u001b[0m       return self._do_call(_prun_fn, self._session, handle, feed_dict,\n",
      "\u001b[0;32m/anaconda/lib/python3.6/site-packages/tensorflow/python/client/session.py\u001b[0m in \u001b[0;36m_do_call\u001b[0;34m(self, fn, *args)\u001b[0m\n\u001b[1;32m   1137\u001b[0m   \u001b[0;32mdef\u001b[0m \u001b[0m_do_call\u001b[0m\u001b[0;34m(\u001b[0m\u001b[0mself\u001b[0m\u001b[0;34m,\u001b[0m \u001b[0mfn\u001b[0m\u001b[0;34m,\u001b[0m \u001b[0;34m*\u001b[0m\u001b[0margs\u001b[0m\u001b[0;34m)\u001b[0m\u001b[0;34m:\u001b[0m\u001b[0;34m\u001b[0m\u001b[0m\n\u001b[1;32m   1138\u001b[0m     \u001b[0;32mtry\u001b[0m\u001b[0;34m:\u001b[0m\u001b[0;34m\u001b[0m\u001b[0m\n\u001b[0;32m-> 1139\u001b[0;31m       \u001b[0;32mreturn\u001b[0m \u001b[0mfn\u001b[0m\u001b[0;34m(\u001b[0m\u001b[0;34m*\u001b[0m\u001b[0margs\u001b[0m\u001b[0;34m)\u001b[0m\u001b[0;34m\u001b[0m\u001b[0m\n\u001b[0m\u001b[1;32m   1140\u001b[0m     \u001b[0;32mexcept\u001b[0m \u001b[0merrors\u001b[0m\u001b[0;34m.\u001b[0m\u001b[0mOpError\u001b[0m \u001b[0;32mas\u001b[0m \u001b[0me\u001b[0m\u001b[0;34m:\u001b[0m\u001b[0;34m\u001b[0m\u001b[0m\n\u001b[1;32m   1141\u001b[0m       \u001b[0mmessage\u001b[0m \u001b[0;34m=\u001b[0m \u001b[0mcompat\u001b[0m\u001b[0;34m.\u001b[0m\u001b[0mas_text\u001b[0m\u001b[0;34m(\u001b[0m\u001b[0me\u001b[0m\u001b[0;34m.\u001b[0m\u001b[0mmessage\u001b[0m\u001b[0;34m)\u001b[0m\u001b[0;34m\u001b[0m\u001b[0m\n",
      "\u001b[0;32m/anaconda/lib/python3.6/site-packages/tensorflow/python/client/session.py\u001b[0m in \u001b[0;36m_run_fn\u001b[0;34m(session, feed_dict, fetch_list, target_list, options, run_metadata)\u001b[0m\n\u001b[1;32m   1119\u001b[0m         return tf_session.TF_Run(session, options,\n\u001b[1;32m   1120\u001b[0m                                  \u001b[0mfeed_dict\u001b[0m\u001b[0;34m,\u001b[0m \u001b[0mfetch_list\u001b[0m\u001b[0;34m,\u001b[0m \u001b[0mtarget_list\u001b[0m\u001b[0;34m,\u001b[0m\u001b[0;34m\u001b[0m\u001b[0m\n\u001b[0;32m-> 1121\u001b[0;31m                                  status, run_metadata)\n\u001b[0m\u001b[1;32m   1122\u001b[0m \u001b[0;34m\u001b[0m\u001b[0m\n\u001b[1;32m   1123\u001b[0m     \u001b[0;32mdef\u001b[0m \u001b[0m_prun_fn\u001b[0m\u001b[0;34m(\u001b[0m\u001b[0msession\u001b[0m\u001b[0;34m,\u001b[0m \u001b[0mhandle\u001b[0m\u001b[0;34m,\u001b[0m \u001b[0mfeed_dict\u001b[0m\u001b[0;34m,\u001b[0m \u001b[0mfetch_list\u001b[0m\u001b[0;34m)\u001b[0m\u001b[0;34m:\u001b[0m\u001b[0;34m\u001b[0m\u001b[0m\n",
      "\u001b[0;31mKeyboardInterrupt\u001b[0m: "
     ]
    }
   ],
   "source": [
    "for e in range(NUM_EPOCHS):    \n",
    "    print('EPOCHS', e+1)\n",
    "    h = model.fit([sen_X1_train, en_X1_train, en_X2_train], [Y_train], batch_size=BATCH_SIZE, epochs=1,\n",
    "                    validation_data=([sen_X1_val, en_X1_val, en_X2_val], [Y_val]), callbacks=[earlystopping], verbose=1)\n",
    "    for i, j in h.history.items():\n",
    "        history[i] = history.get(i, []) + j\n",
    "    F1_score.append(macro_f1_score([sen_X1_val, en_X1_val, en_X2_val], Y_val))\n",
    "    print('macro-averaged F1-score = %.6f, loss = %.6f, acc = %.6f, val_loss = %.6f, val_acc = %.6f' % (macro_f1_score([sen_X1_val, en_X1_val, en_X2_val], Y_val)*100, \n",
    "                                                                                                      history['loss'][e], history['acc'][e], history['val_loss'][e], history['val_acc'][e])) "
   ]
  },
  {
   "cell_type": "code",
   "execution_count": 104,
   "metadata": {
    "collapsed": true
   },
   "outputs": [],
   "source": [
    "%matplotlib inline\n",
    "%config InlineBackend.figure_format = 'retina'\n",
    "import matplotlib.pyplot as plt\n",
    "import numpy as np"
   ]
  },
  {
   "cell_type": "code",
   "execution_count": 105,
   "metadata": {},
   "outputs": [
    {
     "data": {
      "text/plain": [
       "<matplotlib.legend.Legend at 0x127becc18>"
      ]
     },
     "execution_count": 105,
     "metadata": {},
     "output_type": "execute_result"
    },
    {
     "data": {
      "image/png": "[encoded data removed]",
      "text/plain": [
       "<matplotlib.figure.Figure at 0x127cc2898>"
      ]
     },
     "metadata": {
      "image/png": {
       "height": 263,
       "width": 370
      }
     },
     "output_type": "display_data"
    }
   ],
   "source": [
    "fig, ax = plt.subplots()\n",
    "f1_score = np.array(F1_score)*10\n",
    "loss = np.array(history['loss'])\n",
    "acc = np.array(history['acc'])*10\n",
    "val_loss = np.array(history['val_loss'])\n",
    "val_acc = np.array(history['val_acc'])*10\n",
    "plt.plot(f1_score, label='macro-averaged F1-score')\n",
    "plt.plot(loss, label='loss')\n",
    "plt.plot(acc, label='acc')\n",
    "plt.plot(val_loss, label='val_loss')\n",
    "plt.plot(val_acc, label='val_acc')\n",
    "plt.title(\": )\")\n",
    "plt.legend()"
   ]
  },
  {
   "cell_type": "code",
   "execution_count": 106,
   "metadata": {},
   "outputs": [
    {
     "data": {
      "text/plain": [
       "<matplotlib.legend.Legend at 0x127fd9908>"
      ]
     },
     "execution_count": 106,
     "metadata": {},
     "output_type": "execute_result"
    },
    {
     "data": {
      "image/png": "[encoded data removed]",
      "text/plain": [
       "<matplotlib.figure.Figure at 0x127de3518>"
      ]
     },
     "metadata": {
      "image/png": {
       "height": 263,
       "width": 370
      }
     },
     "output_type": "display_data"
    }
   ],
   "source": [
    "f1_score = np.array(F1_score)*100\n",
    "plt.plot(f1_score, label='macro-averaged F1-score')\n",
    "plt.title(\": )\")\n",
    "plt.legend()"
   ]
  },
  {
   "cell_type": "markdown",
   "metadata": {},
   "source": [
    "# Test"
   ]
  }
 ],
 "metadata": {
  "kernelspec": {
   "display_name": "Python 3",
   "language": "python",
   "name": "python3"
  },
  "language_info": {
   "codemirror_mode": {
    "name": "ipython",
    "version": 3
   },
   "file_extension": ".py",
   "mimetype": "text/x-python",
   "name": "python",
   "nbconvert_exporter": "python",
   "pygments_lexer": "ipython3",
   "version": "3.6.2"
  },
  "toc": {
   "colors": {
    "hover_highlight": "#DAA520",
    "navigate_num": "#000000",
    "navigate_text": "#333333",
    "running_highlight": "#FF0000",
    "selected_highlight": "#FFD700",
    "sidebar_border": "#EEEEEE",
    "wrapper_background": "#FFFFFF"
   },
   "moveMenuLeft": true,
   "nav_menu": {
    "height": "32px",
    "width": "252px"
   },
   "navigate_menu": true,
   "number_sections": true,
   "sideBar": true,
   "threshold": 4,
   "toc_cell": false,
   "toc_position": {
    "height": "878px",
    "left": "0px",
    "right": "auto",
    "top": "119px",
    "width": "169px"
   },
   "toc_section_display": "block",
   "toc_window_display": false,
   "widenNotebook": false
  }
 },
 "nbformat": 4,
 "nbformat_minor": 2
}
