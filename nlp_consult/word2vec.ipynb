{
 "cells": [
  {
   "cell_type": "markdown",
   "metadata": {},
   "source": [
    "# Load Pretrained Model"
   ]
  },
  {
   "cell_type": "markdown",
   "metadata": {},
   "source": [
    "```python\n",
    "import gensim, logging\n",
    "logging.basicConfig(format='%(asctime)s : %(levelname)s : %(message)s', level=logging.INFO)\n",
    "\n",
    "import pymongo\n",
    "import hashlib\n",
    "\n",
    "db = pymongo.MongoClient('172.16.0.101').weixin.text_articles_words\n",
    "md5 = lambda s: hashlib.md5(s).hexdigest()\n",
    "class sentences:\n",
    "    def __iter__(self):\n",
    "        texts_set = set()\n",
    "        for a in db.find(no_cursor_timeout=True):\n",
    "            if md5(a['text'].encode('utf-8')) in texts_set:\n",
    "                continue\n",
    "            else:\n",
    "                texts_set.add(md5(a['text'].encode('utf-8')))\n",
    "                yield a['words']\n",
    "        print u'最终计算了%s篇文章'%len(texts_set)\n",
    "\n",
    "word2vec = gensim.models.word2vec.Word2Vec(sentences(), size=256, \n",
    "                                           window=10, min_count=64, sg=1, hs=1, \n",
    "                                           iter=10, workers=25)\n",
    "word2vec.save('word2vec_wx')\n",
    "\"\"\"\n",
    "sg: 0(default) -> CBOW; 1 -> skip-gram\n",
    "hs: 0(default) && negative>=0 -> negative sampling will be used; 1 -> hierarchical softmax will be used\n",
    "size: dimensionality of the feature vectors\n",
    "window: the maximum distance between the current and predicted word within a sentence\n",
    "alpha: the initial learning rate (will linearly drop to zero as training progresses)\n",
    "min_count: ignore all words with total frequency lower than this\n",
    "workers: use many worker threads to train the model(faster training with multicore machines)\n",
    "negative: the int for negative specifies how many “noise words” should be drawn(usually between 5-20, Default is 5)\n",
    "cbow_mean: 1(default) -> use the mean; 0 -> use the sum of the context wordvectors \n",
    "iter: number of iterations(epochs) over the corpus\n",
    "\"\"\"\n",
    "```"
   ]
  },
  {
   "cell_type": "code",
   "execution_count": 1,
   "metadata": {},
   "outputs": [
    {
     "name": "stderr",
     "output_type": "stream",
     "text": [
      "Using TensorFlow backend.\n"
     ]
    }
   ],
   "source": [
    "import gensim\n",
    "model = gensim.models.Word2Vec.load('/Users/lizhn7/Downloads/DATA/word2vec/word2vec_wx')"
   ]
  },
  {
   "cell_type": "code",
   "execution_count": 2,
   "metadata": {},
   "outputs": [
    {
     "data": {
      "text/plain": [
       "[('content', 0.7687379121780396),\n",
       " ('edit', 0.7674742341041565),\n",
       " ('model', 0.7153580188751221),\n",
       " ('bind', 0.7074968218803406),\n",
       " ('eol2br', 0.6984536647796631),\n",
       " ('unsafe', 0.6540526151657104),\n",
       " ('true', 0.6246062517166138),\n",
       " ('scope', 0.6174685955047607),\n",
       " ('class', 0.6025004982948303),\n",
       " ('}', 0.6011278629302979)]"
      ]
     },
     "execution_count": 2,
     "metadata": {},
     "output_type": "execute_result"
    }
   ],
   "source": [
    "model.most_similar('html')"
   ]
  },
  {
   "cell_type": "code",
   "execution_count": 3,
   "metadata": {},
   "outputs": [
    {
     "data": {
      "text/plain": [
       "[('女人', 0.8158404231071472),\n",
       " ('老公', 0.7181277871131897),\n",
       " ('花心', 0.702643871307373),\n",
       " ('老婆', 0.661186933517456),\n",
       " ('出轨', 0.6492980718612671),\n",
       " ('征服', 0.6488258838653564),\n",
       " ('小三', 0.6387587785720825),\n",
       " ('一辈子', 0.6364662647247314),\n",
       " ('外遇', 0.6328293085098267),\n",
       " ('婚外', 0.6065683364868164)]"
      ]
     },
     "execution_count": 3,
     "metadata": {},
     "output_type": "execute_result"
    }
   ],
   "source": [
    "model.most_similar('男人')"
   ]
  },
  {
   "cell_type": "code",
   "execution_count": 8,
   "metadata": {},
   "outputs": [
    {
     "data": {
      "text/plain": [
       "[('淘宝', 0.7709355354309082),\n",
       " ('口令', 0.6993972659111023),\n",
       " ('👈', 0.6889228820800781),\n",
       " ('￥', 0.6334813833236694),\n",
       " ('天猫店', 0.6188440322875977),\n",
       " ('官方店', 0.6154448986053467),\n",
       " ('手机端', 0.6023507714271545),\n",
       " ('淘宝搜', 0.6000440120697021),\n",
       " ('整段', 0.5986412763595581),\n",
       " ('优惠券', 0.5939205884933472)]"
      ]
     },
     "execution_count": 8,
     "metadata": {},
     "output_type": "execute_result"
    }
   ],
   "source": [
    "model.most_similar('淘')"
   ]
  },
  {
   "cell_type": "code",
   "execution_count": 21,
   "metadata": {},
   "outputs": [
    {
     "data": {
      "text/plain": [
       "[('王后', 0.6879483461380005),\n",
       " ('二世', 0.6324218511581421),\n",
       " ('王宫', 0.6288765072822571),\n",
       " ('王室', 0.6009732484817505),\n",
       " ('六世', 0.586891770362854),\n",
       " ('七世', 0.579991340637207),\n",
       " ('王储', 0.5750232934951782),\n",
       " ('大臣', 0.5712825059890747),\n",
       " ('四世', 0.570629894733429),\n",
       " ('侍从', 0.5673775672912598)]"
      ]
     },
     "execution_count": 21,
     "metadata": {},
     "output_type": "execute_result"
    }
   ],
   "source": [
    "model.most_similar(positive=['女人', '国王'], negative=['男人'])  "
   ]
  },
  {
   "cell_type": "code",
   "execution_count": 80,
   "metadata": {},
   "outputs": [
    {
     "data": {
      "text/plain": [
       "'女人'"
      ]
     },
     "execution_count": 80,
     "metadata": {},
     "output_type": "execute_result"
    }
   ],
   "source": [
    "model.doesnt_match(\"早餐 女人 晚餐 午餐\".split())"
   ]
  },
  {
   "cell_type": "code",
   "execution_count": 10,
   "metadata": {},
   "outputs": [
    {
     "data": {
      "text/plain": [
       "0.81584052011856723"
      ]
     },
     "execution_count": 10,
     "metadata": {},
     "output_type": "execute_result"
    }
   ],
   "source": [
    "model.similarity('男人', '女人')"
   ]
  },
  {
   "cell_type": "markdown",
   "metadata": {},
   "source": [
    "# Compute Similarity"
   ]
  },
  {
   "cell_type": "code",
   "execution_count": 4,
   "metadata": {
    "collapsed": true
   },
   "outputs": [],
   "source": [
    "import numpy as np\n",
    "\n",
    "def similarity(w1, w2):\n",
    "    \"\"\"\n",
    "    Compute cosine similarity between two wordvectors.\n",
    "    \"\"\"\n",
    "    return np.dot(w1, w2) / np.sqrt((np.sum(w1 ** 2)) * (np.sum(w2 ** 2)))"
   ]
  },
  {
   "cell_type": "markdown",
   "metadata": {},
   "source": [
    "## Display Form"
   ]
  },
  {
   "cell_type": "code",
   "execution_count": 74,
   "metadata": {
    "collapsed": true
   },
   "outputs": [],
   "source": [
    "df1 = model['APP']\n",
    "df2 = model['WEB']\n",
    "df3 = model['桌面'] + model['客户端']\n",
    "df4 = model['html5'] + model['应用']\n",
    "df5 = model['其他']\n",
    "df = {0: 'APP', 1: 'WEB', 2: '桌面客户端', 3: 'H5应用', 4: '其他'}\n",
    "display_form = [df1, df2, df3, df4, df5]"
   ]
  },
  {
   "cell_type": "code",
   "execution_count": 75,
   "metadata": {
    "collapsed": true
   },
   "outputs": [],
   "source": [
    "def prt(word):\n",
    "    try:\n",
    "        word_vec = model[word]\n",
    "        print(\"%s 匹配选项：%s\"%(word, df[np.argmax([similarity(word_vec, df) for df in display_form])]))\n",
    "    except KeyError as e:\n",
    "        print(e)"
   ]
  },
  {
   "cell_type": "code",
   "execution_count": 76,
   "metadata": {},
   "outputs": [
    {
     "name": "stdout",
     "output_type": "stream",
     "text": [
      "Please fill in the blank: QQ\n",
      "QQ 匹配选项：APP\n"
     ]
    }
   ],
   "source": [
    "prt(input(\"Please fill in the blank: \"))"
   ]
  },
  {
   "cell_type": "code",
   "execution_count": 107,
   "metadata": {},
   "outputs": [
    {
     "name": "stdout",
     "output_type": "stream",
     "text": [
      "Please fill in the blank: 微信\n",
      "微信 匹配选项：APP\n"
     ]
    }
   ],
   "source": [
    "prt(input(\"Please fill in the blank: \"))"
   ]
  },
  {
   "cell_type": "code",
   "execution_count": 108,
   "metadata": {},
   "outputs": [
    {
     "name": "stdout",
     "output_type": "stream",
     "text": [
      "Please fill in the blank: 红警\n",
      "红警 匹配选项：桌面客户端\n"
     ]
    }
   ],
   "source": [
    "prt(input(\"Please fill in the blank: \"))"
   ]
  },
  {
   "cell_type": "code",
   "execution_count": 111,
   "metadata": {},
   "outputs": [
    {
     "name": "stdout",
     "output_type": "stream",
     "text": [
      "Please fill in the blank: 360浏览器\n",
      "360浏览器 匹配选项：桌面客户端\n"
     ]
    }
   ],
   "source": [
    "prt(input(\"Please fill in the blank: \"))"
   ]
  },
  {
   "cell_type": "markdown",
   "metadata": {},
   "source": [
    "# Compute Negative Mutual Information"
   ]
  },
  {
   "cell_type": "code",
   "execution_count": 42,
   "metadata": {
    "collapsed": true
   },
   "outputs": [],
   "source": [
    "def predict_proba(oword, iword):\n",
    "    iword_vec = model[iword]\n",
    "    oword = model.wv.vocab[oword]\n",
    "    oword_l = model.syn1[oword.point].T\n",
    "    dot = np.dot(iword_vec, oword_l)\n",
    "    lprob = -sum(np.logaddexp(0, -dot) + oword.code*dot) \n",
    "    return lprob"
   ]
  },
  {
   "cell_type": "markdown",
   "metadata": {},
   "source": [
    "## Display Form"
   ]
  },
  {
   "cell_type": "code",
   "execution_count": 62,
   "metadata": {
    "collapsed": true
   },
   "outputs": [],
   "source": [
    "df1 = 'APP'\n",
    "df2 = 'WEB'\n",
    "df3 = '客户端'\n",
    "df4 = 'html5'\n",
    "df5 = '其他'\n",
    "df = {0: 'APP', 1: 'WEB', 2: '桌面客户端', 3: 'H5应用', 4: '其他'}\n",
    "display_form = [df1, df2, df3, df4, df5]"
   ]
  },
  {
   "cell_type": "code",
   "execution_count": 41,
   "metadata": {},
   "outputs": [
    {
     "data": {
      "text/plain": [
       "-16.834297937762848"
      ]
     },
     "execution_count": 41,
     "metadata": {},
     "output_type": "execute_result"
    }
   ],
   "source": [
    "predict_proba('福中路', '广州')-0.9*np.log(model.wv.vocab['福中路'].count)"
   ]
  },
  {
   "cell_type": "code",
   "execution_count": null,
   "metadata": {
    "collapsed": true
   },
   "outputs": [],
   "source": [
    "   r = {i:predict_proba(i, word)-0.9*np.log(j.count) for i,j in model.wv.vocab.iteritems()}"
   ]
  },
  {
   "cell_type": "code",
   "execution_count": 60,
   "metadata": {
    "collapsed": true
   },
   "outputs": [],
   "source": [
    "def prt(word):\n",
    "    try:\n",
    "        word_vec = model[word]\n",
    "        print(\"%s 匹配选项：%s\"%(word, df[np.argmax([predict_proba(df, word)-np.log(model.wv.vocab[df].count) for df in display_form])]))\n",
    "    except KeyError as e:\n",
    "        print(e)"
   ]
  },
  {
   "cell_type": "code",
   "execution_count": null,
   "metadata": {
    "collapsed": true
   },
   "outputs": [],
   "source": [
    "prt(input(\"Please fill in the blank: \"))"
   ]
  },
  {
   "cell_type": "code",
   "execution_count": 72,
   "metadata": {
    "collapsed": true
   },
   "outputs": [],
   "source": [
    "word = '红警'"
   ]
  },
  {
   "cell_type": "code",
   "execution_count": 73,
   "metadata": {},
   "outputs": [
    {
     "data": {
      "text/plain": [
       "[-19.16439861992837,\n",
       " -20.398261835356436,\n",
       " -17.496802500179761,\n",
       " -21.464301062634551,\n",
       " -21.211411296782984]"
      ]
     },
     "execution_count": 73,
     "metadata": {},
     "output_type": "execute_result"
    }
   ],
   "source": [
    "[predict_proba(df, word)-0.9*np.log(model.wv.vocab[df].count) for df in display_form]"
   ]
  }
 ],
 "metadata": {
  "kernelspec": {
   "display_name": "Python 3",
   "language": "python",
   "name": "python3"
  },
  "language_info": {
   "codemirror_mode": {
    "name": "ipython",
    "version": 3
   },
   "file_extension": ".py",
   "mimetype": "text/x-python",
   "name": "python",
   "nbconvert_exporter": "python",
   "pygments_lexer": "ipython3",
   "version": "3.6.2"
  },
  "toc": {
   "colors": {
    "hover_highlight": "#DAA520",
    "navigate_num": "#000000",
    "navigate_text": "#333333",
    "running_highlight": "#FF0000",
    "selected_highlight": "#FFD700",
    "sidebar_border": "#EEEEEE",
    "wrapper_background": "#FFFFFF"
   },
   "moveMenuLeft": true,
   "nav_menu": {
    "height": "52px",
    "width": "252px"
   },
   "navigate_menu": true,
   "number_sections": true,
   "sideBar": true,
   "threshold": 4,
   "toc_cell": false,
   "toc_section_display": "block",
   "toc_window_display": false,
   "widenNotebook": false
  }
 },
 "nbformat": 4,
 "nbformat_minor": 2
}
