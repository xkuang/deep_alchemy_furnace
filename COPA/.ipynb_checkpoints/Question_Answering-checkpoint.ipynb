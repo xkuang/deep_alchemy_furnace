{
 "cells": [
  {
   "cell_type": "markdown",
   "metadata": {
    "toc": "true"
   },
   "source": [
    "# Table of Contents\n",
    " <p><div class=\"lev1 toc-item\"><a href=\"#Load-Data\" data-toc-modified-id=\"Load-Data-1\"><span class=\"toc-item-num\">1&nbsp;&nbsp;</span>Load Data</a></div><div class=\"lev1 toc-item\"><a href=\"#Word-Segmentation\" data-toc-modified-id=\"Word-Segmentation-2\"><span class=\"toc-item-num\">2&nbsp;&nbsp;</span>Word Segmentation</a></div><div class=\"lev1 toc-item\"><a href=\"#Tokenize-Text\" data-toc-modified-id=\"Tokenize-Text-3\"><span class=\"toc-item-num\">3&nbsp;&nbsp;</span>Tokenize Text</a></div><div class=\"lev1 toc-item\"><a href=\"#Load-Model\" data-toc-modified-id=\"Load-Model-4\"><span class=\"toc-item-num\">4&nbsp;&nbsp;</span>Load Model</a></div><div class=\"lev2 toc-item\"><a href=\"#Set-Hyperparameters\" data-toc-modified-id=\"Set-Hyperparameters-41\"><span class=\"toc-item-num\">4.1&nbsp;&nbsp;</span>Set Hyperparameters</a></div><div class=\"lev2 toc-item\"><a href=\"#Import-Libraries\" data-toc-modified-id=\"Import-Libraries-42\"><span class=\"toc-item-num\">4.2&nbsp;&nbsp;</span>Import Libraries</a></div><div class=\"lev2 toc-item\"><a href=\"#Build-Graph\" data-toc-modified-id=\"Build-Graph-43\"><span class=\"toc-item-num\">4.3&nbsp;&nbsp;</span>Build Graph</a></div><div class=\"lev3 toc-item\"><a href=\"#Language-Model\" data-toc-modified-id=\"Language-Model-431\"><span class=\"toc-item-num\">4.3.1&nbsp;&nbsp;</span>Language Model</a></div><div class=\"lev3 toc-item\"><a href=\"#Qustion-Answering-Model\" data-toc-modified-id=\"Qustion-Answering-Model-432\"><span class=\"toc-item-num\">4.3.2&nbsp;&nbsp;</span>Qustion Answering Model</a></div>"
   ]
  },
  {
   "cell_type": "markdown",
   "metadata": {},
   "source": [
    "# Load Data"
   ]
  },
  {
   "cell_type": "code",
   "execution_count": 1,
   "metadata": {
    "collapsed": true
   },
   "outputs": [],
   "source": [
    "import json\n",
    "import os"
   ]
  },
  {
   "cell_type": "code",
   "execution_count": 2,
   "metadata": {
    "collapsed": true
   },
   "outputs": [],
   "source": [
    "def load_data(path, name):\n",
    "    \"\"\"\n",
    "    Load date from file\n",
    "    \"\"\"\n",
    "    data = []\n",
    "    input_file = os.path.join(path)\n",
    "    with open(input_file) as f:\n",
    "        lines = f.readlines()\n",
    "    for line in lines:\n",
    "        item = json.loads(line)\n",
    "        data.append(item[name])\n",
    "    return data"
   ]
  },
  {
   "cell_type": "code",
   "execution_count": 3,
   "metadata": {
    "collapsed": true
   },
   "outputs": [],
   "source": [
    "premise = load_data('/Users/lizhn7/Downloads/EXPERIMENT/COPA/LM/data/copa-dev.json', 'premise')\n",
    "alternative1 = load_data('/Users/lizhn7/Downloads/EXPERIMENT/COPA/LM/data/copa-dev.json', 'alternative1')\n",
    "alternative2 = load_data('/Users/lizhn7/Downloads/EXPERIMENT/COPA/LM/data/copa-dev.json', 'alternative2')"
   ]
  },
  {
   "cell_type": "code",
   "execution_count": 5,
   "metadata": {
    "collapsed": true
   },
   "outputs": [],
   "source": [
    "label = load_data('/Users/lizhn7/Downloads/EXPERIMENT/COPA/LM/data/copa-dev.json', 'most-plausible-alternative')\n",
    "label = [int(l) for l in label]"
   ]
  },
  {
   "cell_type": "markdown",
   "metadata": {},
   "source": [
    "# Word Segmentation"
   ]
  },
  {
   "cell_type": "code",
   "execution_count": 76,
   "metadata": {
    "collapsed": true
   },
   "outputs": [],
   "source": [
    "from nltk import regexp_tokenize\n",
    "import numpy as np"
   ]
  },
  {
   "cell_type": "code",
   "execution_count": 8,
   "metadata": {
    "collapsed": true
   },
   "outputs": [],
   "source": [
    "replDict = {'tattled': 'tattle', 'shirtsleeve': 'shirtsleeves', 'pruny': 'prune', \n",
    "            'dry-cleaned': 'dry-clean', 'illegibly': 'illegible', 'unlaced': 'untie'}"
   ]
  },
  {
   "cell_type": "code",
   "execution_count": 9,
   "metadata": {
    "collapsed": true
   },
   "outputs": [],
   "source": [
    "def cut(s):\n",
    "    \"\"\"\n",
    "    Word segmentation\n",
    "    \"\"\"\n",
    "    pattern = r'''\n",
    "              (?x)                   # set flag to allow verbose regexps \n",
    "              (?:[A-Z]\\.)+           # abbreviations, e.g. U.S.A. \n",
    "              |\\w+(?:[-&']\\w+)*      # words w/ optional internal hyphens/apostrophe  \n",
    "            '''  \n",
    "    return regexp_tokenize(s, pattern=pattern)\n",
    "\n",
    "def clean(s):\n",
    "    \"\"\"\n",
    "    Clean data\n",
    "    \"\"\"\n",
    "    for i in range(len(s)):\n",
    "        for d in ['0', '1', '2', '3', '4', '5' ,'6', '7', '8', '9']:\n",
    "            if d in s[i]:\n",
    "                s[i] = '0'\n",
    "        if s[i] == 'p' and i < len(s)-1:\n",
    "            if s[i+1] == 'm':\n",
    "                s[i] = 'pm'\n",
    "                s[i+1] = ''\n",
    "        if s[i] == 'a' and i < len(s)-1:\n",
    "            if s[i+1] == 'm':\n",
    "                s[i] = 'am'\n",
    "                s[i+1] = ''\n",
    "        if s[i] == 's':\n",
    "            s[i] = ''\n",
    "        if s[i].endswith(\"'s\"):\n",
    "            s[i] = s[i][:-2]\n",
    "    s = [i for i in s if i != '']\n",
    "    return [replDict.get(i.lower(), i.lower()) for i in s]"
   ]
  },
  {
   "cell_type": "code",
   "execution_count": 11,
   "metadata": {
    "collapsed": true
   },
   "outputs": [],
   "source": [
    "pWords = [clean(cut(s)) for s in premise]\n",
    "a1Words = [clean(cut(s)) for s in alternative1]\n",
    "a2Words = [clean(cut(s)) for s in alternative2]"
   ]
  },
  {
   "cell_type": "markdown",
   "metadata": {},
   "source": [
    "#  Tokenize Text"
   ]
  },
  {
   "cell_type": "code",
   "execution_count": 25,
   "metadata": {},
   "outputs": [
    {
     "name": "stderr",
     "output_type": "stream",
     "text": [
      "Using TensorFlow backend.\n"
     ]
    }
   ],
   "source": [
    "from nltk import PorterStemmer, LancasterStemmer, WordNetLemmatizer\n",
    "import pickle\n",
    "from keras.preprocessing.sequence import pad_sequences"
   ]
  },
  {
   "cell_type": "code",
   "execution_count": 15,
   "metadata": {
    "collapsed": true
   },
   "outputs": [],
   "source": [
    "with open('/Users/lizhn7/Downloads/EXPERIMENT/COPA/LM/data/index.pkl', 'rb') as fp:\n",
    "    word2index, index2word, glove_index2index = pickle.load(fp)"
   ]
  },
  {
   "cell_type": "code",
   "execution_count": 23,
   "metadata": {},
   "outputs": [
    {
     "name": "stdout",
     "output_type": "stream",
     "text": [
      "129-38.51% tokens was replaced.\n"
     ]
    }
   ],
   "source": [
    "wnl = WordNetLemmatizer()\n",
    "porter = PorterStemmer()\n",
    "lancaster = LancasterStemmer()\n",
    "\n",
    "R = []\n",
    "for i in sum(pWords+a1Words+a2Words, []):\n",
    "    if word2index[i] > 19994:\n",
    "        R.append(i)\n",
    "N = {i: i for i in R}\n",
    "\n",
    "mini_word2index = {i: word2index[i] for i in word2index if word2index[i] <= 19994}\n",
    "count = 0\n",
    "for i in N:\n",
    "    w = N[i]\n",
    "    g = mini_word2index.get(w)\n",
    "    if g is None:\n",
    "        ww = wnl.lemmatize(w)\n",
    "        g = mini_word2index.get(ww)\n",
    "    if g is None:\n",
    "        ww = porter.stem(w)\n",
    "        g = mini_word2index.get(ww)\n",
    "    if g is None:\n",
    "        ww = lancaster.stem(w)\n",
    "        g = mini_word2index.get(ww)\n",
    "    if g is None:\n",
    "        if w.endswith('ed') or w.endswith('s'):\n",
    "            ww = w[:-1]\n",
    "            g = mini_word2index.get(ww)\n",
    "    if g is None:\n",
    "        if w.endswith('ed') or w.endswith('es') or w.endswith('er') or w.endswith('ly'):\n",
    "            ww = w[:-2]\n",
    "            g = mini_word2index.get(ww)\n",
    "    if g is None:\n",
    "        if w.endswith('ily') or w.endswith('ing'):\n",
    "            ww = w[:-3]\n",
    "            g = mini_word2index.get(ww)\n",
    "    if g is not None:\n",
    "        N[i] = index2word[g]\n",
    "        count += 1\n",
    "print('{num_tokens}-{per:.2f}% tokens was replaced.'.format(num_tokens=count, per=count/float(len(N))*100))    "
   ]
  },
  {
   "cell_type": "code",
   "execution_count": 24,
   "metadata": {
    "collapsed": true
   },
   "outputs": [],
   "source": [
    "pWords = [[N.get(i.lower(), i.lower()) for i in s] for s in pWords]\n",
    "a1Words = [[N.get(i.lower(), i.lower()) for i in s] for s in a1Words]\n",
    "a2Words = [[N.get(i.lower(), i.lower()) for i in s] for s in a2Words]"
   ]
  },
  {
   "cell_type": "code",
   "execution_count": 35,
   "metadata": {
    "collapsed": true
   },
   "outputs": [],
   "source": [
    "NUM_GRAMS = 25\n",
    "NUM_UNK_WORDS = 5\n",
    "VOCAB_SIZE = 20000\n",
    "MAX_LEN = 13"
   ]
  },
  {
   "cell_type": "code",
   "execution_count": 27,
   "metadata": {
    "collapsed": true
   },
   "outputs": [],
   "source": [
    "for i in range(NUM_UNK_WORDS):\n",
    "    index2word[VOCAB_SIZE-1-i] = '<%d>'%i\n",
    "\n",
    "unk0 = VOCAB_SIZE - NUM_UNK_WORDS"
   ]
  },
  {
   "cell_type": "code",
   "execution_count": 28,
   "metadata": {
    "collapsed": true
   },
   "outputs": [],
   "source": [
    "def vocab_fold(xs):\n",
    "    \"\"\"\n",
    "    Convert list of word indexes that may contain words outside vocab_size to words inside.\n",
    "    If a word is outside, try first to use glove_idx2idx to find a similar word inside.\n",
    "    If none exist then replace all accurancies of the same unknown word with <0>, <1>, ...\n",
    "    \"\"\"\n",
    "    xs = [x if x < unk0 else glove_index2index.get(x, x) for x in xs]\n",
    "    # the more popular word is <0> and so on\n",
    "    outside = sorted([x for x in xs if x >= unk0])\n",
    "    # if there are more than unknown_words unk words then put them all in unknown_words-1\n",
    "    outside = {x: VOCAB_SIZE-1-min(i, NUM_UNK_WORDS-1) for i, x in enumerate(outside)}\n",
    "    xs = [outside.get(x, x) for x in xs]\n",
    "    return xs"
   ]
  },
  {
   "cell_type": "code",
   "execution_count": 29,
   "metadata": {
    "collapsed": true
   },
   "outputs": [],
   "source": [
    "pSeq = [[word2index.get(w, w) for w in s] for s in pWords]\n",
    "pSeq = [vocab_fold(s) for s in pSeq]\n",
    "a1Seq = [[word2index.get(w, w) for w in s] for s in a1Words]\n",
    "a1Seq = [vocab_fold(s) for s in a1Seq]\n",
    "a2Seq = [[word2index.get(w, w) for w in s] for s in a2Words]\n",
    "a2Seq = [vocab_fold(s) for s in a2Seq]"
   ]
  },
  {
   "cell_type": "code",
   "execution_count": 36,
   "metadata": {
    "collapsed": true
   },
   "outputs": [],
   "source": [
    "p = pad_sequences(pSeq, maxlen=MAX_LEN)\n",
    "a1 = pad_sequences(a1Seq, maxlen=MAX_LEN)\n",
    "a2 = pad_sequences(a2Seq, maxlen=MAX_LEN)"
   ]
  },
  {
   "cell_type": "markdown",
   "metadata": {},
   "source": [
    "# Load Model"
   ]
  },
  {
   "cell_type": "markdown",
   "metadata": {},
   "source": [
    "## Set Hyperparameters"
   ]
  },
  {
   "cell_type": "code",
   "execution_count": 40,
   "metadata": {
    "collapsed": true
   },
   "outputs": [],
   "source": [
    "NUM_GRAMS = 25\n",
    "MAX_LEN = 13\n",
    "VOCAB_SIZE = 20000\n",
    "EMBEDDING_DIM = 200\n",
    "TUNE = True\n",
    "BATCH_SIZE = 1024\n",
    "RNN_SIZE = 1024"
   ]
  },
  {
   "cell_type": "markdown",
   "metadata": {},
   "source": [
    "## Import Libraries"
   ]
  },
  {
   "cell_type": "code",
   "execution_count": 77,
   "metadata": {
    "collapsed": true
   },
   "outputs": [],
   "source": [
    "from keras.layers import Input, Embedding, LSTM, Dense\n",
    "from keras.models import Model\n",
    "import keras.backend as K\n",
    "from keras.callbacks import*\n",
    "from IPython.display import SVG\n",
    "from keras.utils.vis_utils import model_to_dot\n",
    "import matplotlib.pyplot as plt\n",
    "%matplotlib inline\n",
    "%config InlineBackend.figure_format = 'retina'"
   ]
  },
  {
   "cell_type": "markdown",
   "metadata": {},
   "source": [
    "## Build Graph"
   ]
  },
  {
   "cell_type": "markdown",
   "metadata": {},
   "source": [
    "### Language Model"
   ]
  },
  {
   "cell_type": "code",
   "execution_count": 38,
   "metadata": {
    "collapsed": true
   },
   "outputs": [],
   "source": [
    "import h5py"
   ]
  },
  {
   "cell_type": "code",
   "execution_count": 39,
   "metadata": {
    "collapsed": true
   },
   "outputs": [],
   "source": [
    "with h5py.File('/Users/lizhn7/Downloads/EXPERIMENT/COPA/LM/data/embedding.h5', 'r') as fh:\n",
    "    embedding = fh['embedding'][:]"
   ]
  },
  {
   "cell_type": "code",
   "execution_count": 41,
   "metadata": {
    "collapsed": true
   },
   "outputs": [],
   "source": [
    "K.clear_session()\n",
    "# Encoder\n",
    "inputs = Input(shape=(None,), name='EN_INPUT', dtype='int64')\n",
    "emb_seq = Embedding(VOCAB_SIZE, \n",
    "                    EMBEDDING_DIM, \n",
    "                    weights=[embedding], \n",
    "                    mask_zero=True, \n",
    "                    trainable=TUNE, \n",
    "                    name='EN_EMBEDDING')(inputs)\n",
    "lstm = LSTM(RNN_SIZE, return_sequences=False, implementation=0, name='EN_LSTM')(emb_seq)\n",
    "encoder = Model(inputs=inputs, outputs=lstm)\n",
    "\n",
    "# Language Model\n",
    "input_grams = Input(shape=(NUM_GRAMS,), name='LM_INPUT', dtype='int64')\n",
    "encoded_grams = encoder(input_grams)\n",
    "outputs = Dense(VOCAB_SIZE, activation='softmax', name='LM_OUTPUT')(encoded_grams)\n",
    "lm = Model(inputs=input_grams, outputs=outputs)\n",
    "lm.compile(loss='sparse_categorical_crossentropy', optimizer='adam')"
   ]
  },
  {
   "cell_type": "code",
   "execution_count": 42,
   "metadata": {},
   "outputs": [
    {
     "name": "stdout",
     "output_type": "stream",
     "text": [
      "_________________________________________________________________\n",
      "Layer (type)                 Output Shape              Param #   \n",
      "=================================================================\n",
      "EN_INPUT (InputLayer)        (None, None)              0         \n",
      "_________________________________________________________________\n",
      "EN_EMBEDDING (Embedding)     (None, None, 200)         4000000   \n",
      "_________________________________________________________________\n",
      "EN_LSTM (LSTM)               (None, 1024)              5017600   \n",
      "=================================================================\n",
      "Total params: 9,017,600\n",
      "Trainable params: 9,017,600\n",
      "Non-trainable params: 0\n",
      "_________________________________________________________________\n"
     ]
    },
    {
     "data": {
      "image/svg+xml": [
       "<svg height=\"191pt\" viewBox=\"0.00 0.00 205.59 191.00\" width=\"206pt\" xmlns=\"http://www.w3.org/2000/svg\" xmlns:xlink=\"http://www.w3.org/1999/xlink\">\n",
       "<g class=\"graph\" id=\"graph0\" transform=\"scale(1 1) rotate(0) translate(4 187)\">\n",
       "<title>G</title>\n",
       "<polygon fill=\"#ffffff\" points=\"-4,4 -4,-187 201.5898,-187 201.5898,4 -4,4\" stroke=\"transparent\"/>\n",
       "<!-- 5301644704 -->\n",
       "<g class=\"node\" id=\"node1\">\n",
       "<title>5301644704</title>\n",
       "<polygon fill=\"none\" points=\"22.9106,-146.5 22.9106,-182.5 174.6792,-182.5 174.6792,-146.5 22.9106,-146.5\" stroke=\"#000000\"/>\n",
       "<text fill=\"#000000\" font-family=\"Times,serif\" font-size=\"14.00\" text-anchor=\"middle\" x=\"98.7949\" y=\"-160.3\">EN_INPUT: InputLayer</text>\n",
       "</g>\n",
       "<!-- 5301644480 -->\n",
       "<g class=\"node\" id=\"node2\">\n",
       "<title>5301644480</title>\n",
       "<polygon fill=\"none\" points=\"0,-73.5 0,-109.5 197.5898,-109.5 197.5898,-73.5 0,-73.5\" stroke=\"#000000\"/>\n",
       "<text fill=\"#000000\" font-family=\"Times,serif\" font-size=\"14.00\" text-anchor=\"middle\" x=\"98.7949\" y=\"-87.3\">EN_EMBEDDING: Embedding</text>\n",
       "</g>\n",
       "<!-- 5301644704&#45;&gt;5301644480 -->\n",
       "<g class=\"edge\" id=\"edge1\">\n",
       "<title>5301644704-&gt;5301644480</title>\n",
       "<path d=\"M98.7949,-146.4551C98.7949,-138.3828 98.7949,-128.6764 98.7949,-119.6817\" fill=\"none\" stroke=\"#000000\"/>\n",
       "<polygon fill=\"#000000\" points=\"102.295,-119.5903 98.7949,-109.5904 95.295,-119.5904 102.295,-119.5903\" stroke=\"#000000\"/>\n",
       "</g>\n",
       "<!-- 5301645208 -->\n",
       "<g class=\"node\" id=\"node3\">\n",
       "<title>5301645208</title>\n",
       "<polygon fill=\"none\" points=\"36.9312,-.5 36.9312,-36.5 160.6587,-36.5 160.6587,-.5 36.9312,-.5\" stroke=\"#000000\"/>\n",
       "<text fill=\"#000000\" font-family=\"Times,serif\" font-size=\"14.00\" text-anchor=\"middle\" x=\"98.7949\" y=\"-14.3\">EN_LSTM: LSTM</text>\n",
       "</g>\n",
       "<!-- 5301644480&#45;&gt;5301645208 -->\n",
       "<g class=\"edge\" id=\"edge2\">\n",
       "<title>5301644480-&gt;5301645208</title>\n",
       "<path d=\"M98.7949,-73.4551C98.7949,-65.3828 98.7949,-55.6764 98.7949,-46.6817\" fill=\"none\" stroke=\"#000000\"/>\n",
       "<polygon fill=\"#000000\" points=\"102.295,-46.5903 98.7949,-36.5904 95.295,-46.5904 102.295,-46.5903\" stroke=\"#000000\"/>\n",
       "</g>\n",
       "</g>\n",
       "</svg>"
      ],
      "text/plain": [
       "<IPython.core.display.SVG object>"
      ]
     },
     "execution_count": 42,
     "metadata": {},
     "output_type": "execute_result"
    }
   ],
   "source": [
    "encoder.summary()\n",
    "SVG(model_to_dot(encoder).create(prog='dot', format='svg'))"
   ]
  },
  {
   "cell_type": "code",
   "execution_count": 43,
   "metadata": {},
   "outputs": [
    {
     "name": "stdout",
     "output_type": "stream",
     "text": [
      "_________________________________________________________________\n",
      "Layer (type)                 Output Shape              Param #   \n",
      "=================================================================\n",
      "LM_INPUT (InputLayer)        (None, 25)                0         \n",
      "_________________________________________________________________\n",
      "model_1 (Model)              (None, 1024)              9017600   \n",
      "_________________________________________________________________\n",
      "LM_OUTPUT (Dense)            (None, 20000)             20500000  \n",
      "=================================================================\n",
      "Total params: 29,517,600\n",
      "Trainable params: 29,517,600\n",
      "Non-trainable params: 0\n",
      "_________________________________________________________________\n"
     ]
    },
    {
     "data": {
      "image/svg+xml": [
       "<svg height=\"191pt\" viewBox=\"0.00 0.00 162.11 191.00\" width=\"162pt\" xmlns=\"http://www.w3.org/2000/svg\" xmlns:xlink=\"http://www.w3.org/1999/xlink\">\n",
       "<g class=\"graph\" id=\"graph0\" transform=\"scale(1 1) rotate(0) translate(4 187)\">\n",
       "<title>G</title>\n",
       "<polygon fill=\"#ffffff\" points=\"-4,4 -4,-187 158.1064,-187 158.1064,4 -4,4\" stroke=\"transparent\"/>\n",
       "<!-- 5343082592 -->\n",
       "<g class=\"node\" id=\"node1\">\n",
       "<title>5343082592</title>\n",
       "<polygon fill=\"none\" points=\"0,-146.5 0,-182.5 154.1064,-182.5 154.1064,-146.5 0,-146.5\" stroke=\"#000000\"/>\n",
       "<text fill=\"#000000\" font-family=\"Times,serif\" font-size=\"14.00\" text-anchor=\"middle\" x=\"77.0532\" y=\"-160.3\">LM_INPUT: InputLayer</text>\n",
       "</g>\n",
       "<!-- 5301256992 -->\n",
       "<g class=\"node\" id=\"node2\">\n",
       "<title>5301256992</title>\n",
       "<polygon fill=\"none\" points=\"22.5859,-73.5 22.5859,-109.5 131.5205,-109.5 131.5205,-73.5 22.5859,-73.5\" stroke=\"#000000\"/>\n",
       "<text fill=\"#000000\" font-family=\"Times,serif\" font-size=\"14.00\" text-anchor=\"middle\" x=\"77.0532\" y=\"-87.3\">model_1: Model</text>\n",
       "</g>\n",
       "<!-- 5343082592&#45;&gt;5301256992 -->\n",
       "<g class=\"edge\" id=\"edge1\">\n",
       "<title>5343082592-&gt;5301256992</title>\n",
       "<path d=\"M77.0532,-146.4551C77.0532,-138.3828 77.0532,-128.6764 77.0532,-119.6817\" fill=\"none\" stroke=\"#000000\"/>\n",
       "<polygon fill=\"#000000\" points=\"80.5533,-119.5903 77.0532,-109.5904 73.5533,-119.5904 80.5533,-119.5903\" stroke=\"#000000\"/>\n",
       "</g>\n",
       "<!-- 5690182792 -->\n",
       "<g class=\"node\" id=\"node3\">\n",
       "<title>5690182792</title>\n",
       "<polygon fill=\"none\" points=\"6.6035,-.5 6.6035,-36.5 147.5029,-36.5 147.5029,-.5 6.6035,-.5\" stroke=\"#000000\"/>\n",
       "<text fill=\"#000000\" font-family=\"Times,serif\" font-size=\"14.00\" text-anchor=\"middle\" x=\"77.0532\" y=\"-14.3\">LM_OUTPUT: Dense</text>\n",
       "</g>\n",
       "<!-- 5301256992&#45;&gt;5690182792 -->\n",
       "<g class=\"edge\" id=\"edge2\">\n",
       "<title>5301256992-&gt;5690182792</title>\n",
       "<path d=\"M77.0532,-73.4551C77.0532,-65.3828 77.0532,-55.6764 77.0532,-46.6817\" fill=\"none\" stroke=\"#000000\"/>\n",
       "<polygon fill=\"#000000\" points=\"80.5533,-46.5903 77.0532,-36.5904 73.5533,-46.5904 80.5533,-46.5903\" stroke=\"#000000\"/>\n",
       "</g>\n",
       "</g>\n",
       "</svg>"
      ],
      "text/plain": [
       "<IPython.core.display.SVG object>"
      ]
     },
     "execution_count": 43,
     "metadata": {},
     "output_type": "execute_result"
    }
   ],
   "source": [
    "lm.summary()\n",
    "SVG(model_to_dot(lm).create(prog='dot', format='svg'))"
   ]
  },
  {
   "cell_type": "markdown",
   "metadata": {},
   "source": [
    "### Qustion Answering Model "
   ]
  },
  {
   "cell_type": "code",
   "execution_count": 87,
   "metadata": {
    "collapsed": true
   },
   "outputs": [],
   "source": [
    "from keras.layers import Reshape, MaxPooling1D, Flatten"
   ]
  },
  {
   "cell_type": "code",
   "execution_count": 52,
   "metadata": {
    "collapsed": true
   },
   "outputs": [],
   "source": [
    "def cosine_similarity(x, y):\n",
    "    \"\"\"\n",
    "    Compute_cosine_similarity\n",
    "    \"\"\"\n",
    "    return np.dot(x, y) / (np.linalg.norm(x, 2) * np.linalg.norm(y, 2))"
   ]
  },
  {
   "cell_type": "code",
   "execution_count": 44,
   "metadata": {
    "collapsed": true,
    "scrolled": false
   },
   "outputs": [],
   "source": [
    "filename = '/Users/lizhn7/Downloads/EXPERIMENT/COPA/LM/cp_logs/weights.041-4.525330.hdf5'\n",
    "lm.load_weights(filename)"
   ]
  },
  {
   "cell_type": "code",
   "execution_count": 103,
   "metadata": {
    "collapsed": true
   },
   "outputs": [],
   "source": [
    "for layer in encoder.layers:\n",
    "    layer.trainable=False\n",
    "\n",
    "sentence = Input(shape=(MAX_LEN,))\n",
    "encoded_sentence = encoder(sentence)\n",
    "encoded_sentence = Reshape((RNN_SIZE, 1))(encoded_sentence)\n",
    "encoded_sentence = MaxPooling1D(pool_size=2)(encoded_sentence)\n",
    "encoded_sentence = MaxPooling1D(pool_size=2)(encoded_sentence)\n",
    "encoded_sentence = Flatten()(encoded_sentence)\n",
    "model = Model(inputs=sentence, outputs=encoded_sentence)\n",
    "model.compile(loss='binary_crossentropy', optimizer='adam', metrics=['accuracy'])"
   ]
  },
  {
   "cell_type": "code",
   "execution_count": 104,
   "metadata": {},
   "outputs": [
    {
     "name": "stdout",
     "output_type": "stream",
     "text": [
      "_________________________________________________________________\n",
      "Layer (type)                 Output Shape              Param #   \n",
      "=================================================================\n",
      "input_5 (InputLayer)         (None, 13)                0         \n",
      "_________________________________________________________________\n",
      "model_1 (Model)              (None, 1024)              9017600   \n",
      "_________________________________________________________________\n",
      "reshape_4 (Reshape)          (None, 1024, 1)           0         \n",
      "_________________________________________________________________\n",
      "max_pooling1d_6 (MaxPooling1 (None, 512, 1)            0         \n",
      "_________________________________________________________________\n",
      "max_pooling1d_7 (MaxPooling1 (None, 256, 1)            0         \n",
      "_________________________________________________________________\n",
      "flatten_3 (Flatten)          (None, 256)               0         \n",
      "=================================================================\n",
      "Total params: 9,017,600\n",
      "Trainable params: 0\n",
      "Non-trainable params: 9,017,600\n",
      "_________________________________________________________________\n"
     ]
    }
   ],
   "source": [
    "model.summary()"
   ]
  },
  {
   "cell_type": "code",
   "execution_count": 96,
   "metadata": {
    "collapsed": true
   },
   "outputs": [],
   "source": [
    "P = model.predict(p)\n",
    "A1 = model.predict(a1)\n",
    "A2 = model.predict(a2)"
   ]
  },
  {
   "cell_type": "code",
   "execution_count": 97,
   "metadata": {},
   "outputs": [
    {
     "data": {
      "text/plain": [
       "0.50861156"
      ]
     },
     "execution_count": 97,
     "metadata": {},
     "output_type": "execute_result"
    }
   ],
   "source": [
    "cosine_similarity(P[0], A1[0])"
   ]
  },
  {
   "cell_type": "code",
   "execution_count": 98,
   "metadata": {},
   "outputs": [
    {
     "data": {
      "text/plain": [
       "0.5712316"
      ]
     },
     "execution_count": 98,
     "metadata": {},
     "output_type": "execute_result"
    }
   ],
   "source": [
    "cosine_similarity(P[0], A2[0])"
   ]
  },
  {
   "cell_type": "code",
   "execution_count": 74,
   "metadata": {},
   "outputs": [
    {
     "data": {
      "text/plain": [
       "1"
      ]
     },
     "execution_count": 74,
     "metadata": {},
     "output_type": "execute_result"
    }
   ],
   "source": [
    "label[0]"
   ]
  },
  {
   "cell_type": "code",
   "execution_count": 99,
   "metadata": {
    "collapsed": true
   },
   "outputs": [],
   "source": [
    "R1 = []\n",
    "for i in range(len(P)):\n",
    "    R1.append(cosine_similarity(P[i], A1[i]))\n",
    "    \n",
    "R2 = []\n",
    "for i in range(len(P)):\n",
    "    R2.append(cosine_similarity(P[i], A2[i]))"
   ]
  },
  {
   "cell_type": "code",
   "execution_count": 100,
   "metadata": {
    "collapsed": true
   },
   "outputs": [],
   "source": [
    "def accuracy(p1, p2, actu, show=True):\n",
    "    \"\"\"\n",
    "    Calculate Accuracy\n",
    "    \"\"\"\n",
    "    pred = []\n",
    "    for i in range(len(p1)):\n",
    "        if p1[i] <= p2[i]:\n",
    "            pred.append(1)\n",
    "        else:\n",
    "            pred.append(2)\n",
    "    S = sum([1 for i in range(len(pred)) if pred[i] == actu[i]])\n",
    "    ACC = S / len(actu)\n",
    "    if show:\n",
    "        print('Accuracy: \\t%.3f' % (ACC))\n",
    "    return ACC"
   ]
  }
 ],
 "metadata": {
  "kernelspec": {
   "display_name": "Python 3",
   "language": "python",
   "name": "python3"
  },
  "language_info": {
   "codemirror_mode": {
    "name": "ipython",
    "version": 3
   },
   "file_extension": ".py",
   "mimetype": "text/x-python",
   "name": "python",
   "nbconvert_exporter": "python",
   "pygments_lexer": "ipython3",
   "version": "3.6.2"
  },
  "toc": {
   "colors": {
    "hover_highlight": "#DAA520",
    "navigate_num": "#000000",
    "navigate_text": "#333333",
    "running_highlight": "#FF0000",
    "selected_highlight": "#FFD700",
    "sidebar_border": "#EEEEEE",
    "wrapper_background": "#FFFFFF"
   },
   "moveMenuLeft": true,
   "nav_menu": {
    "height": "66px",
    "width": "252px"
   },
   "navigate_menu": true,
   "number_sections": true,
   "sideBar": true,
   "threshold": 4,
   "toc_cell": true,
   "toc_section_display": "block",
   "toc_window_display": false,
   "widenNotebook": false
  }
 },
 "nbformat": 4,
 "nbformat_minor": 2
}
