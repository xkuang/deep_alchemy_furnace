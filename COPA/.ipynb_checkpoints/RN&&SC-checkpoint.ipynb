{
 "cells": [
  {
   "cell_type": "markdown",
   "metadata": {
    "toc": "true"
   },
   "source": [
    "# Table of Contents\n",
    " <p><div class=\"lev1 toc-item\"><a href=\"#Checkpoint\" data-toc-modified-id=\"Checkpoint-1\"><span class=\"toc-item-num\">1&nbsp;&nbsp;</span>Checkpoint</a></div><div class=\"lev1 toc-item\"><a href=\"#Build-Model\" data-toc-modified-id=\"Build-Model-2\"><span class=\"toc-item-num\">2&nbsp;&nbsp;</span>Build Model</a></div><div class=\"lev2 toc-item\"><a href=\"#Import-Libraries\" data-toc-modified-id=\"Import-Libraries-21\"><span class=\"toc-item-num\">2.1&nbsp;&nbsp;</span>Import Libraries</a></div><div class=\"lev2 toc-item\"><a href=\"#Set-Hyperparameters\" data-toc-modified-id=\"Set-Hyperparameters-22\"><span class=\"toc-item-num\">2.2&nbsp;&nbsp;</span>Set Hyperparameters</a></div><div class=\"lev2 toc-item\"><a href=\"#Build-Graph\" data-toc-modified-id=\"Build-Graph-23\"><span class=\"toc-item-num\">2.3&nbsp;&nbsp;</span>Build Graph</a></div><div class=\"lev1 toc-item\"><a href=\"#Model-Visualization\" data-toc-modified-id=\"Model-Visualization-3\"><span class=\"toc-item-num\">3&nbsp;&nbsp;</span>Model Visualization</a></div><div class=\"lev1 toc-item\"><a href=\"#Train\" data-toc-modified-id=\"Train-4\"><span class=\"toc-item-num\">4&nbsp;&nbsp;</span>Train</a></div>"
   ]
  },
  {
   "cell_type": "markdown",
   "metadata": {},
   "source": [
    "# Checkpoint"
   ]
  },
  {
   "cell_type": "code",
   "execution_count": 1,
   "metadata": {
    "collapsed": true
   },
   "outputs": [],
   "source": [
    "import h5py"
   ]
  },
  {
   "cell_type": "code",
   "execution_count": 2,
   "metadata": {
    "collapsed": true
   },
   "outputs": [],
   "source": [
    "with h5py.File('/Users/lizhn7/Downloads/EXPERIMENT/COPA/Sentence_Classification_Glove/data/embedding.h5', 'r') as fh:\n",
    "    embedding = fh['embedding'][:]\n",
    "    \n",
    "with h5py.File('/Users/lizhn7/Downloads/EXPERIMENT/COPA/Sentence_Classification_Glove/data/train_2000_2.h5', 'r') as fh:\n",
    "    xTrain = fh['xTrain'][:]\n",
    "    yTrain = fh['yTrain'][:]\n",
    "    \n",
    "with h5py.File('/Users/lizhn7/Downloads/EXPERIMENT/COPA/Sentence_Classification_Glove/data/test.h5', 'r') as fh:\n",
    "    x1Test = fh['x1Test'][:]\n",
    "    x2Test = fh['x2Test'][:]\n",
    "    yTest = fh['yTest'][:]"
   ]
  },
  {
   "cell_type": "markdown",
   "metadata": {},
   "source": [
    "# Build Model"
   ]
  },
  {
   "cell_type": "markdown",
   "metadata": {},
   "source": [
    "## Import Libraries"
   ]
  },
  {
   "cell_type": "code",
   "execution_count": 17,
   "metadata": {},
   "outputs": [],
   "source": [
    "from keras.layers import Lambda, Input, Embedding, Dropout, GRU, RepeatVector, Concatenate, concatenate, TimeDistributed, Dense, BatchNormalization, Activation, Reshape\n",
    "from keras.models import Model\n",
    "import keras.backend as K\n",
    "from keras.regularizers import l2\n",
    "from keras.constraints import maxnorm\n",
    "from keras.callbacks import*\n",
    "from IPython.display import SVG\n",
    "from keras.utils.vis_utils import model_to_dot\n",
    "import matplotlib.pyplot as plt\n",
    "%matplotlib inline\n",
    "%config InlineBackend.figure_format = 'retina'"
   ]
  },
  {
   "cell_type": "markdown",
   "metadata": {},
   "source": [
    "## Set Hyperparameters"
   ]
  },
  {
   "cell_type": "code",
   "execution_count": 22,
   "metadata": {
    "collapsed": true
   },
   "outputs": [],
   "source": [
    "MAX_LEN = 22\n",
    "VOCAB_SIZE = 3371\n",
    "EMBEDDING_SIZE = 300\n",
    "GRU_SIZE = 300\n",
    "DROPOUT_RATE = 0.2\n",
    "L2_NORM = 1e-4\n",
    "HIDDEN_SIZE = 600\n",
    "WEIGHT_CONSTRAINT = 2.\n",
    "DELTA = 0.009\n",
    "BATCH_SIZE = 200\n",
    "NUM_EPOCHS = 1024"
   ]
  },
  {
   "cell_type": "markdown",
   "metadata": {},
   "source": [
    "## Build Graph"
   ]
  },
  {
   "cell_type": "code",
   "execution_count": 23,
   "metadata": {
    "collapsed": true
   },
   "outputs": [],
   "source": [
    "def hinge(y_true, y_pred):\n",
    "    \"\"\"\n",
    "    Define hinge loss function\n",
    "    \"\"\"\n",
    "    return K.mean(K.maximum(DELTA - y_true * y_pred, 0.), axis=-1)"
   ]
  },
  {
   "cell_type": "code",
   "execution_count": 24,
   "metadata": {
    "collapsed": true
   },
   "outputs": [],
   "source": [
    "def feature_map():\n",
    "    \"\"\"\n",
    "    Build Attention GRU feature maps\n",
    "    \"\"\"\n",
    "    inputs = Input(shape=(MAX_LEN,), name='INPUT')\n",
    "    emb_seq = Embedding(VOCAB_SIZE, \n",
    "                        EMBEDDING_SIZE, \n",
    "                        weights=[embedding], \n",
    "                        mask_zero=True, \n",
    "                        trainable=False, \n",
    "                        name='EMBEDDING')(inputs)\n",
    "    gru = GRU(GRU_SIZE, \n",
    "              return_sequences=True, \n",
    "              implementation=0, \n",
    "              dropout=DROPOUT_RATE, \n",
    "              recurrent_dropout=DROPOUT_RATE,\n",
    "              kernel_regularizer=l2(L2_NORM),\n",
    "              recurrent_regularizer=l2(L2_NORM),\n",
    "              name='GRU')(emb_seq)\n",
    "    gru = Dropout(DROPOUT_RATE, name='DROPOUT')(gru)\n",
    "    model = Model(inputs=[inputs], outputs=[gru])\n",
    "    return model"
   ]
  },
  {
   "cell_type": "code",
   "execution_count": 25,
   "metadata": {},
   "outputs": [
    {
     "name": "stdout",
     "output_type": "stream",
     "text": [
      "_________________________________________________________________\n",
      "Layer (type)                 Output Shape              Param #   \n",
      "=================================================================\n",
      "INPUT (InputLayer)           (None, 22)                0         \n",
      "_________________________________________________________________\n",
      "EMBEDDING (Embedding)        (None, 22, 300)           1011300   \n",
      "_________________________________________________________________\n",
      "GRU (GRU)                    (None, 22, 300)           540900    \n",
      "_________________________________________________________________\n",
      "DROPOUT (Dropout)            (None, 22, 300)           0         \n",
      "=================================================================\n",
      "Total params: 1,552,200\n",
      "Trainable params: 540,900\n",
      "Non-trainable params: 1,011,300\n",
      "_________________________________________________________________\n"
     ]
    }
   ],
   "source": [
    "model = feature_map()\n",
    "model.summary()"
   ]
  },
  {
   "cell_type": "code",
   "execution_count": 28,
   "metadata": {
    "collapsed": true
   },
   "outputs": [],
   "source": [
    "def relation_networks():\n",
    "    \"\"\"\n",
    "    Build relation networks\n",
    "    \"\"\"\n",
    "    GRU = feature_map()\n",
    "    inputs = Input(shape=(MAX_LEN,), name='INPUT')\n",
    "    feaMap = GRU(inputs)\n",
    "    mlp = TimeDistributed(Dense(HIDDEN_SIZE,\n",
    "                                activation=None,\n",
    "                                kernel_regularizer=l2(L2_NORM),\n",
    "                                kernel_constraint=maxnorm(WEIGHT_CONSTRAINT)),\n",
    "                          name='MLP')(feaMap)\n",
    "    mlp = BatchNormalization(name='BN')(mlp)\n",
    "    mlp = Activation('elu', name='ELU')(mlp)\n",
    "    mlp = Dropout(DROPOUT_RATE, name='DROPOUT_1')(mlp)\n",
    "    ewSum = Lambda(lambda x: K.sum(x, axis=1), name='ELEMENT-WISE_SUM')(mlp)\n",
    "    ewSum = Dropout(DROPOUT_RATE, name='DROPOUT_2')(ewSum)\n",
    "    outputs = Dense(1, \n",
    "                    activation='tanh', \n",
    "                    kernel_regularizer=l2(L2_NORM),\n",
    "                    kernel_constraint=maxnorm(WEIGHT_CONSTRAINT),\n",
    "                    name='OUTPUT')(ewSum)\n",
    "    model = Model(inputs=[inputs], outputs=[outputs])\n",
    "    model.compile(loss=hinge, optimizer='rmsprop')\n",
    "    return model"
   ]
  },
  {
   "cell_type": "markdown",
   "metadata": {},
   "source": [
    "# Model Visualization"
   ]
  },
  {
   "cell_type": "code",
   "execution_count": 30,
   "metadata": {
    "scrolled": false
   },
   "outputs": [
    {
     "name": "stdout",
     "output_type": "stream",
     "text": [
      "_________________________________________________________________\n",
      "Layer (type)                 Output Shape              Param #   \n",
      "=================================================================\n",
      "INPUT (InputLayer)           (None, 22)                0         \n",
      "_________________________________________________________________\n",
      "model_1 (Model)              (None, 22, 300)           1552200   \n",
      "_________________________________________________________________\n",
      "MLP (TimeDistributed)        (None, 22, 600)           180600    \n",
      "_________________________________________________________________\n",
      "BN (BatchNormalization)      (None, 22, 600)           2400      \n",
      "_________________________________________________________________\n",
      "ELU (Activation)             (None, 22, 600)           0         \n",
      "_________________________________________________________________\n",
      "DROPOUT_1 (Dropout)          (None, 22, 600)           0         \n",
      "_________________________________________________________________\n",
      "ELEMENT-WISE_SUM (Lambda)    (None, 600)               0         \n",
      "_________________________________________________________________\n",
      "DROPOUT_2 (Dropout)          (None, 600)               0         \n",
      "_________________________________________________________________\n",
      "OUTPUT (Dense)               (None, 1)                 601       \n",
      "=================================================================\n",
      "Total params: 1,735,801\n",
      "Trainable params: 723,301\n",
      "Non-trainable params: 1,012,500\n",
      "_________________________________________________________________\n"
     ]
    },
    {
     "data": {
      "image/svg+xml": [
       "<svg height=\"629pt\" viewBox=\"0.00 0.00 251.49 629.00\" width=\"251pt\" xmlns=\"http://www.w3.org/2000/svg\" xmlns:xlink=\"http://www.w3.org/1999/xlink\">\n",
       "<g class=\"graph\" id=\"graph0\" transform=\"scale(1 1) rotate(0) translate(4 625)\">\n",
       "<title>G</title>\n",
       "<polygon fill=\"#ffffff\" points=\"-4,4 -4,-625 247.4932,-625 247.4932,4 -4,4\" stroke=\"transparent\"/>\n",
       "<!-- 112067347960 -->\n",
       "<g class=\"node\" id=\"node1\">\n",
       "<title>112067347960</title>\n",
       "<polygon fill=\"none\" points=\"58.6934,-584.5 58.6934,-620.5 184.7998,-620.5 184.7998,-584.5 58.6934,-584.5\" stroke=\"#000000\"/>\n",
       "<text fill=\"#000000\" font-family=\"Times,serif\" font-size=\"14.00\" text-anchor=\"middle\" x=\"121.7466\" y=\"-598.3\">INPUT: InputLayer</text>\n",
       "</g>\n",
       "<!-- 4547584632 -->\n",
       "<g class=\"node\" id=\"node2\">\n",
       "<title>4547584632</title>\n",
       "<polygon fill=\"none\" points=\"67.2793,-511.5 67.2793,-547.5 176.2139,-547.5 176.2139,-511.5 67.2793,-511.5\" stroke=\"#000000\"/>\n",
       "<text fill=\"#000000\" font-family=\"Times,serif\" font-size=\"14.00\" text-anchor=\"middle\" x=\"121.7466\" y=\"-525.3\">model_1: Model</text>\n",
       "</g>\n",
       "<!-- 112067347960&#45;&gt;4547584632 -->\n",
       "<g class=\"edge\" id=\"edge1\">\n",
       "<title>112067347960-&gt;4547584632</title>\n",
       "<path d=\"M121.7466,-584.4551C121.7466,-576.3828 121.7466,-566.6764 121.7466,-557.6817\" fill=\"none\" stroke=\"#000000\"/>\n",
       "<polygon fill=\"#000000\" points=\"125.2467,-557.5903 121.7466,-547.5904 118.2467,-557.5904 125.2467,-557.5903\" stroke=\"#000000\"/>\n",
       "</g>\n",
       "<!-- 112079416960 -->\n",
       "<g class=\"node\" id=\"node3\">\n",
       "<title>112079416960</title>\n",
       "<polygon fill=\"none\" points=\"0,-438.5 0,-474.5 243.4932,-474.5 243.4932,-438.5 0,-438.5\" stroke=\"#000000\"/>\n",
       "<text fill=\"#000000\" font-family=\"Times,serif\" font-size=\"14.00\" text-anchor=\"middle\" x=\"121.7466\" y=\"-452.3\">MLP(dense_1): TimeDistributed(Dense)</text>\n",
       "</g>\n",
       "<!-- 4547584632&#45;&gt;112079416960 -->\n",
       "<g class=\"edge\" id=\"edge2\">\n",
       "<title>4547584632-&gt;112079416960</title>\n",
       "<path d=\"M121.7466,-511.4551C121.7466,-503.3828 121.7466,-493.6764 121.7466,-484.6817\" fill=\"none\" stroke=\"#000000\"/>\n",
       "<polygon fill=\"#000000\" points=\"125.2467,-484.5903 121.7466,-474.5904 118.2467,-484.5904 125.2467,-484.5903\" stroke=\"#000000\"/>\n",
       "</g>\n",
       "<!-- 112078348128 -->\n",
       "<g class=\"node\" id=\"node4\">\n",
       "<title>112078348128</title>\n",
       "<polygon fill=\"none\" points=\"43.5688,-365.5 43.5688,-401.5 199.9243,-401.5 199.9243,-365.5 43.5688,-365.5\" stroke=\"#000000\"/>\n",
       "<text fill=\"#000000\" font-family=\"Times,serif\" font-size=\"14.00\" text-anchor=\"middle\" x=\"121.7466\" y=\"-379.3\">BN: BatchNormalization</text>\n",
       "</g>\n",
       "<!-- 112079416960&#45;&gt;112078348128 -->\n",
       "<g class=\"edge\" id=\"edge3\">\n",
       "<title>112079416960-&gt;112078348128</title>\n",
       "<path d=\"M121.7466,-438.4551C121.7466,-430.3828 121.7466,-420.6764 121.7466,-411.6817\" fill=\"none\" stroke=\"#000000\"/>\n",
       "<polygon fill=\"#000000\" points=\"125.2467,-411.5903 121.7466,-401.5904 118.2467,-411.5904 125.2467,-411.5903\" stroke=\"#000000\"/>\n",
       "</g>\n",
       "<!-- 112080057568 -->\n",
       "<g class=\"node\" id=\"node5\">\n",
       "<title>112080057568</title>\n",
       "<polygon fill=\"none\" points=\"67.2793,-292.5 67.2793,-328.5 176.2139,-328.5 176.2139,-292.5 67.2793,-292.5\" stroke=\"#000000\"/>\n",
       "<text fill=\"#000000\" font-family=\"Times,serif\" font-size=\"14.00\" text-anchor=\"middle\" x=\"121.7466\" y=\"-306.3\">ELU: Activation</text>\n",
       "</g>\n",
       "<!-- 112078348128&#45;&gt;112080057568 -->\n",
       "<g class=\"edge\" id=\"edge4\">\n",
       "<title>112078348128-&gt;112080057568</title>\n",
       "<path d=\"M121.7466,-365.4551C121.7466,-357.3828 121.7466,-347.6764 121.7466,-338.6817\" fill=\"none\" stroke=\"#000000\"/>\n",
       "<polygon fill=\"#000000\" points=\"125.2467,-338.5903 121.7466,-328.5904 118.2467,-338.5904 125.2467,-338.5903\" stroke=\"#000000\"/>\n",
       "</g>\n",
       "<!-- 112081520792 -->\n",
       "<g class=\"node\" id=\"node6\">\n",
       "<title>112081520792</title>\n",
       "<polygon fill=\"none\" points=\"46.6621,-219.5 46.6621,-255.5 196.8311,-255.5 196.8311,-219.5 46.6621,-219.5\" stroke=\"#000000\"/>\n",
       "<text fill=\"#000000\" font-family=\"Times,serif\" font-size=\"14.00\" text-anchor=\"middle\" x=\"121.7466\" y=\"-233.3\">DROPOUT_1: Dropout</text>\n",
       "</g>\n",
       "<!-- 112080057568&#45;&gt;112081520792 -->\n",
       "<g class=\"edge\" id=\"edge5\">\n",
       "<title>112080057568-&gt;112081520792</title>\n",
       "<path d=\"M121.7466,-292.4551C121.7466,-284.3828 121.7466,-274.6764 121.7466,-265.6817\" fill=\"none\" stroke=\"#000000\"/>\n",
       "<polygon fill=\"#000000\" points=\"125.2467,-265.5903 121.7466,-255.5904 118.2467,-265.5904 125.2467,-265.5903\" stroke=\"#000000\"/>\n",
       "</g>\n",
       "<!-- 112081361104 -->\n",
       "<g class=\"node\" id=\"node7\">\n",
       "<title>112081361104</title>\n",
       "<polygon fill=\"none\" points=\"16.9907,-146.5 16.9907,-182.5 226.5024,-182.5 226.5024,-146.5 16.9907,-146.5\" stroke=\"#000000\"/>\n",
       "<text fill=\"#000000\" font-family=\"Times,serif\" font-size=\"14.00\" text-anchor=\"middle\" x=\"121.7466\" y=\"-160.3\">ELEMENT-WISE_SUM: Lambda</text>\n",
       "</g>\n",
       "<!-- 112081520792&#45;&gt;112081361104 -->\n",
       "<g class=\"edge\" id=\"edge6\">\n",
       "<title>112081520792-&gt;112081361104</title>\n",
       "<path d=\"M121.7466,-219.4551C121.7466,-211.3828 121.7466,-201.6764 121.7466,-192.6817\" fill=\"none\" stroke=\"#000000\"/>\n",
       "<polygon fill=\"#000000\" points=\"125.2467,-192.5903 121.7466,-182.5904 118.2467,-192.5904 125.2467,-192.5903\" stroke=\"#000000\"/>\n",
       "</g>\n",
       "<!-- 112081579816 -->\n",
       "<g class=\"node\" id=\"node8\">\n",
       "<title>112081579816</title>\n",
       "<polygon fill=\"none\" points=\"46.6621,-73.5 46.6621,-109.5 196.8311,-109.5 196.8311,-73.5 46.6621,-73.5\" stroke=\"#000000\"/>\n",
       "<text fill=\"#000000\" font-family=\"Times,serif\" font-size=\"14.00\" text-anchor=\"middle\" x=\"121.7466\" y=\"-87.3\">DROPOUT_2: Dropout</text>\n",
       "</g>\n",
       "<!-- 112081361104&#45;&gt;112081579816 -->\n",
       "<g class=\"edge\" id=\"edge7\">\n",
       "<title>112081361104-&gt;112081579816</title>\n",
       "<path d=\"M121.7466,-146.4551C121.7466,-138.3828 121.7466,-128.6764 121.7466,-119.6817\" fill=\"none\" stroke=\"#000000\"/>\n",
       "<polygon fill=\"#000000\" points=\"125.2467,-119.5903 121.7466,-109.5904 118.2467,-119.5904 125.2467,-119.5903\" stroke=\"#000000\"/>\n",
       "</g>\n",
       "<!-- 112082538336 -->\n",
       "<g class=\"node\" id=\"node9\">\n",
       "<title>112082538336</title>\n",
       "<polygon fill=\"none\" points=\"65.2969,-.5 65.2969,-36.5 178.1963,-36.5 178.1963,-.5 65.2969,-.5\" stroke=\"#000000\"/>\n",
       "<text fill=\"#000000\" font-family=\"Times,serif\" font-size=\"14.00\" text-anchor=\"middle\" x=\"121.7466\" y=\"-14.3\">OUTPUT: Dense</text>\n",
       "</g>\n",
       "<!-- 112081579816&#45;&gt;112082538336 -->\n",
       "<g class=\"edge\" id=\"edge8\">\n",
       "<title>112081579816-&gt;112082538336</title>\n",
       "<path d=\"M121.7466,-73.4551C121.7466,-65.3828 121.7466,-55.6764 121.7466,-46.6817\" fill=\"none\" stroke=\"#000000\"/>\n",
       "<polygon fill=\"#000000\" points=\"125.2467,-46.5903 121.7466,-36.5904 118.2467,-46.5904 125.2467,-46.5903\" stroke=\"#000000\"/>\n",
       "</g>\n",
       "</g>\n",
       "</svg>"
      ],
      "text/plain": [
       "<IPython.core.display.SVG object>"
      ]
     },
     "execution_count": 30,
     "metadata": {},
     "output_type": "execute_result"
    }
   ],
   "source": [
    "K.clear_session()\n",
    "model = relation_networks()\n",
    "model.summary()\n",
    "SVG(model_to_dot(model).create(prog='dot', format='svg'))"
   ]
  },
  {
   "cell_type": "markdown",
   "metadata": {},
   "source": [
    "# Train"
   ]
  },
  {
   "cell_type": "code",
   "execution_count": 31,
   "metadata": {
    "collapsed": true
   },
   "outputs": [],
   "source": [
    "from tqdm import tqdm\n",
    "import numpy as np"
   ]
  },
  {
   "cell_type": "code",
   "execution_count": 34,
   "metadata": {
    "collapsed": true
   },
   "outputs": [],
   "source": [
    "def accuracy(a1, a2, actu, show=True):\n",
    "    \"\"\"\n",
    "    Calculate Accuracy\n",
    "    \"\"\"\n",
    "    A1 = model.predict(a1)\n",
    "    A2 = model.predict(a2)\n",
    "    pred = []\n",
    "    for i in range(len(A1)):\n",
    "        if A1[i] > A2[i]:\n",
    "            pred.append(1)\n",
    "        else:\n",
    "            pred.append(2)\n",
    "    S = sum([1 for i in range(len(pred)) if pred[i] == actu[i]])\n",
    "    ACC = S / len(actu)\n",
    "    if show:\n",
    "        print('Accuracy: \\t%.9f' % (ACC))\n",
    "    return np.array([ACC])\n",
    "\n",
    "def plot_acc(acc, num_epochs):\n",
    "    \"\"\"\n",
    "    Plot Accuracy\n",
    "    \"\"\"\n",
    "    print('MAX Accuracy: \\t%.3f' % (max(acc)))\n",
    "    epochs = list(range(1, num_epochs+1))\n",
    "    plt.figure(figsize=(10, 8))\n",
    "    plt.plot(epochs, acc, label=\"Accuracy\", color=\"red\", linewidth=1)\n",
    "    plt.xlabel(\"Epochs\")\n",
    "    plt.ylabel(\"Accuracy\")\n",
    "    plt.xticks([i for i in range(1, len(acc), len(acc)//10)])\n",
    "    plt.grid(True)  \n",
    "    plt.legend()\n",
    "    plt.show()\n",
    "    \n",
    "def plot_loss(log):\n",
    "    \"\"\"\n",
    "    Plot Loss\n",
    "    \"\"\"\n",
    "    plt.figure(figsize=(10, 8))\n",
    "    loss = log['loss']\n",
    "    if 'val_loss' in log:\n",
    "        val_loss = log['val_loss']\n",
    "        plt.plot(val_loss, color=\"r\", label=\"Val Loss\")\n",
    "    plt.plot(loss, color=\"g\", label=\"Train Loss\")\n",
    "    plt.ylabel(\"Loss\")\n",
    "    plt.xlabel(\"Epochs\")\n",
    "    plt.legend(loc=\"best\")\n",
    "    plt.show()"
   ]
  },
  {
   "cell_type": "code",
   "execution_count": 35,
   "metadata": {
    "collapsed": true
   },
   "outputs": [],
   "source": [
    "def train(model, num_epochs=NUM_EPOCHS, batch_size=BATCH_SIZE, verbose=1, show=True, plot=True):\n",
    "    \"\"\"\n",
    "    Parameters\n",
    "    ----------\n",
    "    model :                  training model          \n",
    "    num_epochs 128:          training epochs   \n",
    "    batch_size 200:          size of batch \n",
    "    verbose :                1\n",
    "    show True:               show accuracy every epoch\n",
    "    plot True:               plot accuracy and loss or not\n",
    "    Returns\n",
    "    ----------\n",
    "    The training results\n",
    "    \"\"\"\n",
    "    ACC = []\n",
    "    history = {}\n",
    "    for e in range(num_epochs):\n",
    "        print('EPOCHS', e+1)\n",
    "        t = model.fit([xpTrain, xaTrain, xqTrain], \n",
    "                      yhiTrain,\n",
    "                      batch_size=batch_size,\n",
    "                      epochs=1,\n",
    "                      shuffle=True,\n",
    "                      verbose=verbose)\n",
    "        for i, j in t.history.items():\n",
    "            history[i] = history.get(i, []) + j\n",
    "        ACC.append(accuracy(xpTest, xa1Test, xa2Test, xqTest, yTest, show=show))\n",
    "    if plot:\n",
    "        plot_acc(ACC, num_epochs)\n",
    "        plot_loss(history)\n",
    "    ACC = sum([list(i) for i in ACC], [])\n",
    "    return max(ACC)"
   ]
  },
  {
   "cell_type": "code",
   "execution_count": 32,
   "metadata": {},
   "outputs": [
    {
     "ename": "NameError",
     "evalue": "name 'train' is not defined",
     "output_type": "error",
     "traceback": [
      "\u001b[0;31m---------------------------------------------------------------------------\u001b[0m",
      "\u001b[0;31mNameError\u001b[0m                                 Traceback (most recent call last)",
      "\u001b[0;32m<ipython-input-32-15e25f3631a5>\u001b[0m in \u001b[0;36m<module>\u001b[0;34m()\u001b[0m\n\u001b[0;32m----> 1\u001b[0;31m \u001b[0mtrain\u001b[0m\u001b[0;34m(\u001b[0m\u001b[0mrelation_networks\u001b[0m\u001b[0;34m(\u001b[0m\u001b[0;34m)\u001b[0m\u001b[0;34m)\u001b[0m\u001b[0;34m\u001b[0m\u001b[0m\n\u001b[0m",
      "\u001b[0;31mNameError\u001b[0m: name 'train' is not defined"
     ]
    }
   ],
   "source": [
    "train(relation_networks())"
   ]
  },
  {
   "cell_type": "code",
   "execution_count": 33,
   "metadata": {},
   "outputs": [
    {
     "name": "stdout",
     "output_type": "stream",
     "text": [
      "Epoch 1/3\n",
      "2000/2000 [==============================] - 8s - loss: 0.6280     \n",
      "Epoch 2/3\n",
      "2000/2000 [==============================] - 6s - loss: 0.6068     \n",
      "Epoch 3/3\n",
      "2000/2000 [==============================] - 7s - loss: 0.5909     \n"
     ]
    }
   ],
   "source": [
    "history = model.fit(xTrain, \n",
    "                    yTrain,\n",
    "                    batch_size=BATCH_SIZE,\n",
    "                    epochs=3,\n",
    "                    shuffle=True,\n",
    "                    verbose=1)"
   ]
  }
 ],
 "metadata": {
  "kernelspec": {
   "display_name": "Python 3",
   "language": "python",
   "name": "python3"
  },
  "language_info": {
   "codemirror_mode": {
    "name": "ipython",
    "version": 3
   },
   "file_extension": ".py",
   "mimetype": "text/x-python",
   "name": "python",
   "nbconvert_exporter": "python",
   "pygments_lexer": "ipython3",
   "version": "3.6.2"
  },
  "toc": {
   "colors": {
    "hover_highlight": "#DAA520",
    "navigate_num": "#000000",
    "navigate_text": "#333333",
    "running_highlight": "#FF0000",
    "selected_highlight": "#FFD700",
    "sidebar_border": "#EEEEEE",
    "wrapper_background": "#FFFFFF"
   },
   "moveMenuLeft": true,
   "nav_menu": {
    "height": "102px",
    "width": "252px"
   },
   "navigate_menu": true,
   "number_sections": false,
   "sideBar": true,
   "threshold": 4,
   "toc_cell": true,
   "toc_section_display": "block",
   "toc_window_display": false,
   "widenNotebook": false
  }
 },
 "nbformat": 4,
 "nbformat_minor": 2
}
