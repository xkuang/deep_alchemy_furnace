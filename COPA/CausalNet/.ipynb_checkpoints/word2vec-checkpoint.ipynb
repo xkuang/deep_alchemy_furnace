{
 "cells": [
  {
   "cell_type": "markdown",
   "metadata": {
    "toc": "true"
   },
   "source": [
    "# Table of Contents\n",
    " <p><div class=\"lev1 toc-item\"><a href=\"#Checkpoint\" data-toc-modified-id=\"Checkpoint-1\"><span class=\"toc-item-num\">1&nbsp;&nbsp;</span>Checkpoint</a></div><div class=\"lev1 toc-item\"><a href=\"#Import-Libraries\" data-toc-modified-id=\"Import-Libraries-2\"><span class=\"toc-item-num\">2&nbsp;&nbsp;</span>Import Libraries</a></div><div class=\"lev1 toc-item\"><a href=\"#Set-Hyperparameters\" data-toc-modified-id=\"Set-Hyperparameters-3\"><span class=\"toc-item-num\">3&nbsp;&nbsp;</span>Set Hyperparameters</a></div><div class=\"lev1 toc-item\"><a href=\"#Build-Graph\" data-toc-modified-id=\"Build-Graph-4\"><span class=\"toc-item-num\">4&nbsp;&nbsp;</span>Build Graph</a></div><div class=\"lev1 toc-item\"><a href=\"#Model-Visualization\" data-toc-modified-id=\"Model-Visualization-5\"><span class=\"toc-item-num\">5&nbsp;&nbsp;</span>Model Visualization</a></div><div class=\"lev1 toc-item\"><a href=\"#Train\" data-toc-modified-id=\"Train-6\"><span class=\"toc-item-num\">6&nbsp;&nbsp;</span>Train</a></div>"
   ]
  },
  {
   "cell_type": "markdown",
   "metadata": {},
   "source": [
    "# Checkpoint"
   ]
  },
  {
   "cell_type": "code",
   "execution_count": 1,
   "metadata": {
    "collapsed": true
   },
   "outputs": [],
   "source": [
    "import h5py\n",
    "import pickle"
   ]
  },
  {
   "cell_type": "code",
   "execution_count": 2,
   "metadata": {
    "collapsed": true
   },
   "outputs": [],
   "source": [
    "with open('/Users/lizhn7/Downloads/EXPERIMENT/COPA/CausalNet/index.pkl', 'rb') as fp:\n",
    "    word2index, index2word = pickle.load(fp)"
   ]
  },
  {
   "cell_type": "code",
   "execution_count": 3,
   "metadata": {
    "collapsed": true
   },
   "outputs": [],
   "source": [
    "with h5py.File('/Users/lizhn7/Downloads/EXPERIMENT/COPA/CausalNet/word2vec/train.h5', 'r') as fh:\n",
    "    xTrain = fh['xTrain'][:]\n",
    "    yTrain = fh['yTrain'][:]"
   ]
  },
  {
   "cell_type": "markdown",
   "metadata": {},
   "source": [
    "# Import Libraries"
   ]
  },
  {
   "cell_type": "code",
   "execution_count": 8,
   "metadata": {},
   "outputs": [
    {
     "name": "stderr",
     "output_type": "stream",
     "text": [
      "Using TensorFlow backend.\n"
     ]
    }
   ],
   "source": [
    "from keras.layers import Input, Embedding, Dense, Flatten, BatchNormalization, Activation\n",
    "from keras.models import Model\n",
    "import keras.backend as K\n",
    "from keras.callbacks import*\n",
    "from tqdm import tqdm\n",
    "import numpy as np\n",
    "from IPython.display import SVG\n",
    "from keras.utils.vis_utils import model_to_dot\n",
    "import matplotlib.pyplot as plt\n",
    "%matplotlib inline\n",
    "%config InlineBackend.figure_format = 'retina'"
   ]
  },
  {
   "cell_type": "markdown",
   "metadata": {},
   "source": [
    "# Set Hyperparameters"
   ]
  },
  {
   "cell_type": "code",
   "execution_count": 66,
   "metadata": {
    "collapsed": true
   },
   "outputs": [],
   "source": [
    "VOCAB_SIZE = len(word2index)+1\n",
    "EMBEDDING_DIM = 256\n",
    "BATCH_SIZE = 1024\n",
    "NUM_EPOCHS = 256\n",
    "STEPS_PER_EPOCH = 2048"
   ]
  },
  {
   "cell_type": "markdown",
   "metadata": {},
   "source": [
    "# Build Graph"
   ]
  },
  {
   "cell_type": "code",
   "execution_count": 72,
   "metadata": {
    "collapsed": true
   },
   "outputs": [],
   "source": [
    "def build():\n",
    "    \"\"\"\n",
    "    Build embedding matrix\n",
    "    \"\"\"\n",
    "    K.clear_session()\n",
    "    seq = Input(shape=(None,), dtype='int64')\n",
    "    emb = Embedding(VOCAB_SIZE,\n",
    "                    EMBEDDING_DIM,\n",
    "                    mask_zero=False,\n",
    "                    trainable=True)(seq)\n",
    "    model = Model(inputs=seq, outputs=emb)\n",
    "    return model"
   ]
  },
  {
   "cell_type": "code",
   "execution_count": 73,
   "metadata": {
    "collapsed": true
   },
   "outputs": [],
   "source": [
    "K.clear_session()\n",
    "\n",
    "embedding = build()\n",
    "\n",
    "inputs = Input(shape=(1,), name='INPUT', dtype='int64')\n",
    "embSeq = embedding(inputs)\n",
    "embSeq = Flatten(name='FLATTEN')(embSeq)\n",
    "dense = Dense(VOCAB_SIZE, activation=None, name='DENSE')(embSeq)\n",
    "bn = BatchNormalization(name='BN')(dense)\n",
    "out = Activation('softmax', name='OUTPUT')(bn)\n",
    "model = Model(inputs=inputs, outputs=out)\n",
    "model.compile(loss='sparse_categorical_crossentropy', optimizer='adam')"
   ]
  },
  {
   "cell_type": "markdown",
   "metadata": {},
   "source": [
    "# Model Visualization"
   ]
  },
  {
   "cell_type": "code",
   "execution_count": 74,
   "metadata": {},
   "outputs": [
    {
     "name": "stdout",
     "output_type": "stream",
     "text": [
      "_________________________________________________________________\n",
      "Layer (type)                 Output Shape              Param #   \n",
      "=================================================================\n",
      "input_1 (InputLayer)         (None, None)              0         \n",
      "_________________________________________________________________\n",
      "embedding_1 (Embedding)      (None, None, 256)         715520    \n",
      "=================================================================\n",
      "Total params: 715,520\n",
      "Trainable params: 715,520\n",
      "Non-trainable params: 0\n",
      "_________________________________________________________________\n"
     ]
    },
    {
     "data": {
      "image/svg+xml": [
       "<svg height=\"118pt\" viewBox=\"0.00 0.00 172.14 118.00\" width=\"172pt\" xmlns=\"http://www.w3.org/2000/svg\" xmlns:xlink=\"http://www.w3.org/1999/xlink\">\n",
       "<g class=\"graph\" id=\"graph0\" transform=\"scale(1 1) rotate(0) translate(4 114)\">\n",
       "<title>G</title>\n",
       "<polygon fill=\"#ffffff\" points=\"-4,4 -4,-114 168.1416,-114 168.1416,4 -4,4\" stroke=\"transparent\"/>\n",
       "<!-- 115093075224 -->\n",
       "<g class=\"node\" id=\"node1\">\n",
       "<title>115093075224</title>\n",
       "<polygon fill=\"none\" points=\"17.8896,-73.5 17.8896,-109.5 146.252,-109.5 146.252,-73.5 17.8896,-73.5\" stroke=\"#000000\"/>\n",
       "<text fill=\"#000000\" font-family=\"Times,serif\" font-size=\"14.00\" text-anchor=\"middle\" x=\"82.0708\" y=\"-87.3\">input_1: InputLayer</text>\n",
       "</g>\n",
       "<!-- 115124744712 -->\n",
       "<g class=\"node\" id=\"node2\">\n",
       "<title>115124744712</title>\n",
       "<polygon fill=\"none\" points=\"0,-.5 0,-36.5 164.1416,-36.5 164.1416,-.5 0,-.5\" stroke=\"#000000\"/>\n",
       "<text fill=\"#000000\" font-family=\"Times,serif\" font-size=\"14.00\" text-anchor=\"middle\" x=\"82.0708\" y=\"-14.3\">embedding_1: Embedding</text>\n",
       "</g>\n",
       "<!-- 115093075224&#45;&gt;115124744712 -->\n",
       "<g class=\"edge\" id=\"edge1\">\n",
       "<title>115093075224-&gt;115124744712</title>\n",
       "<path d=\"M82.0708,-73.4551C82.0708,-65.3828 82.0708,-55.6764 82.0708,-46.6817\" fill=\"none\" stroke=\"#000000\"/>\n",
       "<polygon fill=\"#000000\" points=\"85.5709,-46.5903 82.0708,-36.5904 78.5709,-46.5904 85.5709,-46.5903\" stroke=\"#000000\"/>\n",
       "</g>\n",
       "</g>\n",
       "</svg>"
      ],
      "text/plain": [
       "<IPython.core.display.SVG object>"
      ]
     },
     "execution_count": 74,
     "metadata": {},
     "output_type": "execute_result"
    }
   ],
   "source": [
    "embedding.summary()\n",
    "SVG(model_to_dot(embedding).create(prog='dot', format='svg'))"
   ]
  },
  {
   "cell_type": "code",
   "execution_count": 75,
   "metadata": {
    "scrolled": false
   },
   "outputs": [
    {
     "name": "stdout",
     "output_type": "stream",
     "text": [
      "_________________________________________________________________\n",
      "Layer (type)                 Output Shape              Param #   \n",
      "=================================================================\n",
      "INPUT (InputLayer)           (None, 1)                 0         \n",
      "_________________________________________________________________\n",
      "model_1 (Model)              multiple                  715520    \n",
      "_________________________________________________________________\n",
      "FLATTEN (Flatten)            (None, 256)               0         \n",
      "_________________________________________________________________\n",
      "DENSE (Dense)                (None, 2795)              718315    \n",
      "_________________________________________________________________\n",
      "BN (BatchNormalization)      (None, 2795)              11180     \n",
      "_________________________________________________________________\n",
      "OUTPUT (Activation)          (None, 2795)              0         \n",
      "=================================================================\n",
      "Total params: 1,445,015\n",
      "Trainable params: 1,439,425\n",
      "Non-trainable params: 5,590\n",
      "_________________________________________________________________\n"
     ]
    },
    {
     "data": {
      "image/svg+xml": [
       "<svg height=\"410pt\" viewBox=\"0.00 0.00 164.36 410.00\" width=\"164pt\" xmlns=\"http://www.w3.org/2000/svg\" xmlns:xlink=\"http://www.w3.org/1999/xlink\">\n",
       "<g class=\"graph\" id=\"graph0\" transform=\"scale(1 1) rotate(0) translate(4 406)\">\n",
       "<title>G</title>\n",
       "<polygon fill=\"#ffffff\" points=\"-4,4 -4,-406 160.3555,-406 160.3555,4 -4,4\" stroke=\"transparent\"/>\n",
       "<!-- 115093140088 -->\n",
       "<g class=\"node\" id=\"node1\">\n",
       "<title>115093140088</title>\n",
       "<polygon fill=\"none\" points=\"15.1245,-365.5 15.1245,-401.5 141.231,-401.5 141.231,-365.5 15.1245,-365.5\" stroke=\"#000000\"/>\n",
       "<text fill=\"#000000\" font-family=\"Times,serif\" font-size=\"14.00\" text-anchor=\"middle\" x=\"78.1777\" y=\"-379.3\">INPUT: InputLayer</text>\n",
       "</g>\n",
       "<!-- 115090461248 -->\n",
       "<g class=\"node\" id=\"node2\">\n",
       "<title>115090461248</title>\n",
       "<polygon fill=\"none\" points=\"23.7104,-292.5 23.7104,-328.5 132.645,-328.5 132.645,-292.5 23.7104,-292.5\" stroke=\"#000000\"/>\n",
       "<text fill=\"#000000\" font-family=\"Times,serif\" font-size=\"14.00\" text-anchor=\"middle\" x=\"78.1777\" y=\"-306.3\">model_1: Model</text>\n",
       "</g>\n",
       "<!-- 115093140088&#45;&gt;115090461248 -->\n",
       "<g class=\"edge\" id=\"edge1\">\n",
       "<title>115093140088-&gt;115090461248</title>\n",
       "<path d=\"M78.1777,-365.4551C78.1777,-357.3828 78.1777,-347.6764 78.1777,-338.6817\" fill=\"none\" stroke=\"#000000\"/>\n",
       "<polygon fill=\"#000000\" points=\"81.6778,-338.5903 78.1777,-328.5904 74.6778,-338.5904 81.6778,-338.5903\" stroke=\"#000000\"/>\n",
       "</g>\n",
       "<!-- 115093767000 -->\n",
       "<g class=\"node\" id=\"node3\">\n",
       "<title>115093767000</title>\n",
       "<polygon fill=\"none\" points=\"16.7104,-219.5 16.7104,-255.5 139.645,-255.5 139.645,-219.5 16.7104,-219.5\" stroke=\"#000000\"/>\n",
       "<text fill=\"#000000\" font-family=\"Times,serif\" font-size=\"14.00\" text-anchor=\"middle\" x=\"78.1777\" y=\"-233.3\">FLATTEN: Flatten</text>\n",
       "</g>\n",
       "<!-- 115090461248&#45;&gt;115093767000 -->\n",
       "<g class=\"edge\" id=\"edge2\">\n",
       "<title>115090461248-&gt;115093767000</title>\n",
       "<path d=\"M78.1777,-292.4551C78.1777,-284.3828 78.1777,-274.6764 78.1777,-265.6817\" fill=\"none\" stroke=\"#000000\"/>\n",
       "<polygon fill=\"#000000\" points=\"81.6778,-265.5903 78.1777,-255.5904 74.6778,-265.5904 81.6778,-265.5903\" stroke=\"#000000\"/>\n",
       "</g>\n",
       "<!-- 115093140424 -->\n",
       "<g class=\"node\" id=\"node4\">\n",
       "<title>115093140424</title>\n",
       "<polygon fill=\"none\" points=\"26.4346,-146.5 26.4346,-182.5 129.9209,-182.5 129.9209,-146.5 26.4346,-146.5\" stroke=\"#000000\"/>\n",
       "<text fill=\"#000000\" font-family=\"Times,serif\" font-size=\"14.00\" text-anchor=\"middle\" x=\"78.1777\" y=\"-160.3\">DENSE: Dense</text>\n",
       "</g>\n",
       "<!-- 115093767000&#45;&gt;115093140424 -->\n",
       "<g class=\"edge\" id=\"edge3\">\n",
       "<title>115093767000-&gt;115093140424</title>\n",
       "<path d=\"M78.1777,-219.4551C78.1777,-211.3828 78.1777,-201.6764 78.1777,-192.6817\" fill=\"none\" stroke=\"#000000\"/>\n",
       "<polygon fill=\"#000000\" points=\"81.6778,-192.5903 78.1777,-182.5904 74.6778,-192.5904 81.6778,-192.5903\" stroke=\"#000000\"/>\n",
       "</g>\n",
       "<!-- 115093829952 -->\n",
       "<g class=\"node\" id=\"node5\">\n",
       "<title>115093829952</title>\n",
       "<polygon fill=\"none\" points=\"0,-73.5 0,-109.5 156.3555,-109.5 156.3555,-73.5 0,-73.5\" stroke=\"#000000\"/>\n",
       "<text fill=\"#000000\" font-family=\"Times,serif\" font-size=\"14.00\" text-anchor=\"middle\" x=\"78.1777\" y=\"-87.3\">BN: BatchNormalization</text>\n",
       "</g>\n",
       "<!-- 115093140424&#45;&gt;115093829952 -->\n",
       "<g class=\"edge\" id=\"edge4\">\n",
       "<title>115093140424-&gt;115093829952</title>\n",
       "<path d=\"M78.1777,-146.4551C78.1777,-138.3828 78.1777,-128.6764 78.1777,-119.6817\" fill=\"none\" stroke=\"#000000\"/>\n",
       "<polygon fill=\"#000000\" points=\"81.6778,-119.5903 78.1777,-109.5904 74.6778,-119.5904 81.6778,-119.5903\" stroke=\"#000000\"/>\n",
       "</g>\n",
       "<!-- 115093830288 -->\n",
       "<g class=\"node\" id=\"node6\">\n",
       "<title>115093830288</title>\n",
       "<polygon fill=\"none\" points=\"10.0557,-.5 10.0557,-36.5 146.2998,-36.5 146.2998,-.5 10.0557,-.5\" stroke=\"#000000\"/>\n",
       "<text fill=\"#000000\" font-family=\"Times,serif\" font-size=\"14.00\" text-anchor=\"middle\" x=\"78.1777\" y=\"-14.3\">OUTPUT: Activation</text>\n",
       "</g>\n",
       "<!-- 115093829952&#45;&gt;115093830288 -->\n",
       "<g class=\"edge\" id=\"edge5\">\n",
       "<title>115093829952-&gt;115093830288</title>\n",
       "<path d=\"M78.1777,-73.4551C78.1777,-65.3828 78.1777,-55.6764 78.1777,-46.6817\" fill=\"none\" stroke=\"#000000\"/>\n",
       "<polygon fill=\"#000000\" points=\"81.6778,-46.5903 78.1777,-36.5904 74.6778,-46.5904 81.6778,-46.5903\" stroke=\"#000000\"/>\n",
       "</g>\n",
       "</g>\n",
       "</svg>"
      ],
      "text/plain": [
       "<IPython.core.display.SVG object>"
      ]
     },
     "execution_count": 75,
     "metadata": {},
     "output_type": "execute_result"
    }
   ],
   "source": [
    "model.summary()\n",
    "SVG(model_to_dot(model).create(prog='dot', format='svg'))"
   ]
  },
  {
   "cell_type": "markdown",
   "metadata": {},
   "source": [
    "# Train"
   ]
  },
  {
   "cell_type": "code",
   "execution_count": 76,
   "metadata": {
    "collapsed": true
   },
   "outputs": [],
   "source": [
    "filepath = '/Users/lizhn7/Downloads/EXPERIMENT/COPA/CausalNet/word2vec/cp_logs/weights.{epoch:03d}-{loss:.6f}.hdf5'\n",
    "checkpoint = ModelCheckpoint(filepath, monitor='loss', verbose=1, save_best_only=True, mode='min')\n",
    "log_string = '/Users/lizhn7/Downloads/EXPERIMENT/COPA/CausalNet/word2vec/tb_logs/1'\n",
    "tensorboard = TensorBoard(log_dir=log_string)\n",
    "callbacks_list = [checkpoint, tensorboard]"
   ]
  },
  {
   "cell_type": "code",
   "execution_count": 77,
   "metadata": {
    "collapsed": true
   },
   "outputs": [],
   "source": [
    "def data_generator(data, label, batch_size):\n",
    "    \"\"\"\n",
    "    Yield batches of all data\n",
    "    \"\"\"\n",
    "    count = 0\n",
    "    while True:\n",
    "        if count >= len(data): \n",
    "            count = 0\n",
    "        x = np.zeros((batch_size, 1))\n",
    "        y = np.zeros((batch_size, 1))\n",
    "        for i in range(batch_size):\n",
    "            n = i + count\n",
    "            if n > len(data)-1:\n",
    "                break\n",
    "            x[i, :] = data[n]\n",
    "            y[i, :] = label[n]\n",
    "        count += batch_size\n",
    "        yield (x, y)"
   ]
  },
  {
   "cell_type": "code",
   "execution_count": 78,
   "metadata": {
    "collapsed": true
   },
   "outputs": [],
   "source": [
    "gen_train = data_generator(xTrain, yTrain, BATCH_SIZE)"
   ]
  },
  {
   "cell_type": "code",
   "execution_count": null,
   "metadata": {
    "collapsed": true
   },
   "outputs": [],
   "source": [
    "history = model.fit_generator(gen_train,\n",
    "                              steps_per_epoch=STEPS_PER_EPOCH,\n",
    "                              epochs=NUM_EPOCHS,\n",
    "                              callbacks=callbacks_list,\n",
    "                              workers=4,\n",
    "                              use_multiprocessing=True)"
   ]
  }
 ],
 "metadata": {
  "kernelspec": {
   "display_name": "Python 3",
   "language": "python",
   "name": "python3"
  },
  "language_info": {
   "codemirror_mode": {
    "name": "ipython",
    "version": 3
   },
   "file_extension": ".py",
   "mimetype": "text/x-python",
   "name": "python",
   "nbconvert_exporter": "python",
   "pygments_lexer": "ipython3",
   "version": "3.6.2"
  },
  "toc": {
   "colors": {
    "hover_highlight": "#DAA520",
    "navigate_num": "#000000",
    "navigate_text": "#333333",
    "running_highlight": "#FF0000",
    "selected_highlight": "#FFD700",
    "sidebar_border": "#EEEEEE",
    "wrapper_background": "#FFFFFF"
   },
   "moveMenuLeft": true,
   "nav_menu": {
    "height": "12px",
    "width": "252px"
   },
   "navigate_menu": true,
   "number_sections": false,
   "sideBar": true,
   "threshold": 4,
   "toc_cell": true,
   "toc_section_display": "block",
   "toc_window_display": false,
   "widenNotebook": false
  }
 },
 "nbformat": 4,
 "nbformat_minor": 2
}
