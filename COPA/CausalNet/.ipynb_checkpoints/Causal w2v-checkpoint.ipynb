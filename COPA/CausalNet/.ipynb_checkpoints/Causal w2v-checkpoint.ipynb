{
 "cells": [
  {
   "cell_type": "markdown",
   "metadata": {
    "toc": "true"
   },
   "source": [
    "# Table of Contents\n",
    " <p><div class=\"lev1 toc-item\"><a href=\"#Checkpoint\" data-toc-modified-id=\"Checkpoint-1\"><span class=\"toc-item-num\">1&nbsp;&nbsp;</span>Checkpoint</a></div><div class=\"lev1 toc-item\"><a href=\"#Import-Libraries\" data-toc-modified-id=\"Import-Libraries-2\"><span class=\"toc-item-num\">2&nbsp;&nbsp;</span>Import Libraries</a></div><div class=\"lev1 toc-item\"><a href=\"#Set-Hyperparameters\" data-toc-modified-id=\"Set-Hyperparameters-3\"><span class=\"toc-item-num\">3&nbsp;&nbsp;</span>Set Hyperparameters</a></div><div class=\"lev1 toc-item\"><a href=\"#Build-Graph\" data-toc-modified-id=\"Build-Graph-4\"><span class=\"toc-item-num\">4&nbsp;&nbsp;</span>Build Graph</a></div><div class=\"lev1 toc-item\"><a href=\"#Model-Visualization\" data-toc-modified-id=\"Model-Visualization-5\"><span class=\"toc-item-num\">5&nbsp;&nbsp;</span>Model Visualization</a></div><div class=\"lev1 toc-item\"><a href=\"#Train\" data-toc-modified-id=\"Train-6\"><span class=\"toc-item-num\">6&nbsp;&nbsp;</span>Train</a></div>"
   ]
  },
  {
   "cell_type": "markdown",
   "metadata": {},
   "source": [
    "# Checkpoint"
   ]
  },
  {
   "cell_type": "code",
   "execution_count": 1,
   "metadata": {
    "collapsed": true
   },
   "outputs": [],
   "source": [
    "import h5py\n",
    "import pickle"
   ]
  },
  {
   "cell_type": "code",
   "execution_count": 2,
   "metadata": {
    "collapsed": true
   },
   "outputs": [],
   "source": [
    "with open('/Users/lizhn7/Downloads/EXPERIMENT/COPA/CausalNet/index.pkl', 'rb') as fp:\n",
    "    word2index, index2word = pickle.load(fp)\n",
    "    \n",
    "with h5py.File('/Users/lizhn7/Downloads/EXPERIMENT/COPA/CausalNet/embedding.h5', 'r') as fh:\n",
    "    embedding = fh['embedding'][:]"
   ]
  },
  {
   "cell_type": "code",
   "execution_count": 4,
   "metadata": {},
   "outputs": [],
   "source": [
    "with h5py.File('/Users/lizhn7/Downloads/EXPERIMENT/COPA/CausalNet/Causal w2v/train.h5', 'r') as fh:\n",
    "    xpTrain = fh['xTrain'][:]\n",
    "    xpVal = fh['xVal'][:]\n",
    "    yTrain = fh['yTrain'][:]\n",
    "    yVal = fh['yVal'][:]"
   ]
  },
  {
   "cell_type": "markdown",
   "metadata": {},
   "source": [
    "# Import Libraries"
   ]
  },
  {
   "cell_type": "code",
   "execution_count": 6,
   "metadata": {},
   "outputs": [
    {
     "name": "stderr",
     "output_type": "stream",
     "text": [
      "Using TensorFlow backend.\n"
     ]
    }
   ],
   "source": [
    "from keras.layers import Input, Embedding, Dense, Dropout, Flatten, BatchNormalization, Activation\n",
    "from keras.models import Model\n",
    "import keras.backend as K\n",
    "from keras.callbacks import*\n",
    "from tqdm import tqdm\n",
    "import numpy as np\n",
    "from IPython.display import SVG\n",
    "from keras.utils.vis_utils import model_to_dot\n",
    "import matplotlib.pyplot as plt\n",
    "%matplotlib inline\n",
    "%config InlineBackend.figure_format = 'retina'"
   ]
  },
  {
   "cell_type": "markdown",
   "metadata": {},
   "source": [
    "# Set Hyperparameters"
   ]
  },
  {
   "cell_type": "code",
   "execution_count": 7,
   "metadata": {
    "collapsed": true
   },
   "outputs": [],
   "source": [
    "VOCAB_SIZE = 1845\n",
    "EMBEDDING_DIM = 300\n",
    "BATCH_SIZE = 50\n",
    "NUM_EPOCHS = 32\n",
    "DROPOUT_RATE = 0.2"
   ]
  },
  {
   "cell_type": "markdown",
   "metadata": {},
   "source": [
    "# Build Graph"
   ]
  },
  {
   "cell_type": "code",
   "execution_count": 8,
   "metadata": {
    "collapsed": true
   },
   "outputs": [],
   "source": [
    "def build():\n",
    "    \"\"\"\n",
    "    Build model\n",
    "    \"\"\"\n",
    "    K.clear_session()\n",
    "    seq = Input(shape=(1,), name='INPUT')\n",
    "    emb = Embedding(VOCAB_SIZE,\n",
    "                    EMBEDDING_DIM,\n",
    "                    weights=[embedding],\n",
    "                    mask_zero=False,\n",
    "                    input_length=1,\n",
    "                    trainable=True,\n",
    "                    name='EMBEDDING')(seq)\n",
    "    emb = Dropout(DROPOUT_RATE, name='DROPOUT_1')(emb)\n",
    "    emb = Flatten(name='FLATTEN')(emb)\n",
    "    dense = Dense(VOCAB_SIZE, activation=None, name='DENSE')(emb)\n",
    "    bn = BatchNormalization(name='BN')(dense)\n",
    "    out = Activation('softmax', name='OUTPUT')(bn)\n",
    "    model = Model(inputs=seq, outputs=out)\n",
    "    model.compile(loss='sparse_categorical_crossentropy', optimizer='adam')\n",
    "    return model"
   ]
  },
  {
   "cell_type": "markdown",
   "metadata": {},
   "source": [
    "# Model Visualization"
   ]
  },
  {
   "cell_type": "code",
   "execution_count": 9,
   "metadata": {
    "scrolled": false
   },
   "outputs": [
    {
     "name": "stdout",
     "output_type": "stream",
     "text": [
      "_________________________________________________________________\n",
      "Layer (type)                 Output Shape              Param #   \n",
      "=================================================================\n",
      "INPUT (InputLayer)           (None, 1)                 0         \n",
      "_________________________________________________________________\n",
      "EMBEDDING (Embedding)        (None, 1, 300)            553500    \n",
      "_________________________________________________________________\n",
      "DROPOUT_1 (Dropout)          (None, 1, 300)            0         \n",
      "_________________________________________________________________\n",
      "FLATTEN (Flatten)            (None, 300)               0         \n",
      "_________________________________________________________________\n",
      "DENSE (Dense)                (None, 1845)              555345    \n",
      "_________________________________________________________________\n",
      "BN (BatchNormalization)      (None, 1845)              7380      \n",
      "_________________________________________________________________\n",
      "OUTPUT (Activation)          (None, 1845)              0         \n",
      "=================================================================\n",
      "Total params: 1,116,225\n",
      "Trainable params: 1,112,535\n",
      "Non-trainable params: 3,690\n",
      "_________________________________________________________________\n"
     ]
    },
    {
     "data": {
      "image/svg+xml": [
       "<svg height=\"483pt\" viewBox=\"0.00 0.00 179.93 483.00\" width=\"180pt\" xmlns=\"http://www.w3.org/2000/svg\" xmlns:xlink=\"http://www.w3.org/1999/xlink\">\n",
       "<g class=\"graph\" id=\"graph0\" transform=\"scale(1 1) rotate(0) translate(4 479)\">\n",
       "<title>G</title>\n",
       "<polygon fill=\"#ffffff\" points=\"-4,4 -4,-479 175.9277,-479 175.9277,4 -4,4\" stroke=\"transparent\"/>\n",
       "<!-- 4590548808 -->\n",
       "<g class=\"node\" id=\"node1\">\n",
       "<title>4590548808</title>\n",
       "<polygon fill=\"none\" points=\"22.9106,-438.5 22.9106,-474.5 149.0171,-474.5 149.0171,-438.5 22.9106,-438.5\" stroke=\"#000000\"/>\n",
       "<text fill=\"#000000\" font-family=\"Times,serif\" font-size=\"14.00\" text-anchor=\"middle\" x=\"85.9639\" y=\"-452.3\">INPUT: InputLayer</text>\n",
       "</g>\n",
       "<!-- 4559991360 -->\n",
       "<g class=\"node\" id=\"node2\">\n",
       "<title>4559991360</title>\n",
       "<polygon fill=\"none\" points=\"0,-365.5 0,-401.5 171.9277,-401.5 171.9277,-365.5 0,-365.5\" stroke=\"#000000\"/>\n",
       "<text fill=\"#000000\" font-family=\"Times,serif\" font-size=\"14.00\" text-anchor=\"middle\" x=\"85.9639\" y=\"-379.3\">EMBEDDING: Embedding</text>\n",
       "</g>\n",
       "<!-- 4590548808&#45;&gt;4559991360 -->\n",
       "<g class=\"edge\" id=\"edge1\">\n",
       "<title>4590548808-&gt;4559991360</title>\n",
       "<path d=\"M85.9639,-438.4551C85.9639,-430.3828 85.9639,-420.6764 85.9639,-411.6817\" fill=\"none\" stroke=\"#000000\"/>\n",
       "<polygon fill=\"#000000\" points=\"89.464,-411.5903 85.9639,-401.5904 82.464,-411.5904 89.464,-411.5903\" stroke=\"#000000\"/>\n",
       "</g>\n",
       "<!-- 116085018408 -->\n",
       "<g class=\"node\" id=\"node3\">\n",
       "<title>116085018408</title>\n",
       "<polygon fill=\"none\" points=\"10.8794,-292.5 10.8794,-328.5 161.0483,-328.5 161.0483,-292.5 10.8794,-292.5\" stroke=\"#000000\"/>\n",
       "<text fill=\"#000000\" font-family=\"Times,serif\" font-size=\"14.00\" text-anchor=\"middle\" x=\"85.9639\" y=\"-306.3\">DROPOUT_1: Dropout</text>\n",
       "</g>\n",
       "<!-- 4559991360&#45;&gt;116085018408 -->\n",
       "<g class=\"edge\" id=\"edge2\">\n",
       "<title>4559991360-&gt;116085018408</title>\n",
       "<path d=\"M85.9639,-365.4551C85.9639,-357.3828 85.9639,-347.6764 85.9639,-338.6817\" fill=\"none\" stroke=\"#000000\"/>\n",
       "<polygon fill=\"#000000\" points=\"89.464,-338.5903 85.9639,-328.5904 82.464,-338.5904 89.464,-338.5903\" stroke=\"#000000\"/>\n",
       "</g>\n",
       "<!-- 116087643832 -->\n",
       "<g class=\"node\" id=\"node4\">\n",
       "<title>116087643832</title>\n",
       "<polygon fill=\"none\" points=\"24.4966,-219.5 24.4966,-255.5 147.4312,-255.5 147.4312,-219.5 24.4966,-219.5\" stroke=\"#000000\"/>\n",
       "<text fill=\"#000000\" font-family=\"Times,serif\" font-size=\"14.00\" text-anchor=\"middle\" x=\"85.9639\" y=\"-233.3\">FLATTEN: Flatten</text>\n",
       "</g>\n",
       "<!-- 116085018408&#45;&gt;116087643832 -->\n",
       "<g class=\"edge\" id=\"edge3\">\n",
       "<title>116085018408-&gt;116087643832</title>\n",
       "<path d=\"M85.9639,-292.4551C85.9639,-284.3828 85.9639,-274.6764 85.9639,-265.6817\" fill=\"none\" stroke=\"#000000\"/>\n",
       "<polygon fill=\"#000000\" points=\"89.464,-265.5903 85.9639,-255.5904 82.464,-265.5904 89.464,-265.5903\" stroke=\"#000000\"/>\n",
       "</g>\n",
       "<!-- 116087641872 -->\n",
       "<g class=\"node\" id=\"node5\">\n",
       "<title>116087641872</title>\n",
       "<polygon fill=\"none\" points=\"34.2207,-146.5 34.2207,-182.5 137.707,-182.5 137.707,-146.5 34.2207,-146.5\" stroke=\"#000000\"/>\n",
       "<text fill=\"#000000\" font-family=\"Times,serif\" font-size=\"14.00\" text-anchor=\"middle\" x=\"85.9639\" y=\"-160.3\">DENSE: Dense</text>\n",
       "</g>\n",
       "<!-- 116087643832&#45;&gt;116087641872 -->\n",
       "<g class=\"edge\" id=\"edge4\">\n",
       "<title>116087643832-&gt;116087641872</title>\n",
       "<path d=\"M85.9639,-219.4551C85.9639,-211.3828 85.9639,-201.6764 85.9639,-192.6817\" fill=\"none\" stroke=\"#000000\"/>\n",
       "<polygon fill=\"#000000\" points=\"89.464,-192.5903 85.9639,-182.5904 82.464,-192.5904 89.464,-192.5903\" stroke=\"#000000\"/>\n",
       "</g>\n",
       "<!-- 116092897432 -->\n",
       "<g class=\"node\" id=\"node6\">\n",
       "<title>116092897432</title>\n",
       "<polygon fill=\"none\" points=\"7.7861,-73.5 7.7861,-109.5 164.1416,-109.5 164.1416,-73.5 7.7861,-73.5\" stroke=\"#000000\"/>\n",
       "<text fill=\"#000000\" font-family=\"Times,serif\" font-size=\"14.00\" text-anchor=\"middle\" x=\"85.9639\" y=\"-87.3\">BN: BatchNormalization</text>\n",
       "</g>\n",
       "<!-- 116087641872&#45;&gt;116092897432 -->\n",
       "<g class=\"edge\" id=\"edge5\">\n",
       "<title>116087641872-&gt;116092897432</title>\n",
       "<path d=\"M85.9639,-146.4551C85.9639,-138.3828 85.9639,-128.6764 85.9639,-119.6817\" fill=\"none\" stroke=\"#000000\"/>\n",
       "<polygon fill=\"#000000\" points=\"89.464,-119.5903 85.9639,-109.5904 82.464,-119.5904 89.464,-119.5903\" stroke=\"#000000\"/>\n",
       "</g>\n",
       "<!-- 116092898776 -->\n",
       "<g class=\"node\" id=\"node7\">\n",
       "<title>116092898776</title>\n",
       "<polygon fill=\"none\" points=\"17.8418,-.5 17.8418,-36.5 154.0859,-36.5 154.0859,-.5 17.8418,-.5\" stroke=\"#000000\"/>\n",
       "<text fill=\"#000000\" font-family=\"Times,serif\" font-size=\"14.00\" text-anchor=\"middle\" x=\"85.9639\" y=\"-14.3\">OUTPUT: Activation</text>\n",
       "</g>\n",
       "<!-- 116092897432&#45;&gt;116092898776 -->\n",
       "<g class=\"edge\" id=\"edge6\">\n",
       "<title>116092897432-&gt;116092898776</title>\n",
       "<path d=\"M85.9639,-73.4551C85.9639,-65.3828 85.9639,-55.6764 85.9639,-46.6817\" fill=\"none\" stroke=\"#000000\"/>\n",
       "<polygon fill=\"#000000\" points=\"89.464,-46.5903 85.9639,-36.5904 82.464,-46.5904 89.464,-46.5903\" stroke=\"#000000\"/>\n",
       "</g>\n",
       "</g>\n",
       "</svg>"
      ],
      "text/plain": [
       "<IPython.core.display.SVG object>"
      ]
     },
     "execution_count": 9,
     "metadata": {},
     "output_type": "execute_result"
    }
   ],
   "source": [
    "model = build()\n",
    "model.summary()\n",
    "SVG(model_to_dot(model).create(prog='dot', format='svg'))"
   ]
  },
  {
   "cell_type": "markdown",
   "metadata": {},
   "source": [
    "# Train"
   ]
  },
  {
   "cell_type": "code",
   "execution_count": null,
   "metadata": {
    "collapsed": true
   },
   "outputs": [],
   "source": [
    "filepath = '/Users/lizhn7/Downloads/EXPERIMENT/COPA/CausalNet/Causal w2v/cp_logs/weights.{epoch:03d}-{loss:.6f}.hdf5'\n",
    "checkpoint = ModelCheckpoint(filepath, monitor='loss', verbose=1, save_best_only=True, mode='min')\n",
    "log_string = '/Users/lizhn7/Downloads/EXPERIMENT/COPA/CausalNet/Causal w2v/tb_logs/1'\n",
    "tensorboard = TensorBoard(log_dir=log_string)\n",
    "callbacks_list = [checkpoint, tensorboard]"
   ]
  },
  {
   "cell_type": "code",
   "execution_count": null,
   "metadata": {
    "collapsed": true
   },
   "outputs": [],
   "source": [
    "def data_generator(data, label, batch_size): \n",
    "    \"\"\"\n",
    "    Yield batches \n",
    "    \"\"\"\n",
    "    index = np.arange(len(data))\n",
    "    np.random.shuffle(index)    \n",
    "    batches = [index[range(batch_size*i, min(len(data), batch_size*(i+1)))] for i in range(len(data)//batch_size)]\n",
    "    while True:\n",
    "        for i in batches:\n",
    "            x = data[i]\n",
    "            y = label[i]\n",
    "            yield (x, y)"
   ]
  },
  {
   "cell_type": "code",
   "execution_count": null,
   "metadata": {
    "collapsed": true
   },
   "outputs": [],
   "source": [
    "gen_train = data_generator(xTrain[:2048], yTrain[:2048], BATCH_SIZE)\n",
    "gen_val = data_generator(xVal[:2048], yVal[:2048], BATCH_SIZE)"
   ]
  },
  {
   "cell_type": "code",
   "execution_count": null,
   "metadata": {
    "collapsed": true
   },
   "outputs": [],
   "source": [
    "history = model.fit_generator(gen_train,\n",
    "                              steps_per_epoch=3,\n",
    "                              epochs=NUM_EPOCHS,\n",
    "                              validation_data=gen_val,\n",
    "                              callbacks=callbacks_list,\n",
    "                              workers=4,\n",
    "                              use_multiprocessing=True)"
   ]
  }
 ],
 "metadata": {
  "kernelspec": {
   "display_name": "Python 3",
   "language": "python",
   "name": "python3"
  },
  "language_info": {
   "codemirror_mode": {
    "name": "ipython",
    "version": 3
   },
   "file_extension": ".py",
   "mimetype": "text/x-python",
   "name": "python",
   "nbconvert_exporter": "python",
   "pygments_lexer": "ipython3",
   "version": "3.6.2"
  },
  "toc": {
   "colors": {
    "hover_highlight": "#DAA520",
    "navigate_num": "#000000",
    "navigate_text": "#333333",
    "running_highlight": "#FF0000",
    "selected_highlight": "#FFD700",
    "sidebar_border": "#EEEEEE",
    "wrapper_background": "#FFFFFF"
   },
   "moveMenuLeft": true,
   "nav_menu": {
    "height": "12px",
    "width": "252px"
   },
   "navigate_menu": true,
   "number_sections": false,
   "sideBar": true,
   "threshold": 4,
   "toc_cell": true,
   "toc_section_display": "block",
   "toc_window_display": false,
   "widenNotebook": false
  }
 },
 "nbformat": 4,
 "nbformat_minor": 2
}
