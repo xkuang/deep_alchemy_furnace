{
 "cells": [
  {
   "cell_type": "markdown",
   "metadata": {
    "toc": "true"
   },
   "source": [
    "# Table of Contents\n",
    " <p><div class=\"lev1 toc-item\"><a href=\"#Load-Data\" data-toc-modified-id=\"Load-Data-1\"><span class=\"toc-item-num\">1&nbsp;&nbsp;</span>Load Data</a></div><div class=\"lev1 toc-item\"><a href=\"#Word-Segmentation\" data-toc-modified-id=\"Word-Segmentation-2\"><span class=\"toc-item-num\">2&nbsp;&nbsp;</span>Word Segmentation</a></div><div class=\"lev1 toc-item\"><a href=\"#Tokenize-Text\" data-toc-modified-id=\"Tokenize-Text-3\"><span class=\"toc-item-num\">3&nbsp;&nbsp;</span>Tokenize Text</a></div><div class=\"lev1 toc-item\"><a href=\"#Load-Model\" data-toc-modified-id=\"Load-Model-4\"><span class=\"toc-item-num\">4&nbsp;&nbsp;</span>Load Model</a></div><div class=\"lev2 toc-item\"><a href=\"#Set-Hyperparameters\" data-toc-modified-id=\"Set-Hyperparameters-41\"><span class=\"toc-item-num\">4.1&nbsp;&nbsp;</span>Set Hyperparameters</a></div><div class=\"lev2 toc-item\"><a href=\"#Import-Libraries\" data-toc-modified-id=\"Import-Libraries-42\"><span class=\"toc-item-num\">4.2&nbsp;&nbsp;</span>Import Libraries</a></div><div class=\"lev2 toc-item\"><a href=\"#Build-Graph\" data-toc-modified-id=\"Build-Graph-43\"><span class=\"toc-item-num\">4.3&nbsp;&nbsp;</span>Build Graph</a></div><div class=\"lev2 toc-item\"><a href=\"#Load-Weights\" data-toc-modified-id=\"Load-Weights-44\"><span class=\"toc-item-num\">4.4&nbsp;&nbsp;</span>Load Weights</a></div>"
   ]
  },
  {
   "cell_type": "markdown",
   "metadata": {},
   "source": [
    "# Load Data"
   ]
  },
  {
   "cell_type": "code",
   "execution_count": 3,
   "metadata": {
    "collapsed": true
   },
   "outputs": [],
   "source": [
    "import json\n",
    "import os"
   ]
  },
  {
   "cell_type": "code",
   "execution_count": 4,
   "metadata": {
    "collapsed": true
   },
   "outputs": [],
   "source": [
    "def load_data(path, name):\n",
    "    \"\"\"\n",
    "    Load date from file\n",
    "    \"\"\"\n",
    "    data = []\n",
    "    input_file = os.path.join(path)\n",
    "    with open(input_file) as f:\n",
    "        lines = f.readlines()\n",
    "    for line in lines:\n",
    "        item = json.loads(line)\n",
    "        data.append(item[name])\n",
    "    return data\n",
    "\n",
    "def add_token(s):\n",
    "    \"\"\"\n",
    "    Add end token\n",
    "    \"\"\"\n",
    "    s = s.split()\n",
    "    n = []\n",
    "    for i in s:\n",
    "        if i.endswith('.') or i.endswith('!') or i.endswith('?'):\n",
    "            i += 'endtok'\n",
    "        n.append(i)\n",
    "    return ' '.join(n)"
   ]
  },
  {
   "cell_type": "code",
   "execution_count": 6,
   "metadata": {
    "collapsed": true
   },
   "outputs": [],
   "source": [
    "devSent1 = load_data('/Users/lizhn7/Downloads/EXPERIMENT/COPA/LM/data/copa-dev.json', 'whole-sentence1')\n",
    "devSent1 = [add_token(c) for c in devSent1]\n",
    "devSent2 = load_data('/Users/lizhn7/Downloads/EXPERIMENT/COPA/LM/data/copa-dev.json', 'whole-sentence2')\n",
    "devSent2 = [add_token(c) for c in devSent2]"
   ]
  },
  {
   "cell_type": "code",
   "execution_count": 162,
   "metadata": {
    "collapsed": true
   },
   "outputs": [],
   "source": [
    "label = load_data('/Users/lizhn7/Downloads/EXPERIMENT/COPA/LM/data/copa-dev.json', 'most-plausible-alternative')\n",
    "label = [int(l) for l in label]"
   ]
  },
  {
   "cell_type": "markdown",
   "metadata": {},
   "source": [
    "# Word Segmentation"
   ]
  },
  {
   "cell_type": "code",
   "execution_count": 10,
   "metadata": {
    "collapsed": true
   },
   "outputs": [],
   "source": [
    "from nltk import regexp_tokenize\n",
    "from nltk import WordNetLemmatizer\n",
    "import numpy as np\n",
    "from tqdm import tqdm"
   ]
  },
  {
   "cell_type": "code",
   "execution_count": 58,
   "metadata": {
    "collapsed": true
   },
   "outputs": [],
   "source": [
    "replDict = {'tattled': 'tattle', 'shirtsleeve': 'shirtsleeves', 'pruny': 'prune', \n",
    "            'dry-cleaned': 'dry-clean', 'illegibly': 'illegible', 'unlaced': 'untie'}"
   ]
  },
  {
   "cell_type": "code",
   "execution_count": 59,
   "metadata": {
    "collapsed": true
   },
   "outputs": [],
   "source": [
    "def cut(s):\n",
    "    \"\"\"\n",
    "    Word segmentation\n",
    "    \"\"\"\n",
    "    pattern = r'''\n",
    "              (?x)                   # set flag to allow verbose regexps \n",
    "              (?:[A-Z]\\.)+           # abbreviations, e.g. U.S.A. \n",
    "              |\\w+(?:[-&']\\w+)*      # words w/ optional internal hyphens/apostrophe  \n",
    "            '''  \n",
    "    return regexp_tokenize(s, pattern=pattern)\n",
    "\n",
    "def clean(s):\n",
    "    \"\"\"\n",
    "    Clean data\n",
    "    \"\"\"\n",
    "    for i in range(len(s)):\n",
    "        for d in ['0', '1', '2', '3', '4', '5' ,'6', '7', '8', '9']:\n",
    "            if d in s[i]:\n",
    "                s[i] = '0'\n",
    "        if s[i] == 'p' and i < len(s)-1:\n",
    "            if s[i+1] == 'm':\n",
    "                s[i] = 'pm'\n",
    "                s[i+1] = ''\n",
    "        if s[i] == 'a' and i < len(s)-1:\n",
    "            if s[i+1] == 'm':\n",
    "                s[i] = 'am'\n",
    "                s[i+1] = ''\n",
    "        if s[i] == 's':\n",
    "            s[i] = ''\n",
    "        if s[i].endswith(\"'s\"):\n",
    "            s[i] = s[i][:-2]\n",
    "    s = [i for i in s if i != '']\n",
    "    return [replDict.get(i.lower(), i.lower()) for i in s]"
   ]
  },
  {
   "cell_type": "code",
   "execution_count": 60,
   "metadata": {
    "collapsed": true
   },
   "outputs": [],
   "source": [
    "devWord1 = [clean(cut(s)) for s in devSent1]\n",
    "devWord2 = [clean(cut(s)) for s in devSent2]"
   ]
  },
  {
   "cell_type": "markdown",
   "metadata": {},
   "source": [
    "#  Tokenize Text"
   ]
  },
  {
   "cell_type": "code",
   "execution_count": 62,
   "metadata": {
    "collapsed": true
   },
   "outputs": [],
   "source": [
    "import pickle"
   ]
  },
  {
   "cell_type": "code",
   "execution_count": 63,
   "metadata": {
    "collapsed": true
   },
   "outputs": [],
   "source": [
    "with open('/Users/lizhn7/Downloads/EXPERIMENT/COPA/LM/data/index.pkl', 'rb') as fp:\n",
    "    word2index, index2word, glove_index2index = pickle.load(fp)"
   ]
  },
  {
   "cell_type": "code",
   "execution_count": 64,
   "metadata": {
    "collapsed": true
   },
   "outputs": [],
   "source": [
    "NUM_GRAMS = 25\n",
    "NUM_UNK_WORDS = 5\n",
    "VOCAB_SIZE = 20000"
   ]
  },
  {
   "cell_type": "code",
   "execution_count": 65,
   "metadata": {
    "collapsed": true
   },
   "outputs": [],
   "source": [
    "for i in range(NUM_UNK_WORDS):\n",
    "    index2word[VOCAB_SIZE-1-i] = '<%d>'%i\n",
    "\n",
    "unk0 = VOCAB_SIZE - NUM_UNK_WORDS"
   ]
  },
  {
   "cell_type": "code",
   "execution_count": 112,
   "metadata": {},
   "outputs": [
    {
     "data": {
      "text/plain": [
       "'<0>'"
      ]
     },
     "execution_count": 112,
     "metadata": {},
     "output_type": "execute_result"
    }
   ],
   "source": [
    "index2word[19999]"
   ]
  },
  {
   "cell_type": "code",
   "execution_count": 66,
   "metadata": {
    "collapsed": true
   },
   "outputs": [],
   "source": [
    "def vocab_fold(xs):\n",
    "    \"\"\"\n",
    "    Convert list of word indexes that may contain words outside vocab_size to words inside.\n",
    "    If a word is outside, try first to use glove_idx2idx to find a similar word inside.\n",
    "    If none exist then replace all accurancies of the same unknown word with <0>, <1>, ...\n",
    "    \"\"\"\n",
    "    xs = [x if x < unk0 else glove_index2index.get(x, x) for x in xs]\n",
    "    # the more popular word is <0> and so on\n",
    "    outside = sorted([x for x in xs if x >= unk0])\n",
    "    # if there are more than unknown_words unk words then put them all in unknown_words-1\n",
    "    outside = {x: VOCAB_SIZE-1-min(i, NUM_UNK_WORDS-1) for i, x in enumerate(outside)}\n",
    "    xs = [outside.get(x, x) for x in xs]\n",
    "    return xs"
   ]
  },
  {
   "cell_type": "code",
   "execution_count": 77,
   "metadata": {
    "collapsed": true
   },
   "outputs": [],
   "source": [
    "devSeq1 = [[word2index.get(w, w) for w in s] for s in devWord1]\n",
    "devSeq1 = [vocab_fold(s) for s in devSeq1]\n",
    "devSeq2 = [[word2index.get(w, w) for w in s] for s in devWord2]\n",
    "devSeq2 = [vocab_fold(s) for s in devSeq2]"
   ]
  },
  {
   "cell_type": "markdown",
   "metadata": {},
   "source": [
    "# Load Model"
   ]
  },
  {
   "cell_type": "markdown",
   "metadata": {},
   "source": [
    "## Set Hyperparameters"
   ]
  },
  {
   "cell_type": "code",
   "execution_count": 78,
   "metadata": {
    "collapsed": true
   },
   "outputs": [],
   "source": [
    "NUM_GRAMS = 25\n",
    "NUM_UNK_WORDS = 5\n",
    "VOCAB_SIZE = 20000\n",
    "EMBEDDING_DIM = 200\n",
    "BATCH_SIZE = 1024\n",
    "NUM_EPOCHS = 2\n",
    "RNN_SIZE = 1024"
   ]
  },
  {
   "cell_type": "markdown",
   "metadata": {},
   "source": [
    "## Import Libraries"
   ]
  },
  {
   "cell_type": "code",
   "execution_count": 79,
   "metadata": {},
   "outputs": [
    {
     "name": "stderr",
     "output_type": "stream",
     "text": [
      "Using TensorFlow backend.\n"
     ]
    }
   ],
   "source": [
    "from keras.layers import Input, Embedding, LSTM, Dense, Dropout\n",
    "from keras.models import Model\n",
    "import keras.backend as K\n",
    "from keras.callbacks import*\n",
    "import numpy as np\n",
    "from IPython.display import SVG\n",
    "from keras.utils.vis_utils import model_to_dot\n",
    "import matplotlib.pyplot as plt\n",
    "%matplotlib inline\n",
    "%config InlineBackend.figure_format = 'retina'"
   ]
  },
  {
   "cell_type": "markdown",
   "metadata": {},
   "source": [
    "## Build Graph"
   ]
  },
  {
   "cell_type": "code",
   "execution_count": 81,
   "metadata": {
    "collapsed": true
   },
   "outputs": [],
   "source": [
    "import h5py"
   ]
  },
  {
   "cell_type": "code",
   "execution_count": 82,
   "metadata": {
    "collapsed": true
   },
   "outputs": [],
   "source": [
    "with h5py.File('/Users/lizhn7/Downloads/EXPERIMENT/COPA/LM/data/embedding.h5', 'r') as fh:\n",
    "    embedding = fh['embedding'][:]"
   ]
  },
  {
   "cell_type": "code",
   "execution_count": 243,
   "metadata": {},
   "outputs": [],
   "source": [
    "K.clear_session()\n",
    "# Encoder\n",
    "inputs = Input(shape=(None,), name='EN_INPUT', dtype='int64')\n",
    "emb_seq = Embedding(VOCAB_SIZE, \n",
    "                    EMBEDDING_DIM, \n",
    "                    weights=[embedding], \n",
    "                    mask_zero=True, \n",
    "                    trainable=True, \n",
    "                    name='EN_EMBEDDING')(inputs)\n",
    "lstm = LSTM(RNN_SIZE, return_sequences=False, implementation=0, name='EN_LSTM')(emb_seq)\n",
    "encoder = Model(inputs=inputs, outputs=lstm)\n",
    "\n",
    "# Language Model\n",
    "input_grams = Input(shape=(NUM_GRAMS,), name='LM_INPUT', dtype='int64')\n",
    "encoded_grams = encoder(input_grams)\n",
    "outputs = Dense(VOCAB_SIZE, activation='softmax', name='LM_OUTPUT')(encoded_grams)\n",
    "lm = Model(inputs=input_grams, outputs=outputs)\n",
    "lm.compile(loss='sparse_categorical_crossentropy', optimizer='adam')"
   ]
  },
  {
   "cell_type": "markdown",
   "metadata": {},
   "source": [
    "## Load Weights"
   ]
  },
  {
   "cell_type": "code",
   "execution_count": 195,
   "metadata": {
    "collapsed": true
   },
   "outputs": [],
   "source": [
    "from math import e\n",
    "from tqdm import tqdm\n",
    "import matplotlib.pyplot as plt\n",
    "%matplotlib inline\n",
    "%config InlineBackend.figure_format = 'retina'"
   ]
  },
  {
   "cell_type": "code",
   "execution_count": 171,
   "metadata": {
    "collapsed": true
   },
   "outputs": [],
   "source": [
    "filename = '/Users/lizhn7/Downloads/EXPERIMENT/COPA/LM/cp_logs/weights.001-5.679683.hdf5'\n",
    "lm.load_weights(filename)"
   ]
  },
  {
   "cell_type": "code",
   "execution_count": 172,
   "metadata": {
    "collapsed": true
   },
   "outputs": [],
   "source": [
    "def convert(c):\n",
    "    \"\"\"\n",
    "    Convert sequence to standard inputs and outputs\n",
    "    \"\"\"\n",
    "    x = []\n",
    "    y = []\n",
    "    for i in range(len(c)):\n",
    "        x.append([0]*(NUM_GRAMS-i + max(0, i-NUM_GRAMS)) + c[max(0, i-NUM_GRAMS):i])\n",
    "        y.append([c[i]])\n",
    "    return (x, y)"
   ]
  },
  {
   "cell_type": "code",
   "execution_count": 173,
   "metadata": {
    "collapsed": true
   },
   "outputs": [],
   "source": [
    "def perplexity(s):\n",
    "    \"\"\"\n",
    "    Compute sentence perplexity\n",
    "    \"\"\"\n",
    "    x, y = convert(s)\n",
    "    result = lm.predict(x, batch_size=len(x))\n",
    "    p = []\n",
    "    for i, j in enumerate(y):\n",
    "        p.append(np.log(result[i, j]))\n",
    "    p = e ** (-sum(p)/len(x))\n",
    "    return p"
   ]
  },
  {
   "cell_type": "code",
   "execution_count": 174,
   "metadata": {},
   "outputs": [
    {
     "name": "stderr",
     "output_type": "stream",
     "text": [
      "100%|██████████| 500/500 [02:25<00:00,  3.72it/s]\n",
      "100%|██████████| 500/500 [02:13<00:00,  3.99it/s]\n"
     ]
    }
   ],
   "source": [
    "p1 = []\n",
    "for i in tqdm(range(len(devSeq1))):\n",
    "    p1.append(perplexity(devSeq1[i]))\n",
    "    \n",
    "p2 = []\n",
    "for i in tqdm(range(len(devSeq2))):\n",
    "    p2.append(perplexity(devSeq2[i]))"
   ]
  },
  {
   "cell_type": "code",
   "execution_count": 182,
   "metadata": {},
   "outputs": [],
   "source": [
    "def accuracy(p1, p2, actu, show=True):\n",
    "    \"\"\"\n",
    "    Calculate Accuracy\n",
    "    \"\"\"\n",
    "    pred = []\n",
    "    for i in range(len(p1)):\n",
    "        if p1[i] <= p2[i]:\n",
    "            pred.append(1)\n",
    "        else:\n",
    "            pred.append(2)\n",
    "    S = sum([1 for i in range(len(pred)) if pred[i] == actu[i]])\n",
    "    ACC = S / len(actu)\n",
    "    if show:\n",
    "        print('Accuracy: \\t%.3f' % (ACC))\n",
    "    return ACC"
   ]
  },
  {
   "cell_type": "code",
   "execution_count": 207,
   "metadata": {
    "collapsed": true
   },
   "outputs": [],
   "source": [
    "DATA_DIR = '/Users/lizhn7/Downloads/EXPERIMENT/COPA/LM/cp_logs/'"
   ]
  },
  {
   "cell_type": "code",
   "execution_count": 183,
   "metadata": {
    "collapsed": true
   },
   "outputs": [],
   "source": [
    "def compute(filename, seq1, seq2, label, show=True):\n",
    "    \"\"\"\n",
    "    Integration\n",
    "    \"\"\"\n",
    "    lm.load_weights(filename)\n",
    "    if show:\n",
    "        p1 = []\n",
    "        for i in tqdm(range(len(seq1))):\n",
    "            p1.append(perplexity(seq1[i]))\n",
    "        p2 = []\n",
    "        for i in tqdm(range(len(seq2))):\n",
    "            p2.append(perplexity(seq2[i]))\n",
    "    else:\n",
    "        p1 = []\n",
    "        for i in range(len(seq1)):\n",
    "            p1.append(perplexity(seq1[i]))\n",
    "        p2 = []\n",
    "        for i in range(len(seq2)):\n",
    "            p2.append(perplexity(seq2[i]))\n",
    "    return accuracy(p1, p2, label, show)"
   ]
  },
  {
   "cell_type": "code",
   "execution_count": null,
   "metadata": {
    "collapsed": true
   },
   "outputs": [],
   "source": [
    "compute(os.path.join(DATA_DIR, 'weights.000-6.400188.hdf5'), devSeq1, devSeq2, label)"
   ]
  },
  {
   "cell_type": "code",
   "execution_count": 238,
   "metadata": {},
   "outputs": [],
   "source": [
    "def test(filename_list, seq1, seq2, label, show=True):\n",
    "    \"\"\"\n",
    "    Select optimal parameter\n",
    "    \"\"\"\n",
    "    DATA_DIR = '/Users/lizhn7/Downloads/EXPERIMENT/COPA/LM/cp_logs/'\n",
    "    ACC = []\n",
    "    epochs = list(range(1, len(filename_list)+1))\n",
    "    for i in tqdm(range(len(filename_list))):\n",
    "        filename = os.path.join(DATA_DIR, filename_list[i])\n",
    "        ACC.append(compute(filename, seq1, seq2, label, show))\n",
    "    plt.figure(figsize=(10, 8))\n",
    "    plt.plot(epochs, ACC, label=\"Accuracy\", color=\"red\", linewidth=2)\n",
    "    plt.xlabel(\"Epochs\")\n",
    "    plt.ylabel(\"Accuracy\")\n",
    "    plt.xticks([i for i in range(1, len(filename_list), 1)])\n",
    "    plt.grid(True)  \n",
    "    plt.legend()\n",
    "    plt.show()\n",
    "    return ACC"
   ]
  },
  {
   "cell_type": "code",
   "execution_count": 241,
   "metadata": {
    "collapsed": true
   },
   "outputs": [],
   "source": [
    "filename_list = ['weights.000-6.400188.hdf5', 'weights.001-5.679683.hdf5',\n",
    "                 'weights.002-5.450937.hdf5', 'weights.003-5.316142.hdf5',\n",
    "                 'weights.004-5.224389.hdf5', 'weights.005-5.159125.hdf5',\n",
    "                 'weights.006-5.101948.hdf5', 'weights.007-5.062685.hdf5',\n",
    "                 'weights.008-5.027444.hdf5', 'weights.009-4.995042.hdf5',\n",
    "                 'weights.010-4.971494.hdf5']"
   ]
  },
  {
   "cell_type": "code",
   "execution_count": 239,
   "metadata": {},
   "outputs": [
    {
     "name": "stderr",
     "output_type": "stream",
     "text": [
      "100%|██████████| 10/10 [36:02<00:00, 212.11s/it]\n"
     ]
    },
    {
     "data": {
      "image/png": "[encoded data removed]",
      "text/plain": [
       "<matplotlib.figure.Figure at 0x11bc8cac8>"
      ]
     },
     "metadata": {
      "image/png": {
       "height": 481,
       "width": 623
      }
     },
     "output_type": "display_data"
    }
   ],
   "source": [
    "ACC = test(filename_list, devSeq1, devSeq2, label, show=False)"
   ]
  },
  {
   "cell_type": "code",
   "execution_count": 240,
   "metadata": {},
   "outputs": [
    {
     "data": {
      "text/plain": [
       "[0.514, 0.518, 0.526, 0.526, 0.514, 0.528, 0.526, 0.522, 0.516, 0.52]"
      ]
     },
     "execution_count": 240,
     "metadata": {},
     "output_type": "execute_result"
    }
   ],
   "source": [
    "ACC"
   ]
  },
  {
   "cell_type": "code",
   "execution_count": 242,
   "metadata": {},
   "outputs": [
    {
     "name": "stderr",
     "output_type": "stream",
     "text": [
      "100%|██████████| 500/500 [01:53<00:00,  4.62it/s]\n",
      "100%|██████████| 500/500 [01:50<00:00,  4.45it/s]"
     ]
    },
    {
     "name": "stdout",
     "output_type": "stream",
     "text": [
      "Accuracy: \t0.514\n"
     ]
    },
    {
     "name": "stderr",
     "output_type": "stream",
     "text": [
      "\n"
     ]
    },
    {
     "data": {
      "text/plain": [
       "0.514"
      ]
     },
     "execution_count": 242,
     "metadata": {},
     "output_type": "execute_result"
    }
   ],
   "source": [
    "compute(os.path.join(DATA_DIR, 'weights.010-4.971494.hdf5'), devSeq1, devSeq2, label)"
   ]
  },
  {
   "cell_type": "code",
   "execution_count": 244,
   "metadata": {},
   "outputs": [
    {
     "name": "stderr",
     "output_type": "stream",
     "text": [
      "100%|██████████| 500/500 [03:07<00:00,  2.78it/s]\n",
      "100%|██████████| 500/500 [03:00<00:00,  2.70it/s]"
     ]
    },
    {
     "name": "stdout",
     "output_type": "stream",
     "text": [
      "Accuracy: \t0.512\n"
     ]
    },
    {
     "name": "stderr",
     "output_type": "stream",
     "text": [
      "\n"
     ]
    },
    {
     "data": {
      "text/plain": [
       "0.512"
      ]
     },
     "execution_count": 244,
     "metadata": {},
     "output_type": "execute_result"
    }
   ],
   "source": [
    "compute('/Users/lizhn7/Downloads/EXPERIMENT/COPA/LM/cp_logs/weights.004-4.952414.hdf5', devSeq1, devSeq2, label)"
   ]
  }
 ],
 "metadata": {
  "kernelspec": {
   "display_name": "Python 3",
   "language": "python",
   "name": "python3"
  },
  "language_info": {
   "codemirror_mode": {
    "name": "ipython",
    "version": 3
   },
   "file_extension": ".py",
   "mimetype": "text/x-python",
   "name": "python",
   "nbconvert_exporter": "python",
   "pygments_lexer": "ipython3",
   "version": "3.6.2"
  },
  "toc": {
   "colors": {
    "hover_highlight": "#DAA520",
    "navigate_num": "#000000",
    "navigate_text": "#333333",
    "running_highlight": "#FF0000",
    "selected_highlight": "#FFD700",
    "sidebar_border": "#EEEEEE",
    "wrapper_background": "#FFFFFF"
   },
   "moveMenuLeft": true,
   "nav_menu": {
    "height": "66px",
    "width": "252px"
   },
   "navigate_menu": true,
   "number_sections": true,
   "sideBar": true,
   "threshold": 4,
   "toc_cell": true,
   "toc_section_display": "block",
   "toc_window_display": false,
   "widenNotebook": false
  }
 },
 "nbformat": 4,
 "nbformat_minor": 2
}
