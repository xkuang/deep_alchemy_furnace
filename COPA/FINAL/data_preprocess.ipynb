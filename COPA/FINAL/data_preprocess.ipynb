{
 "cells": [
  {
   "cell_type": "markdown",
   "metadata": {
    "toc": "true"
   },
   "source": [
    "# Table of Contents\n",
    " <p><div class=\"lev1 toc-item\"><a href=\"#Data-Preprocess\" data-toc-modified-id=\"Data-Preprocess-1\"><span class=\"toc-item-num\">1&nbsp;&nbsp;</span>Data Preprocess</a></div><div class=\"lev1 toc-item\"><a href=\"#Build-Dataset\" data-toc-modified-id=\"Build-Dataset-2\"><span class=\"toc-item-num\">2&nbsp;&nbsp;</span>Build Dataset</a></div>"
   ]
  },
  {
   "cell_type": "markdown",
   "metadata": {},
   "source": [
    "# Data Preprocess"
   ]
  },
  {
   "cell_type": "code",
   "execution_count": 1,
   "metadata": {},
   "outputs": [],
   "source": [
    "import json\n",
    "import os\n",
    "import spacy\n",
    "from spacy.parts_of_speech import NOUN, VERB, ADJ, ADV, NUM, PROPN"
   ]
  },
  {
   "cell_type": "code",
   "execution_count": 2,
   "metadata": {},
   "outputs": [],
   "source": [
    "nlp = spacy.load('en')\n",
    "DEV_DATA_DIR = '/Users/lizhn7/Downloads/EXPERIMENT/COPA/LM/data/copa-dev.json'\n",
    "TEST_DATA_DIR = '/Users/lizhn7/Downloads/EXPERIMENT/COPA/LM/data/copa-test.json'\n",
    "SEMEVAL_DIR = '/Users/lizhn7/Downloads/EXPERIMENT/COPA/FINAL/semeval.json'"
   ]
  },
  {
   "cell_type": "code",
   "execution_count": 3,
   "metadata": {},
   "outputs": [],
   "source": [
    "def load_data(path, name):\n",
    "    \"\"\"\n",
    "    Load date from file\n",
    "    \"\"\"\n",
    "    data = []\n",
    "    input_file = os.path.join(path)\n",
    "    with open(input_file) as f:\n",
    "        lines = f.readlines()\n",
    "    for line in lines:\n",
    "        item = json.loads(line)\n",
    "        data.append(item[name])\n",
    "    return data\n",
    "\n",
    "def isNoise(token):\n",
    "    \"\"\"\n",
    "    Check if the token is a noise or not \n",
    "    \"\"\"\n",
    "    is_noise = False\n",
    "    pos_tags = []\n",
    "    if token.pos not in [NOUN, VERB, ADJ, ADV, NUM]:\n",
    "        is_noise = True\n",
    "    elif token.is_stop == True:\n",
    "        is_noise = True\n",
    "    return is_noise\n",
    "\n",
    "def clean(token):\n",
    "    \"\"\"\n",
    "    Clean data\n",
    "    \"\"\"\n",
    "    return token.lemma_"
   ]
  },
  {
   "cell_type": "code",
   "execution_count": 4,
   "metadata": {},
   "outputs": [],
   "source": [
    "semevalSent = load_data(SEMEVAL_DIR, 'sentence')\n",
    "semevalLabel = load_data(SEMEVAL_DIR, 'label')"
   ]
  },
  {
   "cell_type": "code",
   "execution_count": 5,
   "metadata": {},
   "outputs": [],
   "source": [
    "class Data:\n",
    "    def __init__(self, path):\n",
    "        self.rawPremise = load_data(path, 'premise')\n",
    "        self.ask_for = load_data(path, 'asks-for')\n",
    "        self.rawAlternative1 = load_data(path, 'alternative1')\n",
    "        self.rawAlternative2 = load_data(path, 'alternative2')\n",
    "        self.label = load_data(path, 'most-plausible-alternative')\n",
    "        self.premise = [[clean(i) for i in j if not isNoise(i)] for j in [nlp(i) for i in self.rawPremise]]\n",
    "        self.alternative1 = [[clean(i) for i in j if not isNoise(i)] for j in [nlp(i) for i in self.rawAlternative1]]\n",
    "        self.alternative2 = [[clean(i) for i in j if not isNoise(i)] for j in [nlp(i) for i in self.rawAlternative2]]\n",
    "            \n",
    "    def train_data(self):\n",
    "        t1 = [self.premise[i] + self.alternative1[i] for i in range(len(self.premise))]\n",
    "        t2 = [self.premise[i] + self.alternative2[i] for i in range(len(self.premise))]\n",
    "        t3 = [self.alternative1[i] + self.premise[i] for i in range(len(self.premise))]\n",
    "        t4 = [self.alternative2[i] + self.premise[i] for i in range(len(self.premise))]\n",
    "        l1, l2, l3, l4 = [], [], [], []\n",
    "        for i in range(len(self.label)):\n",
    "            if self.label[i] == '1':\n",
    "                l1.append(1), l2.append(0), l3.append(1), l4.append(0);\n",
    "            else:\n",
    "                l1.append(0), l2.append(1), l3.append(0), l4.append(1);\n",
    "        return t1+t2+t3+t4, l1+l2+l3+l4\n",
    "        \n",
    "    def test_data(self):\n",
    "        v1, v2 = [], []\n",
    "        for i in range(len(self.ask_for)):\n",
    "            if self.ask_for[i] == 'cause':\n",
    "                v1.append(self.alternative1[i] + self.premise[i])\n",
    "                v2.append(self.alternative2[i] + self.premise[i])\n",
    "            else:\n",
    "                v1.append(self.premise[i] + self.alternative1[i])\n",
    "                v2.append(self.premise[i] + self.alternative2[i])\n",
    "        \n",
    "        return v1, v2, [int(l) for l in self.label]            "
   ]
  },
  {
   "cell_type": "markdown",
   "metadata": {},
   "source": [
    "# Build Dataset"
   ]
  },
  {
   "cell_type": "code",
   "execution_count": 6,
   "metadata": {},
   "outputs": [
    {
     "name": "stderr",
     "output_type": "stream",
     "text": [
      "Using TensorFlow backend.\n"
     ]
    }
   ],
   "source": [
    "from keras.preprocessing.text import Tokenizer\n",
    "import numpy as np\n",
    "import pickle\n",
    "import h5py\n",
    "from sklearn.model_selection import train_test_split"
   ]
  },
  {
   "cell_type": "code",
   "execution_count": 7,
   "metadata": {},
   "outputs": [],
   "source": [
    "trainData = Data(DEV_DATA_DIR)\n",
    "valData = Data(DEV_DATA_DIR)\n",
    "testData = Data(TEST_DATA_DIR)\n",
    "\n",
    "xTrain, yTrain = trainData.train_data()\n",
    "x1Val, x2Val, yVal = trainData.test_data()\n",
    "x1Test, x2Test, yTest = trainData.test_data()"
   ]
  },
  {
   "cell_type": "code",
   "execution_count": null,
   "metadata": {},
   "outputs": [],
   "source": [
    "tok_sentWords = x1Val+x2Val+x1Test+x2Test+semevalSent\n",
    "tokTexts = [' '.join(i) for i in tok_sentWords]"
   ]
  }
 ],
 "metadata": {
  "kernelspec": {
   "display_name": "Python 3",
   "language": "python",
   "name": "python3"
  },
  "language_info": {
   "codemirror_mode": {
    "name": "ipython",
    "version": 3
   },
   "file_extension": ".py",
   "mimetype": "text/x-python",
   "name": "python",
   "nbconvert_exporter": "python",
   "pygments_lexer": "ipython3",
   "version": "3.6.2"
  },
  "toc": {
   "colors": {
    "hover_highlight": "#DAA520",
    "navigate_num": "#000000",
    "navigate_text": "#333333",
    "running_highlight": "#FF0000",
    "selected_highlight": "#FFD700",
    "sidebar_border": "#EEEEEE",
    "wrapper_background": "#FFFFFF"
   },
   "moveMenuLeft": true,
   "nav_menu": {
    "height": "48px",
    "width": "252px"
   },
   "navigate_menu": true,
   "number_sections": false,
   "sideBar": true,
   "threshold": 4,
   "toc_cell": true,
   "toc_section_display": "block",
   "toc_window_display": false,
   "widenNotebook": false
  }
 },
 "nbformat": 4,
 "nbformat_minor": 2
}
