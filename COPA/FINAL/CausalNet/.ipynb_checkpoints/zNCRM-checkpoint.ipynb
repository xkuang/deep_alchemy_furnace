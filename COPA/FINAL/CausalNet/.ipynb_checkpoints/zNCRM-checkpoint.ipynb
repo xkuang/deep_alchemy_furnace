{
 "cells": [
  {
   "cell_type": "markdown",
   "metadata": {
    "toc": "true"
   },
   "source": [
    "# Table of Contents\n",
    " <p><div class=\"lev1 toc-item\"><a href=\"#Load-Data\" data-toc-modified-id=\"Load-Data-1\"><span class=\"toc-item-num\">1&nbsp;&nbsp;</span>Load Data</a></div><div class=\"lev1 toc-item\"><a href=\"#Import-Libraries\" data-toc-modified-id=\"Import-Libraries-2\"><span class=\"toc-item-num\">2&nbsp;&nbsp;</span>Import Libraries</a></div><div class=\"lev1 toc-item\"><a href=\"#Build-Graph\" data-toc-modified-id=\"Build-Graph-3\"><span class=\"toc-item-num\">3&nbsp;&nbsp;</span>Build Graph</a></div><div class=\"lev1 toc-item\"><a href=\"#Model-Visualization\" data-toc-modified-id=\"Model-Visualization-4\"><span class=\"toc-item-num\">4&nbsp;&nbsp;</span>Model Visualization</a></div><div class=\"lev1 toc-item\"><a href=\"#Train\" data-toc-modified-id=\"Train-5\"><span class=\"toc-item-num\">5&nbsp;&nbsp;</span>Train</a></div><div class=\"lev1 toc-item\"><a href=\"#Predict\" data-toc-modified-id=\"Predict-6\"><span class=\"toc-item-num\">6&nbsp;&nbsp;</span>Predict</a></div>"
   ]
  },
  {
   "cell_type": "markdown",
   "metadata": {},
   "source": [
    "- **Neural Causal Reasoning Model**"
   ]
  },
  {
   "cell_type": "markdown",
   "metadata": {},
   "source": [
    "# Load Data"
   ]
  },
  {
   "cell_type": "code",
   "execution_count": 137,
   "metadata": {},
   "outputs": [],
   "source": [
    "import pickle\n",
    "import h5py"
   ]
  },
  {
   "cell_type": "code",
   "execution_count": 138,
   "metadata": {
    "scrolled": true
   },
   "outputs": [],
   "source": [
    "with open('/Users/lizhn7/Downloads/EXPERIMENT/COPA/FINAL/CausalNet/index.pkl', 'rb') as fp:\n",
    "    word2index, index2word = pickle.load(fp)\n",
    "\n",
    "with h5py.File('/Users/lizhn7/Downloads/EXPERIMENT/COPA/FINAL/CausalNet/embedding.h5', 'r') as fh:\n",
    "    embedding = fh['embedding'][:] \n",
    "\n",
    "with open('/Users/lizhn7/Downloads/EXPERIMENT/COPA/FINAL/CausalNet/zTrian/data/train.pkl', 'rb') as fp:\n",
    "    xc, xe, s  = pickle.load(fp)"
   ]
  },
  {
   "cell_type": "code",
   "execution_count": 141,
   "metadata": {},
   "outputs": [],
   "source": [
    "dc1 = [list(set([word2index[i[0]] for i in cp])) for cp in devcp1]; dc1 = [np.array([i]) for i in dc1]\n",
    "de1 = [list(set([word2index[i[1]] for i in cp])) for cp in devcp1]; de1 = [np.array([i]) for i in de1]\n",
    "dc2 = [list(set([word2index[i[0]] for i in cp])) for cp in devcp2]; dc2 = [np.array([i]) for i in dc2]\n",
    "de2 = [list(set([word2index[i[1]] for i in cp])) for cp in devcp2]; de2 = [np.array([i]) for i in de2]\n",
    "tc1 = [list(set([word2index[i[0]] for i in cp])) for cp in testcp1]; tc1 = [np.array([i]) for i in tc1]\n",
    "te1 = [list(set([word2index[i[1]] for i in cp])) for cp in testcp1]; te1 = [np.array([i]) for i in te1]\n",
    "tc2 = [list(set([word2index[i[0]] for i in cp])) for cp in testcp2]; tc2 = [np.array([i]) for i in tc2]\n",
    "te2 = [list(set([word2index[i[1]] for i in cp])) for cp in testcp2]; te2 = [np.array([i]) for i in te2]"
   ]
  },
  {
   "cell_type": "markdown",
   "metadata": {},
   "source": [
    "# Import Libraries"
   ]
  },
  {
   "cell_type": "code",
   "execution_count": 9,
   "metadata": {},
   "outputs": [],
   "source": [
    "from keras.layers import Input, Embedding, Lambda, Dense, Dropout, Flatten, dot\n",
    "from keras.layers.noise import AlphaDropout\n",
    "from keras.models import Model\n",
    "import keras.backend as K\n",
    "from keras.callbacks import*\n",
    "from IPython.display import SVG\n",
    "from keras.utils.vis_utils import model_to_dot\n",
    "import matplotlib.pyplot as plt\n",
    "%matplotlib inline\n",
    "%config InlineBackend.figure_format = 'retina'"
   ]
  },
  {
   "cell_type": "markdown",
   "metadata": {},
   "source": [
    "# Build Graph"
   ]
  },
  {
   "cell_type": "code",
   "execution_count": 37,
   "metadata": {},
   "outputs": [],
   "source": [
    "def ncrm(glove=True, tune=False, num_layer=2, hidden_size=300, hidden_activation='relu', dropout_rate=0.2, seed=42, output_activation=None, loss='mse', optimizer='adam'):\n",
    "    \"\"\"\n",
    "    Hyperparameters\n",
    "    ----------\n",
    "    :param glove: use glove embedding or not \n",
    "    :param tune: tune embedding parameters or not\n",
    "    :param num_layer: number of hidden layer\n",
    "    :param hidden_size: sizes of hidden layer\n",
    "    :param dropout_rate: dropout layer rate\n",
    "    :param hidden_activation: activation function of hidden layer\n",
    "    :param seed: random seed\n",
    "    :param output_activation: activation function of output layer\n",
    "    :param loss: loss function\n",
    "    :param optimizer: optimize method\n",
    "    \n",
    "    Returns\n",
    "    ----------\n",
    "    Neural Causal Reasoning Model.\n",
    "    \"\"\"\n",
    "    def swish(x):\n",
    "        return x * K.sigmoid(x)\n",
    "    if hidden_activation == 'swish':\n",
    "        hidden_activation = swish\n",
    "    cw = Input(shape=(None,), name='CAUSE')\n",
    "    if glove == False:\n",
    "        cw_emb = Embedding(input_dim=2793,\n",
    "                           output_dim=300,\n",
    "                           name='CW_EMBEDDING')(cw)\n",
    "    else:\n",
    "        cw_emb = Embedding(input_dim=2793,\n",
    "                           output_dim=300,\n",
    "                           weights=[embedding],\n",
    "                           trainable=tune,\n",
    "                           name='CW_EMBEDDING')(cw)\n",
    "    dense = Lambda(lambda x: K.sum(x, axis=1), name='CW_SUM')(cw_emb)\n",
    "    for l in range(num_layer-1):\n",
    "        dense = Dense(hidden_size, activation=hidden_activation, name='HIDDEN_%d' % (l+1))(dense)\n",
    "        if hidden_activation == 'selu':\n",
    "            dense = AlphaDropout(dropout_rate, seed=seed, name='DROPOUT_%d' % (l+1))(dense)\n",
    "        else:\n",
    "            dense = Dropout(dropout_rate, seed=seed, name='DROPOUT_%d' % (l+1))(dense)\n",
    "    dense = Dense(300, activation=hidden_activation, name='HIDDEN_%d' % (num_layer))(dense)\n",
    "    if hidden_activation == 'selu':\n",
    "        dense = AlphaDropout(dropout_rate, seed=seed, name='DROPOUT_%d' % (num_layer))(dense)\n",
    "    else:\n",
    "        dense = Dropout(dropout_rate, seed=seed, name='DROPOUT_%d' % (num_layer))(dense)\n",
    "    ew = Input(shape=(None,), name='EFFECT')\n",
    "    if glove == False:\n",
    "        ew_emb = Embedding(input_dim=2793,\n",
    "                           output_dim=300,\n",
    "                           name='EW_EMBEDDING')(ew)\n",
    "    else:\n",
    "        ew_emb = Embedding(input_dim=2793,\n",
    "                           output_dim=300,\n",
    "                           weights=[embedding],\n",
    "                           trainable=tune,\n",
    "                           name='EW_EMBEDDING')(ew)\n",
    "    ew_emb = Lambda(lambda x: K.sum(x, axis=1), name='EW_SUM')(ew_emb)\n",
    "    output = dot([dense, ew_emb], axes=-1, normalize=False, name='REASONING')\n",
    "    output = Dense(1, activation=output_activation, name='OUTPUT')(output)\n",
    "    model = Model(inputs=[cw, ew], outputs=output)\n",
    "    model.compile(loss=loss, optimizer=optimizer)\n",
    "    return model"
   ]
  },
  {
   "cell_type": "markdown",
   "metadata": {},
   "source": [
    "# Model Visualization"
   ]
  },
  {
   "cell_type": "code",
   "execution_count": 41,
   "metadata": {},
   "outputs": [
    {
     "name": "stdout",
     "output_type": "stream",
     "text": [
      "____________________________________________________________________________________________________\n",
      "Layer (type)                     Output Shape          Param #     Connected to                     \n",
      "====================================================================================================\n",
      "CAUSE (InputLayer)               (None, None)          0                                            \n",
      "____________________________________________________________________________________________________\n",
      "CW_EMBEDDING (Embedding)         (None, None, 300)     837900      CAUSE[0][0]                      \n",
      "____________________________________________________________________________________________________\n",
      "CW_SUM (Lambda)                  (None, 300)           0           CW_EMBEDDING[0][0]               \n",
      "____________________________________________________________________________________________________\n",
      "HIDDEN_1 (Dense)                 (None, 300)           90300       CW_SUM[0][0]                     \n",
      "____________________________________________________________________________________________________\n",
      "DROPOUT_1 (Dropout)              (None, 300)           0           HIDDEN_1[0][0]                   \n",
      "____________________________________________________________________________________________________\n",
      "EFFECT (InputLayer)              (None, None)          0                                            \n",
      "____________________________________________________________________________________________________\n",
      "HIDDEN_2 (Dense)                 (None, 300)           90300       DROPOUT_1[0][0]                  \n",
      "____________________________________________________________________________________________________\n",
      "EW_EMBEDDING (Embedding)         (None, None, 300)     837900      EFFECT[0][0]                     \n",
      "____________________________________________________________________________________________________\n",
      "DROPOUT_2 (Dropout)              (None, 300)           0           HIDDEN_2[0][0]                   \n",
      "____________________________________________________________________________________________________\n",
      "EW_SUM (Lambda)                  (None, 300)           0           EW_EMBEDDING[0][0]               \n",
      "____________________________________________________________________________________________________\n",
      "REASONING (Dot)                  (None, 1)             0           DROPOUT_2[0][0]                  \n",
      "                                                                   EW_SUM[0][0]                     \n",
      "____________________________________________________________________________________________________\n",
      "OUTPUT (Dense)                   (None, 1)             2           REASONING[0][0]                  \n",
      "====================================================================================================\n",
      "Total params: 1,856,402\n",
      "Trainable params: 1,856,402\n",
      "Non-trainable params: 0\n",
      "____________________________________________________________________________________________________\n"
     ]
    },
    {
     "data": {
      "image/svg+xml": [
       "<svg height=\"629pt\" viewBox=\"0.00 0.00 390.09 629.00\" width=\"390pt\" xmlns=\"http://www.w3.org/2000/svg\" xmlns:xlink=\"http://www.w3.org/1999/xlink\">\n",
       "<g class=\"graph\" id=\"graph0\" transform=\"scale(1 1) rotate(0) translate(4 625)\">\n",
       "<title>G</title>\n",
       "<polygon fill=\"#ffffff\" points=\"-4,4 -4,-625 386.0864,-625 386.0864,4 -4,4\" stroke=\"transparent\"/>\n",
       "<!-- 121675771016 -->\n",
       "<g class=\"node\" id=\"node1\">\n",
       "<title>121675771016</title>\n",
       "<polygon fill=\"none\" points=\"35,-584.5 35,-620.5 166.4795,-620.5 166.4795,-584.5 35,-584.5\" stroke=\"#000000\"/>\n",
       "<text fill=\"#000000\" font-family=\"Times,serif\" font-size=\"14.00\" text-anchor=\"middle\" x=\"100.7397\" y=\"-598.3\">CAUSE: InputLayer</text>\n",
       "</g>\n",
       "<!-- 121675631640 -->\n",
       "<g class=\"node\" id=\"node2\">\n",
       "<title>121675631640</title>\n",
       "<polygon fill=\"none\" points=\"0,-511.5 0,-547.5 201.4795,-547.5 201.4795,-511.5 0,-511.5\" stroke=\"#000000\"/>\n",
       "<text fill=\"#000000\" font-family=\"Times,serif\" font-size=\"14.00\" text-anchor=\"middle\" x=\"100.7397\" y=\"-525.3\">CW_EMBEDDING: Embedding</text>\n",
       "</g>\n",
       "<!-- 121675771016&#45;&gt;121675631640 -->\n",
       "<g class=\"edge\" id=\"edge1\">\n",
       "<title>121675771016-&gt;121675631640</title>\n",
       "<path d=\"M100.7397,-584.4551C100.7397,-576.3828 100.7397,-566.6764 100.7397,-557.6817\" fill=\"none\" stroke=\"#000000\"/>\n",
       "<polygon fill=\"#000000\" points=\"104.2398,-557.5903 100.7397,-547.5904 97.2398,-557.5904 104.2398,-557.5903\" stroke=\"#000000\"/>\n",
       "</g>\n",
       "<!-- 121675632088 -->\n",
       "<g class=\"node\" id=\"node3\">\n",
       "<title>121675632088</title>\n",
       "<polygon fill=\"none\" points=\"36.1621,-438.5 36.1621,-474.5 165.3174,-474.5 165.3174,-438.5 36.1621,-438.5\" stroke=\"#000000\"/>\n",
       "<text fill=\"#000000\" font-family=\"Times,serif\" font-size=\"14.00\" text-anchor=\"middle\" x=\"100.7397\" y=\"-452.3\">CW_SUM: Lambda</text>\n",
       "</g>\n",
       "<!-- 121675631640&#45;&gt;121675632088 -->\n",
       "<g class=\"edge\" id=\"edge2\">\n",
       "<title>121675631640-&gt;121675632088</title>\n",
       "<path d=\"M100.7397,-511.4551C100.7397,-503.3828 100.7397,-493.6764 100.7397,-484.6817\" fill=\"none\" stroke=\"#000000\"/>\n",
       "<polygon fill=\"#000000\" points=\"104.2398,-484.5903 100.7397,-474.5904 97.2398,-484.5904 104.2398,-484.5903\" stroke=\"#000000\"/>\n",
       "</g>\n",
       "<!-- 121675631752 -->\n",
       "<g class=\"node\" id=\"node4\">\n",
       "<title>121675631752</title>\n",
       "<polygon fill=\"none\" points=\"37.7241,-365.5 37.7241,-401.5 163.7554,-401.5 163.7554,-365.5 37.7241,-365.5\" stroke=\"#000000\"/>\n",
       "<text fill=\"#000000\" font-family=\"Times,serif\" font-size=\"14.00\" text-anchor=\"middle\" x=\"100.7397\" y=\"-379.3\">HIDDEN_1: Dense</text>\n",
       "</g>\n",
       "<!-- 121675632088&#45;&gt;121675631752 -->\n",
       "<g class=\"edge\" id=\"edge3\">\n",
       "<title>121675632088-&gt;121675631752</title>\n",
       "<path d=\"M100.7397,-438.4551C100.7397,-430.3828 100.7397,-420.6764 100.7397,-411.6817\" fill=\"none\" stroke=\"#000000\"/>\n",
       "<polygon fill=\"#000000\" points=\"104.2398,-411.5903 100.7397,-401.5904 97.2398,-411.5904 104.2398,-411.5903\" stroke=\"#000000\"/>\n",
       "</g>\n",
       "<!-- 121675923296 -->\n",
       "<g class=\"node\" id=\"node5\">\n",
       "<title>121675923296</title>\n",
       "<polygon fill=\"none\" points=\"25.6553,-292.5 25.6553,-328.5 175.8242,-328.5 175.8242,-292.5 25.6553,-292.5\" stroke=\"#000000\"/>\n",
       "<text fill=\"#000000\" font-family=\"Times,serif\" font-size=\"14.00\" text-anchor=\"middle\" x=\"100.7397\" y=\"-306.3\">DROPOUT_1: Dropout</text>\n",
       "</g>\n",
       "<!-- 121675631752&#45;&gt;121675923296 -->\n",
       "<g class=\"edge\" id=\"edge4\">\n",
       "<title>121675631752-&gt;121675923296</title>\n",
       "<path d=\"M100.7397,-365.4551C100.7397,-357.3828 100.7397,-347.6764 100.7397,-338.6817\" fill=\"none\" stroke=\"#000000\"/>\n",
       "<polygon fill=\"#000000\" points=\"104.2398,-338.5903 100.7397,-328.5904 97.2398,-338.5904 104.2398,-338.5903\" stroke=\"#000000\"/>\n",
       "</g>\n",
       "<!-- 121674530320 -->\n",
       "<g class=\"node\" id=\"node7\">\n",
       "<title>121674530320</title>\n",
       "<polygon fill=\"none\" points=\"37.7241,-219.5 37.7241,-255.5 163.7554,-255.5 163.7554,-219.5 37.7241,-219.5\" stroke=\"#000000\"/>\n",
       "<text fill=\"#000000\" font-family=\"Times,serif\" font-size=\"14.00\" text-anchor=\"middle\" x=\"100.7397\" y=\"-233.3\">HIDDEN_2: Dense</text>\n",
       "</g>\n",
       "<!-- 121675923296&#45;&gt;121674530320 -->\n",
       "<g class=\"edge\" id=\"edge5\">\n",
       "<title>121675923296-&gt;121674530320</title>\n",
       "<path d=\"M100.7397,-292.4551C100.7397,-284.3828 100.7397,-274.6764 100.7397,-265.6817\" fill=\"none\" stroke=\"#000000\"/>\n",
       "<polygon fill=\"#000000\" points=\"104.2398,-265.5903 100.7397,-255.5904 97.2398,-265.5904 104.2398,-265.5903\" stroke=\"#000000\"/>\n",
       "</g>\n",
       "<!-- 121675608472 -->\n",
       "<g class=\"node\" id=\"node6\">\n",
       "<title>121675608472</title>\n",
       "<polygon fill=\"none\" points=\"214.0142,-292.5 214.0142,-328.5 349.4653,-328.5 349.4653,-292.5 214.0142,-292.5\" stroke=\"#000000\"/>\n",
       "<text fill=\"#000000\" font-family=\"Times,serif\" font-size=\"14.00\" text-anchor=\"middle\" x=\"281.7397\" y=\"-306.3\">EFFECT: InputLayer</text>\n",
       "</g>\n",
       "<!-- 121675582880 -->\n",
       "<g class=\"node\" id=\"node8\">\n",
       "<title>121675582880</title>\n",
       "<polygon fill=\"none\" points=\"181.3931,-219.5 181.3931,-255.5 382.0864,-255.5 382.0864,-219.5 181.3931,-219.5\" stroke=\"#000000\"/>\n",
       "<text fill=\"#000000\" font-family=\"Times,serif\" font-size=\"14.00\" text-anchor=\"middle\" x=\"281.7397\" y=\"-233.3\">EW_EMBEDDING: Embedding</text>\n",
       "</g>\n",
       "<!-- 121675608472&#45;&gt;121675582880 -->\n",
       "<g class=\"edge\" id=\"edge6\">\n",
       "<title>121675608472-&gt;121675582880</title>\n",
       "<path d=\"M281.7397,-292.4551C281.7397,-284.3828 281.7397,-274.6764 281.7397,-265.6817\" fill=\"none\" stroke=\"#000000\"/>\n",
       "<polygon fill=\"#000000\" points=\"285.2398,-265.5903 281.7397,-255.5904 278.2398,-265.5904 285.2398,-265.5903\" stroke=\"#000000\"/>\n",
       "</g>\n",
       "<!-- 121675608528 -->\n",
       "<g class=\"node\" id=\"node9\">\n",
       "<title>121675608528</title>\n",
       "<polygon fill=\"none\" points=\"37.6553,-146.5 37.6553,-182.5 187.8242,-182.5 187.8242,-146.5 37.6553,-146.5\" stroke=\"#000000\"/>\n",
       "<text fill=\"#000000\" font-family=\"Times,serif\" font-size=\"14.00\" text-anchor=\"middle\" x=\"112.7397\" y=\"-160.3\">DROPOUT_2: Dropout</text>\n",
       "</g>\n",
       "<!-- 121674530320&#45;&gt;121675608528 -->\n",
       "<g class=\"edge\" id=\"edge7\">\n",
       "<title>121674530320-&gt;121675608528</title>\n",
       "<path d=\"M103.706,-219.4551C105.033,-211.3828 106.6286,-201.6764 108.1071,-192.6817\" fill=\"none\" stroke=\"#000000\"/>\n",
       "<polygon fill=\"#000000\" points=\"111.5975,-193.0257 109.766,-182.5904 104.6902,-191.8902 111.5975,-193.0257\" stroke=\"#000000\"/>\n",
       "</g>\n",
       "<!-- 121675579800 -->\n",
       "<g class=\"node\" id=\"node10\">\n",
       "<title>121675579800</title>\n",
       "<polygon fill=\"none\" points=\"211.5552,-146.5 211.5552,-182.5 339.9243,-182.5 339.9243,-146.5 211.5552,-146.5\" stroke=\"#000000\"/>\n",
       "<text fill=\"#000000\" font-family=\"Times,serif\" font-size=\"14.00\" text-anchor=\"middle\" x=\"275.7397\" y=\"-160.3\">EW_SUM: Lambda</text>\n",
       "</g>\n",
       "<!-- 121675582880&#45;&gt;121675579800 -->\n",
       "<g class=\"edge\" id=\"edge8\">\n",
       "<title>121675582880-&gt;121675579800</title>\n",
       "<path d=\"M280.2566,-219.4551C279.5931,-211.3828 278.7953,-201.6764 278.0561,-192.6817\" fill=\"none\" stroke=\"#000000\"/>\n",
       "<polygon fill=\"#000000\" points=\"281.5341,-192.27 277.2266,-182.5904 274.5576,-192.8435 281.5341,-192.27\" stroke=\"#000000\"/>\n",
       "</g>\n",
       "<!-- 121675595336 -->\n",
       "<g class=\"node\" id=\"node11\">\n",
       "<title>121675595336</title>\n",
       "<polygon fill=\"none\" points=\"128.1001,-73.5 128.1001,-109.5 253.3794,-109.5 253.3794,-73.5 128.1001,-73.5\" stroke=\"#000000\"/>\n",
       "<text fill=\"#000000\" font-family=\"Times,serif\" font-size=\"14.00\" text-anchor=\"middle\" x=\"190.7397\" y=\"-87.3\">REASONING: Dot</text>\n",
       "</g>\n",
       "<!-- 121675608528&#45;&gt;121675595336 -->\n",
       "<g class=\"edge\" id=\"edge9\">\n",
       "<title>121675608528-&gt;121675595336</title>\n",
       "<path d=\"M132.0206,-146.4551C141.677,-137.4177 153.5221,-126.3319 164.0382,-116.4899\" fill=\"none\" stroke=\"#000000\"/>\n",
       "<polygon fill=\"#000000\" points=\"166.5007,-118.979 171.4103,-109.5904 161.7175,-113.8681 166.5007,-118.979\" stroke=\"#000000\"/>\n",
       "</g>\n",
       "<!-- 121675579800&#45;&gt;121675595336 -->\n",
       "<g class=\"edge\" id=\"edge10\">\n",
       "<title>121675579800-&gt;121675595336</title>\n",
       "<path d=\"M254.7285,-146.4551C244.1034,-137.3299 231.0466,-126.1165 219.5042,-116.2036\" fill=\"none\" stroke=\"#000000\"/>\n",
       "<polygon fill=\"#000000\" points=\"221.6705,-113.4505 211.8039,-109.5904 217.1098,-118.7609 221.6705,-113.4505\" stroke=\"#000000\"/>\n",
       "</g>\n",
       "<!-- 121675595112 -->\n",
       "<g class=\"node\" id=\"node12\">\n",
       "<title>121675595112</title>\n",
       "<polygon fill=\"none\" points=\"134.29,-.5 134.29,-36.5 247.1895,-36.5 247.1895,-.5 134.29,-.5\" stroke=\"#000000\"/>\n",
       "<text fill=\"#000000\" font-family=\"Times,serif\" font-size=\"14.00\" text-anchor=\"middle\" x=\"190.7397\" y=\"-14.3\">OUTPUT: Dense</text>\n",
       "</g>\n",
       "<!-- 121675595336&#45;&gt;121675595112 -->\n",
       "<g class=\"edge\" id=\"edge11\">\n",
       "<title>121675595336-&gt;121675595112</title>\n",
       "<path d=\"M190.7397,-73.4551C190.7397,-65.3828 190.7397,-55.6764 190.7397,-46.6817\" fill=\"none\" stroke=\"#000000\"/>\n",
       "<polygon fill=\"#000000\" points=\"194.2398,-46.5903 190.7397,-36.5904 187.2398,-46.5904 194.2398,-46.5903\" stroke=\"#000000\"/>\n",
       "</g>\n",
       "</g>\n",
       "</svg>"
      ],
      "text/plain": [
       "<IPython.core.display.SVG object>"
      ]
     },
     "execution_count": 41,
     "metadata": {},
     "output_type": "execute_result"
    }
   ],
   "source": [
    "NCRM = ncrm(glove=True, tune=False, num_layer=2, hidden_size=300, hidden_activation='relu', dropout_rate=0.2, seed=42, output_activation=None, loss='mse', optimizer='adam')\n",
    "NCRM.summary()\n",
    "SVG(model_to_dot(NCRM).create(prog='dot', format='svg'))"
   ]
  },
  {
   "cell_type": "markdown",
   "metadata": {},
   "source": [
    "# Train"
   ]
  },
  {
   "cell_type": "code",
   "execution_count": 128,
   "metadata": {},
   "outputs": [
    {
     "name": "stdout",
     "output_type": "stream",
     "text": [
      "——————Hyperparameter Configuration——————\n",
      "----------------------------------------\n",
      "Using GLove Embedding: \t\tTrue\n",
      "Tuning Embedding: \t\tFalse\n",
      "Number of Dense Layers: \t3\n",
      "Hidden Layer Size: \t\t300\n",
      "Hidden Layer Activation: \trelu\n",
      "Dropout Rate: \t\t\t0.2\n",
      "Random Seed: \t\t\t42\n",
      "Output Layer Activation: \tNone\n",
      "Loss Function: \t\t\tmse\n",
      "Optimize Method: \t\tadam\n"
     ]
    }
   ],
   "source": [
    "PC = ('True-False-3-300-relu-0.2-42-None-mse-adam')\n",
    "\n",
    "GLOVE = True if PC.split('-')[0] == 'True' else False\n",
    "TUNE = True if PC.split('-')[1] == 'True' else False\n",
    "NUM_LAYERS = int(PC.split('-')[2])\n",
    "HIDDEN_SIZE = int(PC.split('-')[3])\n",
    "HIDDEN_ACTIVATION = PC.split('-')[4]\n",
    "DROPOUT_RATE = float(PC.split('-')[5])\n",
    "SEED = int(PC.split('-')[6])\n",
    "OUTPUT_ACTIVATION = None if PC.split('-')[7] == 'None' else PC.split('-')[7]\n",
    "LOSS = PC.split('-')[8]\n",
    "OPTIMIZER = PC.split('-')[9]\n",
    "\n",
    "print(\"——————Hyperparameter Configuration——————\")\n",
    "print(\"----------------------------------------\")\n",
    "print(\"Using GLove Embedding: \\t\\t%s\" % GLOVE)\n",
    "if GLOVE == True:\n",
    "    print(\"Tuning Embedding: \\t\\t%s\" % TUNE)\n",
    "print(\"Number of Dense Layers: \\t%d\" % NUM_LAYERS)\n",
    "print(\"Hidden Layer Size: \\t\\t%d\" % HIDDEN_SIZE)\n",
    "print(\"Hidden Layer Activation: \\t%s\" % HIDDEN_ACTIVATION)\n",
    "print(\"Dropout Rate: \\t\\t\\t%.1f\" % DROPOUT_RATE)\n",
    "print(\"Random Seed: \\t\\t\\t%d\" % SEED)\n",
    "print(\"Output Layer Activation: \\t%s\" % OUTPUT_ACTIVATION)\n",
    "print(\"Loss Function: \\t\\t\\t%s\" % LOSS)\n",
    "print(\"Optimize Method: \\t\\t%s\" % OPTIMIZER)"
   ]
  },
  {
   "cell_type": "code",
   "execution_count": 129,
   "metadata": {},
   "outputs": [],
   "source": [
    "filepath = '/Users/lizhn7/Downloads/EXPERIMENT/COPA/FINAL/CausalNet/zTrain/cp_logs/relu+none/weights.{epoch:03d}-{loss:.6f}.hdf5'\n",
    "checkpoint = ModelCheckpoint(filepath, monitor='val_loss', verbose=1, save_best_only=True, mode='min')\n",
    "log_string = '/Users/lizhn7/Downloads/EXPERIMENT/COPA/FINAL/CausalNet/zTrain/tb_logs/relu+none'\n",
    "tensorboard = TensorBoard(log_dir=log_string)\n",
    "callbacks_list = [checkpoint, tensorboard]"
   ]
  },
  {
   "cell_type": "code",
   "execution_count": 133,
   "metadata": {},
   "outputs": [],
   "source": [
    "NCRM = ncrm(glove=GLOVE,\n",
    "            tune=TUNE,\n",
    "            num_layer=NUM_LAYERS, \n",
    "            hidden_size=HIDDEN_SIZE, \n",
    "            hidden_activation=HIDDEN_ACTIVATION, \n",
    "            dropout_rate=DROPOUT_RATE, \n",
    "            seed=SEED, \n",
    "            output_activation=OUTPUT_ACTIVATION, \n",
    "            loss=LOSS, \n",
    "            optimizer=OPTIMIZER)"
   ]
  },
  {
   "cell_type": "code",
   "execution_count": 134,
   "metadata": {},
   "outputs": [],
   "source": [
    "BATCH_SIZE = 1024\n",
    "NUM_EPOCHS = 64"
   ]
  },
  {
   "cell_type": "code",
   "execution_count": null,
   "metadata": {},
   "outputs": [],
   "source": [
    "history = NCRM.fit([xc, xe],\n",
    "                   s,\n",
    "                   batch_size=BATCH_SIZE,\n",
    "                   epochs=NUM_EPOCHS,\n",
    "                   verbose=1,\n",
    "                   callbacks=callbacks_list,\n",
    "                   shuffle=True)"
   ]
  },
  {
   "cell_type": "markdown",
   "metadata": {},
   "source": [
    "# Predict"
   ]
  },
  {
   "cell_type": "code",
   "execution_count": null,
   "metadata": {},
   "outputs": [],
   "source": [
    "import pickle"
   ]
  },
  {
   "cell_type": "code",
   "execution_count": 140,
   "metadata": {},
   "outputs": [],
   "source": [
    "with open('/Users/lizhn7/Downloads/EXPERIMENT/COPA/FINAL/CausalNet/copa.pkl', 'rb') as fp:\n",
    "    _, _, _, _, devcp1, devcp2, devLabel, testcp1, testcp2, testLabel = pickle.load(fp)\n",
    "    \n",
    "with open('/Users/lizhn7/Downloads/EXPERIMENT/COPA/FINAL/CausalNet/index.pkl', 'rb') as fp:\n",
    "    word2index, index2word = pickle.load(fp)"
   ]
  },
  {
   "cell_type": "code",
   "execution_count": null,
   "metadata": {},
   "outputs": [],
   "source": [
    "NUM_LAYERS = 2\n",
    "HIDDEN_SIZE = 300\n",
    "HIDDEN_ACTIVATION = 'selu'\n",
    "DROPOUT_RATE = 0.2\n",
    "SEED = 42\n",
    "OUTPUT_ACTIVATION = 'sigmoid'\n",
    "LOSS = 'mse'\n",
    "OPTIMIZER = 'adam'"
   ]
  },
  {
   "cell_type": "code",
   "execution_count": null,
   "metadata": {},
   "outputs": [],
   "source": [
    "NCRM = ncrm(num_layer=NUM_LAYERS, \n",
    "            hidden_size=HIDDEN_SIZE, \n",
    "            hidden_activation=HIDDEN_ACTIVATION, \n",
    "            dropout_rate=DROPOUT_RATE, \n",
    "            seed=SEED, \n",
    "            output_activation=OUTPUT_ACTIVATION, \n",
    "            loss=LOSS, \n",
    "            optimizer=OPTIMIZER)"
   ]
  },
  {
   "cell_type": "code",
   "execution_count": null,
   "metadata": {},
   "outputs": [],
   "source": [
    "filename = '/Users/lizhn7/Downloads/EXPERIMENT/COPA/FINAL/CausalNet/train/cp_logs/600+3/weights.141-0.611091.hdf5'\n",
    "NCRM.load_weights(filename)"
   ]
  },
  {
   "cell_type": "code",
   "execution_count": null,
   "metadata": {},
   "outputs": [],
   "source": [
    "def CPMI(pairs, length=None, sp_score=False):\n",
    "    \"\"\"\n",
    "    Compute causal-PMI score\n",
    "    \"\"\"\n",
    "    score = []\n",
    "    if length == None:\n",
    "        length = len(pairs)\n",
    "    for p in pairs:\n",
    "        c = np.array([word2index[p[0]]])\n",
    "        e = np.array([word2index[p[1]]])\n",
    "        CS = NCRM.predict([c, e])[0][0]\n",
    "        score.append(CS)\n",
    "    if not sp_score:\n",
    "        try:\n",
    "            return sum(score) / length\n",
    "        except:\n",
    "            return 0\n",
    "    else:\n",
    "        return score\n",
    "\n",
    "def accuracy(a1, a2, actu, length_mode=2016, show=True):\n",
    "    \"\"\"\n",
    "    Calculate Accuracy\n",
    "    \"\"\"\n",
    "    if length_mode == 2016:\n",
    "        l1 = [len(set([i[0] for i in a1[n]]+[i[-1] for i in a1[n]])) for n in range(500)]\n",
    "        l2 = [len(set([i[0] for i in a2[n]]+[i[-1] for i in a2[n]])) for n in range(500)]\n",
    "        A1 = [CPMI(a1[i], length=l1[i]) for i in range(500)]\n",
    "        A2 = [CPMI(a2[i], length=l2[i]) for i in range(500)]\n",
    "    elif length_mode == 2017:\n",
    "        A1 = [CPMI(p) for p in a1]\n",
    "        A2 = [CPMI(p) for p in a2]\n",
    "    pred = []\n",
    "    for i in range(500):\n",
    "        if A1[i] >= A2[i]:\n",
    "            pred.append(1)\n",
    "        elif A1[i] < A2[i]:\n",
    "            pred.append(2)\n",
    "        else:\n",
    "            pred.append(0)\n",
    "    S = sum([1 for i in range(len(pred)) if pred[i] == actu[i]])\n",
    "    ACC = S / len(actu)\n",
    "    print('Accuracy: \\t%.9f' % (ACC))\n",
    "    if show:\n",
    "        error = []\n",
    "        l1 = [len(set([i[0] for i in a1[n]]))+len(set([i[-1] for i in a1[n]])) for n in range(500)]\n",
    "        l2 = [len(set([i[0] for i in a2[n]]))+len(set([i[-1] for i in a2[n]])) for n in range(500)]\n",
    "        for i in range(500):\n",
    "            s1 = []\n",
    "            s2 = []\n",
    "            print('————————————————————————————————————')\n",
    "            print(str(i+1)+':')\n",
    "            for p in a1[i]:\n",
    "                print(p[0], p[1], CPMI([p], sp_score=True)[0])\n",
    "                s1.append(CPMI([p], sp_score=True))\n",
    "            print('------------------')\n",
    "            for p in a2[i]:\n",
    "                print(p[0], p[1], CPMI([p], sp_score=True)[0])\n",
    "                s2.append(CPMI([p], sp_score=True))\n",
    "            if length_mode == 2016:\n",
    "                try:\n",
    "                    S1 = sum(sum(s1, []))/l1[i]\n",
    "                except:\n",
    "                    S1 = 0\n",
    "                try:\n",
    "                    S2 = sum(sum(s2, []))/l2[i]\n",
    "                except:\n",
    "                    S2 = 0\n",
    "            elif length_mode == 2017:\n",
    "                S1 = sum(sum(s1, []))/len(a1[i])\n",
    "                S2 = sum(sum(s2, []))/len(a2[i])\n",
    "            print('S1:------'+str(S1))\n",
    "            print('S2:------'+str(S2))\n",
    "            if S1 >= S2:\n",
    "                pre = '1'\n",
    "            elif S1 < S2:\n",
    "                pre = '2'\n",
    "            else:\n",
    "                pre = '0'\n",
    "            print('Predict Answer: '+pre)\n",
    "            print('Correct Answer: '+str(actu[i]))\n",
    "            if pre != str(actu[i]):\n",
    "                error.append(i+1)\n",
    "        return pred, error\n",
    "    else:\n",
    "        return pred"
   ]
  },
  {
   "cell_type": "code",
   "execution_count": null,
   "metadata": {},
   "outputs": [],
   "source": [
    "p, e = accuracy(devcp1, devcp2, devLabel, length_mode=2017)"
   ]
  },
  {
   "cell_type": "code",
   "execution_count": null,
   "metadata": {},
   "outputs": [],
   "source": [
    "p, e = accuracy(testcp1, testcp2, testLabel, length_mode=2017)"
   ]
  }
 ],
 "metadata": {
  "kernelspec": {
   "display_name": "Python 3",
   "language": "python",
   "name": "python3"
  },
  "language_info": {
   "codemirror_mode": {
    "name": "ipython",
    "version": 3
   },
   "file_extension": ".py",
   "mimetype": "text/x-python",
   "name": "python",
   "nbconvert_exporter": "python",
   "pygments_lexer": "ipython3",
   "version": "3.6.2"
  },
  "toc": {
   "colors": {
    "hover_highlight": "#DAA520",
    "navigate_num": "#000000",
    "navigate_text": "#333333",
    "running_highlight": "#FF0000",
    "selected_highlight": "#FFD700",
    "sidebar_border": "#EEEEEE",
    "wrapper_background": "#FFFFFF"
   },
   "moveMenuLeft": true,
   "nav_menu": {
    "height": "120px",
    "width": "252px"
   },
   "navigate_menu": true,
   "number_sections": false,
   "sideBar": true,
   "threshold": 4,
   "toc_cell": true,
   "toc_section_display": "block",
   "toc_window_display": false,
   "widenNotebook": false
  }
 },
 "nbformat": 4,
 "nbformat_minor": 2
}
