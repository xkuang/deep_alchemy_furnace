{
 "cells": [
  {
   "cell_type": "markdown",
   "metadata": {
    "toc": "true"
   },
   "source": [
    "# Table of Contents\n",
    " <p><div class=\"lev1 toc-item\"><a href=\"#Load-Data\" data-toc-modified-id=\"Load-Data-1\"><span class=\"toc-item-num\">1&nbsp;&nbsp;</span>Load Data</a></div><div class=\"lev1 toc-item\"><a href=\"#Build-Model\" data-toc-modified-id=\"Build-Model-2\"><span class=\"toc-item-num\">2&nbsp;&nbsp;</span>Build Model</a></div><div class=\"lev2 toc-item\"><a href=\"#Set-Hyperparameters\" data-toc-modified-id=\"Set-Hyperparameters-21\"><span class=\"toc-item-num\">2.1&nbsp;&nbsp;</span>Set Hyperparameters</a></div><div class=\"lev2 toc-item\"><a href=\"#Import-Libraries\" data-toc-modified-id=\"Import-Libraries-22\"><span class=\"toc-item-num\">2.2&nbsp;&nbsp;</span>Import Libraries</a></div><div class=\"lev2 toc-item\"><a href=\"#Build-Graph\" data-toc-modified-id=\"Build-Graph-23\"><span class=\"toc-item-num\">2.3&nbsp;&nbsp;</span>Build Graph</a></div><div class=\"lev1 toc-item\"><a href=\"#Train\" data-toc-modified-id=\"Train-3\"><span class=\"toc-item-num\">3&nbsp;&nbsp;</span>Train</a></div>"
   ]
  },
  {
   "cell_type": "markdown",
   "metadata": {},
   "source": [
    "# Load Data"
   ]
  },
  {
   "cell_type": "code",
   "execution_count": 1,
   "metadata": {
    "collapsed": true
   },
   "outputs": [],
   "source": [
    "import h5py\n",
    "import pickle"
   ]
  },
  {
   "cell_type": "code",
   "execution_count": 2,
   "metadata": {
    "collapsed": true
   },
   "outputs": [],
   "source": [
    "with h5py.File('/Users/lizhn7/Downloads/EXPERIMENT/COPA/LM/data/x.h5', 'r') as fh:\n",
    "    x = fh['x'][:]\n",
    "\n",
    "with h5py.File('/Users/lizhn7/Downloads/EXPERIMENT/COPA/LM/data/y.h5', 'r') as fh:\n",
    "    y = fh['y'][:]\n",
    "\n",
    "with h5py.File('/Users/lizhn7/Downloads/EXPERIMENT/COPA/LM/data/embedding.h5', 'r') as fh:\n",
    "    embedding = fh['embedding'][:]\n",
    "    \n",
    "with open('/Users/lizhn7/Downloads/EXPERIMENT/COPA/LM/data/index.pkl', 'rb') as fp:\n",
    "    word2index, index2word, glove_index2index = pickle.load(fp)"
   ]
  },
  {
   "cell_type": "markdown",
   "metadata": {},
   "source": [
    "# Build Model"
   ]
  },
  {
   "cell_type": "markdown",
   "metadata": {},
   "source": [
    "## Set Hyperparameters"
   ]
  },
  {
   "cell_type": "code",
   "execution_count": 38,
   "metadata": {
    "collapsed": true
   },
   "outputs": [],
   "source": [
    "NUM_GRAMS = 25\n",
    "NUM_UNK_WORDS = 5\n",
    "VOCAB_SIZE = 20000\n",
    "EMBEDDING_DIM = 200\n",
    "BATCH_SIZE = 1024\n",
    "NUM_EPOCHS = 2\n",
    "RNN_SIZE = 1024"
   ]
  },
  {
   "cell_type": "markdown",
   "metadata": {},
   "source": [
    "## Import Libraries"
   ]
  },
  {
   "cell_type": "code",
   "execution_count": 3,
   "metadata": {},
   "outputs": [
    {
     "name": "stderr",
     "output_type": "stream",
     "text": [
      "Using TensorFlow backend.\n"
     ]
    }
   ],
   "source": [
    "from keras.layers import Input, Embedding, LSTM, Dense, Dropout\n",
    "from keras.models import Model\n",
    "import keras.backend as K\n",
    "from keras.callbacks import*\n",
    "import numpy as np\n",
    "from IPython.display import SVG\n",
    "from keras.utils.vis_utils import model_to_dot\n",
    "import matplotlib.pyplot as plt\n",
    "%matplotlib inline\n",
    "%config InlineBackend.figure_format = 'retina'"
   ]
  },
  {
   "cell_type": "markdown",
   "metadata": {},
   "source": [
    "## Build Graph"
   ]
  },
  {
   "cell_type": "code",
   "execution_count": 33,
   "metadata": {},
   "outputs": [],
   "source": [
    "K.clear_session()\n",
    "# Encoder\n",
    "inputs = Input(shape=(None,), name='EN_INPUT', dtype='int64')\n",
    "emb_seq = Embedding(VOCAB_SIZE, \n",
    "                    EMBEDDING_DIM, \n",
    "                    weights=[embedding], \n",
    "                    mask_zero=True, \n",
    "                    trainable=False, \n",
    "                    name='EN_EMBEDDING')(inputs)\n",
    "lstm = LSTM(RNN_SIZE, return_sequences=False, implementation=0, name='EN_LSTM')(emb_seq)\n",
    "encoder = Model(inputs=inputs, outputs=lstm)\n",
    "\n",
    "# Language Model\n",
    "input_grams = Input(shape=(NUM_GRAMS,), name='LM_INPUT', dtype='int64')\n",
    "encoded_grams = encoder(input_grams)\n",
    "outputs = Dense(VOCAB_SIZE, activation='softmax', name='LM_OUTPUT')(encoded_grams)\n",
    "lm = Model(inputs=input_grams, outputs=outputs)\n",
    "lm.compile(loss='sparse_categorical_crossentropy', optimizer='adam')"
   ]
  },
  {
   "cell_type": "code",
   "execution_count": 20,
   "metadata": {},
   "outputs": [
    {
     "name": "stdout",
     "output_type": "stream",
     "text": [
      "_________________________________________________________________\n",
      "Layer (type)                 Output Shape              Param #   \n",
      "=================================================================\n",
      "EN_INPUT (InputLayer)        (None, None)              0         \n",
      "_________________________________________________________________\n",
      "EN_EMBEDDING (Embedding)     (None, None, 200)         4000000   \n",
      "_________________________________________________________________\n",
      "EN_LSTM (LSTM)               (None, 1024)              5017600   \n",
      "=================================================================\n",
      "Total params: 9,017,600\n",
      "Trainable params: 5,017,600\n",
      "Non-trainable params: 4,000,000\n",
      "_________________________________________________________________\n"
     ]
    },
    {
     "data": {
      "image/svg+xml": [
       "<svg height=\"191pt\" viewBox=\"0.00 0.00 205.59 191.00\" width=\"206pt\" xmlns=\"http://www.w3.org/2000/svg\" xmlns:xlink=\"http://www.w3.org/1999/xlink\">\n",
       "<g class=\"graph\" id=\"graph0\" transform=\"scale(1 1) rotate(0) translate(4 187)\">\n",
       "<title>G</title>\n",
       "<polygon fill=\"#ffffff\" points=\"-4,4 -4,-187 201.5898,-187 201.5898,4 -4,4\" stroke=\"transparent\"/>\n",
       "<!-- 27958464752 -->\n",
       "<g class=\"node\" id=\"node1\">\n",
       "<title>27958464752</title>\n",
       "<polygon fill=\"none\" points=\"22.9106,-146.5 22.9106,-182.5 174.6792,-182.5 174.6792,-146.5 22.9106,-146.5\" stroke=\"#000000\"/>\n",
       "<text fill=\"#000000\" font-family=\"Times,serif\" font-size=\"14.00\" text-anchor=\"middle\" x=\"98.7949\" y=\"-160.3\">EN_INPUT: InputLayer</text>\n",
       "</g>\n",
       "<!-- 27537038808 -->\n",
       "<g class=\"node\" id=\"node2\">\n",
       "<title>27537038808</title>\n",
       "<polygon fill=\"none\" points=\"0,-73.5 0,-109.5 197.5898,-109.5 197.5898,-73.5 0,-73.5\" stroke=\"#000000\"/>\n",
       "<text fill=\"#000000\" font-family=\"Times,serif\" font-size=\"14.00\" text-anchor=\"middle\" x=\"98.7949\" y=\"-87.3\">EN_EMBEDDING: Embedding</text>\n",
       "</g>\n",
       "<!-- 27958464752&#45;&gt;27537038808 -->\n",
       "<g class=\"edge\" id=\"edge1\">\n",
       "<title>27958464752-&gt;27537038808</title>\n",
       "<path d=\"M98.7949,-146.4551C98.7949,-138.3828 98.7949,-128.6764 98.7949,-119.6817\" fill=\"none\" stroke=\"#000000\"/>\n",
       "<polygon fill=\"#000000\" points=\"102.295,-119.5903 98.7949,-109.5904 95.295,-119.5904 102.295,-119.5903\" stroke=\"#000000\"/>\n",
       "</g>\n",
       "<!-- 27537096832 -->\n",
       "<g class=\"node\" id=\"node3\">\n",
       "<title>27537096832</title>\n",
       "<polygon fill=\"none\" points=\"36.9312,-.5 36.9312,-36.5 160.6587,-36.5 160.6587,-.5 36.9312,-.5\" stroke=\"#000000\"/>\n",
       "<text fill=\"#000000\" font-family=\"Times,serif\" font-size=\"14.00\" text-anchor=\"middle\" x=\"98.7949\" y=\"-14.3\">EN_LSTM: LSTM</text>\n",
       "</g>\n",
       "<!-- 27537038808&#45;&gt;27537096832 -->\n",
       "<g class=\"edge\" id=\"edge2\">\n",
       "<title>27537038808-&gt;27537096832</title>\n",
       "<path d=\"M98.7949,-73.4551C98.7949,-65.3828 98.7949,-55.6764 98.7949,-46.6817\" fill=\"none\" stroke=\"#000000\"/>\n",
       "<polygon fill=\"#000000\" points=\"102.295,-46.5903 98.7949,-36.5904 95.295,-46.5904 102.295,-46.5903\" stroke=\"#000000\"/>\n",
       "</g>\n",
       "</g>\n",
       "</svg>"
      ],
      "text/plain": [
       "<IPython.core.display.SVG object>"
      ]
     },
     "execution_count": 20,
     "metadata": {},
     "output_type": "execute_result"
    }
   ],
   "source": [
    "encoder.summary()\n",
    "SVG(model_to_dot(encoder).create(prog='dot', format='svg'))"
   ]
  },
  {
   "cell_type": "code",
   "execution_count": 21,
   "metadata": {},
   "outputs": [
    {
     "name": "stdout",
     "output_type": "stream",
     "text": [
      "_________________________________________________________________\n",
      "Layer (type)                 Output Shape              Param #   \n",
      "=================================================================\n",
      "LM_INPUT (InputLayer)        (None, 25)                0         \n",
      "_________________________________________________________________\n",
      "model_1 (Model)              (None, 1024)              9017600   \n",
      "_________________________________________________________________\n",
      "LM_OUTPUT (Dense)            (None, 20000)             20500000  \n",
      "=================================================================\n",
      "Total params: 29,517,600\n",
      "Trainable params: 25,517,600\n",
      "Non-trainable params: 4,000,000\n",
      "_________________________________________________________________\n"
     ]
    },
    {
     "data": {
      "image/svg+xml": [
       "<svg height=\"191pt\" viewBox=\"0.00 0.00 162.11 191.00\" width=\"162pt\" xmlns=\"http://www.w3.org/2000/svg\" xmlns:xlink=\"http://www.w3.org/1999/xlink\">\n",
       "<g class=\"graph\" id=\"graph0\" transform=\"scale(1 1) rotate(0) translate(4 187)\">\n",
       "<title>G</title>\n",
       "<polygon fill=\"#ffffff\" points=\"-4,4 -4,-187 158.1064,-187 158.1064,4 -4,4\" stroke=\"transparent\"/>\n",
       "<!-- 27959264480 -->\n",
       "<g class=\"node\" id=\"node1\">\n",
       "<title>27959264480</title>\n",
       "<polygon fill=\"none\" points=\"0,-146.5 0,-182.5 154.1064,-182.5 154.1064,-146.5 0,-146.5\" stroke=\"#000000\"/>\n",
       "<text fill=\"#000000\" font-family=\"Times,serif\" font-size=\"14.00\" text-anchor=\"middle\" x=\"77.0532\" y=\"-160.3\">LM_INPUT: InputLayer</text>\n",
       "</g>\n",
       "<!-- 27959264648 -->\n",
       "<g class=\"node\" id=\"node2\">\n",
       "<title>27959264648</title>\n",
       "<polygon fill=\"none\" points=\"22.5859,-73.5 22.5859,-109.5 131.5205,-109.5 131.5205,-73.5 22.5859,-73.5\" stroke=\"#000000\"/>\n",
       "<text fill=\"#000000\" font-family=\"Times,serif\" font-size=\"14.00\" text-anchor=\"middle\" x=\"77.0532\" y=\"-87.3\">model_1: Model</text>\n",
       "</g>\n",
       "<!-- 27959264480&#45;&gt;27959264648 -->\n",
       "<g class=\"edge\" id=\"edge1\">\n",
       "<title>27959264480-&gt;27959264648</title>\n",
       "<path d=\"M77.0532,-146.4551C77.0532,-138.3828 77.0532,-128.6764 77.0532,-119.6817\" fill=\"none\" stroke=\"#000000\"/>\n",
       "<polygon fill=\"#000000\" points=\"80.5533,-119.5903 77.0532,-109.5904 73.5533,-119.5904 80.5533,-119.5903\" stroke=\"#000000\"/>\n",
       "</g>\n",
       "<!-- 27995519128 -->\n",
       "<g class=\"node\" id=\"node3\">\n",
       "<title>27995519128</title>\n",
       "<polygon fill=\"none\" points=\"6.6035,-.5 6.6035,-36.5 147.5029,-36.5 147.5029,-.5 6.6035,-.5\" stroke=\"#000000\"/>\n",
       "<text fill=\"#000000\" font-family=\"Times,serif\" font-size=\"14.00\" text-anchor=\"middle\" x=\"77.0532\" y=\"-14.3\">LM_OUTPUT: Dense</text>\n",
       "</g>\n",
       "<!-- 27959264648&#45;&gt;27995519128 -->\n",
       "<g class=\"edge\" id=\"edge2\">\n",
       "<title>27959264648-&gt;27995519128</title>\n",
       "<path d=\"M77.0532,-73.4551C77.0532,-65.3828 77.0532,-55.6764 77.0532,-46.6817\" fill=\"none\" stroke=\"#000000\"/>\n",
       "<polygon fill=\"#000000\" points=\"80.5533,-46.5903 77.0532,-36.5904 73.5533,-46.5904 80.5533,-46.5903\" stroke=\"#000000\"/>\n",
       "</g>\n",
       "</g>\n",
       "</svg>"
      ],
      "text/plain": [
       "<IPython.core.display.SVG object>"
      ]
     },
     "execution_count": 21,
     "metadata": {},
     "output_type": "execute_result"
    }
   ],
   "source": [
    "lm.summary()\n",
    "SVG(model_to_dot(lm).create(prog='dot', format='svg'))"
   ]
  },
  {
   "cell_type": "markdown",
   "metadata": {},
   "source": [
    "# Train"
   ]
  },
  {
   "cell_type": "code",
   "execution_count": 47,
   "metadata": {
    "collapsed": true
   },
   "outputs": [],
   "source": [
    "filepath = '/Users/lizhn7/Downloads/EXPERIMENT/COPA/LM/cp_logs/weights.{epoch:03d}-{loss:.6f}.hdf5'\n",
    "checkpoint = ModelCheckpoint(filepath, monitor='loss', verbose=1, save_best_only=True, mode='min')\n",
    "callbacks_list = [checkpoint]"
   ]
  },
  {
   "cell_type": "code",
   "execution_count": 49,
   "metadata": {
    "collapsed": true
   },
   "outputs": [],
   "source": [
    "def data_generator(data, label, batch_size): \n",
    "    \"\"\"\n",
    "    Yield batches \n",
    "    \"\"\"\n",
    "    index = np.arange(len(data))\n",
    "    np.random.shuffle(index)    \n",
    "    batches = [index[range(batch_size*i, min(len(data), batch_size*(i+1)))] for i in range(len(data)//batch_size)]\n",
    "    while True:\n",
    "        for i in batches:\n",
    "            x = data[i]\n",
    "            y = label[i]\n",
    "            yield (x, y)"
   ]
  },
  {
   "cell_type": "code",
   "execution_count": 54,
   "metadata": {
    "collapsed": true
   },
   "outputs": [],
   "source": [
    "gen_train = data_generator(x[:2048], y[:2048], BATCH_SIZE)"
   ]
  },
  {
   "cell_type": "code",
   "execution_count": 57,
   "metadata": {},
   "outputs": [
    {
     "name": "stdout",
     "output_type": "stream",
     "text": [
      "Epoch 1/2\n",
      "2/3 [===================>..........] - ETA: 30s - loss: 5.5828Epoch 00000: loss improved from 5.67688 to 5.61019, saving model to /Users/lizhn7/Downloads/EXPERIMENT/COPA/LM/cp_logs/weights.000-5.610188.hdf5\n",
      "3/3 [==============================] - 91s - loss: 5.6102     \n",
      "Epoch 2/2\n",
      "2/3 [===================>..........] - ETA: 31s - loss: 5.5886Epoch 00001: loss improved from 5.61019 to 5.57303, saving model to /Users/lizhn7/Downloads/EXPERIMENT/COPA/LM/cp_logs/weights.001-5.573034.hdf5\n",
      "3/3 [==============================] - 97s - loss: 5.5730     \n"
     ]
    }
   ],
   "source": [
    "history = lm.fit_generator(gen_train,\n",
    "                           steps_per_epoch=3,\n",
    "                           epochs=NUM_EPOCHS,\n",
    "                           callbacks=callbacks_list)"
   ]
  }
 ],
 "metadata": {
  "kernelspec": {
   "display_name": "Python 3",
   "language": "python",
   "name": "python3"
  },
  "language_info": {
   "codemirror_mode": {
    "name": "ipython",
    "version": 3
   },
   "file_extension": ".py",
   "mimetype": "text/x-python",
   "name": "python",
   "nbconvert_exporter": "python",
   "pygments_lexer": "ipython3",
   "version": "3.6.2"
  },
  "toc": {
   "colors": {
    "hover_highlight": "#DAA520",
    "navigate_num": "#000000",
    "navigate_text": "#333333",
    "running_highlight": "#FF0000",
    "selected_highlight": "#FFD700",
    "sidebar_border": "#EEEEEE",
    "wrapper_background": "#FFFFFF"
   },
   "moveMenuLeft": true,
   "nav_menu": {
    "height": "12px",
    "width": "252px"
   },
   "navigate_menu": true,
   "number_sections": true,
   "sideBar": true,
   "threshold": 4,
   "toc_cell": true,
   "toc_section_display": "block",
   "toc_window_display": false,
   "widenNotebook": false
  }
 },
 "nbformat": 4,
 "nbformat_minor": 2
}
