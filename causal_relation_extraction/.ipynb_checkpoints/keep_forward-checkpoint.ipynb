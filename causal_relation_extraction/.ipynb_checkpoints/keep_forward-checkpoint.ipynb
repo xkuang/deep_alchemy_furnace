{
 "cells": [
  {
   "cell_type": "markdown",
   "metadata": {
    "toc": "true"
   },
   "source": [
    "# Table of Contents\n",
    " <p><div class=\"lev1 toc-item\"><a href=\"#Load-Data\" data-toc-modified-id=\"Load-Data-1\"><span class=\"toc-item-num\">1&nbsp;&nbsp;</span>Load Data</a></div><div class=\"lev1 toc-item\"><a href=\"#Word-Segmentation\" data-toc-modified-id=\"Word-Segmentation-2\"><span class=\"toc-item-num\">2&nbsp;&nbsp;</span>Word Segmentation</a></div><div class=\"lev1 toc-item\"><a href=\"#Tokenize-Text\" data-toc-modified-id=\"Tokenize-Text-3\"><span class=\"toc-item-num\">3&nbsp;&nbsp;</span>Tokenize Text</a></div><div class=\"lev1 toc-item\"><a href=\"#Word-Embedding\" data-toc-modified-id=\"Word-Embedding-4\"><span class=\"toc-item-num\">4&nbsp;&nbsp;</span>Word Embedding</a></div><div class=\"lev2 toc-item\"><a href=\"#Read-Pretrained-Model\" data-toc-modified-id=\"Read-Pretrained-Model-41\"><span class=\"toc-item-num\">4.1&nbsp;&nbsp;</span>Read Pretrained Model</a></div><div class=\"lev2 toc-item\"><a href=\"#Use-Word2vec-to-Initialize-Embedding-Matrix\" data-toc-modified-id=\"Use-Word2vec-to-Initialize-Embedding-Matrix-42\"><span class=\"toc-item-num\">4.2&nbsp;&nbsp;</span>Use Word2vec to Initialize Embedding Matrix</a></div><div class=\"lev1 toc-item\"><a href=\"#Build-Dateset\" data-toc-modified-id=\"Build-Dateset-5\"><span class=\"toc-item-num\">5&nbsp;&nbsp;</span>Build Dateset</a></div><div class=\"lev1 toc-item\"><a href=\"#Build-Model\" data-toc-modified-id=\"Build-Model-6\"><span class=\"toc-item-num\">6&nbsp;&nbsp;</span>Build Model</a></div><div class=\"lev2 toc-item\"><a href=\"#Import-Libraries\" data-toc-modified-id=\"Import-Libraries-61\"><span class=\"toc-item-num\">6.1&nbsp;&nbsp;</span>Import Libraries</a></div><div class=\"lev2 toc-item\"><a href=\"#Model-Visualization\" data-toc-modified-id=\"Model-Visualization-62\"><span class=\"toc-item-num\">6.2&nbsp;&nbsp;</span>Model Visualization</a></div><div class=\"lev2 toc-item\"><a href=\"#Train\" data-toc-modified-id=\"Train-63\"><span class=\"toc-item-num\">6.3&nbsp;&nbsp;</span>Train</a></div><div class=\"lev1 toc-item\"><a href=\"#Evaluate\" data-toc-modified-id=\"Evaluate-7\"><span class=\"toc-item-num\">7&nbsp;&nbsp;</span>Evaluate</a></div>"
   ]
  },
  {
   "cell_type": "markdown",
   "metadata": {},
   "source": [
    "# Load Data"
   ]
  },
  {
   "cell_type": "code",
   "execution_count": 20,
   "metadata": {
    "collapsed": true
   },
   "outputs": [],
   "source": [
    "import json\n",
    "import os"
   ]
  },
  {
   "cell_type": "code",
   "execution_count": 21,
   "metadata": {
    "collapsed": true
   },
   "outputs": [],
   "source": [
    "def load_data(path, name):\n",
    "    \"\"\"\n",
    "    Load date from file\n",
    "    \"\"\"\n",
    "    data = []\n",
    "    input_file = os.path.join(path)\n",
    "    with open(input_file) as f:\n",
    "        lines = f.readlines()\n",
    "    for line in lines:\n",
    "        item = json.loads(line)\n",
    "        data.append(item[name])\n",
    "    return data"
   ]
  },
  {
   "cell_type": "code",
   "execution_count": 22,
   "metadata": {},
   "outputs": [],
   "source": [
    "sentence = load_data('done_data.json', 'sentence')\n",
    "label = load_data('done_data.json', 'label')"
   ]
  },
  {
   "cell_type": "code",
   "execution_count": 23,
   "metadata": {},
   "outputs": [
    {
     "data": {
      "text/plain": [
       "1696"
      ]
     },
     "execution_count": 23,
     "metadata": {},
     "output_type": "execute_result"
    }
   ],
   "source": [
    "len(sentence)"
   ]
  },
  {
   "cell_type": "markdown",
   "metadata": {},
   "source": [
    "# Word Segmentation"
   ]
  },
  {
   "cell_type": "code",
   "execution_count": 24,
   "metadata": {
    "collapsed": true
   },
   "outputs": [],
   "source": [
    "import jieba\n",
    "import re\n",
    "import matplotlib.pyplot as plt\n",
    "%matplotlib inline\n",
    "%config InlineBackend.figure_format = 'retina'"
   ]
  },
  {
   "cell_type": "code",
   "execution_count": 25,
   "metadata": {
    "collapsed": true
   },
   "outputs": [],
   "source": [
    "not_cuts = re.compile(u'([\\da-zA-Z\\.]+)|《(.*?)》|“(.{1,10})”')\n",
    "re_replace = re.compile(u'[^\\u4e00-\\u9fa50-9a-zA-Z\\%《》\\(\\)（）“”·\\.]')"
   ]
  },
  {
   "cell_type": "code",
   "execution_count": 26,
   "metadata": {
    "collapsed": true
   },
   "outputs": [],
   "source": [
    "#filename = \"stopwords.txt\"\n",
    "#stopWords = {w: None for w in open(filename).read().split()}"
   ]
  },
  {
   "cell_type": "code",
   "execution_count": 27,
   "metadata": {
    "collapsed": true
   },
   "outputs": [],
   "source": [
    "def newcut(s):\n",
    "    \"\"\"\n",
    "    Word Segmentation\n",
    "    \"\"\"\n",
    "    result = []\n",
    "    j = 0\n",
    "    s = re_replace.sub(' ', s)\n",
    "    \n",
    "    for i in not_cuts.finditer(s):\n",
    "        result.extend(jieba.lcut(s[j:i.start()], HMM=False))\n",
    "        if s[i.start()] in [u'《', u'“']:\n",
    "            result.extend([s[i.start()], s[i.start()+1:i.end()-1], s[i.end()-1]])\n",
    "        else:\n",
    "            result.append(s[i.start():i.end()])\n",
    "        j = i.end()\n",
    "    result.extend(jieba.lcut(s[j:], HMM=False))\n",
    "    return result\n",
    "\n",
    "def clean(s):\n",
    "    \"\"\"\n",
    "    Clean data\n",
    "    \"\"\"\n",
    "    for i in range(len(s)):\n",
    "        if s[i] == ' ':\n",
    "            s[i] = None\n",
    "        if s[i] == '(':\n",
    "            for j in range(i+1, len(s)):\n",
    "                if s[j] == ')':\n",
    "                    for k in range(i, j+1):\n",
    "                        s[k] = None\n",
    "        if s[i] == '（':\n",
    "            for j in range(i+1, len(s)):\n",
    "                if s[j] == '）':\n",
    "                    for k in range(i, j+1):\n",
    "                        s[k] = None\n",
    "        if s[i] == '《':\n",
    "            for j in range(i+1, len(s)):\n",
    "                if s[j] == '》':\n",
    "                    for k in range(i, j+1):\n",
    "                        s[k] = None\n",
    "        if s[i] == '%':\n",
    "            if s[i-1] != None:\n",
    "                s[i-1] = s[i-1]+'%'\n",
    "            s[i] = None   \n",
    "        if s[i] == '“' or s[i] == '”' or s[i] == '\"':\n",
    "            s[i] = None\n",
    "    return [i for i in s if i != None]\n",
    "\n",
    "def del_stop(ws):\n",
    "    \"\"\"\n",
    "    Delete stopwords\n",
    "    \"\"\"\n",
    "    return [i for i in [stopWords.get(i, i) for i in ws] if i != None]"
   ]
  },
  {
   "cell_type": "code",
   "execution_count": 28,
   "metadata": {},
   "outputs": [],
   "source": [
    "sentWords = [clean(newcut(s)) for s in sentence]"
   ]
  },
  {
   "cell_type": "code",
   "execution_count": 29,
   "metadata": {},
   "outputs": [
    {
     "data": {
      "text/plain": [
       "<matplotlib.text.Text at 0x11d4d15c0>"
      ]
     },
     "execution_count": 29,
     "metadata": {},
     "output_type": "execute_result"
    },
    {
     "data": {
      "image/png": "[encoded data removed]",
      "text/plain": [
       "<matplotlib.figure.Figure at 0x117808c88>"
      ]
     },
     "metadata": {
      "image/png": {
       "height": 277,
       "width": 406
      }
     },
     "output_type": "display_data"
    }
   ],
   "source": [
    "plt.hist([len(i) for i in sentWords], bins=32, normed=True);\n",
    "plt.xlabel('Sentence Length')\n",
    "plt.ylabel('Probability')\n",
    "plt.title('Histogram of Text Length')  "
   ]
  },
  {
   "cell_type": "code",
   "execution_count": 30,
   "metadata": {
    "scrolled": false
   },
   "outputs": [
    {
     "data": {
      "text/plain": [
       "101"
      ]
     },
     "execution_count": 30,
     "metadata": {},
     "output_type": "execute_result"
    }
   ],
   "source": [
    "len([' '.join(i) for i in sentWords if len(i)>128])"
   ]
  },
  {
   "cell_type": "code",
   "execution_count": 31,
   "metadata": {},
   "outputs": [
    {
     "data": {
      "text/plain": [
       "173"
      ]
     },
     "execution_count": 31,
     "metadata": {},
     "output_type": "execute_result"
    }
   ],
   "source": [
    "max([len(i) for i in sentWords])"
   ]
  },
  {
   "cell_type": "code",
   "execution_count": 32,
   "metadata": {},
   "outputs": [
    {
     "data": {
      "text/plain": [
       "16"
      ]
     },
     "execution_count": 32,
     "metadata": {},
     "output_type": "execute_result"
    }
   ],
   "source": [
    "min([len(i) for i in sentWords])"
   ]
  },
  {
   "cell_type": "code",
   "execution_count": 33,
   "metadata": {},
   "outputs": [
    {
     "data": {
      "text/plain": [
       "1696"
      ]
     },
     "execution_count": 33,
     "metadata": {},
     "output_type": "execute_result"
    }
   ],
   "source": [
    "len(sentWords)"
   ]
  },
  {
   "cell_type": "markdown",
   "metadata": {},
   "source": [
    "# Tokenize Text"
   ]
  },
  {
   "cell_type": "code",
   "execution_count": 34,
   "metadata": {},
   "outputs": [],
   "source": [
    "from keras.preprocessing.text import Tokenizer"
   ]
  },
  {
   "cell_type": "code",
   "execution_count": 35,
   "metadata": {
    "collapsed": true
   },
   "outputs": [],
   "source": [
    "MAX_LEN = 128"
   ]
  },
  {
   "cell_type": "code",
   "execution_count": 38,
   "metadata": {},
   "outputs": [
    {
     "name": "stdout",
     "output_type": "stream",
     "text": [
      "Found 14868 unique tokens.\n"
     ]
    }
   ],
   "source": [
    "tokWords = sentWords.copy()\n",
    "tokTexts = [' '.join(i) for i in tokWords]\n",
    "tokenizer = Tokenizer(filters='')\n",
    "tokenizer.fit_on_texts(tokTexts)\n",
    "word2index = tokenizer.word_index\n",
    "index2word = {i: w for w, i in word2index.items()}\n",
    "print('Found %s unique tokens.' % len(word2index))"
   ]
  },
  {
   "cell_type": "markdown",
   "metadata": {},
   "source": [
    "# Word Embedding"
   ]
  },
  {
   "cell_type": "code",
   "execution_count": 41,
   "metadata": {
    "collapsed": true
   },
   "outputs": [],
   "source": [
    "VOCAB_SIZE = len(index2word)+1\n",
    "EMBEDDING_SIZE = 256\n",
    "SEED = 42"
   ]
  },
  {
   "cell_type": "markdown",
   "metadata": {},
   "source": [
    "## Read Pretrained Model"
   ]
  },
  {
   "cell_type": "code",
   "execution_count": 55,
   "metadata": {
    "collapsed": true
   },
   "outputs": [],
   "source": [
    "import gensim\n",
    "import numpy as np"
   ]
  },
  {
   "cell_type": "code",
   "execution_count": 103,
   "metadata": {},
   "outputs": [
    {
     "data": {
      "text/plain": [
       "0.062499415"
      ]
     },
     "execution_count": 103,
     "metadata": {},
     "output_type": "execute_result"
    }
   ],
   "source": [
    "word2vec = gensim.models.Word2Vec.load('/Users/lizhn7/Downloads/DATA/word2vec/word2vec_wx')\n",
    "word2vec.init_sims(replace=True)\n",
    "w2v_embedding_weights = word2vec.wv.syn0\n",
    "w2v_embedding_weights.std()"
   ]
  },
  {
   "cell_type": "markdown",
   "metadata": {},
   "source": [
    "## Use Word2vec to Initialize Embedding Matrix "
   ]
  },
  {
   "cell_type": "code",
   "execution_count": 104,
   "metadata": {
    "collapsed": true
   },
   "outputs": [],
   "source": [
    "# Generate random embedding with same scale as glove\n",
    "np.random.seed(SEED)\n",
    "shape = (VOCAB_SIZE, EMBEDDING_SIZE)\n",
    "scale = w2v_embedding_weights.std() * np.sqrt(12) / 2 \n",
    "embedding = np.random.uniform(low=-scale, high=scale, size=shape)"
   ]
  },
  {
   "cell_type": "code",
   "execution_count": 117,
   "metadata": {},
   "outputs": [
    {
     "name": "stdout",
     "output_type": "stream",
     "text": [
      "11876-79.871% tokens in vocab found in word2vec and copied to embedding.\n"
     ]
    }
   ],
   "source": [
    "count = 0\n",
    "w2v_dict = word2vec.wv.index2word\n",
    "for i in range(1, VOCAB_SIZE):\n",
    "    w = index2word[i]\n",
    "    if w in w2v_dict:\n",
    "        g = word2vec[w]\n",
    "        embedding[i, :] = g\n",
    "        count += 1\n",
    "print('{num_tokens}-{per:.3f}% tokens in vocab found in word2vec and copied to embedding.'.format(num_tokens=count, per=count/float(VOCAB_SIZE)*100))"
   ]
  },
  {
   "cell_type": "markdown",
   "metadata": {},
   "source": [
    "# Build Dateset"
   ]
  },
  {
   "cell_type": "code",
   "execution_count": 118,
   "metadata": {
    "collapsed": true
   },
   "outputs": [],
   "source": [
    "from keras.preprocessing.sequence import pad_sequences\n",
    "from sklearn.model_selection import train_test_split"
   ]
  },
  {
   "cell_type": "code",
   "execution_count": 123,
   "metadata": {},
   "outputs": [
    {
     "data": {
      "text/plain": [
       "(1696, 1)"
      ]
     },
     "execution_count": 123,
     "metadata": {},
     "output_type": "execute_result"
    }
   ],
   "source": [
    "np.array([[i] for i in label]).shape"
   ]
  },
  {
   "cell_type": "code",
   "execution_count": 124,
   "metadata": {
    "collapsed": true
   },
   "outputs": [],
   "source": [
    "def convert_seq(ws, label):\n",
    "    \"\"\"\n",
    "    Pad words sequene to MAX_LEN and encode label to one-hot encoding\n",
    "    \"\"\"\n",
    "    sentText = [' '.join(i) for i in ws]\n",
    "    sentSeq = tokenizer.texts_to_sequences(sentText)\n",
    "    sentData = pad_sequences(sentSeq, maxlen=MAX_LEN, padding='post', truncating='post')\n",
    "    labelData = np.array([[i] for i in label])\n",
    "    return sentData, labelData "
   ]
  },
  {
   "cell_type": "code",
   "execution_count": 125,
   "metadata": {
    "collapsed": true
   },
   "outputs": [],
   "source": [
    "x, y = convert_seq(sentWords, label)"
   ]
  },
  {
   "cell_type": "code",
   "execution_count": 132,
   "metadata": {},
   "outputs": [],
   "source": [
    "xTrain, xVal, yTrain, yVal = train_test_split(x, y, test_size=0.3, random_state=SEED)"
   ]
  },
  {
   "cell_type": "markdown",
   "metadata": {},
   "source": [
    "# Build Model"
   ]
  },
  {
   "cell_type": "code",
   "execution_count": 149,
   "metadata": {
    "collapsed": true
   },
   "outputs": [],
   "source": [
    "#MAX_LEN = \n",
    "#VOCAB_SIZE = \n",
    "#EMBEDDING_SIZE = \n",
    "#RNN_SIZE = \n",
    "CNN_SIZE = 128\n",
    "WINDOW_SIZE = 3\n",
    "DROPOUT_RATE = 0.5\n",
    "#RNN_DROPOUT_RATE = \n",
    "NUM_EPOCHS = 128\n",
    "BATCH_SIZE = 32"
   ]
  },
  {
   "cell_type": "markdown",
   "metadata": {},
   "source": [
    "## Import Libraries"
   ]
  },
  {
   "cell_type": "code",
   "execution_count": 150,
   "metadata": {
    "collapsed": true
   },
   "outputs": [],
   "source": [
    "from keras.layers import Input, Embedding, Dropout, Bidirectional, LSTM, Reshape, concatenate, Conv1D, BatchNormalization, GlobalMaxPooling1D, Dense\n",
    "from keras.models import Model\n",
    "import keras.backend as K\n",
    "from keras.callbacks import*\n",
    "from IPython.display import SVG\n",
    "from keras.utils.vis_utils import model_to_dot\n",
    "import matplotlib.pyplot as plt\n",
    "%matplotlib inline\n",
    "%config InlineBackend.figure_format = 'retina'"
   ]
  },
  {
   "cell_type": "code",
   "execution_count": 151,
   "metadata": {
    "collapsed": true
   },
   "outputs": [],
   "source": [
    "K.clear_session()\n",
    "seq = Input(shape=(MAX_LEN,), name='INPUT') \n",
    "emb_seq = Embedding(VOCAB_SIZE, EMBEDDING_SIZE, weights=[embedding], mask_zero=False, input_length=MAX_LEN, trainable=True, name='EMBEDDING')(seq)\n",
    "emb_seq = Dropout(DROPOUT_RATE, name='DROPOUT_1')(emb_seq)\n",
    "#blstm = Bidirectional(LSTM(RNN_SIZE, return_sequences=True, implementation=0, dropout=RNN_DROPOUT_RATE, recurrent_dropout=RNN_DROPOUT_RATE), merge_mode='concat', name='BiLSTM_1')(emb_seq)\n",
    "#blstm = Dropout(DROPOUT_RATE, name='DROPOUT_2')(blstm)\n",
    "#blstm = Bidirectional(LSTM(RNN_SIZE, return_sequences=True, implementation=0, dropout=RNN_DROPOUT_RATE, recurrent_dropout=RNN_DROPOUT_RATE), merge_mode='concat', name='BiLSTM_2')(blstm)\n",
    "#blstm = Dropout(DROPOUT_RATE, name='DROPOUT_3')(blstm)\n",
    "conv = Conv1D(CNN_SIZE, WINDOW_SIZE, padding='same', activation='elu', name='CONV')(emb_seq)\n",
    "pool = GlobalMaxPooling1D(name='MAXPOOLING')(conv)\n",
    "pool = Dropout(DROPOUT_RATE, name='DROPOUT_2')(pool)\n",
    "output = Dense(1, activation='sigmoid', name='OUTPUT')(pool)\n",
    "model = Model(inputs=seq, outputs=output)\n",
    "model.compile(loss='binary_crossentropy', optimizer='adam')"
   ]
  },
  {
   "cell_type": "markdown",
   "metadata": {},
   "source": [
    "## Model Visualization"
   ]
  },
  {
   "cell_type": "code",
   "execution_count": 152,
   "metadata": {},
   "outputs": [
    {
     "name": "stdout",
     "output_type": "stream",
     "text": [
      "_________________________________________________________________\n",
      "Layer (type)                 Output Shape              Param #   \n",
      "=================================================================\n",
      "INPUT (InputLayer)           (None, 128)               0         \n",
      "_________________________________________________________________\n",
      "EMBEDDING (Embedding)        (None, 128, 256)          3806464   \n",
      "_________________________________________________________________\n",
      "DROPOUT_1 (Dropout)          (None, 128, 256)          0         \n",
      "_________________________________________________________________\n",
      "CONV (Conv1D)                (None, 128, 128)          98432     \n",
      "_________________________________________________________________\n",
      "MAXPOOLING (GlobalMaxPooling (None, 128)               0         \n",
      "_________________________________________________________________\n",
      "DROPOUT_2 (Dropout)          (None, 128)               0         \n",
      "_________________________________________________________________\n",
      "OUTPUT (Dense)               (None, 1)                 129       \n",
      "=================================================================\n",
      "Total params: 3,905,025\n",
      "Trainable params: 3,905,025\n",
      "Non-trainable params: 0\n",
      "_________________________________________________________________\n"
     ]
    },
    {
     "data": {
      "image/svg+xml": [
       "<svg height=\"483pt\" viewBox=\"0.00 0.00 249.94 483.00\" width=\"250pt\" xmlns=\"http://www.w3.org/2000/svg\" xmlns:xlink=\"http://www.w3.org/1999/xlink\">\n",
       "<g class=\"graph\" id=\"graph0\" transform=\"scale(1 1) rotate(0) translate(4 479)\">\n",
       "<title>G</title>\n",
       "<polygon fill=\"#ffffff\" points=\"-4,4 -4,-479 245.9414,-479 245.9414,4 -4,4\" stroke=\"transparent\"/>\n",
       "<!-- 8851782960 -->\n",
       "<g class=\"node\" id=\"node1\">\n",
       "<title>8851782960</title>\n",
       "<polygon fill=\"none\" points=\"57.9175,-438.5 57.9175,-474.5 184.0239,-474.5 184.0239,-438.5 57.9175,-438.5\" stroke=\"#000000\"/>\n",
       "<text fill=\"#000000\" font-family=\"Times,serif\" font-size=\"14.00\" text-anchor=\"middle\" x=\"120.9707\" y=\"-452.3\">INPUT: InputLayer</text>\n",
       "</g>\n",
       "<!-- 7869053248 -->\n",
       "<g class=\"node\" id=\"node2\">\n",
       "<title>7869053248</title>\n",
       "<polygon fill=\"none\" points=\"35.0068,-365.5 35.0068,-401.5 206.9346,-401.5 206.9346,-365.5 35.0068,-365.5\" stroke=\"#000000\"/>\n",
       "<text fill=\"#000000\" font-family=\"Times,serif\" font-size=\"14.00\" text-anchor=\"middle\" x=\"120.9707\" y=\"-379.3\">EMBEDDING: Embedding</text>\n",
       "</g>\n",
       "<!-- 8851782960&#45;&gt;7869053248 -->\n",
       "<g class=\"edge\" id=\"edge1\">\n",
       "<title>8851782960-&gt;7869053248</title>\n",
       "<path d=\"M120.9707,-438.4551C120.9707,-430.3828 120.9707,-420.6764 120.9707,-411.6817\" fill=\"none\" stroke=\"#000000\"/>\n",
       "<polygon fill=\"#000000\" points=\"124.4708,-411.5903 120.9707,-401.5904 117.4708,-411.5904 124.4708,-411.5903\" stroke=\"#000000\"/>\n",
       "</g>\n",
       "<!-- 7869052352 -->\n",
       "<g class=\"node\" id=\"node3\">\n",
       "<title>7869052352</title>\n",
       "<polygon fill=\"none\" points=\"45.8862,-292.5 45.8862,-328.5 196.0552,-328.5 196.0552,-292.5 45.8862,-292.5\" stroke=\"#000000\"/>\n",
       "<text fill=\"#000000\" font-family=\"Times,serif\" font-size=\"14.00\" text-anchor=\"middle\" x=\"120.9707\" y=\"-306.3\">DROPOUT_1: Dropout</text>\n",
       "</g>\n",
       "<!-- 7869053248&#45;&gt;7869052352 -->\n",
       "<g class=\"edge\" id=\"edge2\">\n",
       "<title>7869053248-&gt;7869052352</title>\n",
       "<path d=\"M120.9707,-365.4551C120.9707,-357.3828 120.9707,-347.6764 120.9707,-338.6817\" fill=\"none\" stroke=\"#000000\"/>\n",
       "<polygon fill=\"#000000\" points=\"124.4708,-338.5903 120.9707,-328.5904 117.4708,-338.5904 124.4708,-338.5903\" stroke=\"#000000\"/>\n",
       "</g>\n",
       "<!-- 7870439040 -->\n",
       "<g class=\"node\" id=\"node4\">\n",
       "<title>7870439040</title>\n",
       "<polygon fill=\"none\" points=\"66.2334,-219.5 66.2334,-255.5 175.708,-255.5 175.708,-219.5 66.2334,-219.5\" stroke=\"#000000\"/>\n",
       "<text fill=\"#000000\" font-family=\"Times,serif\" font-size=\"14.00\" text-anchor=\"middle\" x=\"120.9707\" y=\"-233.3\">CONV: Conv1D</text>\n",
       "</g>\n",
       "<!-- 7869052352&#45;&gt;7870439040 -->\n",
       "<g class=\"edge\" id=\"edge3\">\n",
       "<title>7869052352-&gt;7870439040</title>\n",
       "<path d=\"M120.9707,-292.4551C120.9707,-284.3828 120.9707,-274.6764 120.9707,-265.6817\" fill=\"none\" stroke=\"#000000\"/>\n",
       "<polygon fill=\"#000000\" points=\"124.4708,-265.5903 120.9707,-255.5904 117.4708,-265.5904 124.4708,-265.5903\" stroke=\"#000000\"/>\n",
       "</g>\n",
       "<!-- 7870439096 -->\n",
       "<g class=\"node\" id=\"node5\">\n",
       "<title>7870439096</title>\n",
       "<polygon fill=\"none\" points=\"0,-146.5 0,-182.5 241.9414,-182.5 241.9414,-146.5 0,-146.5\" stroke=\"#000000\"/>\n",
       "<text fill=\"#000000\" font-family=\"Times,serif\" font-size=\"14.00\" text-anchor=\"middle\" x=\"120.9707\" y=\"-160.3\">MAXPOOLING: GlobalMaxPooling1D</text>\n",
       "</g>\n",
       "<!-- 7870439040&#45;&gt;7870439096 -->\n",
       "<g class=\"edge\" id=\"edge4\">\n",
       "<title>7870439040-&gt;7870439096</title>\n",
       "<path d=\"M120.9707,-219.4551C120.9707,-211.3828 120.9707,-201.6764 120.9707,-192.6817\" fill=\"none\" stroke=\"#000000\"/>\n",
       "<polygon fill=\"#000000\" points=\"124.4708,-192.5903 120.9707,-182.5904 117.4708,-192.5904 124.4708,-192.5903\" stroke=\"#000000\"/>\n",
       "</g>\n",
       "<!-- 7869469752 -->\n",
       "<g class=\"node\" id=\"node6\">\n",
       "<title>7869469752</title>\n",
       "<polygon fill=\"none\" points=\"45.8862,-73.5 45.8862,-109.5 196.0552,-109.5 196.0552,-73.5 45.8862,-73.5\" stroke=\"#000000\"/>\n",
       "<text fill=\"#000000\" font-family=\"Times,serif\" font-size=\"14.00\" text-anchor=\"middle\" x=\"120.9707\" y=\"-87.3\">DROPOUT_2: Dropout</text>\n",
       "</g>\n",
       "<!-- 7870439096&#45;&gt;7869469752 -->\n",
       "<g class=\"edge\" id=\"edge5\">\n",
       "<title>7870439096-&gt;7869469752</title>\n",
       "<path d=\"M120.9707,-146.4551C120.9707,-138.3828 120.9707,-128.6764 120.9707,-119.6817\" fill=\"none\" stroke=\"#000000\"/>\n",
       "<polygon fill=\"#000000\" points=\"124.4708,-119.5903 120.9707,-109.5904 117.4708,-119.5904 124.4708,-119.5903\" stroke=\"#000000\"/>\n",
       "</g>\n",
       "<!-- 7873318416 -->\n",
       "<g class=\"node\" id=\"node7\">\n",
       "<title>7873318416</title>\n",
       "<polygon fill=\"none\" points=\"64.521,-.5 64.521,-36.5 177.4204,-36.5 177.4204,-.5 64.521,-.5\" stroke=\"#000000\"/>\n",
       "<text fill=\"#000000\" font-family=\"Times,serif\" font-size=\"14.00\" text-anchor=\"middle\" x=\"120.9707\" y=\"-14.3\">OUTPUT: Dense</text>\n",
       "</g>\n",
       "<!-- 7869469752&#45;&gt;7873318416 -->\n",
       "<g class=\"edge\" id=\"edge6\">\n",
       "<title>7869469752-&gt;7873318416</title>\n",
       "<path d=\"M120.9707,-73.4551C120.9707,-65.3828 120.9707,-55.6764 120.9707,-46.6817\" fill=\"none\" stroke=\"#000000\"/>\n",
       "<polygon fill=\"#000000\" points=\"124.4708,-46.5903 120.9707,-36.5904 117.4708,-46.5904 124.4708,-46.5903\" stroke=\"#000000\"/>\n",
       "</g>\n",
       "</g>\n",
       "</svg>"
      ],
      "text/plain": [
       "<IPython.core.display.SVG object>"
      ]
     },
     "execution_count": 152,
     "metadata": {},
     "output_type": "execute_result"
    }
   ],
   "source": [
    "model.summary()\n",
    "SVG(model_to_dot(model).create(prog='dot', format='svg'))"
   ]
  },
  {
   "cell_type": "markdown",
   "metadata": {},
   "source": [
    "## Train"
   ]
  },
  {
   "cell_type": "code",
   "execution_count": 153,
   "metadata": {
    "collapsed": true
   },
   "outputs": [],
   "source": [
    "filepath = '/Users/lizhn7/Downloads/DATA/chinese_news/mini/co_logs/weights.{epoch:03d}-{val_loss:.6f}.hdf5'\n",
    "log_string = '/Users/lizhn7/Downloads/DATA/chinese_news/mini/tb_logs/mini'\n",
    "checkpoint = ModelCheckpoint(filepath, monitor='val_loss', verbose=1, save_best_only=True)\n",
    "tensorboard = TensorBoard(log_dir=log_string) "
   ]
  },
  {
   "cell_type": "code",
   "execution_count": null,
   "metadata": {
    "collapsed": true
   },
   "outputs": [],
   "source": [
    "history = model.fit(xTrain,\n",
    "                    yTrain,\n",
    "                    batch_size=BATCH_SIZE,\n",
    "                    epochs=NUM_EPOCHS, \n",
    "                    verbose=1,\n",
    "                    callbacks=[checkpoint],\n",
    "                    validation_data=(xVal, yVal), \n",
    "                    shuffle=True)"
   ]
  },
  {
   "cell_type": "markdown",
   "metadata": {},
   "source": [
    "# Evaluate"
   ]
  },
  {
   "cell_type": "code",
   "execution_count": 157,
   "metadata": {},
   "outputs": [],
   "source": [
    "threshold = [i/10 for i in range(1, 9, 1)]"
   ]
  },
  {
   "cell_type": "code",
   "execution_count": 158,
   "metadata": {
    "collapsed": true
   },
   "outputs": [],
   "source": [
    "def calculate(pred, actu, THRESHOLD=0.5, t=1, f=0):\n",
    "    \"\"\"\n",
    "    Calculate Precision Recall F1-score\n",
    "    \"\"\"\n",
    "    pred = [1 if i >= THRESHOLD else 0 for i in pred]\n",
    "    actu = sum([list(i) for i in actu], [])\n",
    "    CTP = sum([1 for i in range(len(pred)) if pred[i] == t and actu[i] == t])\n",
    "    CFN = sum([1 for i in range(len(pred)) if pred[i] == f and actu[i] == t])\n",
    "    CFP = sum([1 for i in range(len(pred)) if pred[i] == t and actu[i] == f])\n",
    "    CTN = sum([1 for i in range(len(pred)) if pred[i] == f and actu[i] == f])\n",
    "    NCTP = CTN\n",
    "    NCFN = CFP\n",
    "    NCFP = CFN\n",
    "    NCTN = CTP\n",
    "    CP = CTP/(CTP+CFP)\n",
    "    CR = CTP/(CTP+CFN)\n",
    "    CF1 = 2*CP*CR/(CP+CR)\n",
    "    NCP = NCTP/(NCTP+NCFP)\n",
    "    NCR = NCTP/(NCTP+NCFN)\n",
    "    NCF1 = 2*NCP*NCR/(NCP+NCR)\n",
    "    ACC = (CTP+CTN)/(CTP+CFP+CFN+CTN)\n",
    "    print('Threshold: \\t%.3f' % (THRESHOLD))\n",
    "    print('Causal: \\tPreciion %.3f \\tRecall %.3f \\tF1-score %.3f' % (CP, CR, CF1))\n",
    "    print('Non-Causal: \\tPreciion %.3f \\tRecall %.3f \\tF1-score %.3f' % (NCP, NCR, NCF1))\n",
    "    print('Accuracy: \\t%.3f' % (ACC))"
   ]
  },
  {
   "cell_type": "code",
   "execution_count": 159,
   "metadata": {},
   "outputs": [
    {
     "name": "stdout",
     "output_type": "stream",
     "text": [
      "480/509 [===========================>..] - ETA: 0sThreshold: \t0.100\n",
      "Causal: \tPreciion 0.547 \tRecall 0.992 \tF1-score 0.705\n",
      "Non-Causal: \tPreciion 0.966 \tRecall 0.218 \tF1-score 0.356\n",
      "Accuracy: \t0.595\n",
      "————————————————————————\n",
      "Threshold: \t0.200\n",
      "Causal: \tPreciion 0.695 \tRecall 0.964 \tF1-score 0.807\n",
      "Non-Causal: \tPreciion 0.945 \tRecall 0.598 \tF1-score 0.732\n",
      "Accuracy: \t0.776\n",
      "————————————————————————\n",
      "Threshold: \t0.300\n",
      "Causal: \tPreciion 0.769 \tRecall 0.911 \tF1-score 0.834\n",
      "Non-Causal: \tPreciion 0.898 \tRecall 0.739 \tF1-score 0.811\n",
      "Accuracy: \t0.823\n",
      "————————————————————————\n",
      "Threshold: \t0.400\n",
      "Causal: \tPreciion 0.814 \tRecall 0.867 \tF1-score 0.840\n",
      "Non-Causal: \tPreciion 0.865 \tRecall 0.812 \tF1-score 0.838\n",
      "Accuracy: \t0.839\n",
      "————————————————————————\n",
      "Threshold: \t0.500\n",
      "Causal: \tPreciion 0.845 \tRecall 0.835 \tF1-score 0.840\n",
      "Non-Causal: \tPreciion 0.845 \tRecall 0.854 \tF1-score 0.850\n",
      "Accuracy: \t0.845\n",
      "————————————————————————\n",
      "Threshold: \t0.600\n",
      "Causal: \tPreciion 0.878 \tRecall 0.815 \tF1-score 0.845\n",
      "Non-Causal: \tPreciion 0.835 \tRecall 0.893 \tF1-score 0.863\n",
      "Accuracy: \t0.855\n",
      "————————————————————————\n",
      "Threshold: \t0.700\n",
      "Causal: \tPreciion 0.899 \tRecall 0.790 \tF1-score 0.841\n",
      "Non-Causal: \tPreciion 0.821 \tRecall 0.916 \tF1-score 0.866\n",
      "Accuracy: \t0.855\n",
      "————————————————————————\n",
      "Threshold: \t0.800\n",
      "Causal: \tPreciion 0.944 \tRecall 0.742 \tF1-score 0.831\n",
      "Non-Causal: \tPreciion 0.796 \tRecall 0.958 \tF1-score 0.870\n",
      "Accuracy: \t0.853\n",
      "————————————————————————\n"
     ]
    }
   ],
   "source": [
    "filename = '/Users/lizhn7/Downloads/DATA/chinese_news/mini/co_logs/weights.005-0.332273.hdf5'\n",
    "model.load_weights(filename)\n",
    "result = model.predict(xVal, batch_size=BATCH_SIZE, verbose=1)\n",
    "\n",
    "#model.summary()\n",
    "\n",
    "for THRESHOLD in threshold:\n",
    "    calculate(result, yVal, THRESHOLD=THRESHOLD)\n",
    "    print('————————————————————————')\n",
    "    \n",
    "#SVG(model_to_dot(model).create(prog='dot', format='svg'))"
   ]
  }
 ],
 "metadata": {
  "kernelspec": {
   "display_name": "Python 3",
   "language": "python",
   "name": "python3"
  },
  "language_info": {
   "codemirror_mode": {
    "name": "ipython",
    "version": 3
   },
   "file_extension": ".py",
   "mimetype": "text/x-python",
   "name": "python",
   "nbconvert_exporter": "python",
   "pygments_lexer": "ipython3",
   "version": "3.6.2"
  },
  "toc": {
   "colors": {
    "hover_highlight": "#DAA520",
    "navigate_num": "#000000",
    "navigate_text": "#333333",
    "running_highlight": "#FF0000",
    "selected_highlight": "#FFD700",
    "sidebar_border": "#EEEEEE",
    "wrapper_background": "#FFFFFF"
   },
   "moveMenuLeft": true,
   "nav_menu": {
    "height": "66px",
    "width": "252px"
   },
   "navigate_menu": true,
   "number_sections": true,
   "sideBar": true,
   "threshold": 4,
   "toc_cell": true,
   "toc_section_display": "block",
   "toc_window_display": false,
   "widenNotebook": false
  }
 },
 "nbformat": 4,
 "nbformat_minor": 2
}
