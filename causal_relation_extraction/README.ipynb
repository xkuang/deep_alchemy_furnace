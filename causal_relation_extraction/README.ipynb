{
 "cells": [
  {
   "cell_type": "markdown",
   "metadata": {},
   "source": [
    "# Definition of Causal Relation"
   ]
  },
  {
   "cell_type": "markdown",
   "metadata": {},
   "source": [
    "Suppose there exist two events A and B, and A is supposed to be the cause of B only when the following conditions are met:\n",
    "\n",
    "- **The temporal continuity principle:**\n",
    "\n",
    "    *A happens before B, and they are temporally contiguous, and /or they are contiguous in space;*\n",
    "\n",
    "\n",
    "- **The adequate condition principle:**\n",
    "\n",
    "    *A occurs and B occurs, and B would not have happened if A has not happened.*"
   ]
  },
  {
   "cell_type": "markdown",
   "metadata": {},
   "source": [
    "# Pattern"
   ]
  },
  {
   "cell_type": "markdown",
   "metadata": {},
   "source": [
    "- 因／因为／故／原因／由于／由於／致／导致／致使／为／为的是\n",
    "- 鉴于／基于/就此／使得\n",
    "- 系...影响／对...产生...影响\n",
    "- 自...以来／完成后...将\n",
    "- (签订／实施／...)有利于...\n",
    "- ...而..."
   ]
  }
 ],
 "metadata": {
  "kernelspec": {
   "display_name": "Python 3",
   "language": "python",
   "name": "python3"
  },
  "language_info": {
   "codemirror_mode": {
    "name": "ipython",
    "version": 3
   },
   "file_extension": ".py",
   "mimetype": "text/x-python",
   "name": "python",
   "nbconvert_exporter": "python",
   "pygments_lexer": "ipython3",
   "version": "3.6.2"
  },
  "toc": {
   "colors": {
    "hover_highlight": "#DAA520",
    "navigate_num": "#000000",
    "navigate_text": "#333333",
    "running_highlight": "#FF0000",
    "selected_highlight": "#FFD700",
    "sidebar_border": "#EEEEEE",
    "wrapper_background": "#FFFFFF"
   },
   "moveMenuLeft": true,
   "nav_menu": {
    "height": "30px",
    "width": "252px"
   },
   "navigate_menu": true,
   "number_sections": true,
   "sideBar": true,
   "threshold": 4,
   "toc_cell": false,
   "toc_section_display": "block",
   "toc_window_display": true,
   "widenNotebook": false
  }
 },
 "nbformat": 4,
 "nbformat_minor": 2
}
