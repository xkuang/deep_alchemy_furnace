{
 "cells": [
  {
   "cell_type": "markdown",
   "metadata": {
    "toc": "true"
   },
   "source": [
    "# Table of Contents\n",
    " <p><div class=\"lev1 toc-item\"><a href=\"#爬取单页内容\" data-toc-modified-id=\"爬取单页内容-1\"><span class=\"toc-item-num\">1&nbsp;&nbsp;</span>爬取单页内容</a></div><div class=\"lev1 toc-item\"><a href=\"#读取单页内容\" data-toc-modified-id=\"读取单页内容-2\"><span class=\"toc-item-num\">2&nbsp;&nbsp;</span>读取单页内容</a></div><div class=\"lev1 toc-item\"><a href=\"#爬取多页内容\" data-toc-modified-id=\"爬取多页内容-3\"><span class=\"toc-item-num\">3&nbsp;&nbsp;</span>爬取多页内容</a></div><div class=\"lev2 toc-item\"><a href=\"#首页-&gt;-财经频道-&gt;-要闻-&gt;-公司新闻\" data-toc-modified-id=\"首页->-财经频道->-要闻->-公司新闻-31\"><span class=\"toc-item-num\">3.1&nbsp;&nbsp;</span>首页 &gt; 财经频道 &gt; 要闻 &gt; 公司新闻</a></div><div class=\"lev2 toc-item\"><a href=\"#首页-&gt;-财经频道-&gt;-要闻-&gt;-上市公司-&gt;-列表\" data-toc-modified-id=\"首页->-财经频道->-要闻->-上市公司->-列表-32\"><span class=\"toc-item-num\">3.2&nbsp;&nbsp;</span>首页 &gt; 财经频道 &gt; 要闻 &gt; 上市公司 &gt; 列表</a></div><div class=\"lev1 toc-item\"><a href=\"#读取多页内容\" data-toc-modified-id=\"读取多页内容-4\"><span class=\"toc-item-num\">4&nbsp;&nbsp;</span>读取多页内容</a></div><div class=\"lev2 toc-item\"><a href=\"#读取-3.1\" data-toc-modified-id=\"读取-3.1-41\"><span class=\"toc-item-num\">4.1&nbsp;&nbsp;</span>读取 3.1</a></div><div class=\"lev2 toc-item\"><a href=\"#读取-3.2\" data-toc-modified-id=\"读取-3.2-42\"><span class=\"toc-item-num\">4.2&nbsp;&nbsp;</span>读取 3.2</a></div><div class=\"lev2 toc-item\"><a href=\"#集合数据\" data-toc-modified-id=\"集合数据-43\"><span class=\"toc-item-num\">4.3&nbsp;&nbsp;</span>集合数据</a></div><div class=\"lev1 toc-item\"><a href=\"#标注数据\" data-toc-modified-id=\"标注数据-5\"><span class=\"toc-item-num\">5&nbsp;&nbsp;</span>标注数据</a></div><div class=\"lev2 toc-item\"><a href=\"#标注细节\" data-toc-modified-id=\"标注细节-51\"><span class=\"toc-item-num\">5.1&nbsp;&nbsp;</span>标注细节</a></div><div class=\"lev3 toc-item\"><a href=\"#实体标注细节\" data-toc-modified-id=\"实体标注细节-511\"><span class=\"toc-item-num\">5.1.1&nbsp;&nbsp;</span>实体标注细节</a></div><div class=\"lev3 toc-item\"><a href=\"#关系标注细节\" data-toc-modified-id=\"关系标注细节-512\"><span class=\"toc-item-num\">5.1.2&nbsp;&nbsp;</span>关系标注细节</a></div>"
   ]
  },
  {
   "cell_type": "markdown",
   "metadata": {
    "heading_collapsed": true
   },
   "source": [
    "# 爬取单页内容"
   ]
  },
  {
   "cell_type": "code",
   "execution_count": 101,
   "metadata": {
    "collapsed": true,
    "hidden": true
   },
   "outputs": [],
   "source": [
    "import requests\n",
    "from requests.exceptions import RequestException\n",
    "import re\n",
    "import json"
   ]
  },
  {
   "cell_type": "code",
   "execution_count": 102,
   "metadata": {
    "collapsed": true,
    "hidden": true
   },
   "outputs": [],
   "source": [
    "def get_one_page(url):\n",
    "    try:\n",
    "        response = requests.get(url).content.decode('utf-8')\n",
    "        if requests.get(url).status_code == 200:\n",
    "            return response\n",
    "        return None\n",
    "    except RequestException:\n",
    "        return None\n",
    "\n",
    "def write_to_file(content):\n",
    "    with open('single_page.json', 'a', encoding='utf-8') as f:\n",
    "        f.write(json.dumps(content, ensure_ascii=False) + '\\n')\n",
    "        f.close()\n",
    "        \n",
    "def parse_one_page(html):\n",
    "    pattern = re.compile('<p class=\"title\">.*?<a href=\".*?\">(.*?)</a>.*?<p class=\"info\" title=\"(.*?)\">.*?<p class=\"time\">(.*?)</p>'\n",
    "                         , re.S)\n",
    "    items = re.findall(pattern, html)\n",
    "    for item in items:\n",
    "        yield {\n",
    "            'title': item[0],\n",
    "            'abstract': item[1],\n",
    "            'time': item[2][:-6]\n",
    "        }    "
   ]
  },
  {
   "cell_type": "code",
   "execution_count": 103,
   "metadata": {
    "collapsed": true,
    "hidden": true
   },
   "outputs": [],
   "source": [
    "url = 'http://finance.eastmoney.com/news/cgsxw_23.html'\n",
    "html = get_one_page(url)\n",
    "single_page = parse_one_page(html)\n",
    "for s in single_page:\n",
    "    write_to_file(s)"
   ]
  },
  {
   "cell_type": "markdown",
   "metadata": {
    "heading_collapsed": true
   },
   "source": [
    "# 读取单页内容"
   ]
  },
  {
   "cell_type": "code",
   "execution_count": 4,
   "metadata": {
    "collapsed": true,
    "hidden": true
   },
   "outputs": [],
   "source": [
    "import json\n",
    "import pickle"
   ]
  },
  {
   "cell_type": "code",
   "execution_count": 14,
   "metadata": {
    "collapsed": true,
    "hidden": true
   },
   "outputs": [],
   "source": [
    "with open('single_page.json') as f:\n",
    "    lines = f.readlines()\n",
    "    \n",
    "title = []\n",
    "abstract = []\n",
    "time = []\n",
    "for line in lines:\n",
    "    item = json.loads(line)\n",
    "    title.append(item['title'].strip())\n",
    "    abstract.append(item['abstract'].strip())\n",
    "    time.append('2017年' + item['time'].strip()[:-6])\n",
    "    \n",
    "tokens = (title, abstract, time)"
   ]
  },
  {
   "cell_type": "code",
   "execution_count": 15,
   "metadata": {
    "hidden": true
   },
   "outputs": [
    {
     "data": {
      "text/plain": [
       "(18, 18, {'2017年06月12日'})"
      ]
     },
     "execution_count": 15,
     "metadata": {},
     "output_type": "execute_result"
    }
   ],
   "source": [
    "len(title), len(abstract), set(time)"
   ]
  },
  {
   "cell_type": "code",
   "execution_count": 18,
   "metadata": {
    "collapsed": true,
    "hidden": true
   },
   "outputs": [],
   "source": [
    "with open('tokens.pkl', 'wb') as fp:\n",
    "    pickle.dump(tokens, fp)"
   ]
  },
  {
   "cell_type": "code",
   "execution_count": 19,
   "metadata": {
    "collapsed": true,
    "hidden": true
   },
   "outputs": [],
   "source": [
    "with open('tokens.pkl', 'rb') as fp:\n",
    "    title, abstract, time = pickle.load(fp)"
   ]
  },
  {
   "cell_type": "code",
   "execution_count": 21,
   "metadata": {
    "hidden": true
   },
   "outputs": [
    {
     "data": {
      "text/plain": [
       "'日播时尚业绩滑坡库存高 女装三年13起抽检不合格'"
      ]
     },
     "execution_count": 21,
     "metadata": {},
     "output_type": "execute_result"
    }
   ],
   "source": [
    "title[0]"
   ]
  },
  {
   "cell_type": "code",
   "execution_count": 22,
   "metadata": {
    "hidden": true
   },
   "outputs": [
    {
     "data": {
      "text/plain": [
       "'中国经济网记者就上述问题向公司证券事务部发去采访函，截至发稿时未收到回复。中孚信息是专注于信息安全领域的高新技术企业，主营业务为信息安全产品研发、生产、销售及信息安全服务。公司主要产品及服务包括信息安全保密产品、商用密码产品、信息安全服务。信息安全保密产品服务对象主要为党政机关、军工企业、中央企业、科研院所等，商用密码产品服务领域主要为金融、税务、工商等。信息安全服务为涉密信息系统集成服务。公司坚持自主创新，研发了主要面向党政机关、军工企业、中央企业、科研院所的信息安全保密产品，部分产品处于国内领先地位。'"
      ]
     },
     "execution_count": 22,
     "metadata": {},
     "output_type": "execute_result"
    }
   ],
   "source": [
    "abstract[0]"
   ]
  },
  {
   "cell_type": "code",
   "execution_count": 23,
   "metadata": {
    "hidden": true
   },
   "outputs": [
    {
     "data": {
      "text/plain": [
       "'2017年06月12日'"
      ]
     },
     "execution_count": 23,
     "metadata": {},
     "output_type": "execute_result"
    }
   ],
   "source": [
    "time[0]"
   ]
  },
  {
   "cell_type": "markdown",
   "metadata": {},
   "source": [
    "# 爬取多页内容"
   ]
  },
  {
   "cell_type": "markdown",
   "metadata": {},
   "source": [
    "## 首页 > 财经频道 > 要闻 > 公司新闻"
   ]
  },
  {
   "cell_type": "code",
   "execution_count": 3,
   "metadata": {
    "collapsed": true
   },
   "outputs": [],
   "source": [
    "import requests\n",
    "from multiprocessing import Pool\n",
    "from requests.exceptions import RequestException\n",
    "import re\n",
    "import json\n",
    "import time"
   ]
  },
  {
   "cell_type": "code",
   "execution_count": 4,
   "metadata": {
    "collapsed": true
   },
   "outputs": [],
   "source": [
    "def get_one_page(url):\n",
    "    try:\n",
    "        response = requests.get(url).content.decode('utf-8')\n",
    "        if requests.get(url).status_code == 200:\n",
    "            return response\n",
    "        return None\n",
    "    except RequestException:\n",
    "        return None\n",
    "\n",
    "def write_to_file(content):\n",
    "    with open('all_pages.json', 'a', encoding='utf-8') as f:\n",
    "        f.write(json.dumps(content, ensure_ascii=False) + '\\n')\n",
    "        f.close()\n",
    "        \n",
    "def parse_one_page(html):\n",
    "    pattern = re.compile('<p class=\"title\">.*?<a href=\".*?\">(.*?)</a>.*?<p class=\"info\" title=\"(.*?)\">.*?<p class=\"time\">(.*?)</p>'\n",
    "                         , re.S)\n",
    "    items = re.findall(pattern, html)\n",
    "    for item in items:\n",
    "        yield {\n",
    "            'title': item[0],\n",
    "            'abstract': item[1],\n",
    "            'time': item[2]\n",
    "        }    \n",
    "\n",
    "def all_pages(num):\n",
    "    url = 'http://finance.eastmoney.com/news/cgsxw_' + str(num) + '.html'\n",
    "    html = get_one_page(url)\n",
    "    for item in parse_one_page(html):\n",
    "        write_to_file(item)"
   ]
  },
  {
   "cell_type": "code",
   "execution_count": 5,
   "metadata": {
    "scrolled": false
   },
   "outputs": [
    {
     "data": {
      "text/plain": [
       "[None,\n",
       " None,\n",
       " None,\n",
       " None,\n",
       " None,\n",
       " None,\n",
       " None,\n",
       " None,\n",
       " None,\n",
       " None,\n",
       " None,\n",
       " None,\n",
       " None,\n",
       " None,\n",
       " None,\n",
       " None,\n",
       " None,\n",
       " None,\n",
       " None,\n",
       " None,\n",
       " None,\n",
       " None,\n",
       " None,\n",
       " None,\n",
       " None]"
      ]
     },
     "execution_count": 5,
     "metadata": {},
     "output_type": "execute_result"
    }
   ],
   "source": [
    "pool = Pool()\n",
    "pool.map(all_pages, [i+1 for i in range(25)])"
   ]
  },
  {
   "cell_type": "code",
   "execution_count": 6,
   "metadata": {
    "collapsed": true
   },
   "outputs": [],
   "source": [
    "#start = time.time()\n",
    "#for i in range(23):\n",
    "#    all_pages(i+1)\n",
    "#end = time.time()\n",
    "#print('Time-consuming: %.3fs' % (end - start))"
   ]
  },
  {
   "cell_type": "markdown",
   "metadata": {},
   "source": [
    "## 首页 > 财经频道 > 要闻 > 上市公司 > 列表"
   ]
  },
  {
   "cell_type": "code",
   "execution_count": 7,
   "metadata": {
    "collapsed": true
   },
   "outputs": [],
   "source": [
    "import requests\n",
    "from multiprocessing import Pool\n",
    "from requests.exceptions import RequestException\n",
    "import re\n",
    "import json\n",
    "import time"
   ]
  },
  {
   "cell_type": "code",
   "execution_count": 8,
   "metadata": {
    "collapsed": true
   },
   "outputs": [],
   "source": [
    "def get_one_page(url):\n",
    "    try:\n",
    "        response = requests.get(url).content.decode('utf-8')\n",
    "        if requests.get(url).status_code == 200:\n",
    "            return response\n",
    "        return None\n",
    "    except RequestException:\n",
    "        return None\n",
    "\n",
    "def write_to_file(content):\n",
    "    with open('all_pages_2.json', 'a', encoding='utf-8') as f:\n",
    "        f.write(json.dumps(content, ensure_ascii=False, sort_keys=True) + '\\n')\n",
    "        f.close()\n",
    "        \n",
    "def parse_one_page(html):\n",
    "    pattern = re.compile('<p class=\"title\">.*?<a href=\".*?\">(.*?)</a>.*?<p class=\"info\" title=\"(.*?)\">.*?<p class=\"time\">(.*?)</p>'\n",
    "                         , re.S)\n",
    "    items = re.findall(pattern, html)\n",
    "    for item in items:\n",
    "        yield {\n",
    "            'title': item[0],\n",
    "            'abstract': item[1],\n",
    "            'time': item[2]\n",
    "        }    \n",
    "\n",
    "def all_pages(num):\n",
    "    url = 'http://finance.eastmoney.com/news/cssgs_' + str(num) + '.html'\n",
    "    html = get_one_page(url)\n",
    "    for item in parse_one_page(html):\n",
    "        write_to_file(item)"
   ]
  },
  {
   "cell_type": "code",
   "execution_count": 9,
   "metadata": {},
   "outputs": [
    {
     "data": {
      "text/plain": [
       "[None,\n",
       " None,\n",
       " None,\n",
       " None,\n",
       " None,\n",
       " None,\n",
       " None,\n",
       " None,\n",
       " None,\n",
       " None,\n",
       " None,\n",
       " None,\n",
       " None,\n",
       " None,\n",
       " None,\n",
       " None,\n",
       " None,\n",
       " None,\n",
       " None,\n",
       " None,\n",
       " None,\n",
       " None,\n",
       " None,\n",
       " None,\n",
       " None]"
      ]
     },
     "execution_count": 9,
     "metadata": {},
     "output_type": "execute_result"
    }
   ],
   "source": [
    "pool = Pool()\n",
    "pool.map(all_pages, [i+1 for i in range(25)])"
   ]
  },
  {
   "cell_type": "code",
   "execution_count": 10,
   "metadata": {
    "collapsed": true
   },
   "outputs": [],
   "source": [
    "#start = time.time()\n",
    "#for i in range(9):\n",
    "#    all_pages(i+1)\n",
    "#end = time.time()\n",
    "#print('Time-consuming: %.3fs' % (end - start))"
   ]
  },
  {
   "cell_type": "markdown",
   "metadata": {},
   "source": [
    "# 读取多页内容"
   ]
  },
  {
   "cell_type": "markdown",
   "metadata": {},
   "source": [
    "## 读取 3.1"
   ]
  },
  {
   "cell_type": "code",
   "execution_count": 11,
   "metadata": {
    "collapsed": true
   },
   "outputs": [],
   "source": [
    "import json\n",
    "import pickle"
   ]
  },
  {
   "cell_type": "code",
   "execution_count": 12,
   "metadata": {
    "collapsed": true,
    "scrolled": false
   },
   "outputs": [],
   "source": [
    "with open('all_pages.json') as f:\n",
    "    lines = f.readlines()\n",
    "       \n",
    "title = []\n",
    "abstract = []\n",
    "time = []\n",
    "for line in list(set(lines)):\n",
    "    item = json.loads(line)\n",
    "    title.append(item['title'].strip())\n",
    "    abstract.append(item['abstract'].strip())\n",
    "    time.append('2017年' + item['time'].strip()[:-6])\n",
    "    \n",
    "tokens = (title, abstract, time)"
   ]
  },
  {
   "cell_type": "code",
   "execution_count": 13,
   "metadata": {
    "collapsed": true
   },
   "outputs": [],
   "source": [
    "#with open('all_tokens.pkl', 'wb') as fp:\n",
    "#    pickle.dump(tokens, fp)"
   ]
  },
  {
   "cell_type": "code",
   "execution_count": 14,
   "metadata": {
    "collapsed": true
   },
   "outputs": [],
   "source": [
    "#with open('all_tokens.pkl', 'rb') as fp:\n",
    "#    title, abstract, time = pickle.load(fp)"
   ]
  },
  {
   "cell_type": "code",
   "execution_count": 15,
   "metadata": {},
   "outputs": [
    {
     "data": {
      "text/plain": [
       "(2144, 1567, 1556, 1567)"
      ]
     },
     "execution_count": 15,
     "metadata": {},
     "output_type": "execute_result"
    }
   ],
   "source": [
    "len(lines), len(title), len(set(abstract)), len(time)"
   ]
  },
  {
   "cell_type": "code",
   "execution_count": 16,
   "metadata": {},
   "outputs": [
    {
     "data": {
      "text/plain": [
       "(1567, 1565, 1556, 7)"
      ]
     },
     "execution_count": 16,
     "metadata": {},
     "output_type": "execute_result"
    }
   ],
   "source": [
    "len(set(lines)), len(set(title)), len(set(abstract)), len(set(time))"
   ]
  },
  {
   "cell_type": "code",
   "execution_count": 17,
   "metadata": {},
   "outputs": [
    {
     "data": {
      "text/plain": [
       "{'2017年08月07日',\n",
       " '2017年08月08日',\n",
       " '2017年08月09日',\n",
       " '2017年08月10日',\n",
       " '2017年08月11日',\n",
       " '2017年08月12日',\n",
       " '2017年08月13日'}"
      ]
     },
     "execution_count": 17,
     "metadata": {},
     "output_type": "execute_result"
    }
   ],
   "source": [
    "set(time)"
   ]
  },
  {
   "cell_type": "code",
   "execution_count": 18,
   "metadata": {},
   "outputs": [
    {
     "data": {
      "text/plain": [
       "'方大炭素快速下跌 跌逾5%'"
      ]
     },
     "execution_count": 18,
     "metadata": {},
     "output_type": "execute_result"
    }
   ],
   "source": [
    "title[0]"
   ]
  },
  {
   "cell_type": "code",
   "execution_count": 19,
   "metadata": {},
   "outputs": [
    {
     "data": {
      "text/plain": [
       "'根据交易所公告，勘设股份、澄天伟业将于8月9日起上市交易。根据交易所公告，贵州省交通规划勘察设计研究院股份有限公司于2017年8月9日起在上海证券交易所主板上市交易。公司主要从事高速公路、等级公路、桥梁、隧道、路面、岩土工程、交通工程、航道、建筑、市政、园林绿化等工程项目的规划、可行性研究、勘察设计、施工、监理、技术咨询及科研业务，拥有贵州省交通建设人才基地、博士后科研工作站、新型钢结构建筑体系研究与开发应用院士工作站、公路交通防灾减灾技术行业研发中心、山地交通安全与应急保障技术交通运输行业研发中心、山地交通灾害防治技术国家地方联合工程实验室、贵州山区高速公路岩溶与灾害防治技术科技创新人才团队、贵州省大跨度桥梁设计技术创新人才团队、公路工程综合甲级工程试验室、省企业技术中心等科技创新和人才培养平台，被认定为高新技术企业和省创新型企业。'"
      ]
     },
     "execution_count": 19,
     "metadata": {},
     "output_type": "execute_result"
    }
   ],
   "source": [
    "abstract[0]"
   ]
  },
  {
   "cell_type": "code",
   "execution_count": 20,
   "metadata": {},
   "outputs": [
    {
     "data": {
      "text/plain": [
       "'2017年08月08日'"
      ]
     },
     "execution_count": 20,
     "metadata": {},
     "output_type": "execute_result"
    }
   ],
   "source": [
    "time[0]"
   ]
  },
  {
   "cell_type": "markdown",
   "metadata": {},
   "source": [
    "## 读取 3.2"
   ]
  },
  {
   "cell_type": "code",
   "execution_count": 21,
   "metadata": {
    "collapsed": true
   },
   "outputs": [],
   "source": [
    "import json\n",
    "import pickle"
   ]
  },
  {
   "cell_type": "code",
   "execution_count": 22,
   "metadata": {
    "collapsed": true
   },
   "outputs": [],
   "source": [
    "with open('all_pages_2.json') as f:\n",
    "    lines = f.readlines()\n",
    "       \n",
    "title = []\n",
    "abstract = []\n",
    "time = []\n",
    "for line in list(set(lines)):\n",
    "    item = json.loads(line)\n",
    "    title.append(item['title'].strip())\n",
    "    abstract.append(item['abstract'].strip())\n",
    "    time.append('2017年' + item['time'].strip()[:-6])\n",
    "    \n",
    "tokens = (title, abstract, time)"
   ]
  },
  {
   "cell_type": "code",
   "execution_count": 23,
   "metadata": {
    "collapsed": true
   },
   "outputs": [],
   "source": [
    "#with open('all_tokens_2.pkl', 'wb') as fp:\n",
    "#    pickle.dump(tokens, fp)"
   ]
  },
  {
   "cell_type": "code",
   "execution_count": 24,
   "metadata": {
    "collapsed": true
   },
   "outputs": [],
   "source": [
    "#with open('all_tokens_2.pkl', 'rb') as fp:\n",
    "#    title, abstract, time = pickle.load(fp)"
   ]
  },
  {
   "cell_type": "code",
   "execution_count": 25,
   "metadata": {},
   "outputs": [
    {
     "data": {
      "text/plain": [
       "(1220, 579, 579, 579)"
      ]
     },
     "execution_count": 25,
     "metadata": {},
     "output_type": "execute_result"
    }
   ],
   "source": [
    "len(lines), len(title), len(abstract), len(time)"
   ]
  },
  {
   "cell_type": "code",
   "execution_count": 26,
   "metadata": {},
   "outputs": [
    {
     "data": {
      "text/plain": [
       "(579, 579, 568, 7)"
      ]
     },
     "execution_count": 26,
     "metadata": {},
     "output_type": "execute_result"
    }
   ],
   "source": [
    "len(set(lines)), len(set(title)), len(set(abstract)), len(set(time))"
   ]
  },
  {
   "cell_type": "code",
   "execution_count": 27,
   "metadata": {},
   "outputs": [
    {
     "data": {
      "text/plain": [
       "{'2017年08月07日',\n",
       " '2017年08月08日',\n",
       " '2017年08月09日',\n",
       " '2017年08月10日',\n",
       " '2017年08月11日',\n",
       " '2017年08月12日',\n",
       " '2017年08月13日'}"
      ]
     },
     "execution_count": 27,
     "metadata": {},
     "output_type": "execute_result"
    }
   ],
   "source": [
    "set(time)"
   ]
  },
  {
   "cell_type": "code",
   "execution_count": 28,
   "metadata": {},
   "outputs": [
    {
     "data": {
      "text/plain": [
       "'四川路桥：7月份中标合同金额近39亿元'"
      ]
     },
     "execution_count": 28,
     "metadata": {},
     "output_type": "execute_result"
    }
   ],
   "source": [
    "title[0]"
   ]
  },
  {
   "cell_type": "code",
   "execution_count": 29,
   "metadata": {},
   "outputs": [
    {
     "data": {
      "text/plain": [
       "'【四川路桥：7月份中标合同金额近39亿元】四川路桥(600039)8月7日晚间公告，公司及子公司7月中标工程施工项目12个，中标合同金额约38.77亿元。公司前7个月累计中标工程施工项目69个，累计中标金额约247.23亿元。（证券时报网）'"
      ]
     },
     "execution_count": 29,
     "metadata": {},
     "output_type": "execute_result"
    }
   ],
   "source": [
    "abstract[0]"
   ]
  },
  {
   "cell_type": "code",
   "execution_count": 30,
   "metadata": {},
   "outputs": [
    {
     "data": {
      "text/plain": [
       "'2017年08月07日'"
      ]
     },
     "execution_count": 30,
     "metadata": {},
     "output_type": "execute_result"
    }
   ],
   "source": [
    "time[0]"
   ]
  },
  {
   "cell_type": "markdown",
   "metadata": {},
   "source": [
    "## 集合数据"
   ]
  },
  {
   "cell_type": "code",
   "execution_count": 31,
   "metadata": {
    "collapsed": true
   },
   "outputs": [],
   "source": [
    "import json\n",
    "import pickle"
   ]
  },
  {
   "cell_type": "code",
   "execution_count": 32,
   "metadata": {
    "collapsed": true
   },
   "outputs": [],
   "source": [
    "title = []\n",
    "abstract = []"
   ]
  },
  {
   "cell_type": "code",
   "execution_count": 33,
   "metadata": {
    "collapsed": true
   },
   "outputs": [],
   "source": [
    "with open('all_pages.json') as f1:\n",
    "    lines1 = f1.readlines()\n",
    "       \n",
    "with open('all_pages_2.json') as f2:\n",
    "    lines2 = f2.readlines()\n",
    "        \n",
    "for line in list(set(lines1)):\n",
    "    item = json.loads(line)\n",
    "    title.append(item['title'].strip())\n",
    "    abstract.append(item['abstract'].strip())\n",
    "\n",
    "for line in list(set(lines2)):\n",
    "    item = json.loads(line)\n",
    "    title.append(item['title'].strip())\n",
    "    abstract.append(item['abstract'].strip())\n",
    "    \n",
    "title = list(set(title))\n",
    "abstract = list(set(abstract))"
   ]
  },
  {
   "cell_type": "code",
   "execution_count": 34,
   "metadata": {
    "collapsed": true
   },
   "outputs": [],
   "source": [
    "with open('title.pkl', 'wb') as fp:\n",
    "    pickle.dump(title, fp)\n",
    "with open('abstract.pkl', 'wb') as fp:\n",
    "    pickle.dump(abstract, fp)"
   ]
  },
  {
   "cell_type": "code",
   "execution_count": 35,
   "metadata": {
    "collapsed": true
   },
   "outputs": [],
   "source": [
    "#with open('title.pkl', 'rb') as fp:\n",
    "#    title = pickle.load(fp)\n",
    "#with open('abstract.pkl', 'rb') as fp:\n",
    "#    abstract = pickle.load(fp)"
   ]
  },
  {
   "cell_type": "code",
   "execution_count": 36,
   "metadata": {},
   "outputs": [
    {
     "data": {
      "text/plain": [
       "(1637, 1572)"
      ]
     },
     "execution_count": 36,
     "metadata": {},
     "output_type": "execute_result"
    }
   ],
   "source": [
    "len(title), len(abstract)"
   ]
  },
  {
   "cell_type": "code",
   "execution_count": 37,
   "metadata": {},
   "outputs": [
    {
     "data": {
      "text/plain": [
       "'正川股份网上发行中签率0.0277%'"
      ]
     },
     "execution_count": 37,
     "metadata": {},
     "output_type": "execute_result"
    }
   ],
   "source": [
    "title[1]"
   ]
  },
  {
   "cell_type": "code",
   "execution_count": 38,
   "metadata": {},
   "outputs": [
    {
     "data": {
      "text/plain": [
       "'百川能源11日晚间公告，此前，股东曹飞计划减持公司股票不超过54,439,090股。曹飞于2017年7月13日至2017年7月14日，通过集中竞价累计减持公司股份30,000股，占公司总股本的0.003%，减持价格区间为13.80-14.34元/股。截至公告日，减持计划期限届满，减持计划实施完毕。'"
      ]
     },
     "execution_count": 38,
     "metadata": {},
     "output_type": "execute_result"
    }
   ],
   "source": [
    "abstract[1]"
   ]
  },
  {
   "cell_type": "markdown",
   "metadata": {},
   "source": [
    "# 标注数据"
   ]
  },
  {
   "cell_type": "code",
   "execution_count": 1,
   "metadata": {
    "collapsed": true
   },
   "outputs": [],
   "source": [
    "import json\n",
    "import pickle"
   ]
  },
  {
   "cell_type": "markdown",
   "metadata": {},
   "source": [
    "```python\n",
    "with open('abstract_data/01.pkl', 'rb') as fp:\n",
    "    abstract = pickle.load(fp)\n",
    "with open('abstract_data/02.pkl', 'rb') as fp:\n",
    "    abstract_2 = pickle.load(fp)\n",
    "abstract.extend(abstract_2)\n",
    "abstract = list(set(abstract))\n",
    "len(abstract)\n",
    "```"
   ]
  },
  {
   "cell_type": "code",
   "execution_count": 2,
   "metadata": {},
   "outputs": [
    {
     "data": {
      "text/plain": [
       "4759"
      ]
     },
     "execution_count": 2,
     "metadata": {},
     "output_type": "execute_result"
    }
   ],
   "source": [
    "with open('abstract_data/10.pkl', 'rb') as fp:\n",
    "    abstract = pickle.load(fp)\n",
    "abstract = list(set(abstract))\n",
    "len(abstract)"
   ]
  },
  {
   "cell_type": "code",
   "execution_count": 3,
   "metadata": {
    "collapsed": true
   },
   "outputs": [],
   "source": [
    "def write_to_file(content):\n",
    "    with open('train/train_data.json', 'a', encoding='utf-8') as f:\n",
    "        f.write(json.dumps(content, ensure_ascii=False) + '\\n')\n",
    "        f.close()\n",
    "        \n",
    "def gen_data(data):\n",
    "    for item in data:\n",
    "        yield {\n",
    "            'abstract': item,\n",
    "            'eneity': [\"\", \"\"],\n",
    "            'relation': \"\"\n",
    "        }"
   ]
  },
  {
   "cell_type": "code",
   "execution_count": 4,
   "metadata": {
    "collapsed": true
   },
   "outputs": [],
   "source": [
    "for i in gen_data(abstract):\n",
    "    write_to_file(i)"
   ]
  },
  {
   "cell_type": "markdown",
   "metadata": {},
   "source": [
    "## 标注细节"
   ]
  },
  {
   "cell_type": "markdown",
   "metadata": {},
   "source": [
    "### 实体标注细节"
   ]
  },
  {
   "cell_type": "code",
   "execution_count": null,
   "metadata": {
    "collapsed": true
   },
   "outputs": [],
   "source": []
  },
  {
   "cell_type": "markdown",
   "metadata": {},
   "source": [
    "### 关系标注细节"
   ]
  },
  {
   "cell_type": "markdown",
   "metadata": {},
   "source": [
    "- 股权转让\n",
    "- 无相关关系\n",
    "- #收到监管措施事先告知书（证监会）\n",
    "- 收购\n",
    "- 合作\n",
    "- 损失\n",
    "- 失去控制权\n",
    "- 提供技术支持\n",
    "- 认购股票\n",
    "- 购入股权\n",
    "- #存在多种关系：子公司，\n",
    "- "
   ]
  },
  {
   "cell_type": "code",
   "execution_count": 42,
   "metadata": {
    "collapsed": true
   },
   "outputs": [],
   "source": [
    "with open('train/train_data.json') as f:\n",
    "    lines = f.readlines()\n",
    "       \n",
    "abstract = []\n",
    "eneity = []\n",
    "\n",
    "for line in lines:\n",
    "    item = json.loads(line)\n",
    "    abstract.append(item['abstract'])\n",
    "    eneity.append(item['eneity'])"
   ]
  },
  {
   "cell_type": "code",
   "execution_count": 43,
   "metadata": {},
   "outputs": [
    {
     "data": {
      "text/plain": [
       "279"
      ]
     },
     "execution_count": 43,
     "metadata": {},
     "output_type": "execute_result"
    }
   ],
   "source": [
    "len(abstract)"
   ]
  },
  {
   "cell_type": "code",
   "execution_count": 41,
   "metadata": {},
   "outputs": [
    {
     "data": {
      "text/plain": [
       "8215"
      ]
     },
     "execution_count": 41,
     "metadata": {},
     "output_type": "execute_result"
    }
   ],
   "source": [
    "len(set(abstract))"
   ]
  },
  {
   "cell_type": "code",
   "execution_count": 50,
   "metadata": {},
   "outputs": [
    {
     "data": {
      "text/plain": [
       "'【东富龙：向迪安诊断转让重庆产研院股权】东富龙(300171)6月1日晚公告，公司下属全资子公司东富龙医疗与迪安诊断(300244)签署股权转让协议，约定东富龙医疗以5035万元，向迪安诊断转让重庆精准医疗产业技术研究院有限公司(简称重庆产研院)100%股权。（证券时报网）'"
      ]
     },
     "execution_count": 50,
     "metadata": {},
     "output_type": "execute_result"
    }
   ],
   "source": [
    "abstract[0]"
   ]
  },
  {
   "cell_type": "code",
   "execution_count": 51,
   "metadata": {},
   "outputs": [
    {
     "data": {
      "text/plain": [
       "7466"
      ]
     },
     "execution_count": 51,
     "metadata": {},
     "output_type": "execute_result"
    }
   ],
   "source": [
    "len(eneity)"
   ]
  },
  {
   "cell_type": "code",
   "execution_count": 52,
   "metadata": {},
   "outputs": [
    {
     "data": {
      "text/plain": [
       "['东富龙', '迪安诊断', '东富龙医疗', '重庆产研院']"
      ]
     },
     "execution_count": 52,
     "metadata": {},
     "output_type": "execute_result"
    }
   ],
   "source": [
    "eneity[0]"
   ]
  }
 ],
 "metadata": {
  "kernelspec": {
   "display_name": "Python 3",
   "language": "python",
   "name": "python3"
  },
  "language_info": {
   "codemirror_mode": {
    "name": "ipython",
    "version": 3
   },
   "file_extension": ".py",
   "mimetype": "text/x-python",
   "name": "python",
   "nbconvert_exporter": "python",
   "pygments_lexer": "ipython3",
   "version": "3.6.2"
  },
  "toc": {
   "colors": {
    "hover_highlight": "#DAA520",
    "navigate_num": "#000000",
    "navigate_text": "#333333",
    "running_highlight": "#FF0000",
    "selected_highlight": "#FFD700",
    "sidebar_border": "#EEEEEE",
    "wrapper_background": "#FFFFFF"
   },
   "moveMenuLeft": true,
   "nav_menu": {
    "height": "102px",
    "width": "252px"
   },
   "navigate_menu": true,
   "number_sections": true,
   "sideBar": true,
   "threshold": 4,
   "toc_cell": true,
   "toc_section_display": "block",
   "toc_window_display": false,
   "widenNotebook": false
  }
 },
 "nbformat": 4,
 "nbformat_minor": 2
}
