{
 "cells": [
  {
   "cell_type": "markdown",
   "metadata": {
    "toc": "true"
   },
   "source": [
    "# Table of Contents\n",
    " <p><div class=\"lev1 toc-item\"><a href=\"#爬取单页内容\" data-toc-modified-id=\"爬取单页内容-1\"><span class=\"toc-item-num\">1&nbsp;&nbsp;</span>爬取单页内容</a></div><div class=\"lev1 toc-item\"><a href=\"#读取单页内容\" data-toc-modified-id=\"读取单页内容-2\"><span class=\"toc-item-num\">2&nbsp;&nbsp;</span>读取单页内容</a></div><div class=\"lev1 toc-item\"><a href=\"#爬取多页内容\" data-toc-modified-id=\"爬取多页内容-3\"><span class=\"toc-item-num\">3&nbsp;&nbsp;</span>爬取多页内容</a></div><div class=\"lev2 toc-item\"><a href=\"#首页-&gt;-财经频道-&gt;-要闻-&gt;-公司新闻\" data-toc-modified-id=\"首页->-财经频道->-要闻->-公司新闻-31\"><span class=\"toc-item-num\">3.1&nbsp;&nbsp;</span>首页 &gt; 财经频道 &gt; 要闻 &gt; 公司新闻</a></div><div class=\"lev2 toc-item\"><a href=\"#首页-&gt;-财经频道-&gt;-要闻-&gt;-上市公司-&gt;-列表\" data-toc-modified-id=\"首页->-财经频道->-要闻->-上市公司->-列表-32\"><span class=\"toc-item-num\">3.2&nbsp;&nbsp;</span>首页 &gt; 财经频道 &gt; 要闻 &gt; 上市公司 &gt; 列表</a></div><div class=\"lev1 toc-item\"><a href=\"#读取多页内容\" data-toc-modified-id=\"读取多页内容-4\"><span class=\"toc-item-num\">4&nbsp;&nbsp;</span>读取多页内容</a></div><div class=\"lev2 toc-item\"><a href=\"#读取-3.1\" data-toc-modified-id=\"读取-3.1-41\"><span class=\"toc-item-num\">4.1&nbsp;&nbsp;</span>读取 3.1</a></div><div class=\"lev2 toc-item\"><a href=\"#读取-3.2\" data-toc-modified-id=\"读取-3.2-42\"><span class=\"toc-item-num\">4.2&nbsp;&nbsp;</span>读取 3.2</a></div><div class=\"lev2 toc-item\"><a href=\"#集合数据\" data-toc-modified-id=\"集合数据-43\"><span class=\"toc-item-num\">4.3&nbsp;&nbsp;</span>集合数据</a></div><div class=\"lev1 toc-item\"><a href=\"#标注数据\" data-toc-modified-id=\"标注数据-5\"><span class=\"toc-item-num\">5&nbsp;&nbsp;</span>标注数据</a></div><div class=\"lev2 toc-item\"><a href=\"#标注细节\" data-toc-modified-id=\"标注细节-51\"><span class=\"toc-item-num\">5.1&nbsp;&nbsp;</span>标注细节</a></div><div class=\"lev3 toc-item\"><a href=\"#实体标注细节\" data-toc-modified-id=\"实体标注细节-511\"><span class=\"toc-item-num\">5.1.1&nbsp;&nbsp;</span>实体标注细节</a></div><div class=\"lev3 toc-item\"><a href=\"#关系标注细节\" data-toc-modified-id=\"关系标注细节-512\"><span class=\"toc-item-num\">5.1.2&nbsp;&nbsp;</span>关系标注细节</a></div>"
   ]
  },
  {
   "cell_type": "markdown",
   "metadata": {
    "heading_collapsed": true
   },
   "source": [
    "# 爬取单页内容"
   ]
  },
  {
   "cell_type": "code",
   "execution_count": 101,
   "metadata": {
    "collapsed": true,
    "hidden": true
   },
   "outputs": [],
   "source": [
    "import requests\n",
    "from requests.exceptions import RequestException\n",
    "import re\n",
    "import json"
   ]
  },
  {
   "cell_type": "code",
   "execution_count": 102,
   "metadata": {
    "collapsed": true,
    "hidden": true
   },
   "outputs": [],
   "source": [
    "def get_one_page(url):\n",
    "    try:\n",
    "        response = requests.get(url).content.decode('utf-8')\n",
    "        if requests.get(url).status_code == 200:\n",
    "            return response\n",
    "        return None\n",
    "    except RequestException:\n",
    "        return None\n",
    "\n",
    "def write_to_file(content):\n",
    "    with open('single_page.json', 'a', encoding='utf-8') as f:\n",
    "        f.write(json.dumps(content, ensure_ascii=False) + '\\n')\n",
    "        f.close()\n",
    "        \n",
    "def parse_one_page(html):\n",
    "    pattern = re.compile('<p class=\"title\">.*?<a href=\".*?\">(.*?)</a>.*?<p class=\"info\" title=\"(.*?)\">.*?<p class=\"time\">(.*?)</p>'\n",
    "                         , re.S)\n",
    "    items = re.findall(pattern, html)\n",
    "    for item in items:\n",
    "        yield {\n",
    "            'title': item[0],\n",
    "            'abstract': item[1],\n",
    "            'time': item[2][:-6]\n",
    "        }    "
   ]
  },
  {
   "cell_type": "code",
   "execution_count": 103,
   "metadata": {
    "collapsed": true,
    "hidden": true
   },
   "outputs": [],
   "source": [
    "url = 'http://finance.eastmoney.com/news/cgsxw_23.html'\n",
    "html = get_one_page(url)\n",
    "single_page = parse_one_page(html)\n",
    "for s in single_page:\n",
    "    write_to_file(s)"
   ]
  },
  {
   "cell_type": "markdown",
   "metadata": {
    "heading_collapsed": true
   },
   "source": [
    "# 读取单页内容"
   ]
  },
  {
   "cell_type": "code",
   "execution_count": 4,
   "metadata": {
    "collapsed": true,
    "hidden": true
   },
   "outputs": [],
   "source": [
    "import json\n",
    "import pickle"
   ]
  },
  {
   "cell_type": "code",
   "execution_count": 14,
   "metadata": {
    "collapsed": true,
    "hidden": true
   },
   "outputs": [],
   "source": [
    "with open('single_page.json') as f:\n",
    "    lines = f.readlines()\n",
    "    \n",
    "title = []\n",
    "abstract = []\n",
    "time = []\n",
    "for line in lines:\n",
    "    item = json.loads(line)\n",
    "    title.append(item['title'].strip())\n",
    "    abstract.append(item['abstract'].strip())\n",
    "    time.append('2017年' + item['time'].strip()[:-6])\n",
    "    \n",
    "tokens = (title, abstract, time)"
   ]
  },
  {
   "cell_type": "code",
   "execution_count": 15,
   "metadata": {
    "hidden": true
   },
   "outputs": [
    {
     "data": {
      "text/plain": [
       "(18, 18, {'2017年06月12日'})"
      ]
     },
     "execution_count": 15,
     "metadata": {},
     "output_type": "execute_result"
    }
   ],
   "source": [
    "len(title), len(abstract), set(time)"
   ]
  },
  {
   "cell_type": "code",
   "execution_count": 18,
   "metadata": {
    "collapsed": true,
    "hidden": true
   },
   "outputs": [],
   "source": [
    "with open('tokens.pkl', 'wb') as fp:\n",
    "    pickle.dump(tokens, fp)"
   ]
  },
  {
   "cell_type": "code",
   "execution_count": 19,
   "metadata": {
    "collapsed": true,
    "hidden": true
   },
   "outputs": [],
   "source": [
    "with open('tokens.pkl', 'rb') as fp:\n",
    "    title, abstract, time = pickle.load(fp)"
   ]
  },
  {
   "cell_type": "code",
   "execution_count": 21,
   "metadata": {
    "hidden": true
   },
   "outputs": [
    {
     "data": {
      "text/plain": [
       "'日播时尚业绩滑坡库存高 女装三年13起抽检不合格'"
      ]
     },
     "execution_count": 21,
     "metadata": {},
     "output_type": "execute_result"
    }
   ],
   "source": [
    "title[0]"
   ]
  },
  {
   "cell_type": "code",
   "execution_count": 22,
   "metadata": {
    "hidden": true
   },
   "outputs": [
    {
     "data": {
      "text/plain": [
       "'中国经济网记者就上述问题向公司证券事务部发去采访函，截至发稿时未收到回复。中孚信息是专注于信息安全领域的高新技术企业，主营业务为信息安全产品研发、生产、销售及信息安全服务。公司主要产品及服务包括信息安全保密产品、商用密码产品、信息安全服务。信息安全保密产品服务对象主要为党政机关、军工企业、中央企业、科研院所等，商用密码产品服务领域主要为金融、税务、工商等。信息安全服务为涉密信息系统集成服务。公司坚持自主创新，研发了主要面向党政机关、军工企业、中央企业、科研院所的信息安全保密产品，部分产品处于国内领先地位。'"
      ]
     },
     "execution_count": 22,
     "metadata": {},
     "output_type": "execute_result"
    }
   ],
   "source": [
    "abstract[0]"
   ]
  },
  {
   "cell_type": "code",
   "execution_count": 23,
   "metadata": {
    "hidden": true
   },
   "outputs": [
    {
     "data": {
      "text/plain": [
       "'2017年06月12日'"
      ]
     },
     "execution_count": 23,
     "metadata": {},
     "output_type": "execute_result"
    }
   ],
   "source": [
    "time[0]"
   ]
  },
  {
   "cell_type": "markdown",
   "metadata": {},
   "source": [
    "# 爬取多页内容"
   ]
  },
  {
   "cell_type": "markdown",
   "metadata": {},
   "source": [
    "## 首页 > 财经频道 > 要闻 > 公司新闻"
   ]
  },
  {
   "cell_type": "code",
   "execution_count": 1,
   "metadata": {
    "collapsed": true
   },
   "outputs": [],
   "source": [
    "import requests\n",
    "from multiprocessing import Pool\n",
    "from requests.exceptions import RequestException\n",
    "import re\n",
    "import json\n",
    "import time"
   ]
  },
  {
   "cell_type": "code",
   "execution_count": 2,
   "metadata": {
    "collapsed": true
   },
   "outputs": [],
   "source": [
    "def get_one_page(url):\n",
    "    try:\n",
    "        response = requests.get(url).content.decode('utf-8')\n",
    "        if requests.get(url).status_code == 200:\n",
    "            return response\n",
    "        return None\n",
    "    except RequestException:\n",
    "        return None\n",
    "\n",
    "def write_to_file(content):\n",
    "    with open('all_pages.json', 'a', encoding='utf-8') as f:\n",
    "        f.write(json.dumps(content, ensure_ascii=False) + '\\n')\n",
    "        f.close()\n",
    "        \n",
    "def parse_one_page(html):\n",
    "    pattern = re.compile('<p class=\"title\">.*?<a href=\".*?\">(.*?)</a>.*?<p class=\"info\" title=\"(.*?)\">.*?<p class=\"time\">(.*?)</p>'\n",
    "                         , re.S)\n",
    "    items = re.findall(pattern, html)\n",
    "    for item in items:\n",
    "        yield {\n",
    "            'title': item[0],\n",
    "            'abstract': item[1],\n",
    "            'time': item[2]\n",
    "        }    \n",
    "\n",
    "def all_pages(num):\n",
    "    url = 'http://finance.eastmoney.com/news/cgsxw_' + str(num) + '.html'\n",
    "    html = get_one_page(url)\n",
    "    for item in parse_one_page(html):\n",
    "        write_to_file(item)"
   ]
  },
  {
   "cell_type": "code",
   "execution_count": 3,
   "metadata": {
    "scrolled": false
   },
   "outputs": [
    {
     "data": {
      "text/plain": [
       "[None,\n",
       " None,\n",
       " None,\n",
       " None,\n",
       " None,\n",
       " None,\n",
       " None,\n",
       " None,\n",
       " None,\n",
       " None,\n",
       " None,\n",
       " None,\n",
       " None,\n",
       " None,\n",
       " None,\n",
       " None,\n",
       " None,\n",
       " None,\n",
       " None,\n",
       " None,\n",
       " None,\n",
       " None,\n",
       " None,\n",
       " None,\n",
       " None]"
      ]
     },
     "execution_count": 3,
     "metadata": {},
     "output_type": "execute_result"
    }
   ],
   "source": [
    "pool = Pool()\n",
    "pool.map(all_pages, [i+1 for i in range(25)])"
   ]
  },
  {
   "cell_type": "code",
   "execution_count": 4,
   "metadata": {
    "collapsed": true
   },
   "outputs": [],
   "source": [
    "#start = time.time()\n",
    "#for i in range(23):\n",
    "#    all_pages(i+1)\n",
    "#end = time.time()\n",
    "#print('Time-consuming: %.3fs' % (end - start))"
   ]
  },
  {
   "cell_type": "markdown",
   "metadata": {},
   "source": [
    "## 首页 > 财经频道 > 要闻 > 上市公司 > 列表"
   ]
  },
  {
   "cell_type": "code",
   "execution_count": 5,
   "metadata": {
    "collapsed": true
   },
   "outputs": [],
   "source": [
    "import requests\n",
    "from multiprocessing import Pool\n",
    "from requests.exceptions import RequestException\n",
    "import re\n",
    "import json\n",
    "import time"
   ]
  },
  {
   "cell_type": "code",
   "execution_count": 6,
   "metadata": {
    "collapsed": true
   },
   "outputs": [],
   "source": [
    "def get_one_page(url):\n",
    "    try:\n",
    "        response = requests.get(url).content.decode('utf-8')\n",
    "        if requests.get(url).status_code == 200:\n",
    "            return response\n",
    "        return None\n",
    "    except RequestException:\n",
    "        return None\n",
    "\n",
    "def write_to_file(content):\n",
    "    with open('all_pages_2.json', 'a', encoding='utf-8') as f:\n",
    "        f.write(json.dumps(content, ensure_ascii=False, sort_keys=True) + '\\n')\n",
    "        f.close()\n",
    "        \n",
    "def parse_one_page(html):\n",
    "    pattern = re.compile('<p class=\"title\">.*?<a href=\".*?\">(.*?)</a>.*?<p class=\"info\" title=\"(.*?)\">.*?<p class=\"time\">(.*?)</p>'\n",
    "                         , re.S)\n",
    "    items = re.findall(pattern, html)\n",
    "    for item in items:\n",
    "        yield {\n",
    "            'title': item[0],\n",
    "            'abstract': item[1],\n",
    "            'time': item[2]\n",
    "        }    \n",
    "\n",
    "def all_pages(num):\n",
    "    url = 'http://finance.eastmoney.com/news/cssgs_' + str(num) + '.html'\n",
    "    html = get_one_page(url)\n",
    "    for item in parse_one_page(html):\n",
    "        write_to_file(item)"
   ]
  },
  {
   "cell_type": "code",
   "execution_count": 7,
   "metadata": {},
   "outputs": [
    {
     "data": {
      "text/plain": [
       "[None,\n",
       " None,\n",
       " None,\n",
       " None,\n",
       " None,\n",
       " None,\n",
       " None,\n",
       " None,\n",
       " None,\n",
       " None,\n",
       " None,\n",
       " None,\n",
       " None,\n",
       " None,\n",
       " None,\n",
       " None,\n",
       " None,\n",
       " None,\n",
       " None,\n",
       " None,\n",
       " None,\n",
       " None,\n",
       " None,\n",
       " None,\n",
       " None]"
      ]
     },
     "execution_count": 7,
     "metadata": {},
     "output_type": "execute_result"
    }
   ],
   "source": [
    "pool = Pool()\n",
    "pool.map(all_pages, [i+1 for i in range(25)])"
   ]
  },
  {
   "cell_type": "code",
   "execution_count": 8,
   "metadata": {
    "collapsed": true
   },
   "outputs": [],
   "source": [
    "#start = time.time()\n",
    "#for i in range(9):\n",
    "#    all_pages(i+1)\n",
    "#end = time.time()\n",
    "#print('Time-consuming: %.3fs' % (end - start))"
   ]
  },
  {
   "cell_type": "markdown",
   "metadata": {},
   "source": [
    "# 读取多页内容"
   ]
  },
  {
   "cell_type": "markdown",
   "metadata": {},
   "source": [
    "## 读取 3.1"
   ]
  },
  {
   "cell_type": "code",
   "execution_count": 8,
   "metadata": {
    "collapsed": true
   },
   "outputs": [],
   "source": [
    "import json\n",
    "import pickle"
   ]
  },
  {
   "cell_type": "code",
   "execution_count": 9,
   "metadata": {
    "collapsed": true,
    "scrolled": false
   },
   "outputs": [],
   "source": [
    "with open('all_pages.json') as f:\n",
    "    lines = f.readlines()\n",
    "       \n",
    "title = []\n",
    "abstract = []\n",
    "time = []\n",
    "for line in list(set(lines)):\n",
    "    item = json.loads(line)\n",
    "    title.append(item['title'].strip())\n",
    "    abstract.append(item['abstract'].strip())\n",
    "    time.append('2017年' + item['time'].strip()[:-6])\n",
    "    \n",
    "tokens = (title, abstract, time)"
   ]
  },
  {
   "cell_type": "code",
   "execution_count": 10,
   "metadata": {
    "collapsed": true
   },
   "outputs": [],
   "source": [
    "#with open('all_tokens.pkl', 'wb') as fp:\n",
    "#    pickle.dump(tokens, fp)"
   ]
  },
  {
   "cell_type": "code",
   "execution_count": 11,
   "metadata": {
    "collapsed": true
   },
   "outputs": [],
   "source": [
    "#with open('all_tokens.pkl', 'rb') as fp:\n",
    "#    title, abstract, time = pickle.load(fp)"
   ]
  },
  {
   "cell_type": "code",
   "execution_count": 12,
   "metadata": {},
   "outputs": [
    {
     "data": {
      "text/plain": [
       "(5532, 3724, 3692, 3724)"
      ]
     },
     "execution_count": 12,
     "metadata": {},
     "output_type": "execute_result"
    }
   ],
   "source": [
    "len(lines), len(title), len(set(abstract)), len(time)"
   ]
  },
  {
   "cell_type": "code",
   "execution_count": 13,
   "metadata": {},
   "outputs": [
    {
     "data": {
      "text/plain": [
       "(3724, 3714, 3692, 17)"
      ]
     },
     "execution_count": 13,
     "metadata": {},
     "output_type": "execute_result"
    }
   ],
   "source": [
    "len(set(lines)), len(set(title)), len(set(abstract)), len(set(time))"
   ]
  },
  {
   "cell_type": "code",
   "execution_count": 14,
   "metadata": {},
   "outputs": [
    {
     "data": {
      "text/plain": [
       "{'2017年08月07日',\n",
       " '2017年08月08日',\n",
       " '2017年08月09日',\n",
       " '2017年08月10日',\n",
       " '2017年08月11日',\n",
       " '2017年08月12日',\n",
       " '2017年08月13日',\n",
       " '2017年08月14日',\n",
       " '2017年08月15日',\n",
       " '2017年08月16日',\n",
       " '2017年08月17日',\n",
       " '2017年08月18日',\n",
       " '2017年08月19日',\n",
       " '2017年08月20日',\n",
       " '2017年08月30日',\n",
       " '2017年08月31日',\n",
       " '2017年09月01日'}"
      ]
     },
     "execution_count": 14,
     "metadata": {},
     "output_type": "execute_result"
    }
   ],
   "source": [
    "set(time)"
   ]
  },
  {
   "cell_type": "code",
   "execution_count": 15,
   "metadata": {},
   "outputs": [
    {
     "data": {
      "text/plain": [
       "'深圳能源：子公司将出租、出售住宅项目 预增年度净利4亿元'"
      ]
     },
     "execution_count": 15,
     "metadata": {},
     "output_type": "execute_result"
    }
   ],
   "source": [
    "title[0]"
   ]
  },
  {
   "cell_type": "code",
   "execution_count": 16,
   "metadata": {},
   "outputs": [
    {
     "data": {
      "text/plain": [
       "'【深圳能源：子公司将出租、出售住宅项目 预增年度净利4亿元】深圳能源(000027) 16日晚公告，控股子公司妈湾公司拟将开发建设的深圳市南山区电力花园二期住宅项目整体定向、分期向深圳市人才安居集团有限公司租售。（证券时报网）'"
      ]
     },
     "execution_count": 16,
     "metadata": {},
     "output_type": "execute_result"
    }
   ],
   "source": [
    "abstract[0]"
   ]
  },
  {
   "cell_type": "code",
   "execution_count": 17,
   "metadata": {},
   "outputs": [
    {
     "data": {
      "text/plain": [
       "'2017年08月16日'"
      ]
     },
     "execution_count": 17,
     "metadata": {},
     "output_type": "execute_result"
    }
   ],
   "source": [
    "time[0]"
   ]
  },
  {
   "cell_type": "markdown",
   "metadata": {},
   "source": [
    "## 读取 3.2"
   ]
  },
  {
   "cell_type": "code",
   "execution_count": 18,
   "metadata": {
    "collapsed": true
   },
   "outputs": [],
   "source": [
    "import json\n",
    "import pickle"
   ]
  },
  {
   "cell_type": "code",
   "execution_count": 19,
   "metadata": {
    "collapsed": true
   },
   "outputs": [],
   "source": [
    "with open('all_pages_2.json') as f:\n",
    "    lines = f.readlines()\n",
    "       \n",
    "title = []\n",
    "abstract = []\n",
    "time = []\n",
    "for line in list(set(lines)):\n",
    "    item = json.loads(line)\n",
    "    title.append(item['title'].strip())\n",
    "    abstract.append(item['abstract'].strip())\n",
    "    time.append('2017年' + item['time'].strip()[:-6])\n",
    "    \n",
    "tokens = (title, abstract, time)"
   ]
  },
  {
   "cell_type": "code",
   "execution_count": 20,
   "metadata": {
    "collapsed": true
   },
   "outputs": [],
   "source": [
    "#with open('all_tokens_2.pkl', 'wb') as fp:\n",
    "#    pickle.dump(tokens, fp)"
   ]
  },
  {
   "cell_type": "code",
   "execution_count": 21,
   "metadata": {
    "collapsed": true
   },
   "outputs": [],
   "source": [
    "#with open('all_tokens_2.pkl', 'rb') as fp:\n",
    "#    title, abstract, time = pickle.load(fp)"
   ]
  },
  {
   "cell_type": "code",
   "execution_count": 22,
   "metadata": {},
   "outputs": [
    {
     "data": {
      "text/plain": [
       "(3497, 1623, 1623, 1623)"
      ]
     },
     "execution_count": 22,
     "metadata": {},
     "output_type": "execute_result"
    }
   ],
   "source": [
    "len(lines), len(title), len(abstract), len(time)"
   ]
  },
  {
   "cell_type": "code",
   "execution_count": 23,
   "metadata": {},
   "outputs": [
    {
     "data": {
      "text/plain": [
       "(1623, 1620, 1588, 17)"
      ]
     },
     "execution_count": 23,
     "metadata": {},
     "output_type": "execute_result"
    }
   ],
   "source": [
    "len(set(lines)), len(set(title)), len(set(abstract)), len(set(time))"
   ]
  },
  {
   "cell_type": "code",
   "execution_count": 24,
   "metadata": {},
   "outputs": [
    {
     "data": {
      "text/plain": [
       "{'2017年08月07日',\n",
       " '2017年08月08日',\n",
       " '2017年08月09日',\n",
       " '2017年08月10日',\n",
       " '2017年08月11日',\n",
       " '2017年08月12日',\n",
       " '2017年08月13日',\n",
       " '2017年08月14日',\n",
       " '2017年08月15日',\n",
       " '2017年08月16日',\n",
       " '2017年08月17日',\n",
       " '2017年08月18日',\n",
       " '2017年08月19日',\n",
       " '2017年08月29日',\n",
       " '2017年08月30日',\n",
       " '2017年08月31日',\n",
       " '2017年09月01日'}"
      ]
     },
     "execution_count": 24,
     "metadata": {},
     "output_type": "execute_result"
    }
   ],
   "source": [
    "set(time)"
   ]
  },
  {
   "cell_type": "code",
   "execution_count": 25,
   "metadata": {},
   "outputs": [
    {
     "data": {
      "text/plain": [
       "'出资8亿控股能投风电 *ST川化产业转型再进一步'"
      ]
     },
     "execution_count": 25,
     "metadata": {},
     "output_type": "execute_result"
    }
   ],
   "source": [
    "title[0]"
   ]
  },
  {
   "cell_type": "code",
   "execution_count": 26,
   "metadata": {},
   "outputs": [
    {
     "data": {
      "text/plain": [
       "'【出资8亿控股能投风电 *ST川化产业转型再进一步】在四川省大力推进上市公司并购重组、全力提高国资证券化率的双重背景下，*ST川化筹划许久的资产收购方案于今日出炉，公司拟以现金方式收购能投风电55%股权，由此快速进入风电运营领域，也为公司未来的进一步转型发展奠定基础。（上海证券报）'"
      ]
     },
     "execution_count": 26,
     "metadata": {},
     "output_type": "execute_result"
    }
   ],
   "source": [
    "abstract[0]"
   ]
  },
  {
   "cell_type": "code",
   "execution_count": 27,
   "metadata": {},
   "outputs": [
    {
     "data": {
      "text/plain": [
       "'2017年08月11日'"
      ]
     },
     "execution_count": 27,
     "metadata": {},
     "output_type": "execute_result"
    }
   ],
   "source": [
    "time[0]"
   ]
  },
  {
   "cell_type": "markdown",
   "metadata": {},
   "source": [
    "## 集合数据"
   ]
  },
  {
   "cell_type": "code",
   "execution_count": 28,
   "metadata": {
    "collapsed": true
   },
   "outputs": [],
   "source": [
    "import json\n",
    "import pickle"
   ]
  },
  {
   "cell_type": "code",
   "execution_count": 29,
   "metadata": {
    "collapsed": true
   },
   "outputs": [],
   "source": [
    "title = []\n",
    "abstract = []"
   ]
  },
  {
   "cell_type": "code",
   "execution_count": 30,
   "metadata": {
    "collapsed": true
   },
   "outputs": [],
   "source": [
    "with open('all_pages.json') as f1:\n",
    "    lines1 = f1.readlines()\n",
    "       \n",
    "with open('all_pages_2.json') as f2:\n",
    "    lines2 = f2.readlines()\n",
    "        \n",
    "for line in list(set(lines1)):\n",
    "    item = json.loads(line)\n",
    "    title.append(item['title'].strip())\n",
    "    abstract.append(item['abstract'].strip())\n",
    "\n",
    "for line in list(set(lines2)):\n",
    "    item = json.loads(line)\n",
    "    title.append(item['title'].strip())\n",
    "    abstract.append(item['abstract'].strip())\n",
    "    \n",
    "title = list(set(title))\n",
    "abstract = list(set(abstract))"
   ]
  },
  {
   "cell_type": "code",
   "execution_count": 31,
   "metadata": {
    "collapsed": true
   },
   "outputs": [],
   "source": [
    "with open('title.pkl', 'wb') as fp:\n",
    "    pickle.dump(title, fp)\n",
    "with open('abstract.pkl', 'wb') as fp:\n",
    "    pickle.dump(abstract, fp)"
   ]
  },
  {
   "cell_type": "code",
   "execution_count": 32,
   "metadata": {
    "collapsed": true
   },
   "outputs": [],
   "source": [
    "#with open('title.pkl', 'rb') as fp:\n",
    "#    title = pickle.load(fp)\n",
    "#with open('abstract.pkl', 'rb') as fp:\n",
    "#    abstract = pickle.load(fp)"
   ]
  },
  {
   "cell_type": "code",
   "execution_count": 33,
   "metadata": {},
   "outputs": [
    {
     "data": {
      "text/plain": [
       "(4190, 4032)"
      ]
     },
     "execution_count": 33,
     "metadata": {},
     "output_type": "execute_result"
    }
   ],
   "source": [
    "len(title), len(abstract)"
   ]
  },
  {
   "cell_type": "code",
   "execution_count": 34,
   "metadata": {},
   "outputs": [
    {
     "data": {
      "text/plain": [
       "'凤形股份股东计划减持不超176万股'"
      ]
     },
     "execution_count": 34,
     "metadata": {},
     "output_type": "execute_result"
    }
   ],
   "source": [
    "title[1]"
   ]
  },
  {
   "cell_type": "code",
   "execution_count": 35,
   "metadata": {},
   "outputs": [
    {
     "data": {
      "text/plain": [
       "'【双环传动：上半年净利增约四成 推2000万股限制性股票】双环传动(002472)8月20日晚披露半年报，公司上半年实现营业总收入11.21亿元，同比增长43%；净利润1.14亿元，同比增38.46%。此外，公司拟向激励对象授予限制性股票2000万股，占总股本的2.96%。股票来源为二级市场上回购股份和向激励对象定向发行股份，目前公司已回购1000万股，将全部作为实施公司激励计划的部分股票来源。（证券时报网）'"
      ]
     },
     "execution_count": 35,
     "metadata": {},
     "output_type": "execute_result"
    }
   ],
   "source": [
    "abstract[1]"
   ]
  },
  {
   "cell_type": "markdown",
   "metadata": {},
   "source": [
    "# 标注数据"
   ]
  },
  {
   "cell_type": "code",
   "execution_count": 36,
   "metadata": {
    "collapsed": true
   },
   "outputs": [],
   "source": [
    "import json\n",
    "import pickle"
   ]
  },
  {
   "cell_type": "markdown",
   "metadata": {},
   "source": [
    "```python\n",
    "with open('abstract_data/01.pkl', 'rb') as fp:\n",
    "    abstract = pickle.load(fp)\n",
    "with open('abstract_data/02.pkl', 'rb') as fp:\n",
    "    abstract_2 = pickle.load(fp)\n",
    "abstract.extend(abstract_2)\n",
    "abstract = list(set(abstract))\n",
    "len(abstract)\n",
    "```"
   ]
  },
  {
   "cell_type": "code",
   "execution_count": 58,
   "metadata": {},
   "outputs": [
    {
     "data": {
      "text/plain": [
       "4190"
      ]
     },
     "execution_count": 58,
     "metadata": {},
     "output_type": "execute_result"
    }
   ],
   "source": [
    "with open('title_data/11.pkl', 'rb') as fp:\n",
    "    title = pickle.load(fp)\n",
    "title = list(set(title))\n",
    "len(title)"
   ]
  },
  {
   "cell_type": "code",
   "execution_count": 59,
   "metadata": {
    "scrolled": true
   },
   "outputs": [
    {
     "data": {
      "text/plain": [
       "['百德国际完成收购佳力科技(i-制造)',\n",
       " '凤形股份股东计划减持不超176万股',\n",
       " '双环科技实控人或变更',\n",
       " '万洲国际上半年归于双汇实业集团股东的净利减少11.71%至11.25亿元',\n",
       " '金融街前三季预增45%-80%',\n",
       " '中国电信将在雄安新区建设国家骨干网核心节点 5G创新示范网启动建设',\n",
       " '联想第一财季净亏损7200万美元',\n",
       " '九有股份：大股东筹划重大事项 或致公司控制权变更',\n",
       " '光大证券：上半年净利同比降18% 证金公司持股达4.99%',\n",
       " '万德金融完成收购衡资产管理51%股份溢价11.11%发行1亿股代价股份',\n",
       " '朗姿股份拟12亿元参与设立时尚产业合伙企业',\n",
       " '嘉寓股份：中标1.92亿光伏扶贫电站项目',\n",
       " '保千里：实控人及其一致行动人遭证监会行政处罚',\n",
       " '卖卖卖后又搞大动作 这家万达系公司一天大涨20%',\n",
       " '基金重仓58只“创蓝筹”股票 中邮基金任泽松与国家队“齐恋”昆仑万维',\n",
       " '融资111亿 北汽新能源蓄势待发',\n",
       " '沪股通连续三天净卖出贵州茅台 力度仍温和',\n",
       " '百灵达国际控股建议改名“新源万恒控股”',\n",
       " '农发行禹城违法向客户收取投融资财务顾问费',\n",
       " '先达国际物流：圆通预期3星期内就外汇审批向外汇管理部门提交申请',\n",
       " '500元！茅台成25年A股第一高价股 总市值超半个贵州GDP',\n",
       " '晶科电子上半年营收超4亿 净利同增逾六成',\n",
       " '中国支付通完成发行第二批认购股份已发行股本增至16.61亿股',\n",
       " '投融长富延长订立正式协议涉收购中油星光不少于51%的股本',\n",
       " '盛运环保：子公司获阿勒泰地区生活垃圾焚烧发电项目',\n",
       " '新力金融控股股东发布新增持计划',\n",
       " '天源迪科：上半年净利同比增长303%',\n",
       " '龙头股份、申达股份：纺织集团与东方国际（集团）实施联合重组',\n",
       " '泰达股份控股股东拟变更为泰达控股',\n",
       " '科地农业一季度扭亏为盈股东应占溢利159万港元',\n",
       " '伊利中报：上半年净利润33.68亿元',\n",
       " '交通银行聊城分行业务审查违规',\n",
       " '洲际油气控股股东股份被全部冻结',\n",
       " '坚瑞沃能4名股东拟合计减持不超4315.57万股',\n",
       " '班尼路长裤检出禁用染料 与皮肤接触可诱发恶性疾病',\n",
       " '萤石价格有所上升 金石资源半年报增两成',\n",
       " '贵人鸟转型被指缺乏产业联动：主业营收下滑',\n",
       " '华润燃气王添根辞任首席财务官 黎小双接任',\n",
       " '中国幸福投资拟向荣成及宏德投资发行6900万港元的可换股债',\n",
       " '耐普矿机IPO首发被否 高毛利率及持续盈利能力等被问询',\n",
       " '西山煤电：被山西发改委处罚505万元',\n",
       " '楼市通网2017年上半年净利润98.24万元 同比下降逾7成',\n",
       " '抽身宏达新材 富电集团掌门庞雷转战斯太尔',\n",
       " '白云山：“王老吉红罐装潢纠纷案”判决对公司利润不会产生影响',\n",
       " '达华智能：签署境外投资股权意向性投资协议 14日复牌',\n",
       " '阿里来了！ 这次能颠覆住房产业吗？',\n",
       " '青岛控股拟成立合资经营与教育相关的业务',\n",
       " '宏基资本拟向主席陈伟伦的妻子及母亲出售2间宏创方物业单位',\n",
       " '畜牧业与广告业“联姻”：天山生物急着“娶” 大象股份急着“嫁”',\n",
       " '弘业期货附属拟与江苏化肥开展动力煤的基差贸易',\n",
       " '方正证券：上半年净利降逾六成',\n",
       " '杭氧股份创逾两年新高',\n",
       " '广汽集团董事会通过广汽新能源A18项目总投资4.96亿元',\n",
       " '红太阳半年报净利增长513%',\n",
       " '五矿稀土：上半年实现净利2642万元 扭亏为盈',\n",
       " '联通率先走混改之路 挑战移动霸主地位胜算几成',\n",
       " '第一创业：正研究新的补充净资本的再融资方案',\n",
       " '千亿资产大腾挪完成 王健林宣布：万达彻底告别房地产！',\n",
       " '太平人寿：创新保险扶贫产品设计',\n",
       " '中国金茂业绩会实录：盈利大增一倍价值低估未来继续增持',\n",
       " '国电、神华“结合”七夕获准 三类股有望受益',\n",
       " '中泛控股委任张喜芳为执行董事',\n",
       " '大富科技：上半年亏损8849万元 同比由盈转亏',\n",
       " '分众传媒现4.66亿元大宗交易 机构席位接盘',\n",
       " '招商银行上半年赚392.59亿 更扎心的是员工人均月薪接近3万元',\n",
       " '华富国际更名为“中国泛海金融”',\n",
       " '融钰集团跨界赌局有点悬',\n",
       " '金洲管道：再获新晋大股东增持1%股份',\n",
       " '迈兰制药公告业绩不及预期下调17年财测股价下跌9%',\n",
       " '民生信托申请撤销法院冻结 率先与乐视和解',\n",
       " '顺络电子第一大股东拟变更',\n",
       " '中国神华携手国电电力今日复盘 开盘双双涨停',\n",
       " '南宁百货举牌方遭问询：和其他股东有无关联？',\n",
       " '恒源煤电：煤炭行业效益好转 上半年净利增超10倍',\n",
       " '易还财务投资8月11日斥资23万港元回购28.5万股',\n",
       " '恒生电子：拟3.67亿元收购大智慧（香港）51%股权',\n",
       " '凯迪生态未披露并购企业为控股股东旗下资产 收交易所监管函',\n",
       " '岳阳林纸：子公司签50亿元森林旅游产品开发协议',\n",
       " '特斯拉将发行15亿美元债券 助力Model3量产',\n",
       " '达华智能拟1.2亿美元入股马来西亚卫星运营商',\n",
       " '御食园上半年净利润下滑超3成',\n",
       " '龙星化工：受益炭黑价格上涨 上半年净利同比扭亏',\n",
       " '北控清洁能源集团斥1.95亿元共同设立合伙企业',\n",
       " '贵州茅台拟筹金融控股公司 目标：千亿茅台！',\n",
       " '中体产业半年报增近九成',\n",
       " '信达财险闹乌龙风险评级降至C类 股权变动小股东无奈出局',\n",
       " '川恒股份成功上市 自主研发高新技术引领行业变革',\n",
       " '贵州茅台拉升涨破500元大关 机构：预计最高可达600元/股',\n",
       " '沃特股份获得两项发明专利',\n",
       " '中文在线将出资14.7亿全控晨之科',\n",
       " '利基控股附属再获限额5000万港元的银行融资',\n",
       " '中环环保与中国出版网上申购中签号出炉',\n",
       " '珠光控股附属2627.24万元出售广州天河区物业',\n",
       " '神秘老牌私募重仓尔康制药踩雷恐巨亏 比基金还惨！',\n",
       " '*ST智慧：实控人两兄弟相继辞任董事长职务',\n",
       " '龙虎榜：机构买入天原集团 近三天机构首次卖出索通发展',\n",
       " '兖州煤业涉案被索赔近亿元 辩称公章遭伪造所致',\n",
       " '闽瑞环保因环保不达标被罚1.42万',\n",
       " '新达控股因上市开支中期由盈转亏至597.9万元',\n",
       " '谷歌收购人工智能视觉科技公司',\n",
       " '那一瞬间股价暴涨2020306% 海亮教育“亮了”这又是乌龙指干的？',\n",
       " '三赢的选择 李书福携“吉沃”协同作战',\n",
       " '江山化工上半年净利润同比增长逾11倍',\n",
       " '新股提示：中大力德8月18日申购',\n",
       " '优源控股折价4.96%发行7679.34万股代价股份',\n",
       " '前期涨价龙头方大炭素收盘大涨逾9% 市值接近600亿元',\n",
       " '鹏欣资源19亿买金矿已停产7年 复产还有26亿资金缺口',\n",
       " '雄安新区成立后首家新设金融机构开业',\n",
       " '秦港股份中期净利润约6.17亿港元同比增长349.2%',\n",
       " '腾讯微信、新浪微博、百度贴吧涉嫌违反《网络安全法》被立案调查',\n",
       " '美媒：32位女CEO登《财富》500强 美大企业女总裁仍稀少',\n",
       " '联旺集团第一季净利增加2.4倍至1266.9万港元',\n",
       " '森合高科拟定增5000万元',\n",
       " '越秀交通基建：在手12条高速 以高股息率保护股民权益',\n",
       " '东风风神自立战书：2020年挑战50万辆目标',\n",
       " '西山煤电放量涨停 两机构抛售逾6400万元',\n",
       " '中泰化学半年报增三倍 三季报预增160%',\n",
       " '富贵金洲二季度清仓华北高速 接盘方或为两自然人',\n",
       " '海亮教育董事长当了8分钟世界首富 股价疑因乌龙指涨两万倍',\n",
       " '新宇环保上半年净利增10.2%至4684万港元',\n",
       " '汇嘉中国每股综合资产净值约2.57港元',\n",
       " '正极材料业务大幅提升 杉杉股份半年报增长五成',\n",
       " '电解铝去产能加速 山东首富旗下中国宏桥确认268万吨产能关停',\n",
       " '鹏辉能源获得AEO高级认证企业证书',\n",
       " '嘉化能源：拟以竞价交易方式回购0.5亿元到5亿元股份',\n",
       " '金山工业：GP工业中期除税后溢利同比增13.3%至931.2万坡元',\n",
       " '欢瑞世纪称控股股东暂无平仓风险',\n",
       " '熙菱信息：魔力眼协助公安机关抓获在逃人员多名',\n",
       " '多起安全事故引整治 湖北宜化新疆公司公告继续整改',\n",
       " '豫新股份上半年营收降逾9成 主办券商提示风险',\n",
       " '冀东水泥：上半年同比大幅减亏 海螺水泥退出十大股东名单',\n",
       " '通威股份：拟投资80亿元建设年产5万吨高纯晶硅及配套新能源项目',\n",
       " 'PACIFICPLYWOOD延长9800万港元贷款还款日期',\n",
       " '中国智能中期扭亏赚2639万人币 不派息',\n",
       " '市场环境明朗 智飞生物上半年净利大增13倍',\n",
       " '期货概念股早盘走强 中国中期强势涨停',\n",
       " '云游控股并购简理财 拿到进军科技金融门票',\n",
       " '安居宝：控股股东减持是为投资项目筹款 并非“跑路”',\n",
       " '棕榈股份：中标2.2亿元园林景观工程项目',\n",
       " '江粉磁材再次涨停 机构获利了结净卖出2.42亿元',\n",
       " '恒鼎实业上半年综合亏损减少59.4%至1.71亿元',\n",
       " '落子深圳苏州谋转型 中江信托连开两家财富管理中心',\n",
       " '关联企业存在同业竞争遭举报 九有股份间接控股股东被指违法违规',\n",
       " '大博医疗等4公司首发申请15日上会',\n",
       " '平安银行：上半年净利125.54亿元 同比增长2.13%',\n",
       " '中国海洋捕捞第一季度业绩由亏转盈686.5万港元',\n",
       " '泰格医药：大临床业务恢复超预期 业绩长期看好',\n",
       " '东吴证券半年净利4.27亿',\n",
       " '川投能源半年报业绩下滑 证金、长江电力逆势增持',\n",
       " '远东控股国际中期减亏51.01%至5947.3万港元',\n",
       " '亿阳信通：控股股东拟增持公司股份1%~2% 18日复牌',\n",
       " '英特尔将建立全自动驾驶测试车队 包含100多辆不同品牌汽车',\n",
       " '康普顿半年报增长近三成 社保基金二季度入股',\n",
       " '巴西石油公司二季度盈利骤降',\n",
       " '魏桥纺织复牌条件已达成将于8月14日复牌',\n",
       " '云南白药交出混改后首张成绩单 大健康布局发力促营收净利双增长',\n",
       " '宏远电器上半年净利润2305万 同比增长12%',\n",
       " '780亿！中国联通混改方案出炉：BAT京东参与投资',\n",
       " '兆易创新复牌一字跌停 65亿收购北京矽成宣告终止',\n",
       " '方正电机：公司董监高及持股5%以上股东合计拟减持不超过2.29%股份',\n",
       " '地大信息签订1730万地质环境信息化建设合同',\n",
       " '方大炭素今年首次跌停 多个游资大肆出逃',\n",
       " '茂业国际预计上半年综合净利大幅增至5.5亿—6.5亿元',\n",
       " '浦发银行不良率跳涨至2.09% 高管称“今年就是要出清不良”',\n",
       " 'S*ST前锋：控股股东股权被部分冻结',\n",
       " '中体产业大股东转让股权未果',\n",
       " '川恒股份中签号码出炉 共72018个',\n",
       " '中国联通吹响混改冲锋号 创业板奋起直追大反弹',\n",
       " '58同城、赶集网等因违法违规发布“大棚房”租售信息被约谈',\n",
       " '国电科环：龙源技术A股可能被暂停上市',\n",
       " '爱乐达中签号码出炉 共3.45万个',\n",
       " '华鸿科技进入上市辅导阶段 辅导机构为中泰证券',\n",
       " '大唐发电：上半年净利10.81亿元 同比降36%',\n",
       " '中百集团：获大股东累计增持1%股份',\n",
       " '普发动力1000万黑河市设子公司',\n",
       " '华大基因19涨停板突破百元 “高精尖”争议引估值博弈',\n",
       " '中国核建：上半年净利同比增8.2% 证金公司新进前十大股东',\n",
       " '海联金汇放量突破',\n",
       " '华英农业：今年羽绒价格同比增长50% 未来会把羽绒产业做大做强',\n",
       " '爱建集团定增延期获股东大会通过',\n",
       " '股东拟减持 中泰化学“闪崩”',\n",
       " '杭州解百上半年业绩：净利下降20.55%、杭州大厦、解百商贸调整',\n",
       " '国浩集团附属Rank年度溢利同比减少15.8%至6290万英镑',\n",
       " '厦门钨业半年报增长562%',\n",
       " 'KNKHOLDINGS第一季净利减少16%至289.6万港元',\n",
       " '万达酒店发展快速拉升 涨幅扩大至42%',\n",
       " '无锡银行：净利润同比增长10.41%',\n",
       " '欧曼科技上半年净利润1226万 同比增长17%',\n",
       " '平潭发展：控股股东筹划股权结构 或涉公司控股权变更',\n",
       " '上交所追问亿利洁能并购对象盈利能力如何',\n",
       " '天成国际8月15日回购748万股涉资331.16万港元',\n",
       " '三毛派神：上半年净利增长逾两倍 牛散赵建平新晋第五大股东',\n",
       " '索罗斯二季度大举增持阿里巴巴',\n",
       " '《战狼2》票房已超35亿元 北京文化尾盘跌停',\n",
       " '浙商银行推业内首款区块链应收款链平台',\n",
       " '载通上半年净利减少2.6%至3.78亿港元中期息每股0.35港元',\n",
       " '中电电机：上半年净利同比降约4% 拟10转5',\n",
       " '民生信托与乐视债务和解 多家机构强调采取足够风控',\n",
       " '龙翔集团合营向九名用户于潍坊港提供码头服务',\n",
       " '运营求新资金雄厚 完美世界为中国电竞注入“增长持久力”',\n",
       " '深股通专用席位今日买入温氏股份、神火股份',\n",
       " '华人饮食集团完成配发5.28亿股募资1000万港元',\n",
       " '中泰桥梁：拟6.39亿元挂牌转让新中泰 剥离桥梁钢构业务聚焦教育业务',\n",
       " '阿里Q1财报：云计算付费用户首超100万 预计年度收入破100亿',\n",
       " '中国稀土主席蒋泉龙被申索1.08亿港元',\n",
       " '永达汽车兑换换股债折价24.04%发行约111.60万股',\n",
       " '连年亏损资产不足以维持上市 华多利集团遭港交所除牌',\n",
       " '吴通控股遭股东谭思亮减持2490万股',\n",
       " '旭光高新材料预期尽快向监管机构提呈相关回复',\n",
       " '投服中心四问新宏泰',\n",
       " '交行成功承办2017年国际商会中国国家委员会',\n",
       " '意华股份与金域医学网上申购中签结果出炉',\n",
       " '中国联通混改后董事会重组：联通将减少两席位 民企增加3席',\n",
       " '左膀中信右臂恒大 麦当劳中国5年新增2000店不是梦',\n",
       " '银河国际：近期股价回调或可重新考虑华虹及中芯国际',\n",
       " '半年报净利增逾四成 迪瑞医疗控股股东拟减持',\n",
       " '光大证券母公司7月净利2.02亿元 环比降44%',\n",
       " '高山企业向永义国际发行可换股票据净筹2780万元',\n",
       " '奥飞娱乐：电影业务拖累 上半年净利下滑逾五成',\n",
       " '安居宝回复问询函：控股股东减持意在成立并购基金',\n",
       " '汇联金融服务中期股东应占溢利同比增长31%至7574.7万元',\n",
       " '中联重科营收回暖 “甩包袱”与“走出去”双管齐下',\n",
       " '罗牛山：种猪需求旺盛 前7月售价增32%',\n",
       " '山东地矿子公司挂牌转让太平矿业51%股权 剥离亏损资产',\n",
       " '中国交建8月21日支付“09中交G2”的利息',\n",
       " '罗牛山履行股权分置改革承诺 拟3亿元向*ST东海出售金融资产',\n",
       " '郑淑娟辞任中国环保能源财务总监及授权代表',\n",
       " '乐视汽车否认将大规模裁员 融创质押1.7亿股乐视网股份',\n",
       " '调研揭秘：机构为何“独宠”这一行业？',\n",
       " 'CEO梁军六封任命函连发 乐视网新团队重组上线',\n",
       " '尔康制药涉嫌信批违法被立案',\n",
       " '藏格控股进军新能源领域 拟投14亿建碳酸锂项目',\n",
       " '金开利启动IPO上市 辅导机构为华龙证券',\n",
       " '冠农股份：增资银通棉业 加码棉花产业',\n",
       " '漳泽电力：被发改委罚1388万元',\n",
       " '天原集团创逾2年新高',\n",
       " '必瘦站8月18日回购105.2万股涉资85.19万港元',\n",
       " '2天吃10张罚单6年换4位董事长 大地财险怎么了？',\n",
       " '奥飞娱乐半年报业绩降五成 游戏、影视业务均下滑逾四成',\n",
       " '阳光100中国预期中期净利润同比增逾3倍',\n",
       " '北大医药遭深交所公开谴责',\n",
       " '雷军：去年小米共获得2895项专利',\n",
       " '融创中国：对乐视网及乐视致新的投资计提减值拨备11.1亿元',\n",
       " '牧原股份：调整发行优先股募资计划 募资额缩水逾两成',\n",
       " '首份上市银行半年报出炉 平安银行净利润125.54亿',\n",
       " '租赁业务大超预期 神州租车2017上半年总营收超36亿元',\n",
       " '苏交科：雄安新区规划出台后 公司积极建立当地业务联系',\n",
       " '国资委调研中国电建：要积极对接雄安新区建设',\n",
       " '陆家嘴与老佛爷中国签署合作意向书',\n",
       " '世纪阳光中期溢利增长8%至1.28亿港元',\n",
       " '康铭泰克拟定增2000万元补充流动资金',\n",
       " '乐视网面临偿债压力 孙宏斌与贾跃亭分歧或公开化',\n",
       " '中国农业生态延长收购顺欣控股股份截止日期',\n",
       " '亚翔集成：中标7.69亿元重大项目',\n",
       " '康鸿智能2017年上半年净利润同比转亏',\n",
       " '江西铜业上半年营收增8.96% 未来面临两大风险',\n",
       " '重整草案获债权人大会通过 沈文荣将入主东北特钢',\n",
       " '高管对半年报弃权表态 中毅达收到交易所监管函',\n",
       " '中国金茂剑指2000亿元目标 高管称持有资产收益为新利润点',\n",
       " '躺着都赚钱的温氏股份',\n",
       " '成都路桥：拟中标11亿元项目 金额占去年营收54%',\n",
       " '东方航空8月28日兑付2017年第6期超短期融资券',\n",
       " '首控集团预期中期税前溢利同比减少60%至70%',\n",
       " '玉龙股份：拟剥离部分亏损业务 优化业务结构',\n",
       " '英洛华：上半年净利增131.85%',\n",
       " '茅台北京限价专家称治标不治本',\n",
       " '上市券商半年报出炉 华泰证券净利增长5.35%证金大幅增持',\n",
       " '品牌中国上半年业绩盈转亏至1444.54万元',\n",
       " '云飞扬2017年上半年净利润同比增长82%',\n",
       " '长城汽车上半年利润遭腰斩 只因发10亿红包、做2亿广告？',\n",
       " '*ST厦工：未履行关联交易审议程序等 被厦门证监局责令改正',\n",
       " '业绩会实录|近800亿中国联通混改落锤BAT、京东等14家企业入局',\n",
       " '凯盛科技：今年氧化锆价格确实上涨 但并未有50%那么高',\n",
       " '润华保险上半年净利润同比增长3.2倍',\n",
       " '“闪崩股”命途多舛 华体科技连吃三个跌停板',\n",
       " '中国华融江苏项目调查不全面、准入不审慎违法',\n",
       " '外资持续高位出逃 五粮液净卖出再创新高',\n",
       " '郑煤机18.5亿增资子公司郑州圣吉',\n",
       " '康得新前三季业绩预增超三成 证金新晋十大流通股东',\n",
       " '和佳股份：子公司中标平塘县人民医院业务综合楼建设项目',\n",
       " '永耀集团控股拟引入中国基金作为其公墓业务的战略伙伴',\n",
       " 'A股20年来终于有了一只股价破500元的股票 500元/股的茅台贵吗？',\n",
       " '立讯精密控股股东购买德国采埃孚车身控制业务 9月1日起复牌',\n",
       " '冀中能源半年报净利增长61倍',\n",
       " '中海达披露九寨沟地震影响：拟收购公司参股项目场地设施未损坏 无人员伤亡',\n",
       " '证监会四问江阴银行：6次行政处罚是否构成发行障碍',\n",
       " '圣达生物、爱乐达8月11日申购指南',\n",
       " '平安银行半年报增长2.13%',\n",
       " '国电南瑞：重大资产重组获国资委批复',\n",
       " '皇台酒业债台高筑 兰州银行讨债难',\n",
       " '中报净利降超七成 温氏股份迎“弱周期”大考',\n",
       " '老品牌也有新故事 聊聊大家都忘了的恒安国际',\n",
       " '苏大明世日本东京设子公司',\n",
       " '正海磁材：稀土价格上涨向下游传导能力不足 上半年亏损1497万',\n",
       " '西安旅游转型难题待解：业绩陷入亏损泥潭 押宝重组两度“告吹”',\n",
       " '稀土永磁概念股盘中急拉 有研新材涨停',\n",
       " '中行上半年净利同比增3.02% 拨备覆盖率逼近红线',\n",
       " '中国航空工业国际预计中期亏损大幅减少',\n",
       " '泰永长征IPO：拟募资扩充产能 半数子公司亏损',\n",
       " '富智康集团累计减持美图834万股获益8048.13万港元',\n",
       " '香塘担保上半年净利润1993万元',\n",
       " '银河磁体股东银河集团计划减持500万股',\n",
       " '一汽超百亿元关联交易遭监管 一汽夏利二股东拟减持',\n",
       " '富祥股份参与设立医疗健康产业投资基金',\n",
       " '中国中铁：上半年净利同比增四成 证金公司大幅增持',\n",
       " '择众传媒总经理黎路辞职',\n",
       " '康达尔上半年营收同比下降逾一成',\n",
       " '方大炭素几次跌停都被撬开 5家游资买了快5亿',\n",
       " '创维数码7月电视机总销量同比跌15%',\n",
       " '江粉磁材借壳方变形记',\n",
       " '贝因美收到浙江证监局行政监管措施决定书',\n",
       " '扣非净利润连续下滑 仟源医药蛇吞象式收购被否多元化拓展遇阻',\n",
       " '*ST智慧董事长张志宏因个人原因辞职 选举汪勤担任董事长',\n",
       " '贵州茅台高开 600元成下一目标价',\n",
       " 'SHANGHAIGROWTH中期净亏损同比扩大90.6%至66.68万美元',\n",
       " '创侨股份2017年上半年净利润下滑17%',\n",
       " '锌业股份上半年净利增四成',\n",
       " '万达酒店发展继续大涨 盘中一度涨逾30%',\n",
       " '国瑞置业7月签约销售额8亿 上半年签销总额达51.72亿',\n",
       " '新大洲A：董事长抛不少于2亿元增持计划',\n",
       " '平安银行新班子半年考：零售业务利润占比超六成',\n",
       " '当升科技：目前订单较多 产线基本满负荷运转',\n",
       " '中国绿地博大绿泽附属联合体中标肇庆高新区PPP项目',\n",
       " '龙建股份：联合中标逾21亿元PPP项目',\n",
       " '环保部：将依法取缔一批污染严重的非法再生利用企业',\n",
       " '乐视否认电视停产 正在洽谈新代工厂或增至7家',\n",
       " '中国白银集团预计中期溢利增长逾50%',\n",
       " '黑芝麻拟并购电商跨界锂电池行业 停牌近8个月复牌遭遇大跌',\n",
       " '泰久信息副总经理周岚辞职',\n",
       " '上半年净利增6倍远超营收增幅 海伦哲：因股权激励费用计提大幅减少',\n",
       " '国产女鞋行业遇寒冬 “大众鞋王”达芙妮上半年亏损两亿港元',\n",
       " '汇丰控股加码回购释放什么信号',\n",
       " '金财互联上半年盈利7906万元 同比增长近十倍',\n",
       " '手机开启双面玻璃款式 供应链公司迎翻倍效应',\n",
       " '茅台20省经销商联合发声稳价',\n",
       " '美籍实控人1元成本卖20 艾德生物4年净利未过IPO门槛',\n",
       " '机构继续看涨贵州茅台 目标直指600元大关',\n",
       " '民生国际终止收购上海商业物业鑫丰控股全部股权',\n",
       " '福泽集团预期中期净亏损将同比大幅增加',\n",
       " '俊盟国际：吕显荣调任为非执董杨元晶接任独立非执董及审核委员会主席',\n",
       " '环旭电子：前7个月合并营收同比增长近三成',\n",
       " '东旭蓝天：联合中标10.51亿元PPP项目',\n",
       " '玉柴物流上半年净利润近2000万 同比增长30%',\n",
       " '东方海外国际：无要约先决条件获得满足',\n",
       " '广晟有色上半年营收翻倍 稀土产品量价齐升',\n",
       " '容汇锂业和车头制药两家公司启动IPO',\n",
       " '迪森股份：雄县的壁挂炉销售门店已正常营业',\n",
       " '恒源煤电半年报业绩增十倍',\n",
       " '欢瑞世纪：继续推进《盗墓笔记》等影视剧售卖合约谈判 8日起复牌',\n",
       " '广汽董事会成员压减至11名 冯兴亚弃副董事长留总经理职务',\n",
       " '新眼光上半年净利润2769万 同比增长24%',\n",
       " '九阳股份：上半年净利微幅下滑 养老金组合首现十大股东名单',\n",
       " '*ST东海A复牌大跌4.99% 4名董事弃权重组未获通过',\n",
       " '濮耐股份受*ST重钢破产重整牵连 6294万应收款恐波及业绩',\n",
       " '春风动力中签号出炉 共有3万个',\n",
       " '德奥通航牵手珍爱网存疑团 监管层追问三大要害问题',\n",
       " '中通客车准备召回问题客车',\n",
       " '金财互联：热处理板块业务企稳 预计前三季净利增逾13倍',\n",
       " '国改概念股盘中持续走高 万业企业涨停',\n",
       " '建科院跌停 雄安新区光环散去股价高处不胜寒',\n",
       " '联通“革命性”混改方案六看点：780亿、BAT和同股同权',\n",
       " '乐视终于发工资了 乐视控股员工：是6月的工资',\n",
       " '蓝天环保中标1517万元燃气锅炉低氮改造项目',\n",
       " '中国平安：权益投资青睐 高分红低估值品种',\n",
       " '碧水源：联合中标约55.37亿元路政工程项目',\n",
       " '除了哽咽谈乐视 业绩会上孙宏斌还说了这些……',\n",
       " '至少25年才能回本 富士康在美建厂的巨额补贴悬了',\n",
       " '通富微电：AMD显卡受益比特币大涨 其大部分显卡在公司下属控制企业封测',\n",
       " '科大讯飞上半年实现净利润1.07亿元',\n",
       " '东兴证券上半年净赚5.65亿元',\n",
       " '阿里影业附属出售网络剧《王子富愁记》的传播权',\n",
       " '赢时胜：区块链业务处于培育期 投资者防范概念炒作',\n",
       " '国产软件概念股表现抢眼 远光软件等2股涨停',\n",
       " '小摩增持中国电信1632万股 每股3.787元',\n",
       " '齐翔腾达上半年净利润同比增长141.93%',\n",
       " '中材国际：第二大股东拟减持不超1754万股',\n",
       " 'ST生化：变更重组标的 现拟收购内蒙维克生',\n",
       " '大庆乳业中期净亏损同比减少34.55%至272.6万港元',\n",
       " '新能源难成青年莲花救市良药 破产难免波及汽车业务',\n",
       " 'HYPEBEAST近3个月溢利增长60.5%至712.1万港元',\n",
       " '中再资环：上半年净利同比增长逾3倍',\n",
       " '金字火腿控股股东的一致人协议转让14.72%股份',\n",
       " '天士力半年报增一成 证金公司二季度增持',\n",
       " '东芝闪存芯片业务出售陷僵局 正筹备退市事宜',\n",
       " '尔康制药：公司正积极配合相关调查工作 股票继续停牌',\n",
       " '春秋航空：上半年净利下降逾两成',\n",
       " '新天地产集团扭亏为盈中期净利2605.8万元',\n",
       " '新赛点2017年上半年净利润同比亏损减少',\n",
       " '长江投资半年报预减80%',\n",
       " '国盛投资中期减亏22.99%至3901.2万港元',\n",
       " '龙翔集团中期纯利同比下滑36.6%至2541.3万港元每股派息1.5港仙',\n",
       " '中国投资基金公司预计中期亏损扩大至6600万港元',\n",
       " '华虹计通：股东上海申腾拟减持不超过1%股份',\n",
       " '贾跃亭法拉第未来最新动向：高层“换血”+敲定加州9万平米新工厂',\n",
       " '皇玺餐饮集团第一财季溢利同比减少40%至120万港元',\n",
       " '中航国际控股上半年飞亚达A净利润增加43.29%至8670.88万元',\n",
       " '陆庆娱乐：一名投资者延长支付合资公司认购款项期限',\n",
       " '京东方A拟投建460亿元TFT-LCD生产线项目',\n",
       " '贵阳银行黔南违法造假贷款用途',\n",
       " '神开股份：上半年续亏逾千万 拟免职快鹿背景两董事',\n",
       " '国锐地产中期减亏71.5%至380.3万港元',\n",
       " '中国神华7月煤炭销量3440万吨 升9.6%',\n",
       " '亚洲能源物流拟发行第五分批票据250万港元',\n",
       " 'ST昌信因关联资金占用与信披不完整 被证监局责令改正',\n",
       " '暴风集团拟为暴风TV引入战略投资 将继续停牌',\n",
       " '*ST一重上半年扭亏为盈',\n",
       " '双汇发展半年报净利下降一成',\n",
       " '贾跃亭香港筹资首笔到账 乐视开始补发工资了',\n",
       " '雄安概念股再度活跃 建投能源涨停',\n",
       " '投资两年半持续亏损 造车业务“拖累”杉杉股份',\n",
       " '京东：21日终止与天天快递、百世快递合作',\n",
       " '净利同比增7倍股价却摸跌停 三一重工这是咋了',\n",
       " '兆驰股份：收到6137万元政府补助 约占去年净利润16.4%',\n",
       " '京东金融重组完成交割 不再纳入京东集团财务报表',\n",
       " 'S佳通披露股改方案 股票最晚于9月11日复牌',\n",
       " '万科正介入多家公司混改 郁亮称只投钱意义不大',\n",
       " '东兴证券上半年净利润下降25% 证金公司成为第一大流通股东',\n",
       " '意达利控股预期上半年业绩将扭亏为盈因玛莎拉蒂销量增加',\n",
       " '国锐地产根据买卖协议溢价9.64%发行5.4亿股',\n",
       " '保德国际发展委任许微及杜家礼为执行董事',\n",
       " '春秋航空半年报扣非净利增长五成',\n",
       " '四联香港并表 河北宣工新主业将增厚利润',\n",
       " '白云山上半年业绩增长近四成',\n",
       " '当代明诚再收问询函 英超版权占新英开曼总收入96.94%',\n",
       " '同济科技三日涨超20% 上海游资表现活跃',\n",
       " '欣旺达：上半年净利增长24% 证金新晋第三大股东',\n",
       " '菲林格尔：正筹划股权激励事项 明起停牌',\n",
       " '风范股份：实控人之子拟减持不超3400万股',\n",
       " '弘业期货与主要股东旗下公司合作动力煤基差贸易',\n",
       " '白瑛辞任蒙牛乳业执行董事',\n",
       " '科大讯飞回应薛云奎的质疑：按这逻辑就没亚马逊、特斯拉了',\n",
       " '五菱汽车中期纯利升14.9%至7610.3万元',\n",
       " '合锻智能股东中信投资减持届满',\n",
       " '北部湾旅中期利润同比增长210%',\n",
       " '创业黑马上市 牛文文身家超4亿',\n",
       " '王洪章辞任建设银行董事长及执行董事等职务',\n",
       " '爱尔眼科回应投资者质疑：高管减持为参与合伙人计划',\n",
       " '中国核建股东中国信达拟减持',\n",
       " '中奥到家扭亏为盈中期净赚4554.8万元',\n",
       " '华宏科技：在手订单充足 预计前三季度净利润增长43%-63%',\n",
       " '半年报亮眼还建议派发特别股息 中移动午后跳涨5%',\n",
       " '中信国际电讯：“四网合一”利好公司',\n",
       " '华大基因股价跌停 四游资席位火线割肉',\n",
       " '医疗机器人公司天智航拟募资4亿元',\n",
       " '亚证地产上半年业绩亏转盈至1.16亿港元中期息每股0.25港元',\n",
       " '贾跃亭卸任乐视网法人 孙宏斌与新乐视团队开闭门会',\n",
       " '绿健神农拟向子公司增资2000万',\n",
       " '新乡化纤上半年净利同比增超4成 拟联合孚信科技成立新公司',\n",
       " '浪潮国际购股权获行使配发5120万股新股',\n",
       " '对月饼依赖度正下降 广州酒家上半年净利猛增四成多',\n",
       " '尔康制药被华夏等三基金公司火速砍价 安信基金给出最低估值价8.35元',\n",
       " '中建置地以3.3亿港元转让中建企业99.99%权益及股东贷款',\n",
       " '收购中止比克动力PE失落 长信科技拟推高送转',\n",
       " '梁军组阁乐视网换血：今连发3封内部邮件任命5名高管',\n",
       " '孚日股份：被郑商所指定为棉纱交割厂库',\n",
       " '东旭光电：石墨烯散热膜技术的产业化应用取得阶段性成果',\n",
       " '岱美股份：汽车遮阳板领域全球领先企业',\n",
       " '一年员工流失约4000人 统一企业上半年净利大降近三成',\n",
       " '粤水电：签署总承包合同 金额约4.8亿元',\n",
       " '趣炫网络IPO：自研游戏收入骤减 推广费激增28倍拖累净利润',\n",
       " '平安银行“激进”转型 对公、零售利润此消彼长近三成',\n",
       " '诺安基金下调尔康制药估值至8.35元',\n",
       " '晨鸣纸业半年报扣非后净利增长119%',\n",
       " '中国幸福投资上半年业绩扭亏为盈至196.2万港元',\n",
       " '蓝色未来成为微软服务商',\n",
       " '长安汽车：7月为行业淡季 产销下滑属正常情况',\n",
       " '永安行中签号出炉 8月9日缴款',\n",
       " '融创净负债率达260%超过恒大 是万科的13倍(表)',\n",
       " '寒锐钴业：明起停牌核查 近5个交易日涨幅超五成',\n",
       " '中电电机回复上交所：高送转与减持计划无关',\n",
       " '中国联通连撤三份混改方案相关公告 有关事项或需修改确认',\n",
       " '中州证券7月净利润4195.67万元人民币',\n",
       " '山鹰纸业：上半年净利同比增长451%',\n",
       " '贾跃亭同意向天津嘉睿出售乐视网1.71亿股无限售流通股',\n",
       " '*ST宝实拟收购桂林海威75%股权',\n",
       " '暴风集团三维版图待质检 “入轨期”中报尚未见喜',\n",
       " '百联集团成立资产控股公司 发力长租公寓市场',\n",
       " '乐视发工资了！贾跃亭在港筹到资金 称卖掉所有资产也要负责',\n",
       " '江粉磁材股价大跌 三家机构抄底买入近亿元',\n",
       " '杭州高新连吃两跌停 拟5.6亿现金收购向日葵弃购资产',\n",
       " '4000亿美元的阿里巴巴 已初具参与中国实体经济重塑的生态优势',\n",
       " '统一企业告急：净利大跌26.5% 一年裁员近4000人',\n",
       " '香港地产商黄俊康一次性卖8个项目：15个月套现177亿',\n",
       " '真正决定一家金融机构估值的 始终是募钱和管钱的能力',\n",
       " '因违规借款 锯力煌被股转出具警示函',\n",
       " '中国金控拟发行1729万港元的可换股债协议失效',\n",
       " '泰达股份：停牌系控股股东筹划涉及公司股权划转的重大事项',\n",
       " '金融街：证金公司小幅增持 预计三季度净利增130%-753%',\n",
       " '中国交建新签合同额增五成 证金增持、牛散抢筹',\n",
       " '瑞贝卡集团联手天一航天投资超级电容',\n",
       " '盛运环保子公司签生活垃圾焚烧发电项目',\n",
       " '国鑫农贷拟1000万元认购股权投资基金',\n",
       " '兆易创新复牌一字跌停 65亿收购案被喊停',\n",
       " '独董投弃权票 闻泰科技新老大股东资产交接不顺利',\n",
       " '奢侈品牌Tod’s销售连续6季下滑 核心业务鞋履线受挫',\n",
       " '银河国际：或可重新考虑华虹及中芯国际',\n",
       " '东方汇财证券中期溢利增长4.71倍至8万港元',\n",
       " '长江通信：上半年净利1.2亿元 同比增376%',\n",
       " '信维股份2017年上半年净利润486万元 同比减少逾四成',\n",
       " '茅台经销商称集团有计划的缺货 为让代理们都赚到钱',\n",
       " '华夏幸福“幸福”路径揭秘：10年内有市场的产业才是桌上的“菜”',\n",
       " '博雅生物：获批设置两个单采血浆站',\n",
       " '天安中期纯利同比增加226%至16.71亿港元不派息',\n",
       " '凤形股份：股东拟减持不超2%股份',\n",
       " '知行路桥上半年净利润同比增长81%',\n",
       " '华大基因股价翻红涨逾2%',\n",
       " '博士蛙国际已提交复牌建议且就业务发展及债务重组订立若干协议',\n",
       " '三一重工：上半年营收同比增七成 净利增逾7倍',\n",
       " '保千里被处罚高管引咎辞职 直接责任人内部受罚',\n",
       " '东方电气：中介机构对拟置入资产已完成主要尽职调查',\n",
       " '河南交投集团借新还旧发债20亿',\n",
       " 'ST瑞泽因重大诉讼和股权冻结未及时信批被出具监管函',\n",
       " '广晟有色股价异动停牌核查',\n",
       " '盛源控股预期上半年净亏损同比增加超过100%',\n",
       " '“娱乐+”生态布局逐渐落地 东方明珠多元业务共同增长',\n",
       " '碧水源：上半年净利超5亿元 同比增长98%',\n",
       " '中国动力上半年军品业务稳步增长',\n",
       " '500元/股！茅台今天创造A股历史 而这似乎并不是它的极限',\n",
       " '春晖股份上半年净利润大幅增长',\n",
       " '比亚迪纯电动大巴占伦敦电动大巴70%的市场份额',\n",
       " '一化控股上半年净利润减少53.7%至3671.6万元',\n",
       " '霍山石斛上半年净利润1379万 同比下滑2成',\n",
       " '吉林森工、上海贝岭发行股份购买资产获无条件通过',\n",
       " '苹果计划投资10亿美元制作原创节目',\n",
       " '鞍重股份“忽悠式”重组借壳方成第一被告',\n",
       " '中植系弃权大北农反对 荃银高科重组再遇阻',\n",
       " '爪哇控股上半年净利润同比下滑67.8%至2.55亿元',\n",
       " '天秦装备上半年净利润1503万元 同比增长2%',\n",
       " '平潭发展临停 拟披露重大事项',\n",
       " '御德国际控股中期业绩由亏转盈172万港元',\n",
       " '东建国际完成收购2000万美元优先票据',\n",
       " '贝达药业涉诉股权转让纠纷',\n",
       " '新大洲A董事长拟增持不少于2亿元',\n",
       " '有色金属板块走强 盛屯矿业涨停',\n",
       " '格力电器董事被深交所公开谴责',\n",
       " '中环环保中签结果出炉 中签号共48006个',\n",
       " '中国移动午后涨逾5% 拟派发上市20周年特别股息',\n",
       " '拓维信息：终止非公开发行股票',\n",
       " '长城汽车流动资产缩至444亿元 收购Jeep仍是“一厢情愿”',\n",
       " '云煤能源：董事长张鸿鸣辞职',\n",
       " '中国宏桥澄清：该集团而非魏桥关停268万吨电解铝',\n",
       " '大股东加大“赠予”力度 S佳通再谋股改',\n",
       " '投行评中国联通混改：定增比例和定价基准日设定两项与新规不符',\n",
       " '中国神华煤制烯烃升级项目获核准',\n",
       " '雅诗兰黛公告盈利超预期股价上涨近5%',\n",
       " '时代凌宇上半年净利润下滑超3成',\n",
       " '新力金融：控股股东增持计划升级 金额合计1.5亿至3亿元',\n",
       " '深天地A：营业外收益增加 上半年净利增约1.5倍',\n",
       " '关于上海开能环保设备股份有限公司股票临时停牌的公告',\n",
       " '卖煤比卖油赚钱 中国神华上半年净利远超中石油',\n",
       " '中金黄金4A级风景区违法填埋尾矿 严重威胁生态环境',\n",
       " '合众思壮：上半年净利同比增逾13倍 北斗高精度业务翻倍增长',\n",
       " 'S佳通公布股权分置改革新方案',\n",
       " '联通混改落地点燃市场预期 互联网巨头参与央企混改成大势所趋',\n",
       " '凯众股份：实控人之一致行动人所持股份将被司法拍卖',\n",
       " '神华国电“情定”七夕 破解煤电顶牛困局',\n",
       " '首创股份中标17.75亿饮水工程PPP项目',\n",
       " '泰和新材拟对部分氨纶装置进行检修',\n",
       " '新昶虹预计上半年净利润1150万元 同比增长30倍',\n",
       " '鲁亿通上市后业绩变脸 收购标的负债12亿应收账款6亿',\n",
       " '食品板块涨幅居前 伊利股份、贵州茅台均创历史新高',\n",
       " '业绩频变脸 贝因美资金链承压',\n",
       " '天壕环境：公司目前未在雄安设立分公司',\n",
       " '大地财险连吃吉林保监七罚单 违法侵害投保人合法权益',\n",
       " '中航资本：对乐视有一笔15亿信托业务 已有风险防范措施',\n",
       " '鹏辉能源：公司动力电池下半年将放量 价格会有小幅波动',\n",
       " '交行全行息差大讨论 对比同业反思成本管理',\n",
       " '中石化旗下中联化向地炼抛“橄榄枝” 分析师表示来得有点晚',\n",
       " '*ST墨龙三高管相继离职',\n",
       " '这两家基金又踩雷了？！尔康制药被证监会立案稽查',\n",
       " '中体产业股权转让未产生达标受让方 10日复牌',\n",
       " '整合效益初显 中远海控上半年扭亏为盈',\n",
       " '期待联通能成为混改的标杆',\n",
       " '吉利以全球协同效应制定游戏规则',\n",
       " '华夏人寿万能险逆风独秀 偿付能力逼近红线现金流告急',\n",
       " '最高法判共享红罐包装 王老吉加码国际化加多宝“盯上”小龙虾',\n",
       " '同景新能源红股派发由“1送3”改为“1送1”',\n",
       " '科通芯城上半年净利增33% 受做空影响二季度销售低于预期',\n",
       " '联络互动关联交易披露违规 被浙江证监局责令改正',\n",
       " '贾跃亭旗下法拉第未来人力资源副总裁离职：系创始元老',\n",
       " '上交所：赖国昌名下账户违规买卖方大炭素 限制交易3个月',\n",
       " '每天赚9000万 上汽蝉联最赚钱车企',\n",
       " '高鹏矿业拟成立两间合资公司开展矿石批发及贸易',\n",
       " '融创中国：上半年核心净利同比大涨两倍',\n",
       " '乐视系员工薪酬如期发放 讨债者称看到希望',\n",
       " '郑煤机重大资产重组持续督导财务顾问主办人更换为吕映霞',\n",
       " '京东宣布年内建设300家3C零售体验店 重构零售业格局',\n",
       " '上海电气总公司拟转让海立股份控股权 沪国企改革再添“生力军”',\n",
       " '中电光谷预期上半年净利同比增加约70%',\n",
       " '梁军一天任命11位新高管 融创系全面渗透乐视网',\n",
       " '*ST海润：上半年净利亏损5亿元',\n",
       " '重大投资经营向好 新奥股份进入价值释放期',\n",
       " '五营业部卖出华大基因逾2亿元',\n",
       " '海亮国际将委任金晓铮为执行董事',\n",
       " 'DeanFoods公告二季度盈利远不及预期股价下跌13%',\n",
       " '高银地产8月18日撤上市地位',\n",
       " '雄安建设投资集团有限公司成立 注册资本100亿元',\n",
       " '丽丰控股股份合并将于8月15日生效',\n",
       " 'PSA上半年在华亏损5.3亿：缩减成本战略难救中国市场',\n",
       " '北京文化连续两天登龙虎榜 国泰君安三家营业部交易最活跃',\n",
       " '冀中能源：煤炭价格上涨 上半年净利增61倍',\n",
       " '五家新仓七家增持 对冲基金大佬二季度押注阿里巴巴',\n",
       " '中国中车集团旗下全资子公司中车金证将参与联通混改',\n",
       " '郑煤机重组涉及国有资产监管审批及海外收购中介机构工作尚未完成',\n",
       " '乐视网与民生信托和解 民生信托向法院申请撤销冻结乐视存款',\n",
       " '中信、凯雷正式入主 新麦当劳中国首个五年将翻倍扩张',\n",
       " '信星集团8月18日斥75.29万港元回购31.4万股',\n",
       " '王朝酒业预期中期业绩将持续取得亏损',\n",
       " '中国中冶前7月新签合同额同比增长22.3%至3267.8亿元',\n",
       " '融信中国为合营公司恺璟晟房地产提供8亿元融资担保',\n",
       " '湖北宜化复牌封跌停 子公司因安全事故减收11-12亿',\n",
       " '大同机械上半年业绩亏转盈股权持有人应占净利113.5万港元',\n",
       " '宜宾纸业疑遭资金操控 股价上演旱地拔葱',\n",
       " '三只松鼠开心果霉菌值超标1.8倍 称系运输过程导致',\n",
       " '恩智浦与长安汽车达成战略合作',\n",
       " '同创化工2017年上半年净利润同比转亏',\n",
       " '特变电工控股公司拟设立融资租赁公司',\n",
       " '友好集团上半年亏损1.95亿 拟将友好商场等划转至子公司',\n",
       " '联络互动谋求利润多元化 5名高管斥资逾1500万元增持',\n",
       " '中信正式入主麦当劳中国：5年增开两千家店 主攻三四线城市',\n",
       " '广信科技拟A股上市：客户集中度高 价值近4千万资产被抵押',\n",
       " '精深科技持续经营能力存不确定性 券商提示风险',\n",
       " '万德金融中期亏损减少9.5%至1640.2万港元',\n",
       " '朗姿股份：拟12亿元参设时尚产业合伙企业',\n",
       " '永太科技：获美国FDA认证 有助拓展美国原料药市场',\n",
       " '证监会：东宏管业等3公司首发获通过 1公司未获通过',\n",
       " '孙宏斌首度聚首管理层 乐视闭门会传出多信号',\n",
       " '中国新城市预计中期溢利增长逾3倍',\n",
       " '联通混改提振概念股 中国核建涨停',\n",
       " '中国光大国际：光大水务上半年净利增41%至2.55亿港元',\n",
       " '筹划大合同无果 欢瑞世纪平仓危机仍存',\n",
       " '泛亚国际拟收购思高环球发展石墨烯项目',\n",
       " '伊赛牛肉上半年营收6.8亿元 净利润同比增19%',\n",
       " '唯品会公布二季报 净营收增幅达30.3%',\n",
       " '光驰教育2017年上半年净利润同比亏损扩大',\n",
       " '光韵达：3D打印医疗应用还不具备批量性',\n",
       " '新宁酒业2017年上半年净利润同比转亏',\n",
       " '贝因美：前三季度预亏逾3.5亿元 已签署目标20亿元的总承销协议',\n",
       " '智慧能源：进军智慧机场服务领域潜力大',\n",
       " '联通确认BAT、京东将参与混改 各方投资细节曝光',\n",
       " '*ST沈机推进数控机床产业升级',\n",
       " '茅台刚飞天 又遇“反腐风暴”！四年前的大调整会重演吗？',\n",
       " '华鹏飞股东杨阳拟减持不超504万股',\n",
       " '江粉磁材207亿元收购领益科技 9日起复牌',\n",
       " '华普永明2017年上半年净利润同比增长24.8倍',\n",
       " '借壳失败、转道IPO 隐身20年的泛海系“养子”浮出水面',\n",
       " '欣旺达：中报净利同比增长23.78% 证金位列第三大股东',\n",
       " '西部黄金：在新疆两金矿的勘探工作暂停',\n",
       " '中国创意控股上半年亏损增加3.45倍至3846.3万元',\n",
       " '中远海特半年报增15倍',\n",
       " '广汽集团：冯兴亚及袁仲荣辞任副董事长',\n",
       " '科大讯飞上半年为何增收不增利？今日举行业绩说明会（视频）',\n",
       " '盈方微控股股东所持公司股份被司法轮候冻结 为期二年',\n",
       " '龙光地产前7月合约销售额228.3亿元 同比增35.5%',\n",
       " '茅台控价力保1299元红线 二三线的区域名酒反而提价',\n",
       " '还操心融创资金链？孙宏斌已经开始数钱！',\n",
       " '中国长城：下属公司锂电池应用于海军某型无人机用项目',\n",
       " '东莞实探领益科技子公司：产权瑕疵厂房正常经营',\n",
       " '东北特钢重整计划草案获债权人表决通过 将进入执行阶段',\n",
       " '贵州茅台释放控价信号：酒是用来喝的 不是拿来炒的',\n",
       " '“工匠精神”遇上“智能制造” 成就中国中车这张“中国名片”',\n",
       " '泰山石化上半年业绩盈转亏至6648.7万港元',\n",
       " '阿尔创上半年净利润1690万元 同比增长13%',\n",
       " '亚博科技控股上半年亏损增加12.19倍至4.37亿港元',\n",
       " '中国联通：战略投资者将认购90亿股联通A股股份 百度、阿里等投资',\n",
       " '银行股脉冲式上演逆袭行情 工商银行股价创下9年新高',\n",
       " '大象股份增资涉对赌条款未披露 被股转自律监管',\n",
       " '银江股份：诉重组方合同纠纷案一审胜诉',\n",
       " '神州高铁现2.94亿元大宗交易',\n",
       " '美股市值竞赛：科技企业正在自我超越',\n",
       " '光大银行：传统缴费业务稳中有增 新兴业务高速增长',\n",
       " '万达净利润率不足0.4%：海外巨额投资等或致利润受挫',\n",
       " '春风动力网上发行中签号出炉 共30001个',\n",
       " '恒立液压：钢材价格涨到一定幅度 公司会与客户协商产品涨价事宜',\n",
       " '卡森国际预期中期业绩由盈转亏',\n",
       " '上海家化半年营收增长10% 全年业绩可期',\n",
       " '周期股集体下挫 安阳钢铁跌逾5%',\n",
       " '中国交建：拟10亿元认购广东省基础设施投资基金',\n",
       " '招商证券：iPhone8带来新增长动力 瑞声将迎一波上涨行情?',\n",
       " '长城人寿股东完美世界再提转股',\n",
       " '轻资产化更进一步 万达酒店发展拟63亿收购万达文旅',\n",
       " '董明珠再撒钱：格力为全员发放额外高温补贴 每人1千',\n",
       " '高杠杆买壳后遗症频现 科林环保控制权藏稳定性风险',\n",
       " '红太阳：多项产品经营环境持续向好 上半年净利增长513%',\n",
       " '四川长虹：上半年净利润下降逾6成 证金公司增持',\n",
       " '乐视破碎的保险梦：资金链断裂成硬伤 投资动机存疑',\n",
       " '金浦钛业：产品已参与多家钛酸锂电池试验',\n",
       " '中国平安上半年净利润超出市场预期15%-19%',\n",
       " '英飞拓：正积极参与包括雄安新区在内的智慧城市等行业建设',\n",
       " '贝因美：签订10亿元承销合同 约占去年营收的36%',\n",
       " '方大炭素理财议案遭股东大会否决',\n",
       " '兰州黄河：控股股东及受实控人控制的公司增持2.16%股份',\n",
       " '谷歌获准在伦敦建设新英国总部 可容纳5000名员工',\n",
       " '南海石油中期亏损减少91%至55.1万美元',\n",
       " '苏富比喜忧参半 大力推进现代化转型',\n",
       " '雅戈尔：拟2亿元在河北参与设立金融资管公司',\n",
       " '东方网络：拟3.46亿转让乾坤时代100%股权',\n",
       " '中国华融增持熊猫绿能2028万股 每股1.03元',\n",
       " '又一家新三板公司易主 天山生物拟收编大象股份',\n",
       " '东方园林中标17.2亿PPP项目',\n",
       " '金诚控股拟投标宁波象山县约5.12万平方米的土地',\n",
       " '打通生猪全产业链 得利斯拟斥资数亿元收购生猪养殖业务及资产',\n",
       " '网达软件实控人涉嫌4万元敲诈勒索被刑拘',\n",
       " '机构博弈 方大特钢高位下跌',\n",
       " '永和大王又遭投诉：就餐时有苍蝇飞 服务员无动于衷',\n",
       " '昌红科技拟1元转让子公司80%股权',\n",
       " '盛业资本中期溢利同比减少49.7%至1523.2万元',\n",
       " '华大基因高位震荡 华泰证券三家营业部抛售',\n",
       " '盈方微：控股股东所持股份被司法轮候冻结',\n",
       " '中远海科：中标3.5亿元项目 占最近一年营收的53%',\n",
       " '清园股份上半年净利润6172万 同比增长19%',\n",
       " '油气行业低迷叠加管理层混乱 神开股份上半年巨亏1054万元',\n",
       " '资本玩家15亿入主科林环保亏8亿 借中信银行的9亿咋还',\n",
       " '创科实业涨逾11% 股价创上市新高',\n",
       " '滴达国际：要约人完成收购70.625%的股份提强制要约',\n",
       " '国锐地产完成收购WhollyExpress全部股权',\n",
       " '控股子公司对外提供财务资助未公告 湖北宜化信披违规有“前科”',\n",
       " '大富科技拟25.4亿并购湘将鑫',\n",
       " '中国全通中期公司拥有人应占溢利2767.6万元',\n",
       " '智飞生物上半年净利增13倍 疫苗板块明显复苏',\n",
       " '钢铁板块午后跌幅收窄 柳钢股份涨近6%',\n",
       " '全聚德烤鸭电商连亏已停业 试水外卖服务无果而终',\n",
       " '万和电气副董事长卢楚隆：谈判八年终“牵手” “联姻”博世再出发',\n",
       " '连连亏损高管频换 天安人寿转型挑战重重',\n",
       " '澄清沽空质疑 天鸽互动2017中期营收5亿元',\n",
       " '天茂集团：控股子公司国华人寿前7个月累计保费收入约357.95亿元',\n",
       " '星普医科：上半年净利增近5倍 继续拓展伽玛刀业务',\n",
       " '揭秘斯太尔资本局 80后接盘人背后老板来自房地产',\n",
       " '库克已获得8960万美元股权奖励',\n",
       " '生益科技：上半年净利超5亿元 同比增长七成',\n",
       " '西水股份：上半年净利同比大增390倍',\n",
       " '广晟有色：股价异动将停牌 上交所发函关注公司稀土业务',\n",
       " '跨界造车 协鑫百亿下险棋',\n",
       " '林欣芳退任铭源医疗非执董一职',\n",
       " '南兴装备：重大资产重组标的为唯一网络',\n",
       " '长江绿色上半年净利润同比增长82%',\n",
       " '偶数年盈利、奇数年亏损 多次变换主业的商赢环球复牌后咋走？',\n",
       " '美图盈利模式遭外界质疑 大股东减持套现超70亿港元',\n",
       " '永安行网上发行中签率为0.0264%',\n",
       " '中兴通讯：周会东辞任职工代表监事',\n",
       " 'E-KONGGROUP委任冯伟成及赵光明为独立非执行董事',\n",
       " '华大基因收出第19个涨停板 华泰证券三家营业部购入2.6亿元',\n",
       " '安居宝中报净利同比大降365.62% 深交所问董事长减持为何言行相悖',\n",
       " '软银向印度电商Flipkart注资约25亿美元 成其最大股东',\n",
       " '北辰实业以4.62亿元竞得四川眉山市一土地使用权',\n",
       " '腾讯控股开盘跌近4%',\n",
       " '亚洲最大锂矿4年来几无产出 与3家上市公司结缘',\n",
       " '安信信托解释增速放缓：压缩被动管理业务 证券等投资浮亏3亿',\n",
       " '易联金控全资子公司业务经营违规 遭人行广州分行罚没60万',\n",
       " '吉华集团业绩惨淡陷破发风险 安信证券保熊股成套路',\n",
       " '中国奥园：三年奥园文旅规模达百亿或考虑分拆上市',\n",
       " '漳州发展半年报业绩增长151%',\n",
       " '起步股份、春风动力网上申购中签结果出炉',\n",
       " '拓展核心芯片领域 英唐智控布局物联网战略',\n",
       " '北京文化换手率超20% 申万宏源一营业部卖出近亿元',\n",
       " '云知声获3亿战略投资 汉能投资担任独家财务顾问',\n",
       " '万达轻资产化：文旅项目动辄投入百亿 回收期超10年',\n",
       " '中国秦发料中期业绩亏转盈 因煤炭销售增',\n",
       " '富达国际增持ASM每股均价98.1981元',\n",
       " 'PE卖家早已“改换门庭” 斯太尔易主被追问',\n",
       " '中国优质能源预期中期综合纯利将大幅增长',\n",
       " '2017首批绿色制造示范名单公布 多家上市公司入围',\n",
       " '中国心连心化肥8月18日回购40万股涉资82.88万港元',\n",
       " '大洋集团签订有可能认购公司新股份的谅解备忘录',\n",
       " '锯力煌因违规对外提供借款 遭股转出具警示函',\n",
       " '恒都集团上半年净利增加52.37%至771.9万港元',\n",
       " 'ST生化复牌倒计时 浙民投要约收购步步推进',\n",
       " '中大国际拟配售ZhongDa(BVI)股权已筛选若干潜在收购目标',\n",
       " '洲际油气拟10.87亿元转让股权 焦作万方再陷股权争斗',\n",
       " '富临运业：子公司管理人员韩毅、李秀荣被检察机关逮捕',\n",
       " '乐游科技控股9240万港元出售乐游天下全部股本',\n",
       " '乐视网：已办理完毕工商变更登记 法定代表人变更为梁军',\n",
       " '德创环保上半年净利“腰斩”钛白粉暴涨致上游欢喜下游愁',\n",
       " '*ST中基：上半年续亏逾4000万 子公司获免除2.2亿债务',\n",
       " '5G概念股表现抢眼 国民技术等2股涨停',\n",
       " '云智汇科技授出580万份购股权 1替任董事有份',\n",
       " '巨龙管业：15日启用新的证券简称“艾格拉斯”',\n",
       " '鼎和矿业拟收购两光伏电站全部股权',\n",
       " '茅台涨价背后肥了谁的腰包：大经销商被指囤货？',\n",
       " '弘信电子上半年净利润同比增长446.69%',\n",
       " '普汇中金国际进一步延长视作出售冠亿收购MCM集团',\n",
       " '腾讯的“荣耀”半年： 南下资金抱团追捧 下半年能否继续狂欢？',\n",
       " '东方电子复牌涨停',\n",
       " '同佳健康就建议收购爱氏妇幼医疗达成共识',\n",
       " '辉山乳业重组追踪：金融债委会拟签一致行动书',\n",
       " 'Facebook杀回中国悄悄试水彩色气球APP',\n",
       " '密封科技上半年净利润2472万 同比增长61%',\n",
       " '熊猫绿能：营收增长52.65% 净利润增长10.04%',\n",
       " '远望谷：助力天虹股份打造无人便利店 将在8月8日对外发布',\n",
       " '唐人影视上半年净利润3720万 同比下滑70%',\n",
       " '有色板块快速拉升 厦门钨业等多股表现抢眼',\n",
       " '网易Q2财报：网易考拉等电商强力破局 成中国电商第三极',\n",
       " '兰太实业：主要化工产品产能持续释放 上半年净利增173.79%',\n",
       " '赛升药业：上半年净利下滑两成 证金新晋第五大股东',\n",
       " '大股东筹划重组第一创业停牌 公司控制权或生变',\n",
       " '上市游戏公司能走多远？ 中报透露发展战略玄机',\n",
       " '成都路桥：中标11亿元项目 金额占去年营收54%',\n",
       " '举牌南京新百 吕小奇称是长期价值投资',\n",
       " '兖州煤业：已完成收购联合煤炭',\n",
       " '复星国际净债务比率降47.4% 汪群斌称未受调查',\n",
       " '南通锻压转型重组告吹 原实控人巧借“三方交易”套现',\n",
       " '建设银行提名田国立担任执行董事',\n",
       " '英裘控股完成配售6.05亿股筹资1.265亿港元',\n",
       " '鑫网易商上半年业绩扭亏为盈至8620万元',\n",
       " '中国金融发展向中国法院提供一项诉讼担保',\n",
       " '格菱控股拟委任陈浩贤会计师事务所为公司新任核数师',\n",
       " '阿里巴巴新财年业绩高开',\n",
       " '中国金茂7月签约销售额同比增88.8%至33.18亿元',\n",
       " '搅局药店江湖 大参林加速北上',\n",
       " '东旭光电：上半年营收达46亿 同比增长超六成',\n",
       " '信披违规遭持续监管高压',\n",
       " '西宁特钢：拟通过售后回租筹资3亿元',\n",
       " '香港建设(控股)预期中期纯利同比增长逾50%',\n",
       " '联通混改闪现公募身影',\n",
       " '保税科技：上半年净利亏损8691.94万元',\n",
       " '东方嘉盛股价大跌超9% 净利不足亿元负债73亿',\n",
       " '养老金账户增持股正海磁材获机构调研',\n",
       " '用友网络拟参与中国联通混改 今日早间发布公告紧急停盘',\n",
       " '高银地产将于8月18日撤销上市地位',\n",
       " '乐的美上半年净利润同比增长52%',\n",
       " '方大炭素欲掷近60亿理财 大股东：金额太大不同意',\n",
       " '汇鸿集团：收到一亿元华泰证券分红 对今年业绩影响积极',\n",
       " '*ST海润、*ST锐电索赔案时效将至',\n",
       " '海康威视业绩牛难换股价牛 东方资管持股30天浮亏1.73亿元',\n",
       " '毅信控股拟改名“保集健康控股”',\n",
       " '旭日企业中期纯利3858万按年微升 息2.5仙',\n",
       " '开心果霉菌值超标被召回 三只松鼠IPO路上开心不起来',\n",
       " '花旗：升富力地产目标价至18.88元评级“买入”',\n",
       " '为什么被称为“下一个恒大”？中国金茂以半年114%净利增幅给出答案',\n",
       " '国开国际投资每股综合资产净值约0.5012港元',\n",
       " '白酒股持续走强 金种子酒涨停',\n",
       " '盟科控股预计中期收益及溢利分别减少23.7%及4.4%',\n",
       " '申华控股拟收购申华晨宝100%股权 售出东昌汽投股权',\n",
       " '大岩资本业绩惨遭滑铁卢 汪义平量化模型成试亏金钥匙',\n",
       " '凯普松国际中期亏损扩至１４７１万人币，不派中期息',\n",
       " '江苏银行：上半年净利近62亿元 同比增逾10%',\n",
       " '北京现代销量目标下调近四成 合资品牌优势不再',\n",
       " '启迪桑德欲转型互联网企业 机构现场考问执行能力',\n",
       " '安阳钢铁上半年净利同比降超7成 社保退出前十大股东',\n",
       " '三安光电：上半年净利同比增57% 证金公司二季度增持近920万股',\n",
       " '硕贝德股价连续两日一字跌停 实控人拟增持1亿至3亿元',\n",
       " '丰乐种业：中科汇通减持300股 持股比例低于5%',\n",
       " '华大基因发布上市首份定期报告 上半年净利润增长28.08%',\n",
       " '茅台上海大面积断货：有直营店1000箱存货不到1个月卖完',\n",
       " '信立传媒1000万海南设立全资子公司',\n",
       " '中国铝业：上半年净利同比增逾10倍 证金公司增持',\n",
       " '正川股份网上发行最终中签率0.0277%',\n",
       " '川河集团上半年净利增加143.64%至2.68亿港元',\n",
       " '中行2017年上半年税后利润增长3.02%',\n",
       " '伟昊汽车上半年净利润同比增长1.4倍',\n",
       " '上海家化中报净利超去年全年',\n",
       " '重组频生变中报业绩大跌 大富科技复牌一字跌停',\n",
       " '国盛金控：股东中江信托盘中交易构成短线交易',\n",
       " '中国联通780亿混改方案出炉 BAT等互联网巨头集体入局',\n",
       " '苹果概念股盘初拉升 胜宏科技大涨8%',\n",
       " '耀科国际9个月净亏损同比扩大62.3%至2532万港元',\n",
       " '天马精化：子公司今起停产检修 预计对其业绩造成影响',\n",
       " '绿地90亿南京拿地 拟建550米以上摩天大楼',\n",
       " '中国联通：运营中心的设立与混合所有制改革事项无关',\n",
       " '盛通股份筹划与真格基金成立教育产业基金',\n",
       " '康达环保至7月底签订特许经营协议处理规模升38%',\n",
       " '德奥通航与珍爱网“联姻” 资产重组成为上市的新途径',\n",
       " '国泰上市九个月重组 江西国资改革再提速',\n",
       " '中国兴业控股中期纯利同比上升13.56倍至1227.2万港元',\n",
       " '1000万一集 一部“剧王”让慈文传媒签下8亿元大单',\n",
       " '新安洁上半年净利润下滑31% 正在接受IPO辅导',\n",
       " '神火股份：股东惠众投资累计净出售公司股份2063万股',\n",
       " '捷安高科上半年收入增长超4成 净利润下滑3成',\n",
       " '中国铝业上半年净利润大增10倍 创金融危机后新高',\n",
       " '外媒：乐视硅谷办事处现在近乎“鬼城” 仅有少数人在办公',\n",
       " '景瑞控股完成赎回9370万美元2019年票据',\n",
       " '南宁百货业绩大幅下滑反受青睐 神秘资本花2.43亿闪电举牌',\n",
       " '金隅股份委任曾劲及郑宝金为执行董事',\n",
       " '汉唐国际控股上半年亏损扩大12.1倍至2.05亿港元',\n",
       " 'KKR拟24亿美元现金收购Envision旗下医疗运输公司',\n",
       " '太钢不锈放量涨停 四机构席位买入2.02亿元',\n",
       " '港股通连续净买入美图 持股比例超股价“闪崩”前',\n",
       " '中环环保中签号出炉 8月11日缴款',\n",
       " '上半年亏损同比扩大 国发股份全年盈利目标承压',\n",
       " '金风科技低风速新品首台样机并网',\n",
       " '贾跃亭抽血62亿 乐视网现金枯竭偿债能力近破产边缘',\n",
       " '环保新规取消超跑排放豁免权 迈凯伦部分新车交付被叫停',\n",
       " '康得新关联企业违规占用768万资金 深交所发监管函',\n",
       " '猪肉概念股持续走强 正邦科技等3股涨停',\n",
       " '发了又撤？联通780亿混改藏玄机！这些股受了刺激',\n",
       " '南钢股份：上半年净利润12亿元 同比增长逾7倍',\n",
       " '又花2亿多！天马股份分两次拿下新三板公司博易股份99%股权',\n",
       " '贵州茅台股价一度突破500元大关 今年来涨幅超50%',\n",
       " '区块链板块表现抢眼 恒生电子涨停',\n",
       " '中国人寿淮南代理人违法欺骗投保人',\n",
       " '新湖中宝：上半年净利同比增53% 证金公司大幅增持',\n",
       " '领益科技曾两年非经常性损益占比超77%',\n",
       " '盛京银行董事会扩至15人 恒大如愿谋得一席',\n",
       " '涉嫌信披违规被立案稽查 尔康制药面临暂停上市风险',\n",
       " '乐视否认贾跃亭“失联” 称尚有138.5亿金融机构贷款未偿还',\n",
       " '杭州携手阿里巴巴蚂蚁金服打造智慧住房租赁平台',\n",
       " '顺络电子：董事长九折受让公司5%股份 成第一大股东',\n",
       " '国投集团控股获主席朱晓军累计增持2140万股',\n",
       " '上半年扣非净利亏近80亿 中联重科归咎处理历史问题',\n",
       " '力尊信通上半年净利润1188万元 同比增长62%',\n",
       " '蓝盾股份：拟发行可转债募资11亿元 逾10亿投建产研基地',\n",
       " '发力2C市场 三雄极光公布“变身”计划',\n",
       " '乐视网：公司法定代表人由贾跃亭变更为梁军',\n",
       " '董小姐又霸气了！格力给全体员工发放高温补贴1000元',\n",
       " '方大炭素跌停 一日蒸发60亿600亿市值不保',\n",
       " '手持密钥“银隆钛”  董明珠造车开启狂暴模式',\n",
       " '宝莱特：公司实控人王石并非万科的王石',\n",
       " '茅台集团总经理：坚定不移铁腕稳价 不让老百姓骂娘',\n",
       " '山西焦化半年报扭亏为盈',\n",
       " '兆易创新65亿收购案被叫停 交易对手火速举牌思源电气',\n",
       " '腾讯股价飙涨！马化腾超马云成中国首富！（大佬们是如何创业的？）',\n",
       " '晶瑞股份：拟5亿元投建新材料项目',\n",
       " '理工环科：子公司业绩增长 上半年净利增近3倍',\n",
       " '中国海外发展7月耗资63.64亿元拿地9幅',\n",
       " '秦港股份网上申购中签结果出炉 中签号码共有502200个',\n",
       " '腾讯控股为港股通（深）十大成交活跃股榜首',\n",
       " '衍生集团授出9万份购股权',\n",
       " '批复到期失效 永创智能定增告吹',\n",
       " '万业企业：上半年净利同比增长逾24倍',\n",
       " '万达成立大健康集团 轻资产模式待考',\n",
       " '同业之王兴业银行营收大降 同业缩表、资本充足率紧张',\n",
       " '安记食品：拟出资1.8亿元参股成立福邦人寿',\n",
       " '贵交科上半年净利润同比增长53%',\n",
       " '中国铝业因产品价格上升中期纯利同比上升逾10倍',\n",
       " '信星集团8月17日耗资50.81万港元回购21.2万股',\n",
       " '迪臣建设首季纯利2977万元 跌20% 不派息',\n",
       " '金桥水科中标8320万元污水处理PPP项目',\n",
       " '怎样的业绩才能支撑40%的涨幅？中国平安半年报三大看点',\n",
       " '保利地产：前7月签约金额1631亿 增长逾三成',\n",
       " '浙江永安中期业绩扭亏为盈至62.6万元',\n",
       " '掌趣科技《龙王传说》全渠道预约开启 大IP更具市场价值',\n",
       " '中国宏桥：子公司已关停涉及年产268万吨的铝产品产能 占公司铝总产能29%',\n",
       " '三孚股份三天涨超25% 无应披露而未披露重大信息',\n",
       " '昌红科技跌停 终止收购纳百医疗一周前股吧已有爆料',\n",
       " '汉王药业等企业药品不合格',\n",
       " '方大炭素放量跌停 5家营业部合计卖出近8亿元',\n",
       " '福耀美国亏千万 还要再投10亿美刀！是因为亏不起面子？',\n",
       " '五粮液上半年净利增近三成 经销商预计普五一批价仍将走高',\n",
       " '莲和医疗授出600万美元贷款',\n",
       " '硕贝德三跌停 中泰证券长江资管易方达等或亏个底掉',\n",
       " '中材国际持股5%以上股东石河子中天拟减持',\n",
       " '珍宝岛拟出资21.88 亿元 建亳州中药材商品交易中心',\n",
       " '通威股份80亿投建高纯晶硅项目',\n",
       " '供给侧改革见成效 西北水泥市场回暖',\n",
       " 'ST鑫秋及董事张友秋被列入失信被执行人名单',\n",
       " '华夏医疗第一财季扭亏为盈净利润为76.4万港元',\n",
       " '对话曹德旺：没有竞争对手 福耀就死了',\n",
       " '温氏股份：对下半年猪价行情审慎乐观',\n",
       " '华友钴业拟认购AVZ公司增发股份',\n",
       " '宝德科技集团上半年净利增加20.78倍至3.22亿元',\n",
       " '中外运航运上半年业绩亏转盈至800.6万美元',\n",
       " '有董事监事反对又有上交所两度问询 长园集团“铁心”要收购中锂新材',\n",
       " '金川国际扭亏为盈中期净赚778.7万美元',\n",
       " '新华保险的尴尬局面：市场份额大跌三成 混改难产转型来凑',\n",
       " '道道全：上半年净利下滑近3成 拟10转7派4.1元',\n",
       " '中珠医疗：一体集团方面拟减持不超2%股份',\n",
       " '浙能电力：不超100亿元长期投资优质上市公司股票',\n",
       " '南宁百货举牌牵出资本迷阵 遭问询是否与前海人寿有关',\n",
       " '天圣制药拟控股湖北仙明 涉足医疗器械领域',\n",
       " '康得新：中植系认可公司发展 股价闪崩是一个很好的买入机会',\n",
       " '万东医疗：中标近亿元供货项目 占去年营收10%',\n",
       " '起步股份网上发行中签号出炉 共42300个',\n",
       " '混改概念股走强 文山电力涨逾8%',\n",
       " '仁智国际集团上半年亏损798.2万港元不派息',\n",
       " '高鑫零售上半年净利增22.7%至17.57亿元已开始试点无人便利商店',\n",
       " '同兴达：因拟高送转收到深交所关注函',\n",
       " '万科：风雨兼程724天',\n",
       " '华大基因午后跌逾9% 一度逼近跌停',\n",
       " '首航节能现10.53亿元大宗交易',\n",
       " '*ST中绒被深交所出具监管函',\n",
       " '众泰汽车：筹划有重要影响事项 21日起停牌',\n",
       " '分析师预计苹果将成为首个市值破万亿美元的公司',\n",
       " '上海医药已向Arbor提交非约束性报价拟参与竞购Arbor部分股权',\n",
       " '李丛瑞：中国金茂将坚持城市运营商定位',\n",
       " '露天煤业股东霍煤集团拟减持不超1%股份',\n",
       " '华泰汽车即将控股曙光股份 交易目的仍存疑',\n",
       " '神秘霍斌10.87亿潜入焦作万方 同省同行背景待解',\n",
       " '万达酒店发展涨逾6%',\n",
       " '区块链概念股早盘大涨 御银股份涨停',\n",
       " '浙江展望中期股东应占亏损同比收窄27%至161万元',\n",
       " '天际股份上半年净利润同比增4倍',\n",
       " '西南证券：上半年净利同比下降57% 证金持股升至4.99%',\n",
       " '中国金属利用中期业绩由亏转盈8545.4万元',\n",
       " '国通信托产品折戟武汉汽车公园项目 武汉金控入主面临多重挑战',\n",
       " '二股东申请非上市外资股转为B股流通 鲁泰A股本结构变更',\n",
       " '南大苏富特中期亏损减少5.19%至2411万元',\n",
       " '天津星耀5%股权拟转至中航信托 逾60亿元信托债务已偿还',\n",
       " '新凤鸣：上半年净利同比增294% 拟发行不超22.3亿元可转债',\n",
       " '凯顺能源上半年业绩扭亏为盈至6331.5万港元',\n",
       " '华为腾讯因用户数据掐架 工信部尚未回应',\n",
       " '酷派CEO刘江峰：酷派有价值将近100亿的土地资源',\n",
       " '中国神华内蒙古新街台格庙矿区总体规划获得国家发改委批复',\n",
       " '食药监总局批准第三批婴幼儿乳粉产品配方注册申请',\n",
       " '华夏银行上半年净利增0.1% 将设立消费金融公司',\n",
       " '柏荣集团控股由盈转亏一季度净亏608.7万港元',\n",
       " '佛山照明：减持国轩高科约1%股份 预增三季度净利2.29亿元',\n",
       " '赫美集团：京富万润6.48亿元收购控股股东部分股权 间接控制公司16.66%股份',\n",
       " '晶方科技半年报增长103%',\n",
       " '深冷股份签1.96亿项目 预计营收占去年营收近六成',\n",
       " '金龙汽车：前7月客车产销双降 降幅均逾三成',\n",
       " ...]"
      ]
     },
     "execution_count": 59,
     "metadata": {},
     "output_type": "execute_result"
    }
   ],
   "source": [
    "title"
   ]
  },
  {
   "cell_type": "code",
   "execution_count": 37,
   "metadata": {},
   "outputs": [
    {
     "data": {
      "text/plain": [
       "4032"
      ]
     },
     "execution_count": 37,
     "metadata": {},
     "output_type": "execute_result"
    }
   ],
   "source": [
    "with open('abstract_data/11.pkl', 'rb') as fp:\n",
    "    abstract = pickle.load(fp)\n",
    "abstract = list(set(abstract))\n",
    "len(abstract)"
   ]
  },
  {
   "cell_type": "code",
   "execution_count": 38,
   "metadata": {
    "collapsed": true
   },
   "outputs": [],
   "source": [
    "def write_to_file(content):\n",
    "    with open('train/data.json', 'a', encoding='utf-8') as f:\n",
    "        f.write(json.dumps(content, ensure_ascii=False) + '\\n')\n",
    "        f.close()\n",
    "        \n",
    "def gen_data(data):\n",
    "    for item in data:\n",
    "        yield {\n",
    "            'abstract': item,\n",
    "            'eneity': [\"\", \"\"],\n",
    "            'relation': \"\"\n",
    "        }"
   ]
  },
  {
   "cell_type": "code",
   "execution_count": 54,
   "metadata": {
    "collapsed": true
   },
   "outputs": [],
   "source": [
    "def write_to_file(content):\n",
    "    with open('train/data.json', 'a', encoding='utf-8') as f:\n",
    "        f.write(json.dumps(content, ensure_ascii=False) + '\\n')\n",
    "        f.close()\n",
    "        \n",
    "def gen_data(data):\n",
    "    for item in data:\n",
    "        yield {\n",
    "            'abstract': item\n",
    "        }"
   ]
  },
  {
   "cell_type": "code",
   "execution_count": 55,
   "metadata": {
    "collapsed": true
   },
   "outputs": [],
   "source": [
    "for i in gen_data(abstract):\n",
    "    write_to_file(i)"
   ]
  },
  {
   "cell_type": "markdown",
   "metadata": {},
   "source": [
    "## 标注细节"
   ]
  },
  {
   "cell_type": "markdown",
   "metadata": {},
   "source": [
    "### 实体标注细节"
   ]
  },
  {
   "cell_type": "code",
   "execution_count": null,
   "metadata": {
    "collapsed": true
   },
   "outputs": [],
   "source": []
  },
  {
   "cell_type": "markdown",
   "metadata": {},
   "source": [
    "### 关系标注细节"
   ]
  },
  {
   "cell_type": "markdown",
   "metadata": {},
   "source": [
    "- 股权转让\n",
    "- 无相关关系\n",
    "- #收到监管措施事先告知书（证监会）\n",
    "- 收购\n",
    "- 合作\n",
    "- 损失\n",
    "- 失去控制权\n",
    "- 提供技术支持\n",
    "- 认购股票\n",
    "- 购入股权\n",
    "- #存在多种关系：子公司，\n",
    "- "
   ]
  },
  {
   "cell_type": "code",
   "execution_count": 47,
   "metadata": {
    "collapsed": true
   },
   "outputs": [],
   "source": [
    "with open('train/trian_data.json') as f:\n",
    "    lines = f.readlines()\n",
    "       \n",
    "abstract = []\n",
    "eneity = []\n",
    "\n",
    "for line in lines:\n",
    "    item = json.loads(line)\n",
    "    abstract.append(item['abstract'])\n",
    "    eneity.append(item['eneity'])"
   ]
  },
  {
   "cell_type": "code",
   "execution_count": 53,
   "metadata": {},
   "outputs": [
    {
     "data": {
      "text/plain": [
       "21273"
      ]
     },
     "execution_count": 53,
     "metadata": {},
     "output_type": "execute_result"
    }
   ],
   "source": [
    "len(abstract)"
   ]
  },
  {
   "cell_type": "code",
   "execution_count": 48,
   "metadata": {},
   "outputs": [
    {
     "data": {
      "text/plain": [
       "21273"
      ]
     },
     "execution_count": 48,
     "metadata": {},
     "output_type": "execute_result"
    }
   ],
   "source": [
    "len(set(abstract))"
   ]
  },
  {
   "cell_type": "code",
   "execution_count": 50,
   "metadata": {},
   "outputs": [
    {
     "data": {
      "text/plain": [
       "['【东富龙：向迪安诊断转让重庆产研院股权】东富龙(300171)6月1日晚公告，公司下属全资子公司东富龙医疗与迪安诊断(300244)签署股权转让协议，约定东富龙医疗以5035万元，向迪安诊断转让重庆精准医疗产业技术研究院有限公司(简称重庆产研院)100%股权。（证券时报网）',\n",
       " '【康缘药业：筹划股权激励事项 明起停牌】康缘药业(600557)6月5日晚间公告，公司正在筹划股权激励事项，公司股票将自6月6日起停牌。公司将尽快确定是否进行上述重大事项，并于5个工作日内公告并复牌。（证券时报）',\n",
       " '昨日晚间，国海证券发布公告称，公司今年5月份营业收入1.21亿元，净利润1665.67万元；分别环比下滑26%、60%；分别同比下滑45%、81%。国海证券今年5月份收到证监会行政监管措施事先告知书，拟自行政监督管理措施正式下发之日起一年内，暂停国海证券新开证券账户等三项业务。']"
      ]
     },
     "execution_count": 50,
     "metadata": {},
     "output_type": "execute_result"
    }
   ],
   "source": [
    "abstract[:3]"
   ]
  },
  {
   "cell_type": "code",
   "execution_count": 52,
   "metadata": {
    "collapsed": true
   },
   "outputs": [],
   "source": [
    "abstract = list(set(abstract))"
   ]
  },
  {
   "cell_type": "code",
   "execution_count": 50,
   "metadata": {},
   "outputs": [
    {
     "data": {
      "text/plain": [
       "'【东富龙：向迪安诊断转让重庆产研院股权】东富龙(300171)6月1日晚公告，公司下属全资子公司东富龙医疗与迪安诊断(300244)签署股权转让协议，约定东富龙医疗以5035万元，向迪安诊断转让重庆精准医疗产业技术研究院有限公司(简称重庆产研院)100%股权。（证券时报网）'"
      ]
     },
     "execution_count": 50,
     "metadata": {},
     "output_type": "execute_result"
    }
   ],
   "source": [
    "abstract[0]"
   ]
  },
  {
   "cell_type": "code",
   "execution_count": 44,
   "metadata": {},
   "outputs": [
    {
     "data": {
      "text/plain": [
       "21293"
      ]
     },
     "execution_count": 44,
     "metadata": {},
     "output_type": "execute_result"
    }
   ],
   "source": [
    "len(eneity)"
   ]
  },
  {
   "cell_type": "code",
   "execution_count": 52,
   "metadata": {},
   "outputs": [
    {
     "data": {
      "text/plain": [
       "['东富龙', '迪安诊断', '东富龙医疗', '重庆产研院']"
      ]
     },
     "execution_count": 52,
     "metadata": {},
     "output_type": "execute_result"
    }
   ],
   "source": [
    "eneity[0]"
   ]
  }
 ],
 "metadata": {
  "kernelspec": {
   "display_name": "Python 3",
   "language": "python",
   "name": "python3"
  },
  "language_info": {
   "codemirror_mode": {
    "name": "ipython",
    "version": 3
   },
   "file_extension": ".py",
   "mimetype": "text/x-python",
   "name": "python",
   "nbconvert_exporter": "python",
   "pygments_lexer": "ipython3",
   "version": "3.6.2"
  },
  "toc": {
   "colors": {
    "hover_highlight": "#DAA520",
    "navigate_num": "#000000",
    "navigate_text": "#333333",
    "running_highlight": "#FF0000",
    "selected_highlight": "#FFD700",
    "sidebar_border": "#EEEEEE",
    "wrapper_background": "#FFFFFF"
   },
   "moveMenuLeft": true,
   "nav_menu": {
    "height": "102px",
    "width": "252px"
   },
   "navigate_menu": true,
   "number_sections": true,
   "sideBar": true,
   "threshold": 4,
   "toc_cell": true,
   "toc_section_display": "block",
   "toc_window_display": false,
   "widenNotebook": false
  }
 },
 "nbformat": 4,
 "nbformat_minor": 2
}
