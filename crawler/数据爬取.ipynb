{
 "cells": [
  {
   "cell_type": "markdown",
   "metadata": {
    "toc": "true"
   },
   "source": [
    "# Table of Contents\n",
    " <p><div class=\"lev1 toc-item\"><a href=\"#爬取单页内容\" data-toc-modified-id=\"爬取单页内容-1\"><span class=\"toc-item-num\">1&nbsp;&nbsp;</span>爬取单页内容</a></div><div class=\"lev1 toc-item\"><a href=\"#读取单页内容\" data-toc-modified-id=\"读取单页内容-2\"><span class=\"toc-item-num\">2&nbsp;&nbsp;</span>读取单页内容</a></div><div class=\"lev1 toc-item\"><a href=\"#爬取多页内容\" data-toc-modified-id=\"爬取多页内容-3\"><span class=\"toc-item-num\">3&nbsp;&nbsp;</span>爬取多页内容</a></div><div class=\"lev2 toc-item\"><a href=\"#首页-&gt;-财经频道-&gt;-要闻-&gt;-公司新闻\" data-toc-modified-id=\"首页->-财经频道->-要闻->-公司新闻-31\"><span class=\"toc-item-num\">3.1&nbsp;&nbsp;</span>首页 &gt; 财经频道 &gt; 要闻 &gt; 公司新闻</a></div><div class=\"lev2 toc-item\"><a href=\"#首页-&gt;-财经频道-&gt;-要闻-&gt;-上市公司-&gt;-列表\" data-toc-modified-id=\"首页->-财经频道->-要闻->-上市公司->-列表-32\"><span class=\"toc-item-num\">3.2&nbsp;&nbsp;</span>首页 &gt; 财经频道 &gt; 要闻 &gt; 上市公司 &gt; 列表</a></div><div class=\"lev1 toc-item\"><a href=\"#读取多页内容\" data-toc-modified-id=\"读取多页内容-4\"><span class=\"toc-item-num\">4&nbsp;&nbsp;</span>读取多页内容</a></div><div class=\"lev2 toc-item\"><a href=\"#读取-3.1\" data-toc-modified-id=\"读取-3.1-41\"><span class=\"toc-item-num\">4.1&nbsp;&nbsp;</span>读取 3.1</a></div><div class=\"lev2 toc-item\"><a href=\"#读取-3.2\" data-toc-modified-id=\"读取-3.2-42\"><span class=\"toc-item-num\">4.2&nbsp;&nbsp;</span>读取 3.2</a></div><div class=\"lev2 toc-item\"><a href=\"#集合数据\" data-toc-modified-id=\"集合数据-43\"><span class=\"toc-item-num\">4.3&nbsp;&nbsp;</span>集合数据</a></div><div class=\"lev1 toc-item\"><a href=\"#标注数据\" data-toc-modified-id=\"标注数据-5\"><span class=\"toc-item-num\">5&nbsp;&nbsp;</span>标注数据</a></div><div class=\"lev2 toc-item\"><a href=\"#标注细节\" data-toc-modified-id=\"标注细节-51\"><span class=\"toc-item-num\">5.1&nbsp;&nbsp;</span>标注细节</a></div><div class=\"lev3 toc-item\"><a href=\"#实体标注细节\" data-toc-modified-id=\"实体标注细节-511\"><span class=\"toc-item-num\">5.1.1&nbsp;&nbsp;</span>实体标注细节</a></div><div class=\"lev3 toc-item\"><a href=\"#关系标注细节\" data-toc-modified-id=\"关系标注细节-512\"><span class=\"toc-item-num\">5.1.2&nbsp;&nbsp;</span>关系标注细节</a></div>"
   ]
  },
  {
   "cell_type": "markdown",
   "metadata": {
    "heading_collapsed": true
   },
   "source": [
    "# 爬取单页内容"
   ]
  },
  {
   "cell_type": "code",
   "execution_count": 101,
   "metadata": {
    "collapsed": true,
    "hidden": true
   },
   "outputs": [],
   "source": [
    "import requests\n",
    "from requests.exceptions import RequestException\n",
    "import re\n",
    "import json"
   ]
  },
  {
   "cell_type": "code",
   "execution_count": 102,
   "metadata": {
    "collapsed": true,
    "hidden": true
   },
   "outputs": [],
   "source": [
    "def get_one_page(url):\n",
    "    try:\n",
    "        response = requests.get(url).content.decode('utf-8')\n",
    "        if requests.get(url).status_code == 200:\n",
    "            return response\n",
    "        return None\n",
    "    except RequestException:\n",
    "        return None\n",
    "\n",
    "def write_to_file(content):\n",
    "    with open('single_page.json', 'a', encoding='utf-8') as f:\n",
    "        f.write(json.dumps(content, ensure_ascii=False) + '\\n')\n",
    "        f.close()\n",
    "        \n",
    "def parse_one_page(html):\n",
    "    pattern = re.compile('<p class=\"title\">.*?<a href=\".*?\">(.*?)</a>.*?<p class=\"info\" title=\"(.*?)\">.*?<p class=\"time\">(.*?)</p>'\n",
    "                         , re.S)\n",
    "    items = re.findall(pattern, html)\n",
    "    for item in items:\n",
    "        yield {\n",
    "            'title': item[0],\n",
    "            'abstract': item[1],\n",
    "            'time': item[2][:-6]\n",
    "        }    "
   ]
  },
  {
   "cell_type": "code",
   "execution_count": 103,
   "metadata": {
    "collapsed": true,
    "hidden": true
   },
   "outputs": [],
   "source": [
    "url = 'http://finance.eastmoney.com/news/cgsxw_23.html'\n",
    "html = get_one_page(url)\n",
    "single_page = parse_one_page(html)\n",
    "for s in single_page:\n",
    "    write_to_file(s)"
   ]
  },
  {
   "cell_type": "markdown",
   "metadata": {
    "heading_collapsed": true
   },
   "source": [
    "# 读取单页内容"
   ]
  },
  {
   "cell_type": "code",
   "execution_count": 4,
   "metadata": {
    "collapsed": true,
    "hidden": true
   },
   "outputs": [],
   "source": [
    "import json\n",
    "import pickle"
   ]
  },
  {
   "cell_type": "code",
   "execution_count": 14,
   "metadata": {
    "collapsed": true,
    "hidden": true
   },
   "outputs": [],
   "source": [
    "with open('single_page.json') as f:\n",
    "    lines = f.readlines()\n",
    "    \n",
    "title = []\n",
    "abstract = []\n",
    "time = []\n",
    "for line in lines:\n",
    "    item = json.loads(line)\n",
    "    title.append(item['title'].strip())\n",
    "    abstract.append(item['abstract'].strip())\n",
    "    time.append('2017年' + item['time'].strip()[:-6])\n",
    "    \n",
    "tokens = (title, abstract, time)"
   ]
  },
  {
   "cell_type": "code",
   "execution_count": 15,
   "metadata": {
    "hidden": true
   },
   "outputs": [
    {
     "data": {
      "text/plain": [
       "(18, 18, {'2017年06月12日'})"
      ]
     },
     "execution_count": 15,
     "metadata": {},
     "output_type": "execute_result"
    }
   ],
   "source": [
    "len(title), len(abstract), set(time)"
   ]
  },
  {
   "cell_type": "code",
   "execution_count": 18,
   "metadata": {
    "collapsed": true,
    "hidden": true
   },
   "outputs": [],
   "source": [
    "with open('tokens.pkl', 'wb') as fp:\n",
    "    pickle.dump(tokens, fp)"
   ]
  },
  {
   "cell_type": "code",
   "execution_count": 19,
   "metadata": {
    "collapsed": true,
    "hidden": true
   },
   "outputs": [],
   "source": [
    "with open('tokens.pkl', 'rb') as fp:\n",
    "    title, abstract, time = pickle.load(fp)"
   ]
  },
  {
   "cell_type": "code",
   "execution_count": 21,
   "metadata": {
    "hidden": true
   },
   "outputs": [
    {
     "data": {
      "text/plain": [
       "'日播时尚业绩滑坡库存高 女装三年13起抽检不合格'"
      ]
     },
     "execution_count": 21,
     "metadata": {},
     "output_type": "execute_result"
    }
   ],
   "source": [
    "title[0]"
   ]
  },
  {
   "cell_type": "code",
   "execution_count": 22,
   "metadata": {
    "hidden": true
   },
   "outputs": [
    {
     "data": {
      "text/plain": [
       "'中国经济网记者就上述问题向公司证券事务部发去采访函，截至发稿时未收到回复。中孚信息是专注于信息安全领域的高新技术企业，主营业务为信息安全产品研发、生产、销售及信息安全服务。公司主要产品及服务包括信息安全保密产品、商用密码产品、信息安全服务。信息安全保密产品服务对象主要为党政机关、军工企业、中央企业、科研院所等，商用密码产品服务领域主要为金融、税务、工商等。信息安全服务为涉密信息系统集成服务。公司坚持自主创新，研发了主要面向党政机关、军工企业、中央企业、科研院所的信息安全保密产品，部分产品处于国内领先地位。'"
      ]
     },
     "execution_count": 22,
     "metadata": {},
     "output_type": "execute_result"
    }
   ],
   "source": [
    "abstract[0]"
   ]
  },
  {
   "cell_type": "code",
   "execution_count": 23,
   "metadata": {
    "hidden": true
   },
   "outputs": [
    {
     "data": {
      "text/plain": [
       "'2017年06月12日'"
      ]
     },
     "execution_count": 23,
     "metadata": {},
     "output_type": "execute_result"
    }
   ],
   "source": [
    "time[0]"
   ]
  },
  {
   "cell_type": "markdown",
   "metadata": {},
   "source": [
    "# 爬取多页内容"
   ]
  },
  {
   "cell_type": "markdown",
   "metadata": {},
   "source": [
    "## 首页 > 财经频道 > 要闻 > 公司新闻"
   ]
  },
  {
   "cell_type": "code",
   "execution_count": 1,
   "metadata": {
    "collapsed": true
   },
   "outputs": [],
   "source": [
    "import requests\n",
    "from multiprocessing import Pool\n",
    "from requests.exceptions import RequestException\n",
    "import re\n",
    "import json\n",
    "import time"
   ]
  },
  {
   "cell_type": "code",
   "execution_count": 2,
   "metadata": {
    "collapsed": true
   },
   "outputs": [],
   "source": [
    "def get_one_page(url):\n",
    "    try:\n",
    "        response = requests.get(url).content.decode('utf-8')\n",
    "        if requests.get(url).status_code == 200:\n",
    "            return response\n",
    "        return None\n",
    "    except RequestException:\n",
    "        return None\n",
    "\n",
    "def write_to_file(content):\n",
    "    with open('all_pages.json', 'a', encoding='utf-8') as f:\n",
    "        f.write(json.dumps(content, ensure_ascii=False) + '\\n')\n",
    "        f.close()\n",
    "        \n",
    "def parse_one_page(html):\n",
    "    pattern = re.compile('<p class=\"title\">.*?<a href=\".*?\">(.*?)</a>.*?<p class=\"info\" title=\"(.*?)\">.*?<p class=\"time\">(.*?)</p>'\n",
    "                         , re.S)\n",
    "    items = re.findall(pattern, html)\n",
    "    for item in items:\n",
    "        yield {\n",
    "            'title': item[0],\n",
    "            'abstract': item[1],\n",
    "            'time': item[2]\n",
    "        }    \n",
    "\n",
    "def all_pages(num):\n",
    "    url = 'http://finance.eastmoney.com/news/cgsxw_' + str(num) + '.html'\n",
    "    html = get_one_page(url)\n",
    "    for item in parse_one_page(html):\n",
    "        write_to_file(item)"
   ]
  },
  {
   "cell_type": "code",
   "execution_count": 3,
   "metadata": {
    "scrolled": false
   },
   "outputs": [
    {
     "data": {
      "text/plain": [
       "[None,\n",
       " None,\n",
       " None,\n",
       " None,\n",
       " None,\n",
       " None,\n",
       " None,\n",
       " None,\n",
       " None,\n",
       " None,\n",
       " None,\n",
       " None,\n",
       " None,\n",
       " None,\n",
       " None,\n",
       " None,\n",
       " None,\n",
       " None,\n",
       " None,\n",
       " None,\n",
       " None,\n",
       " None,\n",
       " None,\n",
       " None,\n",
       " None]"
      ]
     },
     "execution_count": 3,
     "metadata": {},
     "output_type": "execute_result"
    }
   ],
   "source": [
    "pool = Pool()\n",
    "pool.map(all_pages, [i+1 for i in range(25)])"
   ]
  },
  {
   "cell_type": "code",
   "execution_count": 4,
   "metadata": {
    "collapsed": true
   },
   "outputs": [],
   "source": [
    "#start = time.time()\n",
    "#for i in range(23):\n",
    "#    all_pages(i+1)\n",
    "#end = time.time()\n",
    "#print('Time-consuming: %.3fs' % (end - start))"
   ]
  },
  {
   "cell_type": "markdown",
   "metadata": {},
   "source": [
    "## 首页 > 财经频道 > 要闻 > 上市公司 > 列表"
   ]
  },
  {
   "cell_type": "code",
   "execution_count": 5,
   "metadata": {
    "collapsed": true
   },
   "outputs": [],
   "source": [
    "import requests\n",
    "from multiprocessing import Pool\n",
    "from requests.exceptions import RequestException\n",
    "import re\n",
    "import json\n",
    "import time"
   ]
  },
  {
   "cell_type": "code",
   "execution_count": 6,
   "metadata": {
    "collapsed": true
   },
   "outputs": [],
   "source": [
    "def get_one_page(url):\n",
    "    try:\n",
    "        response = requests.get(url).content.decode('utf-8')\n",
    "        if requests.get(url).status_code == 200:\n",
    "            return response\n",
    "        return None\n",
    "    except RequestException:\n",
    "        return None\n",
    "\n",
    "def write_to_file(content):\n",
    "    with open('all_pages_2.json', 'a', encoding='utf-8') as f:\n",
    "        f.write(json.dumps(content, ensure_ascii=False, sort_keys=True) + '\\n')\n",
    "        f.close()\n",
    "        \n",
    "def parse_one_page(html):\n",
    "    pattern = re.compile('<p class=\"title\">.*?<a href=\".*?\">(.*?)</a>.*?<p class=\"info\" title=\"(.*?)\">.*?<p class=\"time\">(.*?)</p>'\n",
    "                         , re.S)\n",
    "    items = re.findall(pattern, html)\n",
    "    for item in items:\n",
    "        yield {\n",
    "            'title': item[0],\n",
    "            'abstract': item[1],\n",
    "            'time': item[2]\n",
    "        }    \n",
    "\n",
    "def all_pages(num):\n",
    "    url = 'http://finance.eastmoney.com/news/cssgs_' + str(num) + '.html'\n",
    "    html = get_one_page(url)\n",
    "    for item in parse_one_page(html):\n",
    "        write_to_file(item)"
   ]
  },
  {
   "cell_type": "code",
   "execution_count": 7,
   "metadata": {},
   "outputs": [
    {
     "data": {
      "text/plain": [
       "[None,\n",
       " None,\n",
       " None,\n",
       " None,\n",
       " None,\n",
       " None,\n",
       " None,\n",
       " None,\n",
       " None,\n",
       " None,\n",
       " None,\n",
       " None,\n",
       " None,\n",
       " None,\n",
       " None,\n",
       " None,\n",
       " None,\n",
       " None,\n",
       " None,\n",
       " None,\n",
       " None,\n",
       " None,\n",
       " None,\n",
       " None,\n",
       " None]"
      ]
     },
     "execution_count": 7,
     "metadata": {},
     "output_type": "execute_result"
    }
   ],
   "source": [
    "pool = Pool()\n",
    "pool.map(all_pages, [i+1 for i in range(25)])"
   ]
  },
  {
   "cell_type": "code",
   "execution_count": 8,
   "metadata": {
    "collapsed": true
   },
   "outputs": [],
   "source": [
    "#start = time.time()\n",
    "#for i in range(9):\n",
    "#    all_pages(i+1)\n",
    "#end = time.time()\n",
    "#print('Time-consuming: %.3fs' % (end - start))"
   ]
  },
  {
   "cell_type": "markdown",
   "metadata": {},
   "source": [
    "# 读取多页内容"
   ]
  },
  {
   "cell_type": "markdown",
   "metadata": {},
   "source": [
    "## 读取 3.1"
   ]
  },
  {
   "cell_type": "code",
   "execution_count": 9,
   "metadata": {
    "collapsed": true
   },
   "outputs": [],
   "source": [
    "import json\n",
    "import pickle"
   ]
  },
  {
   "cell_type": "code",
   "execution_count": 10,
   "metadata": {
    "collapsed": true,
    "scrolled": false
   },
   "outputs": [],
   "source": [
    "with open('all_pages.json') as f:\n",
    "    lines = f.readlines()\n",
    "       \n",
    "title = []\n",
    "abstract = []\n",
    "time = []\n",
    "for line in list(set(lines)):\n",
    "    item = json.loads(line)\n",
    "    title.append(item['title'].strip())\n",
    "    abstract.append(item['abstract'].strip())\n",
    "    time.append('2017年' + item['time'].strip()[:-6])\n",
    "    \n",
    "tokens = (title, abstract, time)"
   ]
  },
  {
   "cell_type": "code",
   "execution_count": 11,
   "metadata": {
    "collapsed": true
   },
   "outputs": [],
   "source": [
    "#with open('all_tokens.pkl', 'wb') as fp:\n",
    "#    pickle.dump(tokens, fp)"
   ]
  },
  {
   "cell_type": "code",
   "execution_count": 12,
   "metadata": {
    "collapsed": true
   },
   "outputs": [],
   "source": [
    "#with open('all_tokens.pkl', 'rb') as fp:\n",
    "#    title, abstract, time = pickle.load(fp)"
   ]
  },
  {
   "cell_type": "code",
   "execution_count": 13,
   "metadata": {},
   "outputs": [
    {
     "data": {
      "text/plain": [
       "(3780, 2954, 2931, 2954)"
      ]
     },
     "execution_count": 13,
     "metadata": {},
     "output_type": "execute_result"
    }
   ],
   "source": [
    "len(lines), len(title), len(set(abstract)), len(time)"
   ]
  },
  {
   "cell_type": "code",
   "execution_count": 14,
   "metadata": {},
   "outputs": [
    {
     "data": {
      "text/plain": [
       "(2954, 2948, 2931, 12)"
      ]
     },
     "execution_count": 14,
     "metadata": {},
     "output_type": "execute_result"
    }
   ],
   "source": [
    "len(set(lines)), len(set(title)), len(set(abstract)), len(set(time))"
   ]
  },
  {
   "cell_type": "code",
   "execution_count": 15,
   "metadata": {},
   "outputs": [
    {
     "data": {
      "text/plain": [
       "{'2017年08月07日',\n",
       " '2017年08月08日',\n",
       " '2017年08月09日',\n",
       " '2017年08月10日',\n",
       " '2017年08月11日',\n",
       " '2017年08月12日',\n",
       " '2017年08月13日',\n",
       " '2017年08月14日',\n",
       " '2017年08月15日',\n",
       " '2017年08月16日',\n",
       " '2017年08月17日',\n",
       " '2017年08月18日'}"
      ]
     },
     "execution_count": 15,
     "metadata": {},
     "output_type": "execute_result"
    }
   ],
   "source": [
    "set(time)"
   ]
  },
  {
   "cell_type": "code",
   "execution_count": 16,
   "metadata": {},
   "outputs": [
    {
     "data": {
      "text/plain": [
       "'中国水务8月8日耗资439.94万港元回购101.6万股'"
      ]
     },
     "execution_count": 16,
     "metadata": {},
     "output_type": "execute_result"
    }
   ],
   "source": [
    "title[0]"
   ]
  },
  {
   "cell_type": "code",
   "execution_count": 17,
   "metadata": {},
   "outputs": [
    {
     "data": {
      "text/plain": [
       "'智通财经APP讯，中国信贷(08207)公布，2017年上半年，公司营业额达19.82亿元(人民币，下同)，同比增加428%；其中，在线投资及科技驱动借贷服务收入达14.90亿元，同比增加13.15倍。此外，期内溢利达7.29亿元，同比增加472.7%；公司拥有人应占净利达5.67亿元，同比增加347.3%；每股基本盈利达2.6分，不派中期股息。2017年6月5日，互金协会“互联网金融登记披露服务平台”正式上线运营，公司核心在线投资平台“网信”旗下“网信普惠”成为第一批10家接入的平台之一。'"
      ]
     },
     "execution_count": 17,
     "metadata": {},
     "output_type": "execute_result"
    }
   ],
   "source": [
    "abstract[0]"
   ]
  },
  {
   "cell_type": "code",
   "execution_count": 18,
   "metadata": {},
   "outputs": [
    {
     "data": {
      "text/plain": [
       "'2017年08月08日'"
      ]
     },
     "execution_count": 18,
     "metadata": {},
     "output_type": "execute_result"
    }
   ],
   "source": [
    "time[0]"
   ]
  },
  {
   "cell_type": "markdown",
   "metadata": {},
   "source": [
    "## 读取 3.2"
   ]
  },
  {
   "cell_type": "code",
   "execution_count": 19,
   "metadata": {
    "collapsed": true
   },
   "outputs": [],
   "source": [
    "import json\n",
    "import pickle"
   ]
  },
  {
   "cell_type": "code",
   "execution_count": 20,
   "metadata": {
    "collapsed": true
   },
   "outputs": [],
   "source": [
    "with open('all_pages_2.json') as f:\n",
    "    lines = f.readlines()\n",
    "       \n",
    "title = []\n",
    "abstract = []\n",
    "time = []\n",
    "for line in list(set(lines)):\n",
    "    item = json.loads(line)\n",
    "    title.append(item['title'].strip())\n",
    "    abstract.append(item['abstract'].strip())\n",
    "    time.append('2017年' + item['time'].strip()[:-6])\n",
    "    \n",
    "tokens = (title, abstract, time)"
   ]
  },
  {
   "cell_type": "code",
   "execution_count": 21,
   "metadata": {
    "collapsed": true
   },
   "outputs": [],
   "source": [
    "#with open('all_tokens_2.pkl', 'wb') as fp:\n",
    "#    pickle.dump(tokens, fp)"
   ]
  },
  {
   "cell_type": "code",
   "execution_count": 22,
   "metadata": {
    "collapsed": true
   },
   "outputs": [],
   "source": [
    "#with open('all_tokens_2.pkl', 'rb') as fp:\n",
    "#    title, abstract, time = pickle.load(fp)"
   ]
  },
  {
   "cell_type": "code",
   "execution_count": 23,
   "metadata": {},
   "outputs": [
    {
     "data": {
      "text/plain": [
       "(2794, 1143, 1143, 1143)"
      ]
     },
     "execution_count": 23,
     "metadata": {},
     "output_type": "execute_result"
    }
   ],
   "source": [
    "len(lines), len(title), len(abstract), len(time)"
   ]
  },
  {
   "cell_type": "code",
   "execution_count": 24,
   "metadata": {},
   "outputs": [
    {
     "data": {
      "text/plain": [
       "(1143, 1141, 1110, 12)"
      ]
     },
     "execution_count": 24,
     "metadata": {},
     "output_type": "execute_result"
    }
   ],
   "source": [
    "len(set(lines)), len(set(title)), len(set(abstract)), len(set(time))"
   ]
  },
  {
   "cell_type": "code",
   "execution_count": 25,
   "metadata": {},
   "outputs": [
    {
     "data": {
      "text/plain": [
       "{'2017年08月07日',\n",
       " '2017年08月08日',\n",
       " '2017年08月09日',\n",
       " '2017年08月10日',\n",
       " '2017年08月11日',\n",
       " '2017年08月12日',\n",
       " '2017年08月13日',\n",
       " '2017年08月14日',\n",
       " '2017年08月15日',\n",
       " '2017年08月16日',\n",
       " '2017年08月17日',\n",
       " '2017年08月18日'}"
      ]
     },
     "execution_count": 25,
     "metadata": {},
     "output_type": "execute_result"
    }
   ],
   "source": [
    "set(time)"
   ]
  },
  {
   "cell_type": "code",
   "execution_count": 26,
   "metadata": {},
   "outputs": [
    {
     "data": {
      "text/plain": [
       "'产能过剩格局未改 正海磁材半年营收净利双降'"
      ]
     },
     "execution_count": 26,
     "metadata": {},
     "output_type": "execute_result"
    }
   ],
   "source": [
    "title[0]"
   ]
  },
  {
   "cell_type": "code",
   "execution_count": 27,
   "metadata": {},
   "outputs": [
    {
     "data": {
      "text/plain": [
       "'【产能过剩格局未改 正海磁材半年营收净利双降】正海磁材8月14日晚间披露2017年半年报。报告显示，公司上半年实现营业收入4.03亿元，同比下降44.30%；净利润为-1496.94万元，上年同期为7289万元。这样的业绩与近期两个月股价的大幅上涨有些不匹配。（证券时报）'"
      ]
     },
     "execution_count": 27,
     "metadata": {},
     "output_type": "execute_result"
    }
   ],
   "source": [
    "abstract[0]"
   ]
  },
  {
   "cell_type": "code",
   "execution_count": 28,
   "metadata": {},
   "outputs": [
    {
     "data": {
      "text/plain": [
       "'2017年08月15日'"
      ]
     },
     "execution_count": 28,
     "metadata": {},
     "output_type": "execute_result"
    }
   ],
   "source": [
    "time[0]"
   ]
  },
  {
   "cell_type": "markdown",
   "metadata": {},
   "source": [
    "## 集合数据"
   ]
  },
  {
   "cell_type": "code",
   "execution_count": 29,
   "metadata": {
    "collapsed": true
   },
   "outputs": [],
   "source": [
    "import json\n",
    "import pickle"
   ]
  },
  {
   "cell_type": "code",
   "execution_count": 30,
   "metadata": {
    "collapsed": true
   },
   "outputs": [],
   "source": [
    "title = []\n",
    "abstract = []"
   ]
  },
  {
   "cell_type": "code",
   "execution_count": 31,
   "metadata": {
    "collapsed": true
   },
   "outputs": [],
   "source": [
    "with open('all_pages.json') as f1:\n",
    "    lines1 = f1.readlines()\n",
    "       \n",
    "with open('all_pages_2.json') as f2:\n",
    "    lines2 = f2.readlines()\n",
    "        \n",
    "for line in list(set(lines1)):\n",
    "    item = json.loads(line)\n",
    "    title.append(item['title'].strip())\n",
    "    abstract.append(item['abstract'].strip())\n",
    "\n",
    "for line in list(set(lines2)):\n",
    "    item = json.loads(line)\n",
    "    title.append(item['title'].strip())\n",
    "    abstract.append(item['abstract'].strip())\n",
    "    \n",
    "title = list(set(title))\n",
    "abstract = list(set(abstract))"
   ]
  },
  {
   "cell_type": "code",
   "execution_count": 32,
   "metadata": {
    "collapsed": true
   },
   "outputs": [],
   "source": [
    "with open('title.pkl', 'wb') as fp:\n",
    "    pickle.dump(title, fp)\n",
    "with open('abstract.pkl', 'wb') as fp:\n",
    "    pickle.dump(abstract, fp)"
   ]
  },
  {
   "cell_type": "code",
   "execution_count": 33,
   "metadata": {
    "collapsed": true
   },
   "outputs": [],
   "source": [
    "#with open('title.pkl', 'rb') as fp:\n",
    "#    title = pickle.load(fp)\n",
    "#with open('abstract.pkl', 'rb') as fp:\n",
    "#    abstract = pickle.load(fp)"
   ]
  },
  {
   "cell_type": "code",
   "execution_count": 34,
   "metadata": {},
   "outputs": [
    {
     "data": {
      "text/plain": [
       "(3104, 2966)"
      ]
     },
     "execution_count": 34,
     "metadata": {},
     "output_type": "execute_result"
    }
   ],
   "source": [
    "len(title), len(abstract)"
   ]
  },
  {
   "cell_type": "code",
   "execution_count": 35,
   "metadata": {},
   "outputs": [
    {
     "data": {
      "text/plain": [
       "'京基陈家荣增持美图3487万股，每股11.668元'"
      ]
     },
     "execution_count": 35,
     "metadata": {},
     "output_type": "execute_result"
    }
   ],
   "source": [
    "title[1]"
   ]
  },
  {
   "cell_type": "code",
   "execution_count": 36,
   "metadata": {},
   "outputs": [
    {
     "data": {
      "text/plain": [
       "'鼎和矿业(00705)公布，2017年8月14日，公司与建源投资签订一份除保密条款外没有法律约束力的股权收购意向书，据此，公司拟向建源投资收购肇庆聚光光伏电站及云浮聚光光伏电站的全部股权。在签订意向书后，公司将向庆聚光及云浮聚光(其中包括)资产及负债等进行尽职调查，并在满意有关结果后在签订书向书3个月内签订正式收购协议。公告显示，肇庆聚光，注册资本人民币2000万元，经营范围为从事光伏发电项目的开发、建设、维护、光伏设备及元器件制造及销售。'"
      ]
     },
     "execution_count": 36,
     "metadata": {},
     "output_type": "execute_result"
    }
   ],
   "source": [
    "abstract[1]"
   ]
  },
  {
   "cell_type": "markdown",
   "metadata": {},
   "source": [
    "# 标注数据"
   ]
  },
  {
   "cell_type": "code",
   "execution_count": 1,
   "metadata": {
    "collapsed": true
   },
   "outputs": [],
   "source": [
    "import json\n",
    "import pickle"
   ]
  },
  {
   "cell_type": "markdown",
   "metadata": {},
   "source": [
    "```python\n",
    "with open('abstract_data/01.pkl', 'rb') as fp:\n",
    "    abstract = pickle.load(fp)\n",
    "with open('abstract_data/02.pkl', 'rb') as fp:\n",
    "    abstract_2 = pickle.load(fp)\n",
    "abstract.extend(abstract_2)\n",
    "abstract = list(set(abstract))\n",
    "len(abstract)\n",
    "```"
   ]
  },
  {
   "cell_type": "code",
   "execution_count": 2,
   "metadata": {},
   "outputs": [
    {
     "data": {
      "text/plain": [
       "4759"
      ]
     },
     "execution_count": 2,
     "metadata": {},
     "output_type": "execute_result"
    }
   ],
   "source": [
    "with open('abstract_data/10.pkl', 'rb') as fp:\n",
    "    abstract = pickle.load(fp)\n",
    "abstract = list(set(abstract))\n",
    "len(abstract)"
   ]
  },
  {
   "cell_type": "code",
   "execution_count": 3,
   "metadata": {
    "collapsed": true
   },
   "outputs": [],
   "source": [
    "def write_to_file(content):\n",
    "    with open('train/train_data.json', 'a', encoding='utf-8') as f:\n",
    "        f.write(json.dumps(content, ensure_ascii=False) + '\\n')\n",
    "        f.close()\n",
    "        \n",
    "def gen_data(data):\n",
    "    for item in data:\n",
    "        yield {\n",
    "            'abstract': item,\n",
    "            'eneity': [\"\", \"\"],\n",
    "            'relation': \"\"\n",
    "        }"
   ]
  },
  {
   "cell_type": "code",
   "execution_count": 4,
   "metadata": {
    "collapsed": true
   },
   "outputs": [],
   "source": [
    "for i in gen_data(abstract):\n",
    "    write_to_file(i)"
   ]
  },
  {
   "cell_type": "markdown",
   "metadata": {},
   "source": [
    "## 标注细节"
   ]
  },
  {
   "cell_type": "markdown",
   "metadata": {},
   "source": [
    "### 实体标注细节"
   ]
  },
  {
   "cell_type": "code",
   "execution_count": null,
   "metadata": {
    "collapsed": true
   },
   "outputs": [],
   "source": []
  },
  {
   "cell_type": "markdown",
   "metadata": {},
   "source": [
    "### 关系标注细节"
   ]
  },
  {
   "cell_type": "markdown",
   "metadata": {},
   "source": [
    "- 股权转让\n",
    "- 无相关关系\n",
    "- #收到监管措施事先告知书（证监会）\n",
    "- 收购\n",
    "- 合作\n",
    "- 损失\n",
    "- 失去控制权\n",
    "- 提供技术支持\n",
    "- 认购股票\n",
    "- 购入股权\n",
    "- #存在多种关系：子公司，\n",
    "- "
   ]
  },
  {
   "cell_type": "code",
   "execution_count": 42,
   "metadata": {
    "collapsed": true
   },
   "outputs": [],
   "source": [
    "with open('train/train_data.json') as f:\n",
    "    lines = f.readlines()\n",
    "       \n",
    "abstract = []\n",
    "eneity = []\n",
    "\n",
    "for line in lines:\n",
    "    item = json.loads(line)\n",
    "    abstract.append(item['abstract'])\n",
    "    eneity.append(item['eneity'])"
   ]
  },
  {
   "cell_type": "code",
   "execution_count": 43,
   "metadata": {},
   "outputs": [
    {
     "data": {
      "text/plain": [
       "279"
      ]
     },
     "execution_count": 43,
     "metadata": {},
     "output_type": "execute_result"
    }
   ],
   "source": [
    "len(abstract)"
   ]
  },
  {
   "cell_type": "code",
   "execution_count": 41,
   "metadata": {},
   "outputs": [
    {
     "data": {
      "text/plain": [
       "8215"
      ]
     },
     "execution_count": 41,
     "metadata": {},
     "output_type": "execute_result"
    }
   ],
   "source": [
    "len(set(abstract))"
   ]
  },
  {
   "cell_type": "code",
   "execution_count": 50,
   "metadata": {},
   "outputs": [
    {
     "data": {
      "text/plain": [
       "'【东富龙：向迪安诊断转让重庆产研院股权】东富龙(300171)6月1日晚公告，公司下属全资子公司东富龙医疗与迪安诊断(300244)签署股权转让协议，约定东富龙医疗以5035万元，向迪安诊断转让重庆精准医疗产业技术研究院有限公司(简称重庆产研院)100%股权。（证券时报网）'"
      ]
     },
     "execution_count": 50,
     "metadata": {},
     "output_type": "execute_result"
    }
   ],
   "source": [
    "abstract[0]"
   ]
  },
  {
   "cell_type": "code",
   "execution_count": 51,
   "metadata": {},
   "outputs": [
    {
     "data": {
      "text/plain": [
       "7466"
      ]
     },
     "execution_count": 51,
     "metadata": {},
     "output_type": "execute_result"
    }
   ],
   "source": [
    "len(eneity)"
   ]
  },
  {
   "cell_type": "code",
   "execution_count": 52,
   "metadata": {},
   "outputs": [
    {
     "data": {
      "text/plain": [
       "['东富龙', '迪安诊断', '东富龙医疗', '重庆产研院']"
      ]
     },
     "execution_count": 52,
     "metadata": {},
     "output_type": "execute_result"
    }
   ],
   "source": [
    "eneity[0]"
   ]
  }
 ],
 "metadata": {
  "kernelspec": {
   "display_name": "Python 3",
   "language": "python",
   "name": "python3"
  },
  "language_info": {
   "codemirror_mode": {
    "name": "ipython",
    "version": 3
   },
   "file_extension": ".py",
   "mimetype": "text/x-python",
   "name": "python",
   "nbconvert_exporter": "python",
   "pygments_lexer": "ipython3",
   "version": "3.6.2"
  },
  "toc": {
   "colors": {
    "hover_highlight": "#DAA520",
    "navigate_num": "#000000",
    "navigate_text": "#333333",
    "running_highlight": "#FF0000",
    "selected_highlight": "#FFD700",
    "sidebar_border": "#EEEEEE",
    "wrapper_background": "#FFFFFF"
   },
   "moveMenuLeft": true,
   "nav_menu": {
    "height": "102px",
    "width": "252px"
   },
   "navigate_menu": true,
   "number_sections": true,
   "sideBar": true,
   "threshold": 4,
   "toc_cell": true,
   "toc_section_display": "block",
   "toc_window_display": false,
   "widenNotebook": false
  }
 },
 "nbformat": 4,
 "nbformat_minor": 2
}
