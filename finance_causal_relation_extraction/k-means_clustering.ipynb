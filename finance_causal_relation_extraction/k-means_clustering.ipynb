{
 "cells": [
  {
   "cell_type": "markdown",
   "metadata": {
    "toc": "true"
   },
   "source": [
    "# Table of Contents\n",
    " <p><div class=\"lev1 toc-item\"><a href=\"#Load-Data\" data-toc-modified-id=\"Load-Data-1\"><span class=\"toc-item-num\">1&nbsp;&nbsp;</span>Load Data</a></div><div class=\"lev1 toc-item\"><a href=\"#Word-Segmentation\" data-toc-modified-id=\"Word-Segmentation-2\"><span class=\"toc-item-num\">2&nbsp;&nbsp;</span>Word Segmentation</a></div><div class=\"lev1 toc-item\"><a href=\"#Tokenize-Text\" data-toc-modified-id=\"Tokenize-Text-3\"><span class=\"toc-item-num\">3&nbsp;&nbsp;</span>Tokenize Text</a></div><div class=\"lev1 toc-item\"><a href=\"#Word-Embedding\" data-toc-modified-id=\"Word-Embedding-4\"><span class=\"toc-item-num\">4&nbsp;&nbsp;</span>Word Embedding</a></div><div class=\"lev2 toc-item\"><a href=\"#Read-Pretrained-Model\" data-toc-modified-id=\"Read-Pretrained-Model-41\"><span class=\"toc-item-num\">4.1&nbsp;&nbsp;</span>Read Pretrained Model</a></div><div class=\"lev2 toc-item\"><a href=\"#Use-Word2vec-to-Initialize-Embedding-Matrix\" data-toc-modified-id=\"Use-Word2vec-to-Initialize-Embedding-Matrix-42\"><span class=\"toc-item-num\">4.2&nbsp;&nbsp;</span>Use Word2vec to Initialize Embedding Matrix</a></div><div class=\"lev1 toc-item\"><a href=\"#Load--Autoencoder\" data-toc-modified-id=\"Load--Autoencoder-5\"><span class=\"toc-item-num\">5&nbsp;&nbsp;</span>Load  Autoencoder</a></div><div class=\"lev1 toc-item\"><a href=\"#K-means-clustering\" data-toc-modified-id=\"K-means-clustering-6\"><span class=\"toc-item-num\">6&nbsp;&nbsp;</span>K-means clustering</a></div><div class=\"lev2 toc-item\"><a href=\"#ALL\" data-toc-modified-id=\"ALL-61\"><span class=\"toc-item-num\">6.1&nbsp;&nbsp;</span>ALL</a></div><div class=\"lev2 toc-item\"><a href=\"#Causal\" data-toc-modified-id=\"Causal-62\"><span class=\"toc-item-num\">6.2&nbsp;&nbsp;</span>Causal</a></div><div class=\"lev1 toc-item\"><a href=\"#LDA\" data-toc-modified-id=\"LDA-7\"><span class=\"toc-item-num\">7&nbsp;&nbsp;</span>LDA</a></div>"
   ]
  },
  {
   "cell_type": "markdown",
   "metadata": {},
   "source": [
    "# Load Data"
   ]
  },
  {
   "cell_type": "code",
   "execution_count": 252,
   "metadata": {
    "collapsed": true
   },
   "outputs": [],
   "source": [
    "import json\n",
    "import os"
   ]
  },
  {
   "cell_type": "code",
   "execution_count": 253,
   "metadata": {
    "collapsed": true
   },
   "outputs": [],
   "source": [
    "def load_data(path, name):\n",
    "    \"\"\"\n",
    "    Load date from file\n",
    "    \"\"\"\n",
    "    data = []\n",
    "    input_file = os.path.join(path)\n",
    "    with open(input_file) as f:\n",
    "        lines = f.readlines()\n",
    "    for line in lines:\n",
    "        item = json.loads(line)\n",
    "        data.append(item[name])\n",
    "    return data"
   ]
  },
  {
   "cell_type": "code",
   "execution_count": 254,
   "metadata": {
    "collapsed": true
   },
   "outputs": [],
   "source": [
    "sentence = load_data('all_data.json', 'sentence')\n",
    "label = load_data('all_data.json', 'label')"
   ]
  },
  {
   "cell_type": "markdown",
   "metadata": {},
   "source": [
    "# Word Segmentation"
   ]
  },
  {
   "cell_type": "code",
   "execution_count": 255,
   "metadata": {
    "collapsed": true
   },
   "outputs": [],
   "source": [
    "import jieba\n",
    "import re\n",
    "import matplotlib.pyplot as plt\n",
    "%matplotlib inline\n",
    "%config InlineBackend.figure_format = 'retina'"
   ]
  },
  {
   "cell_type": "code",
   "execution_count": 256,
   "metadata": {
    "collapsed": true
   },
   "outputs": [],
   "source": [
    "not_cuts = re.compile(u'([\\da-zA-Z\\.]+)')\n",
    "re_replace = re.compile(u'([^\\u4e00-\\u9fa50-9a-zA-Z\\%《》\\(\\)（）“”·\\.])|（(.*?)）|\\((.*?)\\)')"
   ]
  },
  {
   "cell_type": "code",
   "execution_count": 257,
   "metadata": {
    "collapsed": true
   },
   "outputs": [],
   "source": [
    "filename = \"stopwords.txt\"\n",
    "stopWords = [w for w in open(filename).read().split()]"
   ]
  },
  {
   "cell_type": "code",
   "execution_count": 258,
   "metadata": {
    "collapsed": true
   },
   "outputs": [],
   "source": [
    "def newcut(s):\n",
    "    \"\"\"\n",
    "    Word Segmentation\n",
    "    \"\"\"\n",
    "    result = []\n",
    "    j = 0\n",
    "    s = re_replace.sub('', s)\n",
    "    \n",
    "    for i in not_cuts.finditer(s):\n",
    "        result.extend(jieba.lcut(s[j:i.start()], HMM=False))\n",
    "        result.append(s[i.start():i.end()])\n",
    "        j = i.end()\n",
    "    result.extend(jieba.lcut(s[j:], HMM=False))\n",
    "    return result\n",
    "\n",
    "def del_stop(ws):\n",
    "    \"\"\"\n",
    "    Delete stopwords\n",
    "    \"\"\"\n",
    "    return [i for i in ws if i not in stopWords]"
   ]
  },
  {
   "cell_type": "code",
   "execution_count": 259,
   "metadata": {},
   "outputs": [],
   "source": [
    "casualSent = [sentence[i] for i in range(len(sentence)) if label[i] == 1]\n",
    "c_sentWords = [del_stop(newcut(s)) for s in casualSent]\n",
    "sentWords = [del_stop(newcut(s)) for s in sentence]"
   ]
  },
  {
   "cell_type": "markdown",
   "metadata": {},
   "source": [
    "# Tokenize Text"
   ]
  },
  {
   "cell_type": "code",
   "execution_count": 260,
   "metadata": {
    "collapsed": true
   },
   "outputs": [],
   "source": [
    "from keras.preprocessing.text import Tokenizer\n",
    "from keras.preprocessing.sequence import pad_sequences\n",
    "import numpy as np"
   ]
  },
  {
   "cell_type": "code",
   "execution_count": 288,
   "metadata": {},
   "outputs": [
    {
     "name": "stdout",
     "output_type": "stream",
     "text": [
      "Number of sentences: \t20332\n",
      "Distribution of sentence lengths (number of words):\n",
      "Min: 12   Max: 472   Mean: 69.997   Med: 67.000\n",
      "Found 55935 unique tokens.\n"
     ]
    }
   ],
   "source": [
    "tokWords = sentWords.copy()\n",
    "tokTexts = [' '.join(i) for i in tokWords]\n",
    "tokenizer = Tokenizer(filters='')\n",
    "tokenizer.fit_on_texts(tokTexts)\n",
    "word2index = tokenizer.word_index\n",
    "index2word = {i: w for w, i in word2index.items()}\n",
    "sentSeq = tokenizer.texts_to_sequences(tokTexts)\n",
    "x = pad_sequences(sentSeq, maxlen=MAX_LEN, padding='post', truncating='post')\n",
    "cauTexts = [' '.join(i) for i in c_sentWords]\n",
    "cauSeq = tokenizer.texts_to_sequences(cauTexts)\n",
    "cx = pad_sequences(cauSeq, maxlen=MAX_LEN, padding='post', truncating='post')\n",
    "sentLens = np.array([len(i) for i in sentWords])\n",
    "print('Number of sentences: \\t{:d}'.format(len(sentLens)))\n",
    "print('Distribution of sentence lengths (number of words):')\n",
    "print('Min: {:d}   Max: {:d}   Mean: {:.3f}   Med: {:.3f}'.format(np.min(sentLens), np.max(sentLens), np.mean(sentLens), np.median(sentLens)))\n",
    "print('Found %s unique tokens.' % len(word2index))"
   ]
  },
  {
   "cell_type": "code",
   "execution_count": 265,
   "metadata": {
    "collapsed": true
   },
   "outputs": [],
   "source": [
    "MAX_LEN = 150 # Approximately twice the median length of sentences"
   ]
  },
  {
   "cell_type": "markdown",
   "metadata": {},
   "source": [
    "# Word Embedding"
   ]
  },
  {
   "cell_type": "code",
   "execution_count": 266,
   "metadata": {
    "collapsed": true
   },
   "outputs": [],
   "source": [
    "VOCAB_SIZE = len(index2word)+1\n",
    "EMBEDDING_SIZE = 256\n",
    "SEED = 42"
   ]
  },
  {
   "cell_type": "markdown",
   "metadata": {},
   "source": [
    "## Read Pretrained Model"
   ]
  },
  {
   "cell_type": "code",
   "execution_count": 40,
   "metadata": {
    "collapsed": true
   },
   "outputs": [],
   "source": [
    "import gensim"
   ]
  },
  {
   "cell_type": "code",
   "execution_count": 41,
   "metadata": {},
   "outputs": [
    {
     "data": {
      "text/plain": [
       "0.062499415"
      ]
     },
     "execution_count": 41,
     "metadata": {},
     "output_type": "execute_result"
    }
   ],
   "source": [
    "word2vec = gensim.models.Word2Vec.load('/Users/lizhn7/Downloads/DATA/word2vec/word2vec_wx')\n",
    "word2vec.init_sims(replace=True)\n",
    "w2v_embedding_weights = word2vec.wv.syn0\n",
    "w2v_embedding_weights.std()"
   ]
  },
  {
   "cell_type": "markdown",
   "metadata": {},
   "source": [
    "## Use Word2vec to Initialize Embedding Matrix"
   ]
  },
  {
   "cell_type": "code",
   "execution_count": 42,
   "metadata": {
    "collapsed": true
   },
   "outputs": [],
   "source": [
    "# Generate random embedding with same scale as glove\n",
    "np.random.seed(SEED)\n",
    "shape = (VOCAB_SIZE, EMBEDDING_SIZE)\n",
    "scale = w2v_embedding_weights.std() * np.sqrt(12) / 2 \n",
    "embedding = np.random.uniform(low=-scale, high=scale, size=shape)"
   ]
  },
  {
   "cell_type": "code",
   "execution_count": 43,
   "metadata": {},
   "outputs": [
    {
     "name": "stdout",
     "output_type": "stream",
     "text": [
      "37268-66.626% tokens in vocab found in word2vec and copied to embedding.\n"
     ]
    }
   ],
   "source": [
    "count = 0\n",
    "w2v_dict = word2vec.wv.index2word\n",
    "for i in range(1, VOCAB_SIZE):\n",
    "    w = index2word[i]\n",
    "    if w in w2v_dict:\n",
    "        g = word2vec[w]\n",
    "        embedding[i, :] = g\n",
    "        count += 1\n",
    "print('{num_tokens}-{per:.3f}% tokens in vocab found in word2vec and copied to embedding.'.format(num_tokens=count, per=count/float(VOCAB_SIZE)*100))"
   ]
  },
  {
   "cell_type": "markdown",
   "metadata": {},
   "source": [
    "# Load  Autoencoder"
   ]
  },
  {
   "cell_type": "code",
   "execution_count": 44,
   "metadata": {
    "collapsed": true
   },
   "outputs": [],
   "source": [
    "MAX_LEN = 150\n",
    "VOCAB_SIZE = 55936\n",
    "EMBEDDING_SIZE = 256\n",
    "LATENT_SIZE = 512\n",
    "NUM_EPOCHS = 36\n",
    "BATCH_SIZE = 64"
   ]
  },
  {
   "cell_type": "code",
   "execution_count": 45,
   "metadata": {},
   "outputs": [],
   "source": [
    "from keras.layers import Input, Embedding, Bidirectional, LSTM, RepeatVector\n",
    "from keras.models import Model\n",
    "import keras.backend as K\n",
    "from keras.callbacks import*\n",
    "from IPython.display import SVG\n",
    "from keras.utils.vis_utils import model_to_dot\n",
    "import matplotlib.pyplot as plt\n",
    "%matplotlib inline\n",
    "%config InlineBackend.figure_format = 'retina'"
   ]
  },
  {
   "cell_type": "code",
   "execution_count": 46,
   "metadata": {},
   "outputs": [],
   "source": [
    "K.clear_session()\n",
    "inputs = Input(shape=(MAX_LEN,), name='INPUT') \n",
    "emb = Embedding(VOCAB_SIZE, EMBEDDING_SIZE, weights=[embedding], mask_zero=True, input_length=MAX_LEN, trainable=False, name='EMBEDDING')(inputs)\n",
    "encoded = Bidirectional(LSTM(LATENT_SIZE, return_sequences=False, implementation=0), merge_mode='sum', name='ENCODER_BiLSTM')(emb)\n",
    "decoded = RepeatVector(MAX_LEN, name=\"REPEATER\")(encoded)\n",
    "decoded = Bidirectional(LSTM(EMBEDDING_SIZE, return_sequences=True, implementation=0), merge_mode='sum', name='DECODER_BiLSTM')(decoded)\n",
    "autoencoder = Model(inputs, decoded)\n",
    "autoencoder.compile(loss='mse', optimizer='rmsprop')"
   ]
  },
  {
   "cell_type": "code",
   "execution_count": 268,
   "metadata": {},
   "outputs": [],
   "source": [
    "filename = '/Users/lizhn7/Downloads/DATA/chinese_news/sent2vec/cp_logs/weights.029-0.001561.hdf5'\n",
    "autoencoder.load_weights(filename)"
   ]
  },
  {
   "cell_type": "code",
   "execution_count": 269,
   "metadata": {},
   "outputs": [
    {
     "name": "stdout",
     "output_type": "stream",
     "text": [
      "_________________________________________________________________\n",
      "Layer (type)                 Output Shape              Param #   \n",
      "=================================================================\n",
      "INPUT (InputLayer)           (None, 150)               0         \n",
      "_________________________________________________________________\n",
      "EMBEDDING (Embedding)        (None, 150, 256)          14319616  \n",
      "_________________________________________________________________\n",
      "ENCODER_BiLSTM (Bidirectiona (None, 512)               3149824   \n",
      "=================================================================\n",
      "Total params: 17,469,440\n",
      "Trainable params: 3,149,824\n",
      "Non-trainable params: 14,319,616\n",
      "_________________________________________________________________\n"
     ]
    }
   ],
   "source": [
    "# extract encoder part from autoencoder\n",
    "encoder = Model(autoencoder.input, autoencoder.get_layer(\"ENCODER_BiLSTM\").output)\n",
    "encoder.summary()"
   ]
  },
  {
   "cell_type": "code",
   "execution_count": 271,
   "metadata": {},
   "outputs": [
    {
     "name": "stdout",
     "output_type": "stream",
     "text": [
      "20332/20332 [==============================] - 1469s  \n"
     ]
    }
   ],
   "source": [
    "sent2vec = encoder.predict(x, batch_size=BATCH_SIZE, verbose=1)"
   ]
  },
  {
   "cell_type": "code",
   "execution_count": 311,
   "metadata": {},
   "outputs": [
    {
     "name": "stdout",
     "output_type": "stream",
     "text": [
      "824/824 [==============================] - 66s    \n"
     ]
    }
   ],
   "source": [
    "c_sent2vec = encoder.predict(cx, batch_size=BATCH_SIZE, verbose=1)"
   ]
  },
  {
   "cell_type": "markdown",
   "metadata": {},
   "source": [
    "# K-means clustering"
   ]
  },
  {
   "cell_type": "code",
   "execution_count": 277,
   "metadata": {
    "collapsed": true
   },
   "outputs": [],
   "source": [
    "from sklearn.cluster import KMeans\n",
    "from sklearn.feature_extraction.text import TfidfVectorizer\n",
    "from tqdm import tqdm"
   ]
  },
  {
   "cell_type": "code",
   "execution_count": 297,
   "metadata": {
    "collapsed": true
   },
   "outputs": [],
   "source": [
    "stopList = ['00', '01', '02', '03', '04', '05', '06', '07', '08', '09', '10', '100', '1000', '11', '12', '13', '14', '15', '16', '17', '18', '19', '20', '200', '2000', '2014', '20142016', '2015', '2016', '2017', '2018', '2019', '21', '22', '23', '24', '25', '26', '27', '28', '29', '30', '300', '3000', '31', '32', '33', '34', '35', '36', '37', '38', '39', '40', '41', '42', '43', '44', '45', '46', '47', '48', '49', '50', '500', '5000', '51', '52', '53', '54', '55', '56', '57', '58', '59', '60', '61', '62', '63', '64', '65', '66', '67', '68', '69', '70', '71', '72', '73', '74', '75', '76', '77', '78', '79', '80', '81', '82', '83', '84', '85', '86', '87', '88', '89', '90', '91', '92', '93', '94', '95', '96', '97', '98', '99', '150', '4000']"
   ]
  },
  {
   "cell_type": "code",
   "execution_count": 319,
   "metadata": {},
   "outputs": [],
   "source": [
    "def train(X, document, num_clusters=10, showLable=False, n_features=512):\n",
    "    \"\"\"\n",
    "    K-means training\n",
    "    \"\"\"\n",
    "    km = KMeans(n_clusters=num_clusters, \n",
    "                init='k-means++', \n",
    "                max_iter=300, \n",
    "                n_init=1,\n",
    "                verbose=False)\n",
    "    km.fit(X)    \n",
    "    if showLable:\n",
    "        print(\"Top terms per cluster:\")\n",
    "        order_centroids = km.cluster_centers_.argsort()[:, ::-1]\n",
    "        vectorizer = TfidfVectorizer(max_df=0.5, \n",
    "                                     max_features=n_features, \n",
    "                                     stop_words=stopList,\n",
    "                                     min_df=2,\n",
    "                                     use_idf=True)\n",
    "        x = vectorizer.fit_transform(document)\n",
    "        terms = vectorizer.get_feature_names()\n",
    "        print(vectorizer.get_stop_words())\n",
    "        for i in range(num_clusters):\n",
    "            print(\"Cluster %d:\" % i, end='')\n",
    "            for ind in order_centroids[i, :11]:\n",
    "                print(' %s' % terms[ind], end='')\n",
    "            print()\n",
    "    result = km.labels_.tolist()\n",
    "    print ('Cluster distribution:')\n",
    "    print (dict([(i, result.count(i)) for i in result]))\n",
    "    return (-km.score(X), result)\n",
    "\n",
    "def test(feature, document):\n",
    "    \"\"\"\n",
    "    Select optimal parameter\n",
    "    \"\"\"\n",
    "    print(\"%d Sentence\" % len(feature))\n",
    "    true_ks = []\n",
    "    scores = []\n",
    "    for i in tqdm(range(1,20,1)):        \n",
    "        score = train(feature, document, num_clusters=i)[0] * len(feature)\n",
    "        print(i, score)\n",
    "        true_ks.append(i)\n",
    "        scores.append(score)\n",
    "    plt.figure(figsize=(8,4))\n",
    "    plt.plot(true_ks, scores,label=\"loss\", color=\"red\", linewidth=1)\n",
    "    plt.xlabel(\"num_clusters\")\n",
    "    plt.ylabel(\"loss\")\n",
    "    plt.legend()\n",
    "    plt.show()"
   ]
  },
  {
   "cell_type": "markdown",
   "metadata": {},
   "source": [
    "## ALL "
   ]
  },
  {
   "cell_type": "code",
   "execution_count": 302,
   "metadata": {
    "scrolled": false
   },
   "outputs": [
    {
     "name": "stderr",
     "output_type": "stream",
     "text": [
      "\r",
      "  0%|          | 0/19 [00:00<?, ?it/s]"
     ]
    },
    {
     "name": "stdout",
     "output_type": "stream",
     "text": [
      "20332 Causal Sentence\n",
      "Cluster distribution:\n"
     ]
    },
    {
     "name": "stderr",
     "output_type": "stream",
     "text": [
      "\r",
      "  5%|▌         | 1/19 [00:02<00:51,  2.87s/it]"
     ]
    },
    {
     "name": "stdout",
     "output_type": "stream",
     "text": [
      "{0: 20332}\n",
      "1 0.280217003832\n",
      "Cluster distribution:\n"
     ]
    },
    {
     "name": "stderr",
     "output_type": "stream",
     "text": [
      "\r",
      " 11%|█         | 2/19 [00:15<01:37,  5.74s/it]"
     ]
    },
    {
     "name": "stdout",
     "output_type": "stream",
     "text": [
      "{0: 11117, 1: 9215}\n",
      "2 0.137470246255\n",
      "Cluster distribution:\n",
      "{1: 7768, 0: 5977, 2: 6587}\n"
     ]
    },
    {
     "name": "stderr",
     "output_type": "stream",
     "text": [
      "\r",
      " 16%|█▌        | 3/19 [00:32<02:24,  9.05s/it]"
     ]
    },
    {
     "name": "stdout",
     "output_type": "stream",
     "text": [
      "3 0.104652664481\n",
      "Cluster distribution:\n"
     ]
    },
    {
     "name": "stderr",
     "output_type": "stream",
     "text": [
      "\r",
      " 21%|██        | 4/19 [00:49<02:51, 11.46s/it]"
     ]
    },
    {
     "name": "stdout",
     "output_type": "stream",
     "text": [
      "{3: 6523, 2: 2186, 0: 6031, 1: 5592}\n",
      "4 0.0892081844356\n",
      "Cluster distribution:\n"
     ]
    },
    {
     "name": "stderr",
     "output_type": "stream",
     "text": [
      "\r",
      " 26%|██▋       | 5/19 [01:04<02:58, 12.74s/it]"
     ]
    },
    {
     "name": "stdout",
     "output_type": "stream",
     "text": [
      "{0: 5569, 4: 1720, 3: 3142, 1: 5041, 2: 4860}\n",
      "5 0.0785294741399\n",
      "Cluster distribution:\n"
     ]
    },
    {
     "name": "stderr",
     "output_type": "stream",
     "text": [
      "\r",
      " 32%|███▏      | 6/19 [01:22<03:02, 14.06s/it]"
     ]
    },
    {
     "name": "stdout",
     "output_type": "stream",
     "text": [
      "{0: 5428, 1: 2540, 4: 3000, 5: 4310, 2: 4516, 3: 538}\n",
      "6 0.07273651904\n",
      "Cluster distribution:\n"
     ]
    },
    {
     "name": "stderr",
     "output_type": "stream",
     "text": [
      "\r",
      " 37%|███▋      | 7/19 [01:41<03:08, 15.67s/it]"
     ]
    },
    {
     "name": "stdout",
     "output_type": "stream",
     "text": [
      "{5: 4296, 6: 2272, 3: 2275, 1: 3434, 4: 3879, 0: 3671, 2: 505}\n",
      "7 0.0690365046546\n",
      "Cluster distribution:\n"
     ]
    },
    {
     "name": "stderr",
     "output_type": "stream",
     "text": [
      "\r",
      " 42%|████▏     | 8/19 [02:02<03:09, 17.24s/it]"
     ]
    },
    {
     "name": "stdout",
     "output_type": "stream",
     "text": [
      "{7: 1646, 2: 2089, 6: 2459, 3: 3603, 0: 3179, 4: 3226, 1: 3668, 5: 462}\n",
      "8 0.0664997612253\n",
      "Cluster distribution:\n"
     ]
    },
    {
     "name": "stderr",
     "output_type": "stream",
     "text": [
      "\r",
      " 47%|████▋     | 9/19 [02:23<03:02, 18.27s/it]"
     ]
    },
    {
     "name": "stdout",
     "output_type": "stream",
     "text": [
      "{6: 1469, 2: 1600, 5: 1944, 3: 2744, 1: 2754, 0: 3227, 8: 2931, 4: 3269, 7: 394}\n",
      "9 0.0642006390666\n",
      "Cluster distribution:\n"
     ]
    },
    {
     "name": "stderr",
     "output_type": "stream",
     "text": [
      "\r",
      " 53%|█████▎    | 10/19 [02:41<02:46, 18.45s/it]"
     ]
    },
    {
     "name": "stdout",
     "output_type": "stream",
     "text": [
      "{1: 1461, 4: 1395, 8: 1940, 6: 2726, 3: 2462, 7: 3195, 2: 2454, 0: 3163, 9: 1187, 5: 349}\n",
      "10 0.0619903880905\n",
      "Cluster distribution:\n",
      "{9: 1301, 4: 1462, 8: 1438, 3: 1496, 10: 2207, 2: 2649, 7: 2818, 0: 2977, 1: 1197, 6: 2416, 5: 371}\n"
     ]
    },
    {
     "name": "stderr",
     "output_type": "stream",
     "text": [
      "\r",
      " 58%|█████▊    | 11/19 [03:06<02:43, 20.42s/it]"
     ]
    },
    {
     "name": "stdout",
     "output_type": "stream",
     "text": [
      "11 0.0600851691703\n",
      "Cluster distribution:\n"
     ]
    },
    {
     "name": "stderr",
     "output_type": "stream",
     "text": [
      "\r",
      " 63%|██████▎   | 12/19 [03:26<02:21, 20.24s/it]"
     ]
    },
    {
     "name": "stdout",
     "output_type": "stream",
     "text": [
      "{1: 1298, 11: 1073, 7: 1400, 10: 1454, 5: 2163, 0: 2474, 2: 2574, 4: 2578, 6: 1625, 8: 1132, 9: 2262, 3: 299}\n",
      "12 0.0584415967484\n",
      "Cluster distribution:\n"
     ]
    },
    {
     "name": "stderr",
     "output_type": "stream",
     "text": [
      "\r",
      " 68%|██████▊   | 13/19 [03:47<02:01, 20.30s/it]"
     ]
    },
    {
     "name": "stdout",
     "output_type": "stream",
     "text": [
      "{9: 1277, 10: 965, 11: 1386, 2: 1577, 3: 1491, 12: 2136, 5: 2528, 8: 1031, 4: 2216, 7: 1099, 0: 2220, 1: 2140, 6: 266}\n",
      "13 0.056717784555\n",
      "Cluster distribution:\n",
      "{5: 1261, 13: 989, 4: 1285, 2: 1535, 6: 1368, 10: 2114, 11: 1996, 3: 979, 0: 2188, 9: 1111, 12: 1759, 1: 2096, 8: 1382, 7: 269}\n"
     ]
    },
    {
     "name": "stderr",
     "output_type": "stream",
     "text": [
      "\r",
      " 74%|███████▎  | 14/19 [04:10<01:46, 21.25s/it]"
     ]
    },
    {
     "name": "stdout",
     "output_type": "stream",
     "text": [
      "14 0.0554021381697\n",
      "Cluster distribution:\n",
      "{8: 1236, 5: 1059, 2: 1220, 6: 1458, 11: 1701, 10: 1922, 4: 1760, 3: 1626, 13: 935, 7: 1576, 1: 1123, 0: 1753, 14: 1229, 12: 1438, 9: 296}\n"
     ]
    },
    {
     "name": "stderr",
     "output_type": "stream",
     "text": [
      "\r",
      " 79%|███████▉  | 15/19 [04:30<01:23, 20.77s/it]"
     ]
    },
    {
     "name": "stdout",
     "output_type": "stream",
     "text": [
      "15 0.0541418760137\n",
      "Cluster distribution:\n"
     ]
    },
    {
     "name": "stderr",
     "output_type": "stream",
     "text": [
      "\r",
      " 84%|████████▍ | 16/19 [04:48<01:00, 20.05s/it]"
     ]
    },
    {
     "name": "stdout",
     "output_type": "stream",
     "text": [
      "{8: 1221, 7: 1039, 14: 1210, 2: 1149, 12: 1330, 0: 1871, 11: 1396, 4: 1421, 5: 940, 9: 1565, 10: 1543, 6: 1099, 15: 1631, 13: 1362, 1: 1262, 3: 293}\n",
      "16 0.0533393823965\n",
      "Cluster distribution:\n"
     ]
    },
    {
     "name": "stderr",
     "output_type": "stream",
     "text": [
      "\r",
      " 89%|████████▉ | 17/19 [05:10<00:41, 20.61s/it]"
     ]
    },
    {
     "name": "stdout",
     "output_type": "stream",
     "text": [
      "{4: 1210, 11: 1268, 5: 1167, 9: 1355, 15: 1756, 10: 657, 12: 1602, 14: 1634, 3: 1336, 7: 887, 8: 1524, 16: 1556, 2: 568, 1: 1189, 0: 1437, 13: 965, 6: 221}\n",
      "17 0.0518314861087\n",
      "Cluster distribution:\n",
      "{5: 1193, 0: 1084, 8: 1151, 1: 1325, 16: 1728, 4: 642, 7: 1387, 9: 1590, 15: 1201, 10: 867, 6: 1371, 12: 1258, 2: 1561, 14: 496, 11: 1170, 3: 1161, 17: 935, 13: 212}\n"
     ]
    },
    {
     "name": "stderr",
     "output_type": "stream",
     "text": [
      "\r",
      " 95%|█████████▍| 18/19 [05:32<00:21, 21.04s/it]"
     ]
    },
    {
     "name": "stdout",
     "output_type": "stream",
     "text": [
      "18 0.0509561408716\n",
      "Cluster distribution:\n"
     ]
    },
    {
     "name": "stderr",
     "output_type": "stream",
     "text": [
      "\r",
      "100%|██████████| 19/19 [05:56<00:00, 21.75s/it]"
     ]
    },
    {
     "name": "stdout",
     "output_type": "stream",
     "text": [
      "{16: 1164, 7: 1086, 11: 941, 4: 1330, 8: 1427, 13: 641, 1: 1359, 2: 1500, 5: 1107, 6: 837, 0: 1179, 18: 1364, 12: 1616, 3: 492, 15: 1093, 10: 1016, 9: 927, 17: 1041, 14: 212}\n",
      "19 0.0501510841686\n"
     ]
    },
    {
     "name": "stderr",
     "output_type": "stream",
     "text": [
      "\n"
     ]
    },
    {
     "data": {
      "image/png": "[encoded data removed]",
      "text/plain": [
       "<matplotlib.figure.Figure at 0x135488080>"
      ]
     },
     "metadata": {
      "image/png": {
       "height": 264,
       "width": 505
      }
     },
     "output_type": "display_data"
    }
   ],
   "source": [
    "test(sent2vec, tokTexts)"
   ]
  },
  {
   "cell_type": "code",
   "execution_count": 307,
   "metadata": {
    "scrolled": false
   },
   "outputs": [
    {
     "name": "stdout",
     "output_type": "stream",
     "text": [
      "Top terms per cluster:\n",
      "frozenset({'34', '03', '39', '32', '75', '86', '59', '37', '85', '200', '150', '68', '52', '83', '06', '13', '42', '500', '00', '46', '28', '74', '27', '30', '58', '98', '09', '02', '73', '84', '87', '56', '70', '69', '2000', '77', '100', '45', '62', '33', '54', '71', '16', '47', '99', '01', '53', '65', '88', '48', '44', '57', '50', '90', '2017', '07', '67', '76', '41', '05', '40', '96', '35', '23', '94', '81', '04', '300', '2016', '5000', '93', '80', '29', '11', '55', '3000', '66', '31', '14', '19', '20', '38', '21', '2018', '15', '49', '10', '72', '4000', '95', '79', '60', '82', '26', '20142016', '08', '24', '89', '2015', '92', '78', '25', '2014', '51', '63', '64', '1000', '91', '36', '61', '97', '18', '22', '12', '43', '2019', '17'})\n",
      "Cluster 0: 财务 规定 材料 每股 近日 浙江 资金 江苏 收益 新能源 提供\n",
      "Cluster 1: 成员 规定 据悉 位数 提供 股本 财务 承诺 材料 收到 收益\n",
      "Cluster 2: 规定 财务 材料 资金 收益 提供 浙江 成员 新能源 万股 构成\n",
      "Cluster distribution:\n",
      "{1: 7768, 0: 5977, 2: 6587}\n"
     ]
    }
   ],
   "source": [
    "result = train(sent2vec, tokTexts, num_clusters=3, showLable=True)"
   ]
  },
  {
   "cell_type": "code",
   "execution_count": 308,
   "metadata": {},
   "outputs": [
    {
     "name": "stdout",
     "output_type": "stream",
     "text": [
      "Casual Cluster distribution:\n",
      "{1: 394, 0: 155, 2: 275}\n"
     ]
    }
   ],
   "source": [
    "result = [result[1][i] for i in range(len(result[1])) if label[i] == 1]\n",
    "print ('Casual Cluster distribution:')\n",
    "print (dict([(i, result.count(i)) for i in result]))"
   ]
  },
  {
   "cell_type": "markdown",
   "metadata": {},
   "source": [
    "## Causal"
   ]
  },
  {
   "cell_type": "code",
   "execution_count": 320,
   "metadata": {
    "scrolled": false
   },
   "outputs": [
    {
     "name": "stderr",
     "output_type": "stream",
     "text": [
      " 11%|█         | 2/19 [00:00<00:01, 11.39it/s]"
     ]
    },
    {
     "name": "stdout",
     "output_type": "stream",
     "text": [
      "824 Sentence\n",
      "Cluster distribution:\n",
      "{0: 824}\n",
      "1 158103.013047\n",
      "Cluster distribution:\n",
      "{1: 506, 0: 318}\n",
      "2 79343.7826227\n"
     ]
    },
    {
     "name": "stderr",
     "output_type": "stream",
     "text": [
      "\r",
      " 16%|█▌        | 3/19 [00:00<00:01,  8.87it/s]"
     ]
    },
    {
     "name": "stdout",
     "output_type": "stream",
     "text": [
      "Cluster distribution:\n",
      "{2: 311, 0: 292, 1: 221}\n",
      "3 58793.7130179\n"
     ]
    },
    {
     "name": "stderr",
     "output_type": "stream",
     "text": [
      "\r",
      " 21%|██        | 4/19 [00:00<00:02,  5.97it/s]"
     ]
    },
    {
     "name": "stdout",
     "output_type": "stream",
     "text": [
      "Cluster distribution:\n",
      "{0: 293, 2: 263, 1: 101, 3: 167}\n",
      "4 52734.1797009\n"
     ]
    },
    {
     "name": "stderr",
     "output_type": "stream",
     "text": [
      "\r",
      " 26%|██▋       | 5/19 [00:00<00:03,  4.60it/s]"
     ]
    },
    {
     "name": "stdout",
     "output_type": "stream",
     "text": [
      "Cluster distribution:\n",
      "{3: 119, 4: 179, 1: 196, 0: 148, 2: 182}\n",
      "5 47545.0670887\n"
     ]
    },
    {
     "name": "stderr",
     "output_type": "stream",
     "text": [
      "\r",
      " 32%|███▏      | 6/19 [00:01<00:03,  3.94it/s]"
     ]
    },
    {
     "name": "stdout",
     "output_type": "stream",
     "text": [
      "Cluster distribution:\n",
      "{1: 109, 4: 174, 0: 81, 3: 132, 2: 181, 5: 147}\n",
      "6 43158.6953525\n"
     ]
    },
    {
     "name": "stderr",
     "output_type": "stream",
     "text": [
      "\r",
      " 37%|███▋      | 7/19 [00:01<00:03,  3.60it/s]"
     ]
    },
    {
     "name": "stdout",
     "output_type": "stream",
     "text": [
      "Cluster distribution:\n",
      "{6: 111, 0: 145, 4: 137, 1: 81, 3: 104, 5: 99, 2: 147}\n",
      "7 40991.750639\n"
     ]
    },
    {
     "name": "stderr",
     "output_type": "stream",
     "text": [
      " 53%|█████▎    | 10/19 [00:01<00:01,  5.01it/s]"
     ]
    },
    {
     "name": "stdout",
     "output_type": "stream",
     "text": [
      "Cluster distribution:\n",
      "{3: 103, 1: 166, 2: 71, 0: 80, 7: 132, 4: 117, 5: 65, 6: 90}\n",
      "8 39276.2665764\n",
      "Cluster distribution:\n",
      "{4: 102, 5: 122, 8: 125, 7: 66, 0: 100, 6: 99, 1: 73, 3: 106, 2: 31}\n",
      "9 37582.0453521\n",
      "Cluster distribution:\n",
      "{6: 94, 3: 106, 5: 123, 9: 79, 7: 70, 0: 85, 4: 78, 2: 58, 1: 100, 8: 31}\n",
      "10 36678.5619685\n"
     ]
    },
    {
     "name": "stderr",
     "output_type": "stream",
     "text": [
      "\r",
      " 58%|█████▊    | 11/19 [00:02<00:01,  5.48it/s]"
     ]
    },
    {
     "name": "stdout",
     "output_type": "stream",
     "text": [
      "Cluster distribution:\n",
      "{5: 88, 0: 44, 8: 112, 7: 96, 2: 60, 10: 78, 3: 83, 4: 92, 6: 60, 1: 100, 9: 11}\n",
      "11 34827.045411\n"
     ]
    },
    {
     "name": "stderr",
     "output_type": "stream",
     "text": [
      "\r",
      " 63%|██████▎   | 12/19 [00:02<00:01,  4.39it/s]"
     ]
    },
    {
     "name": "stdout",
     "output_type": "stream",
     "text": [
      "Cluster distribution:\n",
      "{2: 87, 1: 61, 5: 100, 7: 88, 4: 67, 9: 63, 8: 52, 11: 85, 0: 50, 6: 86, 10: 29, 3: 56}\n",
      "12 33795.5879126\n",
      "Cluster distribution:\n"
     ]
    },
    {
     "name": "stderr",
     "output_type": "stream",
     "text": [
      " 74%|███████▎  | 14/19 [00:02<00:00,  5.39it/s]"
     ]
    },
    {
     "name": "stdout",
     "output_type": "stream",
     "text": [
      "{9: 85, 3: 73, 2: 74, 0: 61, 4: 69, 5: 80, 6: 81, 12: 54, 1: 57, 10: 11, 11: 97, 7: 36, 8: 46}\n",
      "13 34029.2191041\n",
      "Cluster distribution:\n",
      "{3: 90, 10: 49, 1: 77, 11: 56, 0: 65, 8: 51, 6: 76, 9: 81, 12: 52, 5: 72, 13: 6, 4: 75, 2: 39, 7: 35}\n",
      "14 32505.543154\n"
     ]
    },
    {
     "name": "stderr",
     "output_type": "stream",
     "text": [
      "\r",
      " 79%|███████▉  | 15/19 [00:02<00:00,  5.23it/s]"
     ]
    },
    {
     "name": "stdout",
     "output_type": "stream",
     "text": [
      "Cluster distribution:\n",
      "{11: 57, 0: 51, 6: 84, 8: 71, 3: 66, 7: 44, 2: 54, 9: 53, 10: 46, 1: 83, 12: 30, 5: 48, 4: 59, 13: 55, 14: 23}\n",
      "15 31696.758229\n"
     ]
    },
    {
     "name": "stderr",
     "output_type": "stream",
     "text": [
      " 89%|████████▉ | 17/19 [00:03<00:00,  6.03it/s]"
     ]
    },
    {
     "name": "stdout",
     "output_type": "stream",
     "text": [
      "Cluster distribution:\n",
      "{12: 69, 14: 36, 4: 58, 7: 69, 15: 69, 6: 46, 5: 42, 9: 47, 8: 46, 1: 61, 0: 46, 10: 36, 2: 57, 11: 64, 3: 50, 13: 28}\n",
      "16 31043.8146105\n",
      "Cluster distribution:\n",
      "{16: 54, 0: 42, 14: 40, 11: 44, 13: 36, 5: 62, 10: 45, 3: 51, 1: 55, 4: 51, 15: 58, 6: 85, 12: 19, 8: 51, 9: 42, 7: 49, 2: 40}\n",
      "17 30498.2956712\n"
     ]
    },
    {
     "name": "stderr",
     "output_type": "stream",
     "text": [
      "\r",
      " 95%|█████████▍| 18/19 [00:03<00:00,  4.94it/s]"
     ]
    },
    {
     "name": "stdout",
     "output_type": "stream",
     "text": [
      "Cluster distribution:\n",
      "{5: 59, 1: 40, 9: 76, 12: 27, 3: 56, 17: 30, 13: 68, 16: 22, 15: 61, 7: 40, 0: 32, 8: 62, 10: 19, 2: 63, 11: 24, 14: 36, 6: 43, 4: 66}\n",
      "18 29800.2187883\n"
     ]
    },
    {
     "name": "stderr",
     "output_type": "stream",
     "text": [
      "\r",
      "100%|██████████| 19/19 [00:04<00:00,  3.35it/s]"
     ]
    },
    {
     "name": "stdout",
     "output_type": "stream",
     "text": [
      "Cluster distribution:\n",
      "{5: 68, 10: 36, 4: 47, 8: 73, 18: 33, 12: 39, 3: 50, 16: 35, 9: 38, 11: 68, 7: 41, 13: 55, 17: 5, 2: 58, 15: 8, 14: 53, 0: 48, 1: 34, 6: 35}\n",
      "19 29219.6036264\n"
     ]
    },
    {
     "name": "stderr",
     "output_type": "stream",
     "text": [
      "\n"
     ]
    },
    {
     "data": {
      "image/png": "[encoded data removed]",
      "text/plain": [
       "<matplotlib.figure.Figure at 0x13430f1d0>"
      ]
     },
     "metadata": {
      "image/png": {
       "height": 264,
       "width": 521
      }
     },
     "output_type": "display_data"
    }
   ],
   "source": [
    "test(c_sent2vec, cauTexts)"
   ]
  },
  {
   "cell_type": "code",
   "execution_count": 326,
   "metadata": {},
   "outputs": [
    {
     "name": "stdout",
     "output_type": "stream",
     "text": [
      "Top terms per cluster:\n",
      "frozenset({'34', '03', '39', '32', '75', '86', '59', '37', '85', '200', '150', '68', '52', '83', '06', '13', '42', '500', '00', '46', '28', '74', '27', '30', '58', '98', '09', '02', '73', '84', '87', '56', '70', '69', '2000', '77', '100', '45', '62', '33', '54', '71', '16', '47', '99', '01', '53', '65', '88', '48', '44', '57', '50', '90', '2017', '07', '67', '76', '41', '05', '40', '96', '35', '23', '94', '81', '04', '300', '2016', '5000', '93', '80', '29', '11', '55', '3000', '66', '31', '14', '19', '20', '38', '21', '2018', '15', '49', '10', '72', '4000', '95', '79', '60', '82', '26', '20142016', '08', '24', '89', '2015', '92', '78', '25', '2014', '51', '63', '64', '1000', '91', '36', '61', '97', '18', '22', '12', '43', '2019', '17'})\n",
      "Cluster 0: 要约 调查 成员 标的 提供 深交所 资产重组 使用 改革 款项 上海\n",
      "Cluster 1: 损失 成员 使用 承接 要约 提供 收益 标的 深交所 面临 上半年\n",
      "Cluster 2: 调查 要约 标的 法院 深交所 提供 方式 改革 运营 资产重组 派息\n",
      "Cluster distribution:\n",
      "{0: 311, 1: 292, 2: 221}\n"
     ]
    },
    {
     "data": {
      "text/plain": [
       "71.351593468338251"
      ]
     },
     "execution_count": 326,
     "metadata": {},
     "output_type": "execute_result"
    }
   ],
   "source": [
    "result = train(c_sent2vec, cauTexts, num_clusters=3, showLable=True)\n",
    "result[0]"
   ]
  },
  {
   "cell_type": "markdown",
   "metadata": {},
   "source": [
    "# LDA"
   ]
  },
  {
   "cell_type": "code",
   "execution_count": null,
   "metadata": {
    "collapsed": true
   },
   "outputs": [],
   "source": []
  }
 ],
 "metadata": {
  "kernelspec": {
   "display_name": "Python 3",
   "language": "python",
   "name": "python3"
  },
  "language_info": {
   "codemirror_mode": {
    "name": "ipython",
    "version": 3
   },
   "file_extension": ".py",
   "mimetype": "text/x-python",
   "name": "python",
   "nbconvert_exporter": "python",
   "pygments_lexer": "ipython3",
   "version": "3.6.2"
  },
  "toc": {
   "colors": {
    "hover_highlight": "#DAA520",
    "navigate_num": "#000000",
    "navigate_text": "#333333",
    "running_highlight": "#FF0000",
    "selected_highlight": "#FFD700",
    "sidebar_border": "#EEEEEE",
    "wrapper_background": "#FFFFFF"
   },
   "moveMenuLeft": true,
   "nav_menu": {
    "height": "210px",
    "width": "252px"
   },
   "navigate_menu": true,
   "number_sections": true,
   "sideBar": true,
   "threshold": 4,
   "toc_cell": true,
   "toc_section_display": "block",
   "toc_window_display": false,
   "widenNotebook": false
  }
 },
 "nbformat": 4,
 "nbformat_minor": 2
}
