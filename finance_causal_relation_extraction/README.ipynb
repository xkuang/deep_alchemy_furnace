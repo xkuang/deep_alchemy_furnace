{
 "cells": [
  {
   "cell_type": "markdown",
   "metadata": {},
   "source": [
    "# Definition of Causal Relation"
   ]
  },
  {
   "cell_type": "markdown",
   "metadata": {},
   "source": [
    "Suppose there exist two events A and B, and A is supposed to be the cause of B only when the following conditions are met:\n",
    "\n",
    "- **The temporal continuity principle:**\n",
    "\n",
    "    *A happens before B, and they are temporally contiguous, and /or they are contiguous in space;*\n",
    "\n",
    "\n",
    "- **The adequate condition principle:**\n",
    "\n",
    "    *A occurs and B occurs, and B would not have happened if A has not happened.*"
   ]
  },
  {
   "cell_type": "markdown",
   "metadata": {},
   "source": [
    "- 注意\n",
    "    \n",
    "      不同的语义关系之间往往会存在交叉。与因果关系(CAUSATION)比较相近的语义关系有条件(CONDITION)、后果(CONSEQUENCE)、理由(REASON)、影响(INFLUENCE)和相关性(CORELATED)等关系\n",
    "      \n",
    " CONDITION: 是一种事件的原因是某种假设的因果关系；\n",
    " \n",
    " CONSEQUENCE: 强调因果关系中的结果是不直接或非故意的；\n",
    " \n",
    " REASON: 是某种决定、感觉或行动产生的原因\n",
    " \n",
    " INFLUENCE: 如果事件 A 和事件 B 之间是一种 INFELUENCE 的关系，事件 A 影响的是事件 B 的方式和剧烈程度，但是并没有造成事件 B 的产生。\n",
    " \n",
    " CORELATED: 例如在“鸡叫天就亮了”这句话中，鸡叫与天明是一种相关性的体现，而并不是因果关系的体现，因为“鸡叫”并不是“天亮”的原因"
   ]
  },
  {
   "cell_type": "markdown",
   "metadata": {},
   "source": [
    "# Pattern"
   ]
  },
  {
   "cell_type": "markdown",
   "metadata": {},
   "source": [
    "- 因／因为／故／原因／由于／由於／致／导致／致使／为／为的是\n",
    "- 鉴于／基于/就此／使得\n",
    "- 系...影响／对...产生...影响\n",
    "- 自...以来／完成后...将\n",
    "- (签订／实施／...)有利于...\n",
    "- ...而..."
   ]
  },
  {
   "cell_type": "markdown",
   "metadata": {},
   "source": [
    "# Version"
   ]
  },
  {
   "cell_type": "markdown",
   "metadata": {},
   "source": [
    "- **Version 1**\n",
    "\n",
    "    在大规模新闻语料上训练词向量（后续任务未使用该结果；分词有漏洞且效果有待提升）；数据预处理；标注数据；因果关系检测（CNN）；训练句向量；k-means聚类（tf-idf及sent2vec）"
   ]
  },
  {
   "cell_type": "markdown",
   "metadata": {},
   "source": [
    "- Version 2\n",
    "\n",
    "    使用训练得到的词向量训练句向量（效果提升明显）；k-means聚类（sent2vec；并未得到与财务指标相关的准确聚类）"
   ]
  },
  {
   "cell_type": "markdown",
   "metadata": {},
   "source": [
    "- Version 3\n",
    "    \n",
    "    训练好语言模型；标注数据（先标因果关系句）"
   ]
  }
 ],
 "metadata": {
  "kernelspec": {
   "display_name": "Python 3",
   "language": "python",
   "name": "python3"
  },
  "language_info": {
   "codemirror_mode": {
    "name": "ipython",
    "version": 3
   },
   "file_extension": ".py",
   "mimetype": "text/x-python",
   "name": "python",
   "nbconvert_exporter": "python",
   "pygments_lexer": "ipython3",
   "version": "3.6.2"
  },
  "toc": {
   "colors": {
    "hover_highlight": "#DAA520",
    "navigate_num": "#000000",
    "navigate_text": "#333333",
    "running_highlight": "#FF0000",
    "selected_highlight": "#FFD700",
    "sidebar_border": "#EEEEEE",
    "wrapper_background": "#FFFFFF"
   },
   "moveMenuLeft": true,
   "nav_menu": {
    "height": "30px",
    "width": "252px"
   },
   "navigate_menu": true,
   "number_sections": true,
   "sideBar": true,
   "threshold": 4,
   "toc_cell": false,
   "toc_section_display": "block",
   "toc_window_display": false,
   "widenNotebook": false
  }
 },
 "nbformat": 4,
 "nbformat_minor": 2
}
