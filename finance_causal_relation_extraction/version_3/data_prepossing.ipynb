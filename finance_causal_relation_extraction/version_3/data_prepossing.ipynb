{
 "cells": [
  {
   "cell_type": "markdown",
   "metadata": {
    "toc": "true"
   },
   "source": [
    "# Table of Contents\n",
    " <p><div class=\"lev1 toc-item\"><a href=\"#1\" data-toc-modified-id=\"1-1\"><span class=\"toc-item-num\">1&nbsp;&nbsp;</span>1</a></div><div class=\"lev1 toc-item\"><a href=\"#2\" data-toc-modified-id=\"2-2\"><span class=\"toc-item-num\">2&nbsp;&nbsp;</span>2</a></div><div class=\"lev1 toc-item\"><a href=\"#3\" data-toc-modified-id=\"3-3\"><span class=\"toc-item-num\">3&nbsp;&nbsp;</span>3</a></div><div class=\"lev1 toc-item\"><a href=\"#4\" data-toc-modified-id=\"4-4\"><span class=\"toc-item-num\">4&nbsp;&nbsp;</span>4</a></div>"
   ]
  },
  {
   "cell_type": "markdown",
   "metadata": {},
   "source": [
    "# 1"
   ]
  },
  {
   "cell_type": "code",
   "execution_count": 12,
   "metadata": {
    "collapsed": true
   },
   "outputs": [],
   "source": [
    "import json\n",
    "import os"
   ]
  },
  {
   "cell_type": "code",
   "execution_count": 27,
   "metadata": {
    "collapsed": true
   },
   "outputs": [],
   "source": [
    "def load_data(path, name):\n",
    "    \"\"\"\n",
    "    Load date from file\n",
    "    \"\"\"\n",
    "    data = []\n",
    "    input_file = os.path.join(path)\n",
    "    with open(input_file) as f:\n",
    "        lines = f.readlines()\n",
    "    for line in lines:\n",
    "        item = json.loads(line)\n",
    "        data.append(item[name])\n",
    "    return data\n",
    "\n",
    "def write_to_file(content, name):\n",
    "    with open(name, 'a', encoding='utf-8') as f:\n",
    "        f.write(json.dumps(content, ensure_ascii=False) + '\\n')\n",
    "        f.close()\n",
    "        \n",
    "def gen_data(data, label):\n",
    "    for i in range(len(data)):\n",
    "        yield {\n",
    "            'sentence': data[i],\n",
    "            'index': label[i]\n",
    "        }"
   ]
  },
  {
   "cell_type": "code",
   "execution_count": 14,
   "metadata": {},
   "outputs": [],
   "source": [
    "sentence = load_data('/Users/lizhn7/Downloads/EXPERIMENT/finance_causal_relation_extraction/version_3/data/result.json', 'sentence')\n",
    "cluster = load_data('/Users/lizhn7/Downloads/EXPERIMENT/finance_causal_relation_extraction/version_3/data/result.json', 'cluster')\n",
    "sentence = [sentence[i] for i in range(len(sentence)) if cluster[i] == 2 or cluster[i] == 3]\n",
    "label = [0]*len(sentence)\n",
    "for i in gen_data(sentence, label):\n",
    "    write_to_file(i, '/Users/lizhn7/Downloads/EXPERIMENT/finance_causal_relation_extraction/version_3/data/do.json')"
   ]
  },
  {
   "cell_type": "markdown",
   "metadata": {},
   "source": [
    "# 2"
   ]
  },
  {
   "cell_type": "code",
   "execution_count": 17,
   "metadata": {},
   "outputs": [],
   "source": [
    "sentence_1 = load_data('/Users/lizhn7/Downloads/EXPERIMENT/finance_causal_relation_extraction/version_3/data/do.json', 'sentence')\n",
    "sentence_2 = load_data('/Users/lizhn7/Downloads/EXPERIMENT/finance_causal_relation_extraction/version_3/data/raw_data.json', 'abstract')"
   ]
  },
  {
   "cell_type": "code",
   "execution_count": 19,
   "metadata": {},
   "outputs": [
    {
     "data": {
      "text/plain": [
       "(199, 21273)"
      ]
     },
     "execution_count": 19,
     "metadata": {},
     "output_type": "execute_result"
    }
   ],
   "source": [
    "len(sentence_1), len(sentence_2)"
   ]
  },
  {
   "cell_type": "code",
   "execution_count": 21,
   "metadata": {
    "collapsed": true
   },
   "outputs": [],
   "source": [
    "sentence = [s for s in sentence_2 if s not in sentence_1]"
   ]
  },
  {
   "cell_type": "code",
   "execution_count": 22,
   "metadata": {},
   "outputs": [
    {
     "data": {
      "text/plain": [
       "21074"
      ]
     },
     "execution_count": 22,
     "metadata": {},
     "output_type": "execute_result"
    }
   ],
   "source": [
    "len(sentence)"
   ]
  },
  {
   "cell_type": "code",
   "execution_count": 29,
   "metadata": {
    "collapsed": true
   },
   "outputs": [],
   "source": [
    "sentence_1.extend(sentence)"
   ]
  },
  {
   "cell_type": "code",
   "execution_count": 32,
   "metadata": {
    "collapsed": true
   },
   "outputs": [],
   "source": [
    "label = list(range(len(sentence_1)))"
   ]
  },
  {
   "cell_type": "code",
   "execution_count": 33,
   "metadata": {
    "collapsed": true
   },
   "outputs": [],
   "source": [
    "for i in gen_data(sentence_1, label):\n",
    "    write_to_file(i, '/Users/lizhn7/Downloads/EXPERIMENT/finance_causal_relation_extraction/version_3/data/train_data.json')"
   ]
  },
  {
   "cell_type": "markdown",
   "metadata": {},
   "source": [
    "# 3"
   ]
  },
  {
   "cell_type": "code",
   "execution_count": 60,
   "metadata": {},
   "outputs": [],
   "source": [
    "sentence = load_data('/Users/lizhn7/Downloads/EXPERIMENT/finance_causal_relation_extraction/version_3/data/train_data.json', 'sentence')\n",
    "index = load_data('/Users/lizhn7/Downloads/EXPERIMENT/finance_causal_relation_extraction/version_3/data/train_data.json', 'index')"
   ]
  },
  {
   "cell_type": "code",
   "execution_count": 50,
   "metadata": {},
   "outputs": [
    {
     "data": {
      "text/plain": [
       "'成安控股(08352)发布截至2017年6月30日止6个月中期业绩，该集团期内收益为8675.2万港元，同比增42.8%。毛利为2694.2万港元，同比增52.1%。期内溢利为1199.7万港元，同比增4.9倍。每股基本盈利为1.79港仙，不派息。公告显示，期内收益增长主要由于截至2016年6月30日止6个月至报告期承接的项目由86个增至115个。此外，行政费用由截至2016年6月30日止6个月的1490万港元减少至本报告期的1200万港元，主要由于上市相关开支减少所致。'"
      ]
     },
     "execution_count": 50,
     "metadata": {},
     "output_type": "execute_result"
    }
   ],
   "source": [
    "sentence[8]"
   ]
  },
  {
   "cell_type": "code",
   "execution_count": 41,
   "metadata": {},
   "outputs": [
    {
     "data": {
      "text/plain": [
       "0"
      ]
     },
     "execution_count": 41,
     "metadata": {},
     "output_type": "execute_result"
    }
   ],
   "source": [
    "index[0]"
   ]
  },
  {
   "cell_type": "code",
   "execution_count": 49,
   "metadata": {},
   "outputs": [
    {
     "data": {
      "text/plain": [
       "['成安控股(08352)发布截至2017年6月30日止6个月中期业绩，该集团期内收益为8675.2万港元，同比增42.8%',\n",
       " '毛利为2694.2万港元，同比增52.1%',\n",
       " '期内溢利为1199.7万港元，同比增4.9倍',\n",
       " '每股基本盈利为1.79港仙，不派息',\n",
       " '公告显示，期内收益增长主要由于截至2016年6月30日止6个月至报告期承接的项目由86个增至115个',\n",
       " '此外，行政费用由截至2016年6月30日止6个月的1490万港元减少至本报告期的1200万港元，主要由于上市相关开支减少所致',\n",
       " '']"
      ]
     },
     "execution_count": 49,
     "metadata": {},
     "output_type": "execute_result"
    }
   ],
   "source": [
    "sentence[8].split('。')"
   ]
  },
  {
   "cell_type": "code",
   "execution_count": 61,
   "metadata": {
    "collapsed": true
   },
   "outputs": [],
   "source": [
    "for i in range(len(sentence)):\n",
    "    sentence[i] = [i for i in sentence[i].split('。') if i != '']\n",
    "    index[i] = [index[i]]*len(sentence[i])"
   ]
  },
  {
   "cell_type": "code",
   "execution_count": 62,
   "metadata": {},
   "outputs": [
    {
     "data": {
      "text/plain": [
       "21273"
      ]
     },
     "execution_count": 62,
     "metadata": {},
     "output_type": "execute_result"
    }
   ],
   "source": [
    "len(sentence)"
   ]
  },
  {
   "cell_type": "code",
   "execution_count": 63,
   "metadata": {
    "collapsed": true
   },
   "outputs": [],
   "source": [
    "sentence = sum(sentence, [])"
   ]
  },
  {
   "cell_type": "code",
   "execution_count": 64,
   "metadata": {},
   "outputs": [
    {
     "data": {
      "text/plain": [
       "63547"
      ]
     },
     "execution_count": 64,
     "metadata": {},
     "output_type": "execute_result"
    }
   ],
   "source": [
    "len(sentence)"
   ]
  },
  {
   "cell_type": "code",
   "execution_count": 65,
   "metadata": {},
   "outputs": [
    {
     "data": {
      "text/plain": [
       "'KTLINTL(00442)发布公告，于截至2017年3月31日止年度，该公司收益5.48亿港元，同比减少19.9%；母公司拥有人应占亏损915.4万港元，同比减亏32%；毛利率19.5%，同比增长2.7个百分点；每股亏损0.06港元，不派息'"
      ]
     },
     "execution_count": 65,
     "metadata": {},
     "output_type": "execute_result"
    }
   ],
   "source": [
    "sentence[0]"
   ]
  },
  {
   "cell_type": "code",
   "execution_count": 66,
   "metadata": {},
   "outputs": [
    {
     "data": {
      "text/plain": [
       "[1, 1]"
      ]
     },
     "execution_count": 66,
     "metadata": {},
     "output_type": "execute_result"
    }
   ],
   "source": [
    "index[1]"
   ]
  },
  {
   "cell_type": "code",
   "execution_count": 67,
   "metadata": {},
   "outputs": [],
   "source": [
    "index = sum(index, [])"
   ]
  },
  {
   "cell_type": "code",
   "execution_count": 68,
   "metadata": {},
   "outputs": [
    {
     "data": {
      "text/plain": [
       "63547"
      ]
     },
     "execution_count": 68,
     "metadata": {},
     "output_type": "execute_result"
    }
   ],
   "source": [
    "len(index)"
   ]
  },
  {
   "cell_type": "code",
   "execution_count": 69,
   "metadata": {},
   "outputs": [
    {
     "data": {
      "text/plain": [
       "0"
      ]
     },
     "execution_count": 69,
     "metadata": {},
     "output_type": "execute_result"
    }
   ],
   "source": [
    "index[0]"
   ]
  },
  {
   "cell_type": "code",
   "execution_count": 70,
   "metadata": {},
   "outputs": [
    {
     "data": {
      "text/plain": [
       "0"
      ]
     },
     "execution_count": 70,
     "metadata": {},
     "output_type": "execute_result"
    }
   ],
   "source": [
    "index[1]"
   ]
  },
  {
   "cell_type": "code",
   "execution_count": 72,
   "metadata": {},
   "outputs": [],
   "source": [
    "def gen_data_1(data, index, label):\n",
    "    for i in range(len(data)):\n",
    "        yield {\n",
    "            'sentence': data[i],\n",
    "            'index': index[i],\n",
    "            'label': label[i]\n",
    "        }"
   ]
  },
  {
   "cell_type": "code",
   "execution_count": 75,
   "metadata": {},
   "outputs": [],
   "source": [
    "label = [0]*len(sentence)\n",
    "for i in gen_data_1(sentence, index, label):\n",
    "    write_to_file(i, '/Users/lizhn7/Downloads/EXPERIMENT/finance_causal_relation_extraction/version_3/data/dection.json')"
   ]
  },
  {
   "cell_type": "markdown",
   "metadata": {},
   "source": [
    "# 4"
   ]
  },
  {
   "cell_type": "code",
   "execution_count": 78,
   "metadata": {
    "collapsed": true
   },
   "outputs": [],
   "source": [
    "import re"
   ]
  },
  {
   "cell_type": "code",
   "execution_count": 95,
   "metadata": {
    "collapsed": true
   },
   "outputs": [],
   "source": [
    "sentence = load_data('/Users/lizhn7/Downloads/EXPERIMENT/finance_causal_relation_extraction/version_3/data/dection.json', 'sentence') \n",
    "index = load_data('/Users/lizhn7/Downloads/EXPERIMENT/finance_causal_relation_extraction/version_3/data/dection.json', 'index')\n",
    "label = load_data('/Users/lizhn7/Downloads/EXPERIMENT/finance_causal_relation_extraction/version_3/data/dection.json', 'label')"
   ]
  },
  {
   "cell_type": "code",
   "execution_count": 77,
   "metadata": {},
   "outputs": [
    {
     "data": {
      "text/plain": [
       "'（证券时报网）'"
      ]
     },
     "execution_count": 77,
     "metadata": {},
     "output_type": "execute_result"
    }
   ],
   "source": [
    "sentence[5]"
   ]
  },
  {
   "cell_type": "code",
   "execution_count": 96,
   "metadata": {},
   "outputs": [],
   "source": [
    "def parse(html):\n",
    "    pattern = re.compile('（(.*?)）', re.S)\n",
    "    items = pattern.sub('', html)\n",
    "    #for item in tqdm(items):\n",
    "    #    yield {\n",
    "    #        'content': item\n",
    "    #    }\n",
    "    return items"
   ]
  },
  {
   "cell_type": "code",
   "execution_count": 99,
   "metadata": {},
   "outputs": [],
   "source": [
    "for i in range(len(sentence)):\n",
    "    if parse(sentence[i]) == '':\n",
    "        sentence[i] = ''\n",
    "        index[i] = -1\n",
    "        label[i] = -1"
   ]
  },
  {
   "cell_type": "code",
   "execution_count": 103,
   "metadata": {
    "collapsed": true
   },
   "outputs": [],
   "source": [
    "sentence = [s for s in sentence if s != '']\n",
    "index = [i for i in index if i != -1]\n",
    "label = [l for l in label if l != -1]"
   ]
  },
  {
   "cell_type": "code",
   "execution_count": 104,
   "metadata": {},
   "outputs": [
    {
     "data": {
      "text/plain": [
       "(55642, 55642, 55642)"
      ]
     },
     "execution_count": 104,
     "metadata": {},
     "output_type": "execute_result"
    }
   ],
   "source": [
    "len(sentence), len(index), len(label)"
   ]
  },
  {
   "cell_type": "code",
   "execution_count": 106,
   "metadata": {},
   "outputs": [],
   "source": [
    "for i in gen_data_1(sentence, index, label):\n",
    "    write_to_file(i, '/Users/lizhn7/Downloads/EXPERIMENT/finance_causal_relation_extraction/version_3/data/detection.json')"
   ]
  }
 ],
 "metadata": {
  "kernelspec": {
   "display_name": "Python 3",
   "language": "python",
   "name": "python3"
  },
  "language_info": {
   "codemirror_mode": {
    "name": "ipython",
    "version": 3
   },
   "file_extension": ".py",
   "mimetype": "text/x-python",
   "name": "python",
   "nbconvert_exporter": "python",
   "pygments_lexer": "ipython3",
   "version": "3.6.2"
  },
  "toc": {
   "colors": {
    "hover_highlight": "#DAA520",
    "navigate_num": "#000000",
    "navigate_text": "#333333",
    "running_highlight": "#FF0000",
    "selected_highlight": "#FFD700",
    "sidebar_border": "#EEEEEE",
    "wrapper_background": "#FFFFFF"
   },
   "moveMenuLeft": true,
   "nav_menu": {
    "height": "12px",
    "width": "252px"
   },
   "navigate_menu": true,
   "number_sections": false,
   "sideBar": true,
   "threshold": 4,
   "toc_cell": true,
   "toc_section_display": "block",
   "toc_window_display": false,
   "widenNotebook": false
  }
 },
 "nbformat": 4,
 "nbformat_minor": 2
}
