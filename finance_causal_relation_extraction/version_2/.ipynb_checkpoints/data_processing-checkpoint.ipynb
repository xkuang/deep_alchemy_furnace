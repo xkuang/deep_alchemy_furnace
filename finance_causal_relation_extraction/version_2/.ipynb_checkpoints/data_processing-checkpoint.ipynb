{
 "cells": [
  {
   "cell_type": "markdown",
   "metadata": {
    "toc": "true"
   },
   "source": [
    "# Table of Contents\n",
    " <p><div class=\"lev1 toc-item\"><a href=\"#Load-Data\" data-toc-modified-id=\"Load-Data-1\"><span class=\"toc-item-num\">1&nbsp;&nbsp;</span>Load Data</a></div><div class=\"lev1 toc-item\"><a href=\"#Word-Segmentation\" data-toc-modified-id=\"Word-Segmentation-2\"><span class=\"toc-item-num\">2&nbsp;&nbsp;</span>Word Segmentation</a></div><div class=\"lev1 toc-item\"><a href=\"#Define-Dictionary\" data-toc-modified-id=\"Define-Dictionary-3\"><span class=\"toc-item-num\">3&nbsp;&nbsp;</span>Define Dictionary</a></div><div class=\"lev1 toc-item\"><a href=\"#Save-the-Data\" data-toc-modified-id=\"Save-the-Data-4\"><span class=\"toc-item-num\">4&nbsp;&nbsp;</span>Save the Data</a></div><div class=\"lev1 toc-item\"><a href=\"#Labeling\" data-toc-modified-id=\"Labeling-5\"><span class=\"toc-item-num\">5&nbsp;&nbsp;</span>Labeling</a></div><div class=\"lev1 toc-item\"><a href=\"#Compare\" data-toc-modified-id=\"Compare-6\"><span class=\"toc-item-num\">6&nbsp;&nbsp;</span>Compare</a></div>"
   ]
  },
  {
   "cell_type": "markdown",
   "metadata": {},
   "source": [
    "# Load Data"
   ]
  },
  {
   "cell_type": "code",
   "execution_count": 1,
   "metadata": {
    "collapsed": true
   },
   "outputs": [],
   "source": [
    "import json\n",
    "import os"
   ]
  },
  {
   "cell_type": "code",
   "execution_count": 2,
   "metadata": {
    "collapsed": true
   },
   "outputs": [],
   "source": [
    "DATA_DIR = '/Users/lizhn7/Downloads/EXPERIMENT/finance_causal_relation_extraction/data/version_2'"
   ]
  },
  {
   "cell_type": "code",
   "execution_count": 3,
   "metadata": {
    "collapsed": true
   },
   "outputs": [],
   "source": [
    "def load_data(path, name):\n",
    "    \"\"\"\n",
    "    Load date from file\n",
    "    \"\"\"\n",
    "    data = []\n",
    "    with open(path) as f:\n",
    "        lines = f.readlines()\n",
    "    for line in lines:\n",
    "        item = json.loads(line)\n",
    "        data.append(item[name])\n",
    "    return data"
   ]
  },
  {
   "cell_type": "code",
   "execution_count": 4,
   "metadata": {
    "collapsed": true
   },
   "outputs": [],
   "source": [
    "rawData = load_data(os.path.join(DATA_DIR , \"raw_data.json\"), 'abstract')"
   ]
  },
  {
   "cell_type": "markdown",
   "metadata": {},
   "source": [
    "# Word Segmentation"
   ]
  },
  {
   "cell_type": "code",
   "execution_count": 5,
   "metadata": {
    "collapsed": true
   },
   "outputs": [],
   "source": [
    "import jieba\n",
    "import re\n",
    "import matplotlib.pyplot as plt\n",
    "%matplotlib inline\n",
    "%config InlineBackend.figure_format = 'retina'"
   ]
  },
  {
   "cell_type": "code",
   "execution_count": 6,
   "metadata": {
    "collapsed": true
   },
   "outputs": [],
   "source": [
    "not_cuts = re.compile(u'([\\da-zA-Z\\.]+)')\n",
    "re_replace = re.compile(u'([^\\u4e00-\\u9fa50-9a-zA-Z\\%《》\\(\\)（）“”·\\.])|（(.*?)）|\\((.*?)\\)')\n",
    "stopWords = ['“', '”', '（', '）', '(', ')', '《', '》', '.', '%']"
   ]
  },
  {
   "cell_type": "code",
   "execution_count": 7,
   "metadata": {
    "collapsed": true
   },
   "outputs": [],
   "source": [
    "def newcut(s, find=True):\n",
    "    \"\"\"\n",
    "    Word Segmentation\n",
    "    \"\"\"\n",
    "    result = []\n",
    "    j = 0\n",
    "    s = re_replace.sub('', s)\n",
    "    \n",
    "    for i in not_cuts.finditer(s):\n",
    "        result.extend(jieba.lcut(s[j:i.start()], HMM=find))\n",
    "        result.append(s[i.start():i.end()])\n",
    "        j = i.end()\n",
    "    result.extend(jieba.lcut(s[j:], HMM=find))\n",
    "    return result\n",
    "\n",
    "def del_stop(ws):\n",
    "    \"\"\"\n",
    "    Delete stopwords\n",
    "    \"\"\"\n",
    "    return [i for i in ws if i not in stopWords]"
   ]
  },
  {
   "cell_type": "code",
   "execution_count": 8,
   "metadata": {},
   "outputs": [
    {
     "name": "stderr",
     "output_type": "stream",
     "text": [
      "Building prefix dict from the default dictionary ...\n",
      "Loading model from cache /var/folders/kz/hqjl_dfx3g3_2vxylxlj1s940000gn/T/jieba.cache\n",
      "Loading model cost 0.971 seconds.\n",
      "Prefix dict has been built succesfully.\n"
     ]
    }
   ],
   "source": [
    "fWords = [del_stop(newcut(s)) for s in rawData]\n",
    "nfWords = [del_stop(newcut(s, find=False)) for s in rawData]"
   ]
  },
  {
   "cell_type": "markdown",
   "metadata": {},
   "source": [
    "# Define Dictionary"
   ]
  },
  {
   "cell_type": "code",
   "execution_count": 9,
   "metadata": {},
   "outputs": [
    {
     "name": "stderr",
     "output_type": "stream",
     "text": [
      "Using TensorFlow backend.\n"
     ]
    }
   ],
   "source": [
    "from keras.preprocessing.text import Tokenizer\n",
    "import numpy as np"
   ]
  },
  {
   "cell_type": "code",
   "execution_count": null,
   "metadata": {
    "collapsed": true
   },
   "outputs": [],
   "source": [
    "def token(words):\n",
    "    \"\"\"\n",
    "    Tokenize Text\n",
    "    \"\"\"\n",
    "    tokWords = words.copy()\n",
    "    tokTexts = [' '.join(i) for i in tokWords]\n",
    "    tokenizer = Tokenizer(filters='')\n",
    "    tokenizer.fit_on_texts(tokTexts)\n",
    "    word2index = tokenizer.word_index\n",
    "    return word2index"
   ]
  },
  {
   "cell_type": "code",
   "execution_count": null,
   "metadata": {
    "collapsed": true
   },
   "outputs": [],
   "source": [
    "tokWords = sentWords.copy()\n",
    "tokTexts = [' '.join(i) for i in tokWords]\n",
    "tokenizer = Tokenizer(filters='')\n",
    "tokenizer.fit_on_texts(tokTexts)\n",
    "word2index = tokenizer.word_index\n",
    "index2word = {i: w for w, i in word2index.items()}\n",
    "sentLens = np.array([len(i) for i in sentWords])\n",
    "print('Number of sentences: \\t{:d}'.format(len(sentLens)))\n",
    "print('Distribution of sentence lengths (number of words):')\n",
    "print('Min: {:d}   Max: {:d}   Mean: {:.3f}   Med: {:.3f}'.format(np.min(sentLens), np.max(sentLens), np.mean(sentLens), np.median(sentLens)))\n",
    "print('Found %s unique tokens.' % len(word2index))"
   ]
  },
  {
   "cell_type": "code",
   "execution_count": 12,
   "metadata": {},
   "outputs": [
    {
     "data": {
      "text/plain": [
       "<matplotlib.text.Text at 0x1264c0c88>"
      ]
     },
     "execution_count": 12,
     "metadata": {},
     "output_type": "execute_result"
    },
    {
     "data": {
      "image/png": "[encoded data removed]",
      "text/plain": [
       "<matplotlib.figure.Figure at 0x12319c0f0>"
      ]
     },
     "metadata": {
      "image/png": {
       "height": 277,
       "width": 400
      }
     },
     "output_type": "display_data"
    }
   ],
   "source": [
    "plt.hist([len(i) for i in sentWords], bins=32, normed=True);\n",
    "plt.xlabel('Sentence Length')\n",
    "plt.ylabel('Probability')\n",
    "plt.title('Histogram of Text Length')  "
   ]
  },
  {
   "cell_type": "markdown",
   "metadata": {},
   "source": [
    "# Save the Data"
   ]
  },
  {
   "cell_type": "code",
   "execution_count": 36,
   "metadata": {},
   "outputs": [
    {
     "data": {
      "text/plain": [
       "['由于']"
      ]
     },
     "execution_count": 36,
     "metadata": {},
     "output_type": "execute_result"
    }
   ],
   "source": [
    "del_stop(clean(newcut('由于')))"
   ]
  },
  {
   "cell_type": "code",
   "execution_count": 13,
   "metadata": {
    "scrolled": false
   },
   "outputs": [
    {
     "data": {
      "text/plain": [
       "140"
      ]
     },
     "execution_count": 13,
     "metadata": {},
     "output_type": "execute_result"
    }
   ],
   "source": [
    "len([' '.join(i) for i in sentWords if len(i)>128])"
   ]
  },
  {
   "cell_type": "code",
   "execution_count": 14,
   "metadata": {},
   "outputs": [
    {
     "data": {
      "text/plain": [
       "218"
      ]
     },
     "execution_count": 14,
     "metadata": {},
     "output_type": "execute_result"
    }
   ],
   "source": [
    "max([len(i) for i in sentWords])"
   ]
  },
  {
   "cell_type": "code",
   "execution_count": 15,
   "metadata": {},
   "outputs": [
    {
     "data": {
      "text/plain": [
       "21273"
      ]
     },
     "execution_count": 15,
     "metadata": {},
     "output_type": "execute_result"
    }
   ],
   "source": [
    "len(sentWords)"
   ]
  },
  {
   "cell_type": "code",
   "execution_count": 58,
   "metadata": {
    "collapsed": true
   },
   "outputs": [],
   "source": [
    "#sentence = [rawData[j] for j, i in enumerate(sentWords) if len(i)>=16 and len(i)<=128]\n",
    "sentence = load_data('do_mini.json', 'sentence')\n",
    "label = load_data('do_mini.json', 'label')\n",
    "sentence = [sentence[i] for i in range(1480) if label[i] == 0]"
   ]
  },
  {
   "cell_type": "code",
   "execution_count": 59,
   "metadata": {},
   "outputs": [
    {
     "data": {
      "text/plain": [
       "1103"
      ]
     },
     "execution_count": 59,
     "metadata": {},
     "output_type": "execute_result"
    }
   ],
   "source": [
    "len(sentence)"
   ]
  },
  {
   "cell_type": "code",
   "execution_count": 60,
   "metadata": {
    "collapsed": true
   },
   "outputs": [],
   "source": [
    "def write_to_file(content, name):\n",
    "    with open(name, 'a', encoding='utf-8') as f:\n",
    "        f.write(json.dumps(content, ensure_ascii=False) + '\\n')\n",
    "        f.close()\n",
    "        \n",
    "def gen_data(data):\n",
    "    for item in data:\n",
    "        yield {\n",
    "            'sentence': item,\n",
    "            'label': 0\n",
    "        }"
   ]
  },
  {
   "cell_type": "code",
   "execution_count": 61,
   "metadata": {
    "collapsed": true
   },
   "outputs": [],
   "source": [
    "for i in gen_data(sentence):\n",
    "    write_to_file(i, 'do_mini.json')"
   ]
  },
  {
   "cell_type": "code",
   "execution_count": 49,
   "metadata": {},
   "outputs": [
    {
     "name": "stdout",
     "output_type": "stream",
     "text": [
      "   20337 train_data.json\r\n"
     ]
    }
   ],
   "source": [
    "!wc -l train_data.json"
   ]
  },
  {
   "cell_type": "markdown",
   "metadata": {},
   "source": [
    "# Labeling"
   ]
  },
  {
   "cell_type": "code",
   "execution_count": 58,
   "metadata": {
    "collapsed": true
   },
   "outputs": [],
   "source": [
    "sample = load_data('sample_done.json', 'sentence')"
   ]
  },
  {
   "cell_type": "code",
   "execution_count": 60,
   "metadata": {
    "collapsed": true
   },
   "outputs": [],
   "source": [
    "for i in gen_data(sample):\n",
    "    write_to_file(i, 'sample_do.json')"
   ]
  },
  {
   "cell_type": "markdown",
   "metadata": {
    "collapsed": true
   },
   "source": [
    "# Compare"
   ]
  },
  {
   "cell_type": "code",
   "execution_count": 24,
   "metadata": {
    "collapsed": true
   },
   "outputs": [],
   "source": [
    "lzn = load_data('sample_lzn.json', 'label')\n",
    "lq = load_data('sample_lq.json', 'label')\n",
    "sent = load_data('sample_do.json', 'sentence')"
   ]
  },
  {
   "cell_type": "code",
   "execution_count": 30,
   "metadata": {},
   "outputs": [
    {
     "data": {
      "text/plain": [
       "[11, 18, 34, 35, 39, 45, 46, 47, 48, 54, 55, 56, 60, 71, 72]"
      ]
     },
     "execution_count": 30,
     "metadata": {},
     "output_type": "execute_result"
    }
   ],
   "source": [
    "result = [i for i in range(100) if lzn[i] != lq[i]]\n",
    "result"
   ]
  },
  {
   "cell_type": "code",
   "execution_count": 31,
   "metadata": {
    "scrolled": false
   },
   "outputs": [
    {
     "name": "stdout",
     "output_type": "stream",
     "text": [
      "11\n",
      "智通财经12日讯，和美医疗(01509)发布公告，就有关收购南通和美家51%股权，自该公告刊发以来，该公司收到一些投资者询问，并注意到部分媒体关于南通和美家执行董事兼经理林玉国身份的不实报道。该公司就此澄清，南通和美家现任执行董事兼经理林玉国为独立第3方。其与该公司非执行董事林玉国乃属同名同姓。南通和美家的林玉国与该公司主席兼总裁林玉明并无血缘关系。\n",
      "0\n",
      "1\n",
      "--------------\n",
      "18\n",
      "如同一个技术好的设计师会找到两种产品的相似之处，并让用户发生不由自主地联想——200G的辣条和200G的苹果电脑，边吃辣条边玩《卫龙霸业》，“买辣条送装备、打怪升级送辣条”的画面就请自行脑补吧。正如36氪专栏作者夜叶所言，无论做手游或走苹果风，都是卫龙赶着消费升级的浪潮，为自己升级的举措，为的是跟上新时代年轻人的步伐。对90后而言，像食品类是否有实用价值或许并没那么重要，或说产品间差异性很小，这时趣味性作用更凸显。苹果风的卫龙辣条、最难喝的崂山白花蛇草水，都能成为他们追逐的对象，开心就好。吃根卫龙辣条，打着《卫龙霸业》的手游也一样，只要足够有意思，足够好玩，没什么不可以的。\n",
      "1\n",
      "0\n",
      "--------------\n",
      "34\n",
      "快递龙头企业陆续上市，跟上资本的脚步之后，几家行业巨头又开始了整合之路。申通快递(002468)8月1日晚间公告称，以自有资金1.33亿元对快捷快递有限公司进行增资，增资完成后公司将取得快捷快递10%的股权，成为快捷快递第三大股东。\n",
      "0\n",
      "1\n",
      "--------------\n",
      "35\n",
      "【南京银行接连被罚又当被告 “万亿银行”为何遭困局缠身】近年来，南京银行资产规模快速扩张，去年总资产突破万亿元，成功跻身银行业“万亿俱乐部”。然而，高速发展的同时，南京银行也暴露出了一系列的问题——不仅补充资本的压力日益突出，经营方式也面临着结构优化和转型的发展命题。今年以来，南京银行因违规问题接连受到监管机构处罚。近期，又被江苏柯菲平医药股份有限公司告上法庭，要求其赔偿柯菲平公司损失的3000万元及相关诉讼费用，再次将南京银行推至风口浪尖。（投资者报）\n",
      "1\n",
      "0\n",
      "--------------\n",
      "39\n",
      "【机构介入 益生股份放量涨停】昨日，益生股份小幅低开之后快速翻红，股价震荡上行，上午便在涨停板附近徘徊，午后封板，收于21.55元，成交额为3.01亿元，环比明显放量。（中国证券报）\n",
      "0\n",
      "1\n",
      "--------------\n",
      "45\n",
      "【募投项目调整频率快 开尔新材项目初建致业绩低迷】开尔新材(300234)于2011年6月登陆创业板上市，上市以来公司资本运作频繁，在首发IPO后，公司又完成一次再融资。然而，频频的扩张，业绩却没有能同步，2日公司披露中期业绩仅收获61万元的同时，又宣布了一份重组收购案。（大众证券报）\n",
      "1\n",
      "0\n",
      "--------------\n",
      "46\n",
      "新虹伟(833501)6月16日公告，公司于2017年6月15日收到全国中小企业股份转让系统《关于对上海新虹伟信息科技股份有限公司及相关责任主体采取自律监管措施的决定》。经股转公司查明，新虹伟存在多项信息披露违规行为，包括：股东股权冻结公告信息披露不及时、偶发性关联交易未及时审议并披露、对外投资未及时审议并披露以及变更会计师事务所未及时披露。鉴于上述违规事实和情节，股转公司对新虹伟及公司主要责任人董事长袁伟、董事会秘书陈媚采取出具警示函的自律监管措施。\n",
      "1\n",
      "0\n",
      "--------------\n",
      "47\n",
      "【欢瑞世纪上半年亏损近4000万 业绩承诺兑现“压力山大”】在暑期档的喧嚣中，传媒股纷纷亮出业绩。借壳上市不到一年的“明星”影视公司欢瑞世纪(000892，SZ)2017年半年度业绩预告称，重组后归属于上市公司股东的净利润亏损3700万~3900万元，净利润减少182%。（每日经济新闻）\n",
      "1\n",
      "0\n",
      "--------------\n",
      "48\n",
      "中外运航运(00368)发布公告，公司的独立非执行董事、董事会的审核委员会主席和薪酬委员会委员曾庆麟于2017年6月4日离世，公司对此深表哀悼。此外，公司将竭尽全力尽快由2017年6月4日起3个月内物色合适人选，以填补空缺及符合相关上市规则要求。\n",
      "1\n",
      "0\n",
      "--------------\n",
      "54\n",
      "【大族激光：拟5亿元参设长江新能源产业基金】大族激光(002008)6月5日晚间公告，公司拟作为有限合伙人，认缴出资5亿元参设长江新能源产业投资（湖北）合伙企业（有限合伙）。该基金认缴规模40亿到65亿元之间，主要投资电池原材料供应商、新能源汽车生产商或运营企业等领域。大族激光称，公司已于今年4月成立新能源装备事业部，目前已具备70%前段/中段整体锂电池装备供给能力，本次投资有利于推动公司在新能源装备上下游产业链的战略布局。（证券时报）\n",
      "1\n",
      "0\n",
      "--------------\n",
      "55\n",
      "【中企竞标美最大稀土矿 对手质疑影响美国国家安全】监管部门严格管控下的中国稀土行业，企业格局日趋稳定，上游矿山开采有“短板”的稀土企业转而“出海”寻求弥补，目标包括美国第一大稀土矿山。法院将于美国当地时间6月23日下午2:00召开听证会，作出裁决，决定是否批准资产购买协议。（澎湃新闻）\n",
      "1\n",
      "0\n",
      "--------------\n",
      "56\n",
      "神州优车(838006) 6月5日公告，公司董事会于2017年6月5日收到副董事长黎辉递交的辞职报告。该辞职副董事长持有公司股份0股，占公司股本的0.00%。黎辉辞职后不再担任公司其他职务。因个人原因，黎辉申请辞去公司副董事长职务。\n",
      "1\n",
      "0\n",
      "--------------\n",
      "60\n",
      "耀科国际(00143)公布，更改财政年度结算日，将由9月30日更改为12月31日。因此，公司之下一个财政年度结算日将为2017年12月31日。\n",
      "0\n",
      "1\n",
      "--------------\n",
      "71\n",
      "【恒信移动：6月5日起简称变更为“恒信东方”】恒信移动(300081)6月2日晚公告，公司重大资产重组发行股份购买资产已实施完成，营业收入和营业利润发生了较大改变。经公司申请，并经深交所核准，自6月5日起，公司启用新的证券简称“恒信东方”。（证券时报网）\n",
      "1\n",
      "0\n",
      "--------------\n",
      "72\n",
      "智通财经12日讯，橙天嘉禾(01132)发布公告，于7月12日，根据于2009年11月11日采纳的购股权计划，一名公司董事行使购股权而增发100万股，每股发行价0.59港元，较11日收市价0.92港元折让35.87%。\n",
      "0\n",
      "1\n",
      "--------------\n"
     ]
    }
   ],
   "source": [
    "for i in result:\n",
    "    print(i)\n",
    "    print(sent[i])\n",
    "    print(lzn[i])\n",
    "    print(lq[i])\n",
    "    print('--------------')"
   ]
  }
 ],
 "metadata": {
  "kernelspec": {
   "display_name": "Python 3",
   "language": "python",
   "name": "python3"
  },
  "language_info": {
   "codemirror_mode": {
    "name": "ipython",
    "version": 3
   },
   "file_extension": ".py",
   "mimetype": "text/x-python",
   "name": "python",
   "nbconvert_exporter": "python",
   "pygments_lexer": "ipython3",
   "version": "3.6.2"
  },
  "toc": {
   "colors": {
    "hover_highlight": "#DAA520",
    "navigate_num": "#000000",
    "navigate_text": "#333333",
    "running_highlight": "#FF0000",
    "selected_highlight": "#FFD700",
    "sidebar_border": "#EEEEEE",
    "wrapper_background": "#FFFFFF"
   },
   "moveMenuLeft": true,
   "nav_menu": {
    "height": "66px",
    "width": "252px"
   },
   "navigate_menu": true,
   "number_sections": true,
   "sideBar": true,
   "threshold": 4,
   "toc_cell": true,
   "toc_section_display": "block",
   "toc_window_display": false,
   "widenNotebook": false
  }
 },
 "nbformat": 4,
 "nbformat_minor": 2
}
