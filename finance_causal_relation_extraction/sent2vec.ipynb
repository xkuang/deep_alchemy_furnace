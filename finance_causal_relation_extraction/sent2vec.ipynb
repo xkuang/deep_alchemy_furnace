{
 "cells": [
  {
   "cell_type": "markdown",
   "metadata": {
    "toc": "true"
   },
   "source": [
    "# Table of Contents\n",
    " <p><div class=\"lev1 toc-item\"><a href=\"#Load-Data\" data-toc-modified-id=\"Load-Data-1\"><span class=\"toc-item-num\">1&nbsp;&nbsp;</span>Load Data</a></div><div class=\"lev1 toc-item\"><a href=\"#Word-Segmentation\" data-toc-modified-id=\"Word-Segmentation-2\"><span class=\"toc-item-num\">2&nbsp;&nbsp;</span>Word Segmentation</a></div><div class=\"lev1 toc-item\"><a href=\"#Tokenize-Text\" data-toc-modified-id=\"Tokenize-Text-3\"><span class=\"toc-item-num\">3&nbsp;&nbsp;</span>Tokenize Text</a></div><div class=\"lev1 toc-item\"><a href=\"#Word-Embedding\" data-toc-modified-id=\"Word-Embedding-4\"><span class=\"toc-item-num\">4&nbsp;&nbsp;</span>Word Embedding</a></div><div class=\"lev2 toc-item\"><a href=\"#Read-Pretrained-Model\" data-toc-modified-id=\"Read-Pretrained-Model-41\"><span class=\"toc-item-num\">4.1&nbsp;&nbsp;</span>Read Pretrained Model</a></div><div class=\"lev2 toc-item\"><a href=\"#Use-Word2vec-to-Initialize-Embedding-Matrix\" data-toc-modified-id=\"Use-Word2vec-to-Initialize-Embedding-Matrix-42\"><span class=\"toc-item-num\">4.2&nbsp;&nbsp;</span>Use Word2vec to Initialize Embedding Matrix</a></div><div class=\"lev1 toc-item\"><a href=\"#Build-Dateset\" data-toc-modified-id=\"Build-Dateset-5\"><span class=\"toc-item-num\">5&nbsp;&nbsp;</span>Build Dateset</a></div><div class=\"lev1 toc-item\"><a href=\"#Build-Model\" data-toc-modified-id=\"Build-Model-6\"><span class=\"toc-item-num\">6&nbsp;&nbsp;</span>Build Model</a></div><div class=\"lev2 toc-item\"><a href=\"#Import-Libraries\" data-toc-modified-id=\"Import-Libraries-61\"><span class=\"toc-item-num\">6.1&nbsp;&nbsp;</span>Import Libraries</a></div><div class=\"lev2 toc-item\"><a href=\"#Model-Visualization\" data-toc-modified-id=\"Model-Visualization-62\"><span class=\"toc-item-num\">6.2&nbsp;&nbsp;</span>Model Visualization</a></div><div class=\"lev2 toc-item\"><a href=\"#Train\" data-toc-modified-id=\"Train-63\"><span class=\"toc-item-num\">6.3&nbsp;&nbsp;</span>Train</a></div><div class=\"lev2 toc-item\"><a href=\"#Train-(Generator)\" data-toc-modified-id=\"Train-(Generator)-64\"><span class=\"toc-item-num\">6.4&nbsp;&nbsp;</span>Train (Generator)</a></div><div class=\"lev2 toc-item\"><a href=\"#plot-results\" data-toc-modified-id=\"plot-results-65\"><span class=\"toc-item-num\">6.5&nbsp;&nbsp;</span>plot results</a></div><div class=\"lev1 toc-item\"><a href=\"#Evaluate\" data-toc-modified-id=\"Evaluate-7\"><span class=\"toc-item-num\">7&nbsp;&nbsp;</span>Evaluate</a></div>"
   ]
  },
  {
   "cell_type": "markdown",
   "metadata": {},
   "source": [
    "# Load Data"
   ]
  },
  {
   "cell_type": "code",
   "execution_count": 1,
   "metadata": {
    "collapsed": true
   },
   "outputs": [],
   "source": [
    "import json\n",
    "import os"
   ]
  },
  {
   "cell_type": "code",
   "execution_count": 2,
   "metadata": {
    "collapsed": true
   },
   "outputs": [],
   "source": [
    "def load_data(path, name):\n",
    "    \"\"\"\n",
    "    Load date from file\n",
    "    \"\"\"\n",
    "    data = []\n",
    "    input_file = os.path.join(path)\n",
    "    with open(input_file) as f:\n",
    "        lines = f.readlines()\n",
    "    for line in lines:\n",
    "        item = json.loads(line)\n",
    "        data.append(item[name])\n",
    "    return data"
   ]
  },
  {
   "cell_type": "code",
   "execution_count": 3,
   "metadata": {
    "collapsed": true
   },
   "outputs": [],
   "source": [
    "sentence = load_data('train_data.json', 'sentence')"
   ]
  },
  {
   "cell_type": "markdown",
   "metadata": {},
   "source": [
    "# Word Segmentation"
   ]
  },
  {
   "cell_type": "code",
   "execution_count": 4,
   "metadata": {
    "collapsed": true
   },
   "outputs": [],
   "source": [
    "import jieba\n",
    "import re\n",
    "import matplotlib.pyplot as plt\n",
    "%matplotlib inline\n",
    "%config InlineBackend.figure_format = 'retina'"
   ]
  },
  {
   "cell_type": "code",
   "execution_count": 5,
   "metadata": {
    "collapsed": true
   },
   "outputs": [],
   "source": [
    "not_cuts = re.compile(u'([\\da-zA-Z\\.]+)')\n",
    "re_replace = re.compile(u'([^\\u4e00-\\u9fa50-9a-zA-Z\\%《》\\(\\)（）“”·\\.])|（(.*?)）|\\((.*?)\\)')"
   ]
  },
  {
   "cell_type": "code",
   "execution_count": 6,
   "metadata": {
    "collapsed": true
   },
   "outputs": [],
   "source": [
    "filename = \"stopwords.txt\"\n",
    "stopWords = [w for w in open(filename).read().split()]"
   ]
  },
  {
   "cell_type": "code",
   "execution_count": 7,
   "metadata": {
    "collapsed": true
   },
   "outputs": [],
   "source": [
    "def newcut(s):\n",
    "    \"\"\"\n",
    "    Word Segmentation\n",
    "    \"\"\"\n",
    "    result = []\n",
    "    j = 0\n",
    "    s = re_replace.sub('', s)\n",
    "    \n",
    "    for i in not_cuts.finditer(s):\n",
    "        result.extend(jieba.lcut(s[j:i.start()], HMM=False))\n",
    "        result.append(s[i.start():i.end()])\n",
    "        j = i.end()\n",
    "    result.extend(jieba.lcut(s[j:], HMM=False))\n",
    "    return result\n",
    "\n",
    "def del_stop(ws):\n",
    "    \"\"\"\n",
    "    Delete stopwords\n",
    "    \"\"\"\n",
    "    return [i for i in ws if i not in stopWords]"
   ]
  },
  {
   "cell_type": "code",
   "execution_count": 8,
   "metadata": {},
   "outputs": [
    {
     "name": "stderr",
     "output_type": "stream",
     "text": [
      "Building prefix dict from the default dictionary ...\n",
      "Loading model from cache /var/folders/kz/hqjl_dfx3g3_2vxylxlj1s940000gn/T/jieba.cache\n",
      "Loading model cost 0.989 seconds.\n",
      "Prefix dict has been built succesfully.\n"
     ]
    }
   ],
   "source": [
    "sentWords = [del_stop(newcut(s)) for s in sentence]"
   ]
  },
  {
   "cell_type": "code",
   "execution_count": 9,
   "metadata": {},
   "outputs": [
    {
     "data": {
      "text/plain": [
       "<matplotlib.text.Text at 0x121fa5f28>"
      ]
     },
     "execution_count": 9,
     "metadata": {},
     "output_type": "execute_result"
    },
    {
     "data": {
      "image/png": "[encoded data removed]",
      "text/plain": [
       "<matplotlib.figure.Figure at 0x11ec784e0>"
      ]
     },
     "metadata": {
      "image/png": {
       "height": 277,
       "width": 406
      }
     },
     "output_type": "display_data"
    }
   ],
   "source": [
    "plt.hist([len(i) for i in sentWords], bins=128, normed=True);\n",
    "plt.xlabel('Sentence Length')\n",
    "plt.ylabel('Probability')\n",
    "plt.title('Histogram of Text Length')  "
   ]
  },
  {
   "cell_type": "markdown",
   "metadata": {},
   "source": [
    "# Tokenize Text"
   ]
  },
  {
   "cell_type": "code",
   "execution_count": 10,
   "metadata": {},
   "outputs": [
    {
     "name": "stderr",
     "output_type": "stream",
     "text": [
      "Using TensorFlow backend.\n"
     ]
    }
   ],
   "source": [
    "from keras.preprocessing.text import Tokenizer\n",
    "import numpy as np"
   ]
  },
  {
   "cell_type": "code",
   "execution_count": 11,
   "metadata": {},
   "outputs": [
    {
     "name": "stdout",
     "output_type": "stream",
     "text": [
      "Number of sentences: \t20332\n",
      "Distribution of sentence lengths (number of words):\n",
      "Min: 12   Max: 472   Mean: 69.997   Med: 67.000\n",
      "Found 55935 unique tokens.\n"
     ]
    }
   ],
   "source": [
    "tokWords = sentWords.copy()\n",
    "tokTexts = [' '.join(i) for i in tokWords]\n",
    "tokenizer = Tokenizer(filters='')\n",
    "tokenizer.fit_on_texts(tokTexts)\n",
    "word2index = tokenizer.word_index\n",
    "index2word = {i: w for w, i in word2index.items()}\n",
    "sentLens = np.array([len(i) for i in sentWords])\n",
    "print('Number of sentences: \\t{:d}'.format(len(sentLens)))\n",
    "print('Distribution of sentence lengths (number of words):')\n",
    "print('Min: {:d}   Max: {:d}   Mean: {:.3f}   Med: {:.3f}'.format(np.min(sentLens), np.max(sentLens), np.mean(sentLens), np.median(sentLens)))\n",
    "print('Found %s unique tokens.' % len(word2index))"
   ]
  },
  {
   "cell_type": "code",
   "execution_count": 12,
   "metadata": {
    "collapsed": true
   },
   "outputs": [],
   "source": [
    "MAX_LEN = 150 # Approximately twice the median length of sentences"
   ]
  },
  {
   "cell_type": "markdown",
   "metadata": {},
   "source": [
    "# Word Embedding"
   ]
  },
  {
   "cell_type": "code",
   "execution_count": 13,
   "metadata": {
    "collapsed": true
   },
   "outputs": [],
   "source": [
    "VOCAB_SIZE = len(index2word)+1\n",
    "EMBEDDING_SIZE = 256\n",
    "SEED = 42"
   ]
  },
  {
   "cell_type": "markdown",
   "metadata": {},
   "source": [
    "## Read Pretrained Model"
   ]
  },
  {
   "cell_type": "code",
   "execution_count": 14,
   "metadata": {
    "collapsed": true
   },
   "outputs": [],
   "source": [
    "import gensim"
   ]
  },
  {
   "cell_type": "code",
   "execution_count": 15,
   "metadata": {},
   "outputs": [
    {
     "data": {
      "text/plain": [
       "0.062499415"
      ]
     },
     "execution_count": 15,
     "metadata": {},
     "output_type": "execute_result"
    }
   ],
   "source": [
    "word2vec = gensim.models.Word2Vec.load('/Users/lizhn7/Downloads/DATA/word2vec/word2vec_wx')\n",
    "word2vec.init_sims(replace=True)\n",
    "w2v_embedding_weights = word2vec.wv.syn0\n",
    "w2v_embedding_weights.std()"
   ]
  },
  {
   "cell_type": "markdown",
   "metadata": {},
   "source": [
    "## Use Word2vec to Initialize Embedding Matrix "
   ]
  },
  {
   "cell_type": "code",
   "execution_count": 16,
   "metadata": {
    "collapsed": true
   },
   "outputs": [],
   "source": [
    "# Generate random embedding with same scale as glove\n",
    "np.random.seed(SEED)\n",
    "shape = (VOCAB_SIZE, EMBEDDING_SIZE)\n",
    "scale = w2v_embedding_weights.std() * np.sqrt(12) / 2 \n",
    "embedding = np.random.uniform(low=-scale, high=scale, size=shape)"
   ]
  },
  {
   "cell_type": "code",
   "execution_count": 17,
   "metadata": {},
   "outputs": [
    {
     "name": "stdout",
     "output_type": "stream",
     "text": [
      "37268-66.626% tokens in vocab found in word2vec and copied to embedding.\n"
     ]
    }
   ],
   "source": [
    "count = 0\n",
    "w2v_dict = word2vec.wv.index2word\n",
    "for i in range(1, VOCAB_SIZE):\n",
    "    w = index2word[i]\n",
    "    if w in w2v_dict:\n",
    "        g = word2vec[w]\n",
    "        embedding[i, :] = g\n",
    "        count += 1\n",
    "print('{num_tokens}-{per:.3f}% tokens in vocab found in word2vec and copied to embedding.'.format(num_tokens=count, per=count/float(VOCAB_SIZE)*100))"
   ]
  },
  {
   "cell_type": "markdown",
   "metadata": {},
   "source": [
    "# Build Dateset"
   ]
  },
  {
   "cell_type": "code",
   "execution_count": 70,
   "metadata": {
    "collapsed": true
   },
   "outputs": [],
   "source": [
    "from keras.preprocessing.sequence import pad_sequences\n",
    "from sklearn.model_selection import train_test_split"
   ]
  },
  {
   "cell_type": "code",
   "execution_count": 71,
   "metadata": {
    "collapsed": true
   },
   "outputs": [],
   "source": [
    "def convert_seq(ws):\n",
    "    \"\"\"\n",
    "    Pad words sequene to MAX_LEN and encode label to one-hot encoding\n",
    "    \"\"\"\n",
    "    sentText = [' '.join(i) for i in ws]\n",
    "    sentSeq = tokenizer.texts_to_sequences(sentText)\n",
    "    sentData = pad_sequences(sentSeq, maxlen=MAX_LEN, padding='post', truncating='post')\n",
    "    label = embedding[sentData]\n",
    "    return sentData, label"
   ]
  },
  {
   "cell_type": "code",
   "execution_count": 72,
   "metadata": {},
   "outputs": [],
   "source": [
    "x, y = convert_seq(sentWords)"
   ]
  },
  {
   "cell_type": "code",
   "execution_count": 73,
   "metadata": {
    "collapsed": true
   },
   "outputs": [],
   "source": [
    "xTrain, xVal, yTrain, yVal = train_test_split(x, y, test_size=0.15, random_state=SEED)"
   ]
  },
  {
   "cell_type": "markdown",
   "metadata": {},
   "source": [
    "# Build Model"
   ]
  },
  {
   "cell_type": "code",
   "execution_count": 74,
   "metadata": {
    "collapsed": true
   },
   "outputs": [],
   "source": [
    "MAX_LEN = 150\n",
    "VOCAB_SIZE = 55936\n",
    "EMBEDDING_SIZE = 256\n",
    "LATENT_SIZE = 512\n",
    "NUM_EPOCHS = 36\n",
    "BATCH_SIZE = 64\n",
    "#NUM_TRAIN_STEPS = len(xTrain) // BATCH_SIZE # 222\n",
    "#NUM_VAL_STEPS = len(xVal) // BATCH_SIZE # 95\n",
    "NUM_TRAIN_STEPS = 14\n",
    "NUM_VAL_STEPS = 6"
   ]
  },
  {
   "cell_type": "markdown",
   "metadata": {},
   "source": [
    "## Import Libraries"
   ]
  },
  {
   "cell_type": "code",
   "execution_count": 75,
   "metadata": {
    "collapsed": true
   },
   "outputs": [],
   "source": [
    "from keras.layers import Input, Embedding, Bidirectional, LSTM, RepeatVector\n",
    "from keras.models import Model\n",
    "import keras.backend as K\n",
    "from keras.callbacks import*\n",
    "from IPython.display import SVG\n",
    "from keras.utils.vis_utils import model_to_dot\n",
    "import matplotlib.pyplot as plt\n",
    "%matplotlib inline\n",
    "%config InlineBackend.figure_format = 'retina'"
   ]
  },
  {
   "cell_type": "code",
   "execution_count": 149,
   "metadata": {
    "scrolled": false
   },
   "outputs": [],
   "source": [
    "K.clear_session()\n",
    "inputs = Input(shape=(MAX_LEN,), name='INPUT') \n",
    "emb = Embedding(VOCAB_SIZE, EMBEDDING_SIZE, weights=[embedding], mask_zero=True, input_length=MAX_LEN, trainable=False, name='EMBEDDING')(inputs)\n",
    "encoded = Bidirectional(LSTM(LATENT_SIZE, return_sequences=False, implementation=0), merge_mode='sum', name='ENCODER_BiLSTM')(emb)\n",
    "decoded = RepeatVector(MAX_LEN, name=\"REPEATER\")(encoded)\n",
    "decoded = Bidirectional(LSTM(EMBEDDING_SIZE, return_sequences=True, implementation=0), merge_mode='sum', name='DECODER_BiLSTM')(decoded)\n",
    "autoencoder = Model(inputs, decoded)\n",
    "autoencoder.compile(loss='mse', optimizer='rmsprop')"
   ]
  },
  {
   "cell_type": "markdown",
   "metadata": {},
   "source": [
    "## Model Visualization"
   ]
  },
  {
   "cell_type": "code",
   "execution_count": 77,
   "metadata": {},
   "outputs": [
    {
     "name": "stdout",
     "output_type": "stream",
     "text": [
      "_________________________________________________________________\n",
      "Layer (type)                 Output Shape              Param #   \n",
      "=================================================================\n",
      "INPUT (InputLayer)           (None, 150)               0         \n",
      "_________________________________________________________________\n",
      "EMBEDDING (Embedding)        (None, 150, 256)          14319616  \n",
      "_________________________________________________________________\n",
      "ENCODER_BiLSTM (Bidirectiona (None, 512)               3149824   \n",
      "_________________________________________________________________\n",
      "REPEATER (RepeatVector)      (None, 150, 512)          0         \n",
      "_________________________________________________________________\n",
      "DECODER_BiLSTM (Bidirectiona (None, 150, 256)          1574912   \n",
      "=================================================================\n",
      "Total params: 19,044,352\n",
      "Trainable params: 4,724,736\n",
      "Non-trainable params: 14,319,616\n",
      "_________________________________________________________________\n"
     ]
    },
    {
     "data": {
      "image/svg+xml": [
       "<svg height=\"337pt\" viewBox=\"0.00 0.00 322.26 337.00\" width=\"322pt\" xmlns=\"http://www.w3.org/2000/svg\" xmlns:xlink=\"http://www.w3.org/1999/xlink\">\n",
       "<g class=\"graph\" id=\"graph0\" transform=\"scale(1 1) rotate(0) translate(4 333)\">\n",
       "<title>G</title>\n",
       "<polygon fill=\"#ffffff\" points=\"-4,4 -4,-333 318.2588,-333 318.2588,4 -4,4\" stroke=\"transparent\"/>\n",
       "<!-- 5238585104 -->\n",
       "<g class=\"node\" id=\"node1\">\n",
       "<title>5238585104</title>\n",
       "<polygon fill=\"none\" points=\"94.0762,-292.5 94.0762,-328.5 220.1826,-328.5 220.1826,-292.5 94.0762,-292.5\" stroke=\"#000000\"/>\n",
       "<text fill=\"#000000\" font-family=\"Times,serif\" font-size=\"14.00\" text-anchor=\"middle\" x=\"157.1294\" y=\"-306.3\">INPUT: InputLayer</text>\n",
       "</g>\n",
       "<!-- 6735196000 -->\n",
       "<g class=\"node\" id=\"node2\">\n",
       "<title>6735196000</title>\n",
       "<polygon fill=\"none\" points=\"71.1655,-219.5 71.1655,-255.5 243.0933,-255.5 243.0933,-219.5 71.1655,-219.5\" stroke=\"#000000\"/>\n",
       "<text fill=\"#000000\" font-family=\"Times,serif\" font-size=\"14.00\" text-anchor=\"middle\" x=\"157.1294\" y=\"-233.3\">EMBEDDING: Embedding</text>\n",
       "</g>\n",
       "<!-- 5238585104&#45;&gt;6735196000 -->\n",
       "<g class=\"edge\" id=\"edge1\">\n",
       "<title>5238585104-&gt;6735196000</title>\n",
       "<path d=\"M157.1294,-292.4551C157.1294,-284.3828 157.1294,-274.6764 157.1294,-265.6817\" fill=\"none\" stroke=\"#000000\"/>\n",
       "<polygon fill=\"#000000\" points=\"160.6295,-265.5903 157.1294,-255.5904 153.6295,-265.5904 160.6295,-265.5903\" stroke=\"#000000\"/>\n",
       "</g>\n",
       "<!-- 6636169032 -->\n",
       "<g class=\"node\" id=\"node3\">\n",
       "<title>6636169032</title>\n",
       "<polygon fill=\"none\" points=\"0,-146.5 0,-182.5 314.2588,-182.5 314.2588,-146.5 0,-146.5\" stroke=\"#000000\"/>\n",
       "<text fill=\"#000000\" font-family=\"Times,serif\" font-size=\"14.00\" text-anchor=\"middle\" x=\"157.1294\" y=\"-160.3\">ENCODER_BiLSTM(lstm_1): Bidirectional(LSTM)</text>\n",
       "</g>\n",
       "<!-- 6735196000&#45;&gt;6636169032 -->\n",
       "<g class=\"edge\" id=\"edge2\">\n",
       "<title>6735196000-&gt;6636169032</title>\n",
       "<path d=\"M157.1294,-219.4551C157.1294,-211.3828 157.1294,-201.6764 157.1294,-192.6817\" fill=\"none\" stroke=\"#000000\"/>\n",
       "<polygon fill=\"#000000\" points=\"160.6295,-192.5903 157.1294,-182.5904 153.6295,-192.5904 160.6295,-192.5903\" stroke=\"#000000\"/>\n",
       "</g>\n",
       "<!-- 6636101584 -->\n",
       "<g class=\"node\" id=\"node4\">\n",
       "<title>6636101584</title>\n",
       "<polygon fill=\"none\" points=\"73.1172,-73.5 73.1172,-109.5 241.1416,-109.5 241.1416,-73.5 73.1172,-73.5\" stroke=\"#000000\"/>\n",
       "<text fill=\"#000000\" font-family=\"Times,serif\" font-size=\"14.00\" text-anchor=\"middle\" x=\"157.1294\" y=\"-87.3\">REPEATER: RepeatVector</text>\n",
       "</g>\n",
       "<!-- 6636169032&#45;&gt;6636101584 -->\n",
       "<g class=\"edge\" id=\"edge3\">\n",
       "<title>6636169032-&gt;6636101584</title>\n",
       "<path d=\"M157.1294,-146.4551C157.1294,-138.3828 157.1294,-128.6764 157.1294,-119.6817\" fill=\"none\" stroke=\"#000000\"/>\n",
       "<polygon fill=\"#000000\" points=\"160.6295,-119.5903 157.1294,-109.5904 153.6295,-119.5904 160.6295,-119.5903\" stroke=\"#000000\"/>\n",
       "</g>\n",
       "<!-- 5455264064 -->\n",
       "<g class=\"node\" id=\"node5\">\n",
       "<title>5455264064</title>\n",
       "<polygon fill=\"none\" points=\"0,-.5 0,-36.5 314.2588,-36.5 314.2588,-.5 0,-.5\" stroke=\"#000000\"/>\n",
       "<text fill=\"#000000\" font-family=\"Times,serif\" font-size=\"14.00\" text-anchor=\"middle\" x=\"157.1294\" y=\"-14.3\">DECODER_BiLSTM(lstm_2): Bidirectional(LSTM)</text>\n",
       "</g>\n",
       "<!-- 6636101584&#45;&gt;5455264064 -->\n",
       "<g class=\"edge\" id=\"edge4\">\n",
       "<title>6636101584-&gt;5455264064</title>\n",
       "<path d=\"M157.1294,-73.4551C157.1294,-65.3828 157.1294,-55.6764 157.1294,-46.6817\" fill=\"none\" stroke=\"#000000\"/>\n",
       "<polygon fill=\"#000000\" points=\"160.6295,-46.5903 157.1294,-36.5904 153.6295,-46.5904 160.6295,-46.5903\" stroke=\"#000000\"/>\n",
       "</g>\n",
       "</g>\n",
       "</svg>"
      ],
      "text/plain": [
       "<IPython.core.display.SVG object>"
      ]
     },
     "execution_count": 77,
     "metadata": {},
     "output_type": "execute_result"
    }
   ],
   "source": [
    "autoencoder.summary()\n",
    "SVG(model_to_dot(autoencoder).create(prog='dot', format='svg'))"
   ]
  },
  {
   "cell_type": "markdown",
   "metadata": {},
   "source": [
    "## Train"
   ]
  },
  {
   "cell_type": "code",
   "execution_count": 78,
   "metadata": {
    "collapsed": true
   },
   "outputs": [],
   "source": [
    "filepath = '/Users/lizhn7/Downloads/DATA/chinese_news/sent2vec/cp_logs/weights.{epoch:03d}-{val_loss:.6f}.hdf5'\n",
    "log_string = '/Users/lizhn7/Downloads/DATA/chinese_news/sent2vec/tb_logs/s2v'\n",
    "checkpoint = ModelCheckpoint(filepath, monitor='val_loss', verbose=1, save_best_only=True)\n",
    "tensorboard = TensorBoard(log_dir=log_string) "
   ]
  },
  {
   "cell_type": "code",
   "execution_count": 79,
   "metadata": {
    "scrolled": true
   },
   "outputs": [
    {
     "name": "stdout",
     "output_type": "stream",
     "text": [
      "Train on 17282 samples, validate on 3050 samples\n",
      "Epoch 1/36\n",
      "17280/17282 [============================>.] - ETA: 0s - loss: 0.0059 Epoch 00000: val_loss improved from inf to 0.00252, saving model to /Users/lizhn7/Downloads/DATA/chinese_news/sent2vec/cp_logs/weights.000-0.002517.hdf5\n",
      "17282/17282 [==============================] - 2854s - loss: 0.0059 - val_loss: 0.0025\n",
      "Epoch 2/36\n",
      "17280/17282 [============================>.] - ETA: 0s - loss: 0.0057Epoch 00001: val_loss did not improve\n",
      "17282/17282 [==============================] - 2685s - loss: 0.0057 - val_loss: 0.0026\n",
      "Epoch 3/36\n",
      "17280/17282 [============================>.] - ETA: 0s - loss: 0.0055Epoch 00002: val_loss did not improve\n",
      "17282/17282 [==============================] - 2615s - loss: 0.0055 - val_loss: 0.0030\n",
      "Epoch 4/36\n",
      "17280/17282 [============================>.] - ETA: 0s - loss: 0.0040Epoch 00003: val_loss improved from 0.00252 to 0.00220, saving model to /Users/lizhn7/Downloads/DATA/chinese_news/sent2vec/cp_logs/weights.003-0.002199.hdf5\n",
      "17282/17282 [==============================] - 2610s - loss: 0.0040 - val_loss: 0.0022\n",
      "Epoch 5/36\n",
      "17280/17282 [============================>.] - ETA: 0s - loss: 0.0029Epoch 00004: val_loss did not improve\n",
      "17282/17282 [==============================] - 2619s - loss: 0.0029 - val_loss: 0.0025\n",
      "Epoch 6/36\n",
      "17280/17282 [============================>.] - ETA: 0s - loss: 0.0024Epoch 00005: val_loss did not improve\n",
      "17282/17282 [==============================] - 2613s - loss: 0.0024 - val_loss: 0.0023\n",
      "Epoch 7/36\n",
      "17280/17282 [============================>.] - ETA: 0s - loss: 0.0023Epoch 00006: val_loss did not improve\n",
      "17282/17282 [==============================] - 2611s - loss: 0.0023 - val_loss: 0.0022\n",
      "Epoch 8/36\n",
      "17280/17282 [============================>.] - ETA: 0s - loss: 0.0022Epoch 00007: val_loss improved from 0.00220 to 0.00206, saving model to /Users/lizhn7/Downloads/DATA/chinese_news/sent2vec/cp_logs/weights.007-0.002062.hdf5\n",
      "17282/17282 [==============================] - 2613s - loss: 0.0022 - val_loss: 0.0021\n",
      "Epoch 9/36\n",
      "17280/17282 [============================>.] - ETA: 0s - loss: 0.0021Epoch 00008: val_loss did not improve\n",
      "17282/17282 [==============================] - 2625s - loss: 0.0021 - val_loss: 0.0021\n",
      "Epoch 10/36\n",
      "17280/17282 [============================>.] - ETA: 0s - loss: 0.0020Epoch 00009: val_loss did not improve\n",
      "17282/17282 [==============================] - 2632s - loss: 0.0020 - val_loss: 0.0023\n",
      "Epoch 11/36\n",
      "17280/17282 [============================>.] - ETA: 0s - loss: 0.0020Epoch 00010: val_loss did not improve\n",
      "17282/17282 [==============================] - 2613s - loss: 0.0020 - val_loss: 0.0023\n",
      "Epoch 12/36\n",
      "17280/17282 [============================>.] - ETA: 0s - loss: 0.0020Epoch 00011: val_loss did not improve\n",
      "17282/17282 [==============================] - 2612s - loss: 0.0020 - val_loss: 0.0022\n",
      "Epoch 13/36\n",
      "17280/17282 [============================>.] - ETA: 0s - loss: 0.0020 Epoch 00012: val_loss did not improve\n",
      "17282/17282 [==============================] - 3032s - loss: 0.0020 - val_loss: 0.0024\n",
      "Epoch 14/36\n",
      "17280/17282 [============================>.] - ETA: 0s - loss: 0.0020 Epoch 00013: val_loss did not improve\n",
      "17282/17282 [==============================] - 2950s - loss: 0.0020 - val_loss: 0.0021\n",
      "Epoch 15/36\n",
      "17280/17282 [============================>.] - ETA: 0s - loss: 0.0019Epoch 00014: val_loss did not improve\n",
      "17282/17282 [==============================] - 2696s - loss: 0.0019 - val_loss: 0.0028\n",
      "Epoch 16/36\n",
      "17280/17282 [============================>.] - ETA: 0s - loss: 0.0020Epoch 00015: val_loss improved from 0.00206 to 0.00191, saving model to /Users/lizhn7/Downloads/DATA/chinese_news/sent2vec/cp_logs/weights.015-0.001905.hdf5\n",
      "17282/17282 [==============================] - 2691s - loss: 0.0020 - val_loss: 0.0019\n",
      "Epoch 17/36\n",
      "17280/17282 [============================>.] - ETA: 0s - loss: 0.0019Epoch 00016: val_loss did not improve\n",
      "17282/17282 [==============================] - 2698s - loss: 0.0019 - val_loss: 0.0025\n",
      "Epoch 18/36\n",
      "17280/17282 [============================>.] - ETA: 0s - loss: 0.0019Epoch 00017: val_loss did not improve\n",
      "17282/17282 [==============================] - 2702s - loss: 0.0019 - val_loss: 0.0034\n",
      "Epoch 19/36\n",
      "17280/17282 [============================>.] - ETA: 0s - loss: 0.0019Epoch 00018: val_loss did not improve\n",
      "17282/17282 [==============================] - 2696s - loss: 0.0019 - val_loss: 0.0022\n",
      "Epoch 20/36\n",
      "17280/17282 [============================>.] - ETA: 0s - loss: 0.0019Epoch 00019: val_loss did not improve\n",
      "17282/17282 [==============================] - 2698s - loss: 0.0019 - val_loss: 0.0021\n",
      "Epoch 21/36\n",
      "17280/17282 [============================>.] - ETA: 0s - loss: 0.0019Epoch 00020: val_loss did not improve\n",
      "17282/17282 [==============================] - 2705s - loss: 0.0019 - val_loss: 0.0021\n",
      "Epoch 22/36\n",
      "17280/17282 [============================>.] - ETA: 0s - loss: 0.0018 Epoch 00021: val_loss improved from 0.00191 to 0.00178, saving model to /Users/lizhn7/Downloads/DATA/chinese_news/sent2vec/cp_logs/weights.021-0.001780.hdf5\n",
      "17282/17282 [==============================] - 2800s - loss: 0.0018 - val_loss: 0.0018\n",
      "Epoch 23/36\n",
      "17280/17282 [============================>.] - ETA: 0s - loss: 0.0017 Epoch 00022: val_loss improved from 0.00178 to 0.00174, saving model to /Users/lizhn7/Downloads/DATA/chinese_news/sent2vec/cp_logs/weights.022-0.001741.hdf5\n",
      "17282/17282 [==============================] - 2862s - loss: 0.0017 - val_loss: 0.0017\n",
      "Epoch 24/36\n",
      "17280/17282 [============================>.] - ETA: 0s - loss: 0.0017 Epoch 00023: val_loss did not improve\n",
      "17282/17282 [==============================] - 2799s - loss: 0.0017 - val_loss: 0.0019\n",
      "Epoch 25/36\n",
      "17280/17282 [============================>.] - ETA: 0s - loss: 0.0017 Epoch 00024: val_loss did not improve\n",
      "17282/17282 [==============================] - 2861s - loss: 0.0017 - val_loss: 0.0020\n",
      "Epoch 26/36\n",
      "17280/17282 [============================>.] - ETA: 0s - loss: 0.0017Epoch 00025: val_loss improved from 0.00174 to 0.00158, saving model to /Users/lizhn7/Downloads/DATA/chinese_news/sent2vec/cp_logs/weights.025-0.001579.hdf5\n",
      "17282/17282 [==============================] - 2625s - loss: 0.0017 - val_loss: 0.0016\n",
      "Epoch 27/36\n",
      "17280/17282 [============================>.] - ETA: 0s - loss: 0.0017Epoch 00026: val_loss did not improve\n",
      "17282/17282 [==============================] - 2683s - loss: 0.0017 - val_loss: 0.0016\n",
      "Epoch 28/36\n",
      "17280/17282 [============================>.] - ETA: 0s - loss: 0.0016Epoch 00027: val_loss did not improve\n",
      "17282/17282 [==============================] - 2674s - loss: 0.0016 - val_loss: 0.0016\n",
      "Epoch 29/36\n",
      "17280/17282 [============================>.] - ETA: 0s - loss: 0.0016Epoch 00028: val_loss improved from 0.00158 to 0.00157, saving model to /Users/lizhn7/Downloads/DATA/chinese_news/sent2vec/cp_logs/weights.028-0.001567.hdf5\n",
      "17282/17282 [==============================] - 2679s - loss: 0.0016 - val_loss: 0.0016\n",
      "Epoch 30/36\n",
      "17280/17282 [============================>.] - ETA: 0s - loss: 0.0016Epoch 00029: val_loss improved from 0.00157 to 0.00156, saving model to /Users/lizhn7/Downloads/DATA/chinese_news/sent2vec/cp_logs/weights.029-0.001561.hdf5\n",
      "17282/17282 [==============================] - 2730s - loss: 0.0016 - val_loss: 0.0016\n",
      "Epoch 31/36\n",
      "17280/17282 [============================>.] - ETA: 0s - loss: 0.0016 Epoch 00030: val_loss did not improve\n",
      "17282/17282 [==============================] - 2948s - loss: 0.0016 - val_loss: 0.0016\n",
      "Epoch 32/36\n",
      "17280/17282 [============================>.] - ETA: 0s - loss: 0.0016 Epoch 00031: val_loss did not improve\n",
      "17282/17282 [==============================] - 3695s - loss: 0.0016 - val_loss: 0.0016\n",
      "Epoch 33/36\n",
      "17280/17282 [============================>.] - ETA: 0s - loss: 0.0016 Epoch 00032: val_loss did not improve\n",
      "17282/17282 [==============================] - 2798s - loss: 0.0016 - val_loss: 0.0026\n",
      "Epoch 34/36\n",
      "17280/17282 [============================>.] - ETA: 0s - loss: 0.0016Epoch 00033: val_loss improved from 0.00156 to 0.00156, saving model to /Users/lizhn7/Downloads/DATA/chinese_news/sent2vec/cp_logs/weights.033-0.001558.hdf5\n"
     ]
    },
    {
     "name": "stdout",
     "output_type": "stream",
     "text": [
      "17282/17282 [==============================] - 2690s - loss: 0.0016 - val_loss: 0.0016\n",
      "Epoch 35/36\n",
      "17280/17282 [============================>.] - ETA: 0s - loss: 0.0016Epoch 00034: val_loss did not improve\n",
      "17282/17282 [==============================] - 2677s - loss: 0.0016 - val_loss: 0.0016\n",
      "Epoch 36/36\n",
      "17280/17282 [============================>.] - ETA: 0s - loss: 0.0016Epoch 00035: val_loss did not improve\n",
      "17282/17282 [==============================] - 2674s - loss: 0.0016 - val_loss: 0.0017\n"
     ]
    }
   ],
   "source": [
    "history = autoencoder.fit(xTrain,\n",
    "                    yTrain,\n",
    "                    batch_size=BATCH_SIZE,\n",
    "                    epochs=NUM_EPOCHS, \n",
    "                    verbose=1,\n",
    "                    callbacks=[checkpoint, tensorboard],\n",
    "                    validation_data=(xVal, yVal), \n",
    "                    shuffle=True)"
   ]
  },
  {
   "cell_type": "markdown",
   "metadata": {
    "heading_collapsed": true
   },
   "source": [
    "## Train (Generator)"
   ]
  },
  {
   "cell_type": "code",
   "execution_count": 34,
   "metadata": {
    "collapsed": true,
    "hidden": true
   },
   "outputs": [],
   "source": [
    "def sentence_generator(X, embeddings, batch_size):\n",
    "    \"\"\"\n",
    "    Generate batches\n",
    "    \"\"\"\n",
    "    while True:\n",
    "        # loop once per epoch\n",
    "        num_recs = X.shape[0]\n",
    "        indices = np.random.permutation(np.arange(num_recs))\n",
    "        num_batches = num_recs // batch_size\n",
    "        for bid in range(num_batches):\n",
    "            sids = indices[bid * batch_size : (bid + 1) * batch_size]\n",
    "            Xbatch = embeddings[X[sids, :]]\n",
    "            yield Xbatch, Xbatch"
   ]
  },
  {
   "cell_type": "code",
   "execution_count": 35,
   "metadata": {
    "collapsed": true,
    "hidden": true
   },
   "outputs": [],
   "source": [
    "# define training and test generators\n",
    "train_gen = sentence_generator(xTrain, embedding, BATCH_SIZE)\n",
    "val_gen = sentence_generator(xVal, embedding, BATCH_SIZE)"
   ]
  },
  {
   "cell_type": "code",
   "execution_count": 36,
   "metadata": {
    "collapsed": true,
    "hidden": true
   },
   "outputs": [],
   "source": [
    "filepath = '/Users/lizhn7/Downloads/DATA/chinese_news/sent2vec/cp_logs/weights.{epoch:03d}-{val_loss:.6f}.hdf5'\n",
    "log_string = '/Users/lizhn7/Downloads/DATA/chinese_news/sent2vec/tb_logs/s2v'\n",
    "checkpoint = ModelCheckpoint(filepath, monitor='val_loss', verbose=1, save_best_only=True)\n",
    "tensorboard = TensorBoard(log_dir=log_string) "
   ]
  },
  {
   "cell_type": "code",
   "execution_count": 37,
   "metadata": {
    "hidden": true,
    "scrolled": true
   },
   "outputs": [
    {
     "name": "stdout",
     "output_type": "stream",
     "text": [
      "Epoch 1/36\n",
      "13/14 [==========================>...] - ETA: 9s - loss: 0.0054 Epoch 00000: val_loss improved from inf to 0.00303, saving model to /Users/lizhn7/Downloads/DATA/chinese_news/sent2vec/cp_logs/weights.000-0.003033.hdf5\n",
      "14/14 [==============================] - 146s - loss: 0.0052 - val_loss: 0.0030\n",
      "Epoch 2/36\n",
      "13/14 [==========================>...] - ETA: 9s - loss: 0.0030 Epoch 00001: val_loss did not improve\n",
      "14/14 [==============================] - 146s - loss: 0.0030 - val_loss: 0.0030\n",
      "Epoch 3/36\n",
      "13/14 [==========================>...] - ETA: 9s - loss: 0.0030 Epoch 00002: val_loss improved from 0.00303 to 0.00283, saving model to /Users/lizhn7/Downloads/DATA/chinese_news/sent2vec/cp_logs/weights.002-0.002832.hdf5\n",
      "14/14 [==============================] - 146s - loss: 0.0030 - val_loss: 0.0028\n",
      "Epoch 4/36\n",
      "13/14 [==========================>...] - ETA: 9s - loss: 0.0029 Epoch 00003: val_loss did not improve\n",
      "14/14 [==============================] - 146s - loss: 0.0029 - val_loss: 0.0029\n",
      "Epoch 5/36\n",
      "13/14 [==========================>...] - ETA: 9s - loss: 0.0028 Epoch 00004: val_loss did not improve\n",
      "14/14 [==============================] - 145s - loss: 0.0028 - val_loss: 0.0029\n",
      "Epoch 6/36\n",
      "13/14 [==========================>...] - ETA: 9s - loss: 0.0029 Epoch 00005: val_loss improved from 0.00283 to 0.00268, saving model to /Users/lizhn7/Downloads/DATA/chinese_news/sent2vec/cp_logs/weights.005-0.002684.hdf5\n",
      "14/14 [==============================] - 147s - loss: 0.0029 - val_loss: 0.0027\n",
      "Epoch 7/36\n",
      "13/14 [==========================>...] - ETA: 9s - loss: 0.0028 Epoch 00006: val_loss did not improve\n",
      "14/14 [==============================] - 145s - loss: 0.0028 - val_loss: 0.0028\n",
      "Epoch 8/36\n",
      "13/14 [==========================>...] - ETA: 9s - loss: 0.0026 Epoch 00007: val_loss improved from 0.00268 to 0.00261, saving model to /Users/lizhn7/Downloads/DATA/chinese_news/sent2vec/cp_logs/weights.007-0.002606.hdf5\n",
      "14/14 [==============================] - 146s - loss: 0.0026 - val_loss: 0.0026\n",
      "Epoch 9/36\n",
      "13/14 [==========================>...] - ETA: 9s - loss: 0.0028 Epoch 00008: val_loss improved from 0.00261 to 0.00254, saving model to /Users/lizhn7/Downloads/DATA/chinese_news/sent2vec/cp_logs/weights.008-0.002542.hdf5\n",
      "14/14 [==============================] - 145s - loss: 0.0028 - val_loss: 0.0025\n",
      "Epoch 10/36\n",
      "13/14 [==========================>...] - ETA: 9s - loss: 0.0026 Epoch 00009: val_loss did not improve\n",
      "14/14 [==============================] - 147s - loss: 0.0026 - val_loss: 0.0026\n",
      "Epoch 11/36\n",
      "13/14 [==========================>...] - ETA: 9s - loss: 0.0027 Epoch 00010: val_loss did not improve\n",
      "14/14 [==============================] - 146s - loss: 0.0027 - val_loss: 0.0032\n",
      "Epoch 12/36\n",
      "13/14 [==========================>...] - ETA: 9s - loss: 0.0027 Epoch 00011: val_loss did not improve\n",
      "14/14 [==============================] - 146s - loss: 0.0027 - val_loss: 0.0029\n",
      "Epoch 13/36\n",
      "13/14 [==========================>...] - ETA: 9s - loss: 0.0026 Epoch 00012: val_loss did not improve\n",
      "14/14 [==============================] - 146s - loss: 0.0026 - val_loss: 0.0027\n",
      "Epoch 14/36\n",
      "13/14 [==========================>...] - ETA: 9s - loss: 0.0027 Epoch 00013: val_loss did not improve\n",
      "14/14 [==============================] - 147s - loss: 0.0026 - val_loss: 0.0026\n",
      "Epoch 15/36\n",
      "13/14 [==========================>...] - ETA: 9s - loss: 0.0026 Epoch 00014: val_loss did not improve\n",
      "14/14 [==============================] - 146s - loss: 0.0027 - val_loss: 0.0027\n",
      "Epoch 16/36\n",
      "13/14 [==========================>...] - ETA: 9s - loss: 0.0070 Epoch 00015: val_loss improved from 0.00254 to 0.00250, saving model to /Users/lizhn7/Downloads/DATA/chinese_news/sent2vec/cp_logs/weights.015-0.002503.hdf5\n",
      "14/14 [==============================] - 145s - loss: 0.0066 - val_loss: 0.0025\n",
      "Epoch 17/36\n",
      "13/14 [==========================>...] - ETA: 9s - loss: 0.0025 Epoch 00016: val_loss improved from 0.00250 to 0.00234, saving model to /Users/lizhn7/Downloads/DATA/chinese_news/sent2vec/cp_logs/weights.016-0.002340.hdf5\n",
      "14/14 [==============================] - 144s - loss: 0.0025 - val_loss: 0.0023\n",
      "Epoch 18/36\n",
      "13/14 [==========================>...] - ETA: 9s - loss: 0.0580 Epoch 00017: val_loss did not improve\n",
      "14/14 [==============================] - 146s - loss: 0.0541 - val_loss: 0.0025\n",
      "Epoch 19/36\n",
      "13/14 [==========================>...] - ETA: 9s - loss: 0.0025 Epoch 00018: val_loss did not improve\n",
      "14/14 [==============================] - 147s - loss: 0.0025 - val_loss: 0.0025\n",
      "Epoch 20/36\n",
      "13/14 [==========================>...] - ETA: 9s - loss: 0.0025 Epoch 00019: val_loss did not improve\n",
      "14/14 [==============================] - 147s - loss: 0.0025 - val_loss: 0.0025\n",
      "Epoch 21/36\n",
      "13/14 [==========================>...] - ETA: 9s - loss: 0.0025 Epoch 00020: val_loss did not improve\n",
      "14/14 [==============================] - 145s - loss: 0.0025 - val_loss: 0.0025\n",
      "Epoch 22/36\n",
      "13/14 [==========================>...] - ETA: 9s - loss: 0.0025 Epoch 00021: val_loss did not improve\n",
      "14/14 [==============================] - 145s - loss: 0.0025 - val_loss: 0.0024\n",
      "Epoch 23/36\n",
      "13/14 [==========================>...] - ETA: 9s - loss: 0.0025 Epoch 00022: val_loss did not improve\n",
      "14/14 [==============================] - 147s - loss: 0.0025 - val_loss: 0.0025\n",
      "Epoch 24/36\n",
      "13/14 [==========================>...] - ETA: 9s - loss: 0.0025 Epoch 00023: val_loss did not improve\n",
      "14/14 [==============================] - 146s - loss: 0.0025 - val_loss: 0.0025\n",
      "Epoch 25/36\n",
      "13/14 [==========================>...] - ETA: 9s - loss: 0.0026 Epoch 00024: val_loss did not improve\n",
      "14/14 [==============================] - 145s - loss: 0.0026 - val_loss: 0.0025\n",
      "Epoch 26/36\n",
      "13/14 [==========================>...] - ETA: 9s - loss: 0.0027 Epoch 00025: val_loss did not improve\n",
      "14/14 [==============================] - 147s - loss: 0.0027 - val_loss: 0.0025\n",
      "Epoch 27/36\n",
      "13/14 [==========================>...] - ETA: 9s - loss: 0.0025 Epoch 00026: val_loss did not improve\n",
      "14/14 [==============================] - 147s - loss: 0.0025 - val_loss: 0.0025\n",
      "Epoch 28/36\n",
      "13/14 [==========================>...] - ETA: 9s - loss: 0.0027 Epoch 00027: val_loss did not improve\n",
      "14/14 [==============================] - 147s - loss: 0.0027 - val_loss: 0.0025\n",
      "Epoch 29/36\n",
      "13/14 [==========================>...] - ETA: 9s - loss: 0.0025 Epoch 00028: val_loss did not improve\n",
      "14/14 [==============================] - 145s - loss: 0.0025 - val_loss: 0.0025\n",
      "Epoch 30/36\n",
      "13/14 [==========================>...] - ETA: 9s - loss: 0.0025 Epoch 00029: val_loss did not improve\n",
      "14/14 [==============================] - 146s - loss: 0.0025 - val_loss: 0.0027\n",
      "Epoch 31/36\n",
      "13/14 [==========================>...] - ETA: 9s - loss: 0.0622 Epoch 00030: val_loss did not improve\n",
      "14/14 [==============================] - 147s - loss: 0.0580 - val_loss: 0.0025\n",
      "Epoch 32/36\n",
      "13/14 [==========================>...] - ETA: 9s - loss: 0.0024 Epoch 00031: val_loss improved from 0.00234 to 0.00233, saving model to /Users/lizhn7/Downloads/DATA/chinese_news/sent2vec/cp_logs/weights.031-0.002334.hdf5\n",
      "14/14 [==============================] - 146s - loss: 0.0024 - val_loss: 0.0023\n",
      "Epoch 33/36\n",
      "13/14 [==========================>...] - ETA: 9s - loss: 0.0023 Epoch 00032: val_loss improved from 0.00233 to 0.00225, saving model to /Users/lizhn7/Downloads/DATA/chinese_news/sent2vec/cp_logs/weights.032-0.002253.hdf5\n",
      "14/14 [==============================] - 146s - loss: 0.0023 - val_loss: 0.0023\n",
      "Epoch 34/36\n",
      "13/14 [==========================>...] - ETA: 9s - loss: 0.0024 Epoch 00033: val_loss improved from 0.00225 to 0.00217, saving model to /Users/lizhn7/Downloads/DATA/chinese_news/sent2vec/cp_logs/weights.033-0.002166.hdf5\n",
      "14/14 [==============================] - 145s - loss: 0.0024 - val_loss: 0.0022\n",
      "Epoch 35/36\n",
      "13/14 [==========================>...] - ETA: 9s - loss: 0.0027 Epoch 00034: val_loss did not improve\n",
      "14/14 [==============================] - 146s - loss: 0.0027 - val_loss: 0.0024\n",
      "Epoch 36/36\n",
      "13/14 [==========================>...] - ETA: 9s - loss: 0.0024 Epoch 00035: val_loss did not improve\n",
      "14/14 [==============================] - 147s - loss: 0.0024 - val_loss: 0.0024\n"
     ]
    }
   ],
   "source": [
    "history = autoencoder.fit_generator(train_gen, \n",
    "                                    steps_per_epoch=NUM_TRAIN_STEPS,\n",
    "                                    epochs=NUM_EPOCHS,\n",
    "                                    callbacks=[checkpoint, tensorboard],\n",
    "                                    validation_data=val_gen,\n",
    "                                    validation_steps=NUM_VAL_STEPS)"
   ]
  },
  {
   "cell_type": "markdown",
   "metadata": {},
   "source": [
    "## plot results"
   ]
  },
  {
   "cell_type": "code",
   "execution_count": 80,
   "metadata": {},
   "outputs": [
    {
     "data": {
      "image/png": "[encoded data removed]",
      "text/plain": [
       "<matplotlib.figure.Figure at 0x190883470>"
      ]
     },
     "metadata": {
      "image/png": {
       "height": 263,
       "width": 400
      }
     },
     "output_type": "display_data"
    }
   ],
   "source": [
    "plt.plot(history.history[\"loss\"], color=\"g\", label=\"train\")\n",
    "plt.plot(history.history[\"val_loss\"], color=\"b\", label=\"validation\")\n",
    "plt.ylabel(\"loss (MSE)\")\n",
    "plt.xlabel(\"epochs\")\n",
    "plt.legend(loc=\"best\")\n",
    "plt.show()"
   ]
  },
  {
   "cell_type": "markdown",
   "metadata": {},
   "source": [
    "# Evaluate"
   ]
  },
  {
   "cell_type": "code",
   "execution_count": 81,
   "metadata": {
    "collapsed": true
   },
   "outputs": [],
   "source": [
    "def cosine_similarity(x, y):\n",
    "    \"\"\"\n",
    "    Compute_cosine_similarity\n",
    "    \"\"\"\n",
    "    return np.dot(x, y) / (np.linalg.norm(x, 2) * np.linalg.norm(y, 2))"
   ]
  },
  {
   "cell_type": "code",
   "execution_count": 145,
   "metadata": {
    "collapsed": true
   },
   "outputs": [],
   "source": [
    "K.clear_session()\n",
    "inputs = Input(shape=(MAX_LEN, EMBEDDING_SIZE), name='NEW_INPUT') \n",
    "encoded = Bidirectional(LSTM(LATENT_SIZE, return_sequences=False, implementation=0), merge_mode='sum', name='ENCODER_BiLSTM')(inputs)\n",
    "encoder = Model(inputs=inputs, outputs=encoded)"
   ]
  },
  {
   "cell_type": "code",
   "execution_count": 146,
   "metadata": {},
   "outputs": [],
   "source": [
    "filename = '/Users/lizhn7/Downloads/DATA/chinese_news/sent2vec/cp_logs/weights.029-0.001561.hdf5'\n",
    "encoder.load_weights(filename, by_name=True)"
   ]
  },
  {
   "cell_type": "code",
   "execution_count": 135,
   "metadata": {},
   "outputs": [
    {
     "name": "stdout",
     "output_type": "stream",
     "text": [
      "_________________________________________________________________\n",
      "Layer (type)                 Output Shape              Param #   \n",
      "=================================================================\n",
      "NEW_INPUT (InputLayer)       (None, 150, 256)          0         \n",
      "_________________________________________________________________\n",
      "ENCODER_BiLSTM (Bidirectiona (None, 512)               3149824   \n",
      "=================================================================\n",
      "Total params: 3,149,824\n",
      "Trainable params: 3,149,824\n",
      "Non-trainable params: 0\n",
      "_________________________________________________________________\n"
     ]
    }
   ],
   "source": [
    "encoder.summary()    "
   ]
  },
  {
   "cell_type": "code",
   "execution_count": 150,
   "metadata": {},
   "outputs": [],
   "source": [
    "filename = '/Users/lizhn7/Downloads/DATA/chinese_news/sent2vec/cp_logs/weights.029-0.001561.hdf5'\n",
    "autoencoder.load_weights(filename)"
   ]
  },
  {
   "cell_type": "code",
   "execution_count": 141,
   "metadata": {},
   "outputs": [
    {
     "name": "stdout",
     "output_type": "stream",
     "text": [
      "3050/3050 [==============================] - 181s   \n"
     ]
    }
   ],
   "source": [
    "ytest_ = autoencoder.predict(xVal, verbose=1)"
   ]
  },
  {
   "cell_type": "code",
   "execution_count": 147,
   "metadata": {},
   "outputs": [
    {
     "name": "stdout",
     "output_type": "stream",
     "text": [
      "3050/3050 [==============================] - 107s   \n"
     ]
    }
   ],
   "source": [
    "Yvec = encoder.predict(ytest_, verbose=1)"
   ]
  },
  {
   "cell_type": "code",
   "execution_count": 151,
   "metadata": {
    "collapsed": true
   },
   "outputs": [],
   "source": [
    "encoder = Model(autoencoder.input, autoencoder.get_layer('ENCODER_BiLSTM').output)"
   ]
  },
  {
   "cell_type": "code",
   "execution_count": 152,
   "metadata": {},
   "outputs": [
    {
     "name": "stdout",
     "output_type": "stream",
     "text": [
      "3050/3050 [==============================] - 117s   \n"
     ]
    }
   ],
   "source": [
    "Xvec = encoder.predict(xVal, verbose=1)"
   ]
  },
  {
   "cell_type": "code",
   "execution_count": 155,
   "metadata": {},
   "outputs": [
    {
     "data": {
      "text/plain": [
       "((3050, 512), (3050, 512))"
      ]
     },
     "execution_count": 155,
     "metadata": {},
     "output_type": "execute_result"
    }
   ],
   "source": [
    "Xvec.shape, Yvec.shape"
   ]
  },
  {
   "cell_type": "code",
   "execution_count": 153,
   "metadata": {},
   "outputs": [
    {
     "name": "stdout",
     "output_type": "stream",
     "text": [
      "0.545465052128\n",
      "0.436189770699\n",
      "0.64122158289\n",
      "0.447041869164\n",
      "0.658116102219\n",
      "0.257238745689\n",
      "0.5196647048\n",
      "0.554069042206\n",
      "0.585988223553\n",
      "0.653025984764\n",
      "0.663603067398\n"
     ]
    },
    {
     "data": {
      "text/plain": [
       "<matplotlib.text.Text at 0x1382a7160>"
      ]
     },
     "execution_count": 153,
     "metadata": {},
     "output_type": "execute_result"
    },
    {
     "data": {
      "image/png": "[encoded data removed]",
      "text/plain": [
       "<matplotlib.figure.Figure at 0x1352a4898>"
      ]
     },
     "metadata": {
      "image/png": {
       "height": 263,
       "width": 387
      }
     },
     "output_type": "display_data"
    }
   ],
   "source": [
    "# compute difference between vector produced by original and autoencoded\n",
    "cosims = np.zeros((len(xVal)))\n",
    "\n",
    "for i in range(len(xVal)):\n",
    "    cosims[i] = cosine_similarity(Xvec[i], Yvec[i])\n",
    "    if i <= 10:\n",
    "        print(cosims[i])\n",
    "\n",
    "plt.hist(cosims, bins=10, normed=True)\n",
    "plt.xlabel(\"cosine similarity\")\n",
    "plt.ylabel(\"frequency\")"
   ]
  }
 ],
 "metadata": {
  "kernelspec": {
   "display_name": "Python 3",
   "language": "python",
   "name": "python3"
  },
  "language_info": {
   "codemirror_mode": {
    "name": "ipython",
    "version": 3
   },
   "file_extension": ".py",
   "mimetype": "text/x-python",
   "name": "python",
   "nbconvert_exporter": "python",
   "pygments_lexer": "ipython3",
   "version": "3.6.2"
  },
  "toc": {
   "colors": {
    "hover_highlight": "#DAA520",
    "navigate_num": "#000000",
    "navigate_text": "#333333",
    "running_highlight": "#FF0000",
    "selected_highlight": "#FFD700",
    "sidebar_border": "#EEEEEE",
    "wrapper_background": "#FFFFFF"
   },
   "moveMenuLeft": true,
   "nav_menu": {
    "height": "66px",
    "width": "252px"
   },
   "navigate_menu": true,
   "number_sections": true,
   "sideBar": true,
   "threshold": 4,
   "toc_cell": true,
   "toc_section_display": "block",
   "toc_window_display": false,
   "widenNotebook": false
  }
 },
 "nbformat": 4,
 "nbformat_minor": 2
}
