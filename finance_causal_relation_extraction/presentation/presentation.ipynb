{
 "cells": [
  {
   "cell_type": "markdown",
   "metadata": {
    "slideshow": {
     "slide_type": "skip"
    },
    "toc": "true"
   },
   "source": [
    "# Table of Contents\n",
    " <p><div class=\"lev1 toc-item\"><a href=\"#因果关系抽取\" data-toc-modified-id=\"因果关系抽取-1\"><span class=\"toc-item-num\">1&nbsp;&nbsp;</span>因果关系抽取</a></div><div class=\"lev1 toc-item\"><a href=\"#因果关系推理\" data-toc-modified-id=\"因果关系推理-2\"><span class=\"toc-item-num\">2&nbsp;&nbsp;</span>因果关系推理</a></div><div class=\"lev1 toc-item\"><a href=\"#因果关系抽取\" data-toc-modified-id=\"因果关系抽取-3\"><span class=\"toc-item-num\">3&nbsp;&nbsp;</span>因果关系抽取</a></div><div class=\"lev1 toc-item\"><a href=\"#Cause-Information-Extraction\" data-toc-modified-id=\"Cause-Information-Extraction-4\"><span class=\"toc-item-num\">4&nbsp;&nbsp;</span>Cause Information Extraction</a></div><div class=\"lev1 toc-item\"><a href=\"#因果关系推理\" data-toc-modified-id=\"因果关系推理-5\"><span class=\"toc-item-num\">5&nbsp;&nbsp;</span>因果关系推理</a></div><div class=\"lev1 toc-item\"><a href=\"#Commonsense-Causal-Reasoning\" data-toc-modified-id=\"Commonsense-Causal-Reasoning-6\"><span class=\"toc-item-num\">6&nbsp;&nbsp;</span>Commonsense Causal Reasoning</a></div><div class=\"lev1 toc-item\"><a href=\"#请老师和同学批评指正！谢谢-！\" data-toc-modified-id=\"请老师和同学批评指正！谢谢-！-7\"><span class=\"toc-item-num\">7&nbsp;&nbsp;</span>请老师和同学批评指正！谢谢 ！</a></div>"
   ]
  },
  {
   "cell_type": "markdown",
   "metadata": {
    "slideshow": {
     "slide_type": "slide"
    }
   },
   "source": [
    "<h1 align=\"center\">因果关系抽取</h1>\n",
    "<h1 align=\"center\">因果关系推理</h1>"
   ]
  },
  {
   "cell_type": "markdown",
   "metadata": {
    "slideshow": {
     "slide_type": "slide"
    }
   },
   "source": [
    "<h1 align=\"center\">因果关系抽取</h1>\n",
    "<h1 align=\"center\">Cause Information Extraction</h1>"
   ]
  },
  {
   "cell_type": "markdown",
   "metadata": {
    "slideshow": {
     "slide_type": "subslide"
    }
   },
   "source": [
    "- 从财经新闻中抽取关于公司／企业财务指标的因果关系\n",
    "\n",
    "    **1. **爬取新闻\n",
    "    \n",
    "    **2. **新闻分类\n",
    "    \n",
    "    **3. **因果抽取\n",
    "    \n",
    "    **4. **行业聚类？"
   ]
  },
  {
   "cell_type": "markdown",
   "metadata": {
    "slideshow": {
     "slide_type": "subslide"
    }
   },
   "source": [
    "- 为啥做？\n",
    "    \n",
    "    **1. **财务指标对投资者很重要\n",
    "    \n",
    "    **2. **引起财务指标变动的原因对投资者也很重要"
   ]
  },
  {
   "cell_type": "markdown",
   "metadata": {
    "slideshow": {
     "slide_type": "subslide"
    }
   },
   "source": [
    "- 从年报中抽取财务指标波动原因的例子1    \n",
    "                                        \n",
    "     ![alt text](https://raw.githubusercontent.com/Das-Boot/deep_alchemy_furnace/master/finance_causal_relation_extraction/presentation/1.png)"
   ]
  },
  {
   "cell_type": "markdown",
   "metadata": {
    "slideshow": {
     "slide_type": "subslide"
    }
   },
   "source": [
    "- 从年报中抽取财务指标波动原因的例子2    \n",
    "                                        \n",
    "     ![alt text](https://raw.githubusercontent.com/Das-Boot/deep_alchemy_furnace/master/finance_causal_relation_extraction/presentation/2.png)"
   ]
  },
  {
   "cell_type": "markdown",
   "metadata": {
    "slideshow": {
     "slide_type": "subslide"
    }
   },
   "source": [
    "- 数据\n",
    "\n",
    "```json\n",
    "{\"sentence\": \"KTLINTL(00442)发布公告，于截至2017年3月31日止年度，该公司收益5.48亿港元，同比减少19.9%；母公司拥有人应占亏损915.4万港元，同比减亏32%；毛利率19.5%，同比增长2.7个百分点；每股亏损0.06港元，不派息。公司称，收益减少主要由于俄罗斯销售额减少约9930万港元，此乃由于俄罗斯客户了解卢布贬值及经济前景恶化，且持续受到西方国家制裁的影响，导致俄罗斯家庭对经济状况感到忧虑，致使优质珠宝需求显着受压。\"}\n",
    "{\"sentence\": \"【中油工程：上半年净利同比增长368%】中油工程(600339)29日晚披露半年报，公司上半年营收190.2亿元，同比增长6.83%；净利5.75亿元，同比增长368%；净利增长主要系2016年度公司实施重大资产重组，主营业务由石化产品的生产和销售变更为石油工程设计、施工及总承包等相关工程建设业务。（证券时报网）\"}\n",
    "{\"sentence\": \"保税科技14日晚间发布半年报，报告期内，公司实现营业收入33,517.16万元，较上年同期22,961.36万元增长45.97%；归属于上市公司股东的净利润-8,691.94万元，较上年同期2,697.48万元减少422.22%。主要原因为子公司上海保港基金及张家港基金公司证券投资浮亏8,422.67万元；子公司扬州石化因涉讼计提预计负债1,707.88万元。\"}\n",
    "```"
   ]
  },
  {
   "cell_type": "markdown",
   "metadata": {
    "slideshow": {
     "slide_type": "slide"
    }
   },
   "source": [
    "<h1 align=\"center\">因果关系推理</h1>\n",
    "<h1 align=\"center\">Commonsense Causal Reasoning</h1>"
   ]
  },
  {
   "cell_type": "markdown",
   "metadata": {
    "slideshow": {
     "slide_type": "subslide"
    }
   },
   "source": [
    "- 例子\n",
    "\n",
    "     **Premise:** The man broke his toe. What was the CAUSE of this?\n",
    "    \n",
    "    **Alternative 1:** He got a hole in his sock. \n",
    "    \n",
    "    **Alternative 2:** He dropped a hammer on his foot.\n",
    "\n",
    "    **Premise:** I knocked on my neighbor's door. What happened as a RESULT?\n",
    "    \n",
    "    **Alternative 1:** My neighbor invited me in.\n",
    "    \n",
    "    **Alternative 2:** My neighbor left his house."
   ]
  },
  {
   "cell_type": "markdown",
   "metadata": {
    "slideshow": {
     "slide_type": "subslide"
    }
   },
   "source": [
    "- **Semi-supervised Multitask Learning for Sequence Labeling**\n",
    "\n",
    "     ![alt text](https://raw.githubusercontent.com/Das-Boot/deep_alchemy_furnace/master/finance_causal_relation_extraction/presentation/3.png)"
   ]
  },
  {
   "cell_type": "markdown",
   "metadata": {
    "slideshow": {
     "slide_type": "subslide"
    }
   },
   "source": [
    "- **Learning to Generate Reviews and Discovering Sentiment**\n",
    "   \n",
    "    **1. **情感分类常规思路：Embedding层+LSTM层+Dense层(Sigmoid激活)\n",
    "    \n",
    "    **2. **OpenAI思路：通过训练语言模型来获得预训练的LSTM层(剩下的Dense层参数不多，因此用少量标注样本就能够训练完备)"
   ]
  },
  {
   "cell_type": "markdown",
   "metadata": {
    "slideshow": {
     "slide_type": "slide"
    }
   },
   "source": [
    "<h1 align=\"center\">请老师和同学批评指正！谢谢 ！</h1>"
   ]
  }
 ],
 "metadata": {
  "celltoolbar": "Slideshow",
  "kernelspec": {
   "display_name": "Python 3",
   "language": "python",
   "name": "python3"
  },
  "language_info": {
   "codemirror_mode": {
    "name": "ipython",
    "version": 3
   },
   "file_extension": ".py",
   "mimetype": "text/x-python",
   "name": "python",
   "nbconvert_exporter": "python",
   "pygments_lexer": "ipython3",
   "version": "3.6.2"
  },
  "toc": {
   "colors": {
    "hover_highlight": "#DAA520",
    "navigate_num": "#000000",
    "navigate_text": "#333333",
    "running_highlight": "#FF0000",
    "selected_highlight": "#FFD700",
    "sidebar_border": "#EEEEEE",
    "wrapper_background": "#FFFFFF"
   },
   "moveMenuLeft": true,
   "nav_menu": {
    "height": "30px",
    "width": "252px"
   },
   "navigate_menu": true,
   "number_sections": false,
   "sideBar": true,
   "threshold": 4,
   "toc_cell": true,
   "toc_position": {
    "height": "814px",
    "left": "0px",
    "right": "auto",
    "top": "106px",
    "width": "212px"
   },
   "toc_section_display": "block",
   "toc_window_display": false,
   "widenNotebook": false
  }
 },
 "nbformat": 4,
 "nbformat_minor": 2
}
