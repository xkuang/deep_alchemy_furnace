{
 "cells": [
  {
   "cell_type": "markdown",
   "metadata": {
    "toc": "true"
   },
   "source": [
    "# Table of Contents\n",
    " <p><div class=\"lev1 toc-item\"><a href=\"#因果关系抽取\" data-toc-modified-id=\"因果关系抽取-1\"><span class=\"toc-item-num\">1&nbsp;&nbsp;</span>因果关系抽取</a></div><div class=\"lev1 toc-item\"><a href=\"#因果关系推理\" data-toc-modified-id=\"因果关系推理-2\"><span class=\"toc-item-num\">2&nbsp;&nbsp;</span>因果关系推理</a></div><div class=\"lev1 toc-item\"><a href=\"#因果关系抽取\" data-toc-modified-id=\"因果关系抽取-3\"><span class=\"toc-item-num\">3&nbsp;&nbsp;</span>因果关系抽取</a></div><div class=\"lev1 toc-item\"><a href=\"#Cause-Information-Extraction\" data-toc-modified-id=\"Cause-Information-Extraction-4\"><span class=\"toc-item-num\">4&nbsp;&nbsp;</span>Cause Information Extraction</a></div><div class=\"lev1 toc-item\"><a href=\"#因果关系推理\" data-toc-modified-id=\"因果关系推理-5\"><span class=\"toc-item-num\">5&nbsp;&nbsp;</span>因果关系推理</a></div><div class=\"lev1 toc-item\"><a href=\"#Commonsense-Causal-Reasoning\" data-toc-modified-id=\"Commonsense-Causal-Reasoning-6\"><span class=\"toc-item-num\">6&nbsp;&nbsp;</span>Commonsense Causal Reasoning</a></div><div class=\"lev1 toc-item\"><a href=\"#标注示例\" data-toc-modified-id=\"标注示例-7\"><span class=\"toc-item-num\">7&nbsp;&nbsp;</span>标注示例</a></div><div class=\"lev1 toc-item\"><a href=\"#怎么做？\" data-toc-modified-id=\"怎么做？-8\"><span class=\"toc-item-num\">8&nbsp;&nbsp;</span>怎么做？</a></div><div class=\"lev1 toc-item\"><a href=\"#模型\" data-toc-modified-id=\"模型-9\"><span class=\"toc-item-num\">9&nbsp;&nbsp;</span>模型</a></div><div class=\"lev1 toc-item\"><a href=\"#请老师和同学批评指正！谢谢-！\" data-toc-modified-id=\"请老师和同学批评指正！谢谢-！-10\"><span class=\"toc-item-num\">10&nbsp;&nbsp;</span>请老师和同学批评指正！谢谢 ！</a></div>"
   ]
  },
  {
   "cell_type": "markdown",
   "metadata": {
    "slideshow": {
     "slide_type": "slide"
    }
   },
   "source": [
    "<h1 align=\"center\">因果关系抽取</h1>\n",
    "<h1 align=\"center\">因果关系推理</h1>"
   ]
  },
  {
   "cell_type": "markdown",
   "metadata": {
    "slideshow": {
     "slide_type": "slide"
    }
   },
   "source": [
    "<h1 align=\"center\">因果关系抽取</h1>\n",
    "<h1 align=\"center\">Cause Information Extraction</h1>"
   ]
  },
  {
   "cell_type": "markdown",
   "metadata": {
    "slideshow": {
     "slide_type": "subslide"
    }
   },
   "source": [
    "- 从财经新闻中抽取关于公司／企业财务指标的因果关系\n",
    "\n",
    "    **1. **爬取新闻\n",
    "    \n",
    "    **2. **新闻分类\n",
    "    \n",
    "    **3. **因果抽取\n",
    "    \n",
    "    **4. **行业聚类？"
   ]
  },
  {
   "cell_type": "markdown",
   "metadata": {
    "slideshow": {
     "slide_type": "subslide"
    }
   },
   "source": [
    "- 为啥做？\n",
    "    \n",
    "    **1. **财务指标对投资者很重要\n",
    "    \n",
    "    **2. **引起财务指标变动的原因对投资者也很重要"
   ]
  },
  {
   "cell_type": "markdown",
   "metadata": {
    "slideshow": {
     "slide_type": "subslide"
    }
   },
   "source": [
    "- 从年报中抽取财务指标波动原因的例子1    \n",
    "                                        \n",
    "     ![alt text](https://raw.githubusercontent.com/Das-Boot/deep_alchemy_furnace/master/finance_causal_relation_extraction/presentation/1.png)"
   ]
  },
  {
   "cell_type": "markdown",
   "metadata": {
    "slideshow": {
     "slide_type": "subslide"
    }
   },
   "source": [
    "- 从年报中抽取财务指标波动原因的例子2    \n",
    "                                        \n",
    "     ![alt text](https://raw.githubusercontent.com/Das-Boot/deep_alchemy_furnace/master/finance_causal_relation_extraction/presentation/2.png)"
   ]
  },
  {
   "cell_type": "markdown",
   "metadata": {
    "slideshow": {
     "slide_type": "subslide"
    }
   },
   "source": [
    "- 数据\n",
    "\n",
    "```json\n",
    "{\"sentence\": \"KTLINTL(00442)发布公告，于截至2017年3月31日止年度，该公司收益5.48亿港元，同比减少19.9%；母公司拥有人应占亏损915.4万港元，同比减亏32%；毛利率19.5%，同比增长2.7个百分点；每股亏损0.06港元，不派息。公司称，收益减少主要由于俄罗斯销售额减少约9930万港元，此乃由于俄罗斯客户了解卢布贬值及经济前景恶化，且持续受到西方国家制裁的影响，导致俄罗斯家庭对经济状况感到忧虑，致使优质珠宝需求显着受压。\"}\n",
    "{\"sentence\": \"【中油工程：上半年净利同比增长368%】中油工程(600339)29日晚披露半年报，公司上半年营收190.2亿元，同比增长6.83%；净利5.75亿元，同比增长368%；净利增长主要系2016年度公司实施重大资产重组，主营业务由石化产品的生产和销售变更为石油工程设计、施工及总承包等相关工程建设业务。（证券时报网）\"}\n",
    "{\"sentence\": \"保税科技14日晚间发布半年报，报告期内，公司实现营业收入33,517.16万元，较上年同期22,961.36万元增长45.97%；归属于上市公司股东的净利润-8,691.94万元，较上年同期2,697.48万元减少422.22%。主要原因为子公司上海保港基金及张家港基金公司证券投资浮亏8,422.67万元；子公司扬州石化因涉讼计提预计负债1,707.88万元。\"}\n",
    "```"
   ]
  },
  {
   "cell_type": "markdown",
   "metadata": {
    "slideshow": {
     "slide_type": "slide"
    }
   },
   "source": [
    "<h1 align=\"center\">因果关系推理</h1>\n",
    "<h1 align=\"center\">Commonsense Causal Reasoning</h1>"
   ]
  },
  {
   "cell_type": "markdown",
   "metadata": {
    "slideshow": {
     "slide_type": "subslide"
    }
   },
   "source": [
    "- 例子\n",
    "\n",
    "     **Premise:** The man broke his toe. What was the CAUSE of this?\n",
    "    \n",
    "    **Alternative 1:** He got a hole in his sock. \n",
    "    \n",
    "    **Alternative 2:** He dropped a hammer on his foot.\n",
    "\n",
    "    **Premise:** I knocked on my neighbor's door. What happened as a RESULT?\n",
    "    \n",
    "    **Alternative 1:** My neighbor invited me in.\n",
    "    \n",
    "    **Alternative 2:** My neighbor left his house."
   ]
  },
  {
   "cell_type": "markdown",
   "metadata": {
    "slideshow": {
     "slide_type": "subslide"
    }
   },
   "source": [
    "- Semi-supervised Multitask Learning for Sequence Labeling\n",
    "\n",
    "     ![alt text](https://raw.githubusercontent.com/Das-Boot/deep_alchemy_furnace/master/finance_causal_relation_extraction/presentation/2.png)"
   ]
  },
  {
   "cell_type": "markdown",
   "metadata": {
    "slideshow": {
     "slide_type": "subslide"
    }
   },
   "source": [
    "- 一些目标关系常用的表达词汇：\n",
    "    \n",
    "    **1. 买卖：**\n",
    "             \n",
    "    收购、认购、购买股份、支付、参股、入股、融资、股权、持股、股权转让、受让、增持、减持、增股、增资、股东、注资、投资、购得、购入、买进、买入、赎买、购销、抛售、售卖、转售、租赁、贷款\n",
    "    \n",
    "    **2. 从属：**\n",
    "    \n",
    "    控股、股东、控股子公司、非全资附属公司、间接全资附属公司、下属、子公司、拥有、旗下、经营、托管、掌管、控制、所属、附属、隶属、直属、属于\n",
    "    \n",
    "    **3. 合并：**\n",
    "    \n",
    "    组合、并购、并轨、吞并、归并、合并、融合、合股、合资、兼并\n",
    "    \n",
    "    **4. 合作：**\n",
    "    \n",
    "    合营、共同、合作、联合、中外合资、协作、合办、联营、合股、合伙、联手、共享、共用、合用、提供技术支持、上市辅导、配售代理、达成协议             \n",
    "    \n",
    "    **5. 竞争：**\n",
    "    \n",
    "    竞拍、竞购、竞买、争端、博弈、互怼、大战、沽空、纠纷"
   ]
  },
  {
   "cell_type": "markdown",
   "metadata": {
    "slideshow": {
     "slide_type": "slide"
    }
   },
   "source": [
    "<h1 align=\"center\">标注示例</h1>"
   ]
  },
  {
   "cell_type": "markdown",
   "metadata": {
    "slideshow": {
     "slide_type": "subslide"
    }
   },
   "source": [
    "- 财经新闻摘要\n",
    "\n",
    " 【东富龙：向迪安诊断转让重庆产研院股权】东富龙(300171)6月1日晚公告，公司下属全资子公司东富龙医疗与迪安诊断(300244)签署股权转让协议，约定东富龙医疗以5035万元，向迪安诊断转让重庆精准医疗产业技术研究院有限公司(简称重庆产研院)100%股权。（证券时报网）\n",
    " \n",
    "**1. 将新闻中出现的公司实体按出现次序列出**\n",
    "\n",
    " （东富龙，迪安诊断，重庆产研院，东富龙医疗，重庆精准医疗产业技术研究院有限公司）"
   ]
  },
  {
   "cell_type": "markdown",
   "metadata": {
    "slideshow": {
     "slide_type": "subslide"
    }
   },
   "source": [
    "- 财经新闻摘要\n",
    "\n",
    " 【东富龙：向迪安诊断转让重庆产研院股权】东富龙(300171)6月1日晚公告，公司下属全资子公司东富龙医疗与迪安诊断(300244)签署股权转让协议，约定东富龙医疗以5035万元，向迪安诊断转让重庆精准医疗产业技术研究院有限公司(简称重庆产研院)100%股权。（证券时报网）\n",
    " \n",
    "**2. 然后将实体全排列两两组成一对（使其符合三元组的描述方式），并按照以下标注规则，标注相对关系**\n",
    "![alt text](https://raw.githubusercontent.com/Das-Boot/original/master/公司实体识别与关系抽取/屏幕快照%202017-07-19%20上午5.51.16.png)"
   ]
  },
  {
   "cell_type": "markdown",
   "metadata": {
    "slideshow": {
     "slide_type": "subslide"
    }
   },
   "source": [
    "- 财经新闻摘要\n",
    "\n",
    " 【东富龙：向迪安诊断转让重庆产研院股权】东富龙(300171)6月1日晚公告，公司下属全资子公司东富龙医疗与迪安诊断(300244)签署股权转让协议，约定东富龙医疗以5035万元，向迪安诊断转让重庆精准医疗产业技术研究院有限公司(简称重庆产研院)100%股权。（证券时报网）\n",
    " \n",
    "**3. 最终拆分结果为：（数字为实体间关系对应标签）**\n",
    "![alt text](https://raw.githubusercontent.com/Das-Boot/original/master/公司实体识别与关系抽取/屏幕快照%202017-07-19%20上午5.51.23.png)"
   ]
  },
  {
   "cell_type": "markdown",
   "metadata": {
    "slideshow": {
     "slide_type": "subslide"
    }
   },
   "source": [
    "- 一个完整的标注示例如下所示。\n",
    "\n",
    "```json\n",
    "{\"abstract\": \"【东富龙：向迪安诊断转让重庆产研院股权】东富龙(300171)6月1日晚公告，公司下属全资子公司东富龙医疗与迪安诊断(300244)签署股权转让协议，约定东富龙医疗以5035万元，向迪安诊断转让重庆精准医疗产业技术研究院有限公司(简称重庆产研院)100%股权。（证券时报网）\", \"eneity\": [\"东富龙\", \"迪安诊断\", \"重庆产研院\", \"东富龙医疗\", \"重庆精准医疗产业技术研究院有限公司\"], \"relation\": \"31512525141943111491\"}\n",
    "```\n",
    "    \n",
    " 其中“abstract”代表爬取的财经新闻摘要，”entity“代表公司实体，”relation“代表公司实体间的关系。"
   ]
  },
  {
   "cell_type": "markdown",
   "metadata": {
    "slideshow": {
     "slide_type": "slide"
    }
   },
   "source": [
    "<h1 align=\"center\">怎么做？</h1>"
   ]
  },
  {
   "cell_type": "markdown",
   "metadata": {
    "slideshow": {
     "slide_type": "subslide"
    }
   },
   "source": [
    "**Pipelined manner**\n",
    "- 先 **name entity recognition (NER)**，后 **relations classification (RC)**\n",
    "- 子任务易处理，更灵活\n",
    "- 忽视了二者的相关性，且易产生级联错误\n",
    "\n",
    "**Joint learning model**\n",
    "- 一起学"
   ]
  },
  {
   "cell_type": "markdown",
   "metadata": {
    "slideshow": {
     "slide_type": "subslide"
    }
   },
   "source": [
    "- 转化为序列标注问题\n",
    "    \n",
    "  示例\n",
    "    \n",
    "  **财经新闻摘要** \n",
    "          \n",
    "     \"子公司战略携手腾讯云计算， 使得万方发展在6月2日开盘后不久涨停，报11.68元。万方发展1日晚间公告，公司参股子公司成都义幻医疗科技有限公司与腾讯云计算(北京)有限责任公司签订了《战略合作协议》，就产业互联网、医疗云解决方案等相关领域展开深度合作。\"\n",
    "     \n",
    "  **公司实体**\n",
    "  \n",
    "  `[\"腾讯云计算\", \"万方发展\", \"成都义幻医疗科技有限公司\", \"腾讯云计算(北京)有限责任公司\"]`\n",
    "          \n",
    "  **分词结果**\n",
    "          \n",
    "     `子公司/战略/携手/腾讯/云/计算/ / /使得/万方/发展/在/6/月/2/日/开盘/后/不久/涨停/ /报/11/./68/元/ /万方/发展/1/日/晚间/公告/ /公司/参股/子公司/成都/义/幻/医疗/科技/有限公司/与/腾讯/云/计算/(/北京/)/有限责任/公司/签订/了/《/战略合作协议/》/ /就/产业/互联网/ /医疗/云/解决方案/等/相关/领域/展开/深度/合作/`\n",
    "          \n",
    "  **实体标签序列**\n",
    "  \n",
    "  `[0, 0, 0, 2, 3, 4, 0, 0, 0, 2, 4, 0, 0, 0, 0, 0, 0, 0, 0, 0, 0, 0, 0, 0, 0, 0, 0, 2, 4, 0, 0, 0, 0, 0, 0, 0, 0, 2, 3, 3, 3, 3, 4, 0, 2, 3, 3, 3, 3, 3, 3, 4, 0, 0, 0, 0, 0, 0, 0, 0, 0, 0, 0, 0, 0, 0, 0, 0, 0, 0, 0, 0]`\n",
    "  \n",
    "  **关系标签序列**\n",
    "  \n",
    "  `[7, 7, 9, 7, 5, 7, 7, 4, 7, 9, 7, 7]`"
   ]
  },
  {
   "cell_type": "markdown",
   "metadata": {
    "slideshow": {
     "slide_type": "slide"
    }
   },
   "source": [
    "<h1 align=\"center\">模型</h1>"
   ]
  },
  {
   "cell_type": "markdown",
   "metadata": {
    "slideshow": {
     "slide_type": "subslide"
    }
   },
   "source": [
    "- **Joint Learning Model**\n",
    "![alt text](https://raw.githubusercontent.com/Das-Boot/original/master/公司实体识别与关系抽取/model.png)"
   ]
  },
  {
   "cell_type": "markdown",
   "metadata": {
    "slideshow": {
     "slide_type": "subslide"
    }
   },
   "source": [
    "- **Relation Classification Model**\n",
    "![alt text](https://raw.githubusercontent.com/Das-Boot/original/master/公司实体识别与关系抽取/model2.png)"
   ]
  },
  {
   "cell_type": "markdown",
   "metadata": {
    "slideshow": {
     "slide_type": "slide"
    }
   },
   "source": [
    "<h1 align=\"center\">请老师和同学批评指正！谢谢 ！</h1>"
   ]
  }
 ],
 "metadata": {
  "celltoolbar": "Slideshow",
  "kernelspec": {
   "display_name": "Python 3",
   "language": "python",
   "name": "python3"
  },
  "language_info": {
   "codemirror_mode": {
    "name": "ipython",
    "version": 3
   },
   "file_extension": ".py",
   "mimetype": "text/x-python",
   "name": "python",
   "nbconvert_exporter": "python",
   "pygments_lexer": "ipython3",
   "version": "3.6.2"
  },
  "toc": {
   "colors": {
    "hover_highlight": "#DAA520",
    "navigate_num": "#000000",
    "navigate_text": "#333333",
    "running_highlight": "#FF0000",
    "selected_highlight": "#FFD700",
    "sidebar_border": "#EEEEEE",
    "wrapper_background": "#FFFFFF"
   },
   "moveMenuLeft": true,
   "nav_menu": {
    "height": "30px",
    "width": "252px"
   },
   "navigate_menu": true,
   "number_sections": false,
   "sideBar": true,
   "threshold": 4,
   "toc_cell": true,
   "toc_position": {
    "height": "814px",
    "left": "0px",
    "right": "auto",
    "top": "106px",
    "width": "212px"
   },
   "toc_section_display": "block",
   "toc_window_display": false,
   "widenNotebook": false
  }
 },
 "nbformat": 4,
 "nbformat_minor": 2
}
