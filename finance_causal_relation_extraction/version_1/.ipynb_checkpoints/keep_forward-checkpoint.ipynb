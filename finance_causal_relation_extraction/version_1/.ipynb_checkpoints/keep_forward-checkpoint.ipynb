{
 "cells": [
  {
   "cell_type": "markdown",
   "metadata": {
    "toc": "true"
   },
   "source": [
    "# Table of Contents\n",
    " <p><div class=\"lev1 toc-item\"><a href=\"#Load-Data\" data-toc-modified-id=\"Load-Data-1\"><span class=\"toc-item-num\">1&nbsp;&nbsp;</span>Load Data</a></div><div class=\"lev1 toc-item\"><a href=\"#Word-Segmentation\" data-toc-modified-id=\"Word-Segmentation-2\"><span class=\"toc-item-num\">2&nbsp;&nbsp;</span>Word Segmentation</a></div><div class=\"lev1 toc-item\"><a href=\"#Tokenize-Text\" data-toc-modified-id=\"Tokenize-Text-3\"><span class=\"toc-item-num\">3&nbsp;&nbsp;</span>Tokenize Text</a></div><div class=\"lev1 toc-item\"><a href=\"#Word-Embedding\" data-toc-modified-id=\"Word-Embedding-4\"><span class=\"toc-item-num\">4&nbsp;&nbsp;</span>Word Embedding</a></div><div class=\"lev2 toc-item\"><a href=\"#Read-Pretrained-Model\" data-toc-modified-id=\"Read-Pretrained-Model-41\"><span class=\"toc-item-num\">4.1&nbsp;&nbsp;</span>Read Pretrained Model</a></div><div class=\"lev2 toc-item\"><a href=\"#Use-Word2vec-to-Initialize-Embedding-Matrix\" data-toc-modified-id=\"Use-Word2vec-to-Initialize-Embedding-Matrix-42\"><span class=\"toc-item-num\">4.2&nbsp;&nbsp;</span>Use Word2vec to Initialize Embedding Matrix</a></div><div class=\"lev1 toc-item\"><a href=\"#Build-Dateset\" data-toc-modified-id=\"Build-Dateset-5\"><span class=\"toc-item-num\">5&nbsp;&nbsp;</span>Build Dateset</a></div><div class=\"lev1 toc-item\"><a href=\"#Build-Model\" data-toc-modified-id=\"Build-Model-6\"><span class=\"toc-item-num\">6&nbsp;&nbsp;</span>Build Model</a></div><div class=\"lev2 toc-item\"><a href=\"#Import-Libraries\" data-toc-modified-id=\"Import-Libraries-61\"><span class=\"toc-item-num\">6.1&nbsp;&nbsp;</span>Import Libraries</a></div><div class=\"lev2 toc-item\"><a href=\"#Model-Visualization\" data-toc-modified-id=\"Model-Visualization-62\"><span class=\"toc-item-num\">6.2&nbsp;&nbsp;</span>Model Visualization</a></div><div class=\"lev2 toc-item\"><a href=\"#Train\" data-toc-modified-id=\"Train-63\"><span class=\"toc-item-num\">6.3&nbsp;&nbsp;</span>Train</a></div><div class=\"lev2 toc-item\"><a href=\"#Plot-Results\" data-toc-modified-id=\"Plot-Results-64\"><span class=\"toc-item-num\">6.4&nbsp;&nbsp;</span>Plot Results</a></div><div class=\"lev1 toc-item\"><a href=\"#Evaluate\" data-toc-modified-id=\"Evaluate-7\"><span class=\"toc-item-num\">7&nbsp;&nbsp;</span>Evaluate</a></div>"
   ]
  },
  {
   "cell_type": "markdown",
   "metadata": {},
   "source": [
    "# Load Data"
   ]
  },
  {
   "cell_type": "code",
   "execution_count": 1,
   "metadata": {
    "collapsed": true
   },
   "outputs": [],
   "source": [
    "import json\n",
    "import os"
   ]
  },
  {
   "cell_type": "code",
   "execution_count": 2,
   "metadata": {
    "collapsed": true
   },
   "outputs": [],
   "source": [
    "def load_data(path, name):\n",
    "    \"\"\"\n",
    "    Load date from file\n",
    "    \"\"\"\n",
    "    data = []\n",
    "    input_file = os.path.join(path)\n",
    "    with open(input_file) as f:\n",
    "        lines = f.readlines()\n",
    "    for line in lines:\n",
    "        item = json.loads(line)\n",
    "        data.append(item[name])\n",
    "    return data"
   ]
  },
  {
   "cell_type": "code",
   "execution_count": 3,
   "metadata": {
    "collapsed": true
   },
   "outputs": [],
   "source": [
    "sentence = load_data('done_data.json', 'sentence')\n",
    "label = load_data('done_data.json', 'label')"
   ]
  },
  {
   "cell_type": "markdown",
   "metadata": {},
   "source": [
    "# Word Segmentation"
   ]
  },
  {
   "cell_type": "code",
   "execution_count": 4,
   "metadata": {
    "collapsed": true
   },
   "outputs": [],
   "source": [
    "import jieba\n",
    "import re\n",
    "import matplotlib.pyplot as plt\n",
    "%matplotlib inline\n",
    "%config InlineBackend.figure_format = 'retina'"
   ]
  },
  {
   "cell_type": "code",
   "execution_count": 5,
   "metadata": {
    "collapsed": true
   },
   "outputs": [],
   "source": [
    "not_cuts = re.compile(u'([\\da-zA-Z\\.]+)')\n",
    "re_replace = re.compile(u'([^\\u4e00-\\u9fa50-9a-zA-Z\\%《》\\(\\)（）“”·\\.])|（(.*?)）|\\((.*?)\\)')"
   ]
  },
  {
   "cell_type": "code",
   "execution_count": 6,
   "metadata": {
    "collapsed": true
   },
   "outputs": [],
   "source": [
    "filename = \"stopwords.txt\"\n",
    "stopWords = [w for w in open(filename).read().split()]"
   ]
  },
  {
   "cell_type": "code",
   "execution_count": 7,
   "metadata": {
    "collapsed": true
   },
   "outputs": [],
   "source": [
    "def newcut(s):\n",
    "    \"\"\"\n",
    "    Word Segmentation\n",
    "    \"\"\"\n",
    "    result = []\n",
    "    j = 0\n",
    "    s = re_replace.sub('', s)\n",
    "    \n",
    "    for i in not_cuts.finditer(s):\n",
    "        result.extend(jieba.lcut(s[j:i.start()], HMM=False))\n",
    "        result.append(s[i.start():i.end()])\n",
    "        j = i.end()\n",
    "    result.extend(jieba.lcut(s[j:], HMM=False))\n",
    "    return result\n",
    "\n",
    "def del_stop(ws):\n",
    "    \"\"\"\n",
    "    Delete stopwords\n",
    "    \"\"\"\n",
    "    return [i for i in ws if i not in stopWords]"
   ]
  },
  {
   "cell_type": "code",
   "execution_count": 8,
   "metadata": {},
   "outputs": [
    {
     "name": "stderr",
     "output_type": "stream",
     "text": [
      "Building prefix dict from the default dictionary ...\n",
      "Loading model from cache /var/folders/kz/hqjl_dfx3g3_2vxylxlj1s940000gn/T/jieba.cache\n",
      "Loading model cost 0.968 seconds.\n",
      "Prefix dict has been built succesfully.\n"
     ]
    }
   ],
   "source": [
    "sentWords = [del_stop(newcut(s)) for s in sentence]"
   ]
  },
  {
   "cell_type": "code",
   "execution_count": 9,
   "metadata": {},
   "outputs": [
    {
     "data": {
      "text/plain": [
       "<matplotlib.text.Text at 0x118d74a90>"
      ]
     },
     "execution_count": 9,
     "metadata": {},
     "output_type": "execute_result"
    },
    {
     "data": {
      "image/png": "[encoded data removed]",
      "text/plain": [
       "<matplotlib.figure.Figure at 0x115a44128>"
      ]
     },
     "metadata": {
      "image/png": {
       "height": 277,
       "width": 410
      }
     },
     "output_type": "display_data"
    }
   ],
   "source": [
    "plt.hist([len(i) for i in sentWords], bins=32, normed=True);\n",
    "plt.xlabel('Sentence Length')\n",
    "plt.ylabel('Probability')\n",
    "plt.title('Histogram of Text Length')  "
   ]
  },
  {
   "cell_type": "markdown",
   "metadata": {},
   "source": [
    "# Tokenize Text"
   ]
  },
  {
   "cell_type": "code",
   "execution_count": 10,
   "metadata": {},
   "outputs": [
    {
     "name": "stderr",
     "output_type": "stream",
     "text": [
      "Using TensorFlow backend.\n"
     ]
    }
   ],
   "source": [
    "from keras.preprocessing.text import Tokenizer\n",
    "import numpy as np"
   ]
  },
  {
   "cell_type": "code",
   "execution_count": 11,
   "metadata": {
    "scrolled": true
   },
   "outputs": [
    {
     "name": "stdout",
     "output_type": "stream",
     "text": [
      "Number of sentences: \t1700\n",
      "Distribution of sentence lengths (number of words):\n",
      "Min: 21   Max: 155   Mean: 70.308   Med: 68.000\n",
      "Found 14681 unique tokens.\n"
     ]
    }
   ],
   "source": [
    "tokWords = sentWords.copy()\n",
    "tokTexts = [' '.join(i) for i in tokWords]\n",
    "tokenizer = Tokenizer(filters='')\n",
    "tokenizer.fit_on_texts(tokTexts)\n",
    "word2index = tokenizer.word_index\n",
    "index2word = {i: w for w, i in word2index.items()}\n",
    "sentLens = np.array([len(i) for i in sentWords])\n",
    "print('Number of sentences: \\t{:d}'.format(len(sentLens)))\n",
    "print('Distribution of sentence lengths (number of words):')\n",
    "print('Min: {:d}   Max: {:d}   Mean: {:.3f}   Med: {:.3f}'.format(np.min(sentLens), np.max(sentLens), np.mean(sentLens), np.median(sentLens)))\n",
    "print('Found %s unique tokens.' % len(word2index))"
   ]
  },
  {
   "cell_type": "code",
   "execution_count": 12,
   "metadata": {
    "collapsed": true
   },
   "outputs": [],
   "source": [
    "MAX_LEN = 150 # Approximately twice the median length of sentences"
   ]
  },
  {
   "cell_type": "markdown",
   "metadata": {},
   "source": [
    "# Word Embedding"
   ]
  },
  {
   "cell_type": "code",
   "execution_count": 13,
   "metadata": {
    "collapsed": true
   },
   "outputs": [],
   "source": [
    "VOCAB_SIZE = len(index2word)+1\n",
    "EMBEDDING_SIZE = 256\n",
    "SEED = 42"
   ]
  },
  {
   "cell_type": "markdown",
   "metadata": {},
   "source": [
    "## Read Pretrained Model"
   ]
  },
  {
   "cell_type": "code",
   "execution_count": 14,
   "metadata": {
    "collapsed": true
   },
   "outputs": [],
   "source": [
    "import gensim"
   ]
  },
  {
   "cell_type": "code",
   "execution_count": 15,
   "metadata": {},
   "outputs": [
    {
     "data": {
      "text/plain": [
       "0.062499415"
      ]
     },
     "execution_count": 15,
     "metadata": {},
     "output_type": "execute_result"
    }
   ],
   "source": [
    "word2vec = gensim.models.Word2Vec.load('/Users/lizhn7/Downloads/DATA/word2vec/word2vec_wx')\n",
    "word2vec.init_sims(replace=True)\n",
    "w2v_embedding_weights = word2vec.wv.syn0\n",
    "w2v_embedding_weights.std()"
   ]
  },
  {
   "cell_type": "markdown",
   "metadata": {},
   "source": [
    "## Use Word2vec to Initialize Embedding Matrix "
   ]
  },
  {
   "cell_type": "code",
   "execution_count": 16,
   "metadata": {
    "collapsed": true
   },
   "outputs": [],
   "source": [
    "# Generate random embedding with same scale as glove\n",
    "np.random.seed(SEED)\n",
    "shape = (VOCAB_SIZE, EMBEDDING_SIZE)\n",
    "scale = w2v_embedding_weights.std() * np.sqrt(12) / 2 \n",
    "embedding = np.random.uniform(low=-scale, high=scale, size=shape)"
   ]
  },
  {
   "cell_type": "code",
   "execution_count": 17,
   "metadata": {},
   "outputs": [
    {
     "name": "stdout",
     "output_type": "stream",
     "text": [
      "11926-81.229% tokens in vocab found in word2vec and copied to embedding.\n"
     ]
    }
   ],
   "source": [
    "count = 0\n",
    "w2v_dict = word2vec.wv.index2word\n",
    "for i in range(1, VOCAB_SIZE):\n",
    "    w = index2word[i]\n",
    "    if w in w2v_dict:\n",
    "        g = word2vec[w]\n",
    "        embedding[i, :] = g\n",
    "        count += 1\n",
    "print('{num_tokens}-{per:.3f}% tokens in vocab found in word2vec and copied to embedding.'.format(num_tokens=count, per=count/float(VOCAB_SIZE)*100))"
   ]
  },
  {
   "cell_type": "markdown",
   "metadata": {},
   "source": [
    "# Build Dateset"
   ]
  },
  {
   "cell_type": "code",
   "execution_count": 18,
   "metadata": {
    "collapsed": true
   },
   "outputs": [],
   "source": [
    "from keras.preprocessing.sequence import pad_sequences\n",
    "from sklearn.model_selection import train_test_split"
   ]
  },
  {
   "cell_type": "code",
   "execution_count": 19,
   "metadata": {
    "collapsed": true
   },
   "outputs": [],
   "source": [
    "def convert_seq(ws, label):\n",
    "    \"\"\"\n",
    "    Pad words sequene to MAX_LEN and encode label to one-hot encoding\n",
    "    \"\"\"\n",
    "    sentText = [' '.join(i) for i in ws]\n",
    "    sentSeq = tokenizer.texts_to_sequences(sentText)\n",
    "    sentData = pad_sequences(sentSeq, maxlen=MAX_LEN, padding='post', truncating='post')\n",
    "    labelData = np.array([[i] for i in label])\n",
    "    return sentData, labelData "
   ]
  },
  {
   "cell_type": "code",
   "execution_count": 20,
   "metadata": {
    "collapsed": true
   },
   "outputs": [],
   "source": [
    "x, y = convert_seq(sentWords, label)"
   ]
  },
  {
   "cell_type": "code",
   "execution_count": 21,
   "metadata": {
    "collapsed": true
   },
   "outputs": [],
   "source": [
    "xTrain, xVal, yTrain, yVal = train_test_split(x, y, test_size=0.3, random_state=SEED)"
   ]
  },
  {
   "cell_type": "markdown",
   "metadata": {},
   "source": [
    "# Build Model"
   ]
  },
  {
   "cell_type": "code",
   "execution_count": 33,
   "metadata": {
    "collapsed": true
   },
   "outputs": [],
   "source": [
    "#MAX_LEN = \n",
    "#VOCAB_SIZE = \n",
    "#EMBEDDING_SIZE = \n",
    "#RNN_SIZE = \n",
    "CNN_SIZE = 128\n",
    "WINDOW_SIZE = 3\n",
    "DROPOUT_RATE = 0.5\n",
    "#RNN_DROPOUT_RATE = \n",
    "NUM_EPOCHS = 32\n",
    "BATCH_SIZE = 32"
   ]
  },
  {
   "cell_type": "markdown",
   "metadata": {},
   "source": [
    "## Import Libraries"
   ]
  },
  {
   "cell_type": "code",
   "execution_count": 34,
   "metadata": {
    "collapsed": true
   },
   "outputs": [],
   "source": [
    "from keras.layers import Input, Embedding, Dropout, Bidirectional, LSTM, Reshape, concatenate, Conv1D, BatchNormalization, GlobalMaxPooling1D, Dense\n",
    "from keras.models import Model\n",
    "import keras.backend as K\n",
    "from keras.callbacks import*\n",
    "from IPython.display import SVG\n",
    "from keras.utils.vis_utils import model_to_dot\n",
    "import matplotlib.pyplot as plt\n",
    "%matplotlib inline\n",
    "%config InlineBackend.figure_format = 'retina'"
   ]
  },
  {
   "cell_type": "code",
   "execution_count": 35,
   "metadata": {
    "collapsed": true
   },
   "outputs": [],
   "source": [
    "K.clear_session()\n",
    "seq = Input(shape=(MAX_LEN,), name='INPUT') \n",
    "emb_seq = Embedding(VOCAB_SIZE, EMBEDDING_SIZE, weights=[embedding], mask_zero=False, input_length=MAX_LEN, trainable=False, name='EMBEDDING')(seq)\n",
    "#emb_seq = Dropout(DROPOUT_RATE, name='DROPOUT_1')(emb_seq)\n",
    "#blstm = Bidirectional(LSTM(RNN_SIZE, return_sequences=True, implementation=0, dropout=RNN_DROPOUT_RATE, recurrent_dropout=RNN_DROPOUT_RATE), merge_mode='concat', name='BiLSTM_1')(emb_seq)\n",
    "#blstm = Dropout(DROPOUT_RATE, name='DROPOUT_2')(blstm)\n",
    "#blstm = Bidirectional(LSTM(RNN_SIZE, return_sequences=True, implementation=0, dropout=RNN_DROPOUT_RATE, recurrent_dropout=RNN_DROPOUT_RATE), merge_mode='concat', name='BiLSTM_2')(blstm)\n",
    "#blstm = Dropout(DROPOUT_RATE, name='DROPOUT_3')(blstm)\n",
    "conv = Conv1D(CNN_SIZE, WINDOW_SIZE, padding='same', activation='elu', name='CONV')(emb_seq)\n",
    "pool = GlobalMaxPooling1D(name='MAXPOOLING')(conv)\n",
    "pool = Dropout(DROPOUT_RATE, name='DROPOUT_2')(pool)\n",
    "output = Dense(1, activation='sigmoid', name='OUTPUT')(pool)\n",
    "model = Model(inputs=seq, outputs=output)\n",
    "model.compile(loss='binary_crossentropy', optimizer='adam')"
   ]
  },
  {
   "cell_type": "markdown",
   "metadata": {},
   "source": [
    "## Model Visualization"
   ]
  },
  {
   "cell_type": "code",
   "execution_count": 36,
   "metadata": {},
   "outputs": [
    {
     "name": "stdout",
     "output_type": "stream",
     "text": [
      "_________________________________________________________________\n",
      "Layer (type)                 Output Shape              Param #   \n",
      "=================================================================\n",
      "INPUT (InputLayer)           (None, 150)               0         \n",
      "_________________________________________________________________\n",
      "EMBEDDING (Embedding)        (None, 150, 256)          3758592   \n",
      "_________________________________________________________________\n",
      "CONV (Conv1D)                (None, 150, 128)          98432     \n",
      "_________________________________________________________________\n",
      "MAXPOOLING (GlobalMaxPooling (None, 128)               0         \n",
      "_________________________________________________________________\n",
      "DROPOUT_2 (Dropout)          (None, 128)               0         \n",
      "_________________________________________________________________\n",
      "OUTPUT (Dense)               (None, 1)                 129       \n",
      "=================================================================\n",
      "Total params: 3,857,153\n",
      "Trainable params: 98,561\n",
      "Non-trainable params: 3,758,592\n",
      "_________________________________________________________________\n"
     ]
    },
    {
     "data": {
      "image/svg+xml": [
       "<svg height=\"410pt\" viewBox=\"0.00 0.00 249.94 410.00\" width=\"250pt\" xmlns=\"http://www.w3.org/2000/svg\" xmlns:xlink=\"http://www.w3.org/1999/xlink\">\n",
       "<g class=\"graph\" id=\"graph0\" transform=\"scale(1 1) rotate(0) translate(4 406)\">\n",
       "<title>G</title>\n",
       "<polygon fill=\"#ffffff\" points=\"-4,4 -4,-406 245.9414,-406 245.9414,4 -4,4\" stroke=\"transparent\"/>\n",
       "<!-- 4995190912 -->\n",
       "<g class=\"node\" id=\"node1\">\n",
       "<title>4995190912</title>\n",
       "<polygon fill=\"none\" points=\"57.9175,-365.5 57.9175,-401.5 184.0239,-401.5 184.0239,-365.5 57.9175,-365.5\" stroke=\"#000000\"/>\n",
       "<text fill=\"#000000\" font-family=\"Times,serif\" font-size=\"14.00\" text-anchor=\"middle\" x=\"120.9707\" y=\"-379.3\">INPUT: InputLayer</text>\n",
       "</g>\n",
       "<!-- 4995192816 -->\n",
       "<g class=\"node\" id=\"node2\">\n",
       "<title>4995192816</title>\n",
       "<polygon fill=\"none\" points=\"35.0068,-292.5 35.0068,-328.5 206.9346,-328.5 206.9346,-292.5 35.0068,-292.5\" stroke=\"#000000\"/>\n",
       "<text fill=\"#000000\" font-family=\"Times,serif\" font-size=\"14.00\" text-anchor=\"middle\" x=\"120.9707\" y=\"-306.3\">EMBEDDING: Embedding</text>\n",
       "</g>\n",
       "<!-- 4995190912&#45;&gt;4995192816 -->\n",
       "<g class=\"edge\" id=\"edge1\">\n",
       "<title>4995190912-&gt;4995192816</title>\n",
       "<path d=\"M120.9707,-365.4551C120.9707,-357.3828 120.9707,-347.6764 120.9707,-338.6817\" fill=\"none\" stroke=\"#000000\"/>\n",
       "<polygon fill=\"#000000\" points=\"124.4708,-338.5903 120.9707,-328.5904 117.4708,-338.5904 124.4708,-338.5903\" stroke=\"#000000\"/>\n",
       "</g>\n",
       "<!-- 5019838504 -->\n",
       "<g class=\"node\" id=\"node3\">\n",
       "<title>5019838504</title>\n",
       "<polygon fill=\"none\" points=\"66.2334,-219.5 66.2334,-255.5 175.708,-255.5 175.708,-219.5 66.2334,-219.5\" stroke=\"#000000\"/>\n",
       "<text fill=\"#000000\" font-family=\"Times,serif\" font-size=\"14.00\" text-anchor=\"middle\" x=\"120.9707\" y=\"-233.3\">CONV: Conv1D</text>\n",
       "</g>\n",
       "<!-- 4995192816&#45;&gt;5019838504 -->\n",
       "<g class=\"edge\" id=\"edge2\">\n",
       "<title>4995192816-&gt;5019838504</title>\n",
       "<path d=\"M120.9707,-292.4551C120.9707,-284.3828 120.9707,-274.6764 120.9707,-265.6817\" fill=\"none\" stroke=\"#000000\"/>\n",
       "<polygon fill=\"#000000\" points=\"124.4708,-265.5903 120.9707,-255.5904 117.4708,-265.5904 124.4708,-265.5903\" stroke=\"#000000\"/>\n",
       "</g>\n",
       "<!-- 5019838952 -->\n",
       "<g class=\"node\" id=\"node4\">\n",
       "<title>5019838952</title>\n",
       "<polygon fill=\"none\" points=\"0,-146.5 0,-182.5 241.9414,-182.5 241.9414,-146.5 0,-146.5\" stroke=\"#000000\"/>\n",
       "<text fill=\"#000000\" font-family=\"Times,serif\" font-size=\"14.00\" text-anchor=\"middle\" x=\"120.9707\" y=\"-160.3\">MAXPOOLING: GlobalMaxPooling1D</text>\n",
       "</g>\n",
       "<!-- 5019838504&#45;&gt;5019838952 -->\n",
       "<g class=\"edge\" id=\"edge3\">\n",
       "<title>5019838504-&gt;5019838952</title>\n",
       "<path d=\"M120.9707,-219.4551C120.9707,-211.3828 120.9707,-201.6764 120.9707,-192.6817\" fill=\"none\" stroke=\"#000000\"/>\n",
       "<polygon fill=\"#000000\" points=\"124.4708,-192.5903 120.9707,-182.5904 117.4708,-192.5904 124.4708,-192.5903\" stroke=\"#000000\"/>\n",
       "</g>\n",
       "<!-- 4982565408 -->\n",
       "<g class=\"node\" id=\"node5\">\n",
       "<title>4982565408</title>\n",
       "<polygon fill=\"none\" points=\"45.8862,-73.5 45.8862,-109.5 196.0552,-109.5 196.0552,-73.5 45.8862,-73.5\" stroke=\"#000000\"/>\n",
       "<text fill=\"#000000\" font-family=\"Times,serif\" font-size=\"14.00\" text-anchor=\"middle\" x=\"120.9707\" y=\"-87.3\">DROPOUT_2: Dropout</text>\n",
       "</g>\n",
       "<!-- 5019838952&#45;&gt;4982565408 -->\n",
       "<g class=\"edge\" id=\"edge4\">\n",
       "<title>5019838952-&gt;4982565408</title>\n",
       "<path d=\"M120.9707,-146.4551C120.9707,-138.3828 120.9707,-128.6764 120.9707,-119.6817\" fill=\"none\" stroke=\"#000000\"/>\n",
       "<polygon fill=\"#000000\" points=\"124.4708,-119.5903 120.9707,-109.5904 117.4708,-119.5904 124.4708,-119.5903\" stroke=\"#000000\"/>\n",
       "</g>\n",
       "<!-- 5021505240 -->\n",
       "<g class=\"node\" id=\"node6\">\n",
       "<title>5021505240</title>\n",
       "<polygon fill=\"none\" points=\"64.521,-.5 64.521,-36.5 177.4204,-36.5 177.4204,-.5 64.521,-.5\" stroke=\"#000000\"/>\n",
       "<text fill=\"#000000\" font-family=\"Times,serif\" font-size=\"14.00\" text-anchor=\"middle\" x=\"120.9707\" y=\"-14.3\">OUTPUT: Dense</text>\n",
       "</g>\n",
       "<!-- 4982565408&#45;&gt;5021505240 -->\n",
       "<g class=\"edge\" id=\"edge5\">\n",
       "<title>4982565408-&gt;5021505240</title>\n",
       "<path d=\"M120.9707,-73.4551C120.9707,-65.3828 120.9707,-55.6764 120.9707,-46.6817\" fill=\"none\" stroke=\"#000000\"/>\n",
       "<polygon fill=\"#000000\" points=\"124.4708,-46.5903 120.9707,-36.5904 117.4708,-46.5904 124.4708,-46.5903\" stroke=\"#000000\"/>\n",
       "</g>\n",
       "</g>\n",
       "</svg>"
      ],
      "text/plain": [
       "<IPython.core.display.SVG object>"
      ]
     },
     "execution_count": 36,
     "metadata": {},
     "output_type": "execute_result"
    }
   ],
   "source": [
    "model.summary()\n",
    "SVG(model_to_dot(model).create(prog='dot', format='svg'))"
   ]
  },
  {
   "cell_type": "markdown",
   "metadata": {},
   "source": [
    "## Train"
   ]
  },
  {
   "cell_type": "code",
   "execution_count": 37,
   "metadata": {
    "collapsed": true
   },
   "outputs": [],
   "source": [
    "filepath = '/Users/lizhn7/Downloads/DATA/chinese_news/mini/cp_logs/weights.{epoch:03d}-{val_loss:.6f}.hdf5'\n",
    "log_string = '/Users/lizhn7/Downloads/DATA/chinese_news/mini/tb_logs/mini'\n",
    "checkpoint = ModelCheckpoint(filepath, monitor='val_loss', verbose=1, save_best_only=True)\n",
    "tensorboard = TensorBoard(log_dir=log_string) "
   ]
  },
  {
   "cell_type": "code",
   "execution_count": 38,
   "metadata": {
    "scrolled": true
   },
   "outputs": [
    {
     "name": "stdout",
     "output_type": "stream",
     "text": [
      "Train on 1190 samples, validate on 510 samples\n",
      "Epoch 1/32\n",
      "1184/1190 [============================>.] - ETA: 0s - loss: 0.6850Epoch 00000: val_loss improved from inf to 0.64886, saving model to /Users/lizhn7/Downloads/DATA/chinese_news/mini/cp_logs/weights.000-0.648857.hdf5\n",
      "1190/1190 [==============================] - 4s - loss: 0.6848 - val_loss: 0.6489\n",
      "Epoch 2/32\n",
      "1184/1190 [============================>.] - ETA: 0s - loss: 0.6279Epoch 00001: val_loss improved from 0.64886 to 0.58131, saving model to /Users/lizhn7/Downloads/DATA/chinese_news/mini/cp_logs/weights.001-0.581309.hdf5\n",
      "1190/1190 [==============================] - 4s - loss: 0.6272 - val_loss: 0.5813\n",
      "Epoch 3/32\n",
      "1184/1190 [============================>.] - ETA: 0s - loss: 0.5289Epoch 00002: val_loss improved from 0.58131 to 0.49809, saving model to /Users/lizhn7/Downloads/DATA/chinese_news/mini/cp_logs/weights.002-0.498086.hdf5\n",
      "1190/1190 [==============================] - 4s - loss: 0.5288 - val_loss: 0.4981\n",
      "Epoch 4/32\n",
      "1184/1190 [============================>.] - ETA: 0s - loss: 0.4475Epoch 00003: val_loss improved from 0.49809 to 0.43208, saving model to /Users/lizhn7/Downloads/DATA/chinese_news/mini/cp_logs/weights.003-0.432076.hdf5\n",
      "1190/1190 [==============================] - 3s - loss: 0.4475 - val_loss: 0.4321\n",
      "Epoch 5/32\n",
      "1184/1190 [============================>.] - ETA: 0s - loss: 0.3666Epoch 00004: val_loss improved from 0.43208 to 0.37496, saving model to /Users/lizhn7/Downloads/DATA/chinese_news/mini/cp_logs/weights.004-0.374962.hdf5\n",
      "1190/1190 [==============================] - 4s - loss: 0.3685 - val_loss: 0.3750\n",
      "Epoch 6/32\n",
      "1184/1190 [============================>.] - ETA: 0s - loss: 0.3179Epoch 00005: val_loss improved from 0.37496 to 0.34623, saving model to /Users/lizhn7/Downloads/DATA/chinese_news/mini/cp_logs/weights.005-0.346226.hdf5\n",
      "1190/1190 [==============================] - 3s - loss: 0.3184 - val_loss: 0.3462\n",
      "Epoch 7/32\n",
      "1184/1190 [============================>.] - ETA: 0s - loss: 0.2842Epoch 00006: val_loss improved from 0.34623 to 0.32261, saving model to /Users/lizhn7/Downloads/DATA/chinese_news/mini/cp_logs/weights.006-0.322614.hdf5\n",
      "1190/1190 [==============================] - 3s - loss: 0.2844 - val_loss: 0.3226\n",
      "Epoch 8/32\n",
      "1184/1190 [============================>.] - ETA: 0s - loss: 0.2607Epoch 00007: val_loss improved from 0.32261 to 0.30864, saving model to /Users/lizhn7/Downloads/DATA/chinese_news/mini/cp_logs/weights.007-0.308637.hdf5\n",
      "1190/1190 [==============================] - 3s - loss: 0.2604 - val_loss: 0.3086\n",
      "Epoch 9/32\n",
      "1184/1190 [============================>.] - ETA: 0s - loss: 0.2292Epoch 00008: val_loss improved from 0.30864 to 0.29661, saving model to /Users/lizhn7/Downloads/DATA/chinese_news/mini/cp_logs/weights.008-0.296615.hdf5\n",
      "1190/1190 [==============================] - 3s - loss: 0.2289 - val_loss: 0.2966\n",
      "Epoch 10/32\n",
      "1184/1190 [============================>.] - ETA: 0s - loss: 0.2073Epoch 00009: val_loss improved from 0.29661 to 0.28705, saving model to /Users/lizhn7/Downloads/DATA/chinese_news/mini/cp_logs/weights.009-0.287045.hdf5\n",
      "1190/1190 [==============================] - 3s - loss: 0.2071 - val_loss: 0.2870\n",
      "Epoch 11/32\n",
      "1184/1190 [============================>.] - ETA: 0s - loss: 0.1845Epoch 00010: val_loss improved from 0.28705 to 0.27968, saving model to /Users/lizhn7/Downloads/DATA/chinese_news/mini/cp_logs/weights.010-0.279678.hdf5\n",
      "1190/1190 [==============================] - 3s - loss: 0.1853 - val_loss: 0.2797\n",
      "Epoch 12/32\n",
      "1184/1190 [============================>.] - ETA: 0s - loss: 0.1698Epoch 00011: val_loss improved from 0.27968 to 0.27383, saving model to /Users/lizhn7/Downloads/DATA/chinese_news/mini/cp_logs/weights.011-0.273825.hdf5\n",
      "1190/1190 [==============================] - 3s - loss: 0.1727 - val_loss: 0.2738\n",
      "Epoch 13/32\n",
      "1184/1190 [============================>.] - ETA: 0s - loss: 0.1551Epoch 00012: val_loss improved from 0.27383 to 0.27095, saving model to /Users/lizhn7/Downloads/DATA/chinese_news/mini/cp_logs/weights.012-0.270946.hdf5\n",
      "1190/1190 [==============================] - 3s - loss: 0.1552 - val_loss: 0.2709\n",
      "Epoch 14/32\n",
      "1184/1190 [============================>.] - ETA: 0s - loss: 0.1344Epoch 00013: val_loss improved from 0.27095 to 0.26442, saving model to /Users/lizhn7/Downloads/DATA/chinese_news/mini/cp_logs/weights.013-0.264423.hdf5\n",
      "1190/1190 [==============================] - 3s - loss: 0.1340 - val_loss: 0.2644\n",
      "Epoch 15/32\n",
      "1184/1190 [============================>.] - ETA: 0s - loss: 0.1213Epoch 00014: val_loss did not improve\n",
      "1190/1190 [==============================] - 3s - loss: 0.1209 - val_loss: 0.2677\n",
      "Epoch 16/32\n",
      "1184/1190 [============================>.] - ETA: 0s - loss: 0.1125Epoch 00015: val_loss improved from 0.26442 to 0.26139, saving model to /Users/lizhn7/Downloads/DATA/chinese_news/mini/cp_logs/weights.015-0.261385.hdf5\n",
      "1190/1190 [==============================] - 3s - loss: 0.1126 - val_loss: 0.2614\n",
      "Epoch 17/32\n",
      "1184/1190 [============================>.] - ETA: 0s - loss: 0.0974Epoch 00016: val_loss improved from 0.26139 to 0.25946, saving model to /Users/lizhn7/Downloads/DATA/chinese_news/mini/cp_logs/weights.016-0.259459.hdf5\n",
      "1190/1190 [==============================] - 3s - loss: 0.0975 - val_loss: 0.2595\n",
      "Epoch 18/32\n",
      "1184/1190 [============================>.] - ETA: 0s - loss: 0.0934Epoch 00017: val_loss improved from 0.25946 to 0.25793, saving model to /Users/lizhn7/Downloads/DATA/chinese_news/mini/cp_logs/weights.017-0.257926.hdf5\n",
      "1190/1190 [==============================] - 3s - loss: 0.0937 - val_loss: 0.2579\n",
      "Epoch 19/32\n",
      "1184/1190 [============================>.] - ETA: 0s - loss: 0.0821Epoch 00018: val_loss did not improve\n",
      "1190/1190 [==============================] - 3s - loss: 0.0819 - val_loss: 0.2582\n",
      "Epoch 20/32\n",
      "1184/1190 [============================>.] - ETA: 0s - loss: 0.0758Epoch 00019: val_loss improved from 0.25793 to 0.25680, saving model to /Users/lizhn7/Downloads/DATA/chinese_news/mini/cp_logs/weights.019-0.256803.hdf5\n",
      "1190/1190 [==============================] - 3s - loss: 0.0757 - val_loss: 0.2568\n",
      "Epoch 21/32\n",
      "1184/1190 [============================>.] - ETA: 0s - loss: 0.0683Epoch 00020: val_loss did not improve\n",
      "1190/1190 [==============================] - 3s - loss: 0.0685 - val_loss: 0.2571\n",
      "Epoch 22/32\n",
      "1184/1190 [============================>.] - ETA: 0s - loss: 0.0571Epoch 00021: val_loss did not improve\n",
      "1190/1190 [==============================] - 3s - loss: 0.0574 - val_loss: 0.2574\n",
      "Epoch 23/32\n",
      "1184/1190 [============================>.] - ETA: 0s - loss: 0.0554Epoch 00022: val_loss did not improve\n",
      "1190/1190 [==============================] - 3s - loss: 0.0557 - val_loss: 0.2622\n",
      "Epoch 24/32\n",
      "1184/1190 [============================>.] - ETA: 0s - loss: 0.0494Epoch 00023: val_loss improved from 0.25680 to 0.25432, saving model to /Users/lizhn7/Downloads/DATA/chinese_news/mini/cp_logs/weights.023-0.254319.hdf5\n",
      "1190/1190 [==============================] - 3s - loss: 0.0492 - val_loss: 0.2543\n",
      "Epoch 25/32\n",
      "1184/1190 [============================>.] - ETA: 0s - loss: 0.0435Epoch 00024: val_loss improved from 0.25432 to 0.25319, saving model to /Users/lizhn7/Downloads/DATA/chinese_news/mini/cp_logs/weights.024-0.253188.hdf5\n",
      "1190/1190 [==============================] - 3s - loss: 0.0434 - val_loss: 0.2532\n",
      "Epoch 26/32\n",
      "1184/1190 [============================>.] - ETA: 0s - loss: 0.0434Epoch 00025: val_loss did not improve\n",
      "1190/1190 [==============================] - 3s - loss: 0.0434 - val_loss: 0.2556\n",
      "Epoch 27/32\n",
      "1184/1190 [============================>.] - ETA: 0s - loss: 0.0406Epoch 00026: val_loss did not improve\n",
      "1190/1190 [==============================] - 3s - loss: 0.0405 - val_loss: 0.2576\n",
      "Epoch 28/32\n",
      "1184/1190 [============================>.] - ETA: 0s - loss: 0.0353Epoch 00027: val_loss did not improve\n",
      "1190/1190 [==============================] - 3s - loss: 0.0352 - val_loss: 0.2578\n",
      "Epoch 29/32\n",
      "1184/1190 [============================>.] - ETA: 0s - loss: 0.0308Epoch 00028: val_loss did not improve\n",
      "1190/1190 [==============================] - 3s - loss: 0.0307 - val_loss: 0.2594\n",
      "Epoch 30/32\n",
      "1184/1190 [============================>.] - ETA: 0s - loss: 0.0300Epoch 00029: val_loss did not improve\n"
     ]
    },
    {
     "name": "stdout",
     "output_type": "stream",
     "text": [
      "1190/1190 [==============================] - 3s - loss: 0.0300 - val_loss: 0.2604\n",
      "Epoch 31/32\n",
      "1184/1190 [============================>.] - ETA: 0s - loss: 0.0253Epoch 00030: val_loss did not improve\n",
      "1190/1190 [==============================] - 3s - loss: 0.0254 - val_loss: 0.2634\n",
      "Epoch 32/32\n",
      "1184/1190 [============================>.] - ETA: 0s - loss: 0.0244Epoch 00031: val_loss did not improve\n",
      "1190/1190 [==============================] - 3s - loss: 0.0245 - val_loss: 0.2675\n"
     ]
    }
   ],
   "source": [
    "history = model.fit(xTrain,\n",
    "                    yTrain,\n",
    "                    batch_size=BATCH_SIZE,\n",
    "                    epochs=NUM_EPOCHS, \n",
    "                    verbose=1,\n",
    "                    callbacks=[checkpoint],\n",
    "                    validation_data=(xVal, yVal), \n",
    "                    shuffle=True)"
   ]
  },
  {
   "cell_type": "markdown",
   "metadata": {},
   "source": [
    "## Plot Results"
   ]
  },
  {
   "cell_type": "code",
   "execution_count": 39,
   "metadata": {},
   "outputs": [
    {
     "data": {
      "image/png": "[encoded data removed]",
      "text/plain": [
       "<matplotlib.figure.Figure at 0x12dcbe8d0>"
      ]
     },
     "metadata": {
      "image/png": {
       "height": 263,
       "width": 387
      }
     },
     "output_type": "display_data"
    }
   ],
   "source": [
    "plt.plot(history.history[\"loss\"], color=\"g\", label=\"train\")\n",
    "plt.plot(history.history[\"val_loss\"], color=\"b\", label=\"validation\")\n",
    "plt.ylabel(\"loss (Binary_Crossentropy)\")\n",
    "plt.xlabel(\"epochs\")\n",
    "plt.legend(loc=\"best\")\n",
    "plt.show()"
   ]
  },
  {
   "cell_type": "markdown",
   "metadata": {},
   "source": [
    "# Evaluate"
   ]
  },
  {
   "cell_type": "code",
   "execution_count": 40,
   "metadata": {
    "collapsed": true
   },
   "outputs": [],
   "source": [
    "threshold = [i/10 for i in range(1, 9, 1)]"
   ]
  },
  {
   "cell_type": "code",
   "execution_count": 41,
   "metadata": {
    "collapsed": true
   },
   "outputs": [],
   "source": [
    "def calculate(pred, actu, THRESHOLD=0.5, t=1, f=0):\n",
    "    \"\"\"\n",
    "    Calculate Precision Recall F1-score\n",
    "    \"\"\"\n",
    "    pred = [1 if i >= THRESHOLD else 0 for i in pred]\n",
    "    actu = sum([list(i) for i in actu], [])\n",
    "    CTP = sum([1 for i in range(len(pred)) if pred[i] == t and actu[i] == t])\n",
    "    CFN = sum([1 for i in range(len(pred)) if pred[i] == f and actu[i] == t])\n",
    "    CFP = sum([1 for i in range(len(pred)) if pred[i] == t and actu[i] == f])\n",
    "    CTN = sum([1 for i in range(len(pred)) if pred[i] == f and actu[i] == f])\n",
    "    NCTP = CTN\n",
    "    NCFN = CFP\n",
    "    NCFP = CFN\n",
    "    NCTN = CTP\n",
    "    CP = CTP/(CTP+CFP)\n",
    "    CR = CTP/(CTP+CFN)\n",
    "    CF1 = 2*CP*CR/(CP+CR)\n",
    "    NCP = NCTP/(NCTP+NCFP)\n",
    "    NCR = NCTP/(NCTP+NCFN)\n",
    "    NCF1 = 2*NCP*NCR/(NCP+NCR)\n",
    "    ACC = (CTP+CTN)/(CTP+CFP+CFN+CTN)\n",
    "    print('Threshold: \\t%.3f' % (THRESHOLD))\n",
    "    print('Causal: \\tPreciion %.3f \\tRecall %.3f \\tF1-score %.3f \\tAccuracy: %.3f' % (CP, CR, CF1, ACC))\n",
    "    #print('Non-Causal: \\tPreciion %.3f \\tRecall %.3f \\tF1-score %.3f' % (NCP, NCR, NCF1))\n",
    "    print('Accuracy: \\t%.3f' % (ACC))"
   ]
  },
  {
   "cell_type": "code",
   "execution_count": 44,
   "metadata": {
    "collapsed": true
   },
   "outputs": [],
   "source": [
    "def prt(pred, actu, THRESHOLD):\n",
    "    \"\"\"\n",
    "    Print result\n",
    "    \"\"\"\n",
    "    causalDict = {1: 'Causal', 0: 'Non-Causal'}\n",
    "    pred = [1 if i >= THRESHOLD else 0 for i in pred]\n",
    "    actu = sum([list(i) for i in actu], [])\n",
    "    for i in range(len(pred)):\n",
    "        if pred[i] != actu[i]:\n",
    "            print('Predict Result: \\t%s' % causalDict[pred[i]])\n",
    "            print('Actual Result: \\t\\t%s' % causalDict[actu[i]])\n",
    "            print('Sentence: %s' % '/'.join([index2word[j] for j in xVal[i] if j != 0]))\n",
    "            print('————————————')"
   ]
  },
  {
   "cell_type": "code",
   "execution_count": 42,
   "metadata": {},
   "outputs": [
    {
     "name": "stdout",
     "output_type": "stream",
     "text": [
      "480/510 [===========================>..] - ETA: 0sThreshold: \t0.100\n",
      "Causal: \tPreciion 0.723 \tRecall 0.966 \tF1-score 0.827 \tAccuracy: 0.816\n",
      "Accuracy: \t0.816\n",
      "————————————————————————\n",
      "Threshold: \t0.200\n",
      "Causal: \tPreciion 0.797 \tRecall 0.948 \tF1-score 0.866 \tAccuracy: 0.867\n",
      "Accuracy: \t0.867\n",
      "————————————————————————\n",
      "Threshold: \t0.300\n",
      "Causal: \tPreciion 0.857 \tRecall 0.905 \tF1-score 0.881 \tAccuracy: 0.888\n",
      "Accuracy: \t0.888\n",
      "————————————————————————\n",
      "Threshold: \t0.400\n",
      "Causal: \tPreciion 0.895 \tRecall 0.884 \tF1-score 0.889 \tAccuracy: 0.900\n",
      "Accuracy: \t0.900\n",
      "————————————————————————\n",
      "Threshold: \t0.500\n",
      "Causal: \tPreciion 0.913 \tRecall 0.858 \tF1-score 0.884 \tAccuracy: 0.898\n",
      "Accuracy: \t0.898\n",
      "————————————————————————\n",
      "Threshold: \t0.600\n",
      "Causal: \tPreciion 0.927 \tRecall 0.819 \tF1-score 0.870 \tAccuracy: 0.888\n",
      "Accuracy: \t0.888\n",
      "————————————————————————\n",
      "Threshold: \t0.700\n",
      "Causal: \tPreciion 0.940 \tRecall 0.806 \tF1-score 0.868 \tAccuracy: 0.888\n",
      "Accuracy: \t0.888\n",
      "————————————————————————\n",
      "Threshold: \t0.800\n",
      "Causal: \tPreciion 0.962 \tRecall 0.767 \tF1-score 0.854 \tAccuracy: 0.880\n",
      "Accuracy: \t0.880\n",
      "————————————————————————\n"
     ]
    }
   ],
   "source": [
    "filename = '/Users/lizhn7/Downloads/DATA/chinese_news/mini/cp_logs/weights.024-0.253188.hdf5'\n",
    "model.load_weights(filename)\n",
    "result = model.predict(xVal, batch_size=BATCH_SIZE, verbose=1)\n",
    "\n",
    "#model.summary()\n",
    "\n",
    "for THRESHOLD in threshold:\n",
    "    calculate(result, yVal, THRESHOLD=THRESHOLD)\n",
    "    print('————————————————————————')\n",
    "    \n",
    "#SVG(model_to_dot(model).create(prog='dot', format='svg'))"
   ]
  },
  {
   "cell_type": "code",
   "execution_count": 45,
   "metadata": {
    "scrolled": false
   },
   "outputs": [
    {
     "name": "stdout",
     "output_type": "stream",
     "text": [
      "Predict Result: \tCausal\n",
      "Actual Result: \t\tNon-Causal\n",
      "Sentence: 基础/层/公司/韵/文化/主办/券商/华/创/证券/周三/晚间/发布/风险/提示/称/韵/文化/未能/按时/完成/2016/年/年度报告/持续/经营/能力/不确定性/华/创/证券/表示/截至/公告/发布/日/韵/文化/仍/尚未/完成/2016/年/年度报告/编制/披露/工作/韵/文化/董事会/已/决定/申请/公司股票/全国/中小企业/股份/转让/系统/终止/挂牌/韵/文化/股票/终止/挂牌/风险/截至/公告/发布/日/韵/文化/尚未/重新/获取/太极/剧场/经营/管理权/主营业务/尚未/正式/亦/未/获得/持续性/收入/近日/韵/文化/董/监/高/发生/变化/韵/文化/持续/经营/能力/不确定性/风险\n",
      "————————————\n",
      "Predict Result: \tNon-Causal\n",
      "Actual Result: \t\tCausal\n",
      "Sentence: 8/月/9/日/美国/纽/交/上市/汽车/家/公布/财/报/显示/2017/年/第二季度/公司/净/营/收/同比/增长/13.3/%/净利润/同比/增长/49.7/%/双双/超出/市场/预期/公司/表示/上半年/国内汽车/产销/增速/同比/下滑/背景/下/公司业绩/快速增长/得益于/公司/ar/网上/车展/经销商/服务平台/二手车/家/服务/云/平台/创新/模式/上/拓展/公司/正/持续/发/力/数据/技术/领域/加速/平台/化/转型\n",
      "————————————\n",
      "Predict Result: \tNon-Causal\n",
      "Actual Result: \t\tCausal\n",
      "Sentence: 加拿大/石油/天然气/公司/加拿大/自然资源/canadiannaturalresources/周四/发布/财/报/显示/公司/第二季度/实现/净利/7.967/亿美元/上一年/同期/亏损/合每股/净/收益/69/美分/非/经常性/收益/幷/购/相关/收益/调整/后/每股/收益/为/22/美分/好/华尔街/预期/18/美/分公司/期/收入/27.6/亿美元/好/华尔街/预期/26.1/亿美元/迄今/股/股价/下跌/约/4/%/过去/12/月/上涨/近/4/%\n",
      "————————————\n",
      "Predict Result: \tCausal\n",
      "Actual Result: \t\tNon-Causal\n",
      "Sentence: 联络/互动/8/月/6/日/晚间/公告/近日/公司/收到/浙江/证监局/联络/互动/采取/责令/改正/措施/决定/志/涛/俞/竣/华/杨/颖/梅/采取/出具/警示/函/措施/决定/两份/行政/监管/措施/决定/志/涛/为/联络/互动/控制/人/董事长/俞/竣/华/董/秘/杨/颖/梅/系/财务总监/现场/检查/浙江/证监局/发现/联络/互动/问题/关联方/关联/交易/披露/遗漏/北京/无限/天机/科技/发展/有限公司/系/公司/控制/人/志/涛/控制/公司/公司/无限/天机/之间/业务/资金/往来/形成/关联/交易/公司/未/20152016/年/定期/报告/中/披露/关联方/关联/交易\n",
      "————————————\n",
      "Predict Result: \tNon-Causal\n",
      "Actual Result: \t\tCausal\n",
      "Sentence: 江苏/保监局/今日/公布/都/邦/财产保险/股份/有限公司/扬州/中心/支公司/行政处罚/决定书/据/了解/都/邦/财险/扬州/中/支/经营/过程/中/利用/保险业务/为/牟取/不/正当/利益/跨省/经营/保险业务/违法行为/江苏/保监局/核查/都/邦/财险/扬州/中/支/两项/违法行为/2013/年/2015/年/期间/扬州/某某/公司/都/邦/财险/扬州/中/支/投保/财产保险/综合/险/业务/中/公司/为/汤/某某/牟取/不/正当/利益/汤/某某/未/公司/签订/代理/协议/劳动合同/二/2013/年/2015/年/期间/扬州/某某/公司/都/邦/财险/扬州/中/支/投保/财产保险/综合/险/中/保险单/载明/保险/标的/地址/为/山西/阳泉市/郊区/西南/舁/乡/大洼/村/销售/网点/记载/为/都/邦/财险/扬州/中/支\n",
      "————————————\n",
      "Predict Result: \tNon-Causal\n",
      "Actual Result: \t\tCausal\n",
      "Sentence: 百/通/能源/6/月/13/日/公告/公司/基于/未来/整体/发展/战略/考虑/为/拓展/广东省/开平市/经营/业务/进一步/优化/产业结构/提升/公司/盈利/能力/综合/能力/公司/全资/子公司/百/通/宏达/热力/有限公司/拟/出资/设立/全资/子公司/开平/百/通/宏达/能源/有限公司/注册/地址/为/广东省/开平市/苍/城镇/注册资本/为/2000/万元/本次/对外/投资/目的/公司/基于/未来/整体/发展/战略/考虑/为/拓展/公司/广东省/开平市/经营/业务/进一步/优化/产业结构/提升/公司/盈利/能力/综合/能力\n",
      "————————————\n",
      "Predict Result: \tCausal\n",
      "Actual Result: \t\tNon-Causal\n",
      "Sentence: 世纪/风/7/月/5/日/公告/公司/拟/设立/全资/子公司/桂林/阳朔/遇/龙/园/农业/科技/发展/有限公司/注册地/为/桂林市/注册资本/为/1000/万元/公司/称/此次/对外/投资/落实/公司/战略规划/有利于/公司/拓展/业务范围/提高/综合/竞争能力/为/股东/创造/更/大/价值/促进/公司/长期/持续/发展\n",
      "————————————\n",
      "Predict Result: \tNon-Causal\n",
      "Actual Result: \t\tCausal\n",
      "Sentence: 高/德/信/7/月/18/日/发布/半年度/业绩/预告/2017/年/上半年/公司/预计/实现/净利润/1860/万元/2000/万元/同比/增长/超/30/%/公司/称/业绩/增长/得益于/公司/核心/业务/互联网/接入/服务/保持高速/增长/公司/光纤/城域网/资源/上/报告期/公司/业务/规模/持续/扩大/公司/城中村/光纤/改造/项目/拓展/初步/取得成效\n",
      "————————————\n",
      "Predict Result: \tNon-Causal\n",
      "Actual Result: \t\tCausal\n",
      "Sentence: 宝/利/国际/控股/股东/拟/半年/增/持/400800/万股/宝/利/国际/7/月/21/日/午间/公告/基于/公司/未来/发展前景/信心/公司/价值/认可/公司/控股/股东/控制/人/周/德/洪/计划/自有/资金/2017/年/7/月/21/日/6/月/内/择机/通过/二级/市场/增/持/公司/股份/400/万/800/万股\n",
      "————————————\n",
      "Predict Result: \tNon-Causal\n",
      "Actual Result: \t\tCausal\n",
      "Sentence: 苏州/未来/电器/闯关/ipo/遇阻/违规/受罚/家族/控股/存/忧/日前/苏州/未来/电器/股份/有限公司/ipo/发起/冲刺/根据/8/月/11/日/证监会/网站/公布/发行/监管部/首次/公开/发行股票/审核/工作/流程/申请/企业/情况/苏州/未来/电器/ipo/状态/显示/为/已/受理\n",
      "————————————\n",
      "Predict Result: \tCausal\n",
      "Actual Result: \t\tNon-Causal\n",
      "Sentence: 二/股东/终止/转让/股份/威/股份/收购/熊猫/新能源/失败/去年/5/月/威/股份/对外/称/公司/无/控制/人/至今/长/达/一年/时间/一年/里/威/股份/相继/5/名/高/辞职/公司/为了/探寻/新/利润/增长点/新/设/6/家/子公司/截至/2016/年末/3/家/尚未/开展业务/而/近日/威/股份/宣布/终止/收购/熊猫/新能源/收购/折戟/不过/这家/无/实/控/人/公司/却/受/多位/牛/散/青睐/股价/出现/上涨/而/业绩/不/尽如人意/那么/威/股份/一年/到底/发生\n",
      "————————————\n",
      "Predict Result: \tCausal\n",
      "Actual Result: \t\tNon-Causal\n",
      "Sentence: 综合/毛利率/2016/年/铁/集/股份/为/11.62/%/而/同行业/安通/控股/达到/22.77/%/天顺/股份/为/11.38/%/招股书/披露/铁/集/股份/本次/ipo/计划/募集/资金/4.82/亿元/1/亿元/用于/补充/流动资金/剩余/资金/投资/铝/产业链/式/联运/项目/新疆/石河子市/铁/集/物流/基地/项目/铝/产业链/式/联运/项目/铁/集/股份/表示/项目/达产/后/公司/将/新增/年/销售收入/8.54/亿元/25/%/所得税率/下/新增/年/净利润/4873/万元/中国/网/财经/记者/截至/2016/年/12/月/31/日/铁/集/股份/应收/账款/余额/为/1.66/亿元\n",
      "————————————\n",
      "Predict Result: \tCausal\n",
      "Actual Result: \t\tNon-Causal\n",
      "Sentence: 裕/科技/富士康/拟/投资/千亿/美国/设厂/公司/业务/不/受/影响/裕/科技/董事长/王/华/君/表示/富士康/美国/设厂/生产/面板/产品/而/裕/科技/给/富士康/终端产品/提供/服务/影响/海外/发展/裕/早/2011/年/已/越南/投资/发展/好/盈利/能力/经营/情况/平稳\n",
      "————————————\n",
      "Predict Result: \tCausal\n",
      "Actual Result: \t\tNon-Causal\n",
      "Sentence: 兰州/黄河/控股/股东/受/实/控/人/控制/公司/增/持/2.16/%/股份/兰州/黄河/8/月/10/日/晚/公告/6/月/23/日/7/月/20/日/期间/公司/控股/股东/新/盛/投资/受/公司/实/控/人/杨/世/江/控制/富润/地产/新/盛/工贸/增/持/公司/股份\n",
      "————————————\n",
      "Predict Result: \tCausal\n",
      "Actual Result: \t\tNon-Causal\n",
      "Sentence: 天津港/股东大会/将/审议/解决/同业/竞争/方案/天津港/股东大会/将/6/月/26/日/相关/议案/得以/顺利/通过/控股/股东/天津港/发展/之间/同业/竞争/问题/将/会/得到/化解/集团/内/定位/得以/主营业务/发展/基础/夯实/为/后续/发展/打下/良好基础\n",
      "————————————\n",
      "Predict Result: \tNon-Causal\n",
      "Actual Result: \t\tCausal\n",
      "Sentence: 记者/蔡/鼎/编辑/兰/素/英/欧盟/反垄断/机构/近日/谷/歌/开出/24/亿/欧元/天价/罚单/为/谷/歌/贴/上/垄断/企业/标签/很/会/影响/谷/歌/未来/数年/发展/欧盟/此次/裁决/为/后续/监管/打开/一扇/门/未来/谷/歌/核心/业务/移动电话/在线/广告/购买/旅行/特定/搜索/类别/或许/将/面临/调查/不仅如此/谷/歌/竞争对手/还/以此为证/据/谷/歌/提起/民事诉讼/欧盟委员会/反垄断/专员/玛格丽特/维斯塔/格/周二/cnbc/表示/24/亿/欧元/巨额/罚款/谷/歌/长久以来/滥用/垄断/地位/相称\n",
      "————————————\n",
      "Predict Result: \tNon-Causal\n",
      "Actual Result: \t\tCausal\n",
      "Sentence: 远望/谷/700/万元/坏账/调查/非/关联方/客户/分公司/注册/地址/深圳市/远望/通讯器材/有限公司/远望/谷/可谓/扶持/呵护/有加/成立/当年/远望/通讯/接到/来自/远望/谷/370/万元/采购/预付款/未/发货/便/先/拿到/货款/同年/还/赊账/方式/远望/谷/手中/租赁/设备/随后/几年/远望/通讯/客户/供应商/双重身份/出现/远望/谷/定期/报告/中/2014/年/远望/通讯/已/露出/经营不善/苗头/远望/谷/依旧/大力支持/最终/形成/700/万元/应收/账款/坏账/全额/计提/坏账\n",
      "————————————\n",
      "Predict Result: \tCausal\n",
      "Actual Result: \t\tNon-Causal\n",
      "Sentence: 助力/整体/上市/王府井/拟/吸收/合并/控股/股东/停牌/数日/之后/王府井/筹划/运作/资产重组/方案/撩开/面纱/持续/深化/国有企业/改革/大/背景/下/王府井/拟/通过/吸收/合并/控股/股东/王府井/国际/方式/实现/王府井/东安/国/中心/信/升/创/卓/福海/国盛/上市公司/股份/持有/从而/进一步/减少/国有资产/出资/监督/主体/上市公司/之间/决策层/级\n",
      "————————————\n",
      "Predict Result: \tNon-Causal\n",
      "Actual Result: \t\tCausal\n",
      "Sentence: 消息/传出/后/领/展/举行/股东/周年/大会/当日/会场/之外/合共/约/30/人/示威抗议/领/展/2014/年/出售/旗下/商场/街市/停车场/物业/本次/停车场/新/买家/涉嫌/拆/售车/位/图利/领/展/小/股东/批评/领/展/指出/近年来/出售/旗下/多个/公共/屋/资产/后/新/业主/因应/居民/需要/改善服务/无心/经营/商场/街市/小/股东/认为/香港特区政府/必须/公开/厘清/领/展/转售/物业/新/买家/拆/售车/位/有否/违反/香港/地契/条款/建议/港府/相关/部门/履行职责/监管/新/买家/须/为/居民/提供/服务/商品/运用/未来/基金/回购/领/展/股份\n",
      "————————————\n",
      "Predict Result: \tCausal\n",
      "Actual Result: \t\tNon-Causal\n",
      "Sentence: 安利/时/投资/发布公告/督/陈/文/因/事务/承担/已/辞/独立/非/执行/董事/薪酬/委员会/主席/审核/委员会/成员/提名/委员会/成员/陈/铭/已/获/委任/为/独立/非/执行/董事/审核/委员会/成员/王/人/纬/已/获/委任/为/薪酬/委员会/主席/2017/年/5/月/31/日/生效\n",
      "————————————\n",
      "Predict Result: \tCausal\n",
      "Actual Result: \t\tNon-Causal\n",
      "Sentence: 天安/财险/2000/亿/短期投资/盛宴/离席/西水股份/明天/压/黑云/近日/天安/财险/成为/市场/焦点/公司/非/寿险/投资/型业务/前两天/高歌猛进/之后/现金流/造成/压力/正/显现/西水股份/作为/天安/财险/大/股东/风险/还/上交所/关注/西水股份/回复/称/2017/年/2018/年/两年/天安/财险/需要/偿付/到期/保户/储金/投资/款/为/906/亿元/1237/亿元\n",
      "————————————\n",
      "Predict Result: \tCausal\n",
      "Actual Result: \t\tNon-Causal\n",
      "Sentence: 董事长/立案/调查/鱼跃/医疗/跌停/公司/回应/称/冯/小树/旧案/无关/公司/董事长/立案/调查/事项/针对/不是/上市公司/董事长/投资/很多/鱼跃/医疗/董/秘/陈/坚/接受/证券日报/记者/采访/时/表示/此事/更/深圳证券交易所/工作人员/股票/发行/审核/委员会/兼职/委员/冯/小树/涉嫌/违法/买卖/股票/案/无关\n",
      "————————————\n",
      "Predict Result: \tCausal\n",
      "Actual Result: \t\tNon-Causal\n",
      "Sentence: 公开/信息/显示/4/月/洲际/油气/将/焦作/万方/股份/解除/质押/后/随即/4/月/27/日/5/月/9/日/洲际/油气/将/焦作/万方/8161/万股/1955/万股/质押/给/联/讯/证券/5/月/26/日/洲际/油气/将/335/万股/补充/质押/给/联/讯/证券/此番/清仓/焦作/万方/洲际/油气/资金/需求/早/2016/年/12/月/公司/表示/转让/焦作/万方/股份/根据/经营/发展/情况/资金/状况/为了/优化/公司/资产/结构/控股/股东/股权/质押/危机/爆发/洲际/油气/资产/变现/步伐/加快\n",
      "————————————\n",
      "Predict Result: \tNon-Causal\n",
      "Actual Result: \t\tCausal\n",
      "Sentence: 中国/神华/预计/上半年/净利/243/亿元/同比/增长/147/%/中国/神华/7/月/28/日/晚/披露/业绩/预告/公司/预计/上半年/净利/约/243/亿元/同比/增长/约/147/%/业绩/增长/系/受益/国内/经济/稳/中/好/煤炭行业/供给/侧/结构性/改革/政策/效果/显现/2017/上半年/煤炭市场/价格/2016/上半年/大幅/增长\n",
      "————————————\n",
      "Predict Result: \tNon-Causal\n",
      "Actual Result: \t\tCausal\n",
      "Sentence: 京/新/药业/拟/收购/美/药品/研发/公司/股权/布局/海外/京/新/药业/6/月/26/日/晚间/公告/拟/不/超过/200/万美元/投资/美国/药品/研发/公司/spespharmaceuticalsinc./取得/公司/不/超过/25/%/股权/进一步/加强/研发/海外/布局/为/公司/布局/海外/药品/市场/打下基础\n",
      "————————————\n",
      "Predict Result: \tCausal\n",
      "Actual Result: \t\tNon-Causal\n",
      "Sentence: 据/报道/visa/称/考虑/英国/企业/提供/鼓励/进行/无/纸币/支付/政策/此前/支付/公司/美国/引入/类似/政策/挑选/50/家/小型/公司/如果/只/使用/卡片/支付/获得/1/万美元/奖励/要/获得/这笔/奖励/企业/必须/解释/无/纸币/支付/公司员工/客户/产生/影响/visa/一份/声明/中/表示/美国/实施/计划/后/希望/国家/引入/鼓励/无/纸币/政策/包括/英国/零售/分析师/katehardcastle/认为/鼓励/企业/使用/信用卡/政策/而/消费者/要/改变/消费/习惯/需要/奖励\n",
      "————————————\n",
      "Predict Result: \tNon-Causal\n",
      "Actual Result: \t\tCausal\n",
      "Sentence: 20142016/年/中/德/实现/营业/收入/2.76/亿元/3/亿元/3.7/亿元/同期/净利润/为/3531.09/万元/3034.41/万元/4.66/万元/据/了解/中/德/本次/ipo/计划/募集/资金/2.88/亿元/4000/万元/补充/流动资金/2.18/亿元/投资/年产/20/万台/精密/减速器/生产线/项目/3019/万元/投资/研发/中心/建设项目/据/了解/中/德/精密/减速器/2016/年/产能/约/为/10/万台/本次/募集/资金/投资/项目/使/精密/减速器/新增/产能/20/万台/中/德/表示/公司/生产/销售/产品/为/减速器/减速/电机\n",
      "————————————\n",
      "Predict Result: \tCausal\n",
      "Actual Result: \t\tNon-Causal\n",
      "Sentence: 华意/隆/6/月/2/日/发布/年报/2016/年/公司/实现/营业/收入/2.39/亿元/同比/上升/29.45/%/净利润/902.23/万元/同比/增长/31.33/%/每股/收益/0.07/元/2016/年/宏观经济/持续/低迷/国内/经济/下行/压力/大/全球/经济/增长/内生/力/不足/传统/行业/产能/过剩/公司/下游/企业/生产/经营/困难/尚未/解除/下游/市场需求/依旧/延续/低迷/焊割/设备/行业/整体/产销/仍/显/疲态/报告/期内/公司/持续/优化/产品/结构/提升/产品品质/售后服务/推动/试产/开发/渠道/下沉/完善/营销/网络/布局/营销/活动/扩大/国内/市场需求/保证/公司/营业/收入/稳定增长\n",
      "————————————\n",
      "Predict Result: \tNon-Causal\n",
      "Actual Result: \t\tCausal\n",
      "Sentence: 业内人士/表示/长/租/公寓/拓展/房地产/业务/一种/新/形式/开发商/复合型/价值/有利于/公司/实现/品牌/输出/增加/客户/黏性/更为/还/企业/打通/上下游/资源/获取/稳定/现金流/还/实现/资本/进一步/运作/本次/美国/睿/星/资本/合作/导入/国际/资本/将/加速/中/骏/置业/长/租/公寓/领域/拓展/速度/资料/显示/美国/睿/星/资本/全球/长/租/公寓/地产/平台/公司/管理/约/140/亿美元/资产/美国/英国/荷兰/墨西哥/国家/160/城市/管理/42.5/万套/公寓\n",
      "————————————\n",
      "Predict Result: \tNon-Causal\n",
      "Actual Result: \t\tCausal\n",
      "Sentence: 8/交易日/8/涨停/重组/大/牛/横空出世/重组股/春天/8/交易日/8/涨停/好/一阵子/见/过/飚/股/华北/高速/6/月/27/日/公布/资产重组/方案/后/6/月/28/日/股价/火箭/直线/窜升\n",
      "————————————\n",
      "Predict Result: \tCausal\n",
      "Actual Result: \t\tNon-Causal\n",
      "Sentence: 6/月/15/日/消息/据/国外/媒体报道/虽然/此前/东芝/已/西部数据/发出/警告/要求/不要/再/阻止/东芝/出售/闪存/芯片/业务/而/西部数据/东芝/警告/当回事/周三/再次/作出/尝试/法庭/申请/阻止/东芝/出售/闪存/芯片/业务/禁令/当地/时间/周三/西部数据/美国/加利福/利亚州/法庭/申请/禁令/要求/东芝/停止/出售/包括/合资企业/在内/闪存/芯片/业务/已/不是/西部数据/首次/尝试/阻止/东芝/出售/闪存/芯片/业务/此前/东芝/计划/剥离/闪存/芯片/业务/出售/时/西部数据/发表声明/声称/东芝/无权/单方面/剥离/出售/业务\n",
      "————————————\n",
      "Predict Result: \tCausal\n",
      "Actual Result: \t\tNon-Causal\n",
      "Sentence: 澳/洋/顺昌/led/业务/锂电池/业务/处于/快速增长/中/澳/洋/顺昌/8/月/7/日/晚/互动/平台/上/表示/led/业务/锂电池/业务/金属/物流/业务/为/公司/三/大/业务/来看/led/业务/锂电池/业务/处于/快速增长/中/业务/比例/结构/会/发生/较大/变化\n",
      "————————————\n",
      "Predict Result: \tNon-Causal\n",
      "Actual Result: \t\tCausal\n",
      "Sentence: 佳/都/科技/子公司/预/中标/2.38/亿元/工程/建设项目/佳/都/科技/7/月/17/日/晚间/公告/公司/控股/子公司/新疆/佳/都/健/讯/科技/有限公司/近期/参与/巴楚县/城区/乡村/视频/监控卡/口/高空/瞭望/机/建设项目/投标/近日/确定/为/项目/预/中标/单位/预/中标/金额/合计/2.38/亿元/占/公司/2016/年度/营业/收入/8.35/%/预计/公司/未来/经营/业绩/影响\n",
      "————————————\n",
      "Predict Result: \tNon-Causal\n",
      "Actual Result: \t\tCausal\n",
      "Sentence: 新/都/退/30/天/151/家/券商/营业部/围猎/两/营业部/7/登/龙虎榜/7/月/6/日/新/都/退/迎来/a/股/市场/一个/交易日/然而/重新/上市/预期/诱惑/下/新/都/退/上演/末日/狂欢/截至/收盘/股价/上涨/4.29/%/收报/1.7/元/股/成交/金额/6522/万元/环比/增加/2016/万元\n",
      "————————————\n",
      "Predict Result: \tNon-Causal\n",
      "Actual Result: \t\tCausal\n",
      "Sentence: 宫颈癌/疫苗/获/批/上市/智/飞/生物/开启/高速/增长/旅/7/月/31/日/葛兰素/史/克/宣布/二价/宫颈癌/疫苗/获得/中国/质检/部门/放行/中国/正式/销售/消息/代理/默沙东/四价/宫颈癌/疫苗/智/飞/生物/构成/影响\n",
      "————————————\n",
      "Predict Result: \tCausal\n",
      "Actual Result: \t\tNon-Causal\n",
      "Sentence: 梅耶尔/雅虎/离职/信/回望/感恩/未来/期/verizon/收购/雅虎/交易/正式/完成/梅耶尔/正式/卸任/雅虎/ceo/这位/硅谷/明星/过去/5/年/饱受/争议/出任/ceo/段时间/里/未能/实现/雅虎/复兴/某种程度/上/加速/雅虎/灭亡/速度/经营策略/任期/内/爆发/两次/数据/泄露/事件/使/雅虎/积重难返/最终/董事会/出售/别无选择\n",
      "————————————\n",
      "Predict Result: \tCausal\n",
      "Actual Result: \t\tNon-Causal\n",
      "Sentence: 证监局/指出/博雅/科技/行为/违反/非上市/公众/公司/监督管理/办法/第十三条/第十四条/第二十条/第二十五条/规定/东海/证券/作为/博雅/科技/主办/券商/未能/勤勉/尽责/未能/履行/审慎/核查/义务/未能/督导/博雅/科技/采取有效/措施/防范/公司/控股/股东/关联方/资金占用/未能/督导/博雅/科技/真实/准确/完整/披露/信息/违反/非上市/公众/公司/监督管理/办法/第六条/第五十四条/规定/综合/考虑/公司/博雅/科技/持续/督导/履职/情况/根据/非上市/公众/公司/监督管理/办法/第六十二/条/规定/决定/东海/证券/采取/出具/警示/函/行政/监管/措施\n",
      "————————————\n",
      "Predict Result: \tNon-Causal\n",
      "Actual Result: \t\tCausal\n",
      "Sentence: 松/芝/股份/董事长/涉/内幕/交易/刑拘/一致/行动/人/两年/前/曾/证监会/调查/6/月/15/日/早间/上市公司/上海/加/冷/松/芝/汽车空调/股份/有限公司/公告/称/公司/董事会/近日/收到/上海市/公安机关/口头/通知/董事长/陈/福泉/因涉嫌/内幕/交易/上海市公安局/经侦/总队/刑事拘留/案件/尚待/公安机关/进一步/调查\n",
      "————————————\n",
      "Predict Result: \tNon-Causal\n",
      "Actual Result: \t\tCausal\n",
      "Sentence: 威/华/股份/公告/公司/控股/股东/深圳/盛/屯/集团/有限公司/2017/年/7/月/27/日/2017/年/8/月/10/日/通过/创/金/合/信/永泰/3/号/资产/管理/计划/二级/市场/竞价/交易/方式/增/持/公司/股份/6665600/股/占/公司/总/股本/1.3584/%\n",
      "————————————\n",
      "Predict Result: \tNon-Causal\n",
      "Actual Result: \t\tCausal\n",
      "Sentence: 仕/特/朗/金融/公布/主席/行政/总裁/潘/稷/持有/autumnocean/6/月/14/日/公开市场/每股/0.4/元/购买/合共/22/万股/股份/购买/后/autumnocean/持股/量/约/66.2/%\n",
      "————————————\n",
      "Predict Result: \tCausal\n",
      "Actual Result: \t\tNon-Causal\n",
      "Sentence: 远望/谷/10/日/晚间/发布/股票交易/异常/波动/公告/称/公司/关注/近期/无人/零售/相关/媒体报道/称/公司/无人/零售/概念/公司/2015/年/以来/将/零售/物/联网/作为/公司/主营业务/战略/聚焦/行业/领域/公司/面向/服装/零售/企业/推出/新/零售/rfid/整体/解决方案/包括/零售/供应链/管理/解决方案/门店/管理/解决方案/旨在/服装/零售商/提升/物流/供应链/效率/降低/营运/成本/改善/客户/体验/业务/尚未/涉及/无人/零售/领域\n",
      "————————————\n",
      "Predict Result: \tNon-Causal\n",
      "Actual Result: \t\tCausal\n",
      "Sentence: 鼎/矿业/公布/2017/年/8/月/14/日/公司/建/源/投资/签订/一份/保密/条款/外/法律/约束力/股权/收购/意向书/据此/公司/拟向/建/源/投资/收购/肇庆/聚光/光伏/电站/云浮/聚光/光伏/电站/股权/签订/意向书/后/公司/将/庆/聚光/云浮/聚光/资产/负债/进行/尽职/调查/满意/结果/后/签订/书/书/3/月/内/签订/正式/收购/协议/公告/显示/肇庆/聚光/注册资本/人民币/2000/万元/经营范围/为/光伏/发电/项目/开发/建设/维护/光伏/设备/元器件/制造/销售\n",
      "————————————\n",
      "Predict Result: \tNon-Causal\n",
      "Actual Result: \t\tCausal\n",
      "Sentence: 股/转/公司/6/月/22/日/公告/天际/数字/6/月/7/日/披露/更正/后/2016/年/年度报告/财务会计/报告/审计/意见/类型/由/标准/无/保留意见/变更/为/保留意见/股/转/公司/研究/根据/全国/中小企业/股份/转让/系统/挂牌/公司/分层/管理/办法/第十二条/规定/天际/数字/不/创新/层/挂牌/公司/维持/条件/根据/分层/管理/办法/第十五条/规定/2017/年/6/月/23/日/天际/数字/创新/层/调整/基础/层\n",
      "————————————\n",
      "Predict Result: \tNon-Causal\n",
      "Actual Result: \t\tCausal\n",
      "Sentence: 恒指/公司/公布/百/丽/国际/完成/私有化/将/会/退市/下/月/18/日/收市/后/将/会/恒指/成分股/中/剔除/恒指/成份股/数目/将/会/由/50/只/减少/49/只/直至/下次/指数/检讨/前/不会/新/成份股/替代/百/丽/国际/私有化/法院/会议/股东/特别/大会/将/下/月/17/日/举行\n",
      "————————————\n",
      "Predict Result: \tNon-Causal\n",
      "Actual Result: \t\tCausal\n",
      "Sentence: 辉煌/科技/发布/截至/2017/年/6/月/30/日/止/6/月/中期/业绩/集团/期内/收入/为/1.79/亿港元/同比/增/29.5/%/毛利/为/2674.7/万港元/同比/增/66.9/%/公司/权益/持有人/应/占/溢利/为/786.1/万港元/2016/年/同期/取得/亏损/538.2/万港元/相比/实现/扭亏为盈/每股/盈利/1.23/港/仙/不/派息/公告/显示/受惠/集团/推出/高增值/产品/人民币/贬值/中国/劳工/成本/趋/稳/集团/期内/毛利率/去年同期/增长/约/3.3/%\n",
      "————————————\n",
      "Predict Result: \tNon-Causal\n",
      "Actual Result: \t\tCausal\n",
      "Sentence: 昊/华/传动/8/月/3/日/发布/半年报/2017/年/上半年/公司/实现/营业/收入/1.41/亿元/同比/上升/56.18/%/净利润/506.69/万元/同比/增长/43.88/%/每股/收益/0.16/元/2017/年/公司/总/经营/战略/进一步/稳固/客户/基础/针对/客户/市场/需要/导入/适销/产品/培育/强大/销售/团队/市场/形势/好转/3c/智能手机/领域/快速/复苏/给/昊/华/传动/带来/新/发展/机遇/针对/智能/制造/领域/产品/法国/摩/多利/减速机/法国/施耐德/电气/安/川/东芝/机器人/自主/品牌/hop/销售/都/2016/年/同期/大幅度/提升/取得/骄人/业绩\n",
      "————————————\n",
      "Predict Result: \tCausal\n",
      "Actual Result: \t\tNon-Causal\n",
      "Sentence: 金科/股份/出售/金科/大酒店/预计/获利/2.1/亿/金科/股份/6/月/30/日/晚间/公告/公司/将/持有/金科/大酒店/100/%/股权/转让/给/渭南/鸿/景/渭南/鸿/景/同意/将/金科/大酒店/委托/公司/经营/管理/此次/股权/转让/交易额/为/3.59/亿元/预计/产生/利润/约/2.1/亿元/占/公司/一期/审计/净利润/15.05/%\n",
      "————————————\n",
      "Predict Result: \tNon-Causal\n",
      "Actual Result: \t\tCausal\n",
      "Sentence: 开山/股份/申请/办理/5/亿元/贷款/加快/实现/转型/目标/步伐/开山/股份/6/月/19/日/晚间/发布公告/为/完成/公司/地热/新/能源开发/领域/系统/解决方案/提供商/地热/新/能源开发/运营商/转变/进一步/拓宽/公司/融资/渠道/保证/公司/投资/经营/活动/现金流量/需要/中国进出口银行/浙江省/分行/友好/协商一致/公司/董事会/同意/公司/中国进出口银行/浙江省/分行/申请/办理/合计/不/超过/5/亿元/人民币/贷款/4/亿元/为/流动资金/贷款/1/亿元/为/贸易/融资/业务/贷款/方式/为/信用贷款/用于/公司/日常/经营/资金周转/贸易/经营/周转/用途\n",
      "————————————\n",
      "Predict Result: \tCausal\n",
      "Actual Result: \t\tNon-Causal\n",
      "Sentence: 6/月/28/日/厚谊/俊/捷/披露/2016/年/年度报告/根据/年报/2016/年/厚谊/俊/捷/实现/营业/收入/2.09/亿元/同比/增长/9.74/%/实现/归属于/挂牌/公司/股东/净利润/2754.70/万元/同比/减少/8.80/%/每股/收益/0.79/元/厚谊/俊/捷/指出/2016/年/公司/围绕/年度预算/经营/计划/面对/进口车/国产车/销售市场/变化/适时地/调整/物流/资源分配/稳固/原有/客户/业务/份额/拓展/新/客户/挖掘/新/业务/增长点/重视/回程/业务/资源/开发/物流/网络/建设/确保/公司/营业/收入/稳步增长\n",
      "————————————\n",
      "Predict Result: \tCausal\n",
      "Actual Result: \t\tNon-Causal\n",
      "Sentence: 义/博/通信/6/月/6/日/公告/6/月/5/日/公司/收到/中国证监会/河北/监管局/公司/出具/义/博/通信/设备/集团股份/有限公司/监管/关注/函/监管/关注/函/指出/2016/年/9/月/公司/为/控股/股东/控制/人/董事长/闫/航/飞/控制/河北/鸿/宇/通信/器材/有限公司/2/笔/500/万元/银行贷款/提供/担保/公司/为/鸿/宇/通信/提供/担保/事项/发生/时/未/履行/董事会/股东大会/决策/审议/程序/事项/2017/年/4/月/26/日/第一届/第十四次/会议/补充/审议/通过/同年/5/月/19/日/2016/年/年度/股东大会/补充/审议/通过\n",
      "————————————\n",
      "Predict Result: \tCausal\n",
      "Actual Result: \t\tNon-Causal\n",
      "Sentence: 天广/中/茂/17/日/晚间/公告/公司/全资/子公司/电白/中/茂/生物科技/有限公司/2017/年/8/月/17/日/浙江/舟山群岛/新区/金/塘/管理/委员会/签署/合作/协议/中/茂/生物/舟山/地区/计划/投资/不/超过/六十/亿元/建设/中/茂/生物/华东/生产/基地/规划/形成/集/蘑菇/生产/蚯蚓/养殖/家禽/养殖/渔业/养殖/为/一体/农业/产业园/公司/称/中/茂/生物/仅/食用菌/业务/尚/不/具备/蚯蚓/养殖/家禽/养殖/渔业/养殖/业务/条件/文件/中/载明/建设/集/蘑菇/生产/蚯蚓/养殖/家禽/养殖/渔业/养殖/为/一体/农业/产业园/仅/为/中/茂/生物/利用/食用菌/种植/产生/废渣/下游/产业/延伸/发展/循环/经济/初步/规划/设想/最终/成功/实施/较大/不确定性\n",
      "————————————\n"
     ]
    }
   ],
   "source": [
    "prt(result, yVal, 0.4)"
   ]
  }
 ],
 "metadata": {
  "kernelspec": {
   "display_name": "Python 3",
   "language": "python",
   "name": "python3"
  },
  "language_info": {
   "codemirror_mode": {
    "name": "ipython",
    "version": 3
   },
   "file_extension": ".py",
   "mimetype": "text/x-python",
   "name": "python",
   "nbconvert_exporter": "python",
   "pygments_lexer": "ipython3",
   "version": "3.6.2"
  },
  "toc": {
   "colors": {
    "hover_highlight": "#DAA520",
    "navigate_num": "#000000",
    "navigate_text": "#333333",
    "running_highlight": "#FF0000",
    "selected_highlight": "#FFD700",
    "sidebar_border": "#EEEEEE",
    "wrapper_background": "#FFFFFF"
   },
   "moveMenuLeft": true,
   "nav_menu": {
    "height": "66px",
    "width": "252px"
   },
   "navigate_menu": true,
   "number_sections": true,
   "sideBar": true,
   "threshold": 4,
   "toc_cell": true,
   "toc_section_display": "block",
   "toc_window_display": false,
   "widenNotebook": false
  }
 },
 "nbformat": 4,
 "nbformat_minor": 2
}
