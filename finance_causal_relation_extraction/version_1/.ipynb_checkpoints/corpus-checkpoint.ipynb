{
 "cells": [
  {
   "cell_type": "markdown",
   "metadata": {
    "toc": "true"
   },
   "source": [
    "<h1>Table of Contents<span class=\"tocSkip\"></span></h1>\n",
    "<div class=\"toc\" style=\"margin-top: 1em;\"><ul class=\"toc-item\"><li><span><a href=\"#搜狐新闻数据\" data-toc-modified-id=\"搜狐新闻数据-1\"><span class=\"toc-item-num\">1&nbsp;&nbsp;</span>搜狐新闻数据</a></span></li><li><span><a href=\"#全网新闻数据\" data-toc-modified-id=\"全网新闻数据-2\"><span class=\"toc-item-num\">2&nbsp;&nbsp;</span>全网新闻数据</a></span></li><li><span><a href=\"#任务数据\" data-toc-modified-id=\"任务数据-3\"><span class=\"toc-item-num\">3&nbsp;&nbsp;</span>任务数据</a></span></li></ul></div>"
   ]
  },
  {
   "cell_type": "code",
   "execution_count": 3,
   "metadata": {},
   "outputs": [],
   "source": [
    "import os\n",
    "import json\n",
    "import jieba\n",
    "import re\n",
    "from tqdm import tqdm\n",
    "import matplotlib.pyplot as plt\n",
    "%matplotlib inline\n",
    "%config InlineBackend.figure_format = 'retina'"
   ]
  },
  {
   "cell_type": "code",
   "execution_count": 4,
   "metadata": {},
   "outputs": [],
   "source": [
    "def load_data(path):\n",
    "    \"\"\"\n",
    "    Load date from file\n",
    "    \"\"\"\n",
    "    input_file = os.path.join(path)\n",
    "    with open(input_file, 'r', encoding='gb18030') as f:\n",
    "        return f.read()"
   ]
  },
  {
   "cell_type": "code",
   "execution_count": 5,
   "metadata": {},
   "outputs": [],
   "source": [
    "def load_mdata(path):\n",
    "    \"\"\"\n",
    "    Load mission date from file\n",
    "    \"\"\"\n",
    "    data = []\n",
    "    input_file = os.path.join(path)\n",
    "    with open(input_file) as f:\n",
    "        lines = f.readlines()\n",
    "    for line in lines:\n",
    "        item = json.loads(line)\n",
    "        data.append(item['abstract'])\n",
    "    return data"
   ]
  },
  {
   "cell_type": "code",
   "execution_count": 6,
   "metadata": {},
   "outputs": [],
   "source": [
    "not_cuts = re.compile(u'([\\da-zA-Z\\.]+)|《(.*?)》|“(.{1,10})”')\n",
    "re_replace = re.compile(u'[^\\u4e00-\\u9fa50-9a-zA-Z\\%《》\\(\\)（）“”·\\.]')"
   ]
  },
  {
   "cell_type": "code",
   "execution_count": 7,
   "metadata": {},
   "outputs": [],
   "source": [
    "def newcut(s):\n",
    "    \"\"\"\n",
    "    Word Segmentation\n",
    "    \"\"\"\n",
    "    result = []\n",
    "    j = 0\n",
    "    s = re_replace.sub(' ', s)\n",
    "    \n",
    "    for i in not_cuts.finditer(s):\n",
    "        result.extend(jieba.lcut(s[j:i.start()], HMM=False))\n",
    "        if s[i.start()] in [u'《', u'“']:\n",
    "            result.extend([s[i.start()], s[i.start()+1:i.end()-1], s[i.end()-1]])\n",
    "        else:\n",
    "            result.append(s[i.start():i.end()])\n",
    "        j = i.end()\n",
    "    result.extend(jieba.lcut(s[j:], HMM=False))\n",
    "    return result\n",
    "\n",
    "def clean(s):\n",
    "    \"\"\"\n",
    "    Clean data\n",
    "    \"\"\"\n",
    "    for i in range(len(s)):\n",
    "        if s[i] == ' ':\n",
    "            s[i] = None\n",
    "        if s[i] == '(':\n",
    "            for j in range(i+1, len(s)):\n",
    "                if s[j] == ')':\n",
    "                    for k in range(i, j+1):\n",
    "                        s[k] = None\n",
    "        if s[i] == '（':\n",
    "            for j in range(i+1, len(s)):\n",
    "                if s[j] == '）':\n",
    "                    for k in range(i, j+1):\n",
    "                        s[k] = None\n",
    "        if s[i] == '%':\n",
    "            if s[i-1] != None:\n",
    "                s[i-1] = s[i-1]+'%'\n",
    "            s[i] = None    \n",
    "    return [i for i in s if i != None]"
   ]
  },
  {
   "cell_type": "code",
   "execution_count": 8,
   "metadata": {},
   "outputs": [],
   "source": [
    "def parse(html):\n",
    "    pattern = re.compile('<content>(.*?)</content>', re.S)\n",
    "    items = re.findall(pattern, html)\n",
    "    for item in tqdm(items):\n",
    "        yield {\n",
    "            'content': item\n",
    "        }\n",
    "        \n",
    "def write_to_file(content, filename):\n",
    "    with open(filename, 'a', encoding='utf-8') as f:\n",
    "        f.write(json.dumps(content, ensure_ascii=False) + '\\n')\n",
    "        f.close()"
   ]
  },
  {
   "cell_type": "markdown",
   "metadata": {},
   "source": [
    "# 搜狐新闻数据"
   ]
  },
  {
   "cell_type": "code",
   "execution_count": 9,
   "metadata": {},
   "outputs": [],
   "source": [
    "data_path = '/Users/lizhn7/Downloads/DATA/chinese_news/news_sohusite_xml.dat'\n",
    "rawData = load_data(data_path)"
   ]
  },
  {
   "cell_type": "code",
   "execution_count": 10,
   "metadata": {},
   "outputs": [
    {
     "data": {
      "text/plain": [
       "'<doc>\\n<url>http://gongyi.sohu.com/20120706/n347457739.shtml</url>\\n<docno>98590b972ad2f0ea-34913306c0bb3300</docno>\\n<contenttitle>深圳地铁将设立ＶＩＰ头等车厢\\u3000买双倍票可享坐票</contenttitle>\\n<content>南都讯\\u3000记者刘凡\\u3000周昌和\\u3000任笑一\\u3000继推出日票后，深圳今后将设地铁ＶＩＰ头等车厢，设坐票制。昨日，《南都ＭＥＴＲＯ》创刊仪式暨２０１２年深港地铁圈高峰论坛上透露，在未来的１１号线上将增加特色服务，满足不同消费层次的乘客的不同需求，如特设行李架的车厢和买双倍票可有座位坐的ＶＩＰ车厢等。\\ue40c论坛上，深圳市政府副秘书长、轨道交通建设办公室主任赵鹏林透露，地铁未来的方向将分等级，满足不同层次的人的需求，提供不同层次的有针对的服务。其中包括一些档次稍微高一些的服务。“我们要让公共交通也能满足档次稍高一些的服务”。比如，尝试有座位的地铁票服务。尤其是一些远道而来的乘客，通过提供坐票服务，让乘坐地铁也能享受到非常舒适的体验。他说，这种坐票的服务有望在地铁３期上实行，将加挂２节车厢以实施花钱可买座位的服务。\\ue40c“我们希望轨道交通和家里开的车一样，分很多种。”赵鹏林说，比如有些地铁是“观光线”，不仅沿途的风光非常好，还能凭一张票无数次上下，如同旅游时提供的“通票服务”。再比如，设立可以放大件行李的车厢，今后通过设专门可放大件行李的座位，避免像现在放行李不太方便的现象。“未来地铁初步不仅在干线上铺设，还会在支线、城际线上去建设。”\\ue40c“觉得如果车费不太贵的话，还是愿意考虑的。”昨日市民黄小姐表示，尤其是从老街到机场这一段，老街站每次上下客都很多人，而如果赶上上下班高峰期，特别拥挤，要一路从老街站站到机场，４０、５０分钟还是挺吃力的，宁愿多花点钱也能稍微舒适一点。但是白领林先生则表示，自己每天上下班都要坐地铁，出双倍车资买坐票费用有点高。</content>\\n</doc>\\n<doc>\\n<url>http://gongyi.sohu.com/20120724/n348878190.shtml</url>\\n<docno>5fa7926d2cd2f0ea-34913306c0bb3300</docno>\\n<contenttitle>爸爸为女儿百万建幼儿园'"
      ]
     },
     "execution_count": 10,
     "metadata": {},
     "output_type": "execute_result"
    }
   ],
   "source": [
    "rawData[:1000]"
   ]
  },
  {
   "cell_type": "code",
   "execution_count": 8,
   "metadata": {},
   "outputs": [
    {
     "name": "stderr",
     "output_type": "stream",
     "text": [
      "  0%|          | 0/1411996 [00:00<?, ?it/s]Building prefix dict from the default dictionary ...\n",
      "Loading model from cache /var/folders/kz/hqjl_dfx3g3_2vxylxlj1s940000gn/T/jieba.cache\n",
      "Loading model cost 1.069 seconds.\n",
      "Prefix dict has been built succesfully.\n",
      "100%|██████████| 1411996/1411996 [50:37<00:00, 464.86it/s] \n"
     ]
    }
   ],
   "source": [
    "content = parse(rawData)\n",
    "filename = '/Users/lizhn7/Downloads/DATA/chinese_news/content_1.json'\n",
    "for c in content:\n",
    "    if c['content'] != '':\n",
    "        write_to_file({'contWords': clean(newcut(c['content']))}, filename)"
   ]
  },
  {
   "cell_type": "code",
   "execution_count": 10,
   "metadata": {},
   "outputs": [
    {
     "name": "stderr",
     "output_type": "stream",
     "text": [
      "100%|██████████| 1411996/1411996 [01:41<00:00, 13864.02it/s]\n"
     ]
    }
   ],
   "source": [
    "content = parse(rawData)\n",
    "filename = '/Users/lizhn7/Downloads/DATA/chinese_news/content_01.json'\n",
    "for c in content:\n",
    "    if c['content'] != '':\n",
    "        write_to_file({'content': c['content']}, filename)"
   ]
  },
  {
   "cell_type": "code",
   "execution_count": 11,
   "metadata": {},
   "outputs": [
    {
     "name": "stdout",
     "output_type": "stream",
     "text": [
      " 1298156 /Users/lizhn7/Downloads/DATA/chinese_news/content_1.json\r\n"
     ]
    }
   ],
   "source": [
    "!wc -l /Users/lizhn7/Downloads/DATA/chinese_news/content_1.json"
   ]
  },
  {
   "cell_type": "markdown",
   "metadata": {},
   "source": [
    "# 全网新闻数据"
   ]
  },
  {
   "cell_type": "code",
   "execution_count": 9,
   "metadata": {
    "collapsed": true
   },
   "outputs": [],
   "source": [
    "data_path = '/Users/lizhn7/Downloads/DATA/chinese_news/news_tensite_xml.dat'\n",
    "rawData = load_data(data_path)"
   ]
  },
  {
   "cell_type": "code",
   "execution_count": 10,
   "metadata": {},
   "outputs": [
    {
     "name": "stderr",
     "output_type": "stream",
     "text": [
      "100%|██████████| 1294233/1294233 [49:44<00:00, 433.70it/s] \n"
     ]
    }
   ],
   "source": [
    "content = parse(rawData)\n",
    "filename = '/Users/lizhn7/Downloads/DATA/chinese_news/content_2.json'\n",
    "for c in content:\n",
    "    if c['content'] != '':\n",
    "        write_to_file({'contWords': clean(newcut(c['content']))}, filename)"
   ]
  },
  {
   "cell_type": "code",
   "execution_count": 13,
   "metadata": {},
   "outputs": [
    {
     "name": "stdout",
     "output_type": "stream",
     "text": [
      " 1143529 /Users/lizhn7/Downloads/DATA/chinese_news/content_2.json\r\n"
     ]
    }
   ],
   "source": [
    "!wc -l /Users/lizhn7/Downloads/DATA/chinese_news/content_2.json"
   ]
  },
  {
   "cell_type": "markdown",
   "metadata": {},
   "source": [
    "# 任务数据"
   ]
  },
  {
   "cell_type": "code",
   "execution_count": 15,
   "metadata": {
    "collapsed": true
   },
   "outputs": [],
   "source": [
    "rawData = load_mdata('/Users/lizhn7/Documents/Github/深度炼丹炉/causal_relation_extraction/raw_data.json')\n",
    "filename = '/Users/lizhn7/Downloads/DATA/chinese_news/content_3.json'\n",
    "for s in rawData:\n",
    "    write_to_file({'contWords': clean(newcut(s))}, filename)"
   ]
  },
  {
   "cell_type": "code",
   "execution_count": 16,
   "metadata": {},
   "outputs": [
    {
     "name": "stdout",
     "output_type": "stream",
     "text": [
      "   21273 /Users/lizhn7/Downloads/DATA/chinese_news/content_3.json\r\n"
     ]
    }
   ],
   "source": [
    "!wc -l /Users/lizhn7/Downloads/DATA/chinese_news/content_3.json"
   ]
  }
 ],
 "metadata": {
  "kernelspec": {
   "display_name": "Python 3",
   "language": "python",
   "name": "python3"
  },
  "language_info": {
   "codemirror_mode": {
    "name": "ipython",
    "version": 3
   },
   "file_extension": ".py",
   "mimetype": "text/x-python",
   "name": "python",
   "nbconvert_exporter": "python",
   "pygments_lexer": "ipython3",
   "version": "3.6.3"
  },
  "toc": {
   "nav_menu": {
    "height": "12px",
    "width": "252px"
   },
   "number_sections": true,
   "sideBar": true,
   "skip_h1_title": false,
   "toc_cell": true,
   "toc_position": {},
   "toc_section_display": "block",
   "toc_window_display": false
  }
 },
 "nbformat": 4,
 "nbformat_minor": 2
}
