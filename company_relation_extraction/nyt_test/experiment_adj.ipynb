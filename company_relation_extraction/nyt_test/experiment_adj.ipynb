{
 "cells": [
  {
   "cell_type": "markdown",
   "metadata": {
    "toc": "true"
   },
   "source": [
    "# Table of Contents\n",
    " <p><div class=\"lev1 toc-item\"><a href=\"#Data-Preprocessing\" data-toc-modified-id=\"Data-Preprocessing-1\"><span class=\"toc-item-num\">1&nbsp;&nbsp;</span>Data Preprocessing</a></div><div class=\"lev2 toc-item\"><a href=\"#Load-Data\" data-toc-modified-id=\"Load-Data-11\"><span class=\"toc-item-num\">1.1&nbsp;&nbsp;</span>Load Data</a></div><div class=\"lev3 toc-item\"><a href=\"#Load-Train-Data\" data-toc-modified-id=\"Load-Train-Data-111\"><span class=\"toc-item-num\">1.1.1&nbsp;&nbsp;</span>Load Train Data</a></div><div class=\"lev3 toc-item\"><a href=\"#Train-Data-Sample\" data-toc-modified-id=\"Train-Data-Sample-112\"><span class=\"toc-item-num\">1.1.2&nbsp;&nbsp;</span>Train Data Sample</a></div><div class=\"lev3 toc-item\"><a href=\"#Load-Test-Data\" data-toc-modified-id=\"Load-Test-Data-113\"><span class=\"toc-item-num\">1.1.3&nbsp;&nbsp;</span>Load Test Data</a></div><div class=\"lev3 toc-item\"><a href=\"#Relation-Types\" data-toc-modified-id=\"Relation-Types-114\"><span class=\"toc-item-num\">1.1.4&nbsp;&nbsp;</span>Relation Types</a></div><div class=\"lev2 toc-item\"><a href=\"#Participle\" data-toc-modified-id=\"Participle-12\"><span class=\"toc-item-num\">1.2&nbsp;&nbsp;</span>Participle</a></div><div class=\"lev2 toc-item\"><a href=\"#Make-Adjacency-List\" data-toc-modified-id=\"Make-Adjacency-List-13\"><span class=\"toc-item-num\">1.3&nbsp;&nbsp;</span>Make Adjacency List</a></div><div class=\"lev3 toc-item\"><a href=\"#Make-Adjacency-List-of-Train-Data\" data-toc-modified-id=\"Make-Adjacency-List-of-Train-Data-131\"><span class=\"toc-item-num\">1.3.1&nbsp;&nbsp;</span>Make Adjacency List of Train Data</a></div><div class=\"lev3 toc-item\"><a href=\"#Make-Adjacency-List-of-Test-Data\" data-toc-modified-id=\"Make-Adjacency-List-of-Test-Data-132\"><span class=\"toc-item-num\">1.3.2&nbsp;&nbsp;</span>Make Adjacency List of Test Data</a></div><div class=\"lev1 toc-item\"><a href=\"#Build-Dateset\" data-toc-modified-id=\"Build-Dateset-2\"><span class=\"toc-item-num\">2&nbsp;&nbsp;</span>Build Dateset</a></div><div class=\"lev1 toc-item\"><a href=\"#Save-Dataset\" data-toc-modified-id=\"Save-Dataset-3\"><span class=\"toc-item-num\">3&nbsp;&nbsp;</span>Save Dataset</a></div><div class=\"lev1 toc-item\"><a href=\"#Checkpoint\" data-toc-modified-id=\"Checkpoint-4\"><span class=\"toc-item-num\">4&nbsp;&nbsp;</span>Checkpoint</a></div>"
   ]
  },
  {
   "cell_type": "markdown",
   "metadata": {},
   "source": [
    "# Data Preprocessing"
   ]
  },
  {
   "cell_type": "markdown",
   "metadata": {},
   "source": [
    "## Load Data"
   ]
  },
  {
   "cell_type": "markdown",
   "metadata": {},
   "source": [
    "### Load Train Data"
   ]
  },
  {
   "cell_type": "code",
   "execution_count": 1,
   "metadata": {
    "collapsed": true
   },
   "outputs": [],
   "source": [
    "import json"
   ]
  },
  {
   "cell_type": "code",
   "execution_count": 2,
   "metadata": {
    "collapsed": true
   },
   "outputs": [],
   "source": [
    "sentText = []\n",
    "relationMentions = []\n",
    "relationLabels = []\n",
    "entityMentions = []\n",
    "entityLabels = []\n",
    "em1Text = []\n",
    "em2Text = []\n",
    "\n",
    "with open(\"/Users/lizhn7/Downloads/DATA/nyt/train.json\") as f:\n",
    "    lines = f.readlines()\n",
    "\n",
    "for line in lines:\n",
    "    item = json.loads(line)\n",
    "    # Exclude \"None\" label\n",
    "    if not all(i['label'] == 'None' for i in item['relationMentions']):\n",
    "        sentText.append(item['sentText'])\n",
    "        relationMentions.append(item['relationMentions'])\n",
    "        entityMentions.append(item['entityMentions'])\n",
    "    \n",
    "relationLabels = [[i['label'].split('/')[-1] for i in rM] for rM in relationMentions]\n",
    "entityLabels = [[i['text'] for i in eM] for eM in entityMentions]\n",
    "em1Text = [[i['em1Text'] for i in rM] for rM in relationMentions]\n",
    "em2Text = [[i['em2Text'] for i in rM] for rM in relationMentions]"
   ]
  },
  {
   "cell_type": "code",
   "execution_count": 3,
   "metadata": {
    "collapsed": true
   },
   "outputs": [],
   "source": [
    "# Clean words\n",
    "replaceDict = {\n",
    "               'ā': 'a', 'á': 'a', 'ǎ': 'a', 'à': 'a',\n",
    "               'ō': 'o', 'ó': 'o', 'ǒ': 'o', 'ò': 'o', 'ô': 'o', 'ö': 'o',\n",
    "               'ē': 'e', 'é': 'e', 'ě': 'e', 'è': 'e', \n",
    "               'ī': 'i', 'í': 'i', 'ǐ': 'i', 'ì': 'i',\n",
    "               'ū': 'u', 'ú': 'u', 'ǔ': 'u', 'ù': 'u', 'ü': 'u',\n",
    "               'ñ': 'n',\n",
    "               'É': 'E'\n",
    "              }\n",
    "em1Text = [[''.join([replaceDict.get(i, i) for i in e]) for e in eT] for eT in em1Text]\n",
    "em2Text = [[''.join([replaceDict.get(i, i) for i in e]) for e in eT] for eT in em2Text]"
   ]
  },
  {
   "cell_type": "markdown",
   "metadata": {},
   "source": [
    "### Train Data Sample"
   ]
  },
  {
   "cell_type": "code",
   "execution_count": 4,
   "metadata": {},
   "outputs": [
    {
     "data": {
      "text/plain": [
       "'But that spasm of irritation by a master intimidator was minor compared with what Bobby Fischer , the erratic former world chess champion , dished out in March at a news conference in Reykjavik , Iceland .'"
      ]
     },
     "execution_count": 4,
     "metadata": {},
     "output_type": "execute_result"
    }
   ],
   "source": [
    "sentText[0]"
   ]
  },
  {
   "cell_type": "code",
   "execution_count": 5,
   "metadata": {},
   "outputs": [
    {
     "data": {
      "text/plain": [
       "[{'em1Text': 'Bobby Fischer',\n",
       "  'em2Text': 'Iceland',\n",
       "  'label': '/people/person/nationality'},\n",
       " {'em1Text': 'Iceland',\n",
       "  'em2Text': 'Reykjavik',\n",
       "  'label': '/location/country/capital'},\n",
       " {'em1Text': 'Iceland',\n",
       "  'em2Text': 'Reykjavik',\n",
       "  'label': '/location/location/contains'},\n",
       " {'em1Text': 'Bobby Fischer',\n",
       "  'em2Text': 'Reykjavik',\n",
       "  'label': '/people/deceased_person/place_of_death'}]"
      ]
     },
     "execution_count": 5,
     "metadata": {},
     "output_type": "execute_result"
    }
   ],
   "source": [
    "relationMentions[0]"
   ]
  },
  {
   "cell_type": "code",
   "execution_count": 6,
   "metadata": {},
   "outputs": [
    {
     "data": {
      "text/plain": [
       "['nationality', 'capital', 'contains', 'place_of_death']"
      ]
     },
     "execution_count": 6,
     "metadata": {},
     "output_type": "execute_result"
    }
   ],
   "source": [
    "relationLabels[0]"
   ]
  },
  {
   "cell_type": "code",
   "execution_count": 7,
   "metadata": {},
   "outputs": [
    {
     "data": {
      "text/plain": [
       "[{'label': 'PERSON', 'start': 0, 'text': 'Bobby Fischer'},\n",
       " {'label': 'LOCATION', 'start': 1, 'text': 'Reykjavik'},\n",
       " {'label': 'LOCATION', 'start': 2, 'text': 'Iceland'}]"
      ]
     },
     "execution_count": 7,
     "metadata": {},
     "output_type": "execute_result"
    }
   ],
   "source": [
    "entityMentions[0]"
   ]
  },
  {
   "cell_type": "code",
   "execution_count": 8,
   "metadata": {},
   "outputs": [
    {
     "data": {
      "text/plain": [
       "['Bobby Fischer', 'Reykjavik', 'Iceland']"
      ]
     },
     "execution_count": 8,
     "metadata": {},
     "output_type": "execute_result"
    }
   ],
   "source": [
    "entityLabels[0]"
   ]
  },
  {
   "cell_type": "code",
   "execution_count": 9,
   "metadata": {},
   "outputs": [
    {
     "data": {
      "text/plain": [
       "['Bobby Fischer', 'Iceland', 'Iceland', 'Bobby Fischer']"
      ]
     },
     "execution_count": 9,
     "metadata": {},
     "output_type": "execute_result"
    }
   ],
   "source": [
    "em1Text[0]"
   ]
  },
  {
   "cell_type": "code",
   "execution_count": 10,
   "metadata": {},
   "outputs": [
    {
     "data": {
      "text/plain": [
       "['Iceland', 'Reykjavik', 'Reykjavik', 'Reykjavik']"
      ]
     },
     "execution_count": 10,
     "metadata": {},
     "output_type": "execute_result"
    }
   ],
   "source": [
    "em2Text[0]"
   ]
  },
  {
   "cell_type": "markdown",
   "metadata": {
    "heading_collapsed": true
   },
   "source": [
    "### Load Test Data"
   ]
  },
  {
   "cell_type": "code",
   "execution_count": 11,
   "metadata": {
    "collapsed": true,
    "hidden": true
   },
   "outputs": [],
   "source": [
    "t_sentText = []\n",
    "t_relationMentions = []\n",
    "t_relationLabels = []\n",
    "t_entityMentions = []\n",
    "t_entityLabels = []\n",
    "t_em1Text = []\n",
    "t_em2Text = []\n",
    "\n",
    "with open(\"/Users/lizhn7/Downloads/DATA/nyt/test.json\") as f:\n",
    "    lines = f.readlines()\n",
    "\n",
    "for line in lines:\n",
    "    item = json.loads(line)\n",
    "    t_sentText.append(item['sentText'])\n",
    "    t_relationMentions.append(item['relationMentions'])\n",
    "    t_entityMentions.append(item['entityMentions'])\n",
    "    \n",
    "t_relationLabels = [[i['label'].split('/')[-1] for i in rM] for rM in t_relationMentions]\n",
    "t_entityLabels = [[i['text'] for i in eM] for eM in t_entityMentions]\n",
    "t_em1Text = [[i['em1Text'] for i in rM] for rM in t_relationMentions]\n",
    "t_em2Text = [[i['em2Text'] for i in rM] for rM in t_relationMentions]"
   ]
  },
  {
   "cell_type": "code",
   "execution_count": 12,
   "metadata": {
    "collapsed": true,
    "hidden": true
   },
   "outputs": [],
   "source": [
    "# Clean words\n",
    "t_replaceDict = {\n",
    "               'ā': 'a', 'á': 'a', 'ǎ': 'a', 'à': 'a',\n",
    "               'ō': 'o', 'ó': 'o', 'ǒ': 'o', 'ò': 'o', 'ô': 'o', 'ö': 'o',\n",
    "               'ē': 'e', 'é': 'e', 'ě': 'e', 'è': 'e', \n",
    "               'ī': 'i', 'í': 'i', 'ǐ': 'i', 'ì': 'i',\n",
    "               'ū': 'u', 'ú': 'u', 'ǔ': 'u', 'ù': 'u', 'ü': 'u',\n",
    "               'ñ': 'n',\n",
    "               'É': 'E'\n",
    "              }\n",
    "t_em1Text = [[''.join([t_replaceDict.get(i, i) for i in e]) for e in eT] for eT in t_em1Text]\n",
    "t_em2Text = [[''.join([t_replaceDict.get(i, i) for i in e]) for e in eT] for eT in t_em2Text]\n",
    "t_entityLabels = [[''.join([t_replaceDict.get(i, i) for i in e]) for e in eT] for eT in t_entityLabels]"
   ]
  },
  {
   "cell_type": "markdown",
   "metadata": {},
   "source": [
    "###  Relation Types"
   ]
  },
  {
   "cell_type": "code",
   "execution_count": 13,
   "metadata": {
    "scrolled": false
   },
   "outputs": [
    {
     "data": {
      "text/plain": [
       "['religion',\n",
       " 'children',\n",
       " 'major_shareholders',\n",
       " 'place_lived',\n",
       " 'major_shareholder_of',\n",
       " 'advisors',\n",
       " 'industry',\n",
       " 'location',\n",
       " 'founders',\n",
       " 'ethnicity',\n",
       " 'company',\n",
       " 'place_founded',\n",
       " 'administrative_divisions',\n",
       " 'contains',\n",
       " 'profession',\n",
       " 'capital',\n",
       " 'neighborhood_of',\n",
       " 'place_of_death',\n",
       " 'people',\n",
       " 'geographic_distribution',\n",
       " 'nationality',\n",
       " 'teams',\n",
       " 'country',\n",
       " 'place_of_birth']"
      ]
     },
     "execution_count": 13,
     "metadata": {},
     "output_type": "execute_result"
    }
   ],
   "source": [
    "relationTypes = list(set([r for rl in relationLabels for r in rl]))\n",
    "relationTypes"
   ]
  },
  {
   "cell_type": "code",
   "execution_count": 14,
   "metadata": {
    "scrolled": true
   },
   "outputs": [
    {
     "data": {
      "text/plain": [
       "['neighborhood_of',\n",
       " 'place_of_death',\n",
       " 'nationality',\n",
       " 'children',\n",
       " 'contains',\n",
       " 'founders',\n",
       " 'place_lived',\n",
       " 'company',\n",
       " 'capital',\n",
       " 'country',\n",
       " 'administrative_divisions',\n",
       " 'place_of_birth']"
      ]
     },
     "execution_count": 14,
     "metadata": {},
     "output_type": "execute_result"
    }
   ],
   "source": [
    "t_relationTypes = list(set([r for rl in t_relationLabels for r in rl if r != 'None']))\n",
    "t_relationTypes"
   ]
  },
  {
   "cell_type": "markdown",
   "metadata": {},
   "source": [
    "## Participle"
   ]
  },
  {
   "cell_type": "code",
   "execution_count": 15,
   "metadata": {
    "collapsed": true
   },
   "outputs": [],
   "source": [
    "from nltk import regexp_tokenize"
   ]
  },
  {
   "cell_type": "code",
   "execution_count": 16,
   "metadata": {
    "collapsed": true
   },
   "outputs": [],
   "source": [
    "def cut(s):\n",
    "    \"\"\"\n",
    "    Participle\n",
    "    \"\"\"\n",
    "    pattern = r'''\n",
    "              (?x)                   # set flag to allow verbose regexps \n",
    "              (?:[A-Z]\\.)+           # abbreviations, e.g. U.S.A. \n",
    "              |\\d+(?:\\.\\d+)?%?       # numbers, incl. currency and percentages \n",
    "              |\\w+(?:[-&']\\w+)*       # words w/ optional internal hyphens/apostrophe  \n",
    "           '''  \n",
    "    return regexp_tokenize(s, pattern=pattern)"
   ]
  },
  {
   "cell_type": "code",
   "execution_count": 17,
   "metadata": {
    "collapsed": true
   },
   "outputs": [],
   "source": [
    "sentWords = [cut(s) for s in sentText]\n",
    "entlabWords = [[cut(s) for s in eL] for eL in entityLabels]\n",
    "em1Words = [[cut(s) for s in eL] for eL in em1Text]\n",
    "em2Words = [[cut(s) for s in eL] for eL in em2Text]\n",
    "t_sentWords = [cut(s) for s in t_sentText]\n",
    "t_entlabWords = [[cut(s) for s in eL] for eL in t_entityLabels]\n",
    "t_em1Words = [[cut(s) for s in eL] for eL in t_em1Text]\n",
    "t_em2Words = [[cut(s) for s in eL] for eL in t_em2Text]"
   ]
  },
  {
   "cell_type": "code",
   "execution_count": 18,
   "metadata": {
    "collapsed": true
   },
   "outputs": [],
   "source": [
    "#MAX_SENT_LEN = 120\n",
    "#AX_ADJL_LEN = 20"
   ]
  },
  {
   "cell_type": "code",
   "execution_count": 19,
   "metadata": {
    "collapsed": true
   },
   "outputs": [],
   "source": [
    "#len([i for i, j in enumerate(sentWords) if len(j) > 120])\n",
    "#max(len(j) for i, j in enumerate(t_sentWords) if len(j) > 80)"
   ]
  },
  {
   "cell_type": "markdown",
   "metadata": {},
   "source": [
    "## Make Adjacency List"
   ]
  },
  {
   "cell_type": "markdown",
   "metadata": {},
   "source": [
    "### Make Adjacency List of Train Data"
   ]
  },
  {
   "cell_type": "code",
   "execution_count": 29,
   "metadata": {
    "collapsed": true
   },
   "outputs": [],
   "source": [
    "from collections import Counter"
   ]
  },
  {
   "cell_type": "code",
   "execution_count": 33,
   "metadata": {},
   "outputs": [],
   "source": [
    "i_entityLabels = []\n",
    "for i in range(len(sentWords)):\n",
    "    eL = []\n",
    "    sDict = list(enumerate(sentWords[i]))\n",
    "    j = 0\n",
    "    for item in entlabWords[i]:\n",
    "        el = []\n",
    "        for e in item:\n",
    "            while j < len(sDict):\n",
    "                if e == sDict[j][1]:\n",
    "                    el.append(sDict[j][0])\n",
    "                    j += 1\n",
    "                    break\n",
    "                j += 1\n",
    "        eL.append(el)\n",
    "    i_entityLabels.append(eL)\n",
    "    \n",
    "i_em1Text = []\n",
    "for i in range(len(sentWords)):\n",
    "    temp = list(zip(sum(i_entityLabels[i], []), sum(entlabWords[i], [])))\n",
    "    eM1 = []\n",
    "    j = 0\n",
    "    for ee in em1Words[i]:\n",
    "        #j = 0\n",
    "        em1 = []\n",
    "        for e in ee:\n",
    "            while j < len(temp):\n",
    "                if e == temp[j][1] and Counter(sum(entlabWords[i], []))[e] == 1:\n",
    "                    em1.append(temp[j][0])\n",
    "                    break\n",
    "                if e == temp[j][1] and Counter(sum(entlabWords[i], []))[e] > 1:\n",
    "                    em1.append(temp[j][0])\n",
    "                    j += 1\n",
    "                    break\n",
    "                j += 1\n",
    "        eM1.append(em1)\n",
    "    i_em1Text.append(eM1)\n",
    "\n",
    "i_em2Text = []\n",
    "for i in range(len(sentWords)):\n",
    "    temp = list(zip(sum(i_entityLabels[i], []), sum(entlabWords[i], [])))\n",
    "    eM2 = []\n",
    "    for ee in em2Words[i]:\n",
    "        j = 0\n",
    "        em2 = []\n",
    "        for e in ee:\n",
    "            while j < len(temp):\n",
    "                if e == temp[j][1] and Counter(sum(entlabWords[i], []))[e] == 1:\n",
    "                    em2.append(temp[j][0])\n",
    "                    break\n",
    "                if e == temp[j][1] and Counter(sum(entlabWords[i], []))[e] > 1:\n",
    "                    em2.append(temp[j][0])\n",
    "                    j += 1\n",
    "                    break\n",
    "                j += 1\n",
    "        eM2.append(em2)\n",
    "    i_em2Text.append(eM2)"
   ]
  },
  {
   "cell_type": "code",
   "execution_count": 352,
   "metadata": {
    "collapsed": true
   },
   "outputs": [],
   "source": [
    "pad = ['POI', 'RE', 'EOP']\n",
    "adjacencyList = []\n",
    "for n in range(len(sentWords)): \n",
    "    e1 = []\n",
    "    e2 = []\n",
    "    aL = []\n",
    "    for l in i_trueLables[n]:\n",
    "        for item in i_entityLabels[n]:\n",
    "            if ' '.join([sentWords[n][i] for i in item]) == ' '.join(em1Words[n][l]):\n",
    "                e1.append(item[0])\n",
    "            if ' '.join([sentWords[n][i] for i in item]) == ' '.join(em2Words[n][l]):\n",
    "                e2.append(item[0])\n",
    "        c = [(a, b) for a in e1 for b in e2]\n",
    "        r = c[min([(i, abs(j[0]-j[1])) for i, j in enumerate(c)], key=lambda x: x[-1])[0]]\n",
    "        aL = aL + [r[0], pad[0], r[1], pad[1], relationLabels[n][l], pad[2]]\n",
    "    adjacencyList.append(aL)\n",
    "\n",
    "# Modify \n",
    "#adjacencyList[26] = [34, 'POI', 36, 'RE', 'founders', 'EOP']\n",
    "#adjacencyList[191] = [22, 'POI', 36, 'RE', 'country', 'EOP', 33, 'POI', 36, 'RE', 'country', 'EOP']"
   ]
  },
  {
   "cell_type": "code",
   "execution_count": 346,
   "metadata": {},
   "outputs": [],
   "source": [
    "adjacencyList = []\n",
    "sentence = []\n",
    "new_entityLabels = []\n",
    "newi_entityLabels = []\n",
    "padDict = ['POI', 'RE', 'EOP']\n",
    "for i in range(len(sentWords)):\n",
    "    # POI means pointer\n",
    "    # RE means relation label\n",
    "    # EOP means end of pointer   \n",
    "    aL = ''\n",
    "    for j in entityLabels[i]:\n",
    "        dictEn = dict((b, a) for a, b in enumerate(entityLabels[i]))\n",
    "        # Exclude further \"None\" label\n",
    "        if j in em1Text[i]:#and j in [it['em1Text'] for it in relationMentions[i] if it['label'].split('/')[-1] in t_relationTypes]:\n",
    "            aL += j\n",
    "            in_em1Text = [dictEn[item] for item in em1Text[i]]\n",
    "            in_em2Text = [dictEn[item] for item in em2Text[i]]\n",
    "            new_em1 = [m[0] for m in sorted(list(zip(in_em1Text, in_em2Text)))]\n",
    "            new_em2 = [n[1] for n in sorted(list(zip(in_em1Text, in_em2Text)))]\n",
    "            new_em1 = [entityLabels[i][e1] for e1 in new_em1]\n",
    "            new_em2 = [entityLabels[i][e2] for e2 in new_em2]\n",
    "            listRe = list(zip(zip(in_em1Text, in_em2Text), relationLabels[i]))\n",
    "            new_rel = [r[-1] for r in sorted(listRe, key=lambda z: z[0])]\n",
    "            for item in enumerate(new_em1):\n",
    "                if j == item[1] and new_rel[item[0]] in t_relationTypes:\n",
    "                    aL = aL + ' POI ' + new_em2[item[0]] + ' RE ' + new_rel[item[0]]\n",
    "            aL += ' EOP '\n",
    "    #if len(sentWords[i]) > MAX_SENT_LEN: #or len(aL.split()) > MAX_ADJL_LEN:\n",
    "    #    aL = ''\n",
    "    if aL != '':\n",
    "        adjacencyList.append(aL)\n",
    "        sentence.append(sentWords[i])\n",
    "        new_entityLabels.append(entlabWords[i])\n",
    "        newi_entityLabels.append(i_entityLabels[i])"
   ]
  },
  {
   "cell_type": "code",
   "execution_count": 347,
   "metadata": {
    "collapsed": true
   },
   "outputs": [],
   "source": [
    "i_adjacencyList = []\n",
    "for i in range(len(adjacencyList)):\n",
    "    aL = []\n",
    "    replace = dict(zip(sum(new_entityLabels[i], []), sum(newi_entityLabels[i], [])))\n",
    "    aL = [replace[j] if j not in padDict+t_relationTypes else j for j in cut(adjacencyList[i])]\n",
    "    #aL = [s if type(s) == str else str(s) for s in aL]\n",
    "    i_adjacencyList.append(aL)"
   ]
  },
  {
   "cell_type": "code",
   "execution_count": 168,
   "metadata": {
    "collapsed": true
   },
   "outputs": [],
   "source": [
    "#[i for i in i_adjacencyList if type(i[-2]) == int]"
   ]
  },
  {
   "cell_type": "code",
   "execution_count": 24,
   "metadata": {
    "collapsed": true
   },
   "outputs": [],
   "source": [
    "#all(type(al[-2]) == int for al in i_adjacencyList)"
   ]
  },
  {
   "cell_type": "code",
   "execution_count": 19,
   "metadata": {
    "collapsed": true
   },
   "outputs": [],
   "source": [
    "#[i for i in i_adjacencyList if i[1] == 'POI']"
   ]
  },
  {
   "cell_type": "code",
   "execution_count": 20,
   "metadata": {
    "collapsed": true
   },
   "outputs": [],
   "source": [
    "#[eT[0] for eT in enumerate(em1Text) for i in eT[1] if i == 'Édith Piaf']"
   ]
  },
  {
   "cell_type": "code",
   "execution_count": 58,
   "metadata": {},
   "outputs": [],
   "source": [
    "aL = []\n",
    "pad = ['POI', 'RE', 'EOP']\n",
    "for item1 in i_entityLabels[666]:\n",
    "    for item2 in i_entityLabels[666]:\n",
    "        for item3 in range(len(relationLabels[666])):\n",
    "            if ' '.join([sentWords[666][i] for i in item1]) == em1Text[666][item3] and ' '.join([sentWords[666][i] for i in item2]) == em2Text[666][item3]:\n",
    "                al = [item1[0], pad[0], item2[0], pad[1], relationLabels[666][item3], pad[2]]\n",
    "                aL.append(al)"
   ]
  },
  {
   "cell_type": "code",
   "execution_count": 65,
   "metadata": {},
   "outputs": [],
   "source": [
    "aL = []\n",
    "pad = ['POI', 'RE', 'EOP']\n",
    "for item1 in i_entityLabels[666]:\n",
    "    al = []\n",
    "    if ' '.join([sentWords[666][i] for i in item1]) in em1Text[666]:\n",
    "        al += [item1[0]]\n",
    "        for item2 in i_entityLabels[666]:\n",
    "            for item3 in range(len(relationLabels[666])):\n",
    "                if ' '.join([sentWords[666][i] for i in item1]) == em1Text[666][item3] and ' '.join([sentWords[666][i] for i in item2]) == em2Text[666][item3]:\n",
    "                    al = al + [pad[0], item2[0], pad[1], relationLabels[666][item3]]\n",
    "        al += [pad[-1]]\n",
    "        aL.append(al)"
   ]
  },
  {
   "cell_type": "code",
   "execution_count": 46,
   "metadata": {
    "scrolled": true
   },
   "outputs": [
    {
     "data": {
      "text/plain": [
       "[[3, 'POI', 24, 'RE', 'contains', 'EOP'],\n",
       " [3, 'POI', 44, 'RE', 'contains', 'EOP'],\n",
       " [14, 'POI', 44, 'RE', 'neighborhood_of', 'EOP'],\n",
       " [15, 'POI', 20, 'RE', 'neighborhood_of', 'EOP'],\n",
       " [18, 'POI', 20, 'RE', 'neighborhood_of', 'EOP'],\n",
       " [20, 'POI', 15, 'RE', 'contains', 'EOP'],\n",
       " [20, 'POI', 18, 'RE', 'contains', 'EOP'],\n",
       " [22, 'POI', 24, 'RE', 'neighborhood_of', 'EOP'],\n",
       " [24, 'POI', 22, 'RE', 'contains', 'EOP'],\n",
       " [44, 'POI', 14, 'RE', 'contains', 'EOP']]"
      ]
     },
     "execution_count": 46,
     "metadata": {},
     "output_type": "execute_result"
    }
   ],
   "source": [
    "aL"
   ]
  },
  {
   "cell_type": "code",
   "execution_count": 66,
   "metadata": {},
   "outputs": [
    {
     "data": {
      "text/plain": [
       "[[3, 'POI', 24, 'RE', 'contains', 'POI', 44, 'RE', 'contains', 'EOP'],\n",
       " [14, 'POI', 44, 'RE', 'neighborhood_of', 'EOP'],\n",
       " [15, 'POI', 20, 'RE', 'neighborhood_of', 'EOP'],\n",
       " [18, 'POI', 20, 'RE', 'neighborhood_of', 'EOP'],\n",
       " [20, 'POI', 15, 'RE', 'contains', 'POI', 18, 'RE', 'contains', 'EOP'],\n",
       " [22, 'POI', 24, 'RE', 'neighborhood_of', 'EOP'],\n",
       " [24, 'POI', 22, 'RE', 'contains', 'EOP'],\n",
       " [44, 'POI', 14, 'RE', 'contains', 'EOP']]"
      ]
     },
     "execution_count": 66,
     "metadata": {},
     "output_type": "execute_result"
    }
   ],
   "source": [
    "aL"
   ]
  },
  {
   "cell_type": "code",
   "execution_count": null,
   "metadata": {
    "collapsed": true
   },
   "outputs": [],
   "source": []
  },
  {
   "cell_type": "code",
   "execution_count": null,
   "metadata": {
    "collapsed": true
   },
   "outputs": [],
   "source": []
  },
  {
   "cell_type": "code",
   "execution_count": null,
   "metadata": {
    "collapsed": true
   },
   "outputs": [],
   "source": []
  },
  {
   "cell_type": "code",
   "execution_count": 71,
   "metadata": {
    "scrolled": true
   },
   "outputs": [
    {
     "data": {
      "text/plain": [
       "['contains', 'capital', 'contains', 'capital']"
      ]
     },
     "execution_count": 71,
     "metadata": {},
     "output_type": "execute_result"
    }
   ],
   "source": [
    "relationLabels[55]"
   ]
  },
  {
   "cell_type": "code",
   "execution_count": 72,
   "metadata": {},
   "outputs": [
    {
     "data": {
      "text/plain": [
       "\"He writes that the State Department 's Future of Iraq project was sidelined because of tensions between the State Department and the Pentagon , and that its coordinator , Tom Warrick , '' who had done as much thinking about postwar Iraq as any American official '' also '' became a casualty of the interagency war and did n't get to Baghdad for a year . ''\""
      ]
     },
     "execution_count": 72,
     "metadata": {},
     "output_type": "execute_result"
    }
   ],
   "source": [
    "sentText[55]"
   ]
  },
  {
   "cell_type": "code",
   "execution_count": 73,
   "metadata": {},
   "outputs": [
    {
     "data": {
      "text/plain": [
       "\"He writes that the State Department s Future of Iraq project was sidelined because of tensions between the State Department and the Pentagon and that its coordinator Tom Warrick who had done as much thinking about postwar Iraq as any American official also became a casualty of the interagency war and did n't get to Baghdad for a year\""
      ]
     },
     "execution_count": 73,
     "metadata": {},
     "output_type": "execute_result"
    }
   ],
   "source": [
    "' '.join(sentWords[55])"
   ]
  },
  {
   "cell_type": "code",
   "execution_count": 74,
   "metadata": {},
   "outputs": [
    {
     "data": {
      "text/plain": [
       "['Iraq', 'Iraq', 'Baghdad']"
      ]
     },
     "execution_count": 74,
     "metadata": {},
     "output_type": "execute_result"
    }
   ],
   "source": [
    "entityLabels[55]"
   ]
  },
  {
   "cell_type": "code",
   "execution_count": 126,
   "metadata": {
    "scrolled": true
   },
   "outputs": [
    {
     "data": {
      "text/plain": [
       "[55,\n",
       " 56,\n",
       " 58,\n",
       " 61,\n",
       " 64,\n",
       " 84,\n",
       " 86,\n",
       " 97,\n",
       " 117,\n",
       " 132,\n",
       " 134,\n",
       " 145,\n",
       " 171,\n",
       " 176,\n",
       " 189,\n",
       " 214,\n",
       " 228,\n",
       " 237,\n",
       " 249,\n",
       " 282,\n",
       " 303,\n",
       " 308,\n",
       " 318,\n",
       " 328,\n",
       " 363,\n",
       " 370,\n",
       " 381,\n",
       " 394,\n",
       " 415,\n",
       " 418,\n",
       " 421,\n",
       " 423,\n",
       " 427,\n",
       " 457,\n",
       " 460,\n",
       " 473,\n",
       " 509,\n",
       " 513,\n",
       " 526,\n",
       " 528,\n",
       " 533,\n",
       " 535,\n",
       " 538,\n",
       " 539,\n",
       " 567,\n",
       " 588,\n",
       " 589,\n",
       " 592,\n",
       " 595,\n",
       " 603,\n",
       " 622,\n",
       " 642,\n",
       " 649,\n",
       " 650,\n",
       " 662,\n",
       " 674,\n",
       " 681,\n",
       " 693,\n",
       " 695,\n",
       " 700,\n",
       " 714,\n",
       " 718,\n",
       " 724,\n",
       " 755,\n",
       " 769,\n",
       " 809,\n",
       " 835,\n",
       " 848,\n",
       " 865,\n",
       " 875,\n",
       " 878,\n",
       " 905,\n",
       " 923,\n",
       " 933,\n",
       " 953,\n",
       " 974,\n",
       " 982,\n",
       " 1011,\n",
       " 1012,\n",
       " 1031,\n",
       " 1051,\n",
       " 1064,\n",
       " 1070,\n",
       " 1081,\n",
       " 1091,\n",
       " 1092,\n",
       " 1142,\n",
       " 1159,\n",
       " 1166,\n",
       " 1213,\n",
       " 1253,\n",
       " 1320,\n",
       " 1321,\n",
       " 1337,\n",
       " 1343,\n",
       " 1349,\n",
       " 1350,\n",
       " 1354,\n",
       " 1384,\n",
       " 1400,\n",
       " 1408,\n",
       " 1411,\n",
       " 1437,\n",
       " 1472,\n",
       " 1496,\n",
       " 1497,\n",
       " 1500,\n",
       " 1536,\n",
       " 1559,\n",
       " 1570,\n",
       " 1571,\n",
       " 1574,\n",
       " 1579,\n",
       " 1590,\n",
       " 1605,\n",
       " 1611,\n",
       " 1636,\n",
       " 1638,\n",
       " 1713,\n",
       " 1719,\n",
       " 1720,\n",
       " 1721,\n",
       " 1728,\n",
       " 1729,\n",
       " 1732,\n",
       " 1735,\n",
       " 1745,\n",
       " 1762,\n",
       " 1770,\n",
       " 1780,\n",
       " 1807,\n",
       " 1814,\n",
       " 1819,\n",
       " 1833,\n",
       " 1855,\n",
       " 1869,\n",
       " 1870,\n",
       " 1875,\n",
       " 1880,\n",
       " 1890,\n",
       " 1894,\n",
       " 1896,\n",
       " 1898,\n",
       " 1899,\n",
       " 1900,\n",
       " 1903,\n",
       " 1960,\n",
       " 1962,\n",
       " 1967,\n",
       " 1977,\n",
       " 1993,\n",
       " 2012,\n",
       " 2016,\n",
       " 2020,\n",
       " 2027,\n",
       " 2056,\n",
       " 2058,\n",
       " 2062,\n",
       " 2073,\n",
       " 2074,\n",
       " 2086,\n",
       " 2091,\n",
       " 2102,\n",
       " 2108,\n",
       " 2115,\n",
       " 2126,\n",
       " 2131,\n",
       " 2145,\n",
       " 2168,\n",
       " 2174,\n",
       " 2187,\n",
       " 2190,\n",
       " 2195,\n",
       " 2209,\n",
       " 2217,\n",
       " 2221,\n",
       " 2224,\n",
       " 2310,\n",
       " 2366,\n",
       " 2371,\n",
       " 2372,\n",
       " 2375,\n",
       " 2394,\n",
       " 2395,\n",
       " 2427,\n",
       " 2432,\n",
       " 2448,\n",
       " 2450,\n",
       " 2456,\n",
       " 2465,\n",
       " 2493,\n",
       " 2502,\n",
       " 2505,\n",
       " 2520,\n",
       " 2536,\n",
       " 2547,\n",
       " 2548,\n",
       " 2551,\n",
       " 2553,\n",
       " 2555,\n",
       " 2558,\n",
       " 2575,\n",
       " 2602,\n",
       " 2603,\n",
       " 2607,\n",
       " 2608,\n",
       " 2610,\n",
       " 2611,\n",
       " 2612,\n",
       " 2613,\n",
       " 2631,\n",
       " 2653,\n",
       " 2664,\n",
       " 2665,\n",
       " 2670,\n",
       " 2672,\n",
       " 2702,\n",
       " 2731,\n",
       " 2737,\n",
       " 2756,\n",
       " 2789,\n",
       " 2801,\n",
       " 2810,\n",
       " 2819,\n",
       " 2826,\n",
       " 2830,\n",
       " 2835,\n",
       " 2849,\n",
       " 2874,\n",
       " 2882,\n",
       " 2891,\n",
       " 2894,\n",
       " 2896,\n",
       " 2903,\n",
       " 2920,\n",
       " 2949,\n",
       " 2961,\n",
       " 2984,\n",
       " 3006,\n",
       " 3014,\n",
       " 3025,\n",
       " 3026,\n",
       " 3034,\n",
       " 3055,\n",
       " 3059,\n",
       " 3060,\n",
       " 3061,\n",
       " 3066,\n",
       " 3075,\n",
       " 3082,\n",
       " 3084,\n",
       " 3118,\n",
       " 3156,\n",
       " 3163,\n",
       " 3166,\n",
       " 3168,\n",
       " 3199,\n",
       " 3251,\n",
       " 3279,\n",
       " 3284,\n",
       " 3317,\n",
       " 3338,\n",
       " 3341,\n",
       " 3351,\n",
       " 3352,\n",
       " 3411,\n",
       " 3418,\n",
       " 3419,\n",
       " 3420,\n",
       " 3436,\n",
       " 3442,\n",
       " 3447,\n",
       " 3448,\n",
       " 3449,\n",
       " 3454,\n",
       " 3456,\n",
       " 3461,\n",
       " 3479,\n",
       " 3489,\n",
       " 3508,\n",
       " 3509,\n",
       " 3523,\n",
       " 3560,\n",
       " 3580,\n",
       " 3613,\n",
       " 3615,\n",
       " 3619,\n",
       " 3654,\n",
       " 3659,\n",
       " 3660,\n",
       " 3662,\n",
       " 3677,\n",
       " 3683,\n",
       " 3749,\n",
       " 3770,\n",
       " 3789,\n",
       " 3790,\n",
       " 3793,\n",
       " 3796,\n",
       " 3819,\n",
       " 3820,\n",
       " 3834,\n",
       " 3866,\n",
       " 3873,\n",
       " 3875,\n",
       " 3879,\n",
       " 3884,\n",
       " 3894,\n",
       " 3897,\n",
       " 3898,\n",
       " 3899,\n",
       " 3909,\n",
       " 3936,\n",
       " 3942,\n",
       " 3965,\n",
       " 3969,\n",
       " 3980,\n",
       " 3988,\n",
       " 4055,\n",
       " 4056,\n",
       " 4071,\n",
       " 4082,\n",
       " 4088,\n",
       " 4097,\n",
       " 4151,\n",
       " 4174,\n",
       " 4193,\n",
       " 4202,\n",
       " 4206,\n",
       " 4211,\n",
       " 4213,\n",
       " 4215,\n",
       " 4228,\n",
       " 4253,\n",
       " 4257,\n",
       " 4268,\n",
       " 4269,\n",
       " 4273,\n",
       " 4274,\n",
       " 4288,\n",
       " 4306,\n",
       " 4323,\n",
       " 4353,\n",
       " 4354,\n",
       " 4356,\n",
       " 4358,\n",
       " 4385,\n",
       " 4414,\n",
       " 4461,\n",
       " 4468,\n",
       " 4469,\n",
       " 4479,\n",
       " 4481,\n",
       " 4518,\n",
       " 4528,\n",
       " 4536,\n",
       " 4538,\n",
       " 4544,\n",
       " 4551,\n",
       " 4578,\n",
       " 4580,\n",
       " 4582,\n",
       " 4598,\n",
       " 4602,\n",
       " 4604,\n",
       " 4607,\n",
       " 4642,\n",
       " 4643,\n",
       " 4670,\n",
       " 4685,\n",
       " 4687,\n",
       " 4695,\n",
       " 4718,\n",
       " 4744,\n",
       " 4765,\n",
       " 4780,\n",
       " 4824,\n",
       " 4825,\n",
       " 4829,\n",
       " 4851,\n",
       " 4852,\n",
       " 4863,\n",
       " 4873,\n",
       " 4877,\n",
       " 4880,\n",
       " 4890,\n",
       " 4900,\n",
       " 4907,\n",
       " 4920,\n",
       " 4925,\n",
       " 4927,\n",
       " 4937,\n",
       " 4943,\n",
       " 4944,\n",
       " 4969,\n",
       " 4975,\n",
       " 4989,\n",
       " 4992,\n",
       " 5000,\n",
       " 5005,\n",
       " 5017,\n",
       " 5061,\n",
       " 5080,\n",
       " 5093,\n",
       " 5110,\n",
       " 5112,\n",
       " 5114,\n",
       " 5130,\n",
       " 5136,\n",
       " 5140,\n",
       " 5153,\n",
       " 5172,\n",
       " 5178,\n",
       " 5193,\n",
       " 5198,\n",
       " 5211,\n",
       " 5216,\n",
       " 5217,\n",
       " 5223,\n",
       " 5224,\n",
       " 5298,\n",
       " 5302,\n",
       " 5306,\n",
       " 5313,\n",
       " 5320,\n",
       " 5328,\n",
       " 5335,\n",
       " 5389,\n",
       " 5391,\n",
       " 5393,\n",
       " 5398,\n",
       " 5407,\n",
       " 5426,\n",
       " 5430,\n",
       " 5435,\n",
       " 5488,\n",
       " 5513,\n",
       " 5548,\n",
       " 5550,\n",
       " 5561,\n",
       " 5574,\n",
       " 5590,\n",
       " 5611,\n",
       " 5613,\n",
       " 5621,\n",
       " 5623,\n",
       " 5638,\n",
       " 5644,\n",
       " 5690,\n",
       " 5712,\n",
       " 5733,\n",
       " 5750,\n",
       " 5752,\n",
       " 5760,\n",
       " 5762,\n",
       " 5766,\n",
       " 5774,\n",
       " 5775,\n",
       " 5776,\n",
       " 5778,\n",
       " 5787,\n",
       " 5791,\n",
       " 5827,\n",
       " 5850,\n",
       " 5859,\n",
       " 5861,\n",
       " 5893,\n",
       " 5901,\n",
       " 5904,\n",
       " 5912,\n",
       " 5918,\n",
       " 5939,\n",
       " 5945,\n",
       " 5956,\n",
       " 5970,\n",
       " 5977,\n",
       " 5984,\n",
       " 6012,\n",
       " 6054,\n",
       " 6061,\n",
       " 6068,\n",
       " 6129,\n",
       " 6154,\n",
       " 6166,\n",
       " 6173,\n",
       " 6209,\n",
       " 6219,\n",
       " 6249,\n",
       " 6251,\n",
       " 6257,\n",
       " 6265,\n",
       " 6286,\n",
       " 6302,\n",
       " 6314,\n",
       " 6331,\n",
       " 6342,\n",
       " 6344,\n",
       " 6353,\n",
       " 6357,\n",
       " 6369,\n",
       " 6372,\n",
       " 6452,\n",
       " 6455,\n",
       " 6462,\n",
       " 6469,\n",
       " 6478,\n",
       " 6503,\n",
       " 6507,\n",
       " 6517,\n",
       " 6583,\n",
       " 6592,\n",
       " 6597,\n",
       " 6633,\n",
       " 6643,\n",
       " 6647,\n",
       " 6670,\n",
       " 6724,\n",
       " 6726,\n",
       " 6734,\n",
       " 6735,\n",
       " 6803,\n",
       " 6829,\n",
       " 6832,\n",
       " 6840,\n",
       " 6849,\n",
       " 6850,\n",
       " 6887,\n",
       " 6891,\n",
       " 6908,\n",
       " 6912,\n",
       " 6955,\n",
       " 6956,\n",
       " 7011,\n",
       " 7014,\n",
       " 7018,\n",
       " 7026,\n",
       " 7046,\n",
       " 7100,\n",
       " 7130,\n",
       " 7136,\n",
       " 7140,\n",
       " 7141,\n",
       " 7142,\n",
       " 7143,\n",
       " 7157,\n",
       " 7160,\n",
       " 7169,\n",
       " 7174,\n",
       " 7188,\n",
       " 7193,\n",
       " 7207,\n",
       " 7219,\n",
       " 7233,\n",
       " 7238,\n",
       " 7248,\n",
       " 7251,\n",
       " 7271,\n",
       " 7287,\n",
       " 7290,\n",
       " 7291,\n",
       " 7293,\n",
       " 7319,\n",
       " 7337,\n",
       " 7403,\n",
       " 7418,\n",
       " 7426,\n",
       " 7439,\n",
       " 7441,\n",
       " 7442,\n",
       " 7443,\n",
       " 7447,\n",
       " 7498,\n",
       " 7499,\n",
       " 7509,\n",
       " 7530,\n",
       " 7552,\n",
       " 7553,\n",
       " 7569,\n",
       " 7576,\n",
       " 7590,\n",
       " 7603,\n",
       " 7625,\n",
       " 7661,\n",
       " 7682,\n",
       " 7689,\n",
       " 7693,\n",
       " 7698,\n",
       " 7705,\n",
       " 7713,\n",
       " 7729,\n",
       " 7746,\n",
       " 7774,\n",
       " 7782,\n",
       " 7783,\n",
       " 7797,\n",
       " 7805,\n",
       " 7825,\n",
       " 7846,\n",
       " 7859,\n",
       " 7886,\n",
       " 7908,\n",
       " 7948,\n",
       " 7953,\n",
       " 7954,\n",
       " 7966,\n",
       " 7967,\n",
       " 7968,\n",
       " 7983,\n",
       " 7987,\n",
       " 8003,\n",
       " 8011,\n",
       " 8012,\n",
       " 8019,\n",
       " 8020,\n",
       " 8044,\n",
       " 8049,\n",
       " 8055,\n",
       " 8071,\n",
       " 8080,\n",
       " 8081,\n",
       " 8089,\n",
       " 8090,\n",
       " 8096,\n",
       " 8110,\n",
       " 8149,\n",
       " 8152,\n",
       " 8171,\n",
       " 8185,\n",
       " 8208,\n",
       " 8223,\n",
       " 8233,\n",
       " 8238,\n",
       " 8244,\n",
       " 8256,\n",
       " 8261,\n",
       " 8268,\n",
       " 8270,\n",
       " 8290,\n",
       " 8335,\n",
       " 8339,\n",
       " 8351,\n",
       " 8354,\n",
       " 8360,\n",
       " 8362,\n",
       " 8410,\n",
       " 8480,\n",
       " 8495,\n",
       " 8497,\n",
       " 8507,\n",
       " 8509,\n",
       " 8532,\n",
       " 8539,\n",
       " 8542,\n",
       " 8545,\n",
       " 8549,\n",
       " 8560,\n",
       " 8563,\n",
       " 8574,\n",
       " 8579,\n",
       " 8585,\n",
       " 8591,\n",
       " 8601,\n",
       " 8610,\n",
       " 8639,\n",
       " 8646,\n",
       " 8661,\n",
       " 8673,\n",
       " 8706,\n",
       " 8720,\n",
       " 8734,\n",
       " 8743,\n",
       " 8749,\n",
       " 8752,\n",
       " 8764,\n",
       " 8766,\n",
       " 8768,\n",
       " 8775,\n",
       " 8799,\n",
       " 8819,\n",
       " 8834,\n",
       " 8850,\n",
       " 8851,\n",
       " 8856,\n",
       " 8868,\n",
       " 8913,\n",
       " 8916,\n",
       " 8917,\n",
       " 8920,\n",
       " 8932,\n",
       " 8938,\n",
       " 8939,\n",
       " 8945,\n",
       " 8947,\n",
       " 8948,\n",
       " 8949,\n",
       " 8950,\n",
       " 8972,\n",
       " 8974,\n",
       " 8975,\n",
       " 8989,\n",
       " 9007,\n",
       " 9025,\n",
       " 9026,\n",
       " 9042,\n",
       " 9064,\n",
       " 9074,\n",
       " 9078,\n",
       " 9085,\n",
       " 9114,\n",
       " 9115,\n",
       " 9124,\n",
       " 9128,\n",
       " 9129,\n",
       " 9155,\n",
       " 9168,\n",
       " 9172,\n",
       " 9173,\n",
       " 9195,\n",
       " 9198,\n",
       " 9218,\n",
       " 9236,\n",
       " 9253,\n",
       " 9265,\n",
       " 9292,\n",
       " 9293,\n",
       " 9296,\n",
       " 9297,\n",
       " 9324,\n",
       " 9334,\n",
       " 9340,\n",
       " 9369,\n",
       " 9401,\n",
       " 9418,\n",
       " 9426,\n",
       " 9450,\n",
       " 9455,\n",
       " 9462,\n",
       " 9486,\n",
       " 9512,\n",
       " 9519,\n",
       " 9520,\n",
       " 9534,\n",
       " 9536,\n",
       " 9537,\n",
       " 9553,\n",
       " 9555,\n",
       " 9558,\n",
       " 9559,\n",
       " 9560,\n",
       " 9576,\n",
       " 9587,\n",
       " 9622,\n",
       " 9641,\n",
       " 9644,\n",
       " 9670,\n",
       " 9684,\n",
       " 9696,\n",
       " 9702,\n",
       " 9714,\n",
       " 9719,\n",
       " 9723,\n",
       " 9750,\n",
       " 9751,\n",
       " 9756,\n",
       " 9763,\n",
       " 9766,\n",
       " 9769,\n",
       " 9779,\n",
       " 9781,\n",
       " 9810,\n",
       " 9823,\n",
       " 9837,\n",
       " 9839,\n",
       " 9843,\n",
       " 9857,\n",
       " 9868,\n",
       " 9869,\n",
       " 9898,\n",
       " 9931,\n",
       " 9935,\n",
       " 9937,\n",
       " 9938,\n",
       " 9947,\n",
       " 9965,\n",
       " 9966,\n",
       " 9972,\n",
       " 9974,\n",
       " 9977,\n",
       " 9978,\n",
       " 9983,\n",
       " 9993,\n",
       " 9994,\n",
       " 9996,\n",
       " 10004,\n",
       " 10010,\n",
       " 10012,\n",
       " 10015,\n",
       " 10026,\n",
       " 10037,\n",
       " 10084,\n",
       " 10095,\n",
       " 10096,\n",
       " 10097,\n",
       " 10107,\n",
       " 10113,\n",
       " 10115,\n",
       " 10122,\n",
       " 10144,\n",
       " 10171,\n",
       " 10189,\n",
       " 10201,\n",
       " 10225,\n",
       " 10250,\n",
       " 10265,\n",
       " 10295,\n",
       " 10304,\n",
       " 10313,\n",
       " 10315,\n",
       " 10344,\n",
       " 10355,\n",
       " 10358,\n",
       " 10359,\n",
       " 10377,\n",
       " 10378,\n",
       " 10414,\n",
       " 10419,\n",
       " 10427,\n",
       " 10432,\n",
       " 10437,\n",
       " 10454,\n",
       " 10481,\n",
       " 10484,\n",
       " 10492,\n",
       " 10505,\n",
       " 10579,\n",
       " 10593,\n",
       " 10600,\n",
       " 10640,\n",
       " 10641,\n",
       " 10650,\n",
       " 10657,\n",
       " 10658,\n",
       " 10663,\n",
       " 10664,\n",
       " 10666,\n",
       " 10669,\n",
       " 10696,\n",
       " 10736,\n",
       " 10739,\n",
       " 10813,\n",
       " 10817,\n",
       " 10869,\n",
       " 10879,\n",
       " 10969,\n",
       " 10980,\n",
       " 10994,\n",
       " 11005,\n",
       " 11020,\n",
       " 11026,\n",
       " 11032,\n",
       " 11088,\n",
       " 11116,\n",
       " 11117,\n",
       " 11147,\n",
       " 11170,\n",
       " 11195,\n",
       " 11198,\n",
       " 11203,\n",
       " 11211,\n",
       " 11214,\n",
       " 11216,\n",
       " 11244,\n",
       " 11259,\n",
       " 11266,\n",
       " 11299,\n",
       " 11312,\n",
       " 11313,\n",
       " 11314,\n",
       " 11326,\n",
       " 11340,\n",
       " 11342,\n",
       " 11422,\n",
       " 11432,\n",
       " 11446,\n",
       " 11454,\n",
       " 11455,\n",
       " 11464,\n",
       " 11478,\n",
       " 11508,\n",
       " 11512,\n",
       " 11514,\n",
       " 11546,\n",
       " 11565,\n",
       " 11572,\n",
       " 11573,\n",
       " 11608,\n",
       " 11609,\n",
       " 11620,\n",
       " 11622,\n",
       " 11625,\n",
       " 11634,\n",
       " 11661,\n",
       " 11667,\n",
       " 11683,\n",
       " 11688,\n",
       " 11709,\n",
       " 11711,\n",
       " 11733,\n",
       " 11734,\n",
       " 11751,\n",
       " 11792,\n",
       " 11795,\n",
       " 11837,\n",
       " 11853,\n",
       " 11857,\n",
       " 11859,\n",
       " 11888,\n",
       " 11889,\n",
       " 11902,\n",
       " 11907,\n",
       " 11934,\n",
       " 11943,\n",
       " 11978,\n",
       " 11981,\n",
       " 12008,\n",
       " 12029,\n",
       " 12031,\n",
       " 12047,\n",
       " 12061,\n",
       " 12066,\n",
       " 12078,\n",
       " 12092,\n",
       " 12095,\n",
       " 12097,\n",
       " 12139,\n",
       " 12143,\n",
       " 12154,\n",
       " 12155,\n",
       " 12196,\n",
       " 12211,\n",
       " 12228,\n",
       " 12232,\n",
       " 12254,\n",
       " 12274,\n",
       " 12279,\n",
       " 12317,\n",
       " 12353,\n",
       " 12364,\n",
       " 12367,\n",
       " 12375,\n",
       " 12384,\n",
       " 12401,\n",
       " 12402,\n",
       " 12405,\n",
       " 12427,\n",
       " 12432,\n",
       " 12437,\n",
       " 12447,\n",
       " 12456,\n",
       " 12479,\n",
       " 12490,\n",
       " 12495,\n",
       " 12499,\n",
       " 12512,\n",
       " 12519,\n",
       " 12556,\n",
       " 12567,\n",
       " 12576,\n",
       " 12592,\n",
       " 12598,\n",
       " 12616,\n",
       " 12629,\n",
       " 12638,\n",
       " 12643,\n",
       " 12653,\n",
       " 12665,\n",
       " 12677,\n",
       " 12711,\n",
       " 12750,\n",
       " 12754,\n",
       " 12761,\n",
       " 12770,\n",
       " 12796,\n",
       " 12848,\n",
       " 12883,\n",
       " 12900,\n",
       " 12911,\n",
       " 12915,\n",
       " 12917,\n",
       " 12919,\n",
       " 12922,\n",
       " 12923,\n",
       " 12944,\n",
       " 12948,\n",
       " 12950,\n",
       " 12990,\n",
       " 13027,\n",
       " 13031,\n",
       " 13036,\n",
       " 13041,\n",
       " ...]"
      ]
     },
     "execution_count": 126,
     "metadata": {},
     "output_type": "execute_result"
    }
   ],
   "source": [
    "[j for j, i in enumerate(entityLabels) if len(i) != len(set(i))]"
   ]
  },
  {
   "cell_type": "code",
   "execution_count": 75,
   "metadata": {},
   "outputs": [
    {
     "data": {
      "text/plain": [
       "[[9], [37], [55]]"
      ]
     },
     "execution_count": 75,
     "metadata": {},
     "output_type": "execute_result"
    }
   ],
   "source": [
    "i_entityLabels[55]"
   ]
  },
  {
   "cell_type": "code",
   "execution_count": 78,
   "metadata": {},
   "outputs": [
    {
     "data": {
      "text/plain": [
       "['contains', 'capital', 'contains', 'capital']"
      ]
     },
     "execution_count": 78,
     "metadata": {},
     "output_type": "execute_result"
    }
   ],
   "source": [
    "relationLabels[55]"
   ]
  },
  {
   "cell_type": "code",
   "execution_count": null,
   "metadata": {
    "collapsed": true
   },
   "outputs": [],
   "source": []
  },
  {
   "cell_type": "code",
   "execution_count": 80,
   "metadata": {},
   "outputs": [
    {
     "data": {
      "text/plain": [
       "['Baghdad', 'Baghdad', 'Baghdad', 'Baghdad']"
      ]
     },
     "execution_count": 80,
     "metadata": {},
     "output_type": "execute_result"
    }
   ],
   "source": [
    "em2Text[55]"
   ]
  },
  {
   "cell_type": "code",
   "execution_count": 79,
   "metadata": {
    "collapsed": true
   },
   "outputs": [
    {
     "data": {
      "text/plain": [
       "[{'em1Text': 'Iraq',\n",
       "  'em2Text': 'Baghdad',\n",
       "  'label': '/location/location/contains'},\n",
       " {'em1Text': 'Iraq',\n",
       "  'em2Text': 'Baghdad',\n",
       "  'label': '/location/country/capital'},\n",
       " {'em1Text': 'Iraq',\n",
       "  'em2Text': 'Baghdad',\n",
       "  'label': '/location/location/contains'},\n",
       " {'em1Text': 'Iraq',\n",
       "  'em2Text': 'Baghdad',\n",
       "  'label': '/location/country/capital'}]"
      ]
     },
     "execution_count": 79,
     "metadata": {},
     "output_type": "execute_result"
    }
   ],
   "source": [
    "relationMentions[55]"
   ]
  },
  {
   "cell_type": "code",
   "execution_count": 96,
   "metadata": {
    "collapsed": true
   },
   "outputs": [],
   "source": [
    "aL = []\n",
    "pad = ['POI', 'RE', 'EOP']\n",
    "for item1 in i_entityLabels[55]:\n",
    "    for item2 in i_entityLabels[55]:\n",
    "        for item3 in range(len(relationLabels[55])):\n",
    "            if ' '.join([sentWords[55][i] for i in item1]) == em1Text[55][item3] and ' '.join([sentWords[55][i] for i in item2]) == em2Text[55][item3]:\n",
    "                al = (item1[0], pad[0], item2[0], pad[1], relationLabels[55][item3], pad[2])\n",
    "                aL.append(al)"
   ]
  },
  {
   "cell_type": "code",
   "execution_count": 95,
   "metadata": {},
   "outputs": [
    {
     "data": {
      "text/plain": [
       "{1, 2, 3}"
      ]
     },
     "execution_count": 95,
     "metadata": {},
     "output_type": "execute_result"
    }
   ],
   "source": [
    "a = [(1), (2), (3), (1)]\n",
    "set(a)"
   ]
  },
  {
   "cell_type": "code",
   "execution_count": 99,
   "metadata": {},
   "outputs": [
    {
     "data": {
      "text/plain": [
       "[(9, 'POI', 55, 'RE', 'capital', 'EOP'),\n",
       " (9, 'POI', 55, 'RE', 'contains', 'EOP'),\n",
       " (37, 'POI', 55, 'RE', 'capital', 'EOP'),\n",
       " (37, 'POI', 55, 'RE', 'contains', 'EOP')]"
      ]
     },
     "execution_count": 99,
     "metadata": {},
     "output_type": "execute_result"
    }
   ],
   "source": [
    "list(set(aL))"
   ]
  },
  {
   "cell_type": "code",
   "execution_count": 101,
   "metadata": {},
   "outputs": [
    {
     "data": {
      "text/plain": [
       "['contains', 'capital', 'contains', 'capital']"
      ]
     },
     "execution_count": 101,
     "metadata": {},
     "output_type": "execute_result"
    }
   ],
   "source": [
    "relationLabels[55]"
   ]
  },
  {
   "cell_type": "code",
   "execution_count": 102,
   "metadata": {},
   "outputs": [
    {
     "data": {
      "text/plain": [
       "[['Iraq'], ['Iraq'], ['Iraq'], ['Iraq']]"
      ]
     },
     "execution_count": 102,
     "metadata": {},
     "output_type": "execute_result"
    }
   ],
   "source": [
    "em1Words[55]"
   ]
  },
  {
   "cell_type": "code",
   "execution_count": 103,
   "metadata": {},
   "outputs": [
    {
     "data": {
      "text/plain": [
       "[[9], [37], [55]]"
      ]
     },
     "execution_count": 103,
     "metadata": {},
     "output_type": "execute_result"
    }
   ],
   "source": [
    "i_entityLabels[55]"
   ]
  },
  {
   "cell_type": "code",
   "execution_count": 185,
   "metadata": {},
   "outputs": [],
   "source": [
    "e1 = []\n",
    "e2 = []\n",
    "aL = []\n",
    "for l in range(len(relationLabels[56])):\n",
    "    for item in i_entityLabels[56]:\n",
    "        if ' '.join([sentWords[56][i] for i in item]) == ' '.join(em1Words[56][l]):\n",
    "            e1.append(item[0])\n",
    "        if ' '.join([sentWords[56][i] for i in item]) == ' '.join(em2Words[56][l]):\n",
    "            e2.append(item[0])\n",
    "    c = [(a, b) for a in e1 for b in e2]\n",
    "    r = c[min([(i, abs(j[0]-j[1])) for i, j in enumerate(c)], key=lambda x: x[-1])[0]]\n",
    "    al = (r[0], pad[0], r[1], pad[1], relationLabels[56][l], pad[2])\n",
    "    aL.append(al)\n",
    "aL = sorted(set(aL),key=aL.index)\n",
    "aL = [list(i) for i in aL]"
   ]
  },
  {
   "cell_type": "code",
   "execution_count": 186,
   "metadata": {},
   "outputs": [
    {
     "data": {
      "text/plain": [
       "[[86, 'POI', 33, 'RE', 'contains', 'EOP']]"
      ]
     },
     "execution_count": 186,
     "metadata": {},
     "output_type": "execute_result"
    }
   ],
   "source": [
    "aL"
   ]
  },
  {
   "cell_type": "code",
   "execution_count": 182,
   "metadata": {},
   "outputs": [
    {
     "data": {
      "text/plain": [
       "[[37, 'POI', 55, 'RE', 'contains', 'EOP'],\n",
       " [37, 'POI', 55, 'RE', 'capital', 'EOP']]"
      ]
     },
     "execution_count": 182,
     "metadata": {},
     "output_type": "execute_result"
    }
   ],
   "source": [
    "aL"
   ]
  },
  {
   "cell_type": "code",
   "execution_count": 127,
   "metadata": {},
   "outputs": [
    {
     "data": {
      "text/plain": [
       "['America', 'Iraq', 'George Packer', 'Bush', 'Iraq', 'America', 'Middle East']"
      ]
     },
     "execution_count": 127,
     "metadata": {},
     "output_type": "execute_result"
    }
   ],
   "source": [
    "entityLabels[56]"
   ]
  },
  {
   "cell_type": "code",
   "execution_count": 187,
   "metadata": {},
   "outputs": [
    {
     "data": {
      "text/plain": [
       "[[10], [12], [17, 18], [26], [33], [53], [86, 87]]"
      ]
     },
     "execution_count": 187,
     "metadata": {},
     "output_type": "execute_result"
    }
   ],
   "source": [
    "i_entityLabels[56]"
   ]
  },
  {
   "cell_type": "code",
   "execution_count": 128,
   "metadata": {},
   "outputs": [
    {
     "data": {
      "text/plain": [
       "[{'em1Text': 'Middle East',\n",
       "  'em2Text': 'Iraq',\n",
       "  'label': '/location/location/contains'},\n",
       " {'em1Text': 'Middle East',\n",
       "  'em2Text': 'Iraq',\n",
       "  'label': '/location/location/contains'}]"
      ]
     },
     "execution_count": 128,
     "metadata": {},
     "output_type": "execute_result"
    }
   ],
   "source": [
    "relationMentions[56]"
   ]
  },
  {
   "cell_type": "code",
   "execution_count": 125,
   "metadata": {},
   "outputs": [
    {
     "data": {
      "text/plain": [
       "[[37, 'POI', 55, 'RE', 'contains', 'EOP'],\n",
       " [37, 'POI', 55, 'RE', 'capital', 'EOP'],\n",
       " [37, 'POI', 55, 'RE', 'contains', 'EOP'],\n",
       " [37, 'POI', 55, 'RE', 'capital', 'EOP']]"
      ]
     },
     "execution_count": 125,
     "metadata": {},
     "output_type": "execute_result"
    }
   ],
   "source": [
    "aL"
   ]
  },
  {
   "cell_type": "code",
   "execution_count": 123,
   "metadata": {},
   "outputs": [
    {
     "data": {
      "text/plain": [
       "[0, 0, 0, 0]"
      ]
     },
     "execution_count": 123,
     "metadata": {},
     "output_type": "execute_result"
    }
   ],
   "source": [
    "[al.count(i) for i in aL]"
   ]
  },
  {
   "cell_type": "code",
   "execution_count": 106,
   "metadata": {},
   "outputs": [
    {
     "data": {
      "text/plain": [
       "[9, 37, 9, 37, 9, 37, 9, 37]"
      ]
     },
     "execution_count": 106,
     "metadata": {},
     "output_type": "execute_result"
    }
   ],
   "source": [
    "e1"
   ]
  },
  {
   "cell_type": "code",
   "execution_count": 107,
   "metadata": {},
   "outputs": [
    {
     "data": {
      "text/plain": [
       "[55, 55, 55, 55]"
      ]
     },
     "execution_count": 107,
     "metadata": {},
     "output_type": "execute_result"
    }
   ],
   "source": [
    "e2"
   ]
  },
  {
   "cell_type": "code",
   "execution_count": 108,
   "metadata": {
    "collapsed": true
   },
   "outputs": [],
   "source": [
    "c = [(a, b) for a in e1 for b in e2]"
   ]
  },
  {
   "cell_type": "code",
   "execution_count": 110,
   "metadata": {},
   "outputs": [
    {
     "data": {
      "text/plain": [
       "(37, 55)"
      ]
     },
     "execution_count": 110,
     "metadata": {},
     "output_type": "execute_result"
    }
   ],
   "source": [
    "c[min([(i, abs(j[0]-j[1])) for i, j in enumerate(c)], key=lambda x: x[-1])[0]]"
   ]
  },
  {
   "cell_type": "code",
   "execution_count": 111,
   "metadata": {},
   "outputs": [
    {
     "ename": "NameError",
     "evalue": "name 'r' is not defined",
     "output_type": "error",
     "traceback": [
      "\u001b[0;31m---------------------------------------------------------------------------\u001b[0m",
      "\u001b[0;31mNameError\u001b[0m                                 Traceback (most recent call last)",
      "\u001b[0;32m<ipython-input-111-27204cba0f98>\u001b[0m in \u001b[0;36m<module>\u001b[0;34m()\u001b[0m\n\u001b[0;32m----> 1\u001b[0;31m \u001b[0maL\u001b[0m \u001b[0;34m+\u001b[0m \u001b[0;34m[\u001b[0m\u001b[0mr\u001b[0m\u001b[0;34m[\u001b[0m\u001b[0;36m0\u001b[0m\u001b[0;34m]\u001b[0m\u001b[0;34m,\u001b[0m \u001b[0mpad\u001b[0m\u001b[0;34m[\u001b[0m\u001b[0;36m0\u001b[0m\u001b[0;34m]\u001b[0m\u001b[0;34m,\u001b[0m \u001b[0mr\u001b[0m\u001b[0;34m[\u001b[0m\u001b[0;36m1\u001b[0m\u001b[0;34m]\u001b[0m\u001b[0;34m,\u001b[0m \u001b[0mpad\u001b[0m\u001b[0;34m[\u001b[0m\u001b[0;36m1\u001b[0m\u001b[0;34m]\u001b[0m\u001b[0;34m,\u001b[0m \u001b[0mt_relationLabels\u001b[0m\u001b[0;34m[\u001b[0m\u001b[0mn\u001b[0m\u001b[0;34m]\u001b[0m\u001b[0;34m[\u001b[0m\u001b[0ml\u001b[0m\u001b[0;34m]\u001b[0m\u001b[0;34m,\u001b[0m \u001b[0mpad\u001b[0m\u001b[0;34m[\u001b[0m\u001b[0;36m2\u001b[0m\u001b[0;34m]\u001b[0m\u001b[0;34m]\u001b[0m\u001b[0;34m\u001b[0m\u001b[0m\n\u001b[0m",
      "\u001b[0;31mNameError\u001b[0m: name 'r' is not defined"
     ]
    }
   ],
   "source": [
    "aL + [r[0], pad[0], r[1], pad[1], t_relationLabels[n][l], pad[2]]"
   ]
  },
  {
   "cell_type": "code",
   "execution_count": null,
   "metadata": {
    "collapsed": true
   },
   "outputs": [],
   "source": []
  },
  {
   "cell_type": "code",
   "execution_count": null,
   "metadata": {
    "collapsed": true
   },
   "outputs": [],
   "source": []
  },
  {
   "cell_type": "code",
   "execution_count": 183,
   "metadata": {
    "collapsed": true
   },
   "outputs": [],
   "source": [
    "aL = []\n",
    "pad = ['POI', 'RE', 'EOP']\n",
    "for item1 in i_entityLabels[56]:\n",
    "    al = []\n",
    "    if ' '.join([sentWords[56][i] for i in item1]) in em1Text[56]:\n",
    "        al += [item1[0]]\n",
    "        for item2 in i_entityLabels[56]:\n",
    "            for item3 in range(len(relationLabels[56])):\n",
    "                if ' '.join([sentWords[56][i] for i in item1]) == em1Text[56][item3] and ' '.join([sentWords[56][i] for i in item2]) == em2Text[56][item3]:\n",
    "                    al = al + [pad[0], item2[0], pad[1], relationLabels[56][item3]]\n",
    "        al += [pad[-1]]\n",
    "        aL.append(al)"
   ]
  },
  {
   "cell_type": "code",
   "execution_count": 184,
   "metadata": {},
   "outputs": [
    {
     "data": {
      "text/plain": [
       "[[86,\n",
       "  'POI',\n",
       "  12,\n",
       "  'RE',\n",
       "  'contains',\n",
       "  'POI',\n",
       "  12,\n",
       "  'RE',\n",
       "  'contains',\n",
       "  'POI',\n",
       "  33,\n",
       "  'RE',\n",
       "  'contains',\n",
       "  'POI',\n",
       "  33,\n",
       "  'RE',\n",
       "  'contains',\n",
       "  'EOP']]"
      ]
     },
     "execution_count": 184,
     "metadata": {},
     "output_type": "execute_result"
    }
   ],
   "source": [
    "aL"
   ]
  },
  {
   "cell_type": "code",
   "execution_count": 87,
   "metadata": {},
   "outputs": [
    {
     "name": "stdout",
     "output_type": "stream",
     "text": [
      "[[9, 'POI', 55, 'RE', 'contains', 'POI', 55, 'RE', 'capital', 'POI', 55, 'RE', 'contains', 'POI', 55, 'RE', 'capital', 'EOP'], [37, 'POI', 55, 'RE', 'contains', 'POI', 55, 'RE', 'capital', 'POI', 55, 'RE', 'contains', 'POI', 55, 'RE', 'capital', 'EOP']]\n"
     ]
    }
   ],
   "source": [
    "print(aL)"
   ]
  },
  {
   "cell_type": "code",
   "execution_count": 357,
   "metadata": {},
   "outputs": [
    {
     "name": "stdout",
     "output_type": "stream",
     "text": [
      "[3, 4, 'POI', 24, 'RE', 'contains', 'POI', 44, 'RE', 'contains', 'EOP', 14, 'POI', 44, 'RE', 'neighborhood_of', 'EOP', 20, 16, 'POI', 20, 'RE', 'neighborhood_of', 'EOP', 18, 19, 'POI', 20, 'RE', 'neighborhood_of', 'EOP', 20, 'POI', 20, 16, 'RE', 'contains', 'POI', 18, 19, 'RE', 'contains', 'EOP', 22, 23, 'POI', 24, 'RE', 'neighborhood_of', 'EOP', 24, 'POI', 22, 23, 'RE', 'contains', 'EOP', 44, 'POI', 14, 'RE', 'contains', 'EOP']\n"
     ]
    }
   ],
   "source": [
    "print(i_adjacencyList[666f])"
   ]
  },
  {
   "cell_type": "code",
   "execution_count": 355,
   "metadata": {},
   "outputs": [
    {
     "name": "stdout",
     "output_type": "stream",
     "text": [
      "[20, 'POI', 15, 'RE', 'contains', 'EOP', 20, 'POI', 22, 'RE', 'contains', 'EOP', 14, 'POI', 15, 'RE', 'neighborhood_of', 'EOP', 14, 'POI', 14, 'RE', 'contains', 'EOP', 14, 'POI', 14, 'RE', 'contains', 'EOP', 14, 'POI', 14, 'RE', 'contains', 'EOP', 24, 'POI', 24, 'RE', 'neighborhood_of', 'EOP', 20, 'POI', 20, 'RE', 'neighborhood_of', 'EOP', 20, 'POI', 20, 'RE', 'contains', 'EOP', 20, 'POI', 20, 'RE', 'neighborhood_of', 'EOP']\n"
     ]
    }
   ],
   "source": [
    "print(adjacencyList[666])"
   ]
  },
  {
   "cell_type": "code",
   "execution_count": 323,
   "metadata": {
    "scrolled": false
   },
   "outputs": [
    {
     "data": {
      "text/plain": [
       "[{'em1Text': 'Brooklyn',\n",
       "  'em2Text': 'Brooklyn Heights',\n",
       "  'label': '/location/location/contains'},\n",
       " {'em1Text': 'Queens',\n",
       "  'em2Text': 'Rego Park',\n",
       "  'label': '/location/location/contains'},\n",
       " {'em1Text': 'Inwood',\n",
       "  'em2Text': 'Manhattan',\n",
       "  'label': '/location/neighborhood/neighborhood_of'},\n",
       " {'em1Text': 'Manhattan',\n",
       "  'em2Text': 'Inwood',\n",
       "  'label': '/location/location/contains'},\n",
       " {'em1Text': 'Brooklyn',\n",
       "  'em2Text': 'Fort Greene',\n",
       "  'label': '/location/location/contains'},\n",
       " {'em1Text': 'New York',\n",
       "  'em2Text': 'Manhattan',\n",
       "  'label': '/location/location/contains'},\n",
       " {'em1Text': 'Rego Park',\n",
       "  'em2Text': 'Queens',\n",
       "  'label': '/location/neighborhood/neighborhood_of'},\n",
       " {'em1Text': 'Brooklyn Heights',\n",
       "  'em2Text': 'Brooklyn',\n",
       "  'label': '/location/neighborhood/neighborhood_of'},\n",
       " {'em1Text': 'New York',\n",
       "  'em2Text': 'Queens',\n",
       "  'label': '/location/location/contains'},\n",
       " {'em1Text': 'Fort Greene',\n",
       "  'em2Text': 'Brooklyn',\n",
       "  'label': '/location/neighborhood/neighborhood_of'}]"
      ]
     },
     "execution_count": 323,
     "metadata": {},
     "output_type": "execute_result"
    }
   ],
   "source": [
    "relationMentions[666]"
   ]
  },
  {
   "cell_type": "markdown",
   "metadata": {
    "heading_collapsed": true
   },
   "source": [
    "### Make Adjacency List of Test Data"
   ]
  },
  {
   "cell_type": "code",
   "execution_count": 301,
   "metadata": {
    "collapsed": true,
    "hidden": true
   },
   "outputs": [],
   "source": [
    "# Clean words\n",
    "t_sentWords = [[''.join([t_replaceDict.get(i, i) for i in e]) for e in eT] for eT in t_sentWords]"
   ]
  },
  {
   "cell_type": "code",
   "execution_count": 302,
   "metadata": {
    "collapsed": true,
    "hidden": true
   },
   "outputs": [],
   "source": [
    "ti_entityLabels = []\n",
    "for i in range(len(t_sentWords)):\n",
    "    eL = []\n",
    "    t_sDict = list(enumerate(t_sentWords[i]))\n",
    "    j = 0\n",
    "    for item in t_entlabWords[i]:\n",
    "        el = []\n",
    "        for e in item:\n",
    "            while j < len(t_sDict):\n",
    "                if e == t_sDict[j][1]:\n",
    "                    el.append(t_sDict[j][0])\n",
    "                    j += 1\n",
    "                    break\n",
    "                j += 1\n",
    "        eL.append(el)\n",
    "    ti_entityLabels.append(eL)"
   ]
  },
  {
   "cell_type": "code",
   "execution_count": 303,
   "metadata": {
    "collapsed": true,
    "hidden": true
   },
   "outputs": [],
   "source": [
    "ti_trueLables = [[i for i, j in enumerate(rl) if j != 'None'] for rl in t_relationLabels]\n",
    "t_trueMentions = [[j for i, j in enumerate(rl) if j['label'] != 'None'] for rl in t_relationMentions]\n",
    "pad = ['POI', 'RE', 'EOP']\n",
    "t_adjacencyList = []\n",
    "for n in range(len(t_sentWords)): \n",
    "    e1 = []\n",
    "    e2 = []\n",
    "    aL = []\n",
    "    for l in ti_trueLables[n]:\n",
    "        for item in ti_entityLabels[n]:\n",
    "            if ' '.join([t_sentWords[n][i] for i in item]) == ' '.join(t_em1Words[n][l]):\n",
    "                e1.append(item[0])\n",
    "            if ' '.join([t_sentWords[n][i] for i in item]) == ' '.join(t_em2Words[n][l]):\n",
    "                e2.append(item[0])\n",
    "    c = [(a, b) for a in e1 for b in e2]\n",
    "    r = c[min([(i, abs(j[0]-j[1])) for i, j in enumerate(c)], key=lambda x: x[-1])[0]]\n",
    "    aL = aL + [r[0], pad[0], r[1], pad[1], t_relationLabels[n][l], pad[2]]\n",
    "    t_adjacencyList.append(aL)\n",
    "\n",
    "# Modify \n",
    "t_adjacencyList[26] = [34, 'POI', 36, 'RE', 'founders', 'EOP']\n",
    "t_adjacencyList[191] = [22, 'POI', 36, 'RE', 'country', 'EOP', 33, 'POI', 36, 'RE', 'country', 'EOP']"
   ]
  },
  {
   "cell_type": "code",
   "execution_count": 336,
   "metadata": {
    "hidden": true
   },
   "outputs": [
    {
     "data": {
      "text/plain": [
       "{'administrative_divisions',\n",
       " 'capital',\n",
       " 'children',\n",
       " 'company',\n",
       " 'contains',\n",
       " 'country',\n",
       " 'founders',\n",
       " 'nationality',\n",
       " 'neighborhood_of',\n",
       " 'place_lived',\n",
       " 'place_of_birth',\n",
       " 'place_of_death'}"
      ]
     },
     "execution_count": 336,
     "metadata": {},
     "output_type": "execute_result"
    }
   ],
   "source": [
    "set([i[4] for i in t_adjacencyList])"
   ]
  },
  {
   "cell_type": "code",
   "execution_count": 372,
   "metadata": {
    "hidden": true
   },
   "outputs": [
    {
     "data": {
      "text/plain": [
       "271"
      ]
     },
     "execution_count": 372,
     "metadata": {},
     "output_type": "execute_result"
    }
   ],
   "source": [
    "t_adjacencyList.index([20, 'POI', 32, 'RE', 'administrative_divisions', 'EOP'])"
   ]
  },
  {
   "cell_type": "code",
   "execution_count": 373,
   "metadata": {
    "hidden": true
   },
   "outputs": [
    {
     "data": {
      "text/plain": [
       "[{'em1Text': 'Giorgio', 'em2Text': 'Jalisco', 'label': 'None'},\n",
       " {'em1Text': 'Jalisco', 'em2Text': 'Giorgio', 'label': 'None'},\n",
       " {'em1Text': 'Giorgio', 'em2Text': 'Mexico', 'label': 'None'},\n",
       " {'em1Text': 'Mexico', 'em2Text': 'Giorgio', 'label': 'None'},\n",
       " {'em1Text': 'Mexico',\n",
       "  'em2Text': 'Jalisco',\n",
       "  'label': '/location/country/administrative_divisions'},\n",
       " {'em1Text': 'Jalisco', 'em2Text': 'Mexico', 'label': 'None'}]"
      ]
     },
     "execution_count": 373,
     "metadata": {},
     "output_type": "execute_result"
    }
   ],
   "source": [
    "t_relationMentions[271]"
   ]
  },
  {
   "cell_type": "code",
   "execution_count": 332,
   "metadata": {
    "hidden": true
   },
   "outputs": [
    {
     "data": {
      "text/plain": [
       "[[1, 'POI', 4, 'RE', 'place_lived', 'EOP'],\n",
       " [27, 'POI', 28, 'RE', 'capital', 'EOP'],\n",
       " [11, 'POI', 15, 'RE', 'place_lived', 'EOP'],\n",
       " [31, 'POI', 34, 'RE', 'contains', 'EOP'],\n",
       " [22, 'POI', 7, 'RE', 'country', 'EOP'],\n",
       " [17, 'POI', 15, 'RE', 'contains', 'EOP'],\n",
       " [4, 'POI', 10, 'RE', 'company', 'EOP'],\n",
       " [48, 'POI', 46, 'RE', 'contains', 'EOP'],\n",
       " [29, 'POI', 25, 'RE', 'contains', 'EOP'],\n",
       " [25, 'POI', 28, 'RE', 'company', 'EOP'],\n",
       " [34, 'POI', 32, 'RE', 'country', 'EOP'],\n",
       " [25, 'POI', 21, 'RE', 'contains', 'EOP'],\n",
       " [31, 'POI', 10, 'RE', 'country', 'EOP'],\n",
       " [12, 'POI', 13, 'RE', 'country', 'EOP'],\n",
       " [18, 'POI', 14, 'RE', 'contains', 'EOP'],\n",
       " [12, 'POI', 15, 'RE', 'nationality', 'EOP'],\n",
       " [50, 'POI', 48, 'RE', 'contains', 'EOP'],\n",
       " [37, 'POI', 18, 'RE', 'country', 'EOP'],\n",
       " [18, 'POI', 0, 'RE', 'contains', 'EOP'],\n",
       " [39, 'POI', 13, 'RE', 'country', 'EOP'],\n",
       " [11, 'POI', 7, 'RE', 'children', 'EOP'],\n",
       " [57, 'POI', 15, 'RE', 'country', 'EOP'],\n",
       " [13, 'POI', 21, 'RE', 'country', 'EOP'],\n",
       " [2, 'POI', 29, 'RE', 'country', 'EOP'],\n",
       " [22, 'POI', 19, 'RE', 'contains', 'EOP'],\n",
       " [13, 'POI', 12, 'RE', 'contains', 'EOP'],\n",
       " [34, 'POI', 36, 'RE', 'founders', 'EOP'],\n",
       " [13, 'POI', 16, 'RE', 'nationality', 'EOP'],\n",
       " [78, 'POI', 46, 'RE', 'country', 'EOP'],\n",
       " [3, 'POI', 1, 'RE', 'country', 'EOP'],\n",
       " [19, 'POI', 15, 'RE', 'company', 'EOP'],\n",
       " [36, 'POI', 33, 'RE', 'contains', 'EOP'],\n",
       " [20, 'POI', 19, 'RE', 'contains', 'EOP'],\n",
       " [7, 'POI', 14, 'RE', 'place_lived', 'EOP'],\n",
       " [12, 'POI', 10, 'RE', 'contains', 'EOP'],\n",
       " [3, 'POI', 2, 'RE', 'contains', 'EOP'],\n",
       " [9, 'POI', 10, 'RE', 'country', 'EOP'],\n",
       " [10, 'POI', 5, 'RE', 'contains', 'EOP'],\n",
       " [105, 'POI', 119, 'RE', 'country', 'EOP'],\n",
       " [9, 'POI', 13, 'RE', 'place_lived', 'EOP'],\n",
       " [35, 'POI', 40, 'RE', 'company', 'EOP'],\n",
       " [4, 'POI', 3, 'RE', 'contains', 'EOP'],\n",
       " [7, 'POI', 0, 'RE', 'founders', 'EOP'],\n",
       " [1, 'POI', 4, 'RE', 'place_lived', 'EOP'],\n",
       " [31, 'POI', 38, 'RE', 'company', 'EOP'],\n",
       " [8, 'POI', 12, 'RE', 'country', 'EOP'],\n",
       " [15, 'POI', 20, 'RE', 'nationality', 'EOP'],\n",
       " [27, 'POI', 20, 'RE', 'country', 'EOP'],\n",
       " [15, 'POI', 13, 'RE', 'contains', 'EOP'],\n",
       " [4, 'POI', 3, 'RE', 'contains', 'EOP'],\n",
       " [18, 'POI', 17, 'RE', 'contains', 'EOP'],\n",
       " [53, 'POI', 44, 'RE', 'contains', 'EOP'],\n",
       " [18, 'POI', 19, 'RE', 'country', 'EOP'],\n",
       " [21, 'POI', 18, 'RE', 'contains', 'EOP'],\n",
       " [24, 'POI', 23, 'RE', 'contains', 'EOP'],\n",
       " [13, 'POI', 8, 'RE', 'contains', 'EOP'],\n",
       " [10, 'POI', 20, 'RE', 'country', 'EOP'],\n",
       " [13, 'POI', 11, 'RE', 'contains', 'EOP'],\n",
       " [16, 'POI', 19, 'RE', 'country', 'EOP'],\n",
       " [13, 'POI', 11, 'RE', 'country', 'EOP'],\n",
       " [28, 'POI', 26, 'RE', 'contains', 'EOP'],\n",
       " [5, 'POI', 11, 'RE', 'contains', 'EOP'],\n",
       " [22, 'POI', 28, 'RE', 'country', 'EOP'],\n",
       " [7, 'POI', 10, 'RE', 'contains', 'EOP'],\n",
       " [7, 'POI', 6, 'RE', 'contains', 'EOP'],\n",
       " [16, 'POI', 23, 'RE', 'country', 'EOP'],\n",
       " [10, 'POI', 9, 'RE', 'contains', 'EOP'],\n",
       " [18, 'POI', 21, 'RE', 'neighborhood_of', 'EOP'],\n",
       " [1, 'POI', 5, 'RE', 'place_lived', 'EOP'],\n",
       " [13, 'POI', 12, 'RE', 'contains', 'EOP'],\n",
       " [17, 'POI', 21, 'RE', 'country', 'EOP'],\n",
       " [34, 'POI', 30, 'RE', 'contains', 'EOP'],\n",
       " [28, 'POI', 30, 'RE', 'country', 'EOP'],\n",
       " [34, 'POI', 33, 'RE', 'contains', 'EOP'],\n",
       " [5, 'POI', 7, 'RE', 'place_lived', 'EOP'],\n",
       " [4, 'POI', 7, 'RE', 'nationality', 'EOP'],\n",
       " [28, 'POI', 0, 'RE', 'country', 'EOP'],\n",
       " [13, 'POI', 33, 'RE', 'country', 'EOP'],\n",
       " [8, 'POI', 9, 'RE', 'country', 'EOP'],\n",
       " [16, 'POI', 11, 'RE', 'country', 'EOP'],\n",
       " [49, 'POI', 46, 'RE', 'contains', 'EOP'],\n",
       " [5, 'POI', 4, 'RE', 'contains', 'EOP'],\n",
       " [18, 'POI', 13, 'RE', 'nationality', 'EOP'],\n",
       " [11, 'POI', 15, 'RE', 'contains', 'EOP'],\n",
       " [17, 'POI', 13, 'RE', 'contains', 'EOP'],\n",
       " [5, 'POI', 4, 'RE', 'contains', 'EOP'],\n",
       " [1, 'POI', 24, 'RE', 'contains', 'EOP'],\n",
       " [17, 'POI', 14, 'RE', 'contains', 'EOP'],\n",
       " [20, 'POI', 14, 'RE', 'contains', 'EOP'],\n",
       " [18, 'POI', 21, 'RE', 'place_lived', 'EOP'],\n",
       " [25, 'POI', 23, 'RE', 'contains', 'EOP'],\n",
       " [16, 'POI', 14, 'RE', 'contains', 'EOP'],\n",
       " [19, 'POI', 18, 'RE', 'contains', 'EOP'],\n",
       " [37, 'POI', 40, 'RE', 'nationality', 'EOP'],\n",
       " [10, 'POI', 6, 'RE', 'contains', 'EOP'],\n",
       " [30, 'POI', 7, 'RE', 'capital', 'EOP'],\n",
       " [45, 'POI', 37, 'RE', 'contains', 'EOP'],\n",
       " [18, 'POI', 9, 'RE', 'contains', 'EOP'],\n",
       " [10, 'POI', 5, 'RE', 'nationality', 'EOP'],\n",
       " [35, 'POI', 12, 'RE', 'contains', 'EOP'],\n",
       " [19, 'POI', 1, 'RE', 'country', 'EOP'],\n",
       " [5, 'POI', 14, 'RE', 'company', 'EOP'],\n",
       " [0, 'POI', 4, 'RE', 'place_lived', 'EOP'],\n",
       " [10, 'POI', 4, 'RE', 'country', 'EOP'],\n",
       " [28, 'POI', 22, 'RE', 'contains', 'EOP'],\n",
       " [12, 'POI', 11, 'RE', 'contains', 'EOP'],\n",
       " [14, 'POI', 22, 'RE', 'company', 'EOP'],\n",
       " [2, 'POI', 16, 'RE', 'country', 'EOP'],\n",
       " [2, 'POI', 6, 'RE', 'place_lived', 'EOP'],\n",
       " [10, 'POI', 12, 'RE', 'country', 'EOP'],\n",
       " [9, 'POI', 18, 'RE', 'company', 'EOP'],\n",
       " [9, 'POI', 5, 'RE', 'country', 'EOP'],\n",
       " [16, 'POI', 20, 'RE', 'country', 'EOP'],\n",
       " [17, 'POI', 12, 'RE', 'country', 'EOP'],\n",
       " [18, 'POI', 6, 'RE', 'nationality', 'EOP'],\n",
       " [44, 'POI', 41, 'RE', 'nationality', 'EOP'],\n",
       " [16, 'POI', 5, 'RE', 'contains', 'EOP'],\n",
       " [33, 'POI', 13, 'RE', 'contains', 'EOP'],\n",
       " [6, 'POI', 12, 'RE', 'place_lived', 'EOP'],\n",
       " [12, 'POI', 9, 'RE', 'contains', 'EOP'],\n",
       " [24, 'POI', 27, 'RE', 'nationality', 'EOP'],\n",
       " [19, 'POI', 27, 'RE', 'company', 'EOP'],\n",
       " [23, 'POI', 22, 'RE', 'contains', 'EOP'],\n",
       " [46, 'POI', 41, 'RE', 'founders', 'EOP'],\n",
       " [22, 'POI', 25, 'RE', 'company', 'EOP'],\n",
       " [1, 'POI', 5, 'RE', 'place_lived', 'EOP'],\n",
       " [28, 'POI', 33, 'RE', 'contains', 'EOP'],\n",
       " [18, 'POI', 16, 'RE', 'contains', 'EOP'],\n",
       " [1, 'POI', 5, 'RE', 'company', 'EOP'],\n",
       " [17, 'POI', 23, 'RE', 'country', 'EOP'],\n",
       " [6, 'POI', 0, 'RE', 'nationality', 'EOP'],\n",
       " [35, 'POI', 32, 'RE', 'contains', 'EOP'],\n",
       " [5, 'POI', 6, 'RE', 'country', 'EOP'],\n",
       " [30, 'POI', 9, 'RE', 'country', 'EOP'],\n",
       " [20, 'POI', 19, 'RE', 'contains', 'EOP'],\n",
       " [8, 'POI', 5, 'RE', 'contains', 'EOP'],\n",
       " [17, 'POI', 35, 'RE', 'country', 'EOP'],\n",
       " [7, 'POI', 14, 'RE', 'company', 'EOP'],\n",
       " [0, 'POI', 2, 'RE', 'company', 'EOP'],\n",
       " [12, 'POI', 1, 'RE', 'contains', 'EOP'],\n",
       " [19, 'POI', 30, 'RE', 'contains', 'EOP'],\n",
       " [41, 'POI', 30, 'RE', 'country', 'EOP'],\n",
       " [0, 'POI', 10, 'RE', 'company', 'EOP'],\n",
       " [5, 'POI', 11, 'RE', 'country', 'EOP'],\n",
       " [11, 'POI', 6, 'RE', 'country', 'EOP'],\n",
       " [2, 'POI', 5, 'RE', 'place_lived', 'EOP'],\n",
       " [27, 'POI', 30, 'RE', 'place_lived', 'EOP'],\n",
       " [15, 'POI', 16, 'RE', 'country', 'EOP'],\n",
       " [6, 'POI', 12, 'RE', 'contains', 'EOP'],\n",
       " [13, 'POI', 12, 'RE', 'contains', 'EOP'],\n",
       " [17, 'POI', 15, 'RE', 'contains', 'EOP'],\n",
       " [28, 'POI', 25, 'RE', 'contains', 'EOP'],\n",
       " [10, 'POI', 19, 'RE', 'nationality', 'EOP'],\n",
       " [16, 'POI', 19, 'RE', 'administrative_divisions', 'EOP'],\n",
       " [38, 'POI', 32, 'RE', 'contains', 'EOP'],\n",
       " [3, 'POI', 15, 'RE', 'country', 'EOP'],\n",
       " [2, 'POI', 27, 'RE', 'contains', 'EOP'],\n",
       " [0, 'POI', 8, 'RE', 'company', 'EOP'],\n",
       " [37, 'POI', 42, 'RE', 'place_of_birth', 'EOP'],\n",
       " [12, 'POI', 8, 'RE', 'contains', 'EOP'],\n",
       " [5, 'POI', 3, 'RE', 'contains', 'EOP'],\n",
       " [43, 'POI', 41, 'RE', 'contains', 'EOP'],\n",
       " [10, 'POI', 14, 'RE', 'contains', 'EOP'],\n",
       " [3, 'POI', 10, 'RE', 'company', 'EOP'],\n",
       " [12, 'POI', 21, 'RE', 'contains', 'EOP'],\n",
       " [36, 'POI', 33, 'RE', 'contains', 'EOP'],\n",
       " [14, 'POI', 10, 'RE', 'contains', 'EOP'],\n",
       " [19, 'POI', 11, 'RE', 'founders', 'EOP'],\n",
       " [7, 'POI', 9, 'RE', 'contains', 'EOP'],\n",
       " [9, 'POI', 6, 'RE', 'contains', 'EOP'],\n",
       " [0, 'POI', 3, 'RE', 'nationality', 'EOP'],\n",
       " [20, 'POI', 19, 'RE', 'contains', 'EOP'],\n",
       " [19, 'POI', 3, 'RE', 'country', 'EOP'],\n",
       " [8, 'POI', 29, 'RE', 'country', 'EOP'],\n",
       " [16, 'POI', 10, 'RE', 'contains', 'EOP'],\n",
       " [11, 'POI', 0, 'RE', 'country', 'EOP'],\n",
       " [28, 'POI', 25, 'RE', 'contains', 'EOP'],\n",
       " [12, 'POI', 9, 'RE', 'contains', 'EOP'],\n",
       " [4, 'POI', 8, 'RE', 'place_lived', 'EOP'],\n",
       " [22, 'POI', 19, 'RE', 'contains', 'EOP'],\n",
       " [35, 'POI', 41, 'RE', 'country', 'EOP'],\n",
       " [30, 'POI', 32, 'RE', 'country', 'EOP'],\n",
       " [28, 'POI', 26, 'RE', 'contains', 'EOP'],\n",
       " [19, 'POI', 22, 'RE', 'country', 'EOP'],\n",
       " [2, 'POI', 5, 'RE', 'nationality', 'EOP'],\n",
       " [29, 'POI', 27, 'RE', 'contains', 'EOP'],\n",
       " [7, 'POI', 10, 'RE', 'place_lived', 'EOP'],\n",
       " [0, 'POI', 13, 'RE', 'company', 'EOP'],\n",
       " [8, 'POI', 7, 'RE', 'contains', 'EOP'],\n",
       " [14, 'POI', 17, 'RE', 'place_lived', 'EOP'],\n",
       " [18, 'POI', 19, 'RE', 'country', 'EOP'],\n",
       " [22,\n",
       "  'POI',\n",
       "  36,\n",
       "  'RE',\n",
       "  'country',\n",
       "  'EOP',\n",
       "  33,\n",
       "  'POI',\n",
       "  36,\n",
       "  'RE',\n",
       "  'country',\n",
       "  'EOP'],\n",
       " [9, 'POI', 15, 'RE', 'place_lived', 'EOP'],\n",
       " [37, 'POI', 38, 'RE', 'country', 'EOP'],\n",
       " [12, 'POI', 11, 'RE', 'contains', 'EOP'],\n",
       " [29, 'POI', 33, 'RE', 'contains', 'EOP'],\n",
       " [16, 'POI', 10, 'RE', 'contains', 'EOP'],\n",
       " [23, 'POI', 22, 'RE', 'contains', 'EOP'],\n",
       " [21, 'POI', 29, 'RE', 'company', 'EOP'],\n",
       " [10, 'POI', 13, 'RE', 'nationality', 'EOP'],\n",
       " [33, 'POI', 30, 'RE', 'contains', 'EOP'],\n",
       " [0, 'POI', 3, 'RE', 'company', 'EOP'],\n",
       " [17, 'POI', 40, 'RE', 'country', 'EOP'],\n",
       " [28, 'POI', 25, 'RE', 'country', 'EOP'],\n",
       " [25, 'POI', 27, 'RE', 'contains', 'EOP'],\n",
       " [94, 'POI', 63, 'RE', 'country', 'EOP'],\n",
       " [9, 'POI', 6, 'RE', 'contains', 'EOP'],\n",
       " [26, 'POI', 19, 'RE', 'country', 'EOP'],\n",
       " [19, 'POI', 16, 'RE', 'contains', 'EOP'],\n",
       " [11, 'POI', 10, 'RE', 'contains', 'EOP'],\n",
       " [16, 'POI', 33, 'RE', 'country', 'EOP'],\n",
       " [8, 'POI', 0, 'RE', 'contains', 'EOP'],\n",
       " [10, 'POI', 17, 'RE', 'company', 'EOP'],\n",
       " [33, 'POI', 35, 'RE', 'country', 'EOP'],\n",
       " [8, 'POI', 4, 'RE', 'contains', 'EOP'],\n",
       " [32, 'POI', 18, 'RE', 'contains', 'EOP'],\n",
       " [14, 'POI', 10, 'RE', 'contains', 'EOP'],\n",
       " [26, 'POI', 23, 'RE', 'contains', 'EOP'],\n",
       " [29, 'POI', 27, 'RE', 'contains', 'EOP'],\n",
       " [23, 'POI', 21, 'RE', 'contains', 'EOP'],\n",
       " [2, 'POI', 9, 'RE', 'country', 'EOP'],\n",
       " [12, 'POI', 11, 'RE', 'contains', 'EOP'],\n",
       " [19, 'POI', 18, 'RE', 'contains', 'EOP'],\n",
       " [9, 'POI', 8, 'RE', 'contains', 'EOP'],\n",
       " [30, 'POI', 27, 'RE', 'contains', 'EOP'],\n",
       " [8, 'POI', 11, 'RE', 'place_lived', 'EOP'],\n",
       " [7, 'POI', 6, 'RE', 'contains', 'EOP'],\n",
       " [26, 'POI', 17, 'RE', 'country', 'EOP'],\n",
       " [4, 'POI', 7, 'RE', 'contains', 'EOP'],\n",
       " [27, 'POI', 5, 'RE', 'country', 'EOP'],\n",
       " [0, 'POI', 9, 'RE', 'company', 'EOP'],\n",
       " [8, 'POI', 2, 'RE', 'country', 'EOP'],\n",
       " [5, 'POI', 3, 'RE', 'contains', 'EOP'],\n",
       " [31, 'POI', 33, 'RE', 'nationality', 'EOP'],\n",
       " [19, 'POI', 15, 'RE', 'country', 'EOP'],\n",
       " [16, 'POI', 10, 'RE', 'contains', 'EOP'],\n",
       " [20, 'POI', 23, 'RE', 'country', 'EOP'],\n",
       " [15, 'POI', 13, 'RE', 'contains', 'EOP'],\n",
       " [5, 'POI', 9, 'RE', 'contains', 'EOP'],\n",
       " [12, 'POI', 18, 'RE', 'place_lived', 'EOP'],\n",
       " [41, 'POI', 39, 'RE', 'contains', 'EOP'],\n",
       " [4, 'POI', 10, 'RE', 'company', 'EOP'],\n",
       " [13, 'POI', 12, 'RE', 'contains', 'EOP'],\n",
       " [13, 'POI', 21, 'RE', 'nationality', 'EOP'],\n",
       " [4, 'POI', 5, 'RE', 'country', 'EOP'],\n",
       " [16, 'POI', 19, 'RE', 'country', 'EOP'],\n",
       " [10, 'POI', 9, 'RE', 'contains', 'EOP'],\n",
       " [12, 'POI', 13, 'RE', 'country', 'EOP'],\n",
       " [10, 'POI', 12, 'RE', 'nationality', 'EOP'],\n",
       " [11, 'POI', 3, 'RE', 'contains', 'EOP'],\n",
       " [37, 'POI', 23, 'RE', 'country', 'EOP'],\n",
       " [28, 'POI', 25, 'RE', 'contains', 'EOP'],\n",
       " [33, 'POI', 31, 'RE', 'contains', 'EOP'],\n",
       " [11, 'POI', 24, 'RE', 'contains', 'EOP'],\n",
       " [35, 'POI', 41, 'RE', 'children', 'EOP'],\n",
       " [7, 'POI', 4, 'RE', 'contains', 'EOP'],\n",
       " [4, 'POI', 3, 'RE', 'contains', 'EOP'],\n",
       " [20, 'POI', 24, 'RE', 'place_lived', 'EOP'],\n",
       " [2, 'POI', 5, 'RE', 'place_lived', 'EOP'],\n",
       " [26, 'POI', 23, 'RE', 'contains', 'EOP'],\n",
       " [10, 'POI', 5, 'RE', 'contains', 'EOP'],\n",
       " [0, 'POI', 32, 'RE', 'place_of_death', 'EOP'],\n",
       " [20, 'POI', 6, 'RE', 'contains', 'EOP'],\n",
       " [7, 'POI', 13, 'RE', 'company', 'EOP'],\n",
       " [3, 'POI', 7, 'RE', 'place_lived', 'EOP'],\n",
       " [0, 'POI', 5, 'RE', 'nationality', 'EOP'],\n",
       " [28, 'POI', 23, 'RE', 'country', 'EOP'],\n",
       " [33, 'POI', 29, 'RE', 'contains', 'EOP'],\n",
       " [16, 'POI', 12, 'RE', 'contains', 'EOP'],\n",
       " [9, 'POI', 8, 'RE', 'country', 'EOP'],\n",
       " [7, 'POI', 4, 'RE', 'contains', 'EOP'],\n",
       " [20, 'POI', 32, 'RE', 'administrative_divisions', 'EOP'],\n",
       " [3, 'POI', 5, 'RE', 'country', 'EOP'],\n",
       " [33, 'POI', 32, 'RE', 'contains', 'EOP'],\n",
       " [12, 'POI', 15, 'RE', 'place_lived', 'EOP'],\n",
       " [22, 'POI', 19, 'RE', 'contains', 'EOP'],\n",
       " [15, 'POI', 10, 'RE', 'contains', 'EOP'],\n",
       " [5, 'POI', 4, 'RE', 'contains', 'EOP'],\n",
       " [8, 'POI', 6, 'RE', 'country', 'EOP'],\n",
       " [40, 'POI', 34, 'RE', 'contains', 'EOP'],\n",
       " [22, 'POI', 25, 'RE', 'place_lived', 'EOP'],\n",
       " [28, 'POI', 30, 'RE', 'contains', 'EOP'],\n",
       " [12, 'POI', 8, 'RE', 'company', 'EOP'],\n",
       " [16, 'POI', 14, 'RE', 'contains', 'EOP'],\n",
       " [15, 'POI', 11, 'RE', 'contains', 'EOP'],\n",
       " [6, 'POI', 5, 'RE', 'contains', 'EOP'],\n",
       " [12, 'POI', 11, 'RE', 'contains', 'EOP'],\n",
       " [5, 'POI', 22, 'RE', 'country', 'EOP'],\n",
       " [43, 'POI', 18, 'RE', 'country', 'EOP'],\n",
       " [3, 'POI', 14, 'RE', 'place_lived', 'EOP'],\n",
       " [0, 'POI', 23, 'RE', 'place_of_death', 'EOP'],\n",
       " [29, 'POI', 33, 'RE', 'country', 'EOP'],\n",
       " [12, 'POI', 16, 'RE', 'place_lived', 'EOP'],\n",
       " [9, 'POI', 11, 'RE', 'country', 'EOP'],\n",
       " [9, 'POI', 15, 'RE', 'company', 'EOP'],\n",
       " [17, 'POI', 16, 'RE', 'contains', 'EOP'],\n",
       " [4, 'POI', 7, 'RE', 'place_lived', 'EOP'],\n",
       " [12, 'POI', 11, 'RE', 'contains', 'EOP'],\n",
       " [15, 'POI', 26, 'RE', 'country', 'EOP'],\n",
       " [23, 'POI', 43, 'RE', 'country', 'EOP'],\n",
       " [15, 'POI', 12, 'RE', 'contains', 'EOP'],\n",
       " [17, 'POI', 25, 'RE', 'country', 'EOP'],\n",
       " [12, 'POI', 13, 'RE', 'country', 'EOP'],\n",
       " [6, 'POI', 4, 'RE', 'contains', 'EOP'],\n",
       " [27, 'POI', 29, 'RE', 'country', 'EOP'],\n",
       " [4, 'POI', 5, 'RE', 'country', 'EOP'],\n",
       " [0, 'POI', 18, 'RE', 'country', 'EOP'],\n",
       " [17, 'POI', 15, 'RE', 'contains', 'EOP'],\n",
       " [6, 'POI', 5, 'RE', 'contains', 'EOP'],\n",
       " [6, 'POI', 4, 'RE', 'contains', 'EOP'],\n",
       " [17, 'POI', 2, 'RE', 'company', 'EOP'],\n",
       " [9, 'POI', 21, 'RE', 'company', 'EOP'],\n",
       " [11, 'POI', 8, 'RE', 'contains', 'EOP'],\n",
       " [23, 'POI', 30, 'RE', 'country', 'EOP'],\n",
       " [14, 'POI', 15, 'RE', 'country', 'EOP'],\n",
       " [5, 'POI', 4, 'RE', 'contains', 'EOP'],\n",
       " [18, 'POI', 12, 'RE', 'country', 'EOP'],\n",
       " [7, 'POI', 5, 'RE', 'contains', 'EOP'],\n",
       " [9, 'POI', 8, 'RE', 'contains', 'EOP'],\n",
       " [7, 'POI', 6, 'RE', 'contains', 'EOP'],\n",
       " [12, 'POI', 3, 'RE', 'contains', 'EOP'],\n",
       " [6, 'POI', 12, 'RE', 'nationality', 'EOP'],\n",
       " [32, 'POI', 29, 'RE', 'contains', 'EOP'],\n",
       " [1, 'POI', 6, 'RE', 'contains', 'EOP'],\n",
       " [19, 'POI', 20, 'RE', 'country', 'EOP'],\n",
       " [0, 'POI', 6, 'RE', 'company', 'EOP'],\n",
       " [18, 'POI', 16, 'RE', 'contains', 'EOP'],\n",
       " [22, 'POI', 21, 'RE', 'contains', 'EOP'],\n",
       " [7, 'POI', 16, 'RE', 'contains', 'EOP'],\n",
       " [18, 'POI', 20, 'RE', 'country', 'EOP'],\n",
       " [2, 'POI', 0, 'RE', 'country', 'EOP'],\n",
       " [11, 'POI', 9, 'RE', 'contains', 'EOP'],\n",
       " [12, 'POI', 5, 'RE', 'place_lived', 'EOP'],\n",
       " [37, 'POI', 40, 'RE', 'place_lived', 'EOP'],\n",
       " [27, 'POI', 36, 'RE', 'company', 'EOP'],\n",
       " [35, 'POI', 8, 'RE', 'country', 'EOP'],\n",
       " [10, 'POI', 18, 'RE', 'country', 'EOP'],\n",
       " [15, 'POI', 10, 'RE', 'country', 'EOP'],\n",
       " [29, 'POI', 28, 'RE', 'contains', 'EOP'],\n",
       " [39, 'POI', 36, 'RE', 'contains', 'EOP'],\n",
       " [14, 'POI', 16, 'RE', 'contains', 'EOP'],\n",
       " [14, 'POI', 15, 'RE', 'country', 'EOP'],\n",
       " [38, 'POI', 39, 'RE', 'contains', 'EOP'],\n",
       " [8, 'POI', 11, 'RE', 'place_lived', 'EOP'],\n",
       " [19, 'POI', 16, 'RE', 'contains', 'EOP'],\n",
       " [8, 'POI', 7, 'RE', 'contains', 'EOP'],\n",
       " [40, 'POI', 39, 'RE', 'contains', 'EOP'],\n",
       " [31, 'POI', 43, 'RE', 'country', 'EOP'],\n",
       " [1, 'POI', 4, 'RE', 'place_lived', 'EOP'],\n",
       " [5, 'POI', 4, 'RE', 'contains', 'EOP'],\n",
       " [14, 'POI', 25, 'RE', 'company', 'EOP'],\n",
       " [3, 'POI', 6, 'RE', 'nationality', 'EOP'],\n",
       " [22, 'POI', 28, 'RE', 'company', 'EOP'],\n",
       " [16, 'POI', 13, 'RE', 'contains', 'EOP'],\n",
       " [9, 'POI', 6, 'RE', 'contains', 'EOP'],\n",
       " [1, 'POI', 4, 'RE', 'place_lived', 'EOP'],\n",
       " [10, 'POI', 16, 'RE', 'company', 'EOP'],\n",
       " [22, 'POI', 21, 'RE', 'contains', 'EOP'],\n",
       " [4, 'POI', 7, 'RE', 'company', 'EOP'],\n",
       " [16, 'POI', 5, 'RE', 'country', 'EOP'],\n",
       " [26, 'POI', 20, 'RE', 'contains', 'EOP'],\n",
       " [10, 'POI', 9, 'RE', 'contains', 'EOP'],\n",
       " [9, 'POI', 17, 'RE', 'company', 'EOP'],\n",
       " [32, 'POI', 28, 'RE', 'nationality', 'EOP'],\n",
       " [16, 'POI', 19, 'RE', 'place_lived', 'EOP'],\n",
       " [11, 'POI', 10, 'RE', 'nationality', 'EOP'],\n",
       " [7, 'POI', 5, 'RE', 'contains', 'EOP'],\n",
       " [11, 'POI', 7, 'RE', 'contains', 'EOP'],\n",
       " [1, 'POI', 4, 'RE', 'place_lived', 'EOP'],\n",
       " [13, 'POI', 12, 'RE', 'contains', 'EOP'],\n",
       " [13, 'POI', 17, 'RE', 'place_lived', 'EOP'],\n",
       " [15, 'POI', 13, 'RE', 'country', 'EOP'],\n",
       " [0, 'POI', 13, 'RE', 'place_lived', 'EOP'],\n",
       " [8, 'POI', 4, 'RE', 'administrative_divisions', 'EOP'],\n",
       " [9, 'POI', 8, 'RE', 'contains', 'EOP'],\n",
       " [20, 'POI', 16, 'RE', 'nationality', 'EOP'],\n",
       " [7, 'POI', 20, 'RE', 'country', 'EOP'],\n",
       " [4, 'POI', 7, 'RE', 'contains', 'EOP'],\n",
       " [8, 'POI', 6, 'RE', 'country', 'EOP'],\n",
       " [0, 'POI', 3, 'RE', 'contains', 'EOP'],\n",
       " [20, 'POI', 10, 'RE', 'contains', 'EOP'],\n",
       " [7, 'POI', 9, 'RE', 'country', 'EOP'],\n",
       " [25, 'POI', 28, 'RE', 'place_lived', 'EOP'],\n",
       " [0, 'POI', 7, 'RE', 'company', 'EOP'],\n",
       " [37, 'POI', 42, 'RE', 'company', 'EOP'],\n",
       " [20, 'POI', 18, 'RE', 'contains', 'EOP'],\n",
       " [11, 'POI', 6, 'RE', 'contains', 'EOP'],\n",
       " [16, 'POI', 26, 'RE', 'country', 'EOP'],\n",
       " [40, 'POI', 41, 'RE', 'country', 'EOP'],\n",
       " [5, 'POI', 8, 'RE', 'nationality', 'EOP'],\n",
       " [11, 'POI', 14, 'RE', 'place_lived', 'EOP'],\n",
       " [8, 'POI', 14, 'RE', 'company', 'EOP'],\n",
       " [12, 'POI', 10, 'RE', 'contains', 'EOP'],\n",
       " [14, 'POI', 17, 'RE', 'place_lived', 'EOP'],\n",
       " [14, 'POI', 22, 'RE', 'nationality', 'EOP']]"
      ]
     },
     "execution_count": 332,
     "metadata": {},
     "output_type": "execute_result"
    }
   ],
   "source": [
    "t_adjacencyList"
   ]
  },
  {
   "cell_type": "code",
   "execution_count": 297,
   "metadata": {
    "collapsed": true,
    "hidden": true
   },
   "outputs": [
    {
     "data": {
      "text/plain": [
       "[{'em1Text': 'Ehud Olmert',\n",
       "  'em2Text': 'Israel',\n",
       "  'label': '/people/person/nationality'},\n",
       " {'em1Text': 'Ehud Olmert',\n",
       "  'em2Text': 'Israel',\n",
       "  'label': '/people/person/nationality'}]"
      ]
     },
     "execution_count": 297,
     "metadata": {},
     "output_type": "execute_result"
    }
   ],
   "source": [
    "t_trueMentions[365]"
   ]
  },
  {
   "cell_type": "code",
   "execution_count": 292,
   "metadata": {
    "collapsed": true,
    "hidden": true
   },
   "outputs": [
    {
     "data": {
      "text/plain": [
       "[{'em1Text': 'Condoleezza Rice', 'em2Text': 'Berlin', 'label': 'None'},\n",
       " {'em1Text': 'Berlin', 'em2Text': 'Condoleezza Rice', 'label': 'None'},\n",
       " {'em1Text': 'Berlin', 'em2Text': 'Iran', 'label': 'None'},\n",
       " {'em1Text': 'Iran', 'em2Text': 'Berlin', 'label': 'None'},\n",
       " {'em1Text': 'Russia',\n",
       "  'em2Text': 'Iran',\n",
       "  'label': '/location/administrative_division/country'},\n",
       " {'em1Text': 'Iran', 'em2Text': 'Russia', 'label': 'None'},\n",
       " {'em1Text': 'Condoleezza Rice', 'em2Text': 'Russia', 'label': 'None'},\n",
       " {'em1Text': 'Russia', 'em2Text': 'Condoleezza Rice', 'label': 'None'},\n",
       " {'em1Text': 'Condoleezza Rice', 'em2Text': 'Iran', 'label': 'None'},\n",
       " {'em1Text': 'Iran', 'em2Text': 'Condoleezza Rice', 'label': 'None'},\n",
       " {'em1Text': 'Berlin', 'em2Text': 'Russia', 'label': 'None'},\n",
       " {'em1Text': 'Russia', 'em2Text': 'Berlin', 'label': 'None'},\n",
       " {'em1Text': 'Russia', 'em2Text': 'Berlin', 'label': 'None'},\n",
       " {'em1Text': 'Berlin', 'em2Text': 'Russia', 'label': 'None'},\n",
       " {'em1Text': 'Russia', 'em2Text': 'Condoleezza Rice', 'label': 'None'},\n",
       " {'em1Text': 'Condoleezza Rice', 'em2Text': 'Russia', 'label': 'None'},\n",
       " {'em1Text': 'Russia', 'em2Text': 'Russia', 'label': 'None'}]"
      ]
     },
     "execution_count": 292,
     "metadata": {},
     "output_type": "execute_result"
    }
   ],
   "source": [
    "t_relationMentions[38]"
   ]
  },
  {
   "cell_type": "code",
   "execution_count": 286,
   "metadata": {
    "collapsed": true,
    "hidden": true
   },
   "outputs": [
    {
     "data": {
      "text/plain": [
       "'The administration is now put in a position of playing defense as we are finally seeing the international consequences of the rather dramatic internal transformation inside Russia with the erosion of democracy a new ruling class a massive transfer of property rights from so-called oligarchs to basically friends of Putin most of whom are from the old K.G.B. Senior administration officials said the new effort to reach out to Russia already had been put into action and included Secretary of State Condoleezza Rice s consultation with her Russian counterpart Foreign Minister Sergey V. Lavrov during meetings in Berlin on Feb 21 and 22 about whether Russia had the appetite to pursue a second Security Council resolution for sanctions against Iran'"
      ]
     },
     "execution_count": 286,
     "metadata": {},
     "output_type": "execute_result"
    }
   ],
   "source": [
    "' '.join(t_sentWords[38])"
   ]
  },
  {
   "cell_type": "code",
   "execution_count": 287,
   "metadata": {
    "collapsed": true,
    "hidden": true
   },
   "outputs": [
    {
     "data": {
      "text/plain": [
       "'\"The administration is now put in a position of playing defense , as we are finally seeing the international consequences of the rather dramatic internal transformation inside Russia with the erosion of democracy , a new ruling class , a massive transfer of property rights from so-called oligarchs to , basically , friends of Putin , most of whom are from the old K.G.B. \\'\\' Senior administration officials said the new effort to reach out to Russia already had been put into action , and included Secretary of State Condoleezza Rice \\'s consultation with her Russian counterpart , Foreign Minister Sergey V. Lavrov , during meetings in Berlin on Feb. 21 and 22 about whether Russia had the appetite to pursue a second Security Council resolution for sanctions against Iran .\"\\r\\n'"
      ]
     },
     "execution_count": 287,
     "metadata": {},
     "output_type": "execute_result"
    }
   ],
   "source": [
    "t_sentText[38]"
   ]
  },
  {
   "cell_type": "code",
   "execution_count": 271,
   "metadata": {
    "collapsed": true,
    "hidden": true
   },
   "outputs": [
    {
     "data": {
      "text/plain": [
       "[105, 'POI', 119, 'RE', 'country', 'EOP']"
      ]
     },
     "execution_count": 271,
     "metadata": {},
     "output_type": "execute_result"
    }
   ],
   "source": [
    "t_adjacencyList[38]"
   ]
  },
  {
   "cell_type": "code",
   "execution_count": 272,
   "metadata": {
    "collapsed": true,
    "hidden": true
   },
   "outputs": [
    {
     "data": {
      "text/plain": [
       "['Russia', 'Russia', 'Condoleezza Rice', 'Berlin', 'Russia', 'Iran']"
      ]
     },
     "execution_count": 272,
     "metadata": {},
     "output_type": "execute_result"
    }
   ],
   "source": [
    "t_entityLabels[38]"
   ]
  },
  {
   "cell_type": "code",
   "execution_count": 273,
   "metadata": {
    "collapsed": true,
    "hidden": true
   },
   "outputs": [
    {
     "data": {
      "text/plain": [
       "[[26], [69], [81, 82], [97], [105], [119]]"
      ]
     },
     "execution_count": 273,
     "metadata": {},
     "output_type": "execute_result"
    }
   ],
   "source": [
    "ti_entityLabels[38]"
   ]
  },
  {
   "cell_type": "code",
   "execution_count": 282,
   "metadata": {
    "collapsed": true,
    "hidden": true
   },
   "outputs": [
    {
     "data": {
      "text/plain": [
       "[{'em1Text': 'Czech Republic', 'em2Text': 'Russia', 'label': 'None'},\n",
       " {'em1Text': 'Russia', 'em2Text': 'Czech Republic', 'label': 'None'},\n",
       " {'em1Text': 'Poland', 'em2Text': 'Iran', 'label': 'None'},\n",
       " {'em1Text': 'Iran', 'em2Text': 'Poland', 'label': 'None'},\n",
       " {'em1Text': 'Czech Republic', 'em2Text': 'Poland', 'label': 'None'},\n",
       " {'em1Text': 'Poland', 'em2Text': 'Czech Republic', 'label': 'None'},\n",
       " {'em1Text': 'United States', 'em2Text': 'Russia', 'label': 'None'},\n",
       " {'em1Text': 'Russia', 'em2Text': 'United States', 'label': 'None'},\n",
       " {'em1Text': 'Poland', 'em2Text': 'Russia', 'label': 'None'},\n",
       " {'em1Text': 'Russia', 'em2Text': 'Poland', 'label': 'None'},\n",
       " {'em1Text': 'United States', 'em2Text': 'Czech Republic', 'label': 'None'},\n",
       " {'em1Text': 'Czech Republic', 'em2Text': 'United States', 'label': 'None'},\n",
       " {'em1Text': 'Russia', 'em2Text': 'Washington', 'label': 'None'},\n",
       " {'em1Text': 'Washington', 'em2Text': 'Russia', 'label': 'None'},\n",
       " {'em1Text': 'Russia', 'em2Text': 'Russia', 'label': 'None'},\n",
       " {'em1Text': 'Washington',\n",
       "  'em2Text': 'Iran',\n",
       "  'label': '/location/administrative_division/country'},\n",
       " {'em1Text': 'Iran', 'em2Text': 'Washington', 'label': 'None'},\n",
       " {'em1Text': 'Washington', 'em2Text': 'Russia', 'label': 'None'},\n",
       " {'em1Text': 'Russia', 'em2Text': 'Washington', 'label': 'None'},\n",
       " {'em1Text': 'Poland', 'em2Text': 'Washington', 'label': 'None'},\n",
       " {'em1Text': 'Washington', 'em2Text': 'Poland', 'label': 'None'},\n",
       " {'em1Text': 'Russia',\n",
       "  'em2Text': 'Iran',\n",
       "  'label': '/location/administrative_division/country'},\n",
       " {'em1Text': 'Iran', 'em2Text': 'Russia', 'label': 'None'},\n",
       " {'em1Text': 'United States', 'em2Text': 'Poland', 'label': 'None'},\n",
       " {'em1Text': 'Poland', 'em2Text': 'United States', 'label': 'None'},\n",
       " {'em1Text': 'United States', 'em2Text': 'Washington', 'label': 'None'},\n",
       " {'em1Text': 'Washington', 'em2Text': 'United States', 'label': 'None'},\n",
       " {'em1Text': 'Czech Republic', 'em2Text': 'Washington', 'label': 'None'},\n",
       " {'em1Text': 'Washington', 'em2Text': 'Czech Republic', 'label': 'None'}]"
      ]
     },
     "execution_count": 282,
     "metadata": {},
     "output_type": "execute_result"
    }
   ],
   "source": [
    "t_relationMentions[191]"
   ]
  },
  {
   "cell_type": "code",
   "execution_count": 180,
   "metadata": {
    "collapsed": true,
    "hidden": true
   },
   "outputs": [
    {
     "data": {
      "text/plain": [
       "[(26, [2, 5]),\n",
       " (30, [7, 16]),\n",
       " (47, [2, 3]),\n",
       " (52, [5, 8]),\n",
       " (73, [13, 24]),\n",
       " (172, [3, 6]),\n",
       " (191, [15, 21]),\n",
       " (236, [0, 5]),\n",
       " (262, [1, 3]),\n",
       " (268, [4, 9]),\n",
       " (293, [2, 5]),\n",
       " (313, [5, 10]),\n",
       " (316, [13, 16]),\n",
       " (347, [3, 16]),\n",
       " (365, [3, 10])]"
      ]
     },
     "execution_count": 180,
     "metadata": {},
     "output_type": "execute_result"
    }
   ],
   "source": [
    "[i for i in enumerate(ti_trueLables) if len(i[-1]) > 1]"
   ]
  },
  {
   "cell_type": "code",
   "execution_count": 281,
   "metadata": {
    "hidden": true
   },
   "outputs": [],
   "source": [
    "t_trueLables = [[i for i in rl if i != 'None'] for rl in t_relationLabels]"
   ]
  },
  {
   "cell_type": "code",
   "execution_count": 305,
   "metadata": {
    "hidden": true,
    "scrolled": true
   },
   "outputs": [
    {
     "data": {
      "text/plain": [
       "410"
      ]
     },
     "execution_count": 305,
     "metadata": {},
     "output_type": "execute_result"
    }
   ],
   "source": [
    "len([i for item in t_relationMentions for i in item if i['label'] != 'None'])"
   ]
  },
  {
   "cell_type": "code",
   "execution_count": 306,
   "metadata": {
    "hidden": true,
    "scrolled": true
   },
   "outputs": [
    {
     "data": {
      "text/plain": [
       "{6, 12}"
      ]
     },
     "execution_count": 306,
     "metadata": {},
     "output_type": "execute_result"
    }
   ],
   "source": [
    "set([len(i) for i in t_adjacencyList])"
   ]
  },
  {
   "cell_type": "code",
   "execution_count": 307,
   "metadata": {
    "hidden": true
   },
   "outputs": [
    {
     "data": {
      "text/plain": [
       "12"
      ]
     },
     "execution_count": 307,
     "metadata": {},
     "output_type": "execute_result"
    }
   ],
   "source": [
    "import numpy as np\n",
    "np.max([len(i) for i in t_adjacencyList])"
   ]
  },
  {
   "cell_type": "code",
   "execution_count": 26,
   "metadata": {
    "collapsed": true,
    "hidden": true
   },
   "outputs": [],
   "source": [
    "#len([i for i in i_adjacencyList if len(i) > 20])"
   ]
  },
  {
   "cell_type": "code",
   "execution_count": 308,
   "metadata": {
    "hidden": true
   },
   "outputs": [
    {
     "data": {
      "text/plain": [
       "True"
      ]
     },
     "execution_count": 308,
     "metadata": {},
     "output_type": "execute_result"
    }
   ],
   "source": [
    "all(al[1] == 'POI' for al in t_adjacencyList)"
   ]
  },
  {
   "cell_type": "markdown",
   "metadata": {},
   "source": [
    "# Build Dateset"
   ]
  },
  {
   "cell_type": "code",
   "execution_count": 361,
   "metadata": {},
   "outputs": [],
   "source": [
    "from keras.preprocessing.sequence import pad_sequences\n",
    "from keras.utils import to_categorical\n",
    "from sklearn.model_selection import train_test_split\n",
    "from keras.preprocessing.text import Tokenizer\n",
    "from nltk import WordNetLemmatizer"
   ]
  },
  {
   "cell_type": "code",
   "execution_count": 364,
   "metadata": {
    "collapsed": true
   },
   "outputs": [],
   "source": [
    "wnl = WordNetLemmatizer()\n",
    "sentWords = [[wnl.lemmatize(t.lower()) for t in toks] for toks in sentWords]\n",
    "t_sentWords = [[wnl.lemmatize(t.lower()) for t in toks] for toks in t_sentWords]\n",
    "tok_sentWords = sentWords.copy()\n",
    "tok_sentWords.extend(t_sentWords)\n",
    "tokTexts = [' '.join(i) for i in tok_sentWords]"
   ]
  },
  {
   "cell_type": "code",
   "execution_count": 365,
   "metadata": {},
   "outputs": [
    {
     "name": "stdout",
     "output_type": "stream",
     "text": [
      "Found 71038 unique tokens.\n"
     ]
    }
   ],
   "source": [
    "tokenizer = Tokenizer(filters='')\n",
    "tokenizer.fit_on_texts(tokTexts)\n",
    "word2index = tokenizer.word_index\n",
    "index2word = {i: w for w, i in word2index.items()}\n",
    "print('Found %s unique tokens.' % len(word2index))"
   ]
  },
  {
   "cell_type": "code",
   "execution_count": 366,
   "metadata": {},
   "outputs": [],
   "source": [
    "#new_sentText = [' '.join(i) for i in sentWords]\n",
    "#sentSeq = tokenizer.texts_to_sequences(new_sentText)\n",
    "#sentData = pad_sequences(sentSeq, maxlen=MAX_SENT_LEN, padding='post', truncating='post')\n",
    "\n",
    "#t_new_sentText = [' '.join(i) for i in t_sentWords]\n",
    "#t_sentSeq = tokenizer.texts_to_sequences(t_new_sentText)\n",
    "#t_sentData = pad_sequences(t_sentSeq, maxlen=120, padding='post', truncating='post')\n",
    "\n",
    "token2index = dict((j, i+120) for i, j in enumerate(['PAD']+padDict+t_relationTypes))\n",
    "token2index['PAD'] = 0\n",
    "index2token = {i: w for w, i in token2index.items()}\n",
    "#newi_adjacencyList = [[token2index[i] if i in token2index else i+1 for i in aL] for aL in i_adjacencyList]\n",
    "#newi_adjacencyList = pad_sequences(newi_adjacencyList, maxlen=MAX_ADJL_LEN, padding='post', truncating='pre')\n",
    "newti_adjacencyList = [[token2index[i] if i in token2index else i+1 for i in aL] for aL in t_adjacencyList]\n",
    "newti_adjacencyList = pad_sequences(newti_adjacencyList, maxlen=20, padding='post', truncating='post')"
   ]
  },
  {
   "cell_type": "code",
   "execution_count": 368,
   "metadata": {},
   "outputs": [],
   "source": [
    "SEED = 42"
   ]
  },
  {
   "cell_type": "code",
   "execution_count": 369,
   "metadata": {
    "collapsed": true
   },
   "outputs": [],
   "source": [
    "y_test = newti_adjacencyList\n",
    "\n",
    "y_test, _, _, _ = train_test_split(y_test, y_test, test_size=0., random_state=SEED)"
   ]
  },
  {
   "cell_type": "code",
   "execution_count": 41,
   "metadata": {
    "collapsed": true
   },
   "outputs": [],
   "source": [
    "#np.max([int(i) for aL in i_adjacencyList for i in aL if i not in padDict+t_relationTypes])"
   ]
  },
  {
   "cell_type": "code",
   "execution_count": 42,
   "metadata": {
    "collapsed": true
   },
   "outputs": [],
   "source": [
    "# Split the data into a training set, a validation set and a test set\n",
    "x_train_all = sentData\n",
    "y_train_all = newi_adjacencyList\n",
    "\n",
    "x_train, x_val, y_train, y_val = train_test_split(x_train_all, y_train_all, test_size=0.15, random_state=SEED)\n",
    "x_train_all, _, y_train_all, _  = train_test_split(x_train_all, y_train_all, test_size=0., random_state=SEED)\n",
    " \n",
    "x_test = t_sentData\n",
    "y_test = newti_adjacencyList\n",
    "\n",
    "x_test, _, y_test, _ = train_test_split(x_test, y_test, test_size=0., random_state=SEED)"
   ]
  },
  {
   "cell_type": "markdown",
   "metadata": {},
   "source": [
    "# Save Dataset"
   ]
  },
  {
   "cell_type": "code",
   "execution_count": 370,
   "metadata": {
    "collapsed": true
   },
   "outputs": [],
   "source": [
    "import h5py\n",
    "import pickle"
   ]
  },
  {
   "cell_type": "code",
   "execution_count": 44,
   "metadata": {
    "collapsed": true
   },
   "outputs": [],
   "source": [
    "fh = h5py.File('/Users/lizhn7/Downloads/DATA/nyt/experiment_3_2/allData_gla.h5', 'w')\n",
    "fh['x_train'] = x_train\n",
    "fh['y_train'] = y_train\n",
    "fh['x_val'] = x_val\n",
    "fh['y_val'] = y_val\n",
    "fh['x_train_all'] = x_train_all\n",
    "fh['y_train_all'] = y_train_all\n",
    "fh['x_test'] = x_test\n",
    "fh['y_test'] = y_test\n",
    "fh['embedding'] = embedding\n",
    "fh.close()"
   ]
  },
  {
   "cell_type": "code",
   "execution_count": 45,
   "metadata": {
    "collapsed": true
   },
   "outputs": [],
   "source": [
    "with open('/Users/lizhn7/Downloads/DATA/nyt/experiment_3_2/index_gla.pkl', 'wb') as fp:\n",
    "    pickle.dump((word2index, index2word, token2index, index2token), fp, -1)"
   ]
  },
  {
   "cell_type": "code",
   "execution_count": 371,
   "metadata": {
    "collapsed": true
   },
   "outputs": [],
   "source": [
    "with open('/Users/lizhn7/Downloads/DATA/nyt/experiment_3_2/newy.pkl', 'wb') as fp:\n",
    "    pickle.dump((y_test), fp, -1)"
   ]
  },
  {
   "cell_type": "markdown",
   "metadata": {
    "heading_collapsed": true
   },
   "source": [
    "# Checkpoint"
   ]
  },
  {
   "cell_type": "code",
   "execution_count": 48,
   "metadata": {
    "collapsed": true,
    "hidden": true
   },
   "outputs": [],
   "source": [
    "import h5py\n",
    "import pickle"
   ]
  },
  {
   "cell_type": "code",
   "execution_count": 49,
   "metadata": {
    "collapsed": true,
    "hidden": true
   },
   "outputs": [],
   "source": [
    "with h5py.File('/Users/lizhn7/Downloads/DATA/nyt/experiment_3_2/allData_w2v.h5', 'r') as fh:\n",
    "    x_train = fh['x_train'][:]\n",
    "    y_train = fh['y_train'][:]\n",
    "    x_val = fh['x_val'][:]\n",
    "    y_val = fh['y_val'][:]\n",
    "    x_train_all = fh['x_train_all'][:]\n",
    "    y_train_all = fh['y_train_all'][:]\n",
    "    x_test = fh['x_test'][:]\n",
    "    y_test = fh['y_test'][:]\n",
    "    embedding = fh['embedding'][:]"
   ]
  },
  {
   "cell_type": "code",
   "execution_count": 50,
   "metadata": {
    "collapsed": true,
    "hidden": true
   },
   "outputs": [],
   "source": [
    "with open('/Users/lizhn7/Downloads/DATA/nyt/experiment_3_2/index_w2v.pkl', 'rb') as fp:\n",
    "    word2index, index2word, token2index, index2token = pickle.load(fp)"
   ]
  }
 ],
 "metadata": {
  "kernelspec": {
   "display_name": "Python 3",
   "language": "python",
   "name": "python3"
  },
  "language_info": {
   "codemirror_mode": {
    "name": "ipython",
    "version": 3
   },
   "file_extension": ".py",
   "mimetype": "text/x-python",
   "name": "python",
   "nbconvert_exporter": "python",
   "pygments_lexer": "ipython3",
   "version": "3.6.2"
  },
  "toc": {
   "colors": {
    "hover_highlight": "#DAA520",
    "navigate_num": "#000000",
    "navigate_text": "#333333",
    "running_highlight": "#FF0000",
    "selected_highlight": "#FFD700",
    "sidebar_border": "#EEEEEE",
    "wrapper_background": "#FFFFFF"
   },
   "moveMenuLeft": true,
   "nav_menu": {
    "height": "84px",
    "width": "252px"
   },
   "navigate_menu": true,
   "number_sections": true,
   "sideBar": true,
   "threshold": 4,
   "toc_cell": true,
   "toc_section_display": "block",
   "toc_window_display": false,
   "widenNotebook": false
  }
 },
 "nbformat": 4,
 "nbformat_minor": 2
}
