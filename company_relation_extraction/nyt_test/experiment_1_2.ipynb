{
 "cells": [
  {
   "cell_type": "markdown",
   "metadata": {
    "toc": "true"
   },
   "source": [
    "# Table of Contents\n",
    " <p><div class=\"lev1 toc-item\"><a href=\"#GPU\" data-toc-modified-id=\"GPU-1\"><span class=\"toc-item-num\">1&nbsp;&nbsp;</span>GPU</a></div><div class=\"lev1 toc-item\"><a href=\"#Data-Preprocessing\" data-toc-modified-id=\"Data-Preprocessing-2\"><span class=\"toc-item-num\">2&nbsp;&nbsp;</span>Data Preprocessing</a></div><div class=\"lev2 toc-item\"><a href=\"#Load-Training-Data\" data-toc-modified-id=\"Load-Training-Data-21\"><span class=\"toc-item-num\">2.1&nbsp;&nbsp;</span>Load Training Data</a></div><div class=\"lev3 toc-item\"><a href=\"#From-train.json\" data-toc-modified-id=\"From-train.json-211\"><span class=\"toc-item-num\">2.1.1&nbsp;&nbsp;</span>From train.json</a></div><div class=\"lev3 toc-item\"><a href=\"#Sample\" data-toc-modified-id=\"Sample-212\"><span class=\"toc-item-num\">2.1.2&nbsp;&nbsp;</span>Sample</a></div><div class=\"lev3 toc-item\"><a href=\"#Relation-Types\" data-toc-modified-id=\"Relation-Types-213\"><span class=\"toc-item-num\">2.1.3&nbsp;&nbsp;</span>Relation Types</a></div><div class=\"lev2 toc-item\"><a href=\"#Load-Test-Data\" data-toc-modified-id=\"Load-Test-Data-22\"><span class=\"toc-item-num\">2.2&nbsp;&nbsp;</span>Load Test Data</a></div><div class=\"lev3 toc-item\"><a href=\"#From-test.json\" data-toc-modified-id=\"From-test.json-221\"><span class=\"toc-item-num\">2.2.1&nbsp;&nbsp;</span>From test.json</a></div><div class=\"lev3 toc-item\"><a href=\"#Sample\" data-toc-modified-id=\"Sample-222\"><span class=\"toc-item-num\">2.2.2&nbsp;&nbsp;</span>Sample</a></div><div class=\"lev3 toc-item\"><a href=\"#Ralation-Types\" data-toc-modified-id=\"Ralation-Types-223\"><span class=\"toc-item-num\">2.2.3&nbsp;&nbsp;</span>Ralation Types</a></div><div class=\"lev2 toc-item\"><a href=\"#Participle\" data-toc-modified-id=\"Participle-23\"><span class=\"toc-item-num\">2.3&nbsp;&nbsp;</span>Participle</a></div><div class=\"lev1 toc-item\"><a href=\"#Word-to-Vector\" data-toc-modified-id=\"Word-to-Vector-3\"><span class=\"toc-item-num\">3&nbsp;&nbsp;</span>Word to Vector</a></div><div class=\"lev2 toc-item\"><a href=\"#Set-Hyperparameters\" data-toc-modified-id=\"Set-Hyperparameters-31\"><span class=\"toc-item-num\">3.1&nbsp;&nbsp;</span>Set Hyperparameters</a></div><div class=\"lev2 toc-item\"><a href=\"#Shuffle-the-data\" data-toc-modified-id=\"Shuffle-the-data-32\"><span class=\"toc-item-num\">3.2&nbsp;&nbsp;</span>Shuffle the data</a></div><div class=\"lev2 toc-item\"><a href=\"#Train\" data-toc-modified-id=\"Train-33\"><span class=\"toc-item-num\">3.3&nbsp;&nbsp;</span>Train</a></div><div class=\"lev2 toc-item\"><a href=\"#Test\" data-toc-modified-id=\"Test-34\"><span class=\"toc-item-num\">3.4&nbsp;&nbsp;</span>Test</a></div><div class=\"lev2 toc-item\"><a href=\"#Tokenize-Text\" data-toc-modified-id=\"Tokenize-Text-35\"><span class=\"toc-item-num\">3.5&nbsp;&nbsp;</span>Tokenize Text</a></div><div class=\"lev2 toc-item\"><a href=\"#Create-Word-Embeddings-with-GloVe\" data-toc-modified-id=\"Create-Word-Embeddings-with-GloVe-36\"><span class=\"toc-item-num\">3.6&nbsp;&nbsp;</span>Create Word Embeddings with GloVe</a></div><div class=\"lev3 toc-item\"><a href=\"#Read-GloVe\" data-toc-modified-id=\"Read-GloVe-361\"><span class=\"toc-item-num\">3.6.1&nbsp;&nbsp;</span>Read GloVe</a></div><div class=\"lev3 toc-item\"><a href=\"#Use-Glove-to-Initialize-Embedding-Matrix\" data-toc-modified-id=\"Use-Glove-to-Initialize-Embedding-Matrix-362\"><span class=\"toc-item-num\">3.6.2&nbsp;&nbsp;</span>Use Glove to Initialize Embedding Matrix</a></div><div class=\"lev1 toc-item\"><a href=\"#Build-Dateset\" data-toc-modified-id=\"Build-Dateset-4\"><span class=\"toc-item-num\">4&nbsp;&nbsp;</span>Build Dateset</a></div><div class=\"lev1 toc-item\"><a href=\"#Save-Dataset\" data-toc-modified-id=\"Save-Dataset-5\"><span class=\"toc-item-num\">5&nbsp;&nbsp;</span>Save Dataset</a></div><div class=\"lev1 toc-item\"><a href=\"#Checkpoint\" data-toc-modified-id=\"Checkpoint-6\"><span class=\"toc-item-num\">6&nbsp;&nbsp;</span>Checkpoint</a></div><div class=\"lev1 toc-item\"><a href=\"#Build-Model\" data-toc-modified-id=\"Build-Model-7\"><span class=\"toc-item-num\">7&nbsp;&nbsp;</span>Build Model</a></div><div class=\"lev2 toc-item\"><a href=\"#Set-Hyperparameters\" data-toc-modified-id=\"Set-Hyperparameters-71\"><span class=\"toc-item-num\">7.1&nbsp;&nbsp;</span>Set Hyperparameters</a></div><div class=\"lev2 toc-item\"><a href=\"#Import-Libraries\" data-toc-modified-id=\"Import-Libraries-72\"><span class=\"toc-item-num\">7.2&nbsp;&nbsp;</span>Import Libraries</a></div><div class=\"lev2 toc-item\"><a href=\"#Build-Graph\" data-toc-modified-id=\"Build-Graph-73\"><span class=\"toc-item-num\">7.3&nbsp;&nbsp;</span>Build Graph</a></div><div class=\"lev2 toc-item\"><a href=\"#Model-Visualization\" data-toc-modified-id=\"Model-Visualization-74\"><span class=\"toc-item-num\">7.4&nbsp;&nbsp;</span>Model Visualization</a></div><div class=\"lev2 toc-item\"><a href=\"#Train\" data-toc-modified-id=\"Train-75\"><span class=\"toc-item-num\">7.5&nbsp;&nbsp;</span>Train</a></div><div class=\"lev1 toc-item\"><a href=\"#Evaluate\" data-toc-modified-id=\"Evaluate-8\"><span class=\"toc-item-num\">8&nbsp;&nbsp;</span>Evaluate</a></div>"
   ]
  },
  {
   "cell_type": "markdown",
   "metadata": {
    "heading_collapsed": true
   },
   "source": [
    "# GPU"
   ]
  },
  {
   "cell_type": "code",
   "execution_count": 1,
   "metadata": {
    "hidden": true
   },
   "outputs": [
    {
     "name": "stdout",
     "output_type": "stream",
     "text": [
      "Default GPU Device: \n"
     ]
    }
   ],
   "source": [
    "import tensorflow as tf \n",
    "print('Default GPU Device: {}'.format(tf.test.gpu_device_name()))"
   ]
  },
  {
   "cell_type": "markdown",
   "metadata": {},
   "source": [
    "# Data Preprocessing"
   ]
  },
  {
   "cell_type": "markdown",
   "metadata": {},
   "source": [
    "## Load Training Data"
   ]
  },
  {
   "cell_type": "markdown",
   "metadata": {},
   "source": [
    "### From train.json"
   ]
  },
  {
   "cell_type": "code",
   "execution_count": 2,
   "metadata": {
    "collapsed": true
   },
   "outputs": [],
   "source": [
    "import json"
   ]
  },
  {
   "cell_type": "code",
   "execution_count": 3,
   "metadata": {
    "collapsed": true
   },
   "outputs": [],
   "source": [
    "allText = []\n",
    "sentText = []\n",
    "relationMentions = []\n",
    "relationLabels = []\n",
    "entityMentions = []\n",
    "entityLabels = []\n",
    "em1Text = []\n",
    "em2Text = []\n",
    "adjacencyList = []\n",
    "\n",
    "with open(\"/Users/lizhn7/Downloads/DATA/NYT /train.json\") as f:\n",
    "    lines = f.readlines()\n",
    "\n",
    "for line in lines:\n",
    "    item = json.loads(line)\n",
    "    allText.append(item['sentText'].lower())\n",
    "    # Exclude \"None\" label\n",
    "    if not all(i['label'] == 'None' for i in item['relationMentions']):\n",
    "        sentText.append(item['sentText'].lower())\n",
    "        relationMentions.append(item['relationMentions'])\n",
    "        entityMentions.append(item['entityMentions'])\n",
    "    \n",
    "relationLabels = [[i['label'].split('/')[-1] for i in rM] for rM in relationMentions]\n",
    "entityLabels = [[i['text'].lower() for i in eM] for eM in entityMentions]\n",
    "em1Text = [[i['em1Text'].lower() for i in rM] for rM in relationMentions]\n",
    "em2Text = [[i['em2Text'].lower() for i in rM] for rM in relationMentions]\n",
    "\n",
    "for i in range(len(sentText)):\n",
    "    # POI means pointer\n",
    "    # RE means relation label\n",
    "    # EOP means end of pointer   \n",
    "    # EOS means end of sequence\n",
    "    aL = ''\n",
    "    for j in entityLabels[i]:\n",
    "        aL += j\n",
    "        for item in enumerate(em1Text[i]):\n",
    "            if j == item[1]:\n",
    "                aL = aL + ' POI ' + em2Text[i][item[0]] + ' RE ' + relationLabels[i][item[0]]\n",
    "        aL += ' EOP '\n",
    "    aL += 'EOS'\n",
    "    adjacencyList.append(aL)"
   ]
  },
  {
   "cell_type": "code",
   "execution_count": 4,
   "metadata": {},
   "outputs": [
    {
     "data": {
      "text/plain": [
       "(235982, 66336, 66336, 66336, 66336, 66336, 66336, 66336, 66336)"
      ]
     },
     "execution_count": 4,
     "metadata": {},
     "output_type": "execute_result"
    }
   ],
   "source": [
    "len(allText), len(sentText), len(relationMentions), len(relationLabels), len(entityMentions), len(entityLabels), len(em1Text), len(em2Text), len(adjacencyList)"
   ]
  },
  {
   "cell_type": "markdown",
   "metadata": {},
   "source": [
    "### Sample"
   ]
  },
  {
   "cell_type": "code",
   "execution_count": 5,
   "metadata": {},
   "outputs": [
    {
     "data": {
      "text/plain": [
       "'when she visited new york , she stayed with friends in different neighborhoods -- midtown and inwood ; brooklyn heights and fort greene , brooklyn ; and rego park , queens -- so she knew she would be happy living anywhere , as long as she had a decent subway commute to manhattan .'"
      ]
     },
     "execution_count": 5,
     "metadata": {},
     "output_type": "execute_result"
    }
   ],
   "source": [
    "sentText[666]"
   ]
  },
  {
   "cell_type": "code",
   "execution_count": 6,
   "metadata": {},
   "outputs": [
    {
     "data": {
      "text/plain": [
       "[{'em1Text': 'Brooklyn',\n",
       "  'em2Text': 'Brooklyn Heights',\n",
       "  'label': '/location/location/contains'},\n",
       " {'em1Text': 'Queens',\n",
       "  'em2Text': 'Rego Park',\n",
       "  'label': '/location/location/contains'},\n",
       " {'em1Text': 'Inwood',\n",
       "  'em2Text': 'Manhattan',\n",
       "  'label': '/location/neighborhood/neighborhood_of'},\n",
       " {'em1Text': 'Manhattan',\n",
       "  'em2Text': 'Inwood',\n",
       "  'label': '/location/location/contains'},\n",
       " {'em1Text': 'Brooklyn',\n",
       "  'em2Text': 'Fort Greene',\n",
       "  'label': '/location/location/contains'},\n",
       " {'em1Text': 'New York',\n",
       "  'em2Text': 'Manhattan',\n",
       "  'label': '/location/location/contains'},\n",
       " {'em1Text': 'Rego Park',\n",
       "  'em2Text': 'Queens',\n",
       "  'label': '/location/neighborhood/neighborhood_of'},\n",
       " {'em1Text': 'Brooklyn Heights',\n",
       "  'em2Text': 'Brooklyn',\n",
       "  'label': '/location/neighborhood/neighborhood_of'},\n",
       " {'em1Text': 'New York',\n",
       "  'em2Text': 'Queens',\n",
       "  'label': '/location/location/contains'},\n",
       " {'em1Text': 'Fort Greene',\n",
       "  'em2Text': 'Brooklyn',\n",
       "  'label': '/location/neighborhood/neighborhood_of'}]"
      ]
     },
     "execution_count": 6,
     "metadata": {},
     "output_type": "execute_result"
    }
   ],
   "source": [
    "relationMentions[666]"
   ]
  },
  {
   "cell_type": "code",
   "execution_count": 7,
   "metadata": {},
   "outputs": [
    {
     "data": {
      "text/plain": [
       "['contains',\n",
       " 'contains',\n",
       " 'neighborhood_of',\n",
       " 'contains',\n",
       " 'contains',\n",
       " 'contains',\n",
       " 'neighborhood_of',\n",
       " 'neighborhood_of',\n",
       " 'contains',\n",
       " 'neighborhood_of']"
      ]
     },
     "execution_count": 7,
     "metadata": {},
     "output_type": "execute_result"
    }
   ],
   "source": [
    "relationLabels[666]"
   ]
  },
  {
   "cell_type": "code",
   "execution_count": 8,
   "metadata": {
    "scrolled": false
   },
   "outputs": [
    {
     "data": {
      "text/plain": [
       "[{'label': 'LOCATION', 'start': 0, 'text': 'New York'},\n",
       " {'label': 'LOCATION', 'start': 1, 'text': 'Midtown'},\n",
       " {'label': 'LOCATION', 'start': 2, 'text': 'Inwood'},\n",
       " {'label': 'LOCATION', 'start': 3, 'text': 'Brooklyn Heights'},\n",
       " {'label': 'LOCATION', 'start': 4, 'text': 'Fort Greene'},\n",
       " {'label': 'LOCATION', 'start': 5, 'text': 'Brooklyn'},\n",
       " {'label': 'LOCATION', 'start': 6, 'text': 'Rego Park'},\n",
       " {'label': 'LOCATION', 'start': 7, 'text': 'Queens'},\n",
       " {'label': 'LOCATION', 'start': 8, 'text': 'Manhattan'}]"
      ]
     },
     "execution_count": 8,
     "metadata": {},
     "output_type": "execute_result"
    }
   ],
   "source": [
    "entityMentions[666]"
   ]
  },
  {
   "cell_type": "code",
   "execution_count": 9,
   "metadata": {},
   "outputs": [
    {
     "data": {
      "text/plain": [
       "['new york',\n",
       " 'midtown',\n",
       " 'inwood',\n",
       " 'brooklyn heights',\n",
       " 'fort greene',\n",
       " 'brooklyn',\n",
       " 'rego park',\n",
       " 'queens',\n",
       " 'manhattan']"
      ]
     },
     "execution_count": 9,
     "metadata": {},
     "output_type": "execute_result"
    }
   ],
   "source": [
    "entityLabels[666]"
   ]
  },
  {
   "cell_type": "code",
   "execution_count": 10,
   "metadata": {},
   "outputs": [
    {
     "data": {
      "text/plain": [
       "['brooklyn',\n",
       " 'queens',\n",
       " 'inwood',\n",
       " 'manhattan',\n",
       " 'brooklyn',\n",
       " 'new york',\n",
       " 'rego park',\n",
       " 'brooklyn heights',\n",
       " 'new york',\n",
       " 'fort greene']"
      ]
     },
     "execution_count": 10,
     "metadata": {},
     "output_type": "execute_result"
    }
   ],
   "source": [
    "em1Text[666]"
   ]
  },
  {
   "cell_type": "code",
   "execution_count": 11,
   "metadata": {},
   "outputs": [
    {
     "data": {
      "text/plain": [
       "['brooklyn heights',\n",
       " 'rego park',\n",
       " 'manhattan',\n",
       " 'inwood',\n",
       " 'fort greene',\n",
       " 'manhattan',\n",
       " 'queens',\n",
       " 'brooklyn',\n",
       " 'queens',\n",
       " 'brooklyn']"
      ]
     },
     "execution_count": 11,
     "metadata": {},
     "output_type": "execute_result"
    }
   ],
   "source": [
    "em2Text[666]"
   ]
  },
  {
   "cell_type": "code",
   "execution_count": 12,
   "metadata": {},
   "outputs": [
    {
     "data": {
      "text/plain": [
       "'new york POI manhattan RE contains POI queens RE contains EOP midtown EOP inwood POI manhattan RE neighborhood_of EOP brooklyn heights POI brooklyn RE neighborhood_of EOP fort greene POI brooklyn RE neighborhood_of EOP brooklyn POI brooklyn heights RE contains POI fort greene RE contains EOP rego park POI queens RE neighborhood_of EOP queens POI rego park RE contains EOP manhattan POI inwood RE contains EOP EOS'"
      ]
     },
     "execution_count": 12,
     "metadata": {},
     "output_type": "execute_result"
    }
   ],
   "source": [
    "adjacencyList[666]"
   ]
  },
  {
   "cell_type": "markdown",
   "metadata": {},
   "source": [
    "### Relation Types"
   ]
  },
  {
   "cell_type": "code",
   "execution_count": 13,
   "metadata": {},
   "outputs": [
    {
     "data": {
      "text/plain": [
       "{'administrative_divisions',\n",
       " 'advisors',\n",
       " 'capital',\n",
       " 'children',\n",
       " 'company',\n",
       " 'contains',\n",
       " 'country',\n",
       " 'ethnicity',\n",
       " 'founders',\n",
       " 'geographic_distribution',\n",
       " 'industry',\n",
       " 'location',\n",
       " 'major_shareholder_of',\n",
       " 'major_shareholders',\n",
       " 'nationality',\n",
       " 'neighborhood_of',\n",
       " 'people',\n",
       " 'place_founded',\n",
       " 'place_lived',\n",
       " 'place_of_birth',\n",
       " 'place_of_death',\n",
       " 'profession',\n",
       " 'religion',\n",
       " 'teams'}"
      ]
     },
     "execution_count": 13,
     "metadata": {},
     "output_type": "execute_result"
    }
   ],
   "source": [
    "relationTypes = [r for rl in relationLabels for r in rl]\n",
    "set(relationTypes)"
   ]
  },
  {
   "cell_type": "markdown",
   "metadata": {},
   "source": [
    "## Load Test Data"
   ]
  },
  {
   "cell_type": "markdown",
   "metadata": {},
   "source": [
    "### From test.json"
   ]
  },
  {
   "cell_type": "code",
   "execution_count": 14,
   "metadata": {
    "collapsed": true
   },
   "outputs": [],
   "source": [
    "t_sentText = []\n",
    "t_relationMentions = []\n",
    "t_relationLabels = []\n",
    "t_entityMentions = []\n",
    "t_entityLabels = []\n",
    "t_em1Text = []\n",
    "t_em2Text = []\n",
    "t_adjacencyList = []\n",
    "\n",
    "with open(\"/Users/lizhn7/Downloads/DATA/NYT /test.json\") as f:\n",
    "    lines = f.readlines()\n",
    "\n",
    "for line in lines:\n",
    "    item = json.loads(line)\n",
    "    t_sentText.append(item['sentText'].lower())\n",
    "    t_relationMentions.append(item['relationMentions'])\n",
    "    t_entityMentions.append(item['entityMentions'])\n",
    "    \n",
    "t_relationLabels = [[i['label'].split('/')[-1] for i in rM] for rM in t_relationMentions]\n",
    "t_entityLabels = [[i['text'].lower() for i in eM] for eM in t_entityMentions]\n",
    "t_em1Text = [[i['em1Text'].lower() for i in rM] for rM in t_relationMentions]\n",
    "t_em2Text = [[i['em2Text'].lower() for i in rM] for rM in t_relationMentions]\n",
    "\n",
    "for i in range(len(t_sentText)):\n",
    "    # POI means pointer\n",
    "    # RE means relation label\n",
    "    # EOP means end of pointer   \n",
    "    # EOS means end of sequence\n",
    "    aL = ''\n",
    "    for j in t_entityLabels[i]:\n",
    "        aL += j\n",
    "        for item in enumerate(t_em1Text[i]):\n",
    "            # Exclude \"None\" label\n",
    "            if j == item[1] and t_relationLabels[i][item[0]] != 'None':\n",
    "                aL = aL + ' POI ' + t_em2Text[i][item[0]] + ' RE ' + t_relationLabels[i][item[0]]\n",
    "        aL += ' EOP '\n",
    "    aL += 'EOS'\n",
    "    t_adjacencyList.append(aL)"
   ]
  },
  {
   "cell_type": "code",
   "execution_count": 15,
   "metadata": {},
   "outputs": [
    {
     "data": {
      "text/plain": [
       "(395, 395, 395, 395, 395, 395, 395, 395)"
      ]
     },
     "execution_count": 15,
     "metadata": {},
     "output_type": "execute_result"
    }
   ],
   "source": [
    "len(t_sentText), len(t_relationMentions), len(t_relationLabels), len(t_entityMentions), len(t_entityLabels), len(t_em1Text), len(t_em2Text), len(t_adjacencyList)"
   ]
  },
  {
   "cell_type": "markdown",
   "metadata": {},
   "source": [
    "### Sample"
   ]
  },
  {
   "cell_type": "code",
   "execution_count": 16,
   "metadata": {},
   "outputs": [
    {
     "data": {
      "text/plain": [
       "'\"tinku is a sublime , beautiful act , \\'\\' said wilson araoz , the mayor of sacaca and a leading official in the popular indigenous movement , a party that is part of the coalition supporting evo morales , bolivia \\'s first indigenous president .\"\\r\\n'"
      ]
     },
     "execution_count": 16,
     "metadata": {},
     "output_type": "execute_result"
    }
   ],
   "source": [
    "t_sentText[233]"
   ]
  },
  {
   "cell_type": "code",
   "execution_count": 17,
   "metadata": {},
   "outputs": [
    {
     "data": {
      "text/plain": [
       "[{'em1Text': 'Evo Morales',\n",
       "  'em2Text': 'Bolivia',\n",
       "  'label': '/people/person/nationality'},\n",
       " {'em1Text': 'Bolivia', 'em2Text': 'Evo Morales', 'label': 'None'}]"
      ]
     },
     "execution_count": 17,
     "metadata": {},
     "output_type": "execute_result"
    }
   ],
   "source": [
    "t_relationMentions[233]"
   ]
  },
  {
   "cell_type": "code",
   "execution_count": 18,
   "metadata": {},
   "outputs": [
    {
     "data": {
      "text/plain": [
       "['nationality', 'None']"
      ]
     },
     "execution_count": 18,
     "metadata": {},
     "output_type": "execute_result"
    }
   ],
   "source": [
    "t_relationLabels[233]"
   ]
  },
  {
   "cell_type": "code",
   "execution_count": 19,
   "metadata": {},
   "outputs": [
    {
     "data": {
      "text/plain": [
       "[{'label': 'PERSON', 'start': 3, 'text': 'Evo Morales'},\n",
       " {'label': 'LOCATION', 'start': 4, 'text': 'Bolivia'}]"
      ]
     },
     "execution_count": 19,
     "metadata": {},
     "output_type": "execute_result"
    }
   ],
   "source": [
    "t_entityMentions[233]"
   ]
  },
  {
   "cell_type": "code",
   "execution_count": 20,
   "metadata": {},
   "outputs": [
    {
     "data": {
      "text/plain": [
       "['evo morales', 'bolivia']"
      ]
     },
     "execution_count": 20,
     "metadata": {},
     "output_type": "execute_result"
    }
   ],
   "source": [
    "t_entityLabels[233]"
   ]
  },
  {
   "cell_type": "code",
   "execution_count": 21,
   "metadata": {},
   "outputs": [
    {
     "data": {
      "text/plain": [
       "['evo morales', 'bolivia']"
      ]
     },
     "execution_count": 21,
     "metadata": {},
     "output_type": "execute_result"
    }
   ],
   "source": [
    "t_em1Text[233]"
   ]
  },
  {
   "cell_type": "code",
   "execution_count": 22,
   "metadata": {},
   "outputs": [
    {
     "data": {
      "text/plain": [
       "['bolivia', 'evo morales']"
      ]
     },
     "execution_count": 22,
     "metadata": {},
     "output_type": "execute_result"
    }
   ],
   "source": [
    "t_em2Text[233]"
   ]
  },
  {
   "cell_type": "code",
   "execution_count": 23,
   "metadata": {},
   "outputs": [
    {
     "data": {
      "text/plain": [
       "'evo morales POI bolivia RE nationality EOP bolivia EOP EOS'"
      ]
     },
     "execution_count": 23,
     "metadata": {},
     "output_type": "execute_result"
    }
   ],
   "source": [
    "t_adjacencyList[233]"
   ]
  },
  {
   "cell_type": "markdown",
   "metadata": {},
   "source": [
    "### Ralation Types"
   ]
  },
  {
   "cell_type": "code",
   "execution_count": 24,
   "metadata": {},
   "outputs": [
    {
     "data": {
      "text/plain": [
       "{'None',\n",
       " 'administrative_divisions',\n",
       " 'capital',\n",
       " 'children',\n",
       " 'company',\n",
       " 'contains',\n",
       " 'country',\n",
       " 'founders',\n",
       " 'nationality',\n",
       " 'neighborhood_of',\n",
       " 'place_lived',\n",
       " 'place_of_birth',\n",
       " 'place_of_death'}"
      ]
     },
     "execution_count": 24,
     "metadata": {},
     "output_type": "execute_result"
    }
   ],
   "source": [
    "t_relationTypes = [r for rl in t_relationLabels for r in rl]\n",
    "set(t_relationTypes)"
   ]
  },
  {
   "cell_type": "markdown",
   "metadata": {},
   "source": [
    "## Participle"
   ]
  },
  {
   "cell_type": "code",
   "execution_count": 25,
   "metadata": {
    "collapsed": true
   },
   "outputs": [],
   "source": [
    "from nltk import regexp_tokenize\n",
    "import matplotlib.pyplot as plt\n",
    "%matplotlib inline\n",
    "%config InlineBackend.figure_format = 'retina'"
   ]
  },
  {
   "cell_type": "code",
   "execution_count": 26,
   "metadata": {
    "collapsed": true
   },
   "outputs": [],
   "source": [
    "def cut(s):\n",
    "    \"\"\"\n",
    "    Participle\n",
    "    \"\"\"\n",
    "    pattern = r'''\n",
    "              (?x)                   # set flag to allow verbose regexps \n",
    "              (?:[a-z]\\.)+           # abbreviations, e.g. U.S.A. \n",
    "              |\\d+(?:\\.\\d+)?%?       # numbers, incl. currency and percentages \n",
    "              |\\w+(?:[-']\\w+)*       # words w/ optional internal hyphens/apostrophe  \n",
    "           '''  \n",
    "    return regexp_tokenize(s, pattern=pattern)"
   ]
  },
  {
   "cell_type": "code",
   "execution_count": 27,
   "metadata": {
    "collapsed": true
   },
   "outputs": [],
   "source": [
    "allWords = [cut(s) for s in allText]\n",
    "sentWords = [cut(s) for s in sentText]\n",
    "adjlWords = [cut(s) for s in adjacencyList]\n",
    "t_sentWords = [cut(s) for s in t_sentText]\n",
    "t_adjlWords = [cut(s) for s in t_adjacencyList]\n",
    "allWords.extend(adjlWords+t_sentWords+t_adjlWords)"
   ]
  },
  {
   "cell_type": "code",
   "execution_count": 28,
   "metadata": {
    "scrolled": true
   },
   "outputs": [
    {
     "data": {
      "text/plain": [
       "<matplotlib.text.Text at 0x1500adc88>"
      ]
     },
     "execution_count": 28,
     "metadata": {},
     "output_type": "execute_result"
    },
    {
     "data": {
      "image/png": "[encoded data removed]",
      "text/plain": [
       "<matplotlib.figure.Figure at 0x130c08198>"
      ]
     },
     "metadata": {
      "image/png": {
       "height": 277,
       "width": 400
      }
     },
     "output_type": "display_data"
    }
   ],
   "source": [
    "plt.hist([len(i) for i in sentWords], bins=32, normed=True);\n",
    "plt.xlabel('Text Length')\n",
    "plt.ylabel('Probability')\n",
    "plt.title('Histogram of Text Length') "
   ]
  },
  {
   "cell_type": "code",
   "execution_count": 29,
   "metadata": {
    "scrolled": true
   },
   "outputs": [
    {
     "data": {
      "text/plain": [
       "<matplotlib.text.Text at 0x150000ba8>"
      ]
     },
     "execution_count": 29,
     "metadata": {},
     "output_type": "execute_result"
    },
    {
     "data": {
      "image/png": "[encoded data removed]",
      "text/plain": [
       "<matplotlib.figure.Figure at 0x14ffa7a58>"
      ]
     },
     "metadata": {
      "image/png": {
       "height": 277,
       "width": 393
      }
     },
     "output_type": "display_data"
    }
   ],
   "source": [
    "plt.hist([len(i) for i in adjlWords], bins=64, normed=True);\n",
    "plt.xlabel('Aadjacency List Length')\n",
    "plt.ylabel('Probability')\n",
    "plt.title('Histogram of Aadjacency List Length') "
   ]
  },
  {
   "cell_type": "code",
   "execution_count": 30,
   "metadata": {
    "collapsed": true
   },
   "outputs": [],
   "source": [
    "MAX_SENT_LEN = 80\n",
    "MAX_ADJL_LEN = 80"
   ]
  },
  {
   "cell_type": "markdown",
   "metadata": {},
   "source": [
    "# Word to Vector"
   ]
  },
  {
   "cell_type": "markdown",
   "metadata": {},
   "source": [
    "## Set Hyperparameters"
   ]
  },
  {
   "cell_type": "code",
   "execution_count": 31,
   "metadata": {
    "collapsed": true
   },
   "outputs": [],
   "source": [
    "EMBEDDING_SIZE = 300\n",
    "SEED = 42"
   ]
  },
  {
   "cell_type": "markdown",
   "metadata": {},
   "source": [
    "## Shuffle the data"
   ]
  },
  {
   "cell_type": "code",
   "execution_count": 32,
   "metadata": {
    "collapsed": true
   },
   "outputs": [],
   "source": [
    "from sklearn.model_selection import train_test_split\n",
    "words, _, _, _ = train_test_split(allWords, allWords, test_size=0., random_state=SEED)"
   ]
  },
  {
   "cell_type": "markdown",
   "metadata": {},
   "source": [
    "## Train"
   ]
  },
  {
   "cell_type": "code",
   "execution_count": 33,
   "metadata": {},
   "outputs": [
    {
     "name": "stderr",
     "output_type": "stream",
     "text": [
      "Using TensorFlow backend.\n"
     ]
    }
   ],
   "source": [
    "import gensim\n",
    "import logging\n",
    "import numpy as np"
   ]
  },
  {
   "cell_type": "code",
   "execution_count": null,
   "metadata": {
    "scrolled": true
   },
   "outputs": [
    {
     "name": "stderr",
     "output_type": "stream",
     "text": [
      "2017-07-26 18:27:04,046 : INFO : collecting all words and their counts\n",
      "2017-07-26 18:27:04,049 : INFO : PROGRESS: at sentence #0, processed 0 words, keeping 0 word types\n",
      "2017-07-26 18:27:04,136 : INFO : PROGRESS: at sentence #10000, processed 293830 words, keeping 28895 word types\n",
      "2017-07-26 18:27:04,222 : INFO : PROGRESS: at sentence #20000, processed 587633 words, keeping 41458 word types\n",
      "2017-07-26 18:27:04,312 : INFO : PROGRESS: at sentence #30000, processed 882485 words, keeping 50558 word types\n",
      "2017-07-26 18:27:04,393 : INFO : PROGRESS: at sentence #40000, processed 1178463 words, keeping 58133 word types\n",
      "2017-07-26 18:27:04,479 : INFO : PROGRESS: at sentence #50000, processed 1473813 words, keeping 64789 word types\n",
      "2017-07-26 18:27:04,569 : INFO : PROGRESS: at sentence #60000, processed 1767461 words, keeping 70508 word types\n",
      "2017-07-26 18:27:04,668 : INFO : PROGRESS: at sentence #70000, processed 2061451 words, keeping 75889 word types\n",
      "2017-07-26 18:27:04,765 : INFO : PROGRESS: at sentence #80000, processed 2359325 words, keeping 80862 word types\n",
      "2017-07-26 18:27:04,866 : INFO : PROGRESS: at sentence #90000, processed 2662528 words, keeping 85664 word types\n",
      "2017-07-26 18:27:04,963 : INFO : PROGRESS: at sentence #100000, processed 2957714 words, keeping 89739 word types\n",
      "2017-07-26 18:27:05,056 : INFO : PROGRESS: at sentence #110000, processed 3252497 words, keeping 93604 word types\n",
      "2017-07-26 18:27:05,150 : INFO : PROGRESS: at sentence #120000, processed 3546728 words, keeping 97253 word types\n",
      "2017-07-26 18:27:05,251 : INFO : PROGRESS: at sentence #130000, processed 3842926 words, keeping 100649 word types\n",
      "2017-07-26 18:27:05,343 : INFO : PROGRESS: at sentence #140000, processed 4135272 words, keeping 103837 word types\n",
      "2017-07-26 18:27:05,459 : INFO : PROGRESS: at sentence #150000, processed 4428192 words, keeping 106872 word types\n",
      "2017-07-26 18:27:05,575 : INFO : PROGRESS: at sentence #160000, processed 4721897 words, keeping 109786 word types\n",
      "2017-07-26 18:27:05,683 : INFO : PROGRESS: at sentence #170000, processed 5017911 words, keeping 112627 word types\n",
      "2017-07-26 18:27:05,778 : INFO : PROGRESS: at sentence #180000, processed 5309412 words, keeping 115293 word types\n",
      "2017-07-26 18:27:05,901 : INFO : PROGRESS: at sentence #190000, processed 5601566 words, keeping 117788 word types\n",
      "2017-07-26 18:27:06,023 : INFO : PROGRESS: at sentence #200000, processed 5895623 words, keeping 120345 word types\n",
      "2017-07-26 18:27:06,134 : INFO : PROGRESS: at sentence #210000, processed 6189506 words, keeping 122639 word types\n",
      "2017-07-26 18:27:06,238 : INFO : PROGRESS: at sentence #220000, processed 6485711 words, keeping 124904 word types\n",
      "2017-07-26 18:27:06,323 : INFO : PROGRESS: at sentence #230000, processed 6781951 words, keeping 127169 word types\n",
      "2017-07-26 18:27:06,418 : INFO : PROGRESS: at sentence #240000, processed 7077928 words, keeping 129289 word types\n",
      "2017-07-26 18:27:06,534 : INFO : PROGRESS: at sentence #250000, processed 7373167 words, keeping 131396 word types\n",
      "2017-07-26 18:27:06,663 : INFO : PROGRESS: at sentence #260000, processed 7668065 words, keeping 133402 word types\n",
      "2017-07-26 18:27:06,762 : INFO : PROGRESS: at sentence #270000, processed 7965439 words, keeping 135539 word types\n",
      "2017-07-26 18:27:06,845 : INFO : PROGRESS: at sentence #280000, processed 8262446 words, keeping 137558 word types\n",
      "2017-07-26 18:27:06,944 : INFO : PROGRESS: at sentence #290000, processed 8560542 words, keeping 139484 word types\n",
      "2017-07-26 18:27:07,073 : INFO : PROGRESS: at sentence #300000, processed 8854280 words, keeping 141340 word types\n",
      "2017-07-26 18:27:07,115 : INFO : collected 141949 word types from a corpus of 8947352 raw words and 303108 sentences\n",
      "2017-07-26 18:27:07,116 : INFO : Loading a fresh vocabulary\n",
      "2017-07-26 18:27:08,134 : INFO : min_count=1 retains 141949 unique words (100% of original 141949, drops 0)\n",
      "2017-07-26 18:27:08,135 : INFO : min_count=1 leaves 8947352 word corpus (100% of original 8947352, drops 0)\n",
      "2017-07-26 18:27:08,638 : INFO : deleting the raw counts dictionary of 141949 items\n",
      "2017-07-26 18:27:08,644 : INFO : sample=0.001 downsamples 34 most-common words\n",
      "2017-07-26 18:27:08,645 : INFO : downsampling leaves estimated 6994075 word corpus (78.2% of prior 8947352)\n",
      "2017-07-26 18:27:08,647 : INFO : estimated required memory for 141949 words and 300 dimensions: 411652100 bytes\n",
      "2017-07-26 18:27:09,341 : INFO : resetting layer weights\n",
      "2017-07-26 18:27:11,658 : INFO : training model with 20 workers on 141949 vocabulary and 300 features, using sg=1 hs=0 sample=0.001 negative=8 window=8\n",
      "2017-07-26 18:27:13,074 : INFO : PROGRESS: at 0.01% examples, 5547 words/s, in_qsize 40, out_qsize 0\n",
      "2017-07-26 18:27:14,491 : INFO : PROGRESS: at 0.12% examples, 58119 words/s, in_qsize 39, out_qsize 0\n",
      "2017-07-26 18:27:15,963 : INFO : PROGRESS: at 0.23% examples, 74547 words/s, in_qsize 39, out_qsize 0\n",
      "2017-07-26 18:27:17,741 : INFO : PROGRESS: at 0.34% examples, 78422 words/s, in_qsize 40, out_qsize 0\n",
      "2017-07-26 18:27:19,338 : INFO : PROGRESS: at 0.45% examples, 82440 words/s, in_qsize 40, out_qsize 0\n",
      "2017-07-26 18:27:20,864 : INFO : PROGRESS: at 0.57% examples, 85709 words/s, in_qsize 40, out_qsize 0\n",
      "2017-07-26 18:27:22,574 : INFO : PROGRESS: at 0.68% examples, 86565 words/s, in_qsize 39, out_qsize 0\n",
      "2017-07-26 18:27:24,001 : INFO : PROGRESS: at 0.79% examples, 89216 words/s, in_qsize 39, out_qsize 0\n",
      "2017-07-26 18:27:25,081 : INFO : PROGRESS: at 0.89% examples, 92492 words/s, in_qsize 40, out_qsize 0\n",
      "2017-07-26 18:27:26,104 : INFO : PROGRESS: at 0.94% examples, 90792 words/s, in_qsize 39, out_qsize 0\n",
      "2017-07-26 18:27:27,498 : INFO : PROGRESS: at 1.01% examples, 89205 words/s, in_qsize 39, out_qsize 0\n",
      "2017-07-26 18:27:28,998 : INFO : PROGRESS: at 1.12% examples, 90503 words/s, in_qsize 39, out_qsize 0\n",
      "2017-07-26 18:27:30,077 : INFO : PROGRESS: at 1.23% examples, 93264 words/s, in_qsize 39, out_qsize 0\n",
      "2017-07-26 18:27:31,093 : INFO : PROGRESS: at 1.28% examples, 91995 words/s, in_qsize 39, out_qsize 0\n",
      "2017-07-26 18:27:32,300 : INFO : PROGRESS: at 1.34% examples, 91158 words/s, in_qsize 39, out_qsize 0\n",
      "2017-07-26 18:27:33,417 : INFO : PROGRESS: at 1.44% examples, 92488 words/s, in_qsize 39, out_qsize 0\n",
      "2017-07-26 18:27:34,433 : INFO : PROGRESS: at 1.47% examples, 90830 words/s, in_qsize 39, out_qsize 0\n",
      "2017-07-26 18:27:35,830 : INFO : PROGRESS: at 1.56% examples, 90746 words/s, in_qsize 39, out_qsize 0\n",
      "2017-07-26 18:27:36,891 : INFO : PROGRESS: at 1.67% examples, 92795 words/s, in_qsize 39, out_qsize 0\n",
      "2017-07-26 18:27:37,960 : INFO : PROGRESS: at 1.74% examples, 92892 words/s, in_qsize 39, out_qsize 0\n",
      "2017-07-26 18:27:39,182 : INFO : PROGRESS: at 1.79% examples, 91029 words/s, in_qsize 40, out_qsize 0\n",
      "2017-07-26 18:27:40,372 : INFO : PROGRESS: at 1.88% examples, 91874 words/s, in_qsize 39, out_qsize 0\n",
      "2017-07-26 18:27:41,392 : INFO : PROGRESS: at 1.98% examples, 93169 words/s, in_qsize 39, out_qsize 0\n",
      "2017-07-26 18:27:42,568 : INFO : PROGRESS: at 2.03% examples, 91885 words/s, in_qsize 39, out_qsize 0\n",
      "2017-07-26 18:27:43,598 : INFO : PROGRESS: at 2.10% examples, 92343 words/s, in_qsize 39, out_qsize 0\n",
      "2017-07-26 18:27:44,611 : INFO : PROGRESS: at 2.16% examples, 91870 words/s, in_qsize 39, out_qsize 0\n",
      "2017-07-26 18:27:45,765 : INFO : PROGRESS: at 2.23% examples, 91732 words/s, in_qsize 38, out_qsize 1\n",
      "2017-07-26 18:27:47,030 : INFO : PROGRESS: at 2.32% examples, 91987 words/s, in_qsize 39, out_qsize 0\n",
      "2017-07-26 18:27:48,033 : INFO : PROGRESS: at 2.40% examples, 92448 words/s, in_qsize 40, out_qsize 0\n",
      "2017-07-26 18:27:49,279 : INFO : PROGRESS: at 2.45% examples, 91247 words/s, in_qsize 40, out_qsize 1\n",
      "2017-07-26 18:27:50,359 : INFO : PROGRESS: at 2.54% examples, 91925 words/s, in_qsize 39, out_qsize 0\n",
      "2017-07-26 18:27:51,440 : INFO : PROGRESS: at 2.58% examples, 90797 words/s, in_qsize 39, out_qsize 0\n",
      "2017-07-26 18:27:52,851 : INFO : PROGRESS: at 2.67% examples, 90527 words/s, in_qsize 39, out_qsize 0\n",
      "2017-07-26 18:27:53,853 : INFO : PROGRESS: at 2.72% examples, 90226 words/s, in_qsize 40, out_qsize 0\n",
      "2017-07-26 18:27:55,101 : INFO : PROGRESS: at 2.78% examples, 89427 words/s, in_qsize 40, out_qsize 0\n",
      "2017-07-26 18:27:56,132 : INFO : PROGRESS: at 2.84% examples, 89284 words/s, in_qsize 40, out_qsize 0\n"
     ]
    },
    {
     "name": "stderr",
     "output_type": "stream",
     "text": [
      "2017-07-26 18:27:57,196 : INFO : PROGRESS: at 2.91% examples, 89258 words/s, in_qsize 39, out_qsize 0\n",
      "2017-07-26 18:27:58,244 : INFO : PROGRESS: at 2.97% examples, 89091 words/s, in_qsize 40, out_qsize 1\n",
      "2017-07-26 18:27:59,370 : INFO : PROGRESS: at 3.03% examples, 88787 words/s, in_qsize 39, out_qsize 1\n",
      "2017-07-26 18:28:00,426 : INFO : PROGRESS: at 3.12% examples, 89424 words/s, in_qsize 39, out_qsize 0\n",
      "2017-07-26 18:28:01,480 : INFO : PROGRESS: at 3.17% examples, 88946 words/s, in_qsize 40, out_qsize 0\n",
      "2017-07-26 18:28:02,717 : INFO : PROGRESS: at 3.26% examples, 89234 words/s, in_qsize 39, out_qsize 0\n",
      "2017-07-26 18:28:03,751 : INFO : PROGRESS: at 3.34% examples, 89555 words/s, in_qsize 39, out_qsize 0\n",
      "2017-07-26 18:28:04,821 : INFO : PROGRESS: at 3.39% examples, 89074 words/s, in_qsize 39, out_qsize 0\n",
      "2017-07-26 18:28:05,982 : INFO : PROGRESS: at 3.48% examples, 89466 words/s, in_qsize 39, out_qsize 0\n",
      "2017-07-26 18:28:06,993 : INFO : PROGRESS: at 3.56% examples, 89948 words/s, in_qsize 39, out_qsize 0\n",
      "2017-07-26 18:28:08,040 : INFO : PROGRESS: at 3.63% examples, 90075 words/s, in_qsize 40, out_qsize 0\n",
      "2017-07-26 18:28:09,043 : INFO : PROGRESS: at 3.71% examples, 90411 words/s, in_qsize 40, out_qsize 0\n",
      "2017-07-26 18:28:10,062 : INFO : PROGRESS: at 3.78% examples, 90570 words/s, in_qsize 39, out_qsize 0\n",
      "2017-07-26 18:28:11,078 : INFO : PROGRESS: at 3.87% examples, 91127 words/s, in_qsize 40, out_qsize 0\n",
      "2017-07-26 18:28:12,100 : INFO : PROGRESS: at 3.95% examples, 91397 words/s, in_qsize 40, out_qsize 0\n",
      "2017-07-26 18:28:13,161 : INFO : PROGRESS: at 4.02% examples, 91343 words/s, in_qsize 40, out_qsize 0\n",
      "2017-07-26 18:28:14,303 : INFO : PROGRESS: at 4.08% examples, 91049 words/s, in_qsize 39, out_qsize 0\n",
      "2017-07-26 18:28:15,325 : INFO : PROGRESS: at 4.15% examples, 91181 words/s, in_qsize 39, out_qsize 0\n",
      "2017-07-26 18:28:16,576 : INFO : PROGRESS: at 4.22% examples, 90988 words/s, in_qsize 39, out_qsize 1\n",
      "2017-07-26 18:28:17,708 : INFO : PROGRESS: at 4.29% examples, 90723 words/s, in_qsize 40, out_qsize 0\n",
      "2017-07-26 18:28:18,871 : INFO : PROGRESS: at 4.35% examples, 90547 words/s, in_qsize 39, out_qsize 0\n",
      "2017-07-26 18:28:19,872 : INFO : PROGRESS: at 4.40% examples, 90248 words/s, in_qsize 38, out_qsize 1\n",
      "2017-07-26 18:28:20,942 : INFO : PROGRESS: at 4.48% examples, 90431 words/s, in_qsize 40, out_qsize 0\n",
      "2017-07-26 18:28:22,041 : INFO : PROGRESS: at 4.53% examples, 90125 words/s, in_qsize 39, out_qsize 0\n",
      "2017-07-26 18:28:23,071 : INFO : PROGRESS: at 4.61% examples, 90242 words/s, in_qsize 39, out_qsize 0\n",
      "2017-07-26 18:28:24,136 : INFO : PROGRESS: at 4.67% examples, 90101 words/s, in_qsize 39, out_qsize 0\n",
      "2017-07-26 18:28:25,148 : INFO : PROGRESS: at 4.73% examples, 90029 words/s, in_qsize 39, out_qsize 0\n",
      "2017-07-26 18:28:26,182 : INFO : PROGRESS: at 4.78% examples, 89720 words/s, in_qsize 39, out_qsize 0\n",
      "2017-07-26 18:28:27,403 : INFO : PROGRESS: at 4.85% examples, 89509 words/s, in_qsize 39, out_qsize 0\n",
      "2017-07-26 18:28:28,594 : INFO : PROGRESS: at 4.92% examples, 89543 words/s, in_qsize 40, out_qsize 0\n",
      "2017-07-26 18:28:29,615 : INFO : PROGRESS: at 4.99% examples, 89471 words/s, in_qsize 40, out_qsize 0\n",
      "2017-07-26 18:28:30,642 : INFO : PROGRESS: at 5.04% examples, 89299 words/s, in_qsize 40, out_qsize 2\n",
      "2017-07-26 18:28:31,652 : INFO : PROGRESS: at 5.10% examples, 89243 words/s, in_qsize 39, out_qsize 0\n",
      "2017-07-26 18:28:32,758 : INFO : PROGRESS: at 5.18% examples, 89279 words/s, in_qsize 39, out_qsize 0\n",
      "2017-07-26 18:28:33,778 : INFO : PROGRESS: at 5.23% examples, 89120 words/s, in_qsize 38, out_qsize 1\n",
      "2017-07-26 18:28:34,977 : INFO : PROGRESS: at 5.29% examples, 88868 words/s, in_qsize 38, out_qsize 1\n",
      "2017-07-26 18:28:36,140 : INFO : PROGRESS: at 5.37% examples, 88936 words/s, in_qsize 39, out_qsize 0\n",
      "2017-07-26 18:28:37,142 : INFO : PROGRESS: at 5.43% examples, 88899 words/s, in_qsize 39, out_qsize 0\n",
      "2017-07-26 18:28:38,153 : INFO : PROGRESS: at 5.48% examples, 88674 words/s, in_qsize 40, out_qsize 0\n",
      "2017-07-26 18:28:39,193 : INFO : PROGRESS: at 5.56% examples, 88777 words/s, in_qsize 39, out_qsize 0\n",
      "2017-07-26 18:28:40,202 : INFO : PROGRESS: at 5.62% examples, 88732 words/s, in_qsize 40, out_qsize 0\n",
      "2017-07-26 18:28:41,365 : INFO : PROGRESS: at 5.70% examples, 88890 words/s, in_qsize 39, out_qsize 0\n",
      "2017-07-26 18:28:42,414 : INFO : PROGRESS: at 5.76% examples, 88724 words/s, in_qsize 40, out_qsize 0\n",
      "2017-07-26 18:28:43,611 : INFO : PROGRESS: at 5.82% examples, 88502 words/s, in_qsize 39, out_qsize 0\n",
      "2017-07-26 18:28:44,694 : INFO : PROGRESS: at 5.90% examples, 88647 words/s, in_qsize 39, out_qsize 0\n",
      "2017-07-26 18:28:45,976 : INFO : PROGRESS: at 5.96% examples, 88436 words/s, in_qsize 39, out_qsize 0\n",
      "2017-07-26 18:28:47,292 : INFO : PROGRESS: at 6.04% examples, 88363 words/s, in_qsize 40, out_qsize 0\n",
      "2017-07-26 18:28:48,295 : INFO : PROGRESS: at 6.11% examples, 88413 words/s, in_qsize 38, out_qsize 1\n",
      "2017-07-26 18:28:49,327 : INFO : PROGRESS: at 6.18% examples, 88439 words/s, in_qsize 39, out_qsize 0\n",
      "2017-07-26 18:28:50,386 : INFO : PROGRESS: at 6.25% examples, 88599 words/s, in_qsize 40, out_qsize 0\n",
      "2017-07-26 18:28:51,452 : INFO : PROGRESS: at 6.31% examples, 88512 words/s, in_qsize 39, out_qsize 0\n",
      "2017-07-26 18:28:52,574 : INFO : PROGRESS: at 6.38% examples, 88406 words/s, in_qsize 39, out_qsize 0\n",
      "2017-07-26 18:28:53,602 : INFO : PROGRESS: at 6.47% examples, 88827 words/s, in_qsize 39, out_qsize 0\n",
      "2017-07-26 18:28:54,699 : INFO : PROGRESS: at 6.52% examples, 88563 words/s, in_qsize 39, out_qsize 0\n",
      "2017-07-26 18:28:56,055 : INFO : PROGRESS: at 6.60% examples, 88459 words/s, in_qsize 39, out_qsize 0\n",
      "2017-07-26 18:28:57,109 : INFO : PROGRESS: at 6.69% examples, 88756 words/s, in_qsize 39, out_qsize 0\n",
      "2017-07-26 18:28:58,121 : INFO : PROGRESS: at 6.72% examples, 88353 words/s, in_qsize 39, out_qsize 0\n",
      "2017-07-26 18:28:59,122 : INFO : PROGRESS: at 6.81% examples, 88693 words/s, in_qsize 39, out_qsize 1\n",
      "2017-07-26 18:29:00,322 : INFO : PROGRESS: at 6.86% examples, 88358 words/s, in_qsize 40, out_qsize 0\n",
      "2017-07-26 18:29:01,501 : INFO : PROGRESS: at 6.94% examples, 88476 words/s, in_qsize 39, out_qsize 0\n",
      "2017-07-26 18:29:02,960 : INFO : PROGRESS: at 7.04% examples, 88575 words/s, in_qsize 39, out_qsize 0\n",
      "2017-07-26 18:29:04,127 : INFO : PROGRESS: at 7.14% examples, 88834 words/s, in_qsize 39, out_qsize 0\n",
      "2017-07-26 18:29:05,259 : INFO : PROGRESS: at 7.19% examples, 88635 words/s, in_qsize 40, out_qsize 0\n",
      "2017-07-26 18:29:06,326 : INFO : PROGRESS: at 7.27% examples, 88693 words/s, in_qsize 39, out_qsize 0\n",
      "2017-07-26 18:29:07,414 : INFO : PROGRESS: at 7.36% examples, 89007 words/s, in_qsize 39, out_qsize 0\n",
      "2017-07-26 18:29:08,627 : INFO : PROGRESS: at 7.42% examples, 88751 words/s, in_qsize 39, out_qsize 0\n",
      "2017-07-26 18:29:09,682 : INFO : PROGRESS: at 7.49% examples, 88816 words/s, in_qsize 38, out_qsize 1\n",
      "2017-07-26 18:36:52,436 : INFO : PROGRESS: at 39.31% examples, 94674 words/s, in_qsize 39, out_qsize 0\n",
      "2017-07-26 18:36:53,529 : INFO : PROGRESS: at 39.40% examples, 94711 words/s, in_qsize 39, out_qsize 0\n",
      "2017-07-26 18:36:54,616 : INFO : PROGRESS: at 39.48% examples, 94722 words/s, in_qsize 40, out_qsize 0\n",
      "2017-07-26 18:36:55,619 : INFO : PROGRESS: at 39.54% examples, 94707 words/s, in_qsize 39, out_qsize 0\n",
      "2017-07-26 18:36:56,619 : INFO : PROGRESS: at 39.61% examples, 94731 words/s, in_qsize 40, out_qsize 0\n",
      "2017-07-26 18:36:57,698 : INFO : PROGRESS: at 39.68% examples, 94717 words/s, in_qsize 39, out_qsize 0\n",
      "2017-07-26 18:36:58,780 : INFO : PROGRESS: at 39.76% examples, 94728 words/s, in_qsize 39, out_qsize 0\n",
      "2017-07-26 18:36:59,856 : INFO : PROGRESS: at 39.83% examples, 94727 words/s, in_qsize 40, out_qsize 1\n",
      "2017-07-26 18:37:00,875 : INFO : PROGRESS: at 39.90% examples, 94735 words/s, in_qsize 39, out_qsize 0\n",
      "2017-07-26 18:37:01,939 : INFO : PROGRESS: at 39.98% examples, 94749 words/s, in_qsize 39, out_qsize 0\n",
      "2017-07-26 18:37:02,966 : INFO : PROGRESS: at 40.06% examples, 94769 words/s, in_qsize 39, out_qsize 0\n",
      "2017-07-26 18:37:04,028 : INFO : PROGRESS: at 40.13% examples, 94757 words/s, in_qsize 39, out_qsize 0\n",
      "2017-07-26 18:37:05,109 : INFO : PROGRESS: at 40.20% examples, 94769 words/s, in_qsize 39, out_qsize 0\n",
      "2017-07-26 18:37:06,174 : INFO : PROGRESS: at 40.28% examples, 94783 words/s, in_qsize 38, out_qsize 1\n"
     ]
    },
    {
     "name": "stderr",
     "output_type": "stream",
     "text": [
      "2017-07-26 18:37:07,270 : INFO : PROGRESS: at 40.37% examples, 94805 words/s, in_qsize 39, out_qsize 0\n",
      "2017-07-26 18:37:08,303 : INFO : PROGRESS: at 40.44% examples, 94824 words/s, in_qsize 40, out_qsize 0\n",
      "2017-07-26 18:37:09,386 : INFO : PROGRESS: at 40.52% examples, 94835 words/s, in_qsize 40, out_qsize 0\n",
      "2017-07-26 18:37:10,404 : INFO : PROGRESS: at 40.60% examples, 94843 words/s, in_qsize 40, out_qsize 0\n",
      "2017-07-26 18:37:11,470 : INFO : PROGRESS: at 40.66% examples, 94830 words/s, in_qsize 39, out_qsize 0\n",
      "2017-07-26 18:37:12,631 : INFO : PROGRESS: at 40.75% examples, 94842 words/s, in_qsize 39, out_qsize 0\n",
      "2017-07-26 18:37:13,854 : INFO : PROGRESS: at 40.82% examples, 94831 words/s, in_qsize 39, out_qsize 0\n",
      "2017-07-26 18:37:14,941 : INFO : PROGRESS: at 40.90% examples, 94841 words/s, in_qsize 39, out_qsize 0\n",
      "2017-07-26 18:37:15,964 : INFO : PROGRESS: at 40.97% examples, 94848 words/s, in_qsize 39, out_qsize 0\n",
      "2017-07-26 18:37:17,110 : INFO : PROGRESS: at 41.05% examples, 94836 words/s, in_qsize 40, out_qsize 1\n",
      "2017-07-26 18:37:18,167 : INFO : PROGRESS: at 41.13% examples, 94864 words/s, in_qsize 39, out_qsize 0\n",
      "2017-07-26 18:37:19,191 : INFO : PROGRESS: at 41.21% examples, 94884 words/s, in_qsize 39, out_qsize 0\n",
      "2017-07-26 18:37:20,259 : INFO : PROGRESS: at 41.26% examples, 94846 words/s, in_qsize 39, out_qsize 0\n",
      "2017-07-26 18:37:21,287 : INFO : PROGRESS: at 41.35% examples, 94896 words/s, in_qsize 39, out_qsize 0\n",
      "2017-07-26 18:37:22,313 : INFO : PROGRESS: at 41.41% examples, 94851 words/s, in_qsize 39, out_qsize 0\n",
      "2017-07-26 18:37:23,361 : INFO : PROGRESS: at 41.48% examples, 94882 words/s, in_qsize 40, out_qsize 0\n",
      "2017-07-26 18:37:24,411 : INFO : PROGRESS: at 41.57% examples, 94924 words/s, in_qsize 40, out_qsize 0\n",
      "2017-07-26 18:37:25,461 : INFO : PROGRESS: at 41.62% examples, 94875 words/s, in_qsize 40, out_qsize 0\n",
      "2017-07-26 18:37:26,669 : INFO : PROGRESS: at 41.71% examples, 94879 words/s, in_qsize 39, out_qsize 0\n",
      "2017-07-26 18:37:27,683 : INFO : PROGRESS: at 41.77% examples, 94863 words/s, in_qsize 40, out_qsize 1\n",
      "2017-07-26 18:37:28,743 : INFO : PROGRESS: at 41.83% examples, 94826 words/s, in_qsize 39, out_qsize 0\n",
      "2017-07-26 18:37:30,046 : INFO : PROGRESS: at 41.90% examples, 94790 words/s, in_qsize 40, out_qsize 1\n",
      "2017-07-26 18:37:31,073 : INFO : PROGRESS: at 41.96% examples, 94771 words/s, in_qsize 39, out_qsize 0\n",
      "2017-07-26 18:37:32,177 : INFO : PROGRESS: at 42.03% examples, 94754 words/s, in_qsize 40, out_qsize 0\n",
      "2017-07-26 18:37:33,238 : INFO : PROGRESS: at 42.10% examples, 94754 words/s, in_qsize 39, out_qsize 0\n",
      "2017-07-26 18:37:34,354 : INFO : PROGRESS: at 42.15% examples, 94710 words/s, in_qsize 40, out_qsize 0\n",
      "2017-07-26 18:37:35,395 : INFO : PROGRESS: at 42.21% examples, 94664 words/s, in_qsize 39, out_qsize 0\n",
      "2017-07-26 18:37:36,628 : INFO : PROGRESS: at 42.26% examples, 94602 words/s, in_qsize 39, out_qsize 0\n",
      "2017-07-26 18:37:37,628 : INFO : PROGRESS: at 42.32% examples, 94588 words/s, in_qsize 40, out_qsize 0\n",
      "2017-07-26 18:37:38,693 : INFO : PROGRESS: at 42.37% examples, 94540 words/s, in_qsize 39, out_qsize 0\n",
      "2017-07-26 18:37:39,747 : INFO : PROGRESS: at 42.44% examples, 94517 words/s, in_qsize 38, out_qsize 1\n",
      "2017-07-26 18:37:40,923 : INFO : PROGRESS: at 42.49% examples, 94465 words/s, in_qsize 37, out_qsize 2\n",
      "2017-07-26 18:37:42,129 : INFO : PROGRESS: at 42.58% examples, 94469 words/s, in_qsize 39, out_qsize 0\n",
      "2017-07-26 18:37:43,151 : INFO : PROGRESS: at 42.65% examples, 94489 words/s, in_qsize 40, out_qsize 0\n",
      "2017-07-26 18:37:44,213 : INFO : PROGRESS: at 42.72% examples, 94466 words/s, in_qsize 39, out_qsize 0\n",
      "2017-07-26 18:37:45,287 : INFO : PROGRESS: at 42.80% examples, 94490 words/s, in_qsize 39, out_qsize 0\n",
      "2017-07-26 18:37:46,361 : INFO : PROGRESS: at 42.86% examples, 94454 words/s, in_qsize 40, out_qsize 0\n",
      "2017-07-26 18:37:47,414 : INFO : PROGRESS: at 42.94% examples, 94481 words/s, in_qsize 40, out_qsize 0\n",
      "2017-07-26 18:37:48,437 : INFO : PROGRESS: at 43.02% examples, 94513 words/s, in_qsize 39, out_qsize 0\n",
      "2017-07-26 18:37:49,477 : INFO : PROGRESS: at 43.10% examples, 94518 words/s, in_qsize 39, out_qsize 0\n",
      "2017-07-26 18:37:50,528 : INFO : PROGRESS: at 43.17% examples, 94510 words/s, in_qsize 40, out_qsize 0\n",
      "2017-07-26 18:37:51,658 : INFO : PROGRESS: at 43.24% examples, 94513 words/s, in_qsize 39, out_qsize 0\n",
      "2017-07-26 18:41:24,540 : INFO : PROGRESS: at 57.81% examples, 94820 words/s, in_qsize 39, out_qsize 0\n",
      "2017-07-26 18:41:25,644 : INFO : PROGRESS: at 57.86% examples, 94771 words/s, in_qsize 39, out_qsize 0\n",
      "2017-07-26 18:41:26,701 : INFO : PROGRESS: at 57.93% examples, 94782 words/s, in_qsize 39, out_qsize 0\n",
      "2017-07-26 18:41:27,713 : INFO : PROGRESS: at 57.98% examples, 94742 words/s, in_qsize 38, out_qsize 1\n",
      "2017-07-26 18:41:28,732 : INFO : PROGRESS: at 58.06% examples, 94766 words/s, in_qsize 40, out_qsize 0\n",
      "2017-07-26 18:41:29,772 : INFO : PROGRESS: at 58.13% examples, 94751 words/s, in_qsize 40, out_qsize 0\n",
      "2017-07-26 18:41:30,857 : INFO : PROGRESS: at 58.20% examples, 94759 words/s, in_qsize 40, out_qsize 0\n",
      "2017-07-26 18:41:32,167 : INFO : PROGRESS: at 58.27% examples, 94724 words/s, in_qsize 40, out_qsize 0\n",
      "2017-07-26 18:41:33,271 : INFO : PROGRESS: at 58.34% examples, 94710 words/s, in_qsize 39, out_qsize 0\n",
      "2017-07-26 18:41:34,367 : INFO : PROGRESS: at 58.41% examples, 94707 words/s, in_qsize 40, out_qsize 0\n",
      "2017-07-26 18:41:35,419 : INFO : PROGRESS: at 58.48% examples, 94700 words/s, in_qsize 39, out_qsize 0\n",
      "2017-07-26 18:41:36,660 : INFO : PROGRESS: at 58.53% examples, 94646 words/s, in_qsize 40, out_qsize 0\n",
      "2017-07-26 18:41:37,887 : INFO : PROGRESS: at 58.59% examples, 94611 words/s, in_qsize 39, out_qsize 0\n",
      "2017-07-26 18:41:38,943 : INFO : PROGRESS: at 58.65% examples, 94595 words/s, in_qsize 39, out_qsize 0\n",
      "2017-07-26 18:41:40,079 : INFO : PROGRESS: at 58.72% examples, 94579 words/s, in_qsize 39, out_qsize 0\n",
      "2017-07-26 18:41:41,324 : INFO : PROGRESS: at 58.76% examples, 94515 words/s, in_qsize 36, out_qsize 3\n",
      "2017-07-26 18:41:42,395 : INFO : PROGRESS: at 58.83% examples, 94515 words/s, in_qsize 39, out_qsize 0\n",
      "2017-07-26 18:41:43,396 : INFO : PROGRESS: at 58.87% examples, 94470 words/s, in_qsize 38, out_qsize 3\n",
      "2017-07-26 18:41:44,521 : INFO : PROGRESS: at 58.94% examples, 94456 words/s, in_qsize 39, out_qsize 1\n",
      "2017-07-26 18:41:45,623 : INFO : PROGRESS: at 59.00% examples, 94435 words/s, in_qsize 39, out_qsize 0\n",
      "2017-07-26 18:41:46,773 : INFO : PROGRESS: at 59.07% examples, 94427 words/s, in_qsize 39, out_qsize 0\n",
      "2017-07-26 18:41:47,883 : INFO : PROGRESS: at 59.14% examples, 94414 words/s, in_qsize 39, out_qsize 0\n",
      "2017-07-26 18:41:48,929 : INFO : PROGRESS: at 59.20% examples, 94399 words/s, in_qsize 40, out_qsize 0\n",
      "2017-07-26 18:41:49,955 : INFO : PROGRESS: at 59.28% examples, 94404 words/s, in_qsize 39, out_qsize 0\n",
      "2017-07-26 18:41:51,026 : INFO : PROGRESS: at 59.32% examples, 94360 words/s, in_qsize 39, out_qsize 0\n",
      "2017-07-26 18:41:52,153 : INFO : PROGRESS: at 59.40% examples, 94364 words/s, in_qsize 40, out_qsize 0\n",
      "2017-07-26 18:41:53,158 : INFO : PROGRESS: at 59.45% examples, 94345 words/s, in_qsize 39, out_qsize 0\n",
      "2017-07-26 18:41:54,169 : INFO : PROGRESS: at 59.52% examples, 94351 words/s, in_qsize 39, out_qsize 0\n",
      "2017-07-26 18:41:55,217 : INFO : PROGRESS: at 59.61% examples, 94372 words/s, in_qsize 39, out_qsize 0\n",
      "2017-07-26 18:41:56,284 : INFO : PROGRESS: at 59.65% examples, 94328 words/s, in_qsize 40, out_qsize 0\n",
      "2017-07-26 18:41:57,304 : INFO : PROGRESS: at 59.75% examples, 94370 words/s, in_qsize 39, out_qsize 0\n",
      "2017-07-26 18:41:58,525 : INFO : PROGRESS: at 59.78% examples, 94301 words/s, in_qsize 40, out_qsize 1\n",
      "2017-07-26 18:41:59,798 : INFO : PROGRESS: at 59.87% examples, 94297 words/s, in_qsize 40, out_qsize 1\n",
      "2017-07-26 18:42:00,870 : INFO : PROGRESS: at 59.97% examples, 94342 words/s, in_qsize 39, out_qsize 0\n",
      "2017-07-26 18:42:01,886 : INFO : PROGRESS: at 60.04% examples, 94339 words/s, in_qsize 40, out_qsize 0\n",
      "2017-07-26 18:42:03,037 : INFO : PROGRESS: at 60.09% examples, 94296 words/s, in_qsize 39, out_qsize 0\n",
      "2017-07-26 18:42:04,144 : INFO : PROGRESS: at 60.15% examples, 94284 words/s, in_qsize 39, out_qsize 0\n",
      "2017-07-26 18:42:05,260 : INFO : PROGRESS: at 60.21% examples, 94254 words/s, in_qsize 40, out_qsize 0\n"
     ]
    },
    {
     "name": "stderr",
     "output_type": "stream",
     "text": [
      "2017-07-26 18:42:06,627 : INFO : PROGRESS: at 60.31% examples, 94267 words/s, in_qsize 39, out_qsize 0\n",
      "2017-07-26 18:42:07,661 : INFO : PROGRESS: at 60.37% examples, 94254 words/s, in_qsize 39, out_qsize 0\n",
      "2017-07-26 18:42:08,781 : INFO : PROGRESS: at 60.43% examples, 94232 words/s, in_qsize 39, out_qsize 0\n",
      "2017-07-26 18:42:09,863 : INFO : PROGRESS: at 60.51% examples, 94232 words/s, in_qsize 39, out_qsize 0\n",
      "2017-07-26 18:42:11,032 : INFO : PROGRESS: at 60.55% examples, 94170 words/s, in_qsize 40, out_qsize 0\n",
      "2017-07-26 18:42:12,114 : INFO : PROGRESS: at 60.60% examples, 94134 words/s, in_qsize 40, out_qsize 0\n",
      "2017-07-26 18:42:13,558 : INFO : PROGRESS: at 60.66% examples, 94079 words/s, in_qsize 39, out_qsize 0\n",
      "2017-07-26 18:42:14,569 : INFO : PROGRESS: at 60.73% examples, 94086 words/s, in_qsize 40, out_qsize 0\n",
      "2017-07-26 18:42:15,634 : INFO : PROGRESS: at 60.77% examples, 94044 words/s, in_qsize 39, out_qsize 0\n",
      "2017-07-26 18:42:16,648 : INFO : PROGRESS: at 60.85% examples, 94051 words/s, in_qsize 39, out_qsize 0\n",
      "2017-07-26 18:42:17,902 : INFO : PROGRESS: at 60.88% examples, 93972 words/s, in_qsize 40, out_qsize 0\n",
      "2017-07-26 18:42:19,085 : INFO : PROGRESS: at 60.94% examples, 93936 words/s, in_qsize 39, out_qsize 0\n",
      "2017-07-26 18:42:20,210 : INFO : PROGRESS: at 60.99% examples, 93897 words/s, in_qsize 40, out_qsize 1\n",
      "2017-07-26 18:42:21,300 : INFO : PROGRESS: at 61.03% examples, 93853 words/s, in_qsize 39, out_qsize 0\n",
      "2017-07-26 18:42:22,676 : INFO : PROGRESS: at 61.10% examples, 93822 words/s, in_qsize 39, out_qsize 0\n",
      "2017-07-26 18:42:24,086 : INFO : PROGRESS: at 61.16% examples, 93772 words/s, in_qsize 40, out_qsize 1\n",
      "2017-07-26 18:52:02,456 : INFO : PROGRESS: at 98.03% examples, 91980 words/s, in_qsize 40, out_qsize 0\n",
      "2017-07-26 18:52:03,604 : INFO : PROGRESS: at 98.08% examples, 91956 words/s, in_qsize 39, out_qsize 0\n",
      "2017-07-26 18:52:04,799 : INFO : PROGRESS: at 98.14% examples, 91935 words/s, in_qsize 39, out_qsize 0\n",
      "2017-07-26 18:52:06,215 : INFO : PROGRESS: at 98.19% examples, 91900 words/s, in_qsize 37, out_qsize 2\n",
      "2017-07-26 18:52:07,438 : INFO : PROGRESS: at 98.25% examples, 91877 words/s, in_qsize 39, out_qsize 0\n",
      "2017-07-26 18:52:08,563 : INFO : PROGRESS: at 98.32% examples, 91871 words/s, in_qsize 40, out_qsize 0\n",
      "2017-07-26 18:52:09,609 : INFO : PROGRESS: at 98.39% examples, 91874 words/s, in_qsize 39, out_qsize 0\n",
      "2017-07-26 18:52:10,660 : INFO : PROGRESS: at 98.45% examples, 91867 words/s, in_qsize 38, out_qsize 1\n",
      "2017-07-26 18:52:11,664 : INFO : PROGRESS: at 98.50% examples, 91847 words/s, in_qsize 40, out_qsize 0\n",
      "2017-07-26 18:52:12,714 : INFO : PROGRESS: at 98.56% examples, 91840 words/s, in_qsize 39, out_qsize 0\n",
      "2017-07-26 18:52:13,715 : INFO : PROGRESS: at 98.62% examples, 91836 words/s, in_qsize 39, out_qsize 0\n",
      "2017-07-26 18:52:14,871 : INFO : PROGRESS: at 98.68% examples, 91828 words/s, in_qsize 39, out_qsize 0\n",
      "2017-07-26 18:52:15,983 : INFO : PROGRESS: at 98.77% examples, 91838 words/s, in_qsize 39, out_qsize 0\n",
      "2017-07-26 18:52:17,419 : INFO : PROGRESS: at 98.84% examples, 91817 words/s, in_qsize 39, out_qsize 0\n",
      "2017-07-26 18:52:18,555 : INFO : PROGRESS: at 98.91% examples, 91811 words/s, in_qsize 40, out_qsize 1\n",
      "2017-07-26 18:52:19,710 : INFO : PROGRESS: at 98.98% examples, 91808 words/s, in_qsize 38, out_qsize 1\n",
      "2017-07-26 18:52:20,756 : INFO : PROGRESS: at 99.06% examples, 91816 words/s, in_qsize 40, out_qsize 0\n",
      "2017-07-26 18:52:21,905 : INFO : PROGRESS: at 99.12% examples, 91808 words/s, in_qsize 39, out_qsize 0\n",
      "2017-07-26 18:52:23,069 : INFO : PROGRESS: at 99.18% examples, 91789 words/s, in_qsize 39, out_qsize 0\n",
      "2017-07-26 18:52:24,081 : INFO : PROGRESS: at 99.25% examples, 91790 words/s, in_qsize 39, out_qsize 0\n",
      "2017-07-26 18:52:25,212 : INFO : PROGRESS: at 99.31% examples, 91783 words/s, in_qsize 39, out_qsize 0\n",
      "2017-07-26 18:52:26,362 : INFO : PROGRESS: at 99.39% examples, 91786 words/s, in_qsize 39, out_qsize 0\n",
      "2017-07-26 18:52:27,585 : INFO : PROGRESS: at 99.46% examples, 91779 words/s, in_qsize 38, out_qsize 1\n",
      "2017-07-26 18:52:28,615 : INFO : PROGRESS: at 99.52% examples, 91767 words/s, in_qsize 39, out_qsize 0\n",
      "2017-07-26 18:52:29,680 : INFO : PROGRESS: at 99.58% examples, 91765 words/s, in_qsize 38, out_qsize 1\n",
      "2017-07-26 18:52:30,681 : INFO : PROGRESS: at 99.66% examples, 91771 words/s, in_qsize 39, out_qsize 0\n",
      "2017-07-26 18:52:31,732 : INFO : PROGRESS: at 99.72% examples, 91769 words/s, in_qsize 39, out_qsize 0\n",
      "2017-07-26 18:52:32,844 : INFO : PROGRESS: at 99.79% examples, 91763 words/s, in_qsize 38, out_qsize 0\n",
      "2017-07-26 18:52:33,915 : INFO : PROGRESS: at 99.86% examples, 91760 words/s, in_qsize 26, out_qsize 0\n",
      "2017-07-26 18:52:34,183 : INFO : worker thread finished; awaiting finish of 19 more threads\n",
      "2017-07-26 18:52:34,382 : INFO : worker thread finished; awaiting finish of 18 more threads\n",
      "2017-07-26 18:52:34,526 : INFO : worker thread finished; awaiting finish of 17 more threads\n",
      "2017-07-26 18:52:34,554 : INFO : worker thread finished; awaiting finish of 16 more threads\n",
      "2017-07-26 18:52:34,682 : INFO : worker thread finished; awaiting finish of 15 more threads\n",
      "2017-07-26 18:52:34,707 : INFO : worker thread finished; awaiting finish of 14 more threads\n",
      "2017-07-26 18:52:34,727 : INFO : worker thread finished; awaiting finish of 13 more threads\n",
      "2017-07-26 18:52:34,734 : INFO : worker thread finished; awaiting finish of 12 more threads\n",
      "2017-07-26 18:52:34,896 : INFO : worker thread finished; awaiting finish of 11 more threads\n",
      "2017-07-26 18:52:34,985 : INFO : PROGRESS: at 99.94% examples, 91776 words/s, in_qsize 10, out_qsize 1\n",
      "2017-07-26 18:52:34,990 : INFO : worker thread finished; awaiting finish of 10 more threads\n",
      "2017-07-26 18:52:35,037 : INFO : worker thread finished; awaiting finish of 9 more threads\n",
      "2017-07-26 18:52:35,129 : INFO : worker thread finished; awaiting finish of 8 more threads\n",
      "2017-07-26 18:52:35,142 : INFO : worker thread finished; awaiting finish of 7 more threads\n",
      "2017-07-26 18:52:35,206 : INFO : worker thread finished; awaiting finish of 6 more threads\n",
      "2017-07-26 18:52:35,210 : INFO : worker thread finished; awaiting finish of 5 more threads\n",
      "2017-07-26 18:52:35,227 : INFO : worker thread finished; awaiting finish of 4 more threads\n",
      "2017-07-26 18:52:35,257 : INFO : worker thread finished; awaiting finish of 3 more threads\n",
      "2017-07-26 18:52:35,260 : INFO : worker thread finished; awaiting finish of 2 more threads\n",
      "2017-07-26 18:52:35,263 : INFO : worker thread finished; awaiting finish of 1 more threads\n",
      "2017-07-26 18:52:35,270 : INFO : worker thread finished; awaiting finish of 0 more threads\n",
      "2017-07-26 18:52:35,272 : INFO : training on 178947040 raw words (139881108 effective words) took 1523.6s, 91810 effective words/s\n"
     ]
    }
   ],
   "source": [
    "logging.basicConfig(format='%(asctime)s : %(levelname)s : %(message)s', \n",
    "                    level=logging.INFO)\n",
    "word2vec = gensim.models.Word2Vec(np.array(words),\n",
    "                                  min_count=1,\n",
    "                                  size=EMBEDDING_SIZE,\n",
    "                                  workers=20,\n",
    "                                  iter=20,\n",
    "                                  window=8,\n",
    "                                  negative=8,\n",
    "                                  sg=1)"
   ]
  },
  {
   "cell_type": "code",
   "execution_count": null,
   "metadata": {},
   "outputs": [
    {
     "name": "stderr",
     "output_type": "stream",
     "text": [
      "2017-07-26 18:52:35,291 : INFO : saving Word2Vec object under word2vec/w2v, separately None\n",
      "2017-07-26 18:52:35,292 : INFO : storing np array 'syn0' to word2vec/w2v.wv.syn0.npy\n",
      "2017-07-26 18:52:35,664 : INFO : not storing attribute syn0norm\n",
      "2017-07-26 18:52:35,665 : INFO : storing np array 'syn1neg' to word2vec/w2v.syn1neg.npy\n",
      "2017-07-26 18:52:36,036 : INFO : not storing attribute cum_table\n",
      "2017-07-26 18:52:37,055 : INFO : saved word2vec/w2v\n",
      "2017-07-26 18:52:37,058 : INFO : precomputing L2-norms of word weight vectors\n"
     ]
    }
   ],
   "source": [
    "word2vec.save('word2vec/w2v')\n",
    "# Pre-normalized\n",
    "word2vec.init_sims(replace=True)"
   ]
  },
  {
   "cell_type": "markdown",
   "metadata": {},
   "source": [
    "## Test "
   ]
  },
  {
   "cell_type": "code",
   "execution_count": 34,
   "metadata": {
    "collapsed": true
   },
   "outputs": [],
   "source": [
    "word2vec = gensim.models.Word2Vec.load('word2vec/w2v')"
   ]
  },
  {
   "cell_type": "code",
   "execution_count": 37,
   "metadata": {},
   "outputs": [
    {
     "data": {
      "text/plain": [
       "[('moscow', 0.6510801315307617),\n",
       " ('ukraine', 0.6164605021476746),\n",
       " ('potanin', 0.590017557144165),\n",
       " ('russian', 0.585889458656311),\n",
       " ('kasyanov', 0.5850045084953308),\n",
       " ('deripaska', 0.5802307724952698),\n",
       " ('kabardino-balkaria', 0.5738332271575928),\n",
       " ('rostov-on-don', 0.5727179050445557),\n",
       " ('reroutes', 0.5718202590942383),\n",
       " ('putin', 0.5704840421676636)]"
      ]
     },
     "execution_count": 37,
     "metadata": {},
     "output_type": "execute_result"
    }
   ],
   "source": [
    "word2vec.most_similar('russia')"
   ]
  },
  {
   "cell_type": "markdown",
   "metadata": {},
   "source": [
    "## Tokenize Text"
   ]
  },
  {
   "cell_type": "code",
   "execution_count": 38,
   "metadata": {
    "collapsed": true
   },
   "outputs": [],
   "source": [
    "from keras.preprocessing.text import Tokenizer"
   ]
  },
  {
   "cell_type": "code",
   "execution_count": 39,
   "metadata": {
    "collapsed": true
   },
   "outputs": [],
   "source": [
    "tok_sentWords = sentWords.copy()\n",
    "tok_sentWords.extend(t_sentWords+adjlWords+t_adjlWords)\n",
    "tokTexts = [' '.join(i) for i in tok_sentWords]"
   ]
  },
  {
   "cell_type": "code",
   "execution_count": 40,
   "metadata": {},
   "outputs": [
    {
     "name": "stdout",
     "output_type": "stream",
     "text": [
      "Found 69168 unique tokens.\n"
     ]
    }
   ],
   "source": [
    "tokenizer = Tokenizer(lower=False)\n",
    "tokenizer.fit_on_texts(tokTexts)\n",
    "word2index = tokenizer.word_index\n",
    "index2word = {i: w for w, i in word2index.items()}\n",
    "index2word[0] = 'PAD'\n",
    "print('Found %s unique tokens.' % len(word2index))"
   ]
  },
  {
   "cell_type": "markdown",
   "metadata": {},
   "source": [
    "## Create Word Embeddings with GloVe"
   ]
  },
  {
   "cell_type": "code",
   "execution_count": 41,
   "metadata": {
    "collapsed": true
   },
   "outputs": [],
   "source": [
    "VOCAB_SIZE = 69169"
   ]
  },
  {
   "cell_type": "markdown",
   "metadata": {},
   "source": [
    "### Read GloVe"
   ]
  },
  {
   "cell_type": "code",
   "execution_count": 42,
   "metadata": {},
   "outputs": [
    {
     "data": {
      "text/plain": [
       "1917495"
      ]
     },
     "execution_count": 42,
     "metadata": {},
     "output_type": "execute_result"
    }
   ],
   "source": [
    "glove_n_symbols = !wc -l /Users/lizhn7/Downloads/DATA/Glove/glove.42B.300d.txt\n",
    "glove_n_symbols = int(glove_n_symbols[0].split()[0])\n",
    "glove_n_symbols"
   ]
  },
  {
   "cell_type": "code",
   "execution_count": 43,
   "metadata": {
    "collapsed": true
   },
   "outputs": [],
   "source": [
    "glove_index_dict = {}\n",
    "glove_embedding_weights = np.empty((glove_n_symbols, EMBEDDING_SIZE))\n",
    "globale_scale = 0.1\n",
    "with open('/Users/lizhn7/Downloads/DATA/Glove/glove.42B.300d.txt', 'r') as fp:\n",
    "    index = 0\n",
    "    for l in fp:\n",
    "        l = l.strip().split()\n",
    "        word = l[0]\n",
    "        glove_index_dict[word] = index\n",
    "        glove_embedding_weights[index, :] = [float(n) for n in l[1:]]\n",
    "        index += 1\n",
    "glove_embedding_weights *= globale_scale"
   ]
  },
  {
   "cell_type": "markdown",
   "metadata": {},
   "source": [
    "### Use Glove to Initialize Embedding Matrix"
   ]
  },
  {
   "cell_type": "code",
   "execution_count": 44,
   "metadata": {
    "collapsed": true
   },
   "outputs": [],
   "source": [
    "# Generate random embedding with same scale as glove\n",
    "np.random.seed(SEED)\n",
    "shape = (VOCAB_SIZE, EMBEDDING_SIZE)\n",
    "scale = glove_embedding_weights.std() * np.sqrt(12) / 2 \n",
    "embedding = np.random.uniform(low=-scale, high=scale, size=shape)"
   ]
  },
  {
   "cell_type": "code",
   "execution_count": 45,
   "metadata": {},
   "outputs": [
    {
     "name": "stdout",
     "output_type": "stream",
     "text": [
      "65490-94.68% tokens in vocab found in glove and copied to embedding.\n"
     ]
    }
   ],
   "source": [
    "# Copy from glove weights of words that appear in index2word\n",
    "count = 0 \n",
    "for i in range(VOCAB_SIZE):\n",
    "    w = index2word[i]\n",
    "    g = glove_index_dict.get(w)\n",
    "    if g is not None:\n",
    "        embedding[i, :] = glove_embedding_weights[g, :]\n",
    "        count += 1\n",
    "print('{num_tokens}-{per:.2f}% tokens in vocab found in glove and copied to embedding.'.format(num_tokens=count, per=count/float(VOCAB_SIZE)*100))"
   ]
  },
  {
   "cell_type": "markdown",
   "metadata": {},
   "source": [
    "# Build Dateset"
   ]
  },
  {
   "cell_type": "code",
   "execution_count": 46,
   "metadata": {
    "collapsed": true
   },
   "outputs": [],
   "source": [
    "from keras.preprocessing.sequence import pad_sequences"
   ]
  },
  {
   "cell_type": "code",
   "execution_count": 47,
   "metadata": {
    "collapsed": true
   },
   "outputs": [],
   "source": [
    "new_sentText = [' '.join(i) for i in sentWords]\n",
    "new_adjacencyList = [' '.join(i) for i in adjlWords]\n",
    "sentSeq = tokenizer.texts_to_sequences(new_sentText)\n",
    "adjlSeq = tokenizer.texts_to_sequences(new_adjacencyList)\n",
    "sentData = pad_sequences(sentSeq, maxlen=MAX_SENT_LEN, padding='post', truncating='post')\n",
    "adjlData = pad_sequences(adjlSeq, maxlen=MAX_ADJL_LEN, padding='post', truncating='post')"
   ]
  },
  {
   "cell_type": "code",
   "execution_count": 48,
   "metadata": {
    "collapsed": true
   },
   "outputs": [],
   "source": [
    "t_new_sentText = [' '.join(i) for i in t_sentWords]\n",
    "t_new_adjacencyList = [' '.join(i) for i in t_adjlWords]\n",
    "t_sentSeq = tokenizer.texts_to_sequences(t_new_sentText)\n",
    "t_adjlSeq = tokenizer.texts_to_sequences(t_new_adjacencyList)\n",
    "t_sentData = pad_sequences(t_sentSeq, maxlen=MAX_SENT_LEN, padding='post', truncating='post')\n",
    "t_adjlData = pad_sequences(t_adjlSeq, maxlen=MAX_ADJL_LEN, padding='post', truncating='post')"
   ]
  },
  {
   "cell_type": "code",
   "execution_count": 49,
   "metadata": {
    "collapsed": true
   },
   "outputs": [],
   "source": [
    "# Split the data into a training set and a validation set\n",
    "indices = np.arange(sentData.shape[0])\n",
    "np.random.shuffle(indices)\n",
    "x_train = sentData[indices]\n",
    "y_train = adjlData[indices]\n",
    "\n",
    "t_indices = np.arange(t_sentData.shape[0])\n",
    "np.random.shuffle(t_indices)\n",
    "x_val = t_sentData[t_indices]\n",
    "y_val = t_adjlData[t_indices]"
   ]
  },
  {
   "cell_type": "markdown",
   "metadata": {
    "heading_collapsed": true
   },
   "source": [
    "# Save Dataset"
   ]
  },
  {
   "cell_type": "code",
   "execution_count": 56,
   "metadata": {
    "collapsed": true,
    "hidden": true
   },
   "outputs": [],
   "source": [
    "import h5py\n",
    "import pickle"
   ]
  },
  {
   "cell_type": "code",
   "execution_count": 57,
   "metadata": {
    "collapsed": true,
    "hidden": true
   },
   "outputs": [],
   "source": [
    "fh = h5py.File('data/allData.h5', 'w')\n",
    "fh['x_train'] = x_train\n",
    "fh['y_train'] = y_train\n",
    "fh['x_val'] = x_val\n",
    "fh['y_val'] = y_val\n",
    "fh['embedding'] = embedding\n",
    "fh.close()"
   ]
  },
  {
   "cell_type": "code",
   "execution_count": 58,
   "metadata": {
    "collapsed": true,
    "hidden": true
   },
   "outputs": [],
   "source": [
    "with open('data/index.pkl', 'wb') as fp:\n",
    "    pickle.dump((word2index, index2word), fp, -1)"
   ]
  },
  {
   "cell_type": "markdown",
   "metadata": {},
   "source": [
    "# Checkpoint"
   ]
  },
  {
   "cell_type": "code",
   "execution_count": 1,
   "metadata": {
    "collapsed": true
   },
   "outputs": [],
   "source": [
    "import h5py\n",
    "import pickle"
   ]
  },
  {
   "cell_type": "code",
   "execution_count": 2,
   "metadata": {
    "collapsed": true
   },
   "outputs": [],
   "source": [
    "with h5py.File('data/allData.h5', 'r') as fh:\n",
    "    x_train = fh['x_train'][:]\n",
    "    y_train = fh['y_train'][:]\n",
    "    x_val = fh['x_val'][:]\n",
    "    y_val = fh['y_val'][:]\n",
    "    embedding = fh['embedding'][:]"
   ]
  },
  {
   "cell_type": "code",
   "execution_count": 3,
   "metadata": {
    "collapsed": true
   },
   "outputs": [],
   "source": [
    "with open('data/index.pkl', 'rb') as fp:\n",
    "    word2index, index2word = pickle.load(fp)"
   ]
  },
  {
   "cell_type": "code",
   "execution_count": 19,
   "metadata": {},
   "outputs": [
    {
     "data": {
      "text/plain": [
       "(80,)"
      ]
     },
     "execution_count": 19,
     "metadata": {},
     "output_type": "execute_result"
    }
   ],
   "source": [
    "x_train[0].shape"
   ]
  },
  {
   "cell_type": "markdown",
   "metadata": {},
   "source": [
    "# Build Model"
   ]
  },
  {
   "cell_type": "markdown",
   "metadata": {},
   "source": [
    "##  Set Hyperparameters"
   ]
  },
  {
   "cell_type": "code",
   "execution_count": 13,
   "metadata": {
    "collapsed": true
   },
   "outputs": [],
   "source": [
    "MAX_SENT_LEN = 80\n",
    "MAX_ADJL_LEN = 80\n",
    "VOCAB_SIZE = 69169\n",
    "EMBEDDING_SIZE = 300\n",
    "RNN_SIZE = 128\n",
    "DROPOUT_RATE = 0.2\n",
    "\n",
    "NUM_EPOCHS = 256\n",
    "BATCH_SIZE = 32\n",
    "STEPS_PER_EPOCH = 80\n",
    "VALIDATION_STEPS = len(x_val)//BATCH_SIZE+1"
   ]
  },
  {
   "cell_type": "code",
   "execution_count": 14,
   "metadata": {},
   "outputs": [
    {
     "name": "stdout",
     "output_type": "stream",
     "text": [
      "NUM_EPOCHS: \t\t256\n",
      "STEPS_PER_EPOCH: \t80\n",
      "VALIDATION_STEPS: \t13\n",
      "TRAIN_BATCHES: \t\t20480\n",
      "NUM_BATCHES \t\t2074\n"
     ]
    }
   ],
   "source": [
    "print('NUM_EPOCHS: \\t\\t%d' % NUM_EPOCHS)\n",
    "print('STEPS_PER_EPOCH: \\t%d' % STEPS_PER_EPOCH)\n",
    "print('VALIDATION_STEPS: \\t%d' % VALIDATION_STEPS)\n",
    "print('TRAIN_BATCHES: \\t\\t%d' % (NUM_EPOCHS * STEPS_PER_EPOCH))\n",
    "print('NUM_BATCHES \\t\\t%d' % (len(x_train)//BATCH_SIZE+1))"
   ]
  },
  {
   "cell_type": "markdown",
   "metadata": {},
   "source": [
    "## Import Libraries"
   ]
  },
  {
   "cell_type": "code",
   "execution_count": 6,
   "metadata": {},
   "outputs": [
    {
     "name": "stderr",
     "output_type": "stream",
     "text": [
      "Using TensorFlow backend.\n"
     ]
    }
   ],
   "source": [
    "from keras.layers import Input, Embedding, Dropout, Bidirectional, LSTM, TimeDistributed, Dense  \n",
    "from keras.models import Model\n",
    "import keras.backend as K\n",
    "from keras.callbacks import*\n",
    "from keras.utils import to_categorical\n",
    "from IPython.display import SVG\n",
    "from keras.utils.vis_utils import model_to_dot\n",
    "import matplotlib.pyplot as plt\n",
    "%matplotlib inline\n",
    "%config InlineBackend.figure_format = 'retina'"
   ]
  },
  {
   "cell_type": "markdown",
   "metadata": {},
   "source": [
    "## Build Graph"
   ]
  },
  {
   "cell_type": "code",
   "execution_count": 7,
   "metadata": {
    "collapsed": true
   },
   "outputs": [],
   "source": [
    "K.clear_session()\n",
    "sequence = Input(shape=(MAX_SENT_LEN,), name='INPUT') \n",
    "emb_seq = Embedding(VOCAB_SIZE, EMBEDDING_SIZE, weights=[embedding], mask_zero=True, input_length=MAX_SENT_LEN, trainable=True, name='EMBEDDING')(sequence)\n",
    "emb_seq = Dropout(DROPOUT_RATE)(emb_seq)\n",
    "blstm = Bidirectional(LSTM(RNN_SIZE, return_sequences=True, implementation=0), merge_mode='concat', name='ENC_BLSTM_1')(emb_seq)\n",
    "blstm = Dropout(DROPOUT_RATE)(blstm)\n",
    "blstm = Bidirectional(LSTM(RNN_SIZE, return_sequences=True, implementation=0), merge_mode='concat', name='ENC_BLSTM_2')(blstm)\n",
    "blstm = Dropout(DROPOUT_RATE)(blstm)\n",
    "lstm = LSTM(RNN_SIZE, return_sequences=True, implementation=0, name='DEC_LSTM')(blstm)\n",
    "lstm = Dropout(DROPOUT_RATE)(lstm)\n",
    "output = TimeDistributed(Dense(VOCAB_SIZE, activation='softmax'), name='OUTPUT')(lstm)\n",
    "model = Model(inputs=sequence, outputs=output)\n",
    "model.compile(loss='categorical_crossentropy', optimizer='rmsprop', metrics=['acc'])"
   ]
  },
  {
   "cell_type": "markdown",
   "metadata": {},
   "source": [
    "## Model Visualization"
   ]
  },
  {
   "cell_type": "code",
   "execution_count": 8,
   "metadata": {},
   "outputs": [
    {
     "name": "stdout",
     "output_type": "stream",
     "text": [
      "_________________________________________________________________\n",
      "Layer (type)                 Output Shape              Param #   \n",
      "=================================================================\n",
      "INPUT (InputLayer)           (None, 80)                0         \n",
      "_________________________________________________________________\n",
      "EMBEDDING (Embedding)        (None, 80, 300)           20750700  \n",
      "_________________________________________________________________\n",
      "dropout_1 (Dropout)          (None, 80, 300)           0         \n",
      "_________________________________________________________________\n",
      "ENC_BLSTM_1 (Bidirectional)  (None, 80, 256)           439296    \n",
      "_________________________________________________________________\n",
      "dropout_2 (Dropout)          (None, 80, 256)           0         \n",
      "_________________________________________________________________\n",
      "ENC_BLSTM_2 (Bidirectional)  (None, 80, 256)           394240    \n",
      "_________________________________________________________________\n",
      "dropout_3 (Dropout)          (None, 80, 256)           0         \n",
      "_________________________________________________________________\n",
      "DEC_LSTM (LSTM)              (None, 80, 128)           197120    \n",
      "_________________________________________________________________\n",
      "dropout_4 (Dropout)          (None, 80, 128)           0         \n",
      "_________________________________________________________________\n",
      "OUTPUT (TimeDistributed)     (None, 80, 69169)         8922801   \n",
      "=================================================================\n",
      "Total params: 30,704,157\n",
      "Trainable params: 30,704,157\n",
      "Non-trainable params: 0\n",
      "_________________________________________________________________\n"
     ]
    },
    {
     "data": {
      "image/svg+xml": [
       "<svg height=\"702pt\" viewBox=\"0.00 0.00 294.26 702.00\" width=\"294pt\" xmlns=\"http://www.w3.org/2000/svg\" xmlns:xlink=\"http://www.w3.org/1999/xlink\">\n",
       "<g class=\"graph\" id=\"graph0\" transform=\"scale(1 1) rotate(0) translate(4 698)\">\n",
       "<title>G</title>\n",
       "<polygon fill=\"#ffffff\" points=\"-4,4 -4,-698 290.2588,-698 290.2588,4 -4,4\" stroke=\"transparent\"/>\n",
       "<!-- 4983454352 -->\n",
       "<g class=\"node\" id=\"node1\">\n",
       "<title>4983454352</title>\n",
       "<polygon fill=\"none\" points=\"80.0762,-657.5 80.0762,-693.5 206.1826,-693.5 206.1826,-657.5 80.0762,-657.5\" stroke=\"#000000\"/>\n",
       "<text fill=\"#000000\" font-family=\"Times,serif\" font-size=\"14.00\" text-anchor=\"middle\" x=\"143.1294\" y=\"-671.3\">INPUT: InputLayer</text>\n",
       "</g>\n",
       "<!-- 4983455024 -->\n",
       "<g class=\"node\" id=\"node2\">\n",
       "<title>4983455024</title>\n",
       "<polygon fill=\"none\" points=\"57.1655,-584.5 57.1655,-620.5 229.0933,-620.5 229.0933,-584.5 57.1655,-584.5\" stroke=\"#000000\"/>\n",
       "<text fill=\"#000000\" font-family=\"Times,serif\" font-size=\"14.00\" text-anchor=\"middle\" x=\"143.1294\" y=\"-598.3\">EMBEDDING: Embedding</text>\n",
       "</g>\n",
       "<!-- 4983454352&#45;&gt;4983455024 -->\n",
       "<g class=\"edge\" id=\"edge1\">\n",
       "<title>4983454352-&gt;4983455024</title>\n",
       "<path d=\"M143.1294,-657.4551C143.1294,-649.3828 143.1294,-639.6764 143.1294,-630.6817\" fill=\"none\" stroke=\"#000000\"/>\n",
       "<polygon fill=\"#000000\" points=\"146.6295,-630.5903 143.1294,-620.5904 139.6295,-630.5904 146.6295,-630.5903\" stroke=\"#000000\"/>\n",
       "</g>\n",
       "<!-- 4983371424 -->\n",
       "<g class=\"node\" id=\"node3\">\n",
       "<title>4983371424</title>\n",
       "<polygon fill=\"none\" points=\"79.3276,-511.5 79.3276,-547.5 206.9312,-547.5 206.9312,-511.5 79.3276,-511.5\" stroke=\"#000000\"/>\n",
       "<text fill=\"#000000\" font-family=\"Times,serif\" font-size=\"14.00\" text-anchor=\"middle\" x=\"143.1294\" y=\"-525.3\">dropout_1: Dropout</text>\n",
       "</g>\n",
       "<!-- 4983455024&#45;&gt;4983371424 -->\n",
       "<g class=\"edge\" id=\"edge2\">\n",
       "<title>4983455024-&gt;4983371424</title>\n",
       "<path d=\"M143.1294,-584.4551C143.1294,-576.3828 143.1294,-566.6764 143.1294,-557.6817\" fill=\"none\" stroke=\"#000000\"/>\n",
       "<polygon fill=\"#000000\" points=\"146.6295,-557.5903 143.1294,-547.5904 139.6295,-557.5904 146.6295,-557.5903\" stroke=\"#000000\"/>\n",
       "</g>\n",
       "<!-- 5315846664 -->\n",
       "<g class=\"node\" id=\"node4\">\n",
       "<title>5315846664</title>\n",
       "<polygon fill=\"none\" points=\"0,-438.5 0,-474.5 286.2588,-474.5 286.2588,-438.5 0,-438.5\" stroke=\"#000000\"/>\n",
       "<text fill=\"#000000\" font-family=\"Times,serif\" font-size=\"14.00\" text-anchor=\"middle\" x=\"143.1294\" y=\"-452.3\">ENC_BLSTM_1(lstm_1): Bidirectional(LSTM)</text>\n",
       "</g>\n",
       "<!-- 4983371424&#45;&gt;5315846664 -->\n",
       "<g class=\"edge\" id=\"edge3\">\n",
       "<title>4983371424-&gt;5315846664</title>\n",
       "<path d=\"M143.1294,-511.4551C143.1294,-503.3828 143.1294,-493.6764 143.1294,-484.6817\" fill=\"none\" stroke=\"#000000\"/>\n",
       "<polygon fill=\"#000000\" points=\"146.6295,-484.5903 143.1294,-474.5904 139.6295,-484.5904 146.6295,-484.5903\" stroke=\"#000000\"/>\n",
       "</g>\n",
       "<!-- 4983455136 -->\n",
       "<g class=\"node\" id=\"node5\">\n",
       "<title>4983455136</title>\n",
       "<polygon fill=\"none\" points=\"79.3276,-365.5 79.3276,-401.5 206.9312,-401.5 206.9312,-365.5 79.3276,-365.5\" stroke=\"#000000\"/>\n",
       "<text fill=\"#000000\" font-family=\"Times,serif\" font-size=\"14.00\" text-anchor=\"middle\" x=\"143.1294\" y=\"-379.3\">dropout_2: Dropout</text>\n",
       "</g>\n",
       "<!-- 5315846664&#45;&gt;4983455136 -->\n",
       "<g class=\"edge\" id=\"edge4\">\n",
       "<title>5315846664-&gt;4983455136</title>\n",
       "<path d=\"M143.1294,-438.4551C143.1294,-430.3828 143.1294,-420.6764 143.1294,-411.6817\" fill=\"none\" stroke=\"#000000\"/>\n",
       "<polygon fill=\"#000000\" points=\"146.6295,-411.5903 143.1294,-401.5904 139.6295,-411.5904 146.6295,-411.5903\" stroke=\"#000000\"/>\n",
       "</g>\n",
       "<!-- 5409127224 -->\n",
       "<g class=\"node\" id=\"node6\">\n",
       "<title>5409127224</title>\n",
       "<polygon fill=\"none\" points=\"0,-292.5 0,-328.5 286.2588,-328.5 286.2588,-292.5 0,-292.5\" stroke=\"#000000\"/>\n",
       "<text fill=\"#000000\" font-family=\"Times,serif\" font-size=\"14.00\" text-anchor=\"middle\" x=\"143.1294\" y=\"-306.3\">ENC_BLSTM_2(lstm_2): Bidirectional(LSTM)</text>\n",
       "</g>\n",
       "<!-- 4983455136&#45;&gt;5409127224 -->\n",
       "<g class=\"edge\" id=\"edge5\">\n",
       "<title>4983455136-&gt;5409127224</title>\n",
       "<path d=\"M143.1294,-365.4551C143.1294,-357.3828 143.1294,-347.6764 143.1294,-338.6817\" fill=\"none\" stroke=\"#000000\"/>\n",
       "<polygon fill=\"#000000\" points=\"146.6295,-338.5903 143.1294,-328.5904 139.6295,-338.5904 146.6295,-338.5903\" stroke=\"#000000\"/>\n",
       "</g>\n",
       "<!-- 5316063808 -->\n",
       "<g class=\"node\" id=\"node7\">\n",
       "<title>5316063808</title>\n",
       "<polygon fill=\"none\" points=\"79.3276,-219.5 79.3276,-255.5 206.9312,-255.5 206.9312,-219.5 79.3276,-219.5\" stroke=\"#000000\"/>\n",
       "<text fill=\"#000000\" font-family=\"Times,serif\" font-size=\"14.00\" text-anchor=\"middle\" x=\"143.1294\" y=\"-233.3\">dropout_3: Dropout</text>\n",
       "</g>\n",
       "<!-- 5409127224&#45;&gt;5316063808 -->\n",
       "<g class=\"edge\" id=\"edge6\">\n",
       "<title>5409127224-&gt;5316063808</title>\n",
       "<path d=\"M143.1294,-292.4551C143.1294,-284.3828 143.1294,-274.6764 143.1294,-265.6817\" fill=\"none\" stroke=\"#000000\"/>\n",
       "<polygon fill=\"#000000\" points=\"146.6295,-265.5903 143.1294,-255.5904 139.6295,-265.5904 146.6295,-265.5903\" stroke=\"#000000\"/>\n",
       "</g>\n",
       "<!-- 5411158896 -->\n",
       "<g class=\"node\" id=\"node8\">\n",
       "<title>5411158896</title>\n",
       "<polygon fill=\"none\" points=\"76.5967,-146.5 76.5967,-182.5 209.6621,-182.5 209.6621,-146.5 76.5967,-146.5\" stroke=\"#000000\"/>\n",
       "<text fill=\"#000000\" font-family=\"Times,serif\" font-size=\"14.00\" text-anchor=\"middle\" x=\"143.1294\" y=\"-160.3\">DEC_LSTM: LSTM</text>\n",
       "</g>\n",
       "<!-- 5316063808&#45;&gt;5411158896 -->\n",
       "<g class=\"edge\" id=\"edge7\">\n",
       "<title>5316063808-&gt;5411158896</title>\n",
       "<path d=\"M143.1294,-219.4551C143.1294,-211.3828 143.1294,-201.6764 143.1294,-192.6817\" fill=\"none\" stroke=\"#000000\"/>\n",
       "<polygon fill=\"#000000\" points=\"146.6295,-192.5903 143.1294,-182.5904 139.6295,-192.5904 146.6295,-192.5903\" stroke=\"#000000\"/>\n",
       "</g>\n",
       "<!-- 5411158224 -->\n",
       "<g class=\"node\" id=\"node9\">\n",
       "<title>5411158224</title>\n",
       "<polygon fill=\"none\" points=\"79.3276,-73.5 79.3276,-109.5 206.9312,-109.5 206.9312,-73.5 79.3276,-73.5\" stroke=\"#000000\"/>\n",
       "<text fill=\"#000000\" font-family=\"Times,serif\" font-size=\"14.00\" text-anchor=\"middle\" x=\"143.1294\" y=\"-87.3\">dropout_4: Dropout</text>\n",
       "</g>\n",
       "<!-- 5411158896&#45;&gt;5411158224 -->\n",
       "<g class=\"edge\" id=\"edge8\">\n",
       "<title>5411158896-&gt;5411158224</title>\n",
       "<path d=\"M143.1294,-146.4551C143.1294,-138.3828 143.1294,-128.6764 143.1294,-119.6817\" fill=\"none\" stroke=\"#000000\"/>\n",
       "<polygon fill=\"#000000\" points=\"146.6295,-119.5903 143.1294,-109.5904 139.6295,-119.5904 146.6295,-119.5903\" stroke=\"#000000\"/>\n",
       "</g>\n",
       "<!-- 5424977512 -->\n",
       "<g class=\"node\" id=\"node10\">\n",
       "<title>5424977512</title>\n",
       "<polygon fill=\"none\" points=\"8.1655,-.5 8.1655,-36.5 278.0933,-36.5 278.0933,-.5 8.1655,-.5\" stroke=\"#000000\"/>\n",
       "<text fill=\"#000000\" font-family=\"Times,serif\" font-size=\"14.00\" text-anchor=\"middle\" x=\"143.1294\" y=\"-14.3\">OUTPUT(dense_1): TimeDistributed(Dense)</text>\n",
       "</g>\n",
       "<!-- 5411158224&#45;&gt;5424977512 -->\n",
       "<g class=\"edge\" id=\"edge9\">\n",
       "<title>5411158224-&gt;5424977512</title>\n",
       "<path d=\"M143.1294,-73.4551C143.1294,-65.3828 143.1294,-55.6764 143.1294,-46.6817\" fill=\"none\" stroke=\"#000000\"/>\n",
       "<polygon fill=\"#000000\" points=\"146.6295,-46.5903 143.1294,-36.5904 139.6295,-46.5904 146.6295,-46.5903\" stroke=\"#000000\"/>\n",
       "</g>\n",
       "</g>\n",
       "</svg>"
      ],
      "text/plain": [
       "<IPython.core.display.SVG object>"
      ]
     },
     "execution_count": 8,
     "metadata": {},
     "output_type": "execute_result"
    }
   ],
   "source": [
    "model.summary()\n",
    "SVG(model_to_dot(model).create(prog='dot', format='svg'))"
   ]
  },
  {
   "cell_type": "markdown",
   "metadata": {},
   "source": [
    "## Train"
   ]
  },
  {
   "cell_type": "code",
   "execution_count": 9,
   "metadata": {
    "collapsed": true
   },
   "outputs": [],
   "source": [
    "def gen_label(s):\n",
    "    \"\"\"\n",
    "    One-hot encoding\n",
    "    \"\"\"\n",
    "    gen = to_categorical(s, num_classes=VOCAB_SIZE)\n",
    "    return gen\n",
    "\n",
    "def data_generator_all(data, label, batch_size):\n",
    "    \"\"\"\n",
    "    Yield batches of all data\n",
    "    \"\"\"\n",
    "    count = 0\n",
    "    while True:\n",
    "        if count >= len(data): \n",
    "            count = 0\n",
    "        x = np.zeros((batch_size, MAX_SENT_LEN))\n",
    "        y = np.zeros((batch_size, MAX_ADJL_LEN, VOCAB_SIZE))\n",
    "        for i in range(batch_size):\n",
    "            n = i + count\n",
    "            if n > len(data)-1:\n",
    "                break\n",
    "            x[i, :] = data[n]\n",
    "            y[i, :, :] = gen_label(label[n])\n",
    "        count += batch_size\n",
    "        yield (x, y)\n",
    "        \n",
    "def data_generator(data, label, batch_size): \n",
    "    \"\"\"\n",
    "    Yield batches \n",
    "    \"\"\"\n",
    "    index = np.arange(len(data))\n",
    "    np.random.shuffle(index)    \n",
    "    batches = [index[range(batch_size*i, min(len(data), batch_size*(i+1)))] for i in range(len(data)//batch_size+1)]\n",
    "    while True:\n",
    "        for i in batches:\n",
    "            x, y = data[i], np.array(list(map(gen_label, label[i])))\n",
    "            yield (x, y)"
   ]
  },
  {
   "cell_type": "code",
   "execution_count": 10,
   "metadata": {
    "collapsed": true
   },
   "outputs": [],
   "source": [
    "gen_train = data_generator(x_train, y_train, BATCH_SIZE)\n",
    "gen_val = data_generator_all(x_val, y_val, BATCH_SIZE)"
   ]
  },
  {
   "cell_type": "code",
   "execution_count": null,
   "metadata": {
    "collapsed": true
   },
   "outputs": [],
   "source": [
    "# Continue Trian\n",
    "# filename = 'cp_logs/.hdf5'\n",
    "# model.load_weights(filename)\n",
    "# model.compile(loss='categorical_crossentropy', optimizer='rmsprop', metrics=['acc'])"
   ]
  },
  {
   "cell_type": "code",
   "execution_count": 11,
   "metadata": {
    "collapsed": true
   },
   "outputs": [],
   "source": [
    "filepath = 'cp_logs/weights.{epoch:02d}-{val_loss:.6f}.hdf5'\n",
    "log_string = 'tb_logs/simple'\n",
    "checkpoint = ModelCheckpoint(filepath, monitor='val_loss', verbose=1, save_best_only=True)\n",
    "tensorboard = TensorBoard(log_dir=log_string, histogram_freq=1, write_graph=False, write_images=True, embeddings_freq=1) \n",
    "#earlystop = EarlyStopping(monitor='val_loss', verbose=1, patience=1)"
   ]
  },
  {
   "cell_type": "code",
   "execution_count": null,
   "metadata": {
    "collapsed": true
   },
   "outputs": [],
   "source": [
    "history = model.fit_generator(gen_train, \n",
    "                              steps_per_epoch=STEPS_PER_EPOCH, \n",
    "                              epochs=NUM_EPOCHS, \n",
    "                              validation_data=gen_val, \n",
    "                              validation_steps=VALIDATION_STEPS,\n",
    "                              verbose=1)\n",
    "                              #callbacks=[checkpoint, tensorboard, earlystop])"
   ]
  },
  {
   "cell_type": "markdown",
   "metadata": {},
   "source": [
    "# Evaluate"
   ]
  },
  {
   "cell_type": "code",
   "execution_count": 51,
   "metadata": {
    "collapsed": true
   },
   "outputs": [],
   "source": [
    "filename = '/Users/lizhn7/Downloads/weights.079-2.091960.hdf5'\n",
    "model.load_weights(filename)"
   ]
  },
  {
   "cell_type": "code",
   "execution_count": 52,
   "metadata": {},
   "outputs": [
    {
     "name": "stdout",
     "output_type": "stream",
     "text": [
      "395/395 [==============================] - 51s    \n"
     ]
    }
   ],
   "source": [
    "result = np.argmax(model.predict(x_val, batch_size=BATCH_SIZE, verbose=1), -1)"
   ]
  },
  {
   "cell_type": "code",
   "execution_count": 56,
   "metadata": {},
   "outputs": [
    {
     "data": {
      "text/plain": [
       "(395, 80)"
      ]
     },
     "execution_count": 56,
     "metadata": {},
     "output_type": "execute_result"
    }
   ],
   "source": [
    "result.shape"
   ]
  },
  {
   "cell_type": "code",
   "execution_count": 57,
   "metadata": {},
   "outputs": [
    {
     "data": {
      "text/plain": [
       "(395, 80)"
      ]
     },
     "execution_count": 57,
     "metadata": {},
     "output_type": "execute_result"
    }
   ],
   "source": [
    "y_val.shape"
   ]
  },
  {
   "cell_type": "code",
   "execution_count": 60,
   "metadata": {
    "scrolled": false
   },
   "outputs": [
    {
     "name": "stdout",
     "output_type": "stream",
     "text": [
      "cornell EOP m t bank stadium EOP baltimore POI m t bank stadium RE contains EOP EOS\n",
      "mount college EOP EOP POI POI POI RE RE EOP EOP\n",
      "---\n",
      "harry reid EOP nevada EOP mitch mcconnell POI kentucky RE place lived EOP kentucky EOP EOS\n",
      "jim blunt EOP iowa EOP POI maine RE place lived place lived EOP EOS\n",
      "---\n",
      "guantánamo bay EOP cuba POI guantanamo bay RE contains EOP EOS\n",
      "havana EOP south POI POI POI RE contains EOP EOS\n",
      "---\n",
      "stuttgart EOP germany POI stuttgart RE contains EOP cerberus capital management EOP chrysler EOP EOS\n",
      "germany EOP germany POI germany RE contains EOP EOS\n",
      "---\n",
      "federal reserve EOP blair EOP stanley fischer POI bank of israel RE company EOP bank of israel EOP EOS\n",
      "john EOP EOP EOP EOP EOP EOP EOP EOP EOP EOP EOP EOP EOP EOP EOP EOP EOP EOP EOP\n",
      "---\n",
      "connecticut POI new haven RE contains EOP hartford EOP new haven EOP waterbury EOP new england EOP EOS\n",
      "connecticut POI new RE contains contains EOP RE EOP EOP EOP EOP EOP EOP EOP EOP EOP EOP\n",
      "---\n",
      "rob babcock EOP josé calderón EOP spain EOP EOS\n",
      "spain merkel EOP spain EOP nationality EOP nationality EOP EOP EOS\n",
      "---\n",
      "northern california EOP mount rainier EOP washington POI mount rainier RE contains EOP EOS\n",
      "san EOP EOP EOP EOP EOP EOP EOP EOP EOP EOP EOP EOP EOP EOP EOP\n",
      "---\n",
      "google EOP george reyes EOP shona brown POI google RE company EOP david drummond EOP jonathan rosenberg EOP EOS\n",
      "robert EOP EOP EOP POI POI RE EOP EOP EOP EOP EOP EOP EOP EOP\n",
      "---\n",
      "tyler hicks POI the new york times RE company EOP the new york times EOP EOS\n",
      "new university EOP EOP EOP POI new RE RE EOP EOP EOP EOP\n",
      "---\n",
      "carson city EOP george stephanopoulos POI abc news RE company EOP abc news EOP EOS\n",
      "san county EOP new york POI new RE RE place EOP EOP EOP EOP\n",
      "---\n",
      "wartburg college EOP waverly EOP iowa POI waverly RE contains EOP EOS\n",
      "university EOP EOP EOP EOP POI POI POI contains EOP contains EOP EOP\n",
      "---\n",
      "mitch mcconnell POI kentucky RE place lived EOP kentucky EOP senate EOP bush EOP iraq EOP EOS\n",
      "susan mcconnell POI maine RE place lived EOP massachusetts EOP bush EOP EOS EOP EOS\n",
      "---\n",
      "helen POI guatemala RE place lived EOP maguire EOP guatemala EOP EOS\n",
      "austria EOP POI POI POI RE place EOP EOP EOP EOS\n",
      "---\n",
      "sheldon whitehouse POI rhode island RE place lived EOP rhode island EOP claire mccaskill EOP missouri EOP gonzales EOP EOS\n",
      "staten neck POI new island RE place lived EOP EOP EOP EOP EOP EOP EOP EOP EOP\n",
      "---\n",
      "beth israel deaconess medical center EOP boston POI beth israel deaconess medical center RE contains EOP EOS\n",
      "university EOP EOP EOP EOP EOP POI POI contains RE contains EOP EOS\n",
      "---\n",
      "navarre EOP campania POI italy RE country EOP italy EOP palacios EOP spain EOP EOS\n",
      "berlin POI spain RE country EOP spain POI spain RE administrative POI berlin RE administrative divisions POI RE RE divisions EOP\n",
      "---\n",
      "irvington EOP connecticut EOP westchester POI connecticut RE country EOP long island EOP EOS\n",
      "connecticut EOP long POI POI island RE contains EOP long EOP EOP\n",
      "---\n",
      "bangalore EOP hyderabad EOP india POI delhi RE contains EOP calcutta EOP delhi EOP madras EOP mumbai EOP EOS\n",
      "darfur EOP india POI india RE contains POI india RE contains EOP EOP EOP RE contains EOP\n",
      "---\n",
      "cuba EOP havana POI cuba RE country EOP EOS\n",
      "spain POI havana RE administrative POI POI RE administrative divisions POI havana RE capital EOP EOS EOP\n",
      "---\n",
      "france POI spain RE country EOP germany EOP britain EOP spain EOP EOS\n",
      "france EOP france EOP france POI france RE contains RE contains EOP contains EOP EOS\n",
      "---\n",
      "musée national d'art moderne EOP paris POI musee national d'art moderne RE contains EOP EOS\n",
      "paris EOP POI paris POI paris place place of EOP EOP EOP\n",
      "---\n",
      "giorgio EOP mexico POI jalisco RE administrative divisions EOP jalisco EOP EOS\n",
      "canada EOP canada POI country RE RE POI canada RE RE RE EOP EOP EOP\n",
      "---\n",
      "ra'anana EOP israel POI ra'anana RE contains EOP liviu librescu EOP EOS\n",
      "amman EOP israel POI saudi RE contains EOP EOS EOP EOS\n",
      "---\n",
      "linda EOP charleston EOP paris EOP france POI paris RE contains EOP charleston EOP EOS\n",
      "paris EOP france EOP france EOP france EOP france EOP france RE paris RE paris RE paris RE RE paris EOP\n",
      "---\n",
      "chuck hagel POI nebraska RE place lived EOP nebraska EOP EOS\n",
      "jim blunt POI nebraska RE place lived lived lived lived lived lived lived lived lived lived lived lived lived lived lived lived lived lived lived lived lived lived lived lived lived lived lived lived lived lived lived lived lived lived lived lived lived lived lived lived lived lived lived lived lived lived lived lived lived lived lived lived lived lived lived lived lived lived lived lived lived lived lived lived lived lived lived lived lived lived lived lived lived lived\n",
      "---\n",
      "united states EOP spain EOP james blake POI tampa RE place lived EOP tampa EOP EOS\n",
      "united states EOP europe EOP spain RE contains EOP EOP EOP EOP EOP EOP\n",
      "---\n",
      "barbaro EOP france EOP italy POI france RE country EOP EOS\n",
      "france EOP EOP france POI france RE nationality EOP france EOP EOS EOS\n",
      "---\n",
      "california POI malibu RE contains EOP santa monica EOP malibu EOP EOS\n",
      "california POI san county RE contains EOP EOP EOP EOP\n",
      "---\n",
      "hanoi EOP seoul EOP south korea POI seoul RE contains EOP EOS\n",
      "seoul POI seoul RE country EOP EOP POI POI POI RE POI POI POI RE RE RE RE RE RE RE RE RE RE RE RE RE RE RE RE RE RE RE RE RE RE RE RE RE RE RE RE RE RE RE RE RE RE RE RE RE RE RE RE RE RE RE RE RE RE RE RE RE RE RE RE RE RE RE RE RE RE RE RE RE RE RE RE RE RE\n",
      "---\n",
      "jet airways EOP india EOP united states EOP delhi POI india RE country EOP brussels EOP EOS\n",
      "united states EOP delhi POI POI POI POI POI POI RE RE POI RE RE RE united united united EOP EOP\n",
      "---\n",
      "abdullah EOP ehud olmert POI israel RE nationality EOP israel EOP petra EOP jordan EOP EOS\n",
      "ariel sharon POI israel RE nationality EOP israel EOP israel EOP israel EOP EOS\n",
      "---\n",
      "malone EOP nix EOP arkadelphia EOP arkansas POI arkadelphia RE contains EOP EOS\n",
      "paris EOP POI angeles POI POI RE RE EOP EOP EOP EOP EOP EOP EOP EOP\n",
      "---\n",
      "johnson EOP wbz tv EOP boston POI wbz tv RE contains EOP EOS\n",
      "boston EOP boston EOP boston POI contains RE contains EOP EOS\n",
      "---\n",
      "cannon mountain EOP new hampshire POI cannon mountain RE contains EOP EOS\n",
      "lake EOP EOP EOP EOP POI POI POI RE contains contains EOP\n",
      "---\n",
      "yankee EOP new york EOP new hampshire EOP iowa EOP florida EOP south carolina POI iowa RE country EOP EOS\n",
      "new EOP new york POI new RE contains EOP RE contains EOP EOP EOP EOP EOP EOP\n",
      "---\n",
      "annapolis EOP maryland POI annapolis RE contains EOP EOS\n",
      "hawaii EOP ohio POI doha RE contains EOP EOS\n",
      "---\n",
      "israel EOP ehud olmert POI israel RE nationality POI israel RE nationality EOP mahmoud abbas EOP israel EOP EOS\n",
      "israel EOP ariel sharon POI israel RE nationality EOP israel EOP nationality EOP EOP israel EOP\n",
      "---\n",
      "jordan EOP amman EOP dalia itzik POI israel RE nationality EOP israel EOP israel EOP EOS\n",
      "jerusalem EOP israel EOP jordan POI amman RE capital RE contains RE contains RE contains RE contains EOP EOS\n",
      "---\n",
      "lucia EOP thomas vanek EOP buffalo sabres EOP grant EOP ryan potulny EOP north dakota EOP kellen briggs POI colorado springs RE place of birth EOP colorado springs EOP EOS\n",
      "amman EOP EOP south RE RE EOP EOP EOP EOP EOP EOP EOP EOP EOP EOP EOP EOP EOP EOP EOP EOP EOP\n",
      "---\n",
      "agnes scott college EOP decatur POI agnes scott college RE contains EOP sarasota EOP EOS\n",
      "university EOP EOP EOP EOP EOP EOP POI POI contains contains EOP EOP EOP\n",
      "---\n",
      "boca raton EOP florida POI boca raton RE contains EOP EOS\n",
      "john EOP EOP EOP EOP EOP florida POI florida RE RE contains EOP EOS\n",
      "---\n",
      "imelda marcos POI philippines RE nationality EOP philippines EOP EOS\n",
      "hu jintao POI indonesia RE nationality EOP russia EOP EOS\n",
      "---\n",
      "taylor EOP germany EOP berlin POI germany RE country EOP berlin POI germany RE country EOP EOS\n",
      "bush EOP russia POI russia RE contains POI POI RE contains divisions POI RE RE EOP EOP EOP EOP EOP EOP EOP EOP\n",
      "---\n",
      "richard neutra EOP frank lloyd wright POI lloyd wright RE children EOP lloyd wright EOP EOS\n",
      "michael EOP EOP POI EOP RE RE EOP EOP EOP EOP EOP EOP EOP EOP EOP EOP EOP\n",
      "---\n",
      "france EOP paris POI france RE country EOP EOS\n",
      "france POI paris RE administrative POI POI paris RE paris POI paris RE paris EOP paris EOP\n",
      "---\n",
      "italy POI india RE country EOP india EOP indonesia EOP EOS\n",
      "germany EOP europe POI france RE contains EOP contains EOP EOS EOP\n",
      "---\n",
      "diana vishneva EOP vaganova ballet academy EOP leningrad POI vaganova ballet academy RE contains EOP mikhail baryshnikov EOP EOS\n",
      "spain EOP EOP EOP EOP EOP EOP EOP POI EOP EOP EOP EOP EOP EOP\n",
      "---\n",
      "jack EOP boca raton EOP florida POI boca raton RE contains EOP EOS\n",
      "palm beach EOP florida POI florida beach RE contains EOP EOS\n",
      "---\n",
      "gurinder singh EOP kansas city EOP punjab EOP india POI punjab RE contains EOP EOS\n",
      "new EOP EOP india EOP india POI india RE contains EOP contains contains EOP\n",
      "---\n",
      "winston strawn EOP chicago POI winston strawn RE contains EOP new york EOP hughes hubbard reed EOP EOS\n",
      "john EOP EOP EOP EOP EOP RE place EOP EOP EOP EOP EOP EOP EOP\n",
      "---\n",
      "germany EOP italy POI germany RE country EOP EOS\n",
      "germany EOP germany EOP germany RE contains EOP EOS\n",
      "---\n",
      "gaza POI israel RE country POI israel RE country EOP israel EOP kerem shalom EOP gaza POI israel RE country POI israel RE country EOP israel EOP egypt EOP EOS\n",
      "gaza EOP israel EOP EOP israel EOP israel POI israel POI RE EOP EOP EOP EOP EOP EOP\n",
      "---\n",
      "jefferson market library EOP greenwich village POI jefferson market library RE contains EOP EOS\n",
      "greenwich EOP EOP EOP POI neighborhood RE neighborhood EOP EOP EOP EOP\n",
      "---\n",
      "juárez EOP mexico EOP north america EOP EOS\n",
      "australia EOP mexico POI mexico RE RE contains EOP EOS\n",
      "---\n",
      "israel POI west bank RE country EOP west bank EOP gaza EOP EOS\n",
      "israel POI west bank RE contains EOP west bank EOP bank EOP EOS\n",
      "---\n",
      "john howard POI australia RE nationality EOP australia EOP david hicks EOP EOS\n",
      "john chirac POI france RE nationality EOP france EOP EOS EOP\n",
      "---\n",
      "calgary EOP canada POI calgary RE contains EOP portland EOP oregon EOP jean EOP EOS\n",
      "sydney EOP australia POI canada RE contains EOP contains EOP EOS EOP EOS\n",
      "---\n",
      "state university of new york EOP stony brook EOP guadalajara EOP mexico POI guadalajara RE contains EOP albert einstein college of medicine EOP EOS\n",
      "university EOP EOP EOP EOP EOP EOP EOP EOP EOP EOP EOP EOP EOP EOP EOP EOP EOP RE EOP EOP EOP EOP EOP EOP\n",
      "---\n",
      "birmingham EOP toronto EOP atlanta EOP canada EOP united states EOP ontario POI canada RE country EOP EOS\n",
      "paris EOP canada EOP canada EOP canada EOP canada POI canada POI canada RE RE EOP EOP EOP EOP EOP EOP\n",
      "---\n",
      "clinton EOP westchester EOP nassau POI suffolk RE country EOP suffolk EOP new york city EOP EOS\n",
      "new york new new york POI contains EOP new EOP EOP EOP EOP EOP\n",
      "---\n",
      "potti sreeramulu telugu university EOP hyderabad POI potti sreeramulu telugu university RE contains EOP india EOP EOS\n",
      "university EOP germany EOP germany POI contains EOP contains EOP EOS\n",
      "---\n",
      "securities and exchange commission EOP christopher cox POI securities and exchange commission RE company EOP EOS\n",
      "robert EOP EOP EOP EOP POI POI RE RE EOP EOP EOP EOP\n",
      "---\n",
      "syria EOP iran POI syria RE country POI syria RE country EOP iraq EOP iraq EOP syria EOP EOS\n",
      "syria EOP syria EOP syria EOP tehran POI tehran POI contains POI contains RE contains RE contains RE contains RE contains RE contains RE contains RE contains RE contains RE contains RE contains contains\n",
      "---\n",
      "county mayo EOP ireland POI county mayo RE contains EOP EOS\n",
      "south county EOP EOP POI POI RE RE contains contains EOS\n",
      "---\n",
      "seoul POI south korea RE country EOP south korea EOP italy EOP EOS\n",
      "seoul EOP south korea POI country RE country POI POI POI RE RE POI RE RE RE RE RE RE RE\n",
      "---\n",
      "mexico EOP france POI spain RE country EOP spain EOP EOS\n",
      "india EOP india POI india POI france POI contains RE contains EOP EOS EOP EOS\n",
      "---\n",
      "syria EOP united nations EOP lebanon EOP rafik hariri POI lebanon RE nationality EOP EOS\n",
      "lebanon EOP united nations EOP lebanon EOP lebanon EOP POI lebanon RE nationality EOP EOS\n",
      "---\n",
      "woody harrelson EOP woody harrelson EOP charles harrelson POI woody harrelson RE children EOP florence EOP EOS\n",
      "michael markowitz EOP EOP RE POI place EOP EOP EOP EOP EOP EOP EOP EOP\n",
      "---\n",
      "ontario POI canada RE country EOP canada EOP brazil EOP italy EOP spain EOP france EOP greenwich EOP EOS\n",
      "toronto EOP canada POI canada RE country EOP australia RE spain POI spain RE contains EOP spain RE contains EOP EOP EOP EOP EOP EOP EOP EOP EOP EOP EOP EOP EOP EOP EOP EOP EOP EOP EOP EOP EOP EOP EOP EOP EOP EOP EOP EOP EOP EOP EOP EOP EOP EOP EOP EOP EOP EOP EOP EOP EOP EOP EOP EOP EOP EOP EOP EOP EOP EOP EOP EOP EOP EOP EOP EOP EOP EOP EOP EOP EOP\n",
      "---\n",
      "israel POI lebanon RE country EOP lebanon EOP EOS\n",
      "israel EOP israel RE contains RE contains EOP EOS EOP EOS\n",
      "---\n",
      "gates EOP paris EOP france POI paris RE contains EOP EOS\n",
      "bush EOP france POI france RE paris RE france POI paris RE paris paris POI paris RE contains EOP EOS\n",
      "---\n",
      "pepsi EOP procter gamble EOP hilton EOP singapore airlines EOP united states EOP brazil EOP britain EOP france POI italy RE country EOP germany EOP italy EOP india EOP EOS\n",
      "michael EOP EOP EOP EOP EOP EOP EOP EOP EOP EOP EOP EOP EOP EOP EOP EOP EOP EOP EOP EOP EOP EOP EOP EOP EOP EOP\n",
      "---\n",
      "charles fefferman POI princeton university RE company EOP princeton university EOP EOS\n",
      "hong university POI university university RE company EOP university EOP EOP\n",
      "---\n",
      "amalfi coast EOP italy POI amalfi coast RE contains EOP EOS\n",
      "austria EOP germany POI germany RE contains EOP contains EOP EOS\n",
      "---\n",
      "paris POI ecole normale superieure RE contains POI ecole normale superieure RE contains EOP pierre gilles de gennes EOP école normale supérieure EOP paris POI ecole normale superieure RE contains POI ecole normale superieure RE contains EOP EOS\n",
      "paris POI paris RE paris paris POI paris paris paris paris paris paris paris paris paris paris paris paris paris paris paris paris paris paris paris paris paris paris paris paris paris paris paris paris paris paris paris paris paris paris paris paris paris paris paris paris paris paris paris paris paris paris paris paris paris paris paris paris paris paris paris paris paris paris paris paris paris paris paris paris paris paris paris paris paris paris paris paris paris\n",
      "---\n",
      "panama city beach EOP florida POI panama city beach RE contains EOP EOS\n",
      "long island EOP florida POI florida county RE contains EOP EOS\n",
      "---\n",
      "westfield high school EOP fairfax county POI westfield high school RE contains EOP EOS\n",
      "suffolk EOP EOP county POI hempstead RE contains EOP EOS\n",
      "---\n",
      "teddy kollek EOP jerusalem EOP israel POI jerusalem RE contains POI jerusalem RE contains EOP jerusalem EOP EOS\n",
      "jerusalem EOP EOP israel jerusalem jerusalem jerusalem jerusalem jerusalem jerusalem RE capital POI jerusalem RE contains EOP jerusalem EOP EOS\n",
      "---\n",
      "crotone EOP calabria POI crotone RE contains EOP EOS\n",
      "chechnya POI austria RE contains EOP contains EOP EOS\n",
      "---\n",
      "south korea POI seoul RE contains EOP seoul EOP soviet union EOP EOS\n",
      "south POI south korea RE contains RE RE POI POI RE RE RE RE RE RE RE RE RE RE\n",
      "---\n",
      "united methodist church EOP mamaroneck POI united methodist church RE contains EOP EOS\n",
      "united states EOP EOP POI contains RE contains EOP EOS\n",
      "---\n",
      "congress EOP derrick m kuzak POI ford motor company RE company EOP ford motor company EOP EOS\n",
      "bush EOP robert POI POI RE contains RE company EOP EOS\n",
      "---\n",
      "staten island EOP new york city POI staten island RE contains EOP EOS\n",
      "long island EOP new island POI new island island RE island RE contains EOP\n",
      "---\n",
      "mexico city POI mexico RE country EOP mexico EOP EOS\n",
      "mexico EOP new mexico POI mexico RE contains EOP mexico mexico\n",
      "---\n",
      "spain EOP catalonia POI spain RE country EOP EOS\n",
      "spain POI berlin RE administrative divisions POI RE RE divisions POI berlin RE contains EOP EOS EOP\n",
      "---\n",
      "mark crispin miller POI new york university RE company EOP new york university EOP EOS\n",
      "john b POI new university university RE company EOP EOP new york york EOP EOP\n",
      "---\n",
      "spain POI valencia RE contains EOP valencia EOP america EOP EOS\n",
      "spain EOP spain POI spain RE contains EOP EOS\n",
      "---\n",
      "tim pawlenty POI minnesota RE place lived EOP minnesota EOP EOS\n",
      "jim richardson POI philadelphia RE place lived EOP EOP EOP EOS\n",
      "---\n",
      "blue hill EOP new york city EOP blue hill EOP pocantico hills EOP l'espalier EOP boston EOP chicago EOP chez panisse EOP berkeley POI chez panisse RE contains EOP EOS\n",
      "long EOP POI island island RE contains EOP EOP EOP EOP EOP EOP EOP EOP EOP EOP EOP EOP EOP EOP EOP EOP EOP EOP EOP EOP EOP EOP\n",
      "---\n",
      "france EOP london EOP paris POI france RE country EOP EOS\n",
      "france EOP france POI paris POI paris RE paris paris POI paris RE paris EOP EOP EOP\n",
      "---\n",
      "vali nasr POI naval postgraduate school RE company EOP naval postgraduate school EOP EOS\n",
      "seoul college POI POI college RE RE RE EOP EOP EOP EOS\n",
      "---\n",
      "rosalie EOP boca raton EOP florida POI boca raton RE contains EOP EOS\n",
      "palm beach EOP florida POI florida beach beach beach beach beach beach beach beach beach beach beach beach beach beach beach beach beach beach beach beach beach beach beach beach beach beach beach beach beach beach beach beach beach beach beach beach beach beach beach beach beach beach beach beach beach beach beach beach beach beach beach beach beach beach beach beach beach beach beach beach beach beach beach beach beach beach beach beach beach beach beach beach beach beach\n",
      "---\n",
      "lawrence livermore national laboratory EOP california POI lawrence livermore national laboratory RE contains EOP EOS\n",
      "san EOP EOP EOP EOP POI POI RE RE contains EOP EOS\n",
      "---\n",
      "chuck hagel POI nebraska RE place lived EOP nebraska EOP iraq EOP iraq EOP EOS\n",
      "trent hagel POI nebraska RE place lived EOP iraq EOP iraq EOP iraq EOP EOS\n",
      "---\n",
      "connecticut POI new haven RE contains EOP george w bush EOP new haven EOP EOS\n",
      "connecticut EOP new york POI connecticut EOP new EOP EOP EOP EOP EOS\n",
      "---\n",
      "kline EOP cracow EOP poland POI cracow RE contains EOP jagiellonian university EOP EOS\n",
      "russia EOP sweden EOP POI POI RE EOP RE EOP EOP EOP EOP\n",
      "---\n",
      "oregon EOP norm coleman POI minnesota RE place lived EOP minnesota EOP EOS\n",
      "atlanta EOP john EOP POI RE RE place lived EOP EOP EOP EOP\n",
      "---\n",
      "congress EOP national archives EOP washington POI national archives RE contains EOP waldheim EOP EOS\n",
      "bush EOP EOP EOP EOP EOP POI EOP RE EOP EOP EOP EOP EOP\n",
      "---\n",
      "united states EOP britain EOP canada EOP france POI italy RE country EOP germany EOP italy EOP russia EOP japan EOP merkel EOP bush EOP EOS\n",
      "united states EOP france EOP france EOP france EOP germany EOP germany EOP EOP EOP EOP EOP EOP EOP EOP EOP\n",
      "---\n",
      "samantha bee POI india RE place lived EOP aasif mandvi EOP india EOP wilmore EOP EOS\n",
      "india EOP india EOP POI RE contains EOP contains EOP EOS\n",
      "---\n",
      "abbott EOP michigan EOP united states EOP seoul POI south korea RE country EOP south korea EOP EOS\n",
      "beijing EOP united EOP POI korea RE RE RE POI POI POI POI POI POI POI POI RE RE RE RE RE RE RE RE EOP\n",
      "---\n",
      "tulum EOP mexico POI tulum RE contains EOP EOS\n",
      "qatar EOP mexico POI mexico RE contains EOP EOS\n",
      "---\n",
      "condoleezza rice EOP berlin EOP russia POI iran RE country EOP iran EOP EOS\n",
      "united states EOP russia EOP russia EOP russia POI moscow POI moscow RE contains RE contains RE EOP contains EOP\n",
      "---\n",
      "israel EOP france EOP italy POI israel RE country EOP EOS\n",
      "france EOP france EOP france POI contains RE contains EOP contains EOP EOS EOP EOS\n",
      "---\n",
      "russia EOP estonia EOP soviet union POI russia RE country EOP EOS\n",
      "russia EOP european EOP contains EOP contains contains RE contains EOP EOP EOP\n",
      "---\n",
      "linda EOP charleston EOP paris EOP france POI paris RE contains EOP charleston EOP EOS\n",
      "paris EOP france EOP france EOP france EOP france EOP france RE paris RE paris RE paris RE RE paris EOP\n",
      "---\n",
      "abe EOP adam EOP susan EOP andrew EOP max EOP new city EOP ny EOP jonathan EOP samantha EOP boca raton EOP florida POI boca raton RE contains EOP amy EOP zach EOP lucas EOP redwood city EOP EOS\n",
      "austria EOP EOP EOP EOP EOP EOP EOP EOP EOP EOP EOP EOP EOP EOP EOP EOP EOP EOP EOP EOP EOP EOP EOP EOP EOP EOP EOP EOP\n",
      "---\n",
      "colorado POI vail RE contains EOP vail EOP keystone EOP snowmass EOP EOS\n",
      "idaho EOP idaho POI contains RE contains EOP EOS EOP EOS\n",
      "---\n",
      "navarre POI spain RE country EOP spain EOP pamplona EOP EOS\n",
      "spain POI spain RE contains EOP contains EOP EOS EOP EOS\n",
      "---\n",
      "united states EOP iran POI russia RE country EOP russia EOP tehran EOP EOS\n",
      "united states EOP iran POI tehran RE tehran POI tehran RE contains EOP tehran EOP EOS\n",
      "---\n",
      "white house EOP house EOP nancy pelosi EOP syria POI damascus RE administrative divisions EOP damascus EOP bashar al assad EOP dick cheney EOP EOS\n",
      "united EOP EOP EOP EOP syria POI syria POI syria POI POI POI RE RE RE RE RE RE RE RE RE EOP EOP EOP\n",
      "---\n",
      "juliet b schor POI boston college RE company EOP boston college EOP EOS\n",
      "university university EOP EOP EOP POI POI POI university university RE EOP EOP\n",
      "---\n",
      "sony POI akio morita RE founders POI akio morita RE founders EOP akio morita EOP sony POI akio morita RE founders POI akio morita RE founders EOP united states EOP EOS\n",
      "bush EOP france EOP EOP EOP EOP EOP EOP EOP EOP EOP EOP EOP EOP EOP EOP EOP EOP EOP EOP EOP\n",
      "---\n",
      "norwalk EOP atchison EOP kansas POI atchison RE contains EOP EOS\n",
      "manhattan EOP EOP EOP EOP EOP POI RE EOP EOP EOP EOS\n",
      "---\n",
      "brad henry POI oklahoma RE place lived EOP oklahoma EOP EOS\n",
      "jim mcconnell POI maine RE place lived EOP maine EOP EOS\n",
      "---\n",
      "ehud olmert POI israel RE nationality EOP israel EOP amir peretz EOP EOS\n",
      "ariel sharon POI israel RE nationality EOP israel EOP EOS EOP EOP EOS\n",
      "---\n",
      "haley barbour POI mississippi RE place lived EOP mississippi EOP clinton EOP EOS\n",
      "susan collins POI maine RE place lived EOP maine EOP EOS EOP EOS\n",
      "---\n",
      "clinton EOP robert l johnson EOP black entertainment television POI robert l johnson RE founders EOP EOS\n",
      "bush EOP john EOP POI POI POI RE RE EOP EOP EOP EOP EOP\n",
      "---\n",
      "iraq EOP iran POI north korea RE country EOP north korea EOP EOS\n",
      "iraq EOP middle EOP contains RE RE contains EOP contains EOP EOS\n",
      "---\n",
      "long island EOP ny EOP cleveland heights EOP seattle EOP washington POI olympia RE contains POI olympia RE contains EOP olympia EOP washington POI olympia RE contains POI olympia RE contains EOP wilton EOP EOS\n",
      "long EOP EOP EOP EOP EOP EOP EOP EOP EOP EOP EOP EOP EOP EOP EOP EOP EOP EOP EOP EOP EOP EOP EOP EOP EOP EOP EOP EOP EOP EOP EOP EOP EOP EOP\n",
      "---\n",
      "battery park city EOP lower manhattan POI battery park city RE contains EOP EOS\n",
      "long island city POI manhattan RE neighborhood of EOP manhattan POI POI POI POI POI POI POI POI POI POI POI POI POI POI POI POI POI POI POI POI POI POI POI POI POI POI POI POI POI POI POI POI POI POI POI POI POI POI POI POI POI POI POI POI POI POI POI POI POI POI POI POI POI POI POI POI POI POI POI POI POI POI POI POI POI POI POI POI POI POI\n",
      "---\n",
      "david baker EOP israel EOP ehud olmert POI israel RE nationality EOP EOS\n",
      "united EOP EOP israel EOP israel sharon POI israel RE nationality EOP EOS\n",
      "---\n",
      "amy klobuchar POI minnesota RE place lived EOP minnesota EOP EOS\n",
      "atlanta EOP POI philadelphia RE place lived EOP EOP EOP EOS\n",
      "---\n",
      "berlin POI germany RE country EOP germany EOP EOS\n",
      "berlin POI germany RE country EOP germany POI berlin RE contains POI POI RE RE contains EOP EOS\n",
      "---\n",
      "jolie EOP brad pitt EOP shimon peres POI israel RE nationality EOP israel EOP EOS\n",
      "ariel EOP EOP israel EOP nationality EOP POI israel RE israel EOP EOS\n",
      "---\n",
      "david EOP united states department of justice EOP washington POI united states department of justice RE contains EOP EOS\n",
      "united states EOP united EOP united EOP united EOP EOP EOP EOP EOP\n",
      "---\n",
      "national museum of african art EOP washington POI national museum of african art RE contains EOP new york EOP paul tishman EOP ruth EOP EOS\n",
      "new EOP EOP EOP EOP EOP york new new new new EOP EOP EOP EOP EOP\n",
      "---\n",
      "fort wadsworth EOP staten island POI fort wadsworth RE contains EOP EOS\n",
      "staten EOP EOP staten island POI neighborhood RE EOP EOP EOP POI POI POI RE RE contains\n",
      "---\n",
      "nelson chamisa POI zimbabwe RE nationality EOP zimbabwe EOP harare EOP european union EOP EOS\n",
      "indonesia arabia POI indonesia RE contains POI POI RE RE divisions POI RE RE RE POI RE RE RE RE EOP EOP\n",
      "---\n",
      "gordon m bethune POI continental airlines RE company EOP continental airlines EOP EOS\n",
      "robert EOP POI POI POI RE RE EOP EOP EOP EOP EOP\n",
      "---\n",
      "new york aquarium EOP coney island POI new york aquarium RE contains EOP brooklyn EOP EOS\n",
      "new york POI brooklyn RE RE contains EOP brooklyn EOP EOP brooklyn\n",
      "---\n",
      "new york EOP mamaroneck EOP westchester county POI mamaroneck RE contains EOP hillary rodham clinton EOP first baptist church EOP EOS\n",
      "new york POI newark RE contains EOP contains RE contains EOP EOP EOP EOP EOP EOP EOP\n",
      "---\n",
      "libby lenton POI australia RE nationality EOP australia EOP EOS\n",
      "australia EOP POI australia RE nationality EOP EOP EOP EOS\n",
      "---\n",
      "metromedia EOP mgm EOP lake worth EOP florida POI lake worth RE contains EOP EOS\n",
      "south beach EOP florida POI POI beach RE contains EOP EOS\n",
      "---\n",
      "dharamsala EOP dalai lama EOP india POI dharamsala RE contains EOP EOS\n",
      "australia EOP EOP EOP EOP EOP EOP EOP EOP EOP EOP EOP EOP\n",
      "---\n",
      "jacksonville EOP florida POI jacksonville RE contains EOP EOS\n",
      "florida EOP florida POI florida RE contains EOP contains EOP EOS\n",
      "---\n",
      "mexico EOP mexico city POI mexico RE country EOP EOS\n",
      "mexico POI mexico mexico RE contains EOP new mexico RE contains EOP EOP RE\n",
      "---\n",
      "madhya pradesh EOP india EOP bihar POI india RE country POI india RE country EOP india EOP EOS\n",
      "melbourne POI POI RE RE country EOP country POI country POI RE POI RE RE RE RE RE RE RE RE RE RE RE RE RE RE\n",
      "---\n",
      "new york EOP united nations EOP duncan EOP united states virgin islands EOP argentina EOP tony parker POI france RE nationality EOP france EOP EOS\n",
      "new york EOP united states EOP united EOP EOP EOP EOP nationality EOP nationality EOP nationality EOP EOP\n",
      "---\n",
      "waterloo EOP ontario POI waterloo RE contains EOP gameloft EOP EOS\n",
      "ontario EOP ontario POI ontario RE contains EOP EOS\n",
      "---\n",
      "manhattan EOP stuttgart EOP germany POI stuttgart RE contains EOP EOS\n",
      "rice EOP bush EOP europe POI contains RE contains EOP EOS\n",
      "---\n",
      "israel POI west bank RE country EOP west bank EOP EOS\n",
      "israel POI west bank RE contains EOP west bank EOP EOS\n",
      "---\n",
      "syria POI iran RE country POI iran RE country EOP iran EOP jordan EOP syria POI iran RE country POI iran RE country EOP EOS\n",
      "syria EOP syria EOP lebanon EOP lebanon POI contains RE contains EOP contains EOP EOS\n",
      "---\n",
      "lesley university EOP cambridge POI lesley university RE contains EOP EOS\n",
      "university university EOP EOP university POI university RE contains EOP EOS\n",
      "---\n",
      "wagoner EOP india EOP gujarat POI india RE country POI india RE country EOP maharashtra EOP india EOP EOS\n",
      "india POI india RE administrative RE contains POI administrative RE RE POI POI RE RE RE POI RE RE RE RE RE RE RE RE RE RE RE RE RE RE RE RE\n",
      "---\n",
      "princeton EOP pinehurst EOP gulf stream EOP florida POI gulf stream RE contains EOP EOS\n",
      "florida EOP EOP EOP EOP EOP POI RE RE contains EOP EOS\n",
      "---\n",
      "eddie white POI reebok RE company EOP reebok EOP EOS\n",
      "austria EOP POI POI RE RE RE EOP EOP EOS\n",
      "---\n",
      "ira winkler POI information systems security association RE company EOP information systems security association EOP EOS\n",
      "alan EOP POI switzerland RE place lived EOP EOP EOP EOS\n",
      "---\n",
      "valence EOP france POI valence RE contains EOP michelin EOP EOS\n",
      "france EOP france POI france RE france EOP france EOP EOS\n",
      "---\n",
      "guantánamo bay EOP cuba POI guantanamo bay RE contains EOP EOS\n",
      "indonesia EOP south africa POI arabia RE contains EOP EOS\n",
      "---\n",
      "mitch mcconnell POI kentucky RE place lived EOP kentucky EOP EOS\n",
      "jim blunt POI kentucky RE place lived EOP maine EOP EOS\n",
      "---\n",
      "toulouse EOP france POI toulouse RE contains EOP EOS\n",
      "damascus EOP france EOP france RE RE RE RE RE RE RE RE RE RE RE RE RE RE RE RE RE RE RE RE RE RE RE RE RE RE RE RE RE RE RE RE RE RE RE RE RE RE RE RE RE RE RE RE RE RE RE RE RE RE RE RE RE RE RE RE RE RE RE RE RE RE RE RE RE RE RE RE RE RE RE RE RE RE RE\n",
      "---\n",
      "peter munk EOP barrick gold EOP toronto POI barrick gold RE contains EOP EOS\n",
      "michael markowitz POI POI RE RE company EOP EOP EOP EOP EOP EOP\n",
      "---\n",
      "first church EOP boston POI first church RE contains EOP back bay EOP EOS\n",
      "boston EOP boston POI POI RE RE EOP EOP EOP EOS\n",
      "---\n",
      "louvre EOP paris POI france RE country EOP metz EOP france EOP EOS\n",
      "paris EOP france POI france RE france POI france RE paris RE paris RE EOP\n",
      "---\n",
      "bihar EOP india POI bihar RE administrative divisions EOP EOS\n",
      "chechnya POI canada RE country EOP india POI mexico RE administrative divisions POI RE RE contains EOP EOP EOP EOP EOP EOP EOP EOP EOP EOP EOP EOP EOP EOP EOP EOP EOP EOP EOP EOP EOP EOP EOP EOP EOP EOP EOP EOP EOP EOP EOP EOP EOP EOP EOP EOP EOP EOP EOP EOP EOP EOP EOP EOP EOP EOP EOP EOP EOP EOP EOP EOP EOP EOP EOP EOP EOP EOP EOP EOP EOP EOP EOP EOP\n",
      "---\n",
      "mexico city POI mexico RE country EOP basel EOP mexico EOP EOS\n",
      "mexico POI new mexico RE contains EOP EOP RE RE EOP EOP EOP\n",
      "---\n",
      "amman EOP jordan POI amman RE contains EOP new jersey EOP EOS\n",
      "amman EOP EOP EOP EOP jordan EOP jordan POI contains RE contains EOP contains EOP\n",
      "---\n",
      "raritan river EOP new jersey EOP new brunswick EOP bound brook EOP westchester POI mamaroneck RE contains EOP mamaroneck EOP new rochelle EOP EOS\n",
      "new county EOP new jersey POI contains RE contains POI RE contains RE contains EOP EOP EOP EOP EOP EOP EOP EOP\n",
      "---\n",
      "russia EOP iran POI russia RE country EOP EOS\n",
      "iran EOP iran EOP iran RE contains EOP EOS EOP EOS\n",
      "---\n",
      "kingston EOP ontario POI kingston RE contains EOP EOS\n",
      "university EOP EOP POI POI RE contains EOP EOS\n",
      "---\n",
      "russia EOP china EOP iran POI russia RE country EOP EOS\n",
      "russia EOP iran EOP china POI iran RE contains EOP EOS EOP EOS\n",
      "---\n",
      "iran EOP middle east POI iran RE contains EOP EOS\n",
      "iran EOP middle east POI iran RE contains EOP EOS\n",
      "---\n",
      "salmon river EOP idaho POI salmon river RE contains EOP EOS\n",
      "college college EOP POI POI college RE contains contains EOP\n",
      "---\n",
      "bono EOP jacques chirac POI france RE nationality EOP france EOP africa EOP france EOP EOS\n",
      "jacques chirac POI france RE nationality EOP france EOP france EOP france EOP EOS\n",
      "---\n",
      "margaret EOP athenry EOP county galway EOP ireland POI athenry RE contains EOP EOS\n",
      "san EOP EOP EOP EOP POI county RE contains EOP EOS\n",
      "---\n",
      "chris guccione POI australia RE nationality EOP australia EOP olivier EOP EOS\n",
      "australia australia POI australia RE nationality EOP nationality EOP nationality EOP EOP\n",
      "---\n",
      "boston EOP california POI san francisco RE contains EOP oakland EOP san francisco EOP chicago EOP houston EOP new york city EOP st paul EOP seattle EOP edmonton EOP alberta EOP EOS\n",
      "university EOP EOP EOP EOP EOP EOP EOP EOP EOP EOP EOP EOP EOP EOP EOP EOP EOP EOP EOP EOP EOP EOP EOP EOP EOP\n",
      "---\n",
      "bush EOP russia EOP iran POI russia RE country POI russia RE country EOP russia EOP bushehr EOP iran POI russia RE country POI russia RE country EOP EOS\n",
      "iran EOP iran EOP iran EOP iran POI contains POI contains EOP contains EOP contains EOP contains EOP EOS EOP\n",
      "---\n",
      "g wayne clough POI georgia institute of technology RE company EOP georgia institute of technology EOP EOS\n",
      "michael EOP POI POI RE RE of EOP EOP EOP EOP EOP EOP EOP\n",
      "---\n",
      "chuck hagel POI nebraska RE place lived EOP nebraska EOP gonzales EOP EOS\n",
      "jim blunt POI nebraska RE place lived EOP nebraska EOP EOS\n",
      "---\n",
      "delaware EOP ohio EOP tom vilsack POI iowa RE place lived EOP iowa EOP EOS\n",
      "ohio EOP ohio EOP POI RE POI ohio EOP EOP EOP EOP EOP EOP\n",
      "---\n",
      "africa EOP pakistan EOP east africa EOP guantánamo bay EOP cuba POI guantanamo bay RE contains EOP EOS\n",
      "africa EOP africa EOP contains EOP contains EOP contains EOP EOP EOP EOP EOP EOP\n",
      "---\n",
      "davos EOP switzerland POI davos RE contains EOP iran EOP tehran EOP EOS\n",
      "turin EOP pakistan EOP iran POI contains POI tehran RE capital EOP tehran EOP EOS\n",
      "---\n",
      "delaware EOP chuck hagel POI nebraska RE place lived EOP nebraska EOP warner EOP senate EOP EOS\n",
      "john EOP POI nebraska POI arizona RE place lived EOP nebraska EOP EOS EOP EOS\n",
      "---\n",
      "new jersey EOP hudson EOP westchester POI hudson RE contains EOP delaware river EOP pennsylvania EOP EOS\n",
      "new jersey POI vancouver RE contains EOP EOP EOP EOP EOP EOP EOP EOP EOP\n",
      "---\n",
      "alice waters EOP chez panisse EOP berkeley POI chez panisse RE contains EOP EOS\n",
      "lake college EOP POI POI POI RE RE contains EOP\n",
      "---\n",
      "amory lovins POI rocky mountain institute RE company EOP rocky mountain institute EOP iraq EOP EOS\n",
      "hong kong EOP POI POI RE company RE EOP EOP EOP EOP EOP EOP\n",
      "---\n",
      "chicago POI west side RE contains EOP west side EOP EOS\n",
      "chicago EOP chicago POI RE RE EOP EOP EOP EOS\n",
      "---\n",
      "new jersey performing arts center EOP newark POI new jersey performing arts center RE contains EOP EOS\n",
      "new jersey POI newark RE contains EOP contains EOP EOS\n",
      "---\n",
      "washington POI iran RE country EOP moscow EOP american EOP iran EOP EOS\n",
      "bush EOP bush EOP bush POI country POI moscow RE contains RE contains RE EOP\n",
      "---\n",
      "munich EOP germany POI munich RE contains EOP EOS\n",
      "turin EOP germany POI germany RE contains EOP EOP EOP EOP EOP EOP EOP EOP EOP EOP EOP EOP EOP EOP EOP EOP EOP EOP EOP EOP EOP EOP EOP EOP EOP EOP EOP EOP EOP EOP EOP EOP EOP EOP EOP EOP EOP EOP EOP EOP EOP EOP EOP EOP EOP EOP EOP EOP EOP EOP EOP EOP EOP EOP EOP EOP EOP EOP EOP EOP EOP EOP EOP EOP EOP EOP EOP EOP EOP EOP EOP EOP EOP\n",
      "---\n",
      "cook county POI chicago RE contains EOP chicago EOP EOS\n",
      "suffolk county POI county RE contains EOP EOS EOP EOS\n",
      "---\n",
      "chuck hagel POI nebraska RE place lived EOP nebraska EOP EOS\n",
      "susan blunt POI nebraska RE place lived EOP nebraska EOP EOS\n",
      "---\n",
      "georgia state university EOP atlanta POI georgia state university RE contains EOP EOS\n",
      "university EOP university EOP EOP EOP university EOP university POI university EOP contains EOP EOS\n",
      "---\n",
      "nuremberg EOP germany POI nuremberg RE contains EOP EOS\n",
      "turin EOP germany POI germany RE contains EOP EOS\n",
      "---\n",
      "israel POI west bank RE country EOP gaza EOP west bank EOP east jerusalem EOP EOS\n",
      "israel POI west bank RE contains POI west jerusalem RE contains EOP west bank EOP bank EOP\n",
      "---\n",
      "algiers EOP united states EOP europe EOP algeria POI algiers RE capital EOP europe EOP north america EOP EOS\n",
      "rice EOP united EOP EOP EOP EOP europe EOP contains EOP EOP EOP EOP EOP EOP EOP EOP EOP\n",
      "---\n",
      "west bank EOP gaza POI israel RE country EOP israel EOP EOS\n",
      "west bank EOP israel POI west bank RE contains EOP EOS EOP EOS\n",
      "---\n",
      "peter bragdon POI columbia sportswear RE company EOP columbia sportswear EOP EOS\n",
      "robert university POI POI university RE company EOP EOP EOP EOP\n",
      "---\n",
      "daniel pauly POI university of british columbia RE company EOP university of british columbia EOP EOS\n",
      "vancouver university EOP columbia POI columbia columbia RE RE contains EOP\n",
      "---\n",
      "maranello EOP italy POI maranello RE contains EOP EOS\n",
      "turin EOP italy POI turin RE contains EOP EOS\n",
      "---\n",
      "israel POI west bank RE country EOP gaza EOP israel POI west bank RE country EOP gaza EOP west bank EOP EOS\n",
      "israel POI west bank west bank POI west RE west bank west bank EOP west bank\n",
      "---\n",
      "italy POI india RE country EOP india EOP indonesia EOP EOS\n",
      "germany EOP europe POI france RE contains EOP contains EOP EOS EOP\n",
      "---\n",
      "damascus EOP syria POI damascus RE contains EOP EOS\n",
      "damascus POI syria RE country EOP syria POI damascus RE administrative POI damascus RE RE divisions POI damascus RE contains contains contains contains contains contains contains contains contains contains contains contains contains contains contains contains contains contains contains contains contains contains contains contains contains contains contains contains contains contains contains contains contains contains contains contains contains contains contains contains contains contains contains contains contains contains contains contains contains contains contains contains contains contains contains contains contains contains contains contains contains\n",
      "---\n",
      "shilpa shetty POI india RE nationality EOP india EOP EOS\n",
      "jacques EOP POI india RE nationality EOP india EOP EOS\n",
      "---\n",
      "bihar POI india RE country EOP india EOP EOS\n",
      "melbourne POI india RE country EOP australia POI melbourne RE administrative POI POI RE RE divisions POI EOS\n",
      "---\n",
      "britain EOP mexico POI mexico city RE contains EOP mexico city EOP guadalajara EOP puebla EOP kenneth macmillan EOP romeo EOP ninette de valois EOP EOS\n",
      "mexico EOP mexico EOP EOP mexico POI mexico POI POI POI RE RE RE RE RE RE RE RE RE RE RE RE EOP EOP EOP\n",
      "---\n",
      "power EOP england EOP france EOP italy POI spain RE country EOP spain EOP netherlands EOP EOS\n",
      "germany EOP germany EOP germany EOP germany POI germany RE contains EOP EOS EOP EOS\n",
      "---\n",
      "hologic EOP bedford EOP cytyc EOP marlborough POI cytyc RE contains EOP EOS\n",
      "robert EOP EOP POI POI RE RE EOP EOP EOP EOS\n",
      "---\n",
      "martin EOP st andrew EOP presbyterian church EOP kingston EOP ontario POI kingston RE contains EOP EOS\n",
      "ontario EOP EOP EOP EOP POI POI RE contains EOP EOS\n",
      "---\n",
      "robin moore POI north carolina state university RE company EOP north carolina state university EOP EOS\n",
      "university university EOP EOP EOP POI university RE RE EOP EOP EOP EOP EOP\n",
      "---\n",
      "berlin POI germany RE country EOP germany EOP european union EOP EOS\n",
      "paris EOP germany POI germany RE country EOP germany POI germany RE contains divisions POI RE RE divisions EOP EOP\n",
      "---\n",
      "tom latham POI iowa RE place lived EOP iowa EOP EOS\n",
      "jim markowitz POI iowa RE place lived EOP maine EOP EOS\n",
      "---\n",
      "university of oregon EOP eugene POI university of oregon RE contains EOP EOS\n",
      "university university EOP EOP EOP POI university POI university RE contains EOP EOS\n",
      "---\n",
      "united states EOP peck peck EOP new york city POI peck peck RE contains EOP EOS\n",
      "united states EOP new york EOP new york RE contains contains EOP EOS\n",
      "---\n",
      "youtube EOP new york city POI greenwich village RE contains EOP greenwich village EOP EOS\n",
      "manhattan EOP new york EOP POI POI RE RE EOP EOP EOP EOP EOP EOP\n",
      "---\n",
      "weizmann institute of science EOP rehovot EOP israel POI rehovot RE contains EOP hank EOP EOS\n",
      "mount EOP EOP EOP EOP EOP POI RE RE contains contains contains EOP\n",
      "---\n",
      "detroit EOP germany EOP france EOP paris POI france RE country EOP EOS\n",
      "paris EOP france EOP france POI paris POI paris RE POI RE POI paris RE paris RE paris RE paris EOP paris EOP\n",
      "---\n",
      "france EOP corsica POI france RE country EOP EOS\n",
      "france POI france RE contains EOP france EOP EOS\n",
      "---\n",
      "ben nelson POI nebraska RE place lived EOP nebraska EOP EOS\n",
      "jim blunt POI nebraska RE place lived EOP nebraska EOP EOS\n",
      "---\n",
      "spain POI italy RE country EOP italy EOP mexico EOP britain EOP france EOP EOS\n",
      "germany EOP germany EOP germany EOP germany EOP contains EOP contains EOP EOP EOP EOP EOP EOP EOP EOP EOP EOP EOP EOP EOP EOP EOP EOP EOP EOP EOP EOP EOP EOP EOP EOP EOP EOP EOP EOP EOP EOP EOP EOP EOP EOP EOP EOP EOP EOP EOP EOP EOP EOP EOP EOP EOP EOP EOP EOP EOP EOP EOP EOP EOP EOP EOP EOP EOP EOP EOP EOP EOP EOP EOP EOP EOP EOP EOP EOP EOP\n",
      "---\n",
      "greensburg EOP kathleen sebelius POI kansas RE place lived EOP kansas EOP EOS\n",
      "jim EOP EOP EOP POI place RE place lived EOP EOS EOP EOS\n",
      "---\n",
      "guantánamo bay EOP cuba POI guantanamo bay RE contains EOP EOS\n",
      "saudi EOP POI india POI contains EOP contains EOP EOS\n",
      "---\n",
      "cancún EOP mexico POI cancun RE contains EOP EOS\n",
      "ontario EOP mexico POI mexico RE contains EOP EOS\n",
      "---\n",
      "puebla EOP mexico POI puebla RE contains EOP EOS\n",
      "ontario EOP mexico POI country RE mexico POI mexico RE administrative divisions POI POI POI POI POI POI POI POI POI POI POI POI POI POI POI POI POI POI POI POI POI POI POI POI POI POI POI POI POI POI POI POI POI POI POI POI POI POI POI POI POI POI POI POI POI POI POI POI POI POI POI POI POI POI POI POI POI POI POI POI POI POI POI POI POI POI POI POI\n",
      "---\n",
      "new city EOP rockland county POI new city RE contains EOP new york EOP EOS\n",
      "long county EOP new jersey POI POI county RE contains EOP EOP EOP EOP\n",
      "---\n",
      "woodruff EOP walter reed army medical center EOP washington POI walter reed army medical center RE contains EOP EOS\n",
      "tokyo EOP EOP EOP POI POI RE of of of EOP EOP EOP EOP EOP\n",
      "---\n",
      "india POI chhattisgarh RE contains EOP chhattisgarh EOP EOS\n",
      "india POI india RE contains EOP india EOP EOS\n",
      "---\n",
      "slovenia EOP reggio emilia EOP italy POI reggio emilia RE contains EOP university of alberta EOP canada EOP EOS\n",
      "germany EOP germany EOP EOP EOP EOP EOP EOP EOP EOP EOP EOP EOP EOP EOP EOP EOP EOP EOP EOP EOP EOP EOP EOP EOP\n",
      "---\n",
      "bainbridge island EOP washington POI bainbridge island RE contains EOP wilmington EOP delaware EOP cambridge EOP massachusetts EOP rosemont EOP new jersey EOP EOS\n",
      "greenwich EOP EOP EOP EOP EOP EOP EOP EOP EOP EOP EOP EOP EOP EOP EOP EOP EOP EOP EOP EOP EOP EOP EOP EOP EOP EOP EOP\n",
      "---\n",
      "united states EOP arab EOP europe EOP iran EOP syria POI iran RE country EOP EOS\n",
      "united states EOP states EOP iran EOP iran POI iran RE contains EOP EOP EOP EOP EOP\n",
      "---\n",
      "woodbridge EOP ontario POI woodbridge RE contains EOP EOS\n",
      "ontario EOP ontario POI ontario RE contains EOP EOS\n",
      "---\n",
      "george eastman house EOP rochester POI george eastman house RE contains EOP EOS\n",
      "michael EOP EOP EOP EOP POI of EOP EOP EOP EOP EOP EOP\n",
      "---\n",
      "dennis smith POI new york university RE company EOP new york university EOP EOS\n",
      "john b POI new university university RE company EOP new york EOP EOP\n",
      "---\n",
      "kwame anthony appiah POI princeton university RE company EOP princeton university EOP martin bunzl EOP EOS\n",
      "hong bernstein POI columbia university RE company EOP EOP EOP EOP EOP EOP EOP EOP\n",
      "---\n",
      "mount kilimanjaro POI tanzania RE country EOP tanzania EOP EOS\n",
      "province EOP EOP EOP POI country RE contains RE contains contains contains\n",
      "---\n",
      "denmark EOP france EOP spain EOP italy POI france RE country EOP EOS\n",
      "france EOP germany POI germany RE contains POI contains RE contains EOP EOS\n",
      "---\n",
      "boca raton EOP florida POI boca raton RE contains EOP EOS\n",
      "palm beach EOP florida POI florida beach RE contains EOP EOS\n",
      "---\n",
      "new york city POI staten island RE contains EOP manhattan EOP staten island EOP EOS\n",
      "new york city POI queens RE contains contains EOP island EOP EOP\n",
      "---\n",
      "chirac EOP georges pompidou EOP corrèze EOP france POI correze RE contains EOP EOS\n",
      "france EOP france EOP POI france RE nationality RE nationality EOP EOS\n",
      "---\n",
      "mount sinai hospital EOP toronto POI mount sinai hospital RE contains EOP university of toronto EOP EOS\n",
      "university university EOP EOP EOP EOP EOP EOP EOP EOP EOP EOP EOP EOP EOP\n",
      "---\n",
      "jean louis bruguière EOP france EOP EOS\n",
      "john EOP EOP france POI france EOP france EOP france EOP EOS\n",
      "---\n",
      "jeffrey r immelt POI general electric RE company EOP general electric EOP cnbc EOP EOS\n",
      "david shareholder POI POI major major RE major EOP POI POI POI RE RE RE RE RE RE RE EOP EOP\n",
      "---\n",
      "ontario EOP canada POI ontario RE contains EOP indiana EOP kentucky EOP san antonio EOP EOS\n",
      "toronto EOP mexico POI canada POI canada EOP canada POI canada RE contains EOP EOP EOP EOP EOP EOP EOP EOP EOP EOP EOP EOP EOP EOP EOP EOP EOP EOP EOP EOP EOP EOP EOP EOP EOP EOP EOP EOP EOP EOP EOP EOP EOP EOP EOP EOP EOP EOP EOP EOP EOP EOP EOP EOP EOP EOP EOP EOP EOP EOP EOP EOP EOP EOP EOP EOP EOP EOP EOP EOP EOP EOP EOP EOP EOP EOP EOP\n",
      "---\n",
      "donald e graham POI washington post company RE company EOP washington post company EOP the times EOP EOS\n",
      "john j EOP POI POI POI POI RE company EOP EOP EOP EOP EOP\n",
      "---\n",
      "washington EOP iran POI washington RE country EOP EOS\n",
      "iran EOP iran POI iran RE contains EOP tehran EOP EOS\n",
      "---\n",
      "sonny perdue EOP georgia EOP tim pawlenty POI minnesota RE place lived EOP minnesota EOP haley barbour EOP mississippi EOP EOS\n",
      "jim blunt POI iowa RE place lived EOP place EOP place lived EOP lived EOP EOP EOP EOP\n",
      "---\n",
      "rockville centre EOP county monaghan EOP ireland POI county monaghan RE contains EOP EOS\n",
      "mount EOP EOP EOP EOP EOP EOP POI POI POI RE contains contains contains EOS\n",
      "---\n",
      "harris county POI houston RE contains EOP houston EOP EOS\n",
      "florida county POI county RE contains EOP contains EOP EOS\n",
      "---\n",
      "new york EOP lower manhattan POI new york city RE neighborhood of EOP new york city EOP EOS\n",
      "new york POI new manhattan RE contains EOP EOP manhattan EOP manhattan manhattan manhattan manhattan manhattan\n",
      "---\n",
      "anaheim EOP baja california peninsula EOP mexico POI baja california peninsula RE contains EOP EOS\n",
      "mexico EOP EOP EOP EOP EOP EOP EOP EOP EOP POI POI POI POI POI POI RE RE RE RE RE RE RE RE\n",
      "---\n",
      "israel EOP gaza POI israel RE country EOP EOS\n",
      "israel POI israel RE contains EOP gaza EOP EOS\n",
      "---\n",
      "bush EOP israel EOP syria EOP bashar al assad POI syria RE nationality EOP EOS\n",
      "bush EOP bush EOP lebanon EOP syria EOP syria EOP syria EOP syria EOP syria EOP EOS EOP EOS EOP\n",
      "---\n",
      "paris EOP france POI paris RE contains EOP patrick dunne EOP lucullus EOP EOS\n",
      "paris POI france RE country EOP france POI paris RE administrative divisions POI paris RE contains EOP EOS\n",
      "---\n",
      "syria EOP damascus POI syria RE country EOP EOS\n",
      "syria POI damascus RE administrative POI damascus RE administrative divisions POI damascus RE capital EOP damascus RE country\n",
      "---\n",
      "nigeria POI uyo RE contains EOP uyo EOP EOS\n",
      "switzerland EOP switzerland POI contains RE contains EOP EOS\n",
      "---\n",
      "berkeley EOP ayelet waldman POI berkeley RE place lived EOP EOS\n",
      "idaho EOP idaho POI POI RE contains EOP contains EOP EOS\n",
      "---\n",
      "bush EOP iraq EOP middle east EOP united states EOP iran POI middle east RE country EOP EOS\n",
      "bush EOP bush EOP middle east POI iraq RE contains RE contains EOP contains EOP EOS\n",
      "---\n",
      "philadelphia EOP honolulu EOP california POI long beach RE contains EOP long beach EOP orange county EOP san diego EOP san francisco EOP EOS\n",
      "california EOP california EOP san EOP san EOP san EOP RE san EOP san EOP san EOP EOP EOP EOP EOP EOP\n",
      "---\n",
      "jamestown EOP virginia POI united states of america RE country EOP united states of america EOP EOS\n",
      "london EOP london EOP united EOP RE EOP EOP states EOP united EOP EOS\n",
      "---\n",
      "damascus POI syria RE country EOP syria EOP EOS\n",
      "damascus EOP syria RE country RE country POI damascus RE administrative POI damascus RE administrative divisions POI damascus RE contains EOP EOS\n",
      "---\n",
      "dana rohrabacher POI california RE place lived EOP california EOP EOS\n",
      "amman richardson POI california RE place lived EOP EOP EOP EOS\n",
      "---\n",
      "spain EOP italy EOP mexico EOP britain EOP france POI italy RE country EOP EOS\n",
      "germany EOP germany EOP germany EOP germany EOP contains EOP contains EOP EOP EOP\n",
      "---\n",
      "mitch mcconnell POI kentucky RE place lived EOP kentucky EOP john cornyn EOP texas EOP david vitter EOP louisiana EOP EOS\n",
      "jim blunt POI maine RE place lived EOP nebraska EOP EOP lived EOP place EOP EOP EOP EOP EOP EOP EOP EOP EOP\n",
      "---\n",
      "chad hurley POI youtube RE company EOP youtube EOP EOS\n",
      "beijing EOP POI POI RE company EOP EOP EOP EOP EOP EOP\n",
      "---\n",
      "margaret corbin EOP john EOP fort washington EOP upper manhattan POI fort washington RE contains EOP EOS\n",
      "manhattan EOP EOP manhattan manhattan RE neighborhood EOP EOP manhattan POI manhattan manhattan RE RE EOP EOS\n",
      "---\n",
      "amman EOP jordan POI amman RE contains EOP mahmoud abbas EOP EOS\n",
      "amman EOP jordan EOP amman RE contains POI amman RE contains EOP contains EOP EOS\n",
      "---\n",
      "bush EOP guantánamo bay EOP cuba POI guantanamo bay RE contains EOP EOS\n",
      "bush EOP cuba EOP POI cuba RE contains EOP contains EOP EOS\n",
      "---\n",
      "sessions EOP republican EOP jim demint EOP south carolina EOP jim bunning POI kentucky RE place lived EOP kentucky EOP david vitter EOP louisiana EOP EOS\n",
      "bill richardson EOP florida EOP POI lived EOP place lived EOP place EOP EOP lived EOP EOP EOP EOP EOP EOP EOP EOP EOP EOP EOP EOP EOP EOP EOP\n",
      "---\n",
      "dennis rice POI disney RE company EOP disney EOP EOS\n",
      "david EOP EOP POI RE RE company EOP EOP EOP EOP\n",
      "---\n",
      "brett keller POI priceline com RE company EOP priceline com EOP james t kirk EOP EOS\n",
      "pyongyang EOP EOP EOP POI POI RE RE RE EOP EOP EOP\n",
      "---\n",
      "green mountains EOP vermont POI stowe RE contains EOP stowe EOP EOS\n",
      "delhi EOP EOP EOP POI RE contains EOP contains EOP EOS\n",
      "---\n",
      "stephen g post POI case western reserve university RE company EOP case western reserve university EOP EOS\n",
      "robert university POI POI university university university RE EOP EOP university EOP\n",
      "---\n",
      "surayud chulanont EOP thailand EOP bangkok POI thailand RE country EOP EOS\n",
      "indonesia POI indonesia RE administrative POI POI RE administrative divisions POI POI RE RE RE country EOP EOS\n",
      "---\n",
      "west bank EOP gaza EOP israel POI west bank RE country POI west bank RE country EOP west bank EOP EOS\n",
      "west bank EOP israel POI west bank RE contains EOP west bank EOP bank EOP west bank\n",
      "---\n",
      "warren EOP holden EOP port melbourne EOP australia POI port melbourne RE contains EOP EOS\n",
      "delhi EOP EOP EOP EOP EOP country EOP POI POI RE RE RE RE RE RE RE RE\n",
      "---\n",
      "winslow park EOP westport POI winslow park RE contains EOP EOS\n",
      "idaho POI idaho POI contains RE contains EOP EOS EOP EOS\n",
      "---\n",
      "baghdad EOP chuck hagel POI nebraska RE place lived EOP nebraska EOP EOS\n",
      "iraq EOP mahmoud EOP POI iraq RE place lived EOP EOS\n",
      "---\n",
      "warner EOP susan collins EOP maine EOP ben nelson POI nebraska RE place lived EOP nebraska EOP senate EOP EOS\n",
      "maine EOP susan collins POI maine RE place lived EOP maine EOP EOP lived EOP EOP EOP EOP\n",
      "---\n",
      "at t EOP bellsouth EOP ralph de la vega POI at t RE company POI at t RE company EOP at t EOP san antonio EOP EOS\n",
      "san EOP san san POI san RE RE EOP EOP EOP EOP EOP\n",
      "---\n",
      "john de mol EOP endemol POI john de mol RE founders EOP EOS\n",
      "robert j POI POI RE RE company EOP EOP EOP EOS\n",
      "---\n",
      "suffolk county EOP ocean beach EOP fire island POI ocean beach RE contains EOP EOS\n",
      "long county POI staten island RE contains EOP EOP island EOP EOS EOP\n",
      "---\n",
      "israel EOP shimon peres POI israel RE nationality EOP EOS\n",
      "israel EOP ariel olmert POI israel RE nationality EOP EOS\n",
      "---\n",
      "syria EOP iran POI syria RE country EOP EOS\n",
      "iran EOP iran POI iran RE contains contains contains contains contains contains contains contains contains contains contains contains contains contains contains contains contains contains contains contains contains contains contains contains contains contains contains contains contains contains contains contains contains contains contains contains contains contains contains contains contains contains contains contains contains contains contains contains contains contains contains contains contains contains contains contains contains contains contains contains contains contains contains contains contains contains contains contains contains contains contains contains contains contains\n",
      "---\n",
      "josé luis rodríguez zapatero EOP spain EOP endesa EOP EOS\n",
      "spain merkel POI spain RE nationality EOP spain EOP EOS EOP EOS\n",
      "---\n",
      "ben nelson POI nebraska RE place lived EOP nebraska EOP EOS\n",
      "susan blunt POI nebraska RE place lived EOP nebraska EOP EOS\n",
      "---\n",
      "david bonderman EOP txu EOP todd fisher EOP txu EOP stephen a schwarzman POI blackstone group RE company EOP blackstone group EOP txu EOP EOS\n",
      "john EOP POI italy RE place EOP EOP EOP EOP EOP EOP EOP EOP EOP EOP EOP EOP EOP EOP EOP EOP EOP\n",
      "---\n",
      "guinea POI conakry RE capital EOP conakry EOP EOS\n",
      "province EOP EOP EOP POI POI RE RE contains EOP EOS\n",
      "---\n",
      "lebanon EOP israel POI lebanon RE country EOP EOS\n",
      "lebanon EOP lebanon POI POI RE RE contains EOP EOS\n",
      "---\n",
      "united states EOP guanajuato POI mexico RE country EOP mexico EOP EOS\n",
      "united states EOP canada POI canada POI country POI POI RE RE contains POI EOS\n",
      "---\n",
      "cuba EOP rice EOP castro EOP havana POI cuba RE country EOP EOS\n",
      "russia EOP havana RE administrative RE administrative POI administrative RE POI divisions RE capital RE EOP EOP EOP EOP\n",
      "---\n",
      "miami EOP sears tower EOP chicago POI sears tower RE contains EOP miami EOP EOS\n",
      "chicago EOP chicago EOP philadelphia RE contains RE contains EOP EOS\n",
      "---\n",
      "abbas EOP gaza EOP israel POI west bank RE country EOP west bank EOP EOS\n",
      "bush EOP israel EOP israel EOP west bank POI bank RE contains EOP EOP EOS\n",
      "---\n",
      "will shortz POI the times RE company EOP the times EOP EOS\n",
      "japan EOP POI POI RE company company EOP EOP EOP EOS\n",
      "---\n",
      "tommy hilfiger EOP st catharines EOP ontario POI st catharines RE contains EOP caribbean EOP EOS\n",
      "delhi EOP EOP EOP EOP EOP EOP EOP POI POI EOP EOP contains EOP EOP EOP\n",
      "---\n",
      "ottawa hills EOP toledo POI ottawa hills RE contains EOP EOS\n",
      "ontario EOP ontario POI country RE contains EOP contains EOP EOS\n",
      "---\n",
      "egypt EOP sinai EOP gaza POI israel RE country EOP israel EOP EOS\n",
      "jerusalem EOP washington EOP EOP EOP EOP POI contains RE contains EOP EOS\n",
      "---\n",
      "adolf eichmann EOP yad vashem EOP jerusalem POI yad vashem RE contains EOP EOS\n",
      "saudi markowitz EOP united RE RE of EOP EOP EOP EOP EOP EOP EOP EOP\n",
      "---\n",
      "williams EOP senegal EOP ghana EOP west africa POI senegal RE contains EOP EOS\n",
      "venezuela EOP africa EOP africa EOP POI RE contains RE contains contains EOS\n",
      "---\n",
      "aspen EOP colorado POI aspen RE contains EOP EOS\n",
      "delhi EOP EOP EOP EOP EOP POI POI POI RE contains EOP EOS\n",
      "---\n",
      "haley barbour POI mississippi RE place lived EOP mississippi EOP EOS\n",
      "susan lott POI nebraska RE place lived EOP maine EOP EOS\n",
      "---\n",
      "nicks EOP katherine dunham EOP manhattan EOP karamu house EOP cleveland POI karamu house RE contains EOP EOS\n",
      "manhattan EOP EOP EOP EOP EOP EOP EOP EOP POI POI RE EOP EOP EOP EOP EOP\n",
      "---\n",
      "youtube EOP chad hurley POI google RE company EOP google EOP EOS\n",
      "syria EOP assad EOP POI RE RE company EOP RE RE RE EOP EOP EOP\n",
      "---\n",
      "iraq EOP syria EOP iran POI syria RE country EOP EOS\n",
      "china EOP EOP EOP POI iran RE iran RE iran EOP EOS EOP EOS\n",
      "---\n",
      "united states EOP czech republic EOP poland EOP russia POI iran RE country EOP washington POI iran RE country EOP russia POI iran RE country EOP iran EOP EOS\n",
      "united states EOP united EOP EOP EOP EOP russia EOP russia EOP contains EOP contains EOP contains EOP EOS\n",
      "---\n",
      "ponte vedra beach EOP florida POI ponte vedra beach RE contains EOP EOS\n",
      "florida beach EOP florida POI florida beach RE contains EOP EOS\n",
      "---\n",
      "alexander EOP windhoek EOP namibia POI windhoek RE contains EOP EOS\n",
      "hawaii EOP africa POI contains RE contains EOP EOS EOP EOS\n",
      "---\n",
      "michoacán EOP mexico EOP michoacán EOP EOS\n",
      "mexico POI mexico POI contains POI contains RE contains EOP contains EOP EOP\n",
      "---\n",
      "nikolay davydenko POI russia RE nationality EOP russia EOP justine henin EOP belgium EOP EOS\n",
      "russia merkel POI russia RE nationality EOP russia EOP EOS EOP\n",
      "---\n",
      "north beach EOP san francisco POI north beach RE contains EOP morgan EOP EOS\n",
      "san francisco POI san francisco RE contains of EOP san francisco RE san RE RE EOP EOP\n",
      "---\n",
      "iran POI north korea RE country EOP north korea EOP EOS\n",
      "china EOP united korea RE contains EOP united EOP EOS EOS\n",
      "---\n",
      "david kenny POI digitas RE company EOP digitas EOP EOS\n",
      "robert EOP POI POI RE company company EOP EOP EOP EOP\n",
      "---\n",
      "todi EOP orvieto EOP italy POI orvieto RE contains EOP umbria EOP EOS\n",
      "austria EOP italy POI country RE contains POI contains RE contains EOP EOS\n",
      "---\n",
      "guadalajara EOP mexico POI guadalajara RE contains EOP EOS\n",
      "mexico EOP EOP EOP POI mexico POI contains RE contains RE RE\n",
      "---\n",
      "britain EOP germany POI spain RE country EOP altadis EOP spain EOP france EOP EOS\n",
      "france EOP germany EOP germany POI germany POI germany RE contains EOP EOS EOP EOS\n",
      "---\n",
      "josephine baker EOP france EOP paris POI france RE country EOP EOS\n",
      "bill schwarzenegger POI paris RE paris EOP paris EOP paris paris paris paris paris EOP\n",
      "---\n",
      "south africa EOP aziz pahad POI south africa RE nationality EOP zimbabwe EOP EOS\n",
      "south africa EOP africa EOP POI POI RE nationality EOP nationality EOP EOP\n",
      "---\n",
      "radcliffe EOP san francisco EOP occidental EOP sonoma county POI occidental RE contains EOP EOS\n",
      "san francisco EOP san EOP EOP san POI san RE RE contains contains contains\n",
      "---\n",
      "irving EOP lake worth EOP florida POI lake worth RE contains EOP EOS\n",
      "south beach EOP florida POI POI beach RE contains EOP EOS\n",
      "---\n",
      "vermont EOP sheldon whitehouse POI rhode island RE place lived EOP rhode island EOP gonzales EOP EOS\n",
      "atlanta EOP EOP island POI place RE place lived EOP EOP EOP EOP lived EOP EOP EOP EOP\n",
      "---\n",
      "stephen a schwarzman EOP blackstone group POI stephen a schwarzman RE founders EOP EOS\n",
      "robert b POI POI group RE RE company EOP EOP EOP EOP EOS\n",
      "---\n",
      "gare du nord EOP paris POI gare du nord RE contains EOP EOS\n",
      "paris EOP paris POI paris RE contains RE contains EOP EOS\n",
      "---\n",
      "srebrenica EOP bosnia POI srebrenica RE contains EOP EOS\n",
      "austria EOP POI POI contains RE contains EOP EOS\n",
      "---\n",
      "state university of new york EOP stony brook EOP guadalajara EOP mexico POI guadalajara RE contains EOP EOS\n",
      "university university EOP EOP EOP EOP EOP EOP EOP EOP POI POI POI RE RE RE RE\n",
      "---\n",
      "bill elliott POI dawsonville RE place lived EOP dawsonville EOP EOS\n",
      "austria EOP POI POI POI RE place lived EOP EOS\n",
      "---\n",
      "turku EOP finland POI turku RE contains EOP wikipedia EOP EOS\n",
      "kenya EOP pakistan POI kenya RE contains POI contains RE contains EOP EOS\n",
      "---\n",
      "europe EOP italy POI france RE country EOP france EOP greece EOP EOS\n",
      "europe POI spain RE contains POI contains RE contains EOP contains EOP contains EOP contains EOP contains EOP contains EOP EOS EOP EOS EOP EOS EOP\n",
      "---\n",
      "waterloo EOP iowa POI waterloo RE contains EOP EOS\n",
      "columbus EOP ohio POI toyota toyota toyota toyota toyota toyota toyota toyota toyota toyota toyota toyota toyota toyota toyota toyota toyota toyota toyota toyota toyota toyota toyota toyota toyota toyota toyota toyota toyota toyota toyota toyota toyota toyota toyota toyota toyota toyota toyota toyota toyota toyota toyota toyota toyota toyota toyota toyota toyota toyota toyota toyota toyota toyota toyota toyota toyota toyota toyota toyota toyota toyota toyota toyota toyota toyota toyota toyota toyota toyota toyota toyota toyota toyota toyota toyota\n",
      "---\n",
      "chuck hagel POI nebraska RE place lived EOP nebraska EOP maine EOP senate EOP iraq EOP EOS\n",
      "susan blunt POI nebraska RE place lived EOP nebraska EOP senate EOP EOS EOP EOS\n",
      "---\n",
      "berkeley EOP california POI berkeley RE contains EOP EOS\n",
      "florida EOP california POI florida RE contains EOP EOS\n",
      "---\n",
      "africa EOP india POI bihar RE contains EOP bihar EOP EOS\n",
      "india POI india RE contains POI POI RE contains divisions POI RE RE EOP EOP\n",
      "---\n",
      "stowe EOP vermont POI stowe RE contains EOP EOS\n",
      "idaho EOP utah POI contains RE contains EOP EOS\n",
      "---\n",
      "netherlands EOP united states EOP markus zusak POI australia RE nationality EOP australia EOP EOS\n",
      "spain EOP EOP spain EOP nationality EOP EOP EOP EOP EOP EOP EOP EOP EOP\n",
      "---\n",
      "roberto gonzález echevarría EOP yale university EOP havana POI cuba RE country EOP cuba EOP EOS\n",
      "rome university EOP EOP EOP EOP POI POI POI RE RE contains RE EOP EOP EOP\n",
      "---\n",
      "leverett EOP syria EOP saudi arabia EOP bush EOP iran POI syria RE country EOP iraq EOP EOS\n",
      "syria EOP syria EOP EOP EOP EOP iran POI iran RE contains RE contains EOP EOP EOP EOP EOP\n",
      "---\n",
      "chad hurley POI google RE company EOP youtube EOP google EOP EOS\n",
      "paris EOP POI POI RE company company company EOP EOS\n",
      "---\n",
      "linden EOP guyana POI linden RE contains EOP guyana POI linden RE contains EOP united states EOP EOS\n",
      "marty EOP EOP EOP RE nationality EOP EOP EOP EOP EOP EOP EOP EOP EOP EOP EOP\n",
      "---\n",
      "alzonne EOP france POI alzonne RE contains EOP EOS\n",
      "paris EOP POI RE country EOP EOP EOP RE EOP EOS\n",
      "---\n",
      "middle east EOP iran POI middle east RE country EOP EOS\n",
      "middle east POI iran RE contains EOP iran EOP EOS\n",
      "---\n",
      "spain POI italy RE country EOP italy EOP mexico EOP britain EOP france EOP EOS\n",
      "germany EOP germany EOP germany EOP germany EOP contains EOP contains EOP EOP EOP\n",
      "---\n",
      "staten island EOP queens EOP hudson river EOP lower manhattan POI hudson river RE contains EOP hunts point EOP bronx EOP EOS\n",
      "long island POI queens RE contains EOP EOP EOP EOP EOP EOP EOP EOP EOP EOP EOP\n",
      "---\n",
      "albertville EOP france POI albertville RE contains EOP EOS\n",
      "syria EOP france POI france RE contains EOP EOS\n",
      "---\n",
      "mela EOP boston EOP bayamo EOP cuba POI bayamo RE contains EOP EOS\n",
      "paris EOP washington EOP florida POI contains RE contains EOP EOS\n",
      "---\n",
      "kent conrad POI north dakota RE place lived EOP north dakota EOP bush EOP EOS\n",
      "north EOP EOP north EOP POI place EOP EOP EOP EOP EOP EOP EOP\n",
      "---\n",
      "ernst haefliger POI davos RE place of death EOP davos EOP switzerland EOP EOS\n",
      "austria kenya EOP turin POI turin RE contains EOP EOS EOS\n",
      "---\n",
      "amsterdam EOP harborside EOP port washington POI harborside RE contains EOP EOS\n",
      "washington EOP washington EOP EOP EOP EOP RE contains EOP contains contains EOS\n",
      "---\n",
      "united states EOP syria EOP damascus POI syria RE country EOP lebanon EOP EOS\n",
      "united states EOP syria POI damascus RE administrative POI POI RE RE divisions POI damascus RE contains EOP damascus RE contains EOP EOS\n",
      "---\n",
      "carter EOP mclean EOP middleburg EOP virginia POI middleburg RE contains EOP EOS\n",
      "rice EOP EOP EOP EOP EOP EOP EOP EOP EOP EOP EOP EOP contains EOP contains EOP\n",
      "---\n",
      "washington dc EOP germany EOP berlin POI germany RE country EOP frankfurt EOP bonn EOP vienna EOP geneva EOP new york EOP moscow EOP brasilia EOP EOS\n",
      "france EOP russia EOP russia EOP contains RE contains EOP contains EOP EOP EOP EOP EOP EOP EOP EOP EOP EOP EOP EOP EOP EOP EOP EOP EOP EOP EOP EOP EOP EOP EOP EOP EOP EOP EOP EOP EOP EOP EOP EOP EOP EOP EOP EOP EOP EOP EOP EOP EOP EOP EOP EOP EOP EOP EOP EOP EOP EOP EOP EOP EOP EOP EOP EOP EOP EOP EOP EOP EOP EOP EOP EOP EOP EOP EOP EOP EOP\n",
      "---\n",
      "sam brownback EOP john h cox EOP chicago EOP jim gilmore EOP virginia EOP duncan hunter EOP california EOP tommy thompson POI wisconsin RE place lived EOP wisconsin EOP mike huckabee EOP arkansas EOP ron paul EOP texas EOP tom tancredo EOP colorado EOP EOS\n",
      "arnold schwarzenegger POI virginia RE place lived EOP arizona EOP place lived EOP EOP EOP EOP EOP EOP EOP EOP EOP EOP EOP EOP EOP EOP EOP EOP EOP EOP EOP EOP EOP EOP EOP EOP EOP EOP EOP EOP EOP EOP EOP EOP EOP EOP EOP EOP EOP EOP EOP\n",
      "---\n",
      "darlington raceway EOP south carolina POI darlington raceway RE contains EOP EOS\n",
      "carolina EOP south EOP POI south POI RE contains contains contains\n",
      "---\n",
      "ontario EOP canada POI ontario RE contains EOP brazil EOP italy EOP spain EOP france EOP greenwich EOP EOS\n",
      "toronto EOP canada POI canada RE country EOP australia RE spain POI spain RE contains EOP spain RE contains EOP EOP EOP EOP EOP EOP EOP EOP EOP EOP EOP EOP EOP EOP EOP EOP EOP EOP EOP EOP EOP EOP EOP EOP EOP EOP EOP EOP EOP EOP EOP EOP EOP EOP EOP EOP EOP EOP EOP EOP EOP EOP EOP EOP EOP EOP EOP EOP EOP EOP EOP EOP EOP EOP EOP EOP EOP EOP EOP EOP EOP\n",
      "---\n",
      "clarkstown POI new city RE contains EOP new city EOP EOS\n",
      "chechnya EOP new york POI contains RE contains EOP EOS\n",
      "---\n",
      "new rochelle EOP will shortz POI the new york times RE company EOP the new york times EOP EOS\n",
      "austria EOP EOP EOP EOP EOP EOP EOP EOP EOP EOP EOP EOP EOP EOP EOP EOP EOP EOP EOP EOP EOP EOP EOP EOP EOP\n",
      "---\n",
      "pascal EOP ramapo college EOP mahwah POI ramapo college RE contains EOP EOS\n",
      "mount college EOP EOP POI POI college RE RE contains EOP EOS\n",
      "---\n",
      "boris EOP riga POI latvia RE country EOP latvia EOP us EOP EOS\n",
      "melbourne POI POI RE country RE country POI berlin RE administrative divisions POI POI RE administrative POI POI RE RE divisions POI POI POI POI POI POI POI POI POI POI POI POI POI POI POI POI POI POI POI POI POI POI POI POI POI POI POI POI POI POI POI POI POI POI POI POI POI POI POI POI POI POI POI POI POI POI POI POI POI POI POI POI POI POI POI POI POI POI POI\n",
      "---\n",
      "tobermory EOP ontario POI tobermory RE contains EOP EOS\n",
      "ontario EOP ontario POI ontario RE contains EOP EOS\n",
      "---\n",
      "korea EOP seoul POI south korea RE country EOP south korea EOP EOS\n",
      "paris EOP south korea RE korea RE RE POI POI POI POI POI POI RE RE RE RE POI RE RE RE RE\n",
      "---\n",
      "hyderabad EOP india POI hyderabad RE contains EOP EOS\n",
      "melbourne EOP india POI india RE contains EOP EOS\n",
      "---\n",
      "taipei EOP taiwan POI taipei RE contains EOP EOS\n",
      "shanghai EOP taiwan POI china RE contains EOP EOS\n",
      "---\n",
      "gaza POI israel RE country EOP israel EOP EOS\n",
      "gaza EOP israel EOP israel RE RE RE EOP EOP\n",
      "---\n",
      "ernie fletcher POI kentucky RE place lived EOP kentucky EOP symington EOP EOS\n",
      "iowa EOP iowa POI contains RE contains EOP EOS\n",
      "---\n",
      "brittany lincicome POI seminole RE place lived EOP seminole EOP EOS\n",
      "seoul markowitz POI POI RE place lived EOP EOP EOP EOP EOS\n",
      "---\n",
      "hoboken EOP anthony depalma POI the new york times RE company EOP the new york times EOP hoboken EOP montclair EOP EOS\n",
      "newark EOP EOP EOP EOP EOP EOP EOP EOP EOP EOP EOP EOP EOP EOP EOP EOP EOP EOP\n",
      "---\n",
      "european union EOP serbia EOP britain EOP italy POI spain RE country EOP spain EOP EOS\n",
      "united states EOP pakistan EOP italy EOP italy EOP italy EOP contains EOP EOS EOP EOS\n",
      "---\n",
      "chuck hagel POI nebraska RE place lived EOP nebraska EOP iraq EOP bush EOP iraq EOP EOS\n",
      "john hagel POI nebraska RE place lived EOP EOP EOP bush EOP bush EOP EOS EOP\n",
      "---\n",
      "israel EOP ehud olmert POI israel RE nationality EOP EOS\n",
      "israel EOP ariel sharon POI israel RE nationality EOP EOS\n",
      "---\n",
      "louisiana POI baton rouge RE contains EOP baton rouge EOP EOS\n",
      "louisiana POI new orleans RE contains EOP EOP EOP EOP EOS\n",
      "---\n",
      "gaza POI israel RE country EOP israel EOP EOS\n",
      "london EOP israel EOP israel RE contains EOP contains EOP EOS\n",
      "---\n",
      "martin feldstein POI national bureau of economic research RE company EOP harvard EOP national bureau of economic research EOP harvard EOP richard musgrave EOP EOS\n",
      "john b EOP EOP EOP POI EOP EOP EOP EOP EOP EOP EOP EOP EOP\n",
      "---\n",
      "hamburg EOP airbus EOP toulouse EOP france POI toulouse RE contains EOP EOS\n",
      "moscow POI france RE country EOP france EOP france RE administrative POI POI RE administrative divisions POI divisions RE EOP EOS\n",
      "---\n",
      "afghanistan EOP iraq EOP black sea EOP romania POI black sea RE contains EOP EOS\n",
      "iraq POI iraq RE contains POI contains EOP contains EOP EOS\n",
      "---\n",
      "evo morales POI bolivia RE nationality EOP bolivia EOP EOS\n",
      "cuba EOP POI cuba RE nationality EOP nationality EOP EOS\n",
      "---\n",
      "france EOP paris POI france RE country EOP EOS\n",
      "paris EOP france POI paris RE paris POI paris RE administrative divisions POI paris RE contains EOP EOS\n",
      "---\n",
      "patrick patterson POI huntington RE place lived EOP huntington EOP kentucky EOP EOS\n",
      "robert EOP EOP POI RE place lived EOP EOP EOS\n",
      "---\n",
      "massachusetts general hospital EOP boston POI massachusetts general hospital RE contains EOP EOS\n",
      "university EOP university EOP boston POI university POI university RE contains EOP contains EOP EOS\n",
      "---\n",
      "nigeria EOP atiku abubakar POI nigeria RE nationality EOP EOS\n",
      "pakistan EOP pervez musharraf POI pakistan RE nationality EOP EOS\n",
      "---\n",
      "paris EOP france POI paris RE contains EOP EOS\n",
      "paris POI france RE country EOP france POI paris RE administrative divisions POI POI POI POI POI POI POI POI POI POI POI POI POI POI POI POI POI POI POI POI POI POI POI POI POI POI POI POI POI POI POI POI POI POI POI POI POI POI POI POI POI POI POI POI POI POI POI POI POI POI POI POI POI POI POI POI POI POI POI POI POI POI POI POI POI POI POI POI\n",
      "---\n",
      "spain EOP spain EOP italy POI spain RE country EOP portugal EOP EOS\n",
      "spain EOP spain POI spain RE contains POI spain RE contains EOP spain EOP contains EOP EOS EOP\n",
      "---\n",
      "córdoba EOP spain POI cordoba RE contains EOP vicente amigo EOP new york EOP EOS\n",
      "spain EOP australia POI australia RE contains EOP contains EOP EOS\n",
      "---\n",
      "hamden EOP connecticut POI hamden RE contains EOP EOS\n",
      "connecticut EOP connecticut EOP POI RE RE contains EOP EOS\n",
      "---\n",
      "cuyahoga county POI cleveland RE contains EOP cleveland EOP EOS\n",
      "suffolk county POI idaho RE contains EOP contains EOP EOS\n",
      "---\n",
      "kensico reservoir EOP westchester POI kensico reservoir RE contains EOP EOS\n",
      "mount college EOP utah POI POI RE RE contains EOP EOS\n",
      "---\n",
      "marshall rogers POI fremont RE place of death EOP batman EOP fremont EOP EOS\n",
      "frank EOP POI POI POI RE RE EOP EOP EOP RE RE EOP EOP EOP EOP\n",
      "---\n",
      "europe EOP barcelona EOP france POI italy RE country EOP marseille EOP italy EOP palermo EOP naples EOP sardinia EOP rome EOP florence EOP EOS\n",
      "europe POI spain RE contains POI contains RE contains EOP contains EOP contains EOP contains EOP contains EOP contains EOP EOP EOP\n",
      "---\n",
      "italy POI india RE country EOP india EOP indonesia EOP EOS\n",
      "germany EOP europe POI france RE contains EOP contains EOP EOS EOP\n",
      "---\n",
      "todi EOP orvieto EOP italy POI umbria RE contains EOP umbria EOP EOS\n",
      "austria EOP italy POI country RE contains POI contains RE contains EOP EOS\n",
      "---\n",
      "mark v hurd POI hewlett packard RE company EOP hewlett packard EOP EOS\n",
      "john b POI POI morgan RE RE company EOP EOP EOP EOP EOS\n",
      "---\n",
      "bihar EOP india POI bihar RE contains EOP EOS\n",
      "melbourne POI india RE country EOP australia POI melbourne RE administrative POI POI RE RE divisions POI EOS\n",
      "---\n",
      "israel POI lebanon RE country EOP lebanon EOP EOS\n",
      "syria EOP EOP EOP POI POI POI RE RE RE EOP EOP\n",
      "---\n",
      "puntland EOP somalia POI puntland RE contains EOP EOS\n",
      "indonesia EOP afghanistan POI indonesia RE contains EOP EOS\n",
      "---\n",
      "furman university EOP greenville POI furman university RE contains EOP EOS\n",
      "university university EOP EOP POI POI university RE contains EOP EOS\n",
      "---\n",
      "bain capital EOP peter weinberg EOP jeffrey rosen POI lazard RE company EOP lazard EOP EOS\n",
      "michael EOP EOP EOP EOP EOP EOP EOP EOP EOP EOP EOP EOP EOP EOP EOP EOP\n",
      "---\n",
      "mitch mcconnell POI kentucky RE place lived EOP kentucky EOP EOS\n",
      "senate EOP john blunt POI nebraska RE place lived EOP maine EOP EOS\n",
      "---\n",
      "delhi EOP india POI delhi RE contains EOP EOS\n",
      "delhi EOP new delhi POI country EOP india POI POI delhi RE contains EOP EOS\n",
      "---\n",
      "guantánamo bay EOP cuba POI guantanamo bay RE contains EOP marri EOP EOS\n",
      "saudi EOP EOP africa POI arabia RE contains EOP EOS EOP\n",
      "---\n",
      "israel POI west bank RE country EOP abbas EOP west bank EOP west bank EOP EOS\n",
      "israel POI west bank RE contains EOP west bank RE bank EOP west bank EOP bank\n",
      "---\n",
      "canada EOP germany POI spain RE country EOP spain EOP britain EOP EOS\n",
      "france EOP france EOP france EOP france EOP france RE contains EOP EOS EOP EOS\n",
      "---\n",
      "lake forest EOP lake michigan POI chicago RE country EOP chicago EOP EOS\n",
      "university university EOP EOP EOP POI POI POI RE RE contains EOP EOS\n",
      "---\n",
      "gregory nava EOP jennifer lopez EOP selena EOP ciudad juárez EOP mexico POI ciudad juarez RE contains EOP EOS\n",
      "australia EOP EOP EOP EOP EOP EOP EOP EOP EOP EOP RE EOP\n",
      "---\n",
      "washington POI iran RE country EOP iraq EOP syria EOP iran EOP iraq EOP EOS\n",
      "bush EOP iran EOP iran EOP iran POI contains POI contains RE contains RE contains EOP contains EOP\n",
      "---\n",
      "johns hopkins hospital EOP baltimore POI johns hopkins hospital RE contains EOP EOS\n",
      "university university EOP EOP EOP EOP POI POI RE RE RE contains\n",
      "---\n",
      "grant strate EOP grant strate EOP toronto POI canada RE country EOP canada EOP EOS\n",
      "canada EOP EOP canada RE nationality EOP EOP EOP EOP EOP EOP EOP EOP\n",
      "---\n"
     ]
    }
   ],
   "source": [
    "adjlResult = [' '.join([index2word[i] for i in sent if i != 0]) for sent in result]\n",
    "actResult = [' '.join([index2word[i] for i in sent if i != 0]) for sent in y_val]\n",
    "for i in range(395):\n",
    "    print(actResult[i])\n",
    "    print(adjlResult[i])\n",
    "    print('---')"
   ]
  },
  {
   "cell_type": "code",
   "execution_count": null,
   "metadata": {
    "collapsed": true
   },
   "outputs": [],
   "source": [
    "def predict_data(data, batch_size):\n",
    "   \"\"\"\n",
    "    输出预测结果（原始数据，未整理）\n",
    "    \"\"\"\n",
    "    data = np.array(data)\n",
    "    batches = [range(batch_size*i, min(len(data), batch_size*(i+1))) for i in range(len(data)//batch_size)]\n",
    "    p = model.predict(np.array(list(map(gen_x, data[batches[0]]))), verbose=1)\n",
    "    for i in batches[1:]:\n",
    "        print(min(i), 'done.')\n",
    "        p = np.vstack((p, model.predict(np.array(list(map(gen_x, data[i]))), verbose=1)))\n",
    "    return p"
   ]
  }
 ],
 "metadata": {
  "kernelspec": {
   "display_name": "Python 3",
   "language": "python",
   "name": "python3"
  },
  "language_info": {
   "codemirror_mode": {
    "name": "ipython",
    "version": 3
   },
   "file_extension": ".py",
   "mimetype": "text/x-python",
   "name": "python",
   "nbconvert_exporter": "python",
   "pygments_lexer": "ipython3",
   "version": "3.6.2"
  },
  "toc": {
   "colors": {
    "hover_highlight": "#DAA520",
    "navigate_num": "#000000",
    "navigate_text": "#333333",
    "running_highlight": "#FF0000",
    "selected_highlight": "#FFD700",
    "sidebar_border": "#EEEEEE",
    "wrapper_background": "#FFFFFF"
   },
   "moveMenuLeft": true,
   "nav_menu": {
    "height": "84px",
    "width": "252px"
   },
   "navigate_menu": true,
   "number_sections": true,
   "sideBar": true,
   "threshold": 4,
   "toc_cell": true,
   "toc_section_display": "block",
   "toc_window_display": false,
   "widenNotebook": false
  }
 },
 "nbformat": 4,
 "nbformat_minor": 2
}
