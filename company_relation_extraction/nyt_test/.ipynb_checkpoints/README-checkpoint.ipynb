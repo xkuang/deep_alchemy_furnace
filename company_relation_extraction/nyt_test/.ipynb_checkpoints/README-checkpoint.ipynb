{
 "cells": [
  {
   "cell_type": "markdown",
   "metadata": {
    "toc": "true"
   },
   "source": [
    "# Table of Contents\n",
    " <p><div class=\"lev1 toc-item\"><a href=\"#Experiment-1\" data-toc-modified-id=\"Experiment-1-1\"><span class=\"toc-item-num\">1&nbsp;&nbsp;</span>Experiment 1</a></div><div class=\"lev2 toc-item\"><a href=\"#实验-1\" data-toc-modified-id=\"实验-1-11\"><span class=\"toc-item-num\">1.1&nbsp;&nbsp;</span>实验 1</a></div><div class=\"lev2 toc-item\"><a href=\"#实验-2\" data-toc-modified-id=\"实验-2-12\"><span class=\"toc-item-num\">1.2&nbsp;&nbsp;</span>实验 2</a></div><div class=\"lev1 toc-item\"><a href=\"#Experiment-2\" data-toc-modified-id=\"Experiment-2-2\"><span class=\"toc-item-num\">2&nbsp;&nbsp;</span>Experiment 2</a></div><div class=\"lev2 toc-item\"><a href=\"#实验-1\" data-toc-modified-id=\"实验-1-21\"><span class=\"toc-item-num\">2.1&nbsp;&nbsp;</span>实验 1</a></div><div class=\"lev2 toc-item\"><a href=\"#实验-2\" data-toc-modified-id=\"实验-2-22\"><span class=\"toc-item-num\">2.2&nbsp;&nbsp;</span>实验 2</a></div><div class=\"lev2 toc-item\"><a href=\"#实验-3\" data-toc-modified-id=\"实验-3-23\"><span class=\"toc-item-num\">2.3&nbsp;&nbsp;</span>实验 3</a></div><div class=\"lev1 toc-item\"><a href=\"#Experiment-3\" data-toc-modified-id=\"Experiment-3-3\"><span class=\"toc-item-num\">3&nbsp;&nbsp;</span>Experiment 3</a></div><div class=\"lev2 toc-item\"><a href=\"#实验-1\" data-toc-modified-id=\"实验-1-31\"><span class=\"toc-item-num\">3.1&nbsp;&nbsp;</span>实验 1</a></div><div class=\"lev2 toc-item\"><a href=\"#实验-2\" data-toc-modified-id=\"实验-2-32\"><span class=\"toc-item-num\">3.2&nbsp;&nbsp;</span>实验 2</a></div><div class=\"lev1 toc-item\"><a href=\"#Experiment-Wordvector\" data-toc-modified-id=\"Experiment-Wordvector-4\"><span class=\"toc-item-num\">4&nbsp;&nbsp;</span>Experiment Wordvector</a></div><div class=\"lev1 toc-item\"><a href=\"#Experiment-Adjacency-List\" data-toc-modified-id=\"Experiment-Adjacency-List-5\"><span class=\"toc-item-num\">5&nbsp;&nbsp;</span>Experiment Adjacency List</a></div><div class=\"lev1 toc-item\"><a href=\"#Experiment-4\" data-toc-modified-id=\"Experiment-4-6\"><span class=\"toc-item-num\">6&nbsp;&nbsp;</span>Experiment 4</a></div><div class=\"lev2 toc-item\"><a href=\"#实验-1\" data-toc-modified-id=\"实验-1-61\"><span class=\"toc-item-num\">6.1&nbsp;&nbsp;</span>实验 1</a></div><div class=\"lev2 toc-item\"><a href=\"#实验-2\" data-toc-modified-id=\"实验-2-62\"><span class=\"toc-item-num\">6.2&nbsp;&nbsp;</span>实验 2</a></div><div class=\"lev2 toc-item\"><a href=\"#实验-3\" data-toc-modified-id=\"实验-3-63\"><span class=\"toc-item-num\">6.3&nbsp;&nbsp;</span>实验 3</a></div><div class=\"lev2 toc-item\"><a href=\"#实验-4\" data-toc-modified-id=\"实验-4-64\"><span class=\"toc-item-num\">6.4&nbsp;&nbsp;</span>实验 4</a></div><div class=\"lev2 toc-item\"><a href=\"#实验-5\" data-toc-modified-id=\"实验-5-65\"><span class=\"toc-item-num\">6.5&nbsp;&nbsp;</span>实验 5</a></div><div class=\"lev2 toc-item\"><a href=\"#实验-6\" data-toc-modified-id=\"实验-6-66\"><span class=\"toc-item-num\">6.6&nbsp;&nbsp;</span>实验 6</a></div><div class=\"lev1 toc-item\"><a href=\"#Experiment-5\" data-toc-modified-id=\"Experiment-5-7\"><span class=\"toc-item-num\">7&nbsp;&nbsp;</span>Experiment 5</a></div><div class=\"lev2 toc-item\"><a href=\"#实验-1\" data-toc-modified-id=\"实验-1-71\"><span class=\"toc-item-num\">7.1&nbsp;&nbsp;</span>实验 1</a></div><div class=\"lev2 toc-item\"><a href=\"#实验-2\" data-toc-modified-id=\"实验-2-72\"><span class=\"toc-item-num\">7.2&nbsp;&nbsp;</span>实验 2</a></div><div class=\"lev2 toc-item\"><a href=\"#实验-3\" data-toc-modified-id=\"实验-3-73\"><span class=\"toc-item-num\">7.3&nbsp;&nbsp;</span>实验 3</a></div><div class=\"lev2 toc-item\"><a href=\"#实验-4\" data-toc-modified-id=\"实验-4-74\"><span class=\"toc-item-num\">7.4&nbsp;&nbsp;</span>实验 4</a></div><div class=\"lev2 toc-item\"><a href=\"#实验-4-Pro\" data-toc-modified-id=\"实验-4-Pro-75\"><span class=\"toc-item-num\">7.5&nbsp;&nbsp;</span>实验 4 Pro</a></div><div class=\"lev3 toc-item\"><a href=\"#无-ATT\" data-toc-modified-id=\"无-ATT-751\"><span class=\"toc-item-num\">7.5.1&nbsp;&nbsp;</span>无 ATT</a></div><div class=\"lev3 toc-item\"><a href=\"#有-ATT\" data-toc-modified-id=\"有-ATT-752\"><span class=\"toc-item-num\">7.5.2&nbsp;&nbsp;</span>有 ATT</a></div>"
   ]
  },
  {
   "cell_type": "markdown",
   "metadata": {},
   "source": [
    "# Experiment 1"
   ]
  },
  {
   "cell_type": "markdown",
   "metadata": {},
   "source": [
    "## 实验 1"
   ]
  },
  {
   "cell_type": "markdown",
   "metadata": {},
   "source": [
    "- 记录缺失"
   ]
  },
  {
   "cell_type": "markdown",
   "metadata": {},
   "source": [
    "## 实验 2"
   ]
  },
  {
   "cell_type": "markdown",
   "metadata": {},
   "source": [
    "- 使用邻接表表示实体关系，对应词类似于摘要生成来生成实体关系对\n",
    "- 效果很差"
   ]
  },
  {
   "cell_type": "markdown",
   "metadata": {},
   "source": [
    "# Experiment 2"
   ]
  },
  {
   "cell_type": "markdown",
   "metadata": {},
   "source": [
    "## 实验 1"
   ]
  },
  {
   "cell_type": "markdown",
   "metadata": {},
   "source": [
    "- 使用词形归并等方式提升词向量质量，不过效果目测不明显\n",
    "- 使用邻接表表示实体关系，对应实体位置类似于摘要生成来生成实体关系对\n",
    "- 数据处理比较粗糙"
   ]
  },
  {
   "cell_type": "markdown",
   "metadata": {},
   "source": [
    "## 实验 2"
   ]
  },
  {
   "cell_type": "markdown",
   "metadata": {},
   "source": [
    "- 记录缺失"
   ]
  },
  {
   "cell_type": "markdown",
   "metadata": {},
   "source": [
    "## 实验 3"
   ]
  },
  {
   "cell_type": "markdown",
   "metadata": {},
   "source": [
    "- 减少类别，优化邻接表\n",
    "- 效果很差"
   ]
  },
  {
   "cell_type": "markdown",
   "metadata": {},
   "source": [
    "# Experiment 3"
   ]
  },
  {
   "cell_type": "markdown",
   "metadata": {},
   "source": [
    "## 实验 1"
   ]
  },
  {
   "cell_type": "markdown",
   "metadata": {},
   "source": [
    "- 调整输入输出长度\n",
    "- 效果很差"
   ]
  },
  {
   "cell_type": "markdown",
   "metadata": {},
   "source": [
    "## 实验 2"
   ]
  },
  {
   "cell_type": "markdown",
   "metadata": {},
   "source": [
    "- 去非测试集中的关系类型\n",
    "- 去超长句子及超长邻接表\n",
    "- 效果目测有一定提升，但还是很差"
   ]
  },
  {
   "cell_type": "markdown",
   "metadata": {},
   "source": [
    "# Experiment Wordvector"
   ]
  },
  {
   "cell_type": "markdown",
   "metadata": {},
   "source": [
    "- word2vec要比Glove效果好一点\n",
    "- 其他记录缺失"
   ]
  },
  {
   "cell_type": "markdown",
   "metadata": {},
   "source": [
    "# Experiment Adjacency List"
   ]
  },
  {
   "cell_type": "markdown",
   "metadata": {},
   "source": [
    "- 发现用实体位置表示邻接表时忽视很多重要细节\n",
    "- 去除重复关系，有重复关系时取实体间距离最小的关系\n",
    "- 按顺序排列实体关系对\n",
    "- 发现测试集去重复关系后除1例外均只有一个实体关系对"
   ]
  },
  {
   "cell_type": "markdown",
   "metadata": {},
   "source": [
    "# Experiment 4"
   ]
  },
  {
   "cell_type": "markdown",
   "metadata": {},
   "source": [
    "## 实验 1"
   ]
  },
  {
   "cell_type": "markdown",
   "metadata": {},
   "source": [
    "- 根据最新修改的邻接表进行实验(样例)\n",
    "    ```python\n",
    "    ti_adjacencyList[26] = [34, 'POI', 36, 'RE', 'founders', 'EOP']\n",
    "    ```\n",
    "- 效果如下：\n",
    "    \n",
    "      E1 Accuracy: \t\t0.275949\n",
    "      E2 Accuracy: \t\t0.217722\n",
    "      En Accuracy: \t\t0.083544\n",
    "      Triple Accuracy: \t0.078481"
   ]
  },
  {
   "cell_type": "markdown",
   "metadata": {},
   "source": [
    "## 实验 2"
   ]
  },
  {
   "cell_type": "markdown",
   "metadata": {},
   "source": [
    "- 针对实验结果中常出现两实体相同的情况，加入15维位置向量\n",
    "- 效果很差：\n",
    "        \n",
    "      E1 Accuracy: \t\t0.245570\n",
    "      E2 Accuracy: \t\t0.232911\n",
    "      En Accuracy: \t\t0.063291\n",
    "      Triple Accuracy: \t0.055696"
   ]
  },
  {
   "cell_type": "markdown",
   "metadata": {},
   "source": [
    "## 实验 3"
   ]
  },
  {
   "cell_type": "markdown",
   "metadata": {},
   "source": [
    "- 对文本进行去停用词操作\n",
    "- 分别进行了去173/666/891词的实验\n",
    "- 虽然有参数改动的影响，但总体效果很差"
   ]
  },
  {
   "cell_type": "markdown",
   "metadata": {},
   "source": [
    "## 实验 4"
   ]
  },
  {
   "cell_type": "markdown",
   "metadata": {},
   "source": [
    "- 在去666停用词下进行新邻接表的实验\n",
    "- 新实体关系对可表示为：实体1, 实体2, 关系, EOP\n",
    "- 效果如下：\n",
    "\n",
    "      E1 Accuracy: \t\t0.372152\n",
    "      E2 Accuracy: \t\t0.275949\n",
    "      En Accuracy: \t\t0.126582\n",
    "      Triple Accuracy: \t0.106329"
   ]
  },
  {
   "cell_type": "markdown",
   "metadata": {},
   "source": [
    "## 实验 5"
   ]
  },
  {
   "cell_type": "markdown",
   "metadata": {},
   "source": [
    "- 在去32停用词下进行新邻接表的实验\n",
    "- 效果如下：\n",
    "\n",
    "      E1 Accuracy: \t\t0.313924 \n",
    "      E2 Accuracy: \t\t0.268354\n",
    "      En Accuracy: \t\t0.116456\n",
    "      Triple Accuracy: \t0.000000"
   ]
  },
  {
   "cell_type": "markdown",
   "metadata": {},
   "source": [
    "## 实验 6"
   ]
  },
  {
   "cell_type": "markdown",
   "metadata": {},
   "source": [
    "- 在去666停用词下进行新邻接表的实验\n",
    "- 解码时改为 Bi-LSTM\n",
    "- 效果如下：\n",
    "\n",
    "      E1 Accuracy: \t\t0.372152\n",
    "      E2 Accuracy: \t\t0.313924\n",
    "      En Accuracy: \t\t0.136709\n",
    "      Triple Accuracy: \t0.111392"
   ]
  },
  {
   "cell_type": "markdown",
   "metadata": {},
   "source": [
    "# Experiment 5"
   ]
  },
  {
   "cell_type": "markdown",
   "metadata": {},
   "source": [
    "## 实验 1"
   ]
  },
  {
   "cell_type": "markdown",
   "metadata": {},
   "source": [
    "- 在去666停用词下进行新邻接表的实验\n",
    "- 加 Teacher Forcing\n",
    "- Greedy 1-best Search 效果如下：\n",
    "    \n",
    "      E1 Accuracy: \t\t0.184810\n",
    "      E2 Accuracy: \t\t0.146835\n",
    "      En Accuracy: \t\t0.040506\n",
    "      Triple Accuracy: \t0.017722\n",
    "- Beam Search 效果没有明显提升"
   ]
  },
  {
   "cell_type": "markdown",
   "metadata": {},
   "source": [
    "## 实验 2"
   ]
  },
  {
   "cell_type": "markdown",
   "metadata": {},
   "source": [
    "- 在去666停用词下进行位置三元组(A, R, B)的实验\n",
    "- 加 Teacher Forcing\n",
    "- Greedy 1-best Search 效果如下：\n",
    "    \n",
    "      E1 Accuracy: \t\t0.197468\n",
    "      E2 Accuracy: \t\t0.207595\n",
    "      En Accuracy: \t\t0.093671\n",
    "      Triple Accuracy: \t0.000000\n",
    "- Beam Search 效果如下：\n",
    "\n",
    "      E1 Accuracy: \t\t0.159494\n",
    "      E2 Accuracy: \t\t0.460759\n",
    "      En Accuracy: \t\t0.091139\n",
    "      Triple Accuracy: \t0.005063"
   ]
  },
  {
   "cell_type": "markdown",
   "metadata": {},
   "source": [
    "## 实验 3"
   ]
  },
  {
   "cell_type": "markdown",
   "metadata": {},
   "source": [
    "- 在去666停用词下进行词三元组的实验\n",
    "- 加 Teacher Forcing\n",
    "- 效果如下：\n",
    "    \n",
    "      Beam: \t\t\t   1\n",
    "      E1 Accuracy: \t\t0.291139\n",
    "      E2 Accuracy: \t\t0.281013\n",
    "      En Accuracy: \t\t0.139241\n",
    "      Triple Accuracy: \t0.113924"
   ]
  },
  {
   "cell_type": "markdown",
   "metadata": {},
   "source": [
    "## 实验 4"
   ]
  },
  {
   "cell_type": "markdown",
   "metadata": {},
   "source": [
    "- 在与6.6相同的数据中进行词三元组的实验\n",
    "- 加 Teacher Forcing\n",
    "- 效果如下：\n",
    "    \n",
    "      Beam:                1\n",
    "      E1 Accuracy: \t\t0.305556\n",
    "      E2 Accuracy: \t\t0.239899\n",
    "      En Accuracy: \t\t0.118687\n",
    "      Re Accuracy: \t\t0.121212\n",
    "      Triple Accuracy: \t0.027778\n",
    "- BiLSTM解码就是个坑，注意！"
   ]
  },
  {
   "cell_type": "markdown",
   "metadata": {},
   "source": [
    "## 实验 4 Pro"
   ]
  },
  {
   "cell_type": "markdown",
   "metadata": {},
   "source": [
    "### 无 ATT"
   ]
  },
  {
   "cell_type": "markdown",
   "metadata": {},
   "source": [
    "- 除解码采用LSTM外与实验4相同\n",
    "- 效果如下(False)：\n",
    "        \n",
    "      Beam: \t\t\t1\n",
    "      E1 Accuracy: \t\t0.343434\n",
    "      E2 Accuracy: \t\t0.320707\n",
    "      En Accuracy: \t\t0.194444\n",
    "      Re Accuracy: \t\t0.500000\n",
    "      Triple Accuracy: \t0.128788\n",
    "- 效果如下（True)：\n"
   ]
  },
  {
   "cell_type": "markdown",
   "metadata": {},
   "source": [
    "### 有 ATT"
   ]
  },
  {
   "cell_type": "markdown",
   "metadata": {},
   "source": [
    "- 模型结构与 news_summarizer 类似\n",
    "- 效果如下(False)：\n",
    "- 效果如下（True)：\n",
    "\n"
   ]
  }
 ],
 "metadata": {
  "kernelspec": {
   "display_name": "Python 3",
   "language": "python",
   "name": "python3"
  },
  "language_info": {
   "codemirror_mode": {
    "name": "ipython",
    "version": 3
   },
   "file_extension": ".py",
   "mimetype": "text/x-python",
   "name": "python",
   "nbconvert_exporter": "python",
   "pygments_lexer": "ipython3",
   "version": "3.6.2"
  },
  "toc": {
   "colors": {
    "hover_highlight": "#DAA520",
    "navigate_num": "#000000",
    "navigate_text": "#333333",
    "running_highlight": "#FF0000",
    "selected_highlight": "#FFD700",
    "sidebar_border": "#EEEEEE",
    "wrapper_background": "#FFFFFF"
   },
   "moveMenuLeft": true,
   "nav_menu": {
    "height": "336px",
    "width": "252px"
   },
   "navigate_menu": true,
   "number_sections": true,
   "sideBar": true,
   "threshold": 4,
   "toc_cell": true,
   "toc_section_display": "block",
   "toc_window_display": true,
   "widenNotebook": false
  }
 },
 "nbformat": 4,
 "nbformat_minor": 2
}
