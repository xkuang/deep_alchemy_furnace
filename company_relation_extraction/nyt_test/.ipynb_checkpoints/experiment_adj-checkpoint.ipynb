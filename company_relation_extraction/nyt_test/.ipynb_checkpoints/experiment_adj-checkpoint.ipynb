{
 "cells": [
  {
   "cell_type": "markdown",
   "metadata": {
    "toc": "true"
   },
   "source": [
    "# Table of Contents\n",
    " <p><div class=\"lev1 toc-item\"><a href=\"#Data-Preprocessing\" data-toc-modified-id=\"Data-Preprocessing-1\"><span class=\"toc-item-num\">1&nbsp;&nbsp;</span>Data Preprocessing</a></div><div class=\"lev2 toc-item\"><a href=\"#Load-Data\" data-toc-modified-id=\"Load-Data-11\"><span class=\"toc-item-num\">1.1&nbsp;&nbsp;</span>Load Data</a></div><div class=\"lev3 toc-item\"><a href=\"#Load-Train-Data\" data-toc-modified-id=\"Load-Train-Data-111\"><span class=\"toc-item-num\">1.1.1&nbsp;&nbsp;</span>Load Train Data</a></div><div class=\"lev3 toc-item\"><a href=\"#Train-Data-Sample\" data-toc-modified-id=\"Train-Data-Sample-112\"><span class=\"toc-item-num\">1.1.2&nbsp;&nbsp;</span>Train Data Sample</a></div><div class=\"lev3 toc-item\"><a href=\"#Load-Test-Data\" data-toc-modified-id=\"Load-Test-Data-113\"><span class=\"toc-item-num\">1.1.3&nbsp;&nbsp;</span>Load Test Data</a></div><div class=\"lev3 toc-item\"><a href=\"#Test-Data-Sample\" data-toc-modified-id=\"Test-Data-Sample-114\"><span class=\"toc-item-num\">1.1.4&nbsp;&nbsp;</span>Test Data Sample</a></div><div class=\"lev3 toc-item\"><a href=\"#Relation-Types\" data-toc-modified-id=\"Relation-Types-115\"><span class=\"toc-item-num\">1.1.5&nbsp;&nbsp;</span>Relation Types</a></div><div class=\"lev2 toc-item\"><a href=\"#Participle\" data-toc-modified-id=\"Participle-12\"><span class=\"toc-item-num\">1.2&nbsp;&nbsp;</span>Participle</a></div><div class=\"lev2 toc-item\"><a href=\"#Make-Adjacency-List\" data-toc-modified-id=\"Make-Adjacency-List-13\"><span class=\"toc-item-num\">1.3&nbsp;&nbsp;</span>Make Adjacency List</a></div><div class=\"lev3 toc-item\"><a href=\"#Make-Adjacency-List-of-Train-Data\" data-toc-modified-id=\"Make-Adjacency-List-of-Train-Data-131\"><span class=\"toc-item-num\">1.3.1&nbsp;&nbsp;</span>Make Adjacency List of Train Data</a></div><div class=\"lev3 toc-item\"><a href=\"#Make-Adjacency-List-of-Test-Data\" data-toc-modified-id=\"Make-Adjacency-List-of-Test-Data-132\"><span class=\"toc-item-num\">1.3.2&nbsp;&nbsp;</span>Make Adjacency List of Test Data</a></div><div class=\"lev1 toc-item\"><a href=\"#Build-Dateset\" data-toc-modified-id=\"Build-Dateset-2\"><span class=\"toc-item-num\">2&nbsp;&nbsp;</span>Build Dateset</a></div><div class=\"lev1 toc-item\"><a href=\"#Save-Dataset\" data-toc-modified-id=\"Save-Dataset-3\"><span class=\"toc-item-num\">3&nbsp;&nbsp;</span>Save Dataset</a></div><div class=\"lev1 toc-item\"><a href=\"#Checkpoint\" data-toc-modified-id=\"Checkpoint-4\"><span class=\"toc-item-num\">4&nbsp;&nbsp;</span>Checkpoint</a></div>"
   ]
  },
  {
   "cell_type": "markdown",
   "metadata": {},
   "source": [
    "# Data Preprocessing"
   ]
  },
  {
   "cell_type": "markdown",
   "metadata": {},
   "source": [
    "## Load Data"
   ]
  },
  {
   "cell_type": "markdown",
   "metadata": {
    "heading_collapsed": true
   },
   "source": [
    "### Load Train Data"
   ]
  },
  {
   "cell_type": "code",
   "execution_count": 5,
   "metadata": {
    "collapsed": true,
    "hidden": true
   },
   "outputs": [],
   "source": [
    "import json"
   ]
  },
  {
   "cell_type": "code",
   "execution_count": 6,
   "metadata": {
    "collapsed": true,
    "hidden": true
   },
   "outputs": [],
   "source": [
    "sentText = []\n",
    "relationMentions = []\n",
    "relationLabels = []\n",
    "entityMentions = []\n",
    "entityLabels = []\n",
    "em1Text = []\n",
    "em2Text = []\n",
    "\n",
    "with open(\"/Users/lizhn7/Downloads/DATA/nyt/train.json\") as f:\n",
    "    lines = f.readlines()\n",
    "\n",
    "for line in lines:\n",
    "    item = json.loads(line)\n",
    "    # Exclude \"None\" label\n",
    "    if not all(i['label'] == 'None' for i in item['relationMentions']):\n",
    "        sentText.append(item['sentText'])\n",
    "        relationMentions.append(item['relationMentions'])\n",
    "        entityMentions.append(item['entityMentions'])\n",
    "    \n",
    "relationLabels = [[i['label'].split('/')[-1] for i in rM] for rM in relationMentions]\n",
    "entityLabels = [[i['text'] for i in eM] for eM in entityMentions]\n",
    "em1Text = [[i['em1Text'] for i in rM] for rM in relationMentions]\n",
    "em2Text = [[i['em2Text'] for i in rM] for rM in relationMentions]"
   ]
  },
  {
   "cell_type": "code",
   "execution_count": 7,
   "metadata": {
    "collapsed": true,
    "hidden": true
   },
   "outputs": [],
   "source": [
    "# Clean words\n",
    "replaceDict = {\n",
    "               'ā': 'a', 'á': 'a', 'ǎ': 'a', 'à': 'a',\n",
    "               'ō': 'o', 'ó': 'o', 'ǒ': 'o', 'ò': 'o', 'ô': 'o', 'ö': 'o',\n",
    "               'ē': 'e', 'é': 'e', 'ě': 'e', 'è': 'e', \n",
    "               'ī': 'i', 'í': 'i', 'ǐ': 'i', 'ì': 'i',\n",
    "               'ū': 'u', 'ú': 'u', 'ǔ': 'u', 'ù': 'u', 'ü': 'u',\n",
    "               'ñ': 'n',\n",
    "               'É': 'E'\n",
    "              }\n",
    "em1Text = [[''.join([replaceDict.get(i, i) for i in e]) for e in eT] for eT in em1Text]\n",
    "em2Text = [[''.join([replaceDict.get(i, i) for i in e]) for e in eT] for eT in em2Text]"
   ]
  },
  {
   "cell_type": "markdown",
   "metadata": {
    "heading_collapsed": true
   },
   "source": [
    "### Train Data Sample"
   ]
  },
  {
   "cell_type": "code",
   "execution_count": 8,
   "metadata": {
    "hidden": true
   },
   "outputs": [
    {
     "data": {
      "text/plain": [
       "'But that spasm of irritation by a master intimidator was minor compared with what Bobby Fischer , the erratic former world chess champion , dished out in March at a news conference in Reykjavik , Iceland .'"
      ]
     },
     "execution_count": 8,
     "metadata": {},
     "output_type": "execute_result"
    }
   ],
   "source": [
    "sentText[0]"
   ]
  },
  {
   "cell_type": "code",
   "execution_count": 9,
   "metadata": {
    "hidden": true
   },
   "outputs": [
    {
     "data": {
      "text/plain": [
       "[{'em1Text': 'Bobby Fischer',\n",
       "  'em2Text': 'Iceland',\n",
       "  'label': '/people/person/nationality'},\n",
       " {'em1Text': 'Iceland',\n",
       "  'em2Text': 'Reykjavik',\n",
       "  'label': '/location/country/capital'},\n",
       " {'em1Text': 'Iceland',\n",
       "  'em2Text': 'Reykjavik',\n",
       "  'label': '/location/location/contains'},\n",
       " {'em1Text': 'Bobby Fischer',\n",
       "  'em2Text': 'Reykjavik',\n",
       "  'label': '/people/deceased_person/place_of_death'}]"
      ]
     },
     "execution_count": 9,
     "metadata": {},
     "output_type": "execute_result"
    }
   ],
   "source": [
    "relationMentions[0]"
   ]
  },
  {
   "cell_type": "code",
   "execution_count": 10,
   "metadata": {
    "hidden": true
   },
   "outputs": [
    {
     "data": {
      "text/plain": [
       "['nationality', 'capital', 'contains', 'place_of_death']"
      ]
     },
     "execution_count": 10,
     "metadata": {},
     "output_type": "execute_result"
    }
   ],
   "source": [
    "relationLabels[0]"
   ]
  },
  {
   "cell_type": "code",
   "execution_count": 11,
   "metadata": {
    "hidden": true
   },
   "outputs": [
    {
     "data": {
      "text/plain": [
       "[{'label': 'PERSON', 'start': 0, 'text': 'Bobby Fischer'},\n",
       " {'label': 'LOCATION', 'start': 1, 'text': 'Reykjavik'},\n",
       " {'label': 'LOCATION', 'start': 2, 'text': 'Iceland'}]"
      ]
     },
     "execution_count": 11,
     "metadata": {},
     "output_type": "execute_result"
    }
   ],
   "source": [
    "entityMentions[0]"
   ]
  },
  {
   "cell_type": "code",
   "execution_count": 12,
   "metadata": {
    "hidden": true
   },
   "outputs": [
    {
     "data": {
      "text/plain": [
       "['Bobby Fischer', 'Reykjavik', 'Iceland']"
      ]
     },
     "execution_count": 12,
     "metadata": {},
     "output_type": "execute_result"
    }
   ],
   "source": [
    "entityLabels[0]"
   ]
  },
  {
   "cell_type": "code",
   "execution_count": 13,
   "metadata": {
    "hidden": true
   },
   "outputs": [
    {
     "data": {
      "text/plain": [
       "['Bobby Fischer', 'Iceland', 'Iceland', 'Bobby Fischer']"
      ]
     },
     "execution_count": 13,
     "metadata": {},
     "output_type": "execute_result"
    }
   ],
   "source": [
    "em1Text[0]"
   ]
  },
  {
   "cell_type": "code",
   "execution_count": 14,
   "metadata": {
    "hidden": true
   },
   "outputs": [
    {
     "data": {
      "text/plain": [
       "['Iceland', 'Reykjavik', 'Reykjavik', 'Reykjavik']"
      ]
     },
     "execution_count": 14,
     "metadata": {},
     "output_type": "execute_result"
    }
   ],
   "source": [
    "em2Text[0]"
   ]
  },
  {
   "cell_type": "markdown",
   "metadata": {
    "heading_collapsed": true
   },
   "source": [
    "### Load Test Data"
   ]
  },
  {
   "cell_type": "code",
   "execution_count": 15,
   "metadata": {
    "collapsed": true,
    "hidden": true
   },
   "outputs": [],
   "source": [
    "t_sentText = []\n",
    "t_relationMentions = []\n",
    "t_relationLabels = []\n",
    "t_entityMentions = []\n",
    "t_entityLabels = []\n",
    "t_em1Text = []\n",
    "t_em2Text = []\n",
    "\n",
    "with open(\"/Users/lizhn7/Downloads/DATA/nyt/test.json\") as f:\n",
    "    lines = f.readlines()\n",
    "\n",
    "for line in lines:\n",
    "    item = json.loads(line)\n",
    "    t_sentText.append(item['sentText'])\n",
    "    t_relationMentions.append(item['relationMentions'])\n",
    "    t_entityMentions.append(item['entityMentions'])\n",
    "    \n",
    "t_relationLabels = [[i['label'].split('/')[-1] for i in rM] for rM in t_relationMentions]\n",
    "t_entityLabels = [[i['text'] for i in eM] for eM in t_entityMentions]\n",
    "t_em1Text = [[i['em1Text'] for i in rM] for rM in t_relationMentions]\n",
    "t_em2Text = [[i['em2Text'] for i in rM] for rM in t_relationMentions]"
   ]
  },
  {
   "cell_type": "code",
   "execution_count": 16,
   "metadata": {
    "collapsed": true,
    "hidden": true
   },
   "outputs": [],
   "source": [
    "# Clean words\n",
    "t_replaceDict = {\n",
    "               'ā': 'a', 'á': 'a', 'ǎ': 'a', 'à': 'a',\n",
    "               'ō': 'o', 'ó': 'o', 'ǒ': 'o', 'ò': 'o', 'ô': 'o', 'ö': 'o',\n",
    "               'ē': 'e', 'é': 'e', 'ě': 'e', 'è': 'e', \n",
    "               'ī': 'i', 'í': 'i', 'ǐ': 'i', 'ì': 'i',\n",
    "               'ū': 'u', 'ú': 'u', 'ǔ': 'u', 'ù': 'u', 'ü': 'u',\n",
    "               'ñ': 'n',\n",
    "               'É': 'E'\n",
    "              }\n",
    "t_em1Text = [[''.join([t_replaceDict.get(i, i) for i in e]) for e in eT] for eT in t_em1Text]\n",
    "t_em2Text = [[''.join([t_replaceDict.get(i, i) for i in e]) for e in eT] for eT in t_em2Text]\n",
    "t_entityLabels = [[''.join([t_replaceDict.get(i, i) for i in e]) for e in eT] for eT in t_entityLabels]"
   ]
  },
  {
   "cell_type": "markdown",
   "metadata": {},
   "source": [
    "###  Relation Types"
   ]
  },
  {
   "cell_type": "code",
   "execution_count": 24,
   "metadata": {
    "scrolled": false
   },
   "outputs": [
    {
     "data": {
      "text/plain": [
       "['administrative_divisions',\n",
       " 'place_of_birth',\n",
       " 'people',\n",
       " 'capital',\n",
       " 'place_founded',\n",
       " 'advisors',\n",
       " 'neighborhood_of',\n",
       " 'major_shareholder_of',\n",
       " 'location',\n",
       " 'country',\n",
       " 'place_lived',\n",
       " 'nationality',\n",
       " 'founders',\n",
       " 'teams',\n",
       " 'contains',\n",
       " 'major_shareholders',\n",
       " 'religion',\n",
       " 'industry',\n",
       " 'place_of_death',\n",
       " 'geographic_distribution',\n",
       " 'children',\n",
       " 'ethnicity',\n",
       " 'company',\n",
       " 'profession']"
      ]
     },
     "execution_count": 24,
     "metadata": {},
     "output_type": "execute_result"
    }
   ],
   "source": [
    "relationTypes = list(set([r for rl in relationLabels for r in rl]))\n",
    "relationTypes"
   ]
  },
  {
   "cell_type": "code",
   "execution_count": 25,
   "metadata": {
    "scrolled": true
   },
   "outputs": [
    {
     "data": {
      "text/plain": [
       "['country',\n",
       " 'place_lived',\n",
       " 'place_of_death',\n",
       " 'nationality',\n",
       " 'founders',\n",
       " 'administrative_divisions',\n",
       " 'place_of_birth',\n",
       " 'children',\n",
       " 'contains',\n",
       " 'capital',\n",
       " 'neighborhood_of',\n",
       " 'company']"
      ]
     },
     "execution_count": 25,
     "metadata": {},
     "output_type": "execute_result"
    }
   ],
   "source": [
    "t_relationTypes = list(set([r for rl in t_relationLabels for r in rl if r != 'None']))\n",
    "t_relationTypes"
   ]
  },
  {
   "cell_type": "markdown",
   "metadata": {},
   "source": [
    "## Participle"
   ]
  },
  {
   "cell_type": "code",
   "execution_count": 26,
   "metadata": {
    "collapsed": true
   },
   "outputs": [],
   "source": [
    "from nltk import regexp_tokenize"
   ]
  },
  {
   "cell_type": "code",
   "execution_count": 380,
   "metadata": {
    "collapsed": true
   },
   "outputs": [],
   "source": [
    "def cut(s):\n",
    "    \"\"\"\n",
    "    Participle\n",
    "    \"\"\"\n",
    "    pattern = r'''\n",
    "              (?x)                   # set flag to allow verbose regexps \n",
    "              (?:[A-Z]\\.)+           # abbreviations, e.g. U.S.A. \n",
    "              |\\d+(?:\\.\\d+)?%?       # numbers, incl. currency and percentages \n",
    "              |\\w+(?:[-&']\\w+)*       # words w/ optional internal hyphens/apostrophe  \n",
    "           '''  \n",
    "    return regexp_tokenize(s, pattern=pattern)"
   ]
  },
  {
   "cell_type": "code",
   "execution_count": 131,
   "metadata": {
    "collapsed": true
   },
   "outputs": [],
   "source": [
    "sentWords = [cut(s) for s in sentText]\n",
    "entlabWords = [[cut(s) for s in eL] for eL in entityLabels]\n",
    "em1Words = [[cut(s) for s in eL] for eL in em1Text]\n",
    "em2Words = [[cut(s) for s in eL] for eL in em2Text]\n",
    "t_sentWords = [cut(s) for s in t_sentText]\n",
    "t_entlabWords = [[cut(s) for s in eL] for eL in t_entityLabels]\n",
    "t_em1Words = [[cut(s) for s in eL] for eL in t_em1Text]\n",
    "t_em2Words = [[cut(s) for s in eL] for eL in t_em2Text]"
   ]
  },
  {
   "cell_type": "code",
   "execution_count": 29,
   "metadata": {
    "collapsed": true
   },
   "outputs": [],
   "source": [
    "#MAX_SENT_LEN = 120\n",
    "#AX_ADJL_LEN = 20"
   ]
  },
  {
   "cell_type": "code",
   "execution_count": 30,
   "metadata": {
    "collapsed": true
   },
   "outputs": [],
   "source": [
    "#len([i for i, j in enumerate(sentWords) if len(j) > 120])\n",
    "#max(len(j) for i, j in enumerate(t_sentWords) if len(j) > 80)"
   ]
  },
  {
   "cell_type": "markdown",
   "metadata": {},
   "source": [
    "## Make Adjacency List"
   ]
  },
  {
   "cell_type": "markdown",
   "metadata": {},
   "source": [
    "### Make Adjacency List of Train Data"
   ]
  },
  {
   "cell_type": "code",
   "execution_count": 374,
   "metadata": {
    "collapsed": true
   },
   "outputs": [],
   "source": [
    "i_entityLabels = []\n",
    "for i in range(len(sentWords)):\n",
    "    eL = []\n",
    "    sDict = list(enumerate(sentWords[i]))\n",
    "    j = 0\n",
    "    for item in entlabWords[i]:\n",
    "        el = []\n",
    "        for e in item:\n",
    "            while j < len(sDict):\n",
    "                if e == sDict[j][1]:\n",
    "                    el.append(sDict[j][0])\n",
    "                    j += 1\n",
    "                    break\n",
    "                j += 1\n",
    "        eL.append(el)\n",
    "    i_entityLabels.append(eL)"
   ]
  },
  {
   "cell_type": "code",
   "execution_count": 337,
   "metadata": {
    "collapsed": true
   },
   "outputs": [],
   "source": [
    "from collections import Counter"
   ]
  },
  {
   "cell_type": "code",
   "execution_count": 352,
   "metadata": {
    "collapsed": true
   },
   "outputs": [],
   "source": [
    "i_trueLables = [[i for i, j in enumerate(rl) if j != 'None'] for rl in relationLabels]\n",
    "trueMentions = [[j for i, j in enumerate(rl) if j['label'] != 'None'] for rl in relationMentions]\n",
    "pad = ['POI', 'RE', 'EOP']\n",
    "adjacencyList = []\n",
    "for n in range(len(sentWords)): \n",
    "    e1 = []\n",
    "    e2 = []\n",
    "    aL = []\n",
    "    for l in i_trueLables[n]:\n",
    "        for item in i_entityLabels[n]:\n",
    "            if ' '.join([sentWords[n][i] for i in item]) == ' '.join(em1Words[n][l]):\n",
    "                e1.append(item[0])\n",
    "            if ' '.join([sentWords[n][i] for i in item]) == ' '.join(em2Words[n][l]):\n",
    "                e2.append(item[0])\n",
    "        c = [(a, b) for a in e1 for b in e2]\n",
    "        r = c[min([(i, abs(j[0]-j[1])) for i, j in enumerate(c)], key=lambda x: x[-1])[0]]\n",
    "        aL = aL + [r[0], pad[0], r[1], pad[1], relationLabels[n][l], pad[2]]\n",
    "    adjacencyList.append(aL)\n",
    "\n",
    "# Modify \n",
    "#adjacencyList[26] = [34, 'POI', 36, 'RE', 'founders', 'EOP']\n",
    "#adjacencyList[191] = [22, 'POI', 36, 'RE', 'country', 'EOP', 33, 'POI', 36, 'RE', 'country', 'EOP']"
   ]
  },
  {
   "cell_type": "code",
   "execution_count": 346,
   "metadata": {},
   "outputs": [],
   "source": [
    "adjacencyList = []\n",
    "sentence = []\n",
    "new_entityLabels = []\n",
    "newi_entityLabels = []\n",
    "padDict = ['POI', 'RE', 'EOP']\n",
    "for i in range(len(sentWords)):\n",
    "    # POI means pointer\n",
    "    # RE means relation label\n",
    "    # EOP means end of pointer   \n",
    "    aL = ''\n",
    "    for j in entityLabels[i]:\n",
    "        dictEn = dict((b, a) for a, b in enumerate(entityLabels[i]))\n",
    "        # Exclude further \"None\" label\n",
    "        if j in em1Text[i]:#and j in [it['em1Text'] for it in relationMentions[i] if it['label'].split('/')[-1] in t_relationTypes]:\n",
    "            aL += j\n",
    "            in_em1Text = [dictEn[item] for item in em1Text[i]]\n",
    "            in_em2Text = [dictEn[item] for item in em2Text[i]]\n",
    "            new_em1 = [m[0] for m in sorted(list(zip(in_em1Text, in_em2Text)))]\n",
    "            new_em2 = [n[1] for n in sorted(list(zip(in_em1Text, in_em2Text)))]\n",
    "            new_em1 = [entityLabels[i][e1] for e1 in new_em1]\n",
    "            new_em2 = [entityLabels[i][e2] for e2 in new_em2]\n",
    "            listRe = list(zip(zip(in_em1Text, in_em2Text), relationLabels[i]))\n",
    "            new_rel = [r[-1] for r in sorted(listRe, key=lambda z: z[0])]\n",
    "            for item in enumerate(new_em1):\n",
    "                if j == item[1] and new_rel[item[0]] in t_relationTypes:\n",
    "                    aL = aL + ' POI ' + new_em2[item[0]] + ' RE ' + new_rel[item[0]]\n",
    "            aL += ' EOP '\n",
    "    #if len(sentWords[i]) > MAX_SENT_LEN: #or len(aL.split()) > MAX_ADJL_LEN:\n",
    "    #    aL = ''\n",
    "    if aL != '':\n",
    "        adjacencyList.append(aL)\n",
    "        sentence.append(sentWords[i])\n",
    "        new_entityLabels.append(entlabWords[i])\n",
    "        newi_entityLabels.append(i_entityLabels[i])"
   ]
  },
  {
   "cell_type": "code",
   "execution_count": 347,
   "metadata": {
    "collapsed": true
   },
   "outputs": [],
   "source": [
    "i_adjacencyList = []\n",
    "for i in range(len(adjacencyList)):\n",
    "    aL = []\n",
    "    replace = dict(zip(sum(new_entityLabels[i], []), sum(newi_entityLabels[i], [])))\n",
    "    aL = [replace[j] if j not in padDict+t_relationTypes else j for j in cut(adjacencyList[i])]\n",
    "    #aL = [s if type(s) == str else str(s) for s in aL]\n",
    "    i_adjacencyList.append(aL)"
   ]
  },
  {
   "cell_type": "code",
   "execution_count": 168,
   "metadata": {
    "collapsed": true
   },
   "outputs": [],
   "source": [
    "#[i for i in i_adjacencyList if type(i[-2]) == int]"
   ]
  },
  {
   "cell_type": "code",
   "execution_count": 24,
   "metadata": {
    "collapsed": true
   },
   "outputs": [],
   "source": [
    "#all(type(al[-2]) == int for al in i_adjacencyList)"
   ]
  },
  {
   "cell_type": "code",
   "execution_count": 19,
   "metadata": {
    "collapsed": true
   },
   "outputs": [],
   "source": [
    "#[i for i in i_adjacencyList if i[1] == 'POI']"
   ]
  },
  {
   "cell_type": "code",
   "execution_count": 20,
   "metadata": {
    "collapsed": true
   },
   "outputs": [],
   "source": [
    "#[eT[0] for eT in enumerate(em1Text) for i in eT[1] if i == 'Édith Piaf']"
   ]
  },
  {
   "cell_type": "code",
   "execution_count": 330,
   "metadata": {},
   "outputs": [
    {
     "data": {
      "text/plain": [
       "'When she visited New York , she stayed with friends in different neighborhoods -- Midtown and Inwood ; Brooklyn Heights and Fort Greene , Brooklyn ; and Rego Park , Queens -- so she knew she would be happy living anywhere , as long as she had a decent subway commute to Manhattan .'"
      ]
     },
     "execution_count": 330,
     "metadata": {},
     "output_type": "execute_result"
    }
   ],
   "source": [
    "sentText[666]"
   ]
  },
  {
   "cell_type": "code",
   "execution_count": 329,
   "metadata": {},
   "outputs": [
    {
     "data": {
      "text/plain": [
       "'When she visited New York she stayed with friends in different neighborhoods Midtown and Inwood Brooklyn Heights and Fort Greene Brooklyn and Rego Park Queens so she knew she would be happy living anywhere as long as she had a decent subway commute to Manhattan'"
      ]
     },
     "execution_count": 329,
     "metadata": {},
     "output_type": "execute_result"
    }
   ],
   "source": [
    "' '.join(sentWords[666])"
   ]
  },
  {
   "cell_type": "code",
   "execution_count": 328,
   "metadata": {},
   "outputs": [
    {
     "data": {
      "text/plain": [
       "['New York',\n",
       " 'Midtown',\n",
       " 'Inwood',\n",
       " 'Brooklyn Heights',\n",
       " 'Fort Greene',\n",
       " 'Brooklyn',\n",
       " 'Rego Park',\n",
       " 'Queens',\n",
       " 'Manhattan']"
      ]
     },
     "execution_count": 328,
     "metadata": {},
     "output_type": "execute_result"
    }
   ],
   "source": [
    "entityLabels[666]"
   ]
  },
  {
   "cell_type": "code",
   "execution_count": 375,
   "metadata": {},
   "outputs": [
    {
     "data": {
      "text/plain": [
       "[[], [], [], [], [], [], [], [], []]"
      ]
     },
     "execution_count": 375,
     "metadata": {},
     "output_type": "execute_result"
    }
   ],
   "source": [
    "i_entityLabels[666]"
   ]
  },
  {
   "cell_type": "code",
   "execution_count": 327,
   "metadata": {},
   "outputs": [
    {
     "data": {
      "text/plain": [
       "[{'label': 'LOCATION', 'start': 0, 'text': 'New York'},\n",
       " {'label': 'LOCATION', 'start': 1, 'text': 'Midtown'},\n",
       " {'label': 'LOCATION', 'start': 2, 'text': 'Inwood'},\n",
       " {'label': 'LOCATION', 'start': 3, 'text': 'Brooklyn Heights'},\n",
       " {'label': 'LOCATION', 'start': 4, 'text': 'Fort Greene'},\n",
       " {'label': 'LOCATION', 'start': 5, 'text': 'Brooklyn'},\n",
       " {'label': 'LOCATION', 'start': 6, 'text': 'Rego Park'},\n",
       " {'label': 'LOCATION', 'start': 7, 'text': 'Queens'},\n",
       " {'label': 'LOCATION', 'start': 8, 'text': 'Manhattan'}]"
      ]
     },
     "execution_count": 327,
     "metadata": {},
     "output_type": "execute_result"
    }
   ],
   "source": [
    "entityMentions[666]"
   ]
  },
  {
   "cell_type": "code",
   "execution_count": 348,
   "metadata": {},
   "outputs": [
    {
     "data": {
      "text/plain": [
       "'New York POI Queens RE contains POI Manhattan RE contains EOP Inwood POI Manhattan RE neighborhood_of EOP Brooklyn Heights POI Brooklyn RE neighborhood_of EOP Fort Greene POI Brooklyn RE neighborhood_of EOP Brooklyn POI Brooklyn Heights RE contains POI Fort Greene RE contains EOP Rego Park POI Queens RE neighborhood_of EOP Queens POI Rego Park RE contains EOP Manhattan POI Inwood RE contains EOP '"
      ]
     },
     "execution_count": 348,
     "metadata": {},
     "output_type": "execute_result"
    }
   ],
   "source": [
    "adjacencyList[666]"
   ]
  },
  {
   "cell_type": "code",
   "execution_count": 357,
   "metadata": {},
   "outputs": [
    {
     "name": "stdout",
     "output_type": "stream",
     "text": [
      "[3, 4, 'POI', 24, 'RE', 'contains', 'POI', 44, 'RE', 'contains', 'EOP', 14, 'POI', 44, 'RE', 'neighborhood_of', 'EOP', 20, 16, 'POI', 20, 'RE', 'neighborhood_of', 'EOP', 18, 19, 'POI', 20, 'RE', 'neighborhood_of', 'EOP', 20, 'POI', 20, 16, 'RE', 'contains', 'POI', 18, 19, 'RE', 'contains', 'EOP', 22, 23, 'POI', 24, 'RE', 'neighborhood_of', 'EOP', 24, 'POI', 22, 23, 'RE', 'contains', 'EOP', 44, 'POI', 14, 'RE', 'contains', 'EOP']\n"
     ]
    }
   ],
   "source": [
    "print(i_adjacencyList[666])"
   ]
  },
  {
   "cell_type": "code",
   "execution_count": 355,
   "metadata": {},
   "outputs": [
    {
     "name": "stdout",
     "output_type": "stream",
     "text": [
      "[20, 'POI', 15, 'RE', 'contains', 'EOP', 20, 'POI', 22, 'RE', 'contains', 'EOP', 14, 'POI', 15, 'RE', 'neighborhood_of', 'EOP', 14, 'POI', 14, 'RE', 'contains', 'EOP', 14, 'POI', 14, 'RE', 'contains', 'EOP', 14, 'POI', 14, 'RE', 'contains', 'EOP', 24, 'POI', 24, 'RE', 'neighborhood_of', 'EOP', 20, 'POI', 20, 'RE', 'neighborhood_of', 'EOP', 20, 'POI', 20, 'RE', 'contains', 'EOP', 20, 'POI', 20, 'RE', 'neighborhood_of', 'EOP']\n"
     ]
    }
   ],
   "source": [
    "print(adjacencyList[666])"
   ]
  },
  {
   "cell_type": "code",
   "execution_count": 349,
   "metadata": {},
   "outputs": [
    {
     "data": {
      "text/plain": [
       "[[3, 4], [12], [14], [15, 16], [18, 19], [20], [22, 23], [24], [44]]"
      ]
     },
     "execution_count": 349,
     "metadata": {},
     "output_type": "execute_result"
    }
   ],
   "source": [
    "i_entityLabels[666]"
   ]
  },
  {
   "cell_type": "code",
   "execution_count": 323,
   "metadata": {},
   "outputs": [
    {
     "data": {
      "text/plain": [
       "[{'em1Text': 'Brooklyn',\n",
       "  'em2Text': 'Brooklyn Heights',\n",
       "  'label': '/location/location/contains'},\n",
       " {'em1Text': 'Queens',\n",
       "  'em2Text': 'Rego Park',\n",
       "  'label': '/location/location/contains'},\n",
       " {'em1Text': 'Inwood',\n",
       "  'em2Text': 'Manhattan',\n",
       "  'label': '/location/neighborhood/neighborhood_of'},\n",
       " {'em1Text': 'Manhattan',\n",
       "  'em2Text': 'Inwood',\n",
       "  'label': '/location/location/contains'},\n",
       " {'em1Text': 'Brooklyn',\n",
       "  'em2Text': 'Fort Greene',\n",
       "  'label': '/location/location/contains'},\n",
       " {'em1Text': 'New York',\n",
       "  'em2Text': 'Manhattan',\n",
       "  'label': '/location/location/contains'},\n",
       " {'em1Text': 'Rego Park',\n",
       "  'em2Text': 'Queens',\n",
       "  'label': '/location/neighborhood/neighborhood_of'},\n",
       " {'em1Text': 'Brooklyn Heights',\n",
       "  'em2Text': 'Brooklyn',\n",
       "  'label': '/location/neighborhood/neighborhood_of'},\n",
       " {'em1Text': 'New York',\n",
       "  'em2Text': 'Queens',\n",
       "  'label': '/location/location/contains'},\n",
       " {'em1Text': 'Fort Greene',\n",
       "  'em2Text': 'Brooklyn',\n",
       "  'label': '/location/neighborhood/neighborhood_of'}]"
      ]
     },
     "execution_count": 323,
     "metadata": {},
     "output_type": "execute_result"
    }
   ],
   "source": [
    "relationMentions[666]"
   ]
  },
  {
   "cell_type": "code",
   "execution_count": 326,
   "metadata": {},
   "outputs": [
    {
     "data": {
      "text/plain": [
       "['contains',\n",
       " 'contains',\n",
       " 'neighborhood_of',\n",
       " 'contains',\n",
       " 'contains',\n",
       " 'contains',\n",
       " 'neighborhood_of',\n",
       " 'neighborhood_of',\n",
       " 'contains',\n",
       " 'neighborhood_of']"
      ]
     },
     "execution_count": 326,
     "metadata": {},
     "output_type": "execute_result"
    }
   ],
   "source": [
    "relationLabels[666]"
   ]
  },
  {
   "cell_type": "markdown",
   "metadata": {},
   "source": [
    "### Make Adjacency List of Test Data"
   ]
  },
  {
   "cell_type": "code",
   "execution_count": 301,
   "metadata": {
    "collapsed": true
   },
   "outputs": [],
   "source": [
    "# Clean words\n",
    "t_sentWords = [[''.join([t_replaceDict.get(i, i) for i in e]) for e in eT] for eT in t_sentWords]"
   ]
  },
  {
   "cell_type": "code",
   "execution_count": 302,
   "metadata": {
    "collapsed": true
   },
   "outputs": [],
   "source": [
    "ti_entityLabels = []\n",
    "for i in range(len(t_sentWords)):\n",
    "    eL = []\n",
    "    t_sDict = list(enumerate(t_sentWords[i]))\n",
    "    j = 0\n",
    "    for item in t_entlabWords[i]:\n",
    "        el = []\n",
    "        for e in item:\n",
    "            while j < len(t_sDict):\n",
    "                if e == t_sDict[j][1]:\n",
    "                    el.append(t_sDict[j][0])\n",
    "                    j += 1\n",
    "                    break\n",
    "                j += 1\n",
    "        eL.append(el)\n",
    "    ti_entityLabels.append(eL)"
   ]
  },
  {
   "cell_type": "code",
   "execution_count": 303,
   "metadata": {
    "collapsed": true
   },
   "outputs": [],
   "source": [
    "ti_trueLables = [[i for i, j in enumerate(rl) if j != 'None'] for rl in t_relationLabels]\n",
    "t_trueMentions = [[j for i, j in enumerate(rl) if j['label'] != 'None'] for rl in t_relationMentions]\n",
    "pad = ['POI', 'RE', 'EOP']\n",
    "t_adjacencyList = []\n",
    "for n in range(len(t_sentWords)): \n",
    "    e1 = []\n",
    "    e2 = []\n",
    "    aL = []\n",
    "    for l in ti_trueLables[n]:\n",
    "        for item in ti_entityLabels[n]:\n",
    "            if ' '.join([t_sentWords[n][i] for i in item]) == ' '.join(t_em1Words[n][l]):\n",
    "                e1.append(item[0])\n",
    "            if ' '.join([t_sentWords[n][i] for i in item]) == ' '.join(t_em2Words[n][l]):\n",
    "                e2.append(item[0])\n",
    "    c = [(a, b) for a in e1 for b in e2]\n",
    "    r = c[min([(i, abs(j[0]-j[1])) for i, j in enumerate(c)], key=lambda x: x[-1])[0]]\n",
    "    aL = aL + [r[0], pad[0], r[1], pad[1], t_relationLabels[n][l], pad[2]]\n",
    "    t_adjacencyList.append(aL)\n",
    "\n",
    "# Modify \n",
    "t_adjacencyList[26] = [34, 'POI', 36, 'RE', 'founders', 'EOP']\n",
    "t_adjacencyList[191] = [22, 'POI', 36, 'RE', 'country', 'EOP', 33, 'POI', 36, 'RE', 'country', 'EOP']"
   ]
  },
  {
   "cell_type": "code",
   "execution_count": 336,
   "metadata": {},
   "outputs": [
    {
     "data": {
      "text/plain": [
       "{'administrative_divisions',\n",
       " 'capital',\n",
       " 'children',\n",
       " 'company',\n",
       " 'contains',\n",
       " 'country',\n",
       " 'founders',\n",
       " 'nationality',\n",
       " 'neighborhood_of',\n",
       " 'place_lived',\n",
       " 'place_of_birth',\n",
       " 'place_of_death'}"
      ]
     },
     "execution_count": 336,
     "metadata": {},
     "output_type": "execute_result"
    }
   ],
   "source": [
    "set([i[4] for i in t_adjacencyList])"
   ]
  },
  {
   "cell_type": "code",
   "execution_count": 372,
   "metadata": {},
   "outputs": [
    {
     "data": {
      "text/plain": [
       "271"
      ]
     },
     "execution_count": 372,
     "metadata": {},
     "output_type": "execute_result"
    }
   ],
   "source": [
    "t_adjacencyList.index([20, 'POI', 32, 'RE', 'administrative_divisions', 'EOP'])"
   ]
  },
  {
   "cell_type": "code",
   "execution_count": 373,
   "metadata": {},
   "outputs": [
    {
     "data": {
      "text/plain": [
       "[{'em1Text': 'Giorgio', 'em2Text': 'Jalisco', 'label': 'None'},\n",
       " {'em1Text': 'Jalisco', 'em2Text': 'Giorgio', 'label': 'None'},\n",
       " {'em1Text': 'Giorgio', 'em2Text': 'Mexico', 'label': 'None'},\n",
       " {'em1Text': 'Mexico', 'em2Text': 'Giorgio', 'label': 'None'},\n",
       " {'em1Text': 'Mexico',\n",
       "  'em2Text': 'Jalisco',\n",
       "  'label': '/location/country/administrative_divisions'},\n",
       " {'em1Text': 'Jalisco', 'em2Text': 'Mexico', 'label': 'None'}]"
      ]
     },
     "execution_count": 373,
     "metadata": {},
     "output_type": "execute_result"
    }
   ],
   "source": [
    "t_relationMentions[271]"
   ]
  },
  {
   "cell_type": "code",
   "execution_count": 332,
   "metadata": {},
   "outputs": [
    {
     "data": {
      "text/plain": [
       "[[1, 'POI', 4, 'RE', 'place_lived', 'EOP'],\n",
       " [27, 'POI', 28, 'RE', 'capital', 'EOP'],\n",
       " [11, 'POI', 15, 'RE', 'place_lived', 'EOP'],\n",
       " [31, 'POI', 34, 'RE', 'contains', 'EOP'],\n",
       " [22, 'POI', 7, 'RE', 'country', 'EOP'],\n",
       " [17, 'POI', 15, 'RE', 'contains', 'EOP'],\n",
       " [4, 'POI', 10, 'RE', 'company', 'EOP'],\n",
       " [48, 'POI', 46, 'RE', 'contains', 'EOP'],\n",
       " [29, 'POI', 25, 'RE', 'contains', 'EOP'],\n",
       " [25, 'POI', 28, 'RE', 'company', 'EOP'],\n",
       " [34, 'POI', 32, 'RE', 'country', 'EOP'],\n",
       " [25, 'POI', 21, 'RE', 'contains', 'EOP'],\n",
       " [31, 'POI', 10, 'RE', 'country', 'EOP'],\n",
       " [12, 'POI', 13, 'RE', 'country', 'EOP'],\n",
       " [18, 'POI', 14, 'RE', 'contains', 'EOP'],\n",
       " [12, 'POI', 15, 'RE', 'nationality', 'EOP'],\n",
       " [50, 'POI', 48, 'RE', 'contains', 'EOP'],\n",
       " [37, 'POI', 18, 'RE', 'country', 'EOP'],\n",
       " [18, 'POI', 0, 'RE', 'contains', 'EOP'],\n",
       " [39, 'POI', 13, 'RE', 'country', 'EOP'],\n",
       " [11, 'POI', 7, 'RE', 'children', 'EOP'],\n",
       " [57, 'POI', 15, 'RE', 'country', 'EOP'],\n",
       " [13, 'POI', 21, 'RE', 'country', 'EOP'],\n",
       " [2, 'POI', 29, 'RE', 'country', 'EOP'],\n",
       " [22, 'POI', 19, 'RE', 'contains', 'EOP'],\n",
       " [13, 'POI', 12, 'RE', 'contains', 'EOP'],\n",
       " [34, 'POI', 36, 'RE', 'founders', 'EOP'],\n",
       " [13, 'POI', 16, 'RE', 'nationality', 'EOP'],\n",
       " [78, 'POI', 46, 'RE', 'country', 'EOP'],\n",
       " [3, 'POI', 1, 'RE', 'country', 'EOP'],\n",
       " [19, 'POI', 15, 'RE', 'company', 'EOP'],\n",
       " [36, 'POI', 33, 'RE', 'contains', 'EOP'],\n",
       " [20, 'POI', 19, 'RE', 'contains', 'EOP'],\n",
       " [7, 'POI', 14, 'RE', 'place_lived', 'EOP'],\n",
       " [12, 'POI', 10, 'RE', 'contains', 'EOP'],\n",
       " [3, 'POI', 2, 'RE', 'contains', 'EOP'],\n",
       " [9, 'POI', 10, 'RE', 'country', 'EOP'],\n",
       " [10, 'POI', 5, 'RE', 'contains', 'EOP'],\n",
       " [105, 'POI', 119, 'RE', 'country', 'EOP'],\n",
       " [9, 'POI', 13, 'RE', 'place_lived', 'EOP'],\n",
       " [35, 'POI', 40, 'RE', 'company', 'EOP'],\n",
       " [4, 'POI', 3, 'RE', 'contains', 'EOP'],\n",
       " [7, 'POI', 0, 'RE', 'founders', 'EOP'],\n",
       " [1, 'POI', 4, 'RE', 'place_lived', 'EOP'],\n",
       " [31, 'POI', 38, 'RE', 'company', 'EOP'],\n",
       " [8, 'POI', 12, 'RE', 'country', 'EOP'],\n",
       " [15, 'POI', 20, 'RE', 'nationality', 'EOP'],\n",
       " [27, 'POI', 20, 'RE', 'country', 'EOP'],\n",
       " [15, 'POI', 13, 'RE', 'contains', 'EOP'],\n",
       " [4, 'POI', 3, 'RE', 'contains', 'EOP'],\n",
       " [18, 'POI', 17, 'RE', 'contains', 'EOP'],\n",
       " [53, 'POI', 44, 'RE', 'contains', 'EOP'],\n",
       " [18, 'POI', 19, 'RE', 'country', 'EOP'],\n",
       " [21, 'POI', 18, 'RE', 'contains', 'EOP'],\n",
       " [24, 'POI', 23, 'RE', 'contains', 'EOP'],\n",
       " [13, 'POI', 8, 'RE', 'contains', 'EOP'],\n",
       " [10, 'POI', 20, 'RE', 'country', 'EOP'],\n",
       " [13, 'POI', 11, 'RE', 'contains', 'EOP'],\n",
       " [16, 'POI', 19, 'RE', 'country', 'EOP'],\n",
       " [13, 'POI', 11, 'RE', 'country', 'EOP'],\n",
       " [28, 'POI', 26, 'RE', 'contains', 'EOP'],\n",
       " [5, 'POI', 11, 'RE', 'contains', 'EOP'],\n",
       " [22, 'POI', 28, 'RE', 'country', 'EOP'],\n",
       " [7, 'POI', 10, 'RE', 'contains', 'EOP'],\n",
       " [7, 'POI', 6, 'RE', 'contains', 'EOP'],\n",
       " [16, 'POI', 23, 'RE', 'country', 'EOP'],\n",
       " [10, 'POI', 9, 'RE', 'contains', 'EOP'],\n",
       " [18, 'POI', 21, 'RE', 'neighborhood_of', 'EOP'],\n",
       " [1, 'POI', 5, 'RE', 'place_lived', 'EOP'],\n",
       " [13, 'POI', 12, 'RE', 'contains', 'EOP'],\n",
       " [17, 'POI', 21, 'RE', 'country', 'EOP'],\n",
       " [34, 'POI', 30, 'RE', 'contains', 'EOP'],\n",
       " [28, 'POI', 30, 'RE', 'country', 'EOP'],\n",
       " [34, 'POI', 33, 'RE', 'contains', 'EOP'],\n",
       " [5, 'POI', 7, 'RE', 'place_lived', 'EOP'],\n",
       " [4, 'POI', 7, 'RE', 'nationality', 'EOP'],\n",
       " [28, 'POI', 0, 'RE', 'country', 'EOP'],\n",
       " [13, 'POI', 33, 'RE', 'country', 'EOP'],\n",
       " [8, 'POI', 9, 'RE', 'country', 'EOP'],\n",
       " [16, 'POI', 11, 'RE', 'country', 'EOP'],\n",
       " [49, 'POI', 46, 'RE', 'contains', 'EOP'],\n",
       " [5, 'POI', 4, 'RE', 'contains', 'EOP'],\n",
       " [18, 'POI', 13, 'RE', 'nationality', 'EOP'],\n",
       " [11, 'POI', 15, 'RE', 'contains', 'EOP'],\n",
       " [17, 'POI', 13, 'RE', 'contains', 'EOP'],\n",
       " [5, 'POI', 4, 'RE', 'contains', 'EOP'],\n",
       " [1, 'POI', 24, 'RE', 'contains', 'EOP'],\n",
       " [17, 'POI', 14, 'RE', 'contains', 'EOP'],\n",
       " [20, 'POI', 14, 'RE', 'contains', 'EOP'],\n",
       " [18, 'POI', 21, 'RE', 'place_lived', 'EOP'],\n",
       " [25, 'POI', 23, 'RE', 'contains', 'EOP'],\n",
       " [16, 'POI', 14, 'RE', 'contains', 'EOP'],\n",
       " [19, 'POI', 18, 'RE', 'contains', 'EOP'],\n",
       " [37, 'POI', 40, 'RE', 'nationality', 'EOP'],\n",
       " [10, 'POI', 6, 'RE', 'contains', 'EOP'],\n",
       " [30, 'POI', 7, 'RE', 'capital', 'EOP'],\n",
       " [45, 'POI', 37, 'RE', 'contains', 'EOP'],\n",
       " [18, 'POI', 9, 'RE', 'contains', 'EOP'],\n",
       " [10, 'POI', 5, 'RE', 'nationality', 'EOP'],\n",
       " [35, 'POI', 12, 'RE', 'contains', 'EOP'],\n",
       " [19, 'POI', 1, 'RE', 'country', 'EOP'],\n",
       " [5, 'POI', 14, 'RE', 'company', 'EOP'],\n",
       " [0, 'POI', 4, 'RE', 'place_lived', 'EOP'],\n",
       " [10, 'POI', 4, 'RE', 'country', 'EOP'],\n",
       " [28, 'POI', 22, 'RE', 'contains', 'EOP'],\n",
       " [12, 'POI', 11, 'RE', 'contains', 'EOP'],\n",
       " [14, 'POI', 22, 'RE', 'company', 'EOP'],\n",
       " [2, 'POI', 16, 'RE', 'country', 'EOP'],\n",
       " [2, 'POI', 6, 'RE', 'place_lived', 'EOP'],\n",
       " [10, 'POI', 12, 'RE', 'country', 'EOP'],\n",
       " [9, 'POI', 18, 'RE', 'company', 'EOP'],\n",
       " [9, 'POI', 5, 'RE', 'country', 'EOP'],\n",
       " [16, 'POI', 20, 'RE', 'country', 'EOP'],\n",
       " [17, 'POI', 12, 'RE', 'country', 'EOP'],\n",
       " [18, 'POI', 6, 'RE', 'nationality', 'EOP'],\n",
       " [44, 'POI', 41, 'RE', 'nationality', 'EOP'],\n",
       " [16, 'POI', 5, 'RE', 'contains', 'EOP'],\n",
       " [33, 'POI', 13, 'RE', 'contains', 'EOP'],\n",
       " [6, 'POI', 12, 'RE', 'place_lived', 'EOP'],\n",
       " [12, 'POI', 9, 'RE', 'contains', 'EOP'],\n",
       " [24, 'POI', 27, 'RE', 'nationality', 'EOP'],\n",
       " [19, 'POI', 27, 'RE', 'company', 'EOP'],\n",
       " [23, 'POI', 22, 'RE', 'contains', 'EOP'],\n",
       " [46, 'POI', 41, 'RE', 'founders', 'EOP'],\n",
       " [22, 'POI', 25, 'RE', 'company', 'EOP'],\n",
       " [1, 'POI', 5, 'RE', 'place_lived', 'EOP'],\n",
       " [28, 'POI', 33, 'RE', 'contains', 'EOP'],\n",
       " [18, 'POI', 16, 'RE', 'contains', 'EOP'],\n",
       " [1, 'POI', 5, 'RE', 'company', 'EOP'],\n",
       " [17, 'POI', 23, 'RE', 'country', 'EOP'],\n",
       " [6, 'POI', 0, 'RE', 'nationality', 'EOP'],\n",
       " [35, 'POI', 32, 'RE', 'contains', 'EOP'],\n",
       " [5, 'POI', 6, 'RE', 'country', 'EOP'],\n",
       " [30, 'POI', 9, 'RE', 'country', 'EOP'],\n",
       " [20, 'POI', 19, 'RE', 'contains', 'EOP'],\n",
       " [8, 'POI', 5, 'RE', 'contains', 'EOP'],\n",
       " [17, 'POI', 35, 'RE', 'country', 'EOP'],\n",
       " [7, 'POI', 14, 'RE', 'company', 'EOP'],\n",
       " [0, 'POI', 2, 'RE', 'company', 'EOP'],\n",
       " [12, 'POI', 1, 'RE', 'contains', 'EOP'],\n",
       " [19, 'POI', 30, 'RE', 'contains', 'EOP'],\n",
       " [41, 'POI', 30, 'RE', 'country', 'EOP'],\n",
       " [0, 'POI', 10, 'RE', 'company', 'EOP'],\n",
       " [5, 'POI', 11, 'RE', 'country', 'EOP'],\n",
       " [11, 'POI', 6, 'RE', 'country', 'EOP'],\n",
       " [2, 'POI', 5, 'RE', 'place_lived', 'EOP'],\n",
       " [27, 'POI', 30, 'RE', 'place_lived', 'EOP'],\n",
       " [15, 'POI', 16, 'RE', 'country', 'EOP'],\n",
       " [6, 'POI', 12, 'RE', 'contains', 'EOP'],\n",
       " [13, 'POI', 12, 'RE', 'contains', 'EOP'],\n",
       " [17, 'POI', 15, 'RE', 'contains', 'EOP'],\n",
       " [28, 'POI', 25, 'RE', 'contains', 'EOP'],\n",
       " [10, 'POI', 19, 'RE', 'nationality', 'EOP'],\n",
       " [16, 'POI', 19, 'RE', 'administrative_divisions', 'EOP'],\n",
       " [38, 'POI', 32, 'RE', 'contains', 'EOP'],\n",
       " [3, 'POI', 15, 'RE', 'country', 'EOP'],\n",
       " [2, 'POI', 27, 'RE', 'contains', 'EOP'],\n",
       " [0, 'POI', 8, 'RE', 'company', 'EOP'],\n",
       " [37, 'POI', 42, 'RE', 'place_of_birth', 'EOP'],\n",
       " [12, 'POI', 8, 'RE', 'contains', 'EOP'],\n",
       " [5, 'POI', 3, 'RE', 'contains', 'EOP'],\n",
       " [43, 'POI', 41, 'RE', 'contains', 'EOP'],\n",
       " [10, 'POI', 14, 'RE', 'contains', 'EOP'],\n",
       " [3, 'POI', 10, 'RE', 'company', 'EOP'],\n",
       " [12, 'POI', 21, 'RE', 'contains', 'EOP'],\n",
       " [36, 'POI', 33, 'RE', 'contains', 'EOP'],\n",
       " [14, 'POI', 10, 'RE', 'contains', 'EOP'],\n",
       " [19, 'POI', 11, 'RE', 'founders', 'EOP'],\n",
       " [7, 'POI', 9, 'RE', 'contains', 'EOP'],\n",
       " [9, 'POI', 6, 'RE', 'contains', 'EOP'],\n",
       " [0, 'POI', 3, 'RE', 'nationality', 'EOP'],\n",
       " [20, 'POI', 19, 'RE', 'contains', 'EOP'],\n",
       " [19, 'POI', 3, 'RE', 'country', 'EOP'],\n",
       " [8, 'POI', 29, 'RE', 'country', 'EOP'],\n",
       " [16, 'POI', 10, 'RE', 'contains', 'EOP'],\n",
       " [11, 'POI', 0, 'RE', 'country', 'EOP'],\n",
       " [28, 'POI', 25, 'RE', 'contains', 'EOP'],\n",
       " [12, 'POI', 9, 'RE', 'contains', 'EOP'],\n",
       " [4, 'POI', 8, 'RE', 'place_lived', 'EOP'],\n",
       " [22, 'POI', 19, 'RE', 'contains', 'EOP'],\n",
       " [35, 'POI', 41, 'RE', 'country', 'EOP'],\n",
       " [30, 'POI', 32, 'RE', 'country', 'EOP'],\n",
       " [28, 'POI', 26, 'RE', 'contains', 'EOP'],\n",
       " [19, 'POI', 22, 'RE', 'country', 'EOP'],\n",
       " [2, 'POI', 5, 'RE', 'nationality', 'EOP'],\n",
       " [29, 'POI', 27, 'RE', 'contains', 'EOP'],\n",
       " [7, 'POI', 10, 'RE', 'place_lived', 'EOP'],\n",
       " [0, 'POI', 13, 'RE', 'company', 'EOP'],\n",
       " [8, 'POI', 7, 'RE', 'contains', 'EOP'],\n",
       " [14, 'POI', 17, 'RE', 'place_lived', 'EOP'],\n",
       " [18, 'POI', 19, 'RE', 'country', 'EOP'],\n",
       " [22,\n",
       "  'POI',\n",
       "  36,\n",
       "  'RE',\n",
       "  'country',\n",
       "  'EOP',\n",
       "  33,\n",
       "  'POI',\n",
       "  36,\n",
       "  'RE',\n",
       "  'country',\n",
       "  'EOP'],\n",
       " [9, 'POI', 15, 'RE', 'place_lived', 'EOP'],\n",
       " [37, 'POI', 38, 'RE', 'country', 'EOP'],\n",
       " [12, 'POI', 11, 'RE', 'contains', 'EOP'],\n",
       " [29, 'POI', 33, 'RE', 'contains', 'EOP'],\n",
       " [16, 'POI', 10, 'RE', 'contains', 'EOP'],\n",
       " [23, 'POI', 22, 'RE', 'contains', 'EOP'],\n",
       " [21, 'POI', 29, 'RE', 'company', 'EOP'],\n",
       " [10, 'POI', 13, 'RE', 'nationality', 'EOP'],\n",
       " [33, 'POI', 30, 'RE', 'contains', 'EOP'],\n",
       " [0, 'POI', 3, 'RE', 'company', 'EOP'],\n",
       " [17, 'POI', 40, 'RE', 'country', 'EOP'],\n",
       " [28, 'POI', 25, 'RE', 'country', 'EOP'],\n",
       " [25, 'POI', 27, 'RE', 'contains', 'EOP'],\n",
       " [94, 'POI', 63, 'RE', 'country', 'EOP'],\n",
       " [9, 'POI', 6, 'RE', 'contains', 'EOP'],\n",
       " [26, 'POI', 19, 'RE', 'country', 'EOP'],\n",
       " [19, 'POI', 16, 'RE', 'contains', 'EOP'],\n",
       " [11, 'POI', 10, 'RE', 'contains', 'EOP'],\n",
       " [16, 'POI', 33, 'RE', 'country', 'EOP'],\n",
       " [8, 'POI', 0, 'RE', 'contains', 'EOP'],\n",
       " [10, 'POI', 17, 'RE', 'company', 'EOP'],\n",
       " [33, 'POI', 35, 'RE', 'country', 'EOP'],\n",
       " [8, 'POI', 4, 'RE', 'contains', 'EOP'],\n",
       " [32, 'POI', 18, 'RE', 'contains', 'EOP'],\n",
       " [14, 'POI', 10, 'RE', 'contains', 'EOP'],\n",
       " [26, 'POI', 23, 'RE', 'contains', 'EOP'],\n",
       " [29, 'POI', 27, 'RE', 'contains', 'EOP'],\n",
       " [23, 'POI', 21, 'RE', 'contains', 'EOP'],\n",
       " [2, 'POI', 9, 'RE', 'country', 'EOP'],\n",
       " [12, 'POI', 11, 'RE', 'contains', 'EOP'],\n",
       " [19, 'POI', 18, 'RE', 'contains', 'EOP'],\n",
       " [9, 'POI', 8, 'RE', 'contains', 'EOP'],\n",
       " [30, 'POI', 27, 'RE', 'contains', 'EOP'],\n",
       " [8, 'POI', 11, 'RE', 'place_lived', 'EOP'],\n",
       " [7, 'POI', 6, 'RE', 'contains', 'EOP'],\n",
       " [26, 'POI', 17, 'RE', 'country', 'EOP'],\n",
       " [4, 'POI', 7, 'RE', 'contains', 'EOP'],\n",
       " [27, 'POI', 5, 'RE', 'country', 'EOP'],\n",
       " [0, 'POI', 9, 'RE', 'company', 'EOP'],\n",
       " [8, 'POI', 2, 'RE', 'country', 'EOP'],\n",
       " [5, 'POI', 3, 'RE', 'contains', 'EOP'],\n",
       " [31, 'POI', 33, 'RE', 'nationality', 'EOP'],\n",
       " [19, 'POI', 15, 'RE', 'country', 'EOP'],\n",
       " [16, 'POI', 10, 'RE', 'contains', 'EOP'],\n",
       " [20, 'POI', 23, 'RE', 'country', 'EOP'],\n",
       " [15, 'POI', 13, 'RE', 'contains', 'EOP'],\n",
       " [5, 'POI', 9, 'RE', 'contains', 'EOP'],\n",
       " [12, 'POI', 18, 'RE', 'place_lived', 'EOP'],\n",
       " [41, 'POI', 39, 'RE', 'contains', 'EOP'],\n",
       " [4, 'POI', 10, 'RE', 'company', 'EOP'],\n",
       " [13, 'POI', 12, 'RE', 'contains', 'EOP'],\n",
       " [13, 'POI', 21, 'RE', 'nationality', 'EOP'],\n",
       " [4, 'POI', 5, 'RE', 'country', 'EOP'],\n",
       " [16, 'POI', 19, 'RE', 'country', 'EOP'],\n",
       " [10, 'POI', 9, 'RE', 'contains', 'EOP'],\n",
       " [12, 'POI', 13, 'RE', 'country', 'EOP'],\n",
       " [10, 'POI', 12, 'RE', 'nationality', 'EOP'],\n",
       " [11, 'POI', 3, 'RE', 'contains', 'EOP'],\n",
       " [37, 'POI', 23, 'RE', 'country', 'EOP'],\n",
       " [28, 'POI', 25, 'RE', 'contains', 'EOP'],\n",
       " [33, 'POI', 31, 'RE', 'contains', 'EOP'],\n",
       " [11, 'POI', 24, 'RE', 'contains', 'EOP'],\n",
       " [35, 'POI', 41, 'RE', 'children', 'EOP'],\n",
       " [7, 'POI', 4, 'RE', 'contains', 'EOP'],\n",
       " [4, 'POI', 3, 'RE', 'contains', 'EOP'],\n",
       " [20, 'POI', 24, 'RE', 'place_lived', 'EOP'],\n",
       " [2, 'POI', 5, 'RE', 'place_lived', 'EOP'],\n",
       " [26, 'POI', 23, 'RE', 'contains', 'EOP'],\n",
       " [10, 'POI', 5, 'RE', 'contains', 'EOP'],\n",
       " [0, 'POI', 32, 'RE', 'place_of_death', 'EOP'],\n",
       " [20, 'POI', 6, 'RE', 'contains', 'EOP'],\n",
       " [7, 'POI', 13, 'RE', 'company', 'EOP'],\n",
       " [3, 'POI', 7, 'RE', 'place_lived', 'EOP'],\n",
       " [0, 'POI', 5, 'RE', 'nationality', 'EOP'],\n",
       " [28, 'POI', 23, 'RE', 'country', 'EOP'],\n",
       " [33, 'POI', 29, 'RE', 'contains', 'EOP'],\n",
       " [16, 'POI', 12, 'RE', 'contains', 'EOP'],\n",
       " [9, 'POI', 8, 'RE', 'country', 'EOP'],\n",
       " [7, 'POI', 4, 'RE', 'contains', 'EOP'],\n",
       " [20, 'POI', 32, 'RE', 'administrative_divisions', 'EOP'],\n",
       " [3, 'POI', 5, 'RE', 'country', 'EOP'],\n",
       " [33, 'POI', 32, 'RE', 'contains', 'EOP'],\n",
       " [12, 'POI', 15, 'RE', 'place_lived', 'EOP'],\n",
       " [22, 'POI', 19, 'RE', 'contains', 'EOP'],\n",
       " [15, 'POI', 10, 'RE', 'contains', 'EOP'],\n",
       " [5, 'POI', 4, 'RE', 'contains', 'EOP'],\n",
       " [8, 'POI', 6, 'RE', 'country', 'EOP'],\n",
       " [40, 'POI', 34, 'RE', 'contains', 'EOP'],\n",
       " [22, 'POI', 25, 'RE', 'place_lived', 'EOP'],\n",
       " [28, 'POI', 30, 'RE', 'contains', 'EOP'],\n",
       " [12, 'POI', 8, 'RE', 'company', 'EOP'],\n",
       " [16, 'POI', 14, 'RE', 'contains', 'EOP'],\n",
       " [15, 'POI', 11, 'RE', 'contains', 'EOP'],\n",
       " [6, 'POI', 5, 'RE', 'contains', 'EOP'],\n",
       " [12, 'POI', 11, 'RE', 'contains', 'EOP'],\n",
       " [5, 'POI', 22, 'RE', 'country', 'EOP'],\n",
       " [43, 'POI', 18, 'RE', 'country', 'EOP'],\n",
       " [3, 'POI', 14, 'RE', 'place_lived', 'EOP'],\n",
       " [0, 'POI', 23, 'RE', 'place_of_death', 'EOP'],\n",
       " [29, 'POI', 33, 'RE', 'country', 'EOP'],\n",
       " [12, 'POI', 16, 'RE', 'place_lived', 'EOP'],\n",
       " [9, 'POI', 11, 'RE', 'country', 'EOP'],\n",
       " [9, 'POI', 15, 'RE', 'company', 'EOP'],\n",
       " [17, 'POI', 16, 'RE', 'contains', 'EOP'],\n",
       " [4, 'POI', 7, 'RE', 'place_lived', 'EOP'],\n",
       " [12, 'POI', 11, 'RE', 'contains', 'EOP'],\n",
       " [15, 'POI', 26, 'RE', 'country', 'EOP'],\n",
       " [23, 'POI', 43, 'RE', 'country', 'EOP'],\n",
       " [15, 'POI', 12, 'RE', 'contains', 'EOP'],\n",
       " [17, 'POI', 25, 'RE', 'country', 'EOP'],\n",
       " [12, 'POI', 13, 'RE', 'country', 'EOP'],\n",
       " [6, 'POI', 4, 'RE', 'contains', 'EOP'],\n",
       " [27, 'POI', 29, 'RE', 'country', 'EOP'],\n",
       " [4, 'POI', 5, 'RE', 'country', 'EOP'],\n",
       " [0, 'POI', 18, 'RE', 'country', 'EOP'],\n",
       " [17, 'POI', 15, 'RE', 'contains', 'EOP'],\n",
       " [6, 'POI', 5, 'RE', 'contains', 'EOP'],\n",
       " [6, 'POI', 4, 'RE', 'contains', 'EOP'],\n",
       " [17, 'POI', 2, 'RE', 'company', 'EOP'],\n",
       " [9, 'POI', 21, 'RE', 'company', 'EOP'],\n",
       " [11, 'POI', 8, 'RE', 'contains', 'EOP'],\n",
       " [23, 'POI', 30, 'RE', 'country', 'EOP'],\n",
       " [14, 'POI', 15, 'RE', 'country', 'EOP'],\n",
       " [5, 'POI', 4, 'RE', 'contains', 'EOP'],\n",
       " [18, 'POI', 12, 'RE', 'country', 'EOP'],\n",
       " [7, 'POI', 5, 'RE', 'contains', 'EOP'],\n",
       " [9, 'POI', 8, 'RE', 'contains', 'EOP'],\n",
       " [7, 'POI', 6, 'RE', 'contains', 'EOP'],\n",
       " [12, 'POI', 3, 'RE', 'contains', 'EOP'],\n",
       " [6, 'POI', 12, 'RE', 'nationality', 'EOP'],\n",
       " [32, 'POI', 29, 'RE', 'contains', 'EOP'],\n",
       " [1, 'POI', 6, 'RE', 'contains', 'EOP'],\n",
       " [19, 'POI', 20, 'RE', 'country', 'EOP'],\n",
       " [0, 'POI', 6, 'RE', 'company', 'EOP'],\n",
       " [18, 'POI', 16, 'RE', 'contains', 'EOP'],\n",
       " [22, 'POI', 21, 'RE', 'contains', 'EOP'],\n",
       " [7, 'POI', 16, 'RE', 'contains', 'EOP'],\n",
       " [18, 'POI', 20, 'RE', 'country', 'EOP'],\n",
       " [2, 'POI', 0, 'RE', 'country', 'EOP'],\n",
       " [11, 'POI', 9, 'RE', 'contains', 'EOP'],\n",
       " [12, 'POI', 5, 'RE', 'place_lived', 'EOP'],\n",
       " [37, 'POI', 40, 'RE', 'place_lived', 'EOP'],\n",
       " [27, 'POI', 36, 'RE', 'company', 'EOP'],\n",
       " [35, 'POI', 8, 'RE', 'country', 'EOP'],\n",
       " [10, 'POI', 18, 'RE', 'country', 'EOP'],\n",
       " [15, 'POI', 10, 'RE', 'country', 'EOP'],\n",
       " [29, 'POI', 28, 'RE', 'contains', 'EOP'],\n",
       " [39, 'POI', 36, 'RE', 'contains', 'EOP'],\n",
       " [14, 'POI', 16, 'RE', 'contains', 'EOP'],\n",
       " [14, 'POI', 15, 'RE', 'country', 'EOP'],\n",
       " [38, 'POI', 39, 'RE', 'contains', 'EOP'],\n",
       " [8, 'POI', 11, 'RE', 'place_lived', 'EOP'],\n",
       " [19, 'POI', 16, 'RE', 'contains', 'EOP'],\n",
       " [8, 'POI', 7, 'RE', 'contains', 'EOP'],\n",
       " [40, 'POI', 39, 'RE', 'contains', 'EOP'],\n",
       " [31, 'POI', 43, 'RE', 'country', 'EOP'],\n",
       " [1, 'POI', 4, 'RE', 'place_lived', 'EOP'],\n",
       " [5, 'POI', 4, 'RE', 'contains', 'EOP'],\n",
       " [14, 'POI', 25, 'RE', 'company', 'EOP'],\n",
       " [3, 'POI', 6, 'RE', 'nationality', 'EOP'],\n",
       " [22, 'POI', 28, 'RE', 'company', 'EOP'],\n",
       " [16, 'POI', 13, 'RE', 'contains', 'EOP'],\n",
       " [9, 'POI', 6, 'RE', 'contains', 'EOP'],\n",
       " [1, 'POI', 4, 'RE', 'place_lived', 'EOP'],\n",
       " [10, 'POI', 16, 'RE', 'company', 'EOP'],\n",
       " [22, 'POI', 21, 'RE', 'contains', 'EOP'],\n",
       " [4, 'POI', 7, 'RE', 'company', 'EOP'],\n",
       " [16, 'POI', 5, 'RE', 'country', 'EOP'],\n",
       " [26, 'POI', 20, 'RE', 'contains', 'EOP'],\n",
       " [10, 'POI', 9, 'RE', 'contains', 'EOP'],\n",
       " [9, 'POI', 17, 'RE', 'company', 'EOP'],\n",
       " [32, 'POI', 28, 'RE', 'nationality', 'EOP'],\n",
       " [16, 'POI', 19, 'RE', 'place_lived', 'EOP'],\n",
       " [11, 'POI', 10, 'RE', 'nationality', 'EOP'],\n",
       " [7, 'POI', 5, 'RE', 'contains', 'EOP'],\n",
       " [11, 'POI', 7, 'RE', 'contains', 'EOP'],\n",
       " [1, 'POI', 4, 'RE', 'place_lived', 'EOP'],\n",
       " [13, 'POI', 12, 'RE', 'contains', 'EOP'],\n",
       " [13, 'POI', 17, 'RE', 'place_lived', 'EOP'],\n",
       " [15, 'POI', 13, 'RE', 'country', 'EOP'],\n",
       " [0, 'POI', 13, 'RE', 'place_lived', 'EOP'],\n",
       " [8, 'POI', 4, 'RE', 'administrative_divisions', 'EOP'],\n",
       " [9, 'POI', 8, 'RE', 'contains', 'EOP'],\n",
       " [20, 'POI', 16, 'RE', 'nationality', 'EOP'],\n",
       " [7, 'POI', 20, 'RE', 'country', 'EOP'],\n",
       " [4, 'POI', 7, 'RE', 'contains', 'EOP'],\n",
       " [8, 'POI', 6, 'RE', 'country', 'EOP'],\n",
       " [0, 'POI', 3, 'RE', 'contains', 'EOP'],\n",
       " [20, 'POI', 10, 'RE', 'contains', 'EOP'],\n",
       " [7, 'POI', 9, 'RE', 'country', 'EOP'],\n",
       " [25, 'POI', 28, 'RE', 'place_lived', 'EOP'],\n",
       " [0, 'POI', 7, 'RE', 'company', 'EOP'],\n",
       " [37, 'POI', 42, 'RE', 'company', 'EOP'],\n",
       " [20, 'POI', 18, 'RE', 'contains', 'EOP'],\n",
       " [11, 'POI', 6, 'RE', 'contains', 'EOP'],\n",
       " [16, 'POI', 26, 'RE', 'country', 'EOP'],\n",
       " [40, 'POI', 41, 'RE', 'country', 'EOP'],\n",
       " [5, 'POI', 8, 'RE', 'nationality', 'EOP'],\n",
       " [11, 'POI', 14, 'RE', 'place_lived', 'EOP'],\n",
       " [8, 'POI', 14, 'RE', 'company', 'EOP'],\n",
       " [12, 'POI', 10, 'RE', 'contains', 'EOP'],\n",
       " [14, 'POI', 17, 'RE', 'place_lived', 'EOP'],\n",
       " [14, 'POI', 22, 'RE', 'nationality', 'EOP']]"
      ]
     },
     "execution_count": 332,
     "metadata": {},
     "output_type": "execute_result"
    }
   ],
   "source": [
    "t_adjacencyList"
   ]
  },
  {
   "cell_type": "code",
   "execution_count": 297,
   "metadata": {
    "collapsed": true
   },
   "outputs": [
    {
     "data": {
      "text/plain": [
       "[{'em1Text': 'Ehud Olmert',\n",
       "  'em2Text': 'Israel',\n",
       "  'label': '/people/person/nationality'},\n",
       " {'em1Text': 'Ehud Olmert',\n",
       "  'em2Text': 'Israel',\n",
       "  'label': '/people/person/nationality'}]"
      ]
     },
     "execution_count": 297,
     "metadata": {},
     "output_type": "execute_result"
    }
   ],
   "source": [
    "t_trueMentions[365]"
   ]
  },
  {
   "cell_type": "code",
   "execution_count": 292,
   "metadata": {
    "collapsed": true
   },
   "outputs": [
    {
     "data": {
      "text/plain": [
       "[{'em1Text': 'Condoleezza Rice', 'em2Text': 'Berlin', 'label': 'None'},\n",
       " {'em1Text': 'Berlin', 'em2Text': 'Condoleezza Rice', 'label': 'None'},\n",
       " {'em1Text': 'Berlin', 'em2Text': 'Iran', 'label': 'None'},\n",
       " {'em1Text': 'Iran', 'em2Text': 'Berlin', 'label': 'None'},\n",
       " {'em1Text': 'Russia',\n",
       "  'em2Text': 'Iran',\n",
       "  'label': '/location/administrative_division/country'},\n",
       " {'em1Text': 'Iran', 'em2Text': 'Russia', 'label': 'None'},\n",
       " {'em1Text': 'Condoleezza Rice', 'em2Text': 'Russia', 'label': 'None'},\n",
       " {'em1Text': 'Russia', 'em2Text': 'Condoleezza Rice', 'label': 'None'},\n",
       " {'em1Text': 'Condoleezza Rice', 'em2Text': 'Iran', 'label': 'None'},\n",
       " {'em1Text': 'Iran', 'em2Text': 'Condoleezza Rice', 'label': 'None'},\n",
       " {'em1Text': 'Berlin', 'em2Text': 'Russia', 'label': 'None'},\n",
       " {'em1Text': 'Russia', 'em2Text': 'Berlin', 'label': 'None'},\n",
       " {'em1Text': 'Russia', 'em2Text': 'Berlin', 'label': 'None'},\n",
       " {'em1Text': 'Berlin', 'em2Text': 'Russia', 'label': 'None'},\n",
       " {'em1Text': 'Russia', 'em2Text': 'Condoleezza Rice', 'label': 'None'},\n",
       " {'em1Text': 'Condoleezza Rice', 'em2Text': 'Russia', 'label': 'None'},\n",
       " {'em1Text': 'Russia', 'em2Text': 'Russia', 'label': 'None'}]"
      ]
     },
     "execution_count": 292,
     "metadata": {},
     "output_type": "execute_result"
    }
   ],
   "source": [
    "t_relationMentions[38]"
   ]
  },
  {
   "cell_type": "code",
   "execution_count": 286,
   "metadata": {
    "collapsed": true
   },
   "outputs": [
    {
     "data": {
      "text/plain": [
       "'The administration is now put in a position of playing defense as we are finally seeing the international consequences of the rather dramatic internal transformation inside Russia with the erosion of democracy a new ruling class a massive transfer of property rights from so-called oligarchs to basically friends of Putin most of whom are from the old K.G.B. Senior administration officials said the new effort to reach out to Russia already had been put into action and included Secretary of State Condoleezza Rice s consultation with her Russian counterpart Foreign Minister Sergey V. Lavrov during meetings in Berlin on Feb 21 and 22 about whether Russia had the appetite to pursue a second Security Council resolution for sanctions against Iran'"
      ]
     },
     "execution_count": 286,
     "metadata": {},
     "output_type": "execute_result"
    }
   ],
   "source": [
    "' '.join(t_sentWords[38])"
   ]
  },
  {
   "cell_type": "code",
   "execution_count": 287,
   "metadata": {
    "collapsed": true
   },
   "outputs": [
    {
     "data": {
      "text/plain": [
       "'\"The administration is now put in a position of playing defense , as we are finally seeing the international consequences of the rather dramatic internal transformation inside Russia with the erosion of democracy , a new ruling class , a massive transfer of property rights from so-called oligarchs to , basically , friends of Putin , most of whom are from the old K.G.B. \\'\\' Senior administration officials said the new effort to reach out to Russia already had been put into action , and included Secretary of State Condoleezza Rice \\'s consultation with her Russian counterpart , Foreign Minister Sergey V. Lavrov , during meetings in Berlin on Feb. 21 and 22 about whether Russia had the appetite to pursue a second Security Council resolution for sanctions against Iran .\"\\r\\n'"
      ]
     },
     "execution_count": 287,
     "metadata": {},
     "output_type": "execute_result"
    }
   ],
   "source": [
    "t_sentText[38]"
   ]
  },
  {
   "cell_type": "code",
   "execution_count": 271,
   "metadata": {
    "collapsed": true
   },
   "outputs": [
    {
     "data": {
      "text/plain": [
       "[105, 'POI', 119, 'RE', 'country', 'EOP']"
      ]
     },
     "execution_count": 271,
     "metadata": {},
     "output_type": "execute_result"
    }
   ],
   "source": [
    "t_adjacencyList[38]"
   ]
  },
  {
   "cell_type": "code",
   "execution_count": 272,
   "metadata": {
    "collapsed": true
   },
   "outputs": [
    {
     "data": {
      "text/plain": [
       "['Russia', 'Russia', 'Condoleezza Rice', 'Berlin', 'Russia', 'Iran']"
      ]
     },
     "execution_count": 272,
     "metadata": {},
     "output_type": "execute_result"
    }
   ],
   "source": [
    "t_entityLabels[38]"
   ]
  },
  {
   "cell_type": "code",
   "execution_count": 273,
   "metadata": {
    "collapsed": true
   },
   "outputs": [
    {
     "data": {
      "text/plain": [
       "[[26], [69], [81, 82], [97], [105], [119]]"
      ]
     },
     "execution_count": 273,
     "metadata": {},
     "output_type": "execute_result"
    }
   ],
   "source": [
    "ti_entityLabels[38]"
   ]
  },
  {
   "cell_type": "code",
   "execution_count": 282,
   "metadata": {
    "collapsed": true
   },
   "outputs": [
    {
     "data": {
      "text/plain": [
       "[{'em1Text': 'Czech Republic', 'em2Text': 'Russia', 'label': 'None'},\n",
       " {'em1Text': 'Russia', 'em2Text': 'Czech Republic', 'label': 'None'},\n",
       " {'em1Text': 'Poland', 'em2Text': 'Iran', 'label': 'None'},\n",
       " {'em1Text': 'Iran', 'em2Text': 'Poland', 'label': 'None'},\n",
       " {'em1Text': 'Czech Republic', 'em2Text': 'Poland', 'label': 'None'},\n",
       " {'em1Text': 'Poland', 'em2Text': 'Czech Republic', 'label': 'None'},\n",
       " {'em1Text': 'United States', 'em2Text': 'Russia', 'label': 'None'},\n",
       " {'em1Text': 'Russia', 'em2Text': 'United States', 'label': 'None'},\n",
       " {'em1Text': 'Poland', 'em2Text': 'Russia', 'label': 'None'},\n",
       " {'em1Text': 'Russia', 'em2Text': 'Poland', 'label': 'None'},\n",
       " {'em1Text': 'United States', 'em2Text': 'Czech Republic', 'label': 'None'},\n",
       " {'em1Text': 'Czech Republic', 'em2Text': 'United States', 'label': 'None'},\n",
       " {'em1Text': 'Russia', 'em2Text': 'Washington', 'label': 'None'},\n",
       " {'em1Text': 'Washington', 'em2Text': 'Russia', 'label': 'None'},\n",
       " {'em1Text': 'Russia', 'em2Text': 'Russia', 'label': 'None'},\n",
       " {'em1Text': 'Washington',\n",
       "  'em2Text': 'Iran',\n",
       "  'label': '/location/administrative_division/country'},\n",
       " {'em1Text': 'Iran', 'em2Text': 'Washington', 'label': 'None'},\n",
       " {'em1Text': 'Washington', 'em2Text': 'Russia', 'label': 'None'},\n",
       " {'em1Text': 'Russia', 'em2Text': 'Washington', 'label': 'None'},\n",
       " {'em1Text': 'Poland', 'em2Text': 'Washington', 'label': 'None'},\n",
       " {'em1Text': 'Washington', 'em2Text': 'Poland', 'label': 'None'},\n",
       " {'em1Text': 'Russia',\n",
       "  'em2Text': 'Iran',\n",
       "  'label': '/location/administrative_division/country'},\n",
       " {'em1Text': 'Iran', 'em2Text': 'Russia', 'label': 'None'},\n",
       " {'em1Text': 'United States', 'em2Text': 'Poland', 'label': 'None'},\n",
       " {'em1Text': 'Poland', 'em2Text': 'United States', 'label': 'None'},\n",
       " {'em1Text': 'United States', 'em2Text': 'Washington', 'label': 'None'},\n",
       " {'em1Text': 'Washington', 'em2Text': 'United States', 'label': 'None'},\n",
       " {'em1Text': 'Czech Republic', 'em2Text': 'Washington', 'label': 'None'},\n",
       " {'em1Text': 'Washington', 'em2Text': 'Czech Republic', 'label': 'None'}]"
      ]
     },
     "execution_count": 282,
     "metadata": {},
     "output_type": "execute_result"
    }
   ],
   "source": [
    "t_relationMentions[191]"
   ]
  },
  {
   "cell_type": "code",
   "execution_count": 180,
   "metadata": {
    "collapsed": true
   },
   "outputs": [
    {
     "data": {
      "text/plain": [
       "[(26, [2, 5]),\n",
       " (30, [7, 16]),\n",
       " (47, [2, 3]),\n",
       " (52, [5, 8]),\n",
       " (73, [13, 24]),\n",
       " (172, [3, 6]),\n",
       " (191, [15, 21]),\n",
       " (236, [0, 5]),\n",
       " (262, [1, 3]),\n",
       " (268, [4, 9]),\n",
       " (293, [2, 5]),\n",
       " (313, [5, 10]),\n",
       " (316, [13, 16]),\n",
       " (347, [3, 16]),\n",
       " (365, [3, 10])]"
      ]
     },
     "execution_count": 180,
     "metadata": {},
     "output_type": "execute_result"
    }
   ],
   "source": [
    "[i for i in enumerate(ti_trueLables) if len(i[-1]) > 1]"
   ]
  },
  {
   "cell_type": "code",
   "execution_count": 281,
   "metadata": {},
   "outputs": [],
   "source": [
    "t_trueLables = [[i for i in rl if i != 'None'] for rl in t_relationLabels]"
   ]
  },
  {
   "cell_type": "code",
   "execution_count": 305,
   "metadata": {
    "scrolled": true
   },
   "outputs": [
    {
     "data": {
      "text/plain": [
       "410"
      ]
     },
     "execution_count": 305,
     "metadata": {},
     "output_type": "execute_result"
    }
   ],
   "source": [
    "len([i for item in t_relationMentions for i in item if i['label'] != 'None'])"
   ]
  },
  {
   "cell_type": "code",
   "execution_count": 306,
   "metadata": {
    "scrolled": true
   },
   "outputs": [
    {
     "data": {
      "text/plain": [
       "{6, 12}"
      ]
     },
     "execution_count": 306,
     "metadata": {},
     "output_type": "execute_result"
    }
   ],
   "source": [
    "set([len(i) for i in t_adjacencyList])"
   ]
  },
  {
   "cell_type": "code",
   "execution_count": 307,
   "metadata": {},
   "outputs": [
    {
     "data": {
      "text/plain": [
       "12"
      ]
     },
     "execution_count": 307,
     "metadata": {},
     "output_type": "execute_result"
    }
   ],
   "source": [
    "import numpy as np\n",
    "np.max([len(i) for i in t_adjacencyList])"
   ]
  },
  {
   "cell_type": "code",
   "execution_count": 26,
   "metadata": {
    "collapsed": true
   },
   "outputs": [],
   "source": [
    "#len([i for i in i_adjacencyList if len(i) > 20])"
   ]
  },
  {
   "cell_type": "code",
   "execution_count": 308,
   "metadata": {},
   "outputs": [
    {
     "data": {
      "text/plain": [
       "True"
      ]
     },
     "execution_count": 308,
     "metadata": {},
     "output_type": "execute_result"
    }
   ],
   "source": [
    "all(al[1] == 'POI' for al in t_adjacencyList)"
   ]
  },
  {
   "cell_type": "markdown",
   "metadata": {},
   "source": [
    "# Build Dateset"
   ]
  },
  {
   "cell_type": "code",
   "execution_count": 361,
   "metadata": {},
   "outputs": [],
   "source": [
    "from keras.preprocessing.sequence import pad_sequences\n",
    "from keras.utils import to_categorical\n",
    "from sklearn.model_selection import train_test_split\n",
    "from keras.preprocessing.text import Tokenizer\n",
    "from nltk import WordNetLemmatizer"
   ]
  },
  {
   "cell_type": "code",
   "execution_count": 364,
   "metadata": {
    "collapsed": true
   },
   "outputs": [],
   "source": [
    "wnl = WordNetLemmatizer()\n",
    "sentWords = [[wnl.lemmatize(t.lower()) for t in toks] for toks in sentWords]\n",
    "t_sentWords = [[wnl.lemmatize(t.lower()) for t in toks] for toks in t_sentWords]\n",
    "tok_sentWords = sentWords.copy()\n",
    "tok_sentWords.extend(t_sentWords)\n",
    "tokTexts = [' '.join(i) for i in tok_sentWords]"
   ]
  },
  {
   "cell_type": "code",
   "execution_count": 365,
   "metadata": {},
   "outputs": [
    {
     "name": "stdout",
     "output_type": "stream",
     "text": [
      "Found 71038 unique tokens.\n"
     ]
    }
   ],
   "source": [
    "tokenizer = Tokenizer(filters='')\n",
    "tokenizer.fit_on_texts(tokTexts)\n",
    "word2index = tokenizer.word_index\n",
    "index2word = {i: w for w, i in word2index.items()}\n",
    "print('Found %s unique tokens.' % len(word2index))"
   ]
  },
  {
   "cell_type": "code",
   "execution_count": 366,
   "metadata": {},
   "outputs": [],
   "source": [
    "#new_sentText = [' '.join(i) for i in sentWords]\n",
    "#sentSeq = tokenizer.texts_to_sequences(new_sentText)\n",
    "#sentData = pad_sequences(sentSeq, maxlen=MAX_SENT_LEN, padding='post', truncating='post')\n",
    "\n",
    "#t_new_sentText = [' '.join(i) for i in t_sentWords]\n",
    "#t_sentSeq = tokenizer.texts_to_sequences(t_new_sentText)\n",
    "#t_sentData = pad_sequences(t_sentSeq, maxlen=120, padding='post', truncating='post')\n",
    "\n",
    "token2index = dict((j, i+120) for i, j in enumerate(['PAD']+padDict+t_relationTypes))\n",
    "token2index['PAD'] = 0\n",
    "index2token = {i: w for w, i in token2index.items()}\n",
    "#newi_adjacencyList = [[token2index[i] if i in token2index else i+1 for i in aL] for aL in i_adjacencyList]\n",
    "#newi_adjacencyList = pad_sequences(newi_adjacencyList, maxlen=MAX_ADJL_LEN, padding='post', truncating='pre')\n",
    "newti_adjacencyList = [[token2index[i] if i in token2index else i+1 for i in aL] for aL in t_adjacencyList]\n",
    "newti_adjacencyList = pad_sequences(newti_adjacencyList, maxlen=20, padding='post', truncating='post')"
   ]
  },
  {
   "cell_type": "code",
   "execution_count": 368,
   "metadata": {},
   "outputs": [],
   "source": [
    "SEED = 42"
   ]
  },
  {
   "cell_type": "code",
   "execution_count": 369,
   "metadata": {
    "collapsed": true
   },
   "outputs": [],
   "source": [
    "y_test = newti_adjacencyList\n",
    "\n",
    "y_test, _, _, _ = train_test_split(y_test, y_test, test_size=0., random_state=SEED)"
   ]
  },
  {
   "cell_type": "code",
   "execution_count": 41,
   "metadata": {
    "collapsed": true
   },
   "outputs": [],
   "source": [
    "#np.max([int(i) for aL in i_adjacencyList for i in aL if i not in padDict+t_relationTypes])"
   ]
  },
  {
   "cell_type": "code",
   "execution_count": 42,
   "metadata": {
    "collapsed": true
   },
   "outputs": [],
   "source": [
    "# Split the data into a training set, a validation set and a test set\n",
    "x_train_all = sentData\n",
    "y_train_all = newi_adjacencyList\n",
    "\n",
    "x_train, x_val, y_train, y_val = train_test_split(x_train_all, y_train_all, test_size=0.15, random_state=SEED)\n",
    "x_train_all, _, y_train_all, _  = train_test_split(x_train_all, y_train_all, test_size=0., random_state=SEED)\n",
    " \n",
    "x_test = t_sentData\n",
    "y_test = newti_adjacencyList\n",
    "\n",
    "x_test, _, y_test, _ = train_test_split(x_test, y_test, test_size=0., random_state=SEED)"
   ]
  },
  {
   "cell_type": "markdown",
   "metadata": {},
   "source": [
    "# Save Dataset"
   ]
  },
  {
   "cell_type": "code",
   "execution_count": 370,
   "metadata": {
    "collapsed": true
   },
   "outputs": [],
   "source": [
    "import h5py\n",
    "import pickle"
   ]
  },
  {
   "cell_type": "code",
   "execution_count": 44,
   "metadata": {
    "collapsed": true
   },
   "outputs": [],
   "source": [
    "fh = h5py.File('/Users/lizhn7/Downloads/DATA/nyt/experiment_3_2/allData_gla.h5', 'w')\n",
    "fh['x_train'] = x_train\n",
    "fh['y_train'] = y_train\n",
    "fh['x_val'] = x_val\n",
    "fh['y_val'] = y_val\n",
    "fh['x_train_all'] = x_train_all\n",
    "fh['y_train_all'] = y_train_all\n",
    "fh['x_test'] = x_test\n",
    "fh['y_test'] = y_test\n",
    "fh['embedding'] = embedding\n",
    "fh.close()"
   ]
  },
  {
   "cell_type": "code",
   "execution_count": 45,
   "metadata": {
    "collapsed": true
   },
   "outputs": [],
   "source": [
    "with open('/Users/lizhn7/Downloads/DATA/nyt/experiment_3_2/index_gla.pkl', 'wb') as fp:\n",
    "    pickle.dump((word2index, index2word, token2index, index2token), fp, -1)"
   ]
  },
  {
   "cell_type": "code",
   "execution_count": 371,
   "metadata": {
    "collapsed": true
   },
   "outputs": [],
   "source": [
    "with open('/Users/lizhn7/Downloads/DATA/nyt/experiment_3_2/newy.pkl', 'wb') as fp:\n",
    "    pickle.dump((y_test), fp, -1)"
   ]
  },
  {
   "cell_type": "markdown",
   "metadata": {
    "heading_collapsed": true
   },
   "source": [
    "# Checkpoint"
   ]
  },
  {
   "cell_type": "code",
   "execution_count": 48,
   "metadata": {
    "collapsed": true,
    "hidden": true
   },
   "outputs": [],
   "source": [
    "import h5py\n",
    "import pickle"
   ]
  },
  {
   "cell_type": "code",
   "execution_count": 49,
   "metadata": {
    "collapsed": true,
    "hidden": true
   },
   "outputs": [],
   "source": [
    "with h5py.File('/Users/lizhn7/Downloads/DATA/nyt/experiment_3_2/allData_w2v.h5', 'r') as fh:\n",
    "    x_train = fh['x_train'][:]\n",
    "    y_train = fh['y_train'][:]\n",
    "    x_val = fh['x_val'][:]\n",
    "    y_val = fh['y_val'][:]\n",
    "    x_train_all = fh['x_train_all'][:]\n",
    "    y_train_all = fh['y_train_all'][:]\n",
    "    x_test = fh['x_test'][:]\n",
    "    y_test = fh['y_test'][:]\n",
    "    embedding = fh['embedding'][:]"
   ]
  },
  {
   "cell_type": "code",
   "execution_count": 50,
   "metadata": {
    "collapsed": true,
    "hidden": true
   },
   "outputs": [],
   "source": [
    "with open('/Users/lizhn7/Downloads/DATA/nyt/experiment_3_2/index_w2v.pkl', 'rb') as fp:\n",
    "    word2index, index2word, token2index, index2token = pickle.load(fp)"
   ]
  }
 ],
 "metadata": {
  "kernelspec": {
   "display_name": "Python 3",
   "language": "python",
   "name": "python3"
  },
  "language_info": {
   "codemirror_mode": {
    "name": "ipython",
    "version": 3
   },
   "file_extension": ".py",
   "mimetype": "text/x-python",
   "name": "python",
   "nbconvert_exporter": "python",
   "pygments_lexer": "ipython3",
   "version": "3.6.2"
  },
  "toc": {
   "colors": {
    "hover_highlight": "#DAA520",
    "navigate_num": "#000000",
    "navigate_text": "#333333",
    "running_highlight": "#FF0000",
    "selected_highlight": "#FFD700",
    "sidebar_border": "#EEEEEE",
    "wrapper_background": "#FFFFFF"
   },
   "moveMenuLeft": true,
   "nav_menu": {
    "height": "84px",
    "width": "252px"
   },
   "navigate_menu": true,
   "number_sections": true,
   "sideBar": true,
   "threshold": 4,
   "toc_cell": true,
   "toc_section_display": "block",
   "toc_window_display": false,
   "widenNotebook": false
  }
 },
 "nbformat": 4,
 "nbformat_minor": 2
}
