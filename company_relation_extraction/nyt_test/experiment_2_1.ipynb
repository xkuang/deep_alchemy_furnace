{
 "cells": [
  {
   "cell_type": "markdown",
   "metadata": {
    "toc": "true"
   },
   "source": [
    "# Table of Contents\n",
    " <p><div class=\"lev1 toc-item\"><a href=\"#GPU\" data-toc-modified-id=\"GPU-1\"><span class=\"toc-item-num\">1&nbsp;&nbsp;</span>GPU</a></div><div class=\"lev1 toc-item\"><a href=\"#Data-Preprocessing\" data-toc-modified-id=\"Data-Preprocessing-2\"><span class=\"toc-item-num\">2&nbsp;&nbsp;</span>Data Preprocessing</a></div><div class=\"lev2 toc-item\"><a href=\"#Load-Data\" data-toc-modified-id=\"Load-Data-21\"><span class=\"toc-item-num\">2.1&nbsp;&nbsp;</span>Load Data</a></div><div class=\"lev3 toc-item\"><a href=\"#Load-Train-Data\" data-toc-modified-id=\"Load-Train-Data-211\"><span class=\"toc-item-num\">2.1.1&nbsp;&nbsp;</span>Load Train Data</a></div><div class=\"lev3 toc-item\"><a href=\"#Load-Test-Data\" data-toc-modified-id=\"Load-Test-Data-212\"><span class=\"toc-item-num\">2.1.2&nbsp;&nbsp;</span>Load Test Data</a></div><div class=\"lev3 toc-item\"><a href=\"#Relation-Types\" data-toc-modified-id=\"Relation-Types-213\"><span class=\"toc-item-num\">2.1.3&nbsp;&nbsp;</span>Relation Types</a></div><div class=\"lev2 toc-item\"><a href=\"#Participle\" data-toc-modified-id=\"Participle-22\"><span class=\"toc-item-num\">2.2&nbsp;&nbsp;</span>Participle</a></div><div class=\"lev2 toc-item\"><a href=\"#Make-Adjacency-List\" data-toc-modified-id=\"Make-Adjacency-List-23\"><span class=\"toc-item-num\">2.3&nbsp;&nbsp;</span>Make Adjacency List</a></div><div class=\"lev3 toc-item\"><a href=\"#Make-Adjacency-List-of-Train-Data\" data-toc-modified-id=\"Make-Adjacency-List-of-Train-Data-231\"><span class=\"toc-item-num\">2.3.1&nbsp;&nbsp;</span>Make Adjacency List of Train Data</a></div><div class=\"lev3 toc-item\"><a href=\"#Make-Adjacency-List-of-Test-Data\" data-toc-modified-id=\"Make-Adjacency-List-of-Test-Data-232\"><span class=\"toc-item-num\">2.3.2&nbsp;&nbsp;</span>Make Adjacency List of Test Data</a></div><div class=\"lev1 toc-item\"><a href=\"#Word-to-Vector\" data-toc-modified-id=\"Word-to-Vector-3\"><span class=\"toc-item-num\">3&nbsp;&nbsp;</span>Word to Vector</a></div><div class=\"lev2 toc-item\"><a href=\"#Tokenize-Text\" data-toc-modified-id=\"Tokenize-Text-31\"><span class=\"toc-item-num\">3.1&nbsp;&nbsp;</span>Tokenize Text</a></div><div class=\"lev2 toc-item\"><a href=\"#Create-Word-Embeddings-with-GloVe\" data-toc-modified-id=\"Create-Word-Embeddings-with-GloVe-32\"><span class=\"toc-item-num\">3.2&nbsp;&nbsp;</span>Create Word Embeddings with GloVe</a></div><div class=\"lev3 toc-item\"><a href=\"#Read-GloVe\" data-toc-modified-id=\"Read-GloVe-321\"><span class=\"toc-item-num\">3.2.1&nbsp;&nbsp;</span>Read GloVe</a></div><div class=\"lev3 toc-item\"><a href=\"#Use-Glove-to-Initialize-Embedding-Matrix\" data-toc-modified-id=\"Use-Glove-to-Initialize-Embedding-Matrix-322\"><span class=\"toc-item-num\">3.2.2&nbsp;&nbsp;</span>Use Glove to Initialize Embedding Matrix</a></div><div class=\"lev1 toc-item\"><a href=\"#Build-Dateset\" data-toc-modified-id=\"Build-Dateset-4\"><span class=\"toc-item-num\">4&nbsp;&nbsp;</span>Build Dateset</a></div><div class=\"lev1 toc-item\"><a href=\"#Save-Dataset\" data-toc-modified-id=\"Save-Dataset-5\"><span class=\"toc-item-num\">5&nbsp;&nbsp;</span>Save Dataset</a></div><div class=\"lev1 toc-item\"><a href=\"#Checkpoint\" data-toc-modified-id=\"Checkpoint-6\"><span class=\"toc-item-num\">6&nbsp;&nbsp;</span>Checkpoint</a></div><div class=\"lev1 toc-item\"><a href=\"#Build-Model\" data-toc-modified-id=\"Build-Model-7\"><span class=\"toc-item-num\">7&nbsp;&nbsp;</span>Build Model</a></div><div class=\"lev2 toc-item\"><a href=\"#Set-Hyperparameters\" data-toc-modified-id=\"Set-Hyperparameters-71\"><span class=\"toc-item-num\">7.1&nbsp;&nbsp;</span>Set Hyperparameters</a></div><div class=\"lev2 toc-item\"><a href=\"#Import-Libraries\" data-toc-modified-id=\"Import-Libraries-72\"><span class=\"toc-item-num\">7.2&nbsp;&nbsp;</span>Import Libraries</a></div><div class=\"lev2 toc-item\"><a href=\"#Build-Graph\" data-toc-modified-id=\"Build-Graph-73\"><span class=\"toc-item-num\">7.3&nbsp;&nbsp;</span>Build Graph</a></div><div class=\"lev2 toc-item\"><a href=\"#Model-Visualization\" data-toc-modified-id=\"Model-Visualization-74\"><span class=\"toc-item-num\">7.4&nbsp;&nbsp;</span>Model Visualization</a></div><div class=\"lev2 toc-item\"><a href=\"#Train\" data-toc-modified-id=\"Train-75\"><span class=\"toc-item-num\">7.5&nbsp;&nbsp;</span>Train</a></div><div class=\"lev1 toc-item\"><a href=\"#Evaluate\" data-toc-modified-id=\"Evaluate-8\"><span class=\"toc-item-num\">8&nbsp;&nbsp;</span>Evaluate</a></div>"
   ]
  },
  {
   "cell_type": "markdown",
   "metadata": {},
   "source": [
    "# GPU"
   ]
  },
  {
   "cell_type": "code",
   "execution_count": 1,
   "metadata": {},
   "outputs": [
    {
     "name": "stdout",
     "output_type": "stream",
     "text": [
      "Default GPU Device: \n"
     ]
    }
   ],
   "source": [
    "import tensorflow as tf \n",
    "print('Default GPU Device: {}'.format(tf.test.gpu_device_name()))"
   ]
  },
  {
   "cell_type": "markdown",
   "metadata": {},
   "source": [
    "# Data Preprocessing"
   ]
  },
  {
   "cell_type": "markdown",
   "metadata": {},
   "source": [
    "## Load Data"
   ]
  },
  {
   "cell_type": "markdown",
   "metadata": {},
   "source": [
    "### Load Train Data"
   ]
  },
  {
   "cell_type": "code",
   "execution_count": 2,
   "metadata": {
    "collapsed": true
   },
   "outputs": [],
   "source": [
    "import json"
   ]
  },
  {
   "cell_type": "code",
   "execution_count": 3,
   "metadata": {
    "collapsed": true
   },
   "outputs": [],
   "source": [
    "sentText = []\n",
    "relationMentions = []\n",
    "relationLabels = []\n",
    "entityMentions = []\n",
    "entityLabels = []\n",
    "em1Text = []\n",
    "em2Text = []\n",
    "\n",
    "with open(\"/Users/lizhn7/Downloads/DATA/NYT /train.json\") as f:\n",
    "    lines = f.readlines()\n",
    "\n",
    "for line in lines:\n",
    "    item = json.loads(line)\n",
    "    # Exclude \"None\" label\n",
    "    if not all(i['label'] == 'None' for i in item['relationMentions']):\n",
    "        sentText.append(item['sentText'])\n",
    "        relationMentions.append(item['relationMentions'])\n",
    "        entityMentions.append(item['entityMentions'])\n",
    "    \n",
    "relationLabels = [[i['label'].split('/')[-1] for i in rM] for rM in relationMentions]\n",
    "entityLabels = [[i['text'] for i in eM] for eM in entityMentions]\n",
    "em1Text = [[i['em1Text'] for i in rM] for rM in relationMentions]\n",
    "em2Text = [[i['em2Text'] for i in rM] for rM in relationMentions]"
   ]
  },
  {
   "cell_type": "code",
   "execution_count": 4,
   "metadata": {
    "collapsed": true
   },
   "outputs": [],
   "source": [
    "# Clean words\n",
    "replaceDict = {\n",
    "               'ā': 'a', 'á': 'a', 'ǎ': 'a', 'à': 'a',\n",
    "               'ō': 'o', 'ó': 'o', 'ǒ': 'o', 'ò': 'o', 'ô': 'o', 'ö': 'o',\n",
    "               'ē': 'e', 'é': 'e', 'ě': 'e', 'è': 'e', \n",
    "               'ī': 'i', 'í': 'i', 'ǐ': 'i', 'ì': 'i',\n",
    "               'ū': 'u', 'ú': 'u', 'ǔ': 'u', 'ù': 'u', 'ü': 'u',\n",
    "               'ñ': 'n',\n",
    "               'É': 'E'\n",
    "              }\n",
    "em1Text = [[''.join([replaceDict.get(i, i) for i in e]) for e in eT] for eT in em1Text]\n",
    "em2Text = [[''.join([replaceDict.get(i, i) for i in e]) for e in eT] for eT in em2Text]"
   ]
  },
  {
   "cell_type": "markdown",
   "metadata": {},
   "source": [
    "### Load Test Data"
   ]
  },
  {
   "cell_type": "code",
   "execution_count": 5,
   "metadata": {
    "collapsed": true
   },
   "outputs": [],
   "source": [
    "t_sentText = []\n",
    "t_relationMentions = []\n",
    "t_relationLabels = []\n",
    "t_entityMentions = []\n",
    "t_entityLabels = []\n",
    "t_em1Text = []\n",
    "t_em2Text = []\n",
    "\n",
    "with open(\"/Users/lizhn7/Downloads/DATA/NYT /test.json\") as f:\n",
    "    lines = f.readlines()\n",
    "\n",
    "for line in lines:\n",
    "    item = json.loads(line)\n",
    "    t_sentText.append(item['sentText'])\n",
    "    t_relationMentions.append(item['relationMentions'])\n",
    "    t_entityMentions.append(item['entityMentions'])\n",
    "    \n",
    "t_relationLabels = [[i['label'].split('/')[-1] for i in rM] for rM in t_relationMentions]\n",
    "t_entityLabels = [[i['text'] for i in eM] for eM in t_entityMentions]\n",
    "t_em1Text = [[i['em1Text'] for i in rM] for rM in t_relationMentions]\n",
    "t_em2Text = [[i['em2Text'] for i in rM] for rM in t_relationMentions]"
   ]
  },
  {
   "cell_type": "code",
   "execution_count": 6,
   "metadata": {
    "collapsed": true
   },
   "outputs": [],
   "source": [
    "# Clean words\n",
    "t_replaceDict = {\n",
    "               'ā': 'a', 'á': 'a', 'ǎ': 'a', 'à': 'a',\n",
    "               'ō': 'o', 'ó': 'o', 'ǒ': 'o', 'ò': 'o', 'ô': 'o', 'ö': 'o',\n",
    "               'ē': 'e', 'é': 'e', 'ě': 'e', 'è': 'e', \n",
    "               'ī': 'i', 'í': 'i', 'ǐ': 'i', 'ì': 'i',\n",
    "               'ū': 'u', 'ú': 'u', 'ǔ': 'u', 'ù': 'u', 'ü': 'u',\n",
    "               'ñ': 'n',\n",
    "               'É': 'E'\n",
    "              }\n",
    "t_em1Text = [[''.join([t_replaceDict.get(i, i) for i in e]) for e in eT] for eT in t_em1Text]\n",
    "t_em2Text = [[''.join([t_replaceDict.get(i, i) for i in e]) for e in eT] for eT in t_em2Text]\n",
    "t_entityLabels = [[''.join([t_replaceDict.get(i, i) for i in e]) for e in eT] for eT in t_entityLabels]"
   ]
  },
  {
   "cell_type": "markdown",
   "metadata": {},
   "source": [
    "###  Relation Types"
   ]
  },
  {
   "cell_type": "code",
   "execution_count": 7,
   "metadata": {
    "scrolled": true
   },
   "outputs": [
    {
     "data": {
      "text/plain": [
       "['contains',\n",
       " 'advisors',\n",
       " 'geographic_distribution',\n",
       " 'people',\n",
       " 'nationality',\n",
       " 'religion',\n",
       " 'company',\n",
       " 'capital',\n",
       " 'place_lived',\n",
       " 'place_of_birth',\n",
       " 'teams',\n",
       " 'neighborhood_of',\n",
       " 'major_shareholder_of',\n",
       " 'founders',\n",
       " 'administrative_divisions',\n",
       " 'place_founded',\n",
       " 'place_of_death',\n",
       " 'profession',\n",
       " 'children',\n",
       " 'location',\n",
       " 'major_shareholders',\n",
       " 'industry',\n",
       " 'ethnicity',\n",
       " 'country']"
      ]
     },
     "execution_count": 7,
     "metadata": {},
     "output_type": "execute_result"
    }
   ],
   "source": [
    "relationTypes = list(set([r for rl in relationLabels for r in rl]))\n",
    "relationTypes"
   ]
  },
  {
   "cell_type": "markdown",
   "metadata": {},
   "source": [
    "## Participle"
   ]
  },
  {
   "cell_type": "code",
   "execution_count": 8,
   "metadata": {
    "collapsed": true
   },
   "outputs": [],
   "source": [
    "from nltk import regexp_tokenize"
   ]
  },
  {
   "cell_type": "code",
   "execution_count": 9,
   "metadata": {
    "collapsed": true
   },
   "outputs": [],
   "source": [
    "def cut(s):\n",
    "    \"\"\"\n",
    "    Participle\n",
    "    \"\"\"\n",
    "    pattern = r'''\n",
    "              (?x)                   # set flag to allow verbose regexps \n",
    "              (?:[A-Z]\\.)+           # abbreviations, e.g. U.S.A. \n",
    "              |\\d+(?:\\.\\d+)?%?       # numbers, incl. currency and percentages \n",
    "              |\\w+(?:[-']\\w+)*       # words w/ optional internal hyphens/apostrophe  \n",
    "           '''  \n",
    "    return regexp_tokenize(s, pattern=pattern)"
   ]
  },
  {
   "cell_type": "code",
   "execution_count": 10,
   "metadata": {
    "collapsed": true
   },
   "outputs": [],
   "source": [
    "sentWords = [cut(s) for s in sentText]\n",
    "entlabWords = [[cut(s) for s in eL] for eL in entityLabels]\n",
    "em1Words = [[cut(s) for s in eL] for eL in em1Text]\n",
    "em2Words = [[cut(s) for s in eL] for eL in em2Text]\n",
    "t_sentWords = [cut(s) for s in t_sentText]\n",
    "t_entlabWords = [[cut(s) for s in eL] for eL in t_entityLabels]\n",
    "t_em1Words = [[cut(s) for s in eL] for eL in t_em1Text]\n",
    "t_em2Words = [[cut(s) for s in eL] for eL in t_em2Text]"
   ]
  },
  {
   "cell_type": "code",
   "execution_count": 11,
   "metadata": {
    "collapsed": true
   },
   "outputs": [],
   "source": [
    "MAX_SENT_LEN = 220\n",
    "MAX_ADJL_LEN = 220"
   ]
  },
  {
   "cell_type": "code",
   "execution_count": 12,
   "metadata": {},
   "outputs": [
    {
     "data": {
      "text/plain": [
       "120"
      ]
     },
     "execution_count": 12,
     "metadata": {},
     "output_type": "execute_result"
    }
   ],
   "source": [
    "#[i for i, j in enumerate(sentWords) if len(j) > 80]\n",
    "max(len(j) for i, j in enumerate(t_sentWords) if len(j) > 80)"
   ]
  },
  {
   "cell_type": "markdown",
   "metadata": {},
   "source": [
    "## Make Adjacency List"
   ]
  },
  {
   "cell_type": "markdown",
   "metadata": {},
   "source": [
    "### Make Adjacency List of Train Data"
   ]
  },
  {
   "cell_type": "code",
   "execution_count": 13,
   "metadata": {
    "collapsed": true
   },
   "outputs": [],
   "source": [
    "from collections import Counter"
   ]
  },
  {
   "cell_type": "code",
   "execution_count": 14,
   "metadata": {
    "collapsed": true
   },
   "outputs": [],
   "source": [
    "i_entityLabels = []\n",
    "for i in range(len(sentWords)):\n",
    "    eL = []\n",
    "    sDict = list(enumerate(sentWords[i]))\n",
    "    for item in entlabWords[i]:\n",
    "        j = 0\n",
    "        el = []\n",
    "        for e in item:\n",
    "            while j < len(sDict):\n",
    "                if e == sDict[j][1]:\n",
    "                    el.append(sDict[j][0])\n",
    "                    j += 1\n",
    "                    break\n",
    "                j += 1\n",
    "        eL.append(el)\n",
    "    i_entityLabels.append(eL)"
   ]
  },
  {
   "cell_type": "code",
   "execution_count": 15,
   "metadata": {
    "collapsed": true
   },
   "outputs": [],
   "source": [
    "adjacencyList = []\n",
    "padDict = ['POI', 'RE', 'EOP']\n",
    "for i in range(len(sentWords)):\n",
    "    # POI means pointer\n",
    "    # RE means relation label\n",
    "    # EOP means end of pointer   \n",
    "    aL = ''\n",
    "    for j in entityLabels[i]:\n",
    "        dictEn = dict((b, a) for a, b in enumerate(entityLabels[i]))\n",
    "        aL += j\n",
    "        in_em1Text = [dictEn[item] for item in em1Text[i]]\n",
    "        in_em2Text = [dictEn[item] for item in em2Text[i]]\n",
    "        new_em1 = [m[0] for m in sorted(list(zip(in_em1Text, in_em2Text)))]\n",
    "        new_em2 = [n[1] for n in sorted(list(zip(in_em1Text, in_em2Text)))]\n",
    "        new_em1 = [entityLabels[i][e1] for e1 in new_em1]\n",
    "        new_em2 = [entityLabels[i][e2] for e2 in new_em2]\n",
    "        listRe = list(zip(zip(in_em1Text, in_em2Text), relationLabels[i]))\n",
    "        new_rel = [r[-1] for r in sorted(listRe, key=lambda z: z[0])]\n",
    "        for item in enumerate(new_em1):\n",
    "            if j == item[1]:\n",
    "                aL = aL + ' POI ' + new_em2[item[0]] + ' RE ' + new_rel[item[0]]\n",
    "        aL += ' EOP '\n",
    "    adjacencyList.append(aL)"
   ]
  },
  {
   "cell_type": "code",
   "execution_count": 16,
   "metadata": {
    "collapsed": true
   },
   "outputs": [],
   "source": [
    "i_adjacencyList = []\n",
    "for i in range(len(adjacencyList)):\n",
    "    aL = []\n",
    "    replace = dict(zip(sum(entlabWords[i], []), sum(i_entityLabels[i], []), ))\n",
    "    aL = [replace[j] if j not in padDict+relationTypes else j for j in cut(adjacencyList[i])]\n",
    "    #aL = [s if type(s) == str else str(s) for s in aL]\n",
    "    i_adjacencyList.append(aL)"
   ]
  },
  {
   "cell_type": "code",
   "execution_count": 17,
   "metadata": {
    "collapsed": true
   },
   "outputs": [],
   "source": [
    "#[eT[0] for eT in enumerate(em1Text) for i in eT[1] if i == 'Édith Piaf']"
   ]
  },
  {
   "cell_type": "code",
   "execution_count": 18,
   "metadata": {
    "collapsed": true
   },
   "outputs": [],
   "source": [
    "#i_em1Text = []\n",
    "#for i in range(len(sentWords)):\n",
    "#    temp = list(zip(sum(i_entityLabels[i], []), sum(entlabWords[i], [])))\n",
    "#    eM1 = []\n",
    "#    for ee in em1Words[i]:\n",
    "#        j = 0\n",
    "#        em1 = []\n",
    "#        for e in ee:\n",
    "#            while j < len(temp):\n",
    "#                if e == temp[j][1] and Counter(sum(entlabWords[i], []))[e] == 1:\n",
    "#                    em1.append(temp[j][0])\n",
    "#                    break\n",
    "#                if e == temp[j][1] and Counter(sum(entlabWords[i], []))[e] > 1:\n",
    "#                    em1.append(temp[j][0])\n",
    "#                    j += 1\n",
    "#                    break\n",
    "#                j += 1\n",
    "#        eM1.append(em1)\n",
    "#    i_em1Text.append(eM1)\n",
    "\n",
    "#i_em2Text = []\n",
    "#for i in range(len(sentWords)):\n",
    "#    temp = list(zip(sum(i_entityLabels[i], []), sum(entlabWords[i], [])))\n",
    "#    eM2 = []\n",
    "#    for ee in em2Words[i]:\n",
    "#        j = 0\n",
    "#        em2 = []\n",
    "#        for e in ee:\n",
    "#            while j < len(temp):\n",
    "#                if e == temp[j][1] and Counter(sum(entlabWords[i], []))[e] == 1:\n",
    "#                    em2.append(temp[j][0])\n",
    "#                    break\n",
    "#                if e == temp[j][1] and Counter(sum(entlabWords[i], []))[e] > 1:\n",
    "#                    em2.append(temp[j][0])\n",
    "#                    j += 1\n",
    "#                    break\n",
    "#                j += 1\n",
    "#        eM2.append(em2)\n",
    "#    i_em2Text.append(eM2)"
   ]
  },
  {
   "cell_type": "markdown",
   "metadata": {},
   "source": [
    "### Make Adjacency List of Test Data"
   ]
  },
  {
   "cell_type": "code",
   "execution_count": 19,
   "metadata": {
    "collapsed": true
   },
   "outputs": [],
   "source": [
    "# Clean words\n",
    "t_sentWords = [[''.join([t_replaceDict.get(i, i) for i in e]) for e in eT] for eT in t_sentWords]"
   ]
  },
  {
   "cell_type": "code",
   "execution_count": 20,
   "metadata": {
    "collapsed": true
   },
   "outputs": [],
   "source": [
    "ti_entityLabels = []\n",
    "for i in range(len(t_sentWords)):\n",
    "    eL = []\n",
    "    t_sDict = list(enumerate(t_sentWords[i]))\n",
    "    for item in t_entlabWords[i]:\n",
    "        j = 0\n",
    "        el = []\n",
    "        for e in item:\n",
    "            while j < len(t_sDict):\n",
    "                if e == t_sDict[j][1]:\n",
    "                    el.append(t_sDict[j][0])\n",
    "                    j += 1\n",
    "                    break\n",
    "                j += 1\n",
    "        eL.append(el)\n",
    "    ti_entityLabels.append(eL)"
   ]
  },
  {
   "cell_type": "code",
   "execution_count": 21,
   "metadata": {
    "collapsed": true
   },
   "outputs": [],
   "source": [
    "t_adjacencyList = []\n",
    "padDict = ['POI', 'RE', 'EOP']\n",
    "for i in range(len(t_sentWords)):\n",
    "    # POI means pointer\n",
    "    # RE means relation label\n",
    "    # EOP means end of pointer   \n",
    "    aL = ''\n",
    "    for j in t_entityLabels[i]:\n",
    "        t_dictEn = dict((b, a) for a, b in enumerate(t_entityLabels[i]))\n",
    "        aL += j\n",
    "        tin_em1Text = [t_dictEn[item] for item in t_em1Text[i]]\n",
    "        tin_em2Text = [t_dictEn[item] for item in t_em2Text[i]]\n",
    "        new_tem1 = [m[0] for m in sorted(list(zip(tin_em1Text, tin_em2Text)))]\n",
    "        new_tem2 = [n[1] for n in sorted(list(zip(tin_em1Text, tin_em2Text)))]\n",
    "        new_tem1 = [t_entityLabels[i][e1] for e1 in new_tem1]\n",
    "        new_tem2 = [t_entityLabels[i][e2] for e2 in new_tem2]\n",
    "        t_listRe = list(zip(zip(tin_em1Text, tin_em2Text), t_relationLabels[i]))\n",
    "        new_trel = [r[-1] for r in sorted(t_listRe, key=lambda z: z[0])]\n",
    "        for item in enumerate(new_tem1):\n",
    "            if j == item[1] and new_trel[item[0]] != 'None':\n",
    "                aL = aL + ' POI ' + new_tem2[item[0]] + ' RE ' + new_trel[item[0]]\n",
    "        aL += ' EOP '\n",
    "    t_adjacencyList.append(aL)"
   ]
  },
  {
   "cell_type": "code",
   "execution_count": 99,
   "metadata": {},
   "outputs": [
    {
     "data": {
      "text/plain": [
       "'Raritan River EOP New Jersey EOP New Brunswick EOP Bound Brook EOP Westchester POI Mamaroneck RE contains EOP Mamaroneck EOP New Rochelle EOP '"
      ]
     },
     "execution_count": 99,
     "metadata": {},
     "output_type": "execute_result"
    }
   ],
   "source": [
    "t_adjacencyList[3]"
   ]
  },
  {
   "cell_type": "code",
   "execution_count": 22,
   "metadata": {
    "collapsed": true
   },
   "outputs": [],
   "source": [
    "ti_adjacencyList = []\n",
    "for i in range(len(t_adjacencyList)):\n",
    "    aL = []\n",
    "    replace = dict(zip(sum(t_entlabWords[i], []), sum(ti_entityLabels[i], []), ))\n",
    "    aL = [replace[j] if j not in padDict+relationTypes else j for j in cut(t_adjacencyList[i])]\n",
    "    #aL = [s if type(s) == str else str(s) for s in aL]\n",
    "    ti_adjacencyList.append(aL)"
   ]
  },
  {
   "cell_type": "markdown",
   "metadata": {},
   "source": [
    "# Word to Vector"
   ]
  },
  {
   "cell_type": "markdown",
   "metadata": {},
   "source": [
    "## Tokenize Text"
   ]
  },
  {
   "cell_type": "code",
   "execution_count": 23,
   "metadata": {},
   "outputs": [
    {
     "name": "stderr",
     "output_type": "stream",
     "text": [
      "Using TensorFlow backend.\n"
     ]
    }
   ],
   "source": [
    "from keras.preprocessing.text import Tokenizer\n",
    "from nltk import WordNetLemmatizer"
   ]
  },
  {
   "cell_type": "code",
   "execution_count": 24,
   "metadata": {
    "collapsed": true
   },
   "outputs": [],
   "source": [
    "wnl = WordNetLemmatizer()\n",
    "sentWords = [[wnl.lemmatize(t.lower()) for t in toks] for toks in sentWords]\n",
    "t_sentWords = [[wnl.lemmatize(t.lower()) for t in toks] for toks in t_sentWords]\n",
    "tok_sentWords = sentWords.copy()\n",
    "tok_sentWords.extend(t_sentWords)\n",
    "tokTexts = [' '.join(i) for i in tok_sentWords]"
   ]
  },
  {
   "cell_type": "code",
   "execution_count": 25,
   "metadata": {},
   "outputs": [
    {
     "name": "stdout",
     "output_type": "stream",
     "text": [
      "Found 63490 unique tokens.\n"
     ]
    }
   ],
   "source": [
    "tokenizer = Tokenizer()\n",
    "tokenizer.fit_on_texts(tokTexts)\n",
    "word2index = tokenizer.word_index\n",
    "index2word = {i: w for w, i in word2index.items()}\n",
    "print('Found %s unique tokens.' % len(word2index))"
   ]
  },
  {
   "cell_type": "markdown",
   "metadata": {},
   "source": [
    "## Create Word Embeddings with GloVe"
   ]
  },
  {
   "cell_type": "code",
   "execution_count": 26,
   "metadata": {
    "collapsed": true
   },
   "outputs": [],
   "source": [
    "VOCAB_SIZE = 63491\n",
    "EMBEDDING_SIZE = 300\n",
    "SEED = 42"
   ]
  },
  {
   "cell_type": "markdown",
   "metadata": {},
   "source": [
    "### Read GloVe"
   ]
  },
  {
   "cell_type": "code",
   "execution_count": 27,
   "metadata": {
    "collapsed": true
   },
   "outputs": [],
   "source": [
    "import numpy as np"
   ]
  },
  {
   "cell_type": "code",
   "execution_count": 28,
   "metadata": {},
   "outputs": [
    {
     "data": {
      "text/plain": [
       "1917495"
      ]
     },
     "execution_count": 28,
     "metadata": {},
     "output_type": "execute_result"
    }
   ],
   "source": [
    "glove_n_symbols = !wc -l /Users/lizhn7/Downloads/DATA/Glove/glove.42B.300d.txt\n",
    "glove_n_symbols = int(glove_n_symbols[0].split()[0])\n",
    "glove_n_symbols"
   ]
  },
  {
   "cell_type": "code",
   "execution_count": 29,
   "metadata": {
    "collapsed": true
   },
   "outputs": [],
   "source": [
    "glove_index_dict = {}\n",
    "glove_embedding_weights = np.empty((glove_n_symbols, EMBEDDING_SIZE))\n",
    "globale_scale = 0.1\n",
    "with open('/Users/lizhn7/Downloads/DATA/Glove/glove.42B.300d.txt', 'r') as fp:\n",
    "    index = 0\n",
    "    for l in fp:\n",
    "        l = l.strip().split()\n",
    "        word = l[0]\n",
    "        glove_index_dict[word] = index\n",
    "        glove_embedding_weights[index, :] = [float(n) for n in l[1:]]\n",
    "        index += 1\n",
    "glove_embedding_weights *= globale_scale"
   ]
  },
  {
   "cell_type": "markdown",
   "metadata": {},
   "source": [
    "### Use Glove to Initialize Embedding Matrix"
   ]
  },
  {
   "cell_type": "code",
   "execution_count": 30,
   "metadata": {
    "collapsed": true
   },
   "outputs": [],
   "source": [
    "from nltk import PorterStemmer, LancasterStemmer"
   ]
  },
  {
   "cell_type": "code",
   "execution_count": 31,
   "metadata": {
    "collapsed": true
   },
   "outputs": [],
   "source": [
    "# Generate random embedding with same scale as glove\n",
    "np.random.seed(SEED)\n",
    "shape = (VOCAB_SIZE, EMBEDDING_SIZE)\n",
    "scale = glove_embedding_weights.std() * np.sqrt(12) / 2 \n",
    "embedding = np.random.uniform(low=-scale, high=scale, size=shape)"
   ]
  },
  {
   "cell_type": "code",
   "execution_count": 32,
   "metadata": {
    "collapsed": true
   },
   "outputs": [],
   "source": [
    "porter = PorterStemmer()\n",
    "lancaster = LancasterStemmer()"
   ]
  },
  {
   "cell_type": "code",
   "execution_count": 33,
   "metadata": {},
   "outputs": [
    {
     "name": "stdout",
     "output_type": "stream",
     "text": [
      "60511-95.31% tokens in vocab found in glove and copied to embedding.\n"
     ]
    }
   ],
   "source": [
    "# Copy from glove weights of words that appear in index2word\n",
    "count = 0 \n",
    "for i in range(1, VOCAB_SIZE):\n",
    "    w = index2word[i]\n",
    "    g = glove_index_dict.get(w)\n",
    "    if g is None:\n",
    "        w = porter.stem(w)\n",
    "        g = glove_index_dict.get(w)\n",
    "    if g is None:\n",
    "        w = lancaster.stem(w)\n",
    "        g = glove_index_dict.get(w)\n",
    "    if g is not None:\n",
    "        embedding[i, :] = glove_embedding_weights[g, :]\n",
    "        count += 1\n",
    "print('{num_tokens}-{per:.2f}% tokens in vocab found in glove and copied to embedding.'.format(num_tokens=count, per=count/float(VOCAB_SIZE)*100))"
   ]
  },
  {
   "cell_type": "markdown",
   "metadata": {},
   "source": [
    "# Build Dateset"
   ]
  },
  {
   "cell_type": "code",
   "execution_count": 34,
   "metadata": {
    "collapsed": true
   },
   "outputs": [],
   "source": [
    "from keras.preprocessing.sequence import pad_sequences\n",
    "from keras.utils import to_categorical\n",
    "from sklearn.model_selection import train_test_split"
   ]
  },
  {
   "cell_type": "code",
   "execution_count": 35,
   "metadata": {
    "collapsed": true
   },
   "outputs": [],
   "source": [
    "new_sentText = [' '.join(i) for i in sentWords]\n",
    "sentSeq = tokenizer.texts_to_sequences(new_sentText)\n",
    "sentData = pad_sequences(sentSeq, maxlen=MAX_SENT_LEN, padding='post')\n",
    "\n",
    "t_new_sentText = [' '.join(i) for i in t_sentWords]\n",
    "t_sentSeq = tokenizer.texts_to_sequences(t_new_sentText)\n",
    "t_sentData = pad_sequences(t_sentSeq, maxlen=MAX_SENT_LEN, padding='post')\n",
    "\n",
    "replaceDict = dict((j, i+212) for i, j in enumerate(['PAD']+padDict+relationTypes))\n",
    "replaceDict['PAD'] = 0\n",
    "newi_adjacencyList = [[replaceDict[i] if i in replaceDict else i+1 for i in aL] for aL in i_adjacencyList]\n",
    "newi_adjacencyList = pad_sequences(newi_adjacencyList, maxlen=MAX_ADJL_LEN, padding='post')\n",
    "newti_adjacencyList = [[replaceDict[i] if i in replaceDict else i+1 for i in aL] for aL in ti_adjacencyList]\n",
    "newti_adjacencyList = pad_sequences(newti_adjacencyList, maxlen=MAX_ADJL_LEN, padding='post')"
   ]
  },
  {
   "cell_type": "code",
   "execution_count": 36,
   "metadata": {
    "collapsed": true
   },
   "outputs": [],
   "source": [
    "#max(int(i) for aL in i_adjacencyList for i in aL if i not in padDict+relationTypes)"
   ]
  },
  {
   "cell_type": "code",
   "execution_count": 37,
   "metadata": {
    "collapsed": true
   },
   "outputs": [],
   "source": [
    "# Split the data into a training set, a validation set and a test set\n",
    "x_train_all = sentData\n",
    "y_train_all = newi_adjacencyList\n",
    "\n",
    "x_train, x_val, y_train, y_val = train_test_split(x_train_all, y_train_all, test_size=0.15, random_state=SEED)\n",
    "x_train_all, _, y_train_all, _  = train_test_split(x_train_all, y_train_all, test_size=0., random_state=SEED)\n",
    " \n",
    "x_test = t_sentData\n",
    "y_test = newti_adjacencyList\n",
    "\n",
    "x_test, _, y_test, _ = train_test_split(x_test, y_test, test_size=0., random_state=SEED)"
   ]
  },
  {
   "cell_type": "markdown",
   "metadata": {},
   "source": [
    "# Save Dataset"
   ]
  },
  {
   "cell_type": "code",
   "execution_count": 38,
   "metadata": {
    "collapsed": true
   },
   "outputs": [],
   "source": [
    "import h5py\n",
    "import pickle"
   ]
  },
  {
   "cell_type": "code",
   "execution_count": 39,
   "metadata": {
    "collapsed": true
   },
   "outputs": [],
   "source": [
    "fh = h5py.File('/Users/lizhn7/Downloads/DATA/NYT /experiment_2/allData.h5', 'w')\n",
    "fh['x_train'] = x_train\n",
    "fh['y_train'] = y_train\n",
    "fh['x_val'] = x_val\n",
    "fh['y_val'] = y_val\n",
    "fh['x_train_all'] = x_train_all\n",
    "fh['y_train_all'] = y_train_all\n",
    "fh['x_test'] = x_test\n",
    "fh['y_test'] = y_test\n",
    "fh['embedding'] = embedding\n",
    "fh.close()"
   ]
  },
  {
   "cell_type": "code",
   "execution_count": 40,
   "metadata": {
    "collapsed": true
   },
   "outputs": [],
   "source": [
    "with open('/Users/lizhn7/Downloads/DATA/NYT /experiment_2/index.pkl', 'wb') as fp:\n",
    "    pickle.dump((word2index, index2word), fp, -1)"
   ]
  },
  {
   "cell_type": "markdown",
   "metadata": {},
   "source": [
    "# Checkpoint"
   ]
  },
  {
   "cell_type": "code",
   "execution_count": 41,
   "metadata": {
    "collapsed": true
   },
   "outputs": [],
   "source": [
    "import h5py\n",
    "import pickle"
   ]
  },
  {
   "cell_type": "code",
   "execution_count": 42,
   "metadata": {
    "collapsed": true
   },
   "outputs": [],
   "source": [
    "with h5py.File('/Users/lizhn7/Downloads/DATA/NYT /experiment_2/allData.h5', 'r') as fh:\n",
    "    x_train = fh['x_train'][:]\n",
    "    y_train = fh['y_train'][:]\n",
    "    x_val = fh['x_val'][:]\n",
    "    y_val = fh['y_val'][:]\n",
    "    x_train_all = fh['x_train_all'][:]\n",
    "    y_train_all = fh['y_train_all'][:]\n",
    "    x_test = fh['x_test'][:]\n",
    "    y_test = fh['y_test'][:]\n",
    "    embedding = fh['embedding'][:]"
   ]
  },
  {
   "cell_type": "code",
   "execution_count": 43,
   "metadata": {
    "collapsed": true
   },
   "outputs": [],
   "source": [
    "with open('/Users/lizhn7/Downloads/DATA/NYT /experiment_2/index.pkl', 'rb') as fp:\n",
    "    word2index, index2word = pickle.load(fp)"
   ]
  },
  {
   "cell_type": "markdown",
   "metadata": {},
   "source": [
    "# Build Model"
   ]
  },
  {
   "cell_type": "markdown",
   "metadata": {},
   "source": [
    "##  Set Hyperparameters"
   ]
  },
  {
   "cell_type": "code",
   "execution_count": 86,
   "metadata": {
    "collapsed": true
   },
   "outputs": [],
   "source": [
    "MAX_SENT_LEN = 220\n",
    "MAX_ADJL_LEN = 220\n",
    "VOCAB_SIZE = 63491\n",
    "NUM_CLASSES = 240\n",
    "EMBEDDING_SIZE = 300\n",
    "RNN_SIZE = 128\n",
    "DROPOUT_RATE = 0.2\n",
    "\n",
    "NUM_EPOCHS = 256\n",
    "BATCH_SIZE = 64\n",
    "STEPS_PER_EPOCH = 40\n",
    "TEST_STEPS = len(x_test)//BATCH_SIZE+1\n",
    "VALIDATION_STEPS = 8"
   ]
  },
  {
   "cell_type": "code",
   "execution_count": 87,
   "metadata": {},
   "outputs": [
    {
     "name": "stdout",
     "output_type": "stream",
     "text": [
      "NUM_EPOCHS: \t\t256\n",
      "STEPS_PER_EPOCH: \t40\n",
      "TEST_STEPS: \t\t7\n",
      "VALIDATION_STEPS: \t8\n",
      "TRAIN_BATCHES: \t\t10240\n",
      "NUM_BATCHES \t\t882\n"
     ]
    }
   ],
   "source": [
    "print('NUM_EPOCHS: \\t\\t%d' % NUM_EPOCHS)\n",
    "print('STEPS_PER_EPOCH: \\t%d' % STEPS_PER_EPOCH)\n",
    "print('TEST_STEPS: \\t\\t%d' % TEST_STEPS)\n",
    "print('VALIDATION_STEPS: \\t%d' % VALIDATION_STEPS)\n",
    "print('TRAIN_BATCHES: \\t\\t%d' % (NUM_EPOCHS * STEPS_PER_EPOCH))\n",
    "print('NUM_BATCHES \\t\\t%d' % (len(x_train)//BATCH_SIZE+1))"
   ]
  },
  {
   "cell_type": "markdown",
   "metadata": {},
   "source": [
    "## Import Libraries"
   ]
  },
  {
   "cell_type": "code",
   "execution_count": 88,
   "metadata": {
    "collapsed": true
   },
   "outputs": [],
   "source": [
    "from keras.layers import Input, Embedding, Dropout, Bidirectional, LSTM, TimeDistributed, Dense  \n",
    "from keras.models import Model\n",
    "import keras.backend as K\n",
    "from keras.callbacks import*\n",
    "from keras.utils import to_categorical\n",
    "from IPython.display import SVG\n",
    "from keras.utils.vis_utils import model_to_dot\n",
    "import matplotlib.pyplot as plt\n",
    "%matplotlib inline\n",
    "%config InlineBackend.figure_format = 'retina'"
   ]
  },
  {
   "cell_type": "markdown",
   "metadata": {},
   "source": [
    "## Build Graph"
   ]
  },
  {
   "cell_type": "code",
   "execution_count": 89,
   "metadata": {
    "collapsed": true
   },
   "outputs": [],
   "source": [
    "K.clear_session()\n",
    "sequence = Input(shape=(MAX_SENT_LEN,), name='INPUT') \n",
    "emb_seq = Embedding(VOCAB_SIZE, EMBEDDING_SIZE, weights=[embedding], mask_zero=True, input_length=MAX_SENT_LEN, trainable=True, name='EMBEDDING')(sequence)\n",
    "emb_seq = Dropout(DROPOUT_RATE)(emb_seq)\n",
    "blstm = Bidirectional(LSTM(RNN_SIZE, return_sequences=True, implementation=0), merge_mode='concat', name='ENC_BLSTM_1')(emb_seq)\n",
    "blstm = Dropout(DROPOUT_RATE)(blstm)\n",
    "blstm = Bidirectional(LSTM(RNN_SIZE, return_sequences=True, implementation=0), merge_mode='concat', name='ENC_BLSTM_2')(blstm)\n",
    "blstm = Dropout(DROPOUT_RATE)(blstm)\n",
    "lstm = LSTM(RNN_SIZE, return_sequences=True, implementation=0, name='DEC_LSTM')(blstm)\n",
    "lstm = Dropout(DROPOUT_RATE)(lstm)\n",
    "output = TimeDistributed(Dense(NUM_CLASSES, activation='softmax'), name='OUTPUT')(lstm)\n",
    "model = Model(inputs=sequence, outputs=output)\n",
    "model.compile(loss='categorical_crossentropy', optimizer='rmsprop', metrics=['acc'])"
   ]
  },
  {
   "cell_type": "markdown",
   "metadata": {},
   "source": [
    "## Model Visualization"
   ]
  },
  {
   "cell_type": "code",
   "execution_count": 90,
   "metadata": {},
   "outputs": [
    {
     "name": "stdout",
     "output_type": "stream",
     "text": [
      "_________________________________________________________________\n",
      "Layer (type)                 Output Shape              Param #   \n",
      "=================================================================\n",
      "INPUT (InputLayer)           (None, 220)               0         \n",
      "_________________________________________________________________\n",
      "EMBEDDING (Embedding)        (None, 220, 300)          19047300  \n",
      "_________________________________________________________________\n",
      "dropout_1 (Dropout)          (None, 220, 300)          0         \n",
      "_________________________________________________________________\n",
      "ENC_BLSTM_1 (Bidirectional)  (None, 220, 256)          439296    \n",
      "_________________________________________________________________\n",
      "dropout_2 (Dropout)          (None, 220, 256)          0         \n",
      "_________________________________________________________________\n",
      "ENC_BLSTM_2 (Bidirectional)  (None, 220, 256)          394240    \n",
      "_________________________________________________________________\n",
      "dropout_3 (Dropout)          (None, 220, 256)          0         \n",
      "_________________________________________________________________\n",
      "DEC_LSTM (LSTM)              (None, 220, 128)          197120    \n",
      "_________________________________________________________________\n",
      "dropout_4 (Dropout)          (None, 220, 128)          0         \n",
      "_________________________________________________________________\n",
      "OUTPUT (TimeDistributed)     (None, 220, 240)          30960     \n",
      "=================================================================\n",
      "Total params: 20,108,916\n",
      "Trainable params: 20,108,916\n",
      "Non-trainable params: 0\n",
      "_________________________________________________________________\n"
     ]
    },
    {
     "data": {
      "image/svg+xml": [
       "<svg height=\"702pt\" viewBox=\"0.00 0.00 294.26 702.00\" width=\"294pt\" xmlns=\"http://www.w3.org/2000/svg\" xmlns:xlink=\"http://www.w3.org/1999/xlink\">\n",
       "<g class=\"graph\" id=\"graph0\" transform=\"scale(1 1) rotate(0) translate(4 698)\">\n",
       "<title>G</title>\n",
       "<polygon fill=\"#ffffff\" points=\"-4,4 -4,-698 290.2588,-698 290.2588,4 -4,4\" stroke=\"transparent\"/>\n",
       "<!-- 11548288560 -->\n",
       "<g class=\"node\" id=\"node1\">\n",
       "<title>11548288560</title>\n",
       "<polygon fill=\"none\" points=\"80.0762,-657.5 80.0762,-693.5 206.1826,-693.5 206.1826,-657.5 80.0762,-657.5\" stroke=\"#000000\"/>\n",
       "<text fill=\"#000000\" font-family=\"Times,serif\" font-size=\"14.00\" text-anchor=\"middle\" x=\"143.1294\" y=\"-671.3\">INPUT: InputLayer</text>\n",
       "</g>\n",
       "<!-- 11548290912 -->\n",
       "<g class=\"node\" id=\"node2\">\n",
       "<title>11548290912</title>\n",
       "<polygon fill=\"none\" points=\"57.1655,-584.5 57.1655,-620.5 229.0933,-620.5 229.0933,-584.5 57.1655,-584.5\" stroke=\"#000000\"/>\n",
       "<text fill=\"#000000\" font-family=\"Times,serif\" font-size=\"14.00\" text-anchor=\"middle\" x=\"143.1294\" y=\"-598.3\">EMBEDDING: Embedding</text>\n",
       "</g>\n",
       "<!-- 11548288560&#45;&gt;11548290912 -->\n",
       "<g class=\"edge\" id=\"edge1\">\n",
       "<title>11548288560-&gt;11548290912</title>\n",
       "<path d=\"M143.1294,-657.4551C143.1294,-649.3828 143.1294,-639.6764 143.1294,-630.6817\" fill=\"none\" stroke=\"#000000\"/>\n",
       "<polygon fill=\"#000000\" points=\"146.6295,-630.5903 143.1294,-620.5904 139.6295,-630.5904 146.6295,-630.5903\" stroke=\"#000000\"/>\n",
       "</g>\n",
       "<!-- 11548059744 -->\n",
       "<g class=\"node\" id=\"node3\">\n",
       "<title>11548059744</title>\n",
       "<polygon fill=\"none\" points=\"79.3276,-511.5 79.3276,-547.5 206.9312,-547.5 206.9312,-511.5 79.3276,-511.5\" stroke=\"#000000\"/>\n",
       "<text fill=\"#000000\" font-family=\"Times,serif\" font-size=\"14.00\" text-anchor=\"middle\" x=\"143.1294\" y=\"-525.3\">dropout_1: Dropout</text>\n",
       "</g>\n",
       "<!-- 11548290912&#45;&gt;11548059744 -->\n",
       "<g class=\"edge\" id=\"edge2\">\n",
       "<title>11548290912-&gt;11548059744</title>\n",
       "<path d=\"M143.1294,-584.4551C143.1294,-576.3828 143.1294,-566.6764 143.1294,-557.6817\" fill=\"none\" stroke=\"#000000\"/>\n",
       "<polygon fill=\"#000000\" points=\"146.6295,-557.5903 143.1294,-547.5904 139.6295,-557.5904 146.6295,-557.5903\" stroke=\"#000000\"/>\n",
       "</g>\n",
       "<!-- 10373448760 -->\n",
       "<g class=\"node\" id=\"node4\">\n",
       "<title>10373448760</title>\n",
       "<polygon fill=\"none\" points=\"0,-438.5 0,-474.5 286.2588,-474.5 286.2588,-438.5 0,-438.5\" stroke=\"#000000\"/>\n",
       "<text fill=\"#000000\" font-family=\"Times,serif\" font-size=\"14.00\" text-anchor=\"middle\" x=\"143.1294\" y=\"-452.3\">ENC_BLSTM_1(lstm_1): Bidirectional(LSTM)</text>\n",
       "</g>\n",
       "<!-- 11548059744&#45;&gt;10373448760 -->\n",
       "<g class=\"edge\" id=\"edge3\">\n",
       "<title>11548059744-&gt;10373448760</title>\n",
       "<path d=\"M143.1294,-511.4551C143.1294,-503.3828 143.1294,-493.6764 143.1294,-484.6817\" fill=\"none\" stroke=\"#000000\"/>\n",
       "<polygon fill=\"#000000\" points=\"146.6295,-484.5903 143.1294,-474.5904 139.6295,-484.5904 146.6295,-484.5903\" stroke=\"#000000\"/>\n",
       "</g>\n",
       "<!-- 10373493704 -->\n",
       "<g class=\"node\" id=\"node5\">\n",
       "<title>10373493704</title>\n",
       "<polygon fill=\"none\" points=\"79.3276,-365.5 79.3276,-401.5 206.9312,-401.5 206.9312,-365.5 79.3276,-365.5\" stroke=\"#000000\"/>\n",
       "<text fill=\"#000000\" font-family=\"Times,serif\" font-size=\"14.00\" text-anchor=\"middle\" x=\"143.1294\" y=\"-379.3\">dropout_2: Dropout</text>\n",
       "</g>\n",
       "<!-- 10373448760&#45;&gt;10373493704 -->\n",
       "<g class=\"edge\" id=\"edge4\">\n",
       "<title>10373448760-&gt;10373493704</title>\n",
       "<path d=\"M143.1294,-438.4551C143.1294,-430.3828 143.1294,-420.6764 143.1294,-411.6817\" fill=\"none\" stroke=\"#000000\"/>\n",
       "<polygon fill=\"#000000\" points=\"146.6295,-411.5903 143.1294,-401.5904 139.6295,-411.5904 146.6295,-411.5903\" stroke=\"#000000\"/>\n",
       "</g>\n",
       "<!-- 10414881088 -->\n",
       "<g class=\"node\" id=\"node6\">\n",
       "<title>10414881088</title>\n",
       "<polygon fill=\"none\" points=\"0,-292.5 0,-328.5 286.2588,-328.5 286.2588,-292.5 0,-292.5\" stroke=\"#000000\"/>\n",
       "<text fill=\"#000000\" font-family=\"Times,serif\" font-size=\"14.00\" text-anchor=\"middle\" x=\"143.1294\" y=\"-306.3\">ENC_BLSTM_2(lstm_2): Bidirectional(LSTM)</text>\n",
       "</g>\n",
       "<!-- 10373493704&#45;&gt;10414881088 -->\n",
       "<g class=\"edge\" id=\"edge5\">\n",
       "<title>10373493704-&gt;10414881088</title>\n",
       "<path d=\"M143.1294,-365.4551C143.1294,-357.3828 143.1294,-347.6764 143.1294,-338.6817\" fill=\"none\" stroke=\"#000000\"/>\n",
       "<polygon fill=\"#000000\" points=\"146.6295,-338.5903 143.1294,-328.5904 139.6295,-338.5904 146.6295,-338.5903\" stroke=\"#000000\"/>\n",
       "</g>\n",
       "<!-- 10373618656 -->\n",
       "<g class=\"node\" id=\"node7\">\n",
       "<title>10373618656</title>\n",
       "<polygon fill=\"none\" points=\"79.3276,-219.5 79.3276,-255.5 206.9312,-255.5 206.9312,-219.5 79.3276,-219.5\" stroke=\"#000000\"/>\n",
       "<text fill=\"#000000\" font-family=\"Times,serif\" font-size=\"14.00\" text-anchor=\"middle\" x=\"143.1294\" y=\"-233.3\">dropout_3: Dropout</text>\n",
       "</g>\n",
       "<!-- 10414881088&#45;&gt;10373618656 -->\n",
       "<g class=\"edge\" id=\"edge6\">\n",
       "<title>10414881088-&gt;10373618656</title>\n",
       "<path d=\"M143.1294,-292.4551C143.1294,-284.3828 143.1294,-274.6764 143.1294,-265.6817\" fill=\"none\" stroke=\"#000000\"/>\n",
       "<polygon fill=\"#000000\" points=\"146.6295,-265.5903 143.1294,-255.5904 139.6295,-265.5904 146.6295,-265.5903\" stroke=\"#000000\"/>\n",
       "</g>\n",
       "<!-- 11147843512 -->\n",
       "<g class=\"node\" id=\"node8\">\n",
       "<title>11147843512</title>\n",
       "<polygon fill=\"none\" points=\"76.5967,-146.5 76.5967,-182.5 209.6621,-182.5 209.6621,-146.5 76.5967,-146.5\" stroke=\"#000000\"/>\n",
       "<text fill=\"#000000\" font-family=\"Times,serif\" font-size=\"14.00\" text-anchor=\"middle\" x=\"143.1294\" y=\"-160.3\">DEC_LSTM: LSTM</text>\n",
       "</g>\n",
       "<!-- 10373618656&#45;&gt;11147843512 -->\n",
       "<g class=\"edge\" id=\"edge7\">\n",
       "<title>10373618656-&gt;11147843512</title>\n",
       "<path d=\"M143.1294,-219.4551C143.1294,-211.3828 143.1294,-201.6764 143.1294,-192.6817\" fill=\"none\" stroke=\"#000000\"/>\n",
       "<polygon fill=\"#000000\" points=\"146.6295,-192.5903 143.1294,-182.5904 139.6295,-192.5904 146.6295,-192.5903\" stroke=\"#000000\"/>\n",
       "</g>\n",
       "<!-- 11148153464 -->\n",
       "<g class=\"node\" id=\"node9\">\n",
       "<title>11148153464</title>\n",
       "<polygon fill=\"none\" points=\"79.3276,-73.5 79.3276,-109.5 206.9312,-109.5 206.9312,-73.5 79.3276,-73.5\" stroke=\"#000000\"/>\n",
       "<text fill=\"#000000\" font-family=\"Times,serif\" font-size=\"14.00\" text-anchor=\"middle\" x=\"143.1294\" y=\"-87.3\">dropout_4: Dropout</text>\n",
       "</g>\n",
       "<!-- 11147843512&#45;&gt;11148153464 -->\n",
       "<g class=\"edge\" id=\"edge8\">\n",
       "<title>11147843512-&gt;11148153464</title>\n",
       "<path d=\"M143.1294,-146.4551C143.1294,-138.3828 143.1294,-128.6764 143.1294,-119.6817\" fill=\"none\" stroke=\"#000000\"/>\n",
       "<polygon fill=\"#000000\" points=\"146.6295,-119.5903 143.1294,-109.5904 139.6295,-119.5904 146.6295,-119.5903\" stroke=\"#000000\"/>\n",
       "</g>\n",
       "<!-- 11414736736 -->\n",
       "<g class=\"node\" id=\"node10\">\n",
       "<title>11414736736</title>\n",
       "<polygon fill=\"none\" points=\"8.1655,-.5 8.1655,-36.5 278.0933,-36.5 278.0933,-.5 8.1655,-.5\" stroke=\"#000000\"/>\n",
       "<text fill=\"#000000\" font-family=\"Times,serif\" font-size=\"14.00\" text-anchor=\"middle\" x=\"143.1294\" y=\"-14.3\">OUTPUT(dense_1): TimeDistributed(Dense)</text>\n",
       "</g>\n",
       "<!-- 11148153464&#45;&gt;11414736736 -->\n",
       "<g class=\"edge\" id=\"edge9\">\n",
       "<title>11148153464-&gt;11414736736</title>\n",
       "<path d=\"M143.1294,-73.4551C143.1294,-65.3828 143.1294,-55.6764 143.1294,-46.6817\" fill=\"none\" stroke=\"#000000\"/>\n",
       "<polygon fill=\"#000000\" points=\"146.6295,-46.5903 143.1294,-36.5904 139.6295,-46.5904 146.6295,-46.5903\" stroke=\"#000000\"/>\n",
       "</g>\n",
       "</g>\n",
       "</svg>"
      ],
      "text/plain": [
       "<IPython.core.display.SVG object>"
      ]
     },
     "execution_count": 90,
     "metadata": {},
     "output_type": "execute_result"
    }
   ],
   "source": [
    "model.summary()\n",
    "SVG(model_to_dot(model).create(prog='dot', format='svg'))"
   ]
  },
  {
   "cell_type": "markdown",
   "metadata": {},
   "source": [
    "## Train"
   ]
  },
  {
   "cell_type": "code",
   "execution_count": 91,
   "metadata": {
    "collapsed": true
   },
   "outputs": [],
   "source": [
    "def gen_label(s):\n",
    "    \"\"\"\n",
    "    One-hot encoding\n",
    "    \"\"\"\n",
    "    gen = to_categorical(s, num_classes=NUM_CLASSES)\n",
    "    return gen\n",
    "\n",
    "def data_generator_all(data, label, batch_size):\n",
    "    \"\"\"\n",
    "    Yield batches of all data\n",
    "    \"\"\"\n",
    "    count = 0\n",
    "    while True:\n",
    "        if count >= len(data): \n",
    "            count = 0\n",
    "        x = np.zeros((batch_size, MAX_SENT_LEN))\n",
    "        y = np.zeros((batch_size, MAX_ADJL_LEN, NUM_CLASSES))\n",
    "        for i in range(batch_size):\n",
    "            n = i + count\n",
    "            if n > len(data)-1:\n",
    "                break\n",
    "            x[i, :] = data[n]\n",
    "            y[i, :, :] = gen_label(label[n])\n",
    "        count += batch_size\n",
    "        yield (x, y)\n",
    "        \n",
    "def data_generator(data, label, batch_size): \n",
    "    \"\"\"\n",
    "    Yield batches \n",
    "    \"\"\"\n",
    "    index = np.arange(len(data))\n",
    "    np.random.shuffle(index)    \n",
    "    batches = [index[range(batch_size*i, min(len(data), batch_size*(i+1)))] for i in range(len(data)//batch_size)]\n",
    "    while True:\n",
    "        for i in batches:\n",
    "            x, y = data[i], np.array(list(map(gen_label, label[i])))\n",
    "            yield (x, y)"
   ]
  },
  {
   "cell_type": "code",
   "execution_count": 92,
   "metadata": {
    "collapsed": true
   },
   "outputs": [],
   "source": [
    "gen_train_all = data_generator(x_train_all, y_train_all, BATCH_SIZE)\n",
    "gen_test = data_generator_all(x_test, y_test, BATCH_SIZE)\n",
    "gen_train = data_generator(x_train, y_train, BATCH_SIZE)\n",
    "gen_val = data_generator(x_val, y_val, BATCH_SIZE)"
   ]
  },
  {
   "cell_type": "code",
   "execution_count": 93,
   "metadata": {
    "collapsed": true
   },
   "outputs": [],
   "source": [
    "# Continue Trian\n",
    "# filename = 'cp_logs/.hdf5'\n",
    "# model.load_weights(filename)\n",
    "# model.compile(loss='categorical_crossentropy', optimizer='rmsprop', metrics=['acc'])"
   ]
  },
  {
   "cell_type": "code",
   "execution_count": 94,
   "metadata": {
    "collapsed": true
   },
   "outputs": [],
   "source": [
    "filepath = 'cp_logs/weights.{epoch:03d}-{val_loss:.6f}.hdf5'\n",
    "log_string = 'tb_logs/simple'\n",
    "checkpoint = ModelCheckpoint(filepath, monitor='val_loss', verbose=1, save_best_only=True)\n",
    "tensorboard = TensorBoard(log_dir=log_string, histogram_freq=1, write_graph=False, write_images=True, embeddings_freq=1) \n",
    "#earlystop = EarlyStopping(monitor='val_loss', verbose=1, patience=1)"
   ]
  },
  {
   "cell_type": "code",
   "execution_count": null,
   "metadata": {},
   "outputs": [
    {
     "name": "stdout",
     "output_type": "stream",
     "text": [
      "Epoch 1/256\n",
      "40/40 [==============================] - 279s - loss: 2.2665 - acc: 0.5603 - val_loss: 1.6888 - val_acc: 0.6384\n",
      "Epoch 2/256\n",
      "40/40 [==============================] - 264s - loss: 1.8471 - acc: 0.5930 - val_loss: 1.6406 - val_acc: 0.6396\n",
      "Epoch 3/256\n",
      "40/40 [==============================] - 261s - loss: 1.8418 - acc: 0.5895 - val_loss: 1.6038 - val_acc: 0.6374\n",
      "Epoch 4/256\n",
      "40/40 [==============================] - 260s - loss: 1.7630 - acc: 0.6023 - val_loss: 1.5892 - val_acc: 0.6406\n",
      "Epoch 5/256\n",
      "40/40 [==============================] - 261s - loss: 1.7471 - acc: 0.6020 - val_loss: 1.5828 - val_acc: 0.6456\n",
      "Epoch 6/256\n",
      "40/40 [==============================] - 261s - loss: 1.7423 - acc: 0.6032 - val_loss: 1.6546 - val_acc: 0.6185\n",
      "Epoch 7/256\n",
      "40/40 [==============================] - 260s - loss: 1.7288 - acc: 0.6012 - val_loss: 1.5113 - val_acc: 0.6536\n",
      "Epoch 8/256\n",
      "40/40 [==============================] - 261s - loss: 1.7141 - acc: 0.6045 - val_loss: 1.5086 - val_acc: 0.6488\n",
      "Epoch 9/256\n",
      "40/40 [==============================] - 260s - loss: 1.6845 - acc: 0.6076 - val_loss: 1.5035 - val_acc: 0.6514\n",
      "Epoch 10/256\n",
      "40/40 [==============================] - 261s - loss: 1.6823 - acc: 0.6038 - val_loss: 1.4447 - val_acc: 0.6565\n",
      "Epoch 11/256\n",
      "40/40 [==============================] - 261s - loss: 1.6296 - acc: 0.6123 - val_loss: 1.4253 - val_acc: 0.6595\n",
      "Epoch 12/256\n",
      "40/40 [==============================] - 260s - loss: 1.6321 - acc: 0.6117 - val_loss: 1.4646 - val_acc: 0.6487\n",
      "Epoch 13/256\n",
      "40/40 [==============================] - 261s - loss: 1.6083 - acc: 0.6149 - val_loss: 1.4631 - val_acc: 0.6563\n",
      "Epoch 14/256\n",
      "40/40 [==============================] - 263s - loss: 1.6531 - acc: 0.6043 - val_loss: 1.4033 - val_acc: 0.6607\n",
      "Epoch 15/256\n",
      "40/40 [==============================] - 283s - loss: 1.6460 - acc: 0.6049 - val_loss: 1.4292 - val_acc: 0.6506\n",
      "Epoch 16/256\n",
      "40/40 [==============================] - 286s - loss: 1.6172 - acc: 0.6079 - val_loss: 1.4250 - val_acc: 0.6438\n",
      "Epoch 17/256\n",
      "40/40 [==============================] - 284s - loss: 1.5986 - acc: 0.6110 - val_loss: 1.4903 - val_acc: 0.6432\n",
      "Epoch 18/256\n",
      "40/40 [==============================] - 285s - loss: 1.5695 - acc: 0.6140 - val_loss: 1.4030 - val_acc: 0.6486\n",
      "Epoch 19/256\n",
      "40/40 [==============================] - 285s - loss: 1.5648 - acc: 0.6158 - val_loss: 1.4450 - val_acc: 0.6420\n",
      "Epoch 20/256\n",
      "40/40 [==============================] - 287s - loss: 1.5538 - acc: 0.6118 - val_loss: 1.3747 - val_acc: 0.6525\n",
      "Epoch 21/256\n",
      "40/40 [==============================] - 289s - loss: 1.5456 - acc: 0.6175 - val_loss: 1.3765 - val_acc: 0.6512\n",
      "Epoch 22/256\n",
      "40/40 [==============================] - 283s - loss: 1.5307 - acc: 0.6200 - val_loss: 1.4220 - val_acc: 0.6370\n",
      "Epoch 23/256\n",
      "40/40 [==============================] - 286s - loss: 1.5684 - acc: 0.6108 - val_loss: 1.3903 - val_acc: 0.6476\n",
      "Epoch 24/256\n",
      "40/40 [==============================] - 285s - loss: 1.5353 - acc: 0.6159 - val_loss: 1.3637 - val_acc: 0.6459\n",
      "Epoch 25/256\n",
      "40/40 [==============================] - 284s - loss: 1.5186 - acc: 0.6194 - val_loss: 1.3536 - val_acc: 0.6507\n",
      "Epoch 26/256\n",
      "40/40 [==============================] - 284s - loss: 1.5182 - acc: 0.6163 - val_loss: 1.3457 - val_acc: 0.6545\n",
      "Epoch 27/256\n",
      "18/40 [============>.................] - ETA: 165s - loss: 1.4738 - acc: 0.6250"
     ]
    }
   ],
   "source": [
    "history = model.fit_generator(gen_train_all, \n",
    "                              steps_per_epoch=STEPS_PER_EPOCH, \n",
    "                              epochs=NUM_EPOCHS, \n",
    "                              validation_data=gen_test, \n",
    "                              validation_steps=VALIDATION_STEPS,\n",
    "                              verbose=1)\n",
    "                              #callbacks=[checkpoint, tensorboard, earlystop])"
   ]
  },
  {
   "cell_type": "markdown",
   "metadata": {},
   "source": [
    "# Evaluate"
   ]
  },
  {
   "cell_type": "code",
   "execution_count": null,
   "metadata": {
    "collapsed": true
   },
   "outputs": [],
   "source": [
    "filename = '/Users/lizhn7/Downloads/weights.079-2.091960.hdf5'\n",
    "model.load_weights(filename)"
   ]
  },
  {
   "cell_type": "code",
   "execution_count": null,
   "metadata": {
    "collapsed": true
   },
   "outputs": [],
   "source": [
    "result = np.argmax(model.predict(x_val, batch_size=BATCH_SIZE, verbose=1), -1)"
   ]
  },
  {
   "cell_type": "code",
   "execution_count": null,
   "metadata": {
    "collapsed": true
   },
   "outputs": [],
   "source": [
    "result.shape"
   ]
  },
  {
   "cell_type": "code",
   "execution_count": null,
   "metadata": {
    "collapsed": true
   },
   "outputs": [],
   "source": [
    "y_val.shape"
   ]
  },
  {
   "cell_type": "code",
   "execution_count": null,
   "metadata": {
    "collapsed": true
   },
   "outputs": [],
   "source": [
    "adjlResult = [' '.join([index2word[i] for i in sent if i != 0]) for sent in result]\n",
    "actResult = [' '.join([index2word[i] for i in sent if i != 0]) for sent in y_val]\n",
    "for i in range(395):\n",
    "    print(actResult[i])\n",
    "    print(adjlResult[i])\n",
    "    print('---')"
   ]
  },
  {
   "cell_type": "code",
   "execution_count": null,
   "metadata": {
    "collapsed": true
   },
   "outputs": [],
   "source": [
    "def predict_data(data, batch_size):\n",
    "   \"\"\"\n",
    "    输出预测结果（原始数据，未整理）\n",
    "    \"\"\"\n",
    "    data = np.array(data)\n",
    "    batches = [range(batch_size*i, min(len(data), batch_size*(i+1))) for i in range(len(data)//batch_size)]\n",
    "    p = model.predict(np.array(list(map(gen_x, data[batches[0]]))), verbose=1)\n",
    "    for i in batches[1:]:\n",
    "        print(min(i), 'done.')\n",
    "        p = np.vstack((p, model.predict(np.array(list(map(gen_x, data[i]))), verbose=1)))\n",
    "    return p"
   ]
  }
 ],
 "metadata": {
  "kernelspec": {
   "display_name": "Python 3",
   "language": "python",
   "name": "python3"
  },
  "language_info": {
   "codemirror_mode": {
    "name": "ipython",
    "version": 3
   },
   "file_extension": ".py",
   "mimetype": "text/x-python",
   "name": "python",
   "nbconvert_exporter": "python",
   "pygments_lexer": "ipython3",
   "version": "3.6.2"
  },
  "toc": {
   "colors": {
    "hover_highlight": "#DAA520",
    "navigate_num": "#000000",
    "navigate_text": "#333333",
    "running_highlight": "#FF0000",
    "selected_highlight": "#FFD700",
    "sidebar_border": "#EEEEEE",
    "wrapper_background": "#FFFFFF"
   },
   "moveMenuLeft": true,
   "nav_menu": {
    "height": "84px",
    "width": "252px"
   },
   "navigate_menu": true,
   "number_sections": true,
   "sideBar": true,
   "threshold": 4,
   "toc_cell": true,
   "toc_section_display": "block",
   "toc_window_display": false,
   "widenNotebook": false
  }
 },
 "nbformat": 4,
 "nbformat_minor": 2
}
