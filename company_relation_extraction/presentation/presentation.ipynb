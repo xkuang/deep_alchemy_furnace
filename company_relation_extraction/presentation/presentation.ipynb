{
 "cells": [
  {
   "cell_type": "markdown",
   "metadata": {
    "slideshow": {
     "slide_type": "skip"
    },
    "toc": "true"
   },
   "source": [
    "# Table of Contents\n",
    " <p><div class=\"lev1 toc-item\"><a href=\"#公司实体关系定义\" data-toc-modified-id=\"公司实体关系定义-1\"><span class=\"toc-item-num\">1&nbsp;&nbsp;</span>公司实体关系定义</a></div><div class=\"lev1 toc-item\"><a href=\"#标注示例\" data-toc-modified-id=\"标注示例-2\"><span class=\"toc-item-num\">2&nbsp;&nbsp;</span>标注示例</a></div><div class=\"lev1 toc-item\"><a href=\"#怎么做？\" data-toc-modified-id=\"怎么做？-3\"><span class=\"toc-item-num\">3&nbsp;&nbsp;</span>怎么做？</a></div><div class=\"lev1 toc-item\"><a href=\"#模型\" data-toc-modified-id=\"模型-4\"><span class=\"toc-item-num\">4&nbsp;&nbsp;</span>模型</a></div><div class=\"lev1 toc-item\"><a href=\"#请老师和同学批评指正！谢谢-！\" data-toc-modified-id=\"请老师和同学批评指正！谢谢-！-5\"><span class=\"toc-item-num\">5&nbsp;&nbsp;</span>请老师和同学批评指正！谢谢 ！</a></div>"
   ]
  },
  {
   "cell_type": "markdown",
   "metadata": {
    "slideshow": {
     "slide_type": "slide"
    }
   },
   "source": [
    "<h1 align=\"center\">公司实体关系定义</h1>"
   ]
  },
  {
   "cell_type": "markdown",
   "metadata": {
    "slideshow": {
     "slide_type": "subslide"
    }
   },
   "source": [
    "- 公司实体间的关系可以用三元组（实体1，关系$r$，实体2）来描述，关系集合 $R$ 采用平行的关系体系，即$\\forall r_{1}\\in R$，$\\forall r_{2}\\in R$，$r_{1}$与$r_{2}$之间不存在互相包含的情况。"
   ]
  },
  {
   "cell_type": "markdown",
   "metadata": {
    "slideshow": {
     "slide_type": "subslide"
    }
   },
   "source": [
    "- 关系集合\n",
    "    1. 买卖\n",
    "    2. 从属\n",
    "    3. 合并\n",
    "    4. 合作\n",
    "    5. 竞争\n",
    "    6. 全简称"
   ]
  },
  {
   "cell_type": "markdown",
   "metadata": {
    "slideshow": {
     "slide_type": "subslide"
    }
   },
   "source": [
    "- 买卖       \n",
    "                                        \n",
    "     财经新闻中比较常见的商业行为，包括公司之间的收购、转让，公司股票之间的增持、减持、买进卖出等。需要注意的是公司之间买卖的媒介工具包括金钱及股票等，通过股票或股权进行的商业活动也被归为买卖行为。"
   ]
  },
  {
   "cell_type": "markdown",
   "metadata": {
    "slideshow": {
     "slide_type": "subslide"
    }
   },
   "source": [
    "- 从属\n",
    "\n",
    "     即A公司是B公司的子公司等情况。在实际的商业活动中，很多行为都是由子公司出面进行的，如：“万方发展1日晚间公告，公司参股子公司成都义幻医疗科技有限公司与腾讯云计算(北京)有限责任公司签订了《战略合作协议》”，由于“成都义幻医疗科技有限公司”是“万方发展”的参股子公司，便可推出“万方发展”和“腾讯云计算”是合作的关系。可见，从属关系对于更为深层次的关系研究有着重要的意义。"
   ]
  },
  {
   "cell_type": "markdown",
   "metadata": {
    "slideshow": {
     "slide_type": "subslide"
    }
   },
   "source": [
    "- 合并\n",
    "    \n",
    "     合并是指两个企业组成一个新的实体，原企业不以法律实体形式继续存在的情况。例如A公司与B公司合并成为C公司。注意合并和收购是不同的概念。后者是属于买卖大类的情况。合并包括吸收合并以及新设合并，吸收合并是指A公司将B公司吸收后，B公司解散，新设合并是指AB两家公司各方解散成立新公司。本定义中吸收合并与新设合并均计入合并大类。"
   ]
  },
  {
   "cell_type": "markdown",
   "metadata": {
    "slideshow": {
     "slide_type": "subslide"
    }
   },
   "source": [
    "- 合作\n",
    "\n",
    "     公司之间的合作是指公司间通过协议、签约或其他联合方式共同进行商业活动的一种关系。"
   ]
  },
  {
   "cell_type": "markdown",
   "metadata": {
    "slideshow": {
     "slide_type": "subslide"
    }
   },
   "source": [
    "- 竞争\n",
    "\n",
    "     公司之间的竞争关系是指公司间采取力图胜过或压倒对方的商业行为活动而产生的关系。"
   ]
  },
  {
   "cell_type": "markdown",
   "metadata": {
    "slideshow": {
     "slide_type": "subslide"
    }
   },
   "source": [
    "- 一些目标关系常用的表达词汇：\n",
    "    \n",
    "    **1. 买卖：**\n",
    "             \n",
    "    收购、认购、购买股份、支付、参股、入股、融资、股权、持股、股权转让、受让、增持、减持、增股、增资、股东、注资、投资、购得、购入、买进、买入、赎买、购销、抛售、售卖、转售、租赁、贷款\n",
    "    \n",
    "    **2. 从属：**\n",
    "    \n",
    "    控股、股东、控股子公司、非全资附属公司、间接全资附属公司、下属、子公司、拥有、旗下、经营、托管、掌管、控制、所属、附属、隶属、直属、属于\n",
    "    \n",
    "    **3. 合并：**\n",
    "    \n",
    "    组合、并购、并轨、吞并、归并、合并、融合、合股、合资、兼并\n",
    "    \n",
    "    **4. 合作：**\n",
    "    \n",
    "    合营、共同、合作、联合、中外合资、协作、合办、联营、合股、合伙、联手、共享、共用、合用、提供技术支持、上市辅导、配售代理、达成协议             \n",
    "    \n",
    "    **5. 竞争：**\n",
    "    \n",
    "    竞拍、竞购、竞买、争端、博弈、互怼、大战、沽空、纠纷"
   ]
  },
  {
   "cell_type": "markdown",
   "metadata": {
    "slideshow": {
     "slide_type": "slide"
    }
   },
   "source": [
    "<h1 align=\"center\">标注示例</h1>"
   ]
  },
  {
   "cell_type": "markdown",
   "metadata": {
    "slideshow": {
     "slide_type": "subslide"
    }
   },
   "source": [
    "- 财经新闻摘要\n",
    "\n",
    " 【东富龙：向迪安诊断转让重庆产研院股权】东富龙(300171)6月1日晚公告，公司下属全资子公司东富龙医疗与迪安诊断(300244)签署股权转让协议，约定东富龙医疗以5035万元，向迪安诊断转让重庆精准医疗产业技术研究院有限公司(简称重庆产研院)100%股权。（证券时报网）\n",
    " \n",
    "**1. 将新闻中出现的公司实体按出现次序列出**\n",
    "\n",
    " （东富龙，迪安诊断，重庆产研院，东富龙医疗，重庆精准医疗产业技术研究院有限公司）"
   ]
  },
  {
   "cell_type": "markdown",
   "metadata": {
    "slideshow": {
     "slide_type": "subslide"
    }
   },
   "source": [
    "- 财经新闻摘要\n",
    "\n",
    " 【东富龙：向迪安诊断转让重庆产研院股权】东富龙(300171)6月1日晚公告，公司下属全资子公司东富龙医疗与迪安诊断(300244)签署股权转让协议，约定东富龙医疗以5035万元，向迪安诊断转让重庆精准医疗产业技术研究院有限公司(简称重庆产研院)100%股权。（证券时报网）\n",
    " \n",
    "**2. 然后将实体全排列两两组成一对（使其符合三元组的描述方式），并按照以下标注规则，标注相对关系**\n",
    "![alt text](https://raw.githubusercontent.com/Das-Boot/original/master/公司实体识别与关系抽取/屏幕快照%202017-07-19%20上午5.51.16.png)"
   ]
  },
  {
   "cell_type": "markdown",
   "metadata": {
    "slideshow": {
     "slide_type": "subslide"
    }
   },
   "source": [
    "- 财经新闻摘要\n",
    "\n",
    " 【东富龙：向迪安诊断转让重庆产研院股权】东富龙(300171)6月1日晚公告，公司下属全资子公司东富龙医疗与迪安诊断(300244)签署股权转让协议，约定东富龙医疗以5035万元，向迪安诊断转让重庆精准医疗产业技术研究院有限公司(简称重庆产研院)100%股权。（证券时报网）\n",
    " \n",
    "**3. 最终拆分结果为：（数字为实体间关系对应标签）**\n",
    "![alt text](https://raw.githubusercontent.com/Das-Boot/original/master/公司实体识别与关系抽取/屏幕快照%202017-07-19%20上午5.51.23.png)"
   ]
  },
  {
   "cell_type": "markdown",
   "metadata": {
    "slideshow": {
     "slide_type": "subslide"
    }
   },
   "source": [
    "- 一个完整的标注示例如下所示。\n",
    "\n",
    "```json\n",
    "{\"abstract\": \"【东富龙：向迪安诊断转让重庆产研院股权】东富龙(300171)6月1日晚公告，公司下属全资子公司东富龙医疗与迪安诊断(300244)签署股权转让协议，约定东富龙医疗以5035万元，向迪安诊断转让重庆精准医疗产业技术研究院有限公司(简称重庆产研院)100%股权。（证券时报网）\", \"eneity\": [\"东富龙\", \"迪安诊断\", \"重庆产研院\", \"东富龙医疗\", \"重庆精准医疗产业技术研究院有限公司\"], \"relation\": \"31512525141943111491\"}\n",
    "```\n",
    "    \n",
    " 其中“abstract”代表爬取的财经新闻摘要，”entity“代表公司实体，”relation“代表公司实体间的关系。"
   ]
  },
  {
   "cell_type": "markdown",
   "metadata": {
    "slideshow": {
     "slide_type": "slide"
    }
   },
   "source": [
    "<h1 align=\"center\">怎么做？</h1>"
   ]
  },
  {
   "cell_type": "markdown",
   "metadata": {
    "slideshow": {
     "slide_type": "subslide"
    }
   },
   "source": [
    "**Pipelined manner**\n",
    "- 先 **name entity recognition (NER)**，后 **relations classification (RC)**\n",
    "- 子任务易处理，更灵活\n",
    "- 忽视了二者的相关性，且易产生级联错误\n",
    "\n",
    "**Joint learning model**\n",
    "- 一起学"
   ]
  },
  {
   "cell_type": "markdown",
   "metadata": {
    "slideshow": {
     "slide_type": "subslide"
    }
   },
   "source": [
    "- 转化为序列标注问题\n",
    "    \n",
    "  示例\n",
    "    \n",
    "  **财经新闻摘要** \n",
    "          \n",
    "     \"子公司战略携手腾讯云计算， 使得万方发展在6月2日开盘后不久涨停，报11.68元。万方发展1日晚间公告，公司参股子公司成都义幻医疗科技有限公司与腾讯云计算(北京)有限责任公司签订了《战略合作协议》，就产业互联网、医疗云解决方案等相关领域展开深度合作。\"\n",
    "     \n",
    "  **公司实体**\n",
    "  \n",
    "  `[\"腾讯云计算\", \"万方发展\", \"成都义幻医疗科技有限公司\", \"腾讯云计算(北京)有限责任公司\"]`\n",
    "          \n",
    "  **分词结果**\n",
    "          \n",
    "     `子公司/战略/携手/腾讯/云/计算/ / /使得/万方/发展/在/6/月/2/日/开盘/后/不久/涨停/ /报/11/./68/元/ /万方/发展/1/日/晚间/公告/ /公司/参股/子公司/成都/义/幻/医疗/科技/有限公司/与/腾讯/云/计算/(/北京/)/有限责任/公司/签订/了/《/战略合作协议/》/ /就/产业/互联网/ /医疗/云/解决方案/等/相关/领域/展开/深度/合作/`\n",
    "          \n",
    "  **实体标签序列**\n",
    "  \n",
    "  `[0, 0, 0, 2, 3, 4, 0, 0, 0, 2, 4, 0, 0, 0, 0, 0, 0, 0, 0, 0, 0, 0, 0, 0, 0, 0, 0, 2, 4, 0, 0, 0, 0, 0, 0, 0, 0, 2, 3, 3, 3, 3, 4, 0, 2, 3, 3, 3, 3, 3, 3, 4, 0, 0, 0, 0, 0, 0, 0, 0, 0, 0, 0, 0, 0, 0, 0, 0, 0, 0, 0, 0]`\n",
    "  \n",
    "  **关系标签序列**\n",
    "  \n",
    "  `[7, 7, 9, 7, 5, 7, 7, 4, 7, 9, 7, 7]`"
   ]
  },
  {
   "cell_type": "markdown",
   "metadata": {
    "slideshow": {
     "slide_type": "slide"
    }
   },
   "source": [
    "<h1 align=\"center\">模型</h1>"
   ]
  },
  {
   "cell_type": "markdown",
   "metadata": {
    "slideshow": {
     "slide_type": "subslide"
    }
   },
   "source": [
    "- **Joint Learning Model**\n",
    "![alt text](https://raw.githubusercontent.com/Das-Boot/original/master/公司实体识别与关系抽取/model.png)"
   ]
  },
  {
   "cell_type": "markdown",
   "metadata": {
    "slideshow": {
     "slide_type": "subslide"
    }
   },
   "source": [
    "- **Relation Classification Model**\n",
    "![alt text](https://raw.githubusercontent.com/Das-Boot/original/master/公司实体识别与关系抽取/model2.png)"
   ]
  },
  {
   "cell_type": "markdown",
   "metadata": {
    "slideshow": {
     "slide_type": "slide"
    }
   },
   "source": [
    "<h1 align=\"center\">请老师和同学批评指正！谢谢 ！</h1>"
   ]
  }
 ],
 "metadata": {
  "celltoolbar": "Slideshow",
  "kernelspec": {
   "display_name": "Python 3",
   "language": "python",
   "name": "python3"
  },
  "language_info": {
   "codemirror_mode": {
    "name": "ipython",
    "version": 3
   },
   "file_extension": ".py",
   "mimetype": "text/x-python",
   "name": "python",
   "nbconvert_exporter": "python",
   "pygments_lexer": "ipython3",
   "version": "3.6.1"
  },
  "toc": {
   "colors": {
    "hover_highlight": "#DAA520",
    "navigate_num": "#000000",
    "navigate_text": "#333333",
    "running_highlight": "#FF0000",
    "selected_highlight": "#FFD700",
    "sidebar_border": "#EEEEEE",
    "wrapper_background": "#FFFFFF"
   },
   "moveMenuLeft": true,
   "nav_menu": {
    "height": "30px",
    "width": "252px"
   },
   "navigate_menu": true,
   "number_sections": true,
   "sideBar": true,
   "threshold": 4,
   "toc_cell": true,
   "toc_position": {
    "height": "814px",
    "left": "0px",
    "right": "auto",
    "top": "106px",
    "width": "212px"
   },
   "toc_section_display": "block",
   "toc_window_display": false,
   "widenNotebook": false
  }
 },
 "nbformat": 4,
 "nbformat_minor": 2
}
